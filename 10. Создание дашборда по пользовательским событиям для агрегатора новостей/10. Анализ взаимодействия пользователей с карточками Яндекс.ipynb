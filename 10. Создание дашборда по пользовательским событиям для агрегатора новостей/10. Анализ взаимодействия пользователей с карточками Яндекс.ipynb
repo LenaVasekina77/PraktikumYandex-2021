{
 "cells": [
  {
   "cell_type": "code",
   "execution_count": 1,
   "id": "1b118d6c",
   "metadata": {},
   "outputs": [],
   "source": [
    "# импортируем библиотеки\n",
    "import pandas as pd\n",
    "from sqlalchemy import create_engine\n",
    "from pandas.io import sql\n",
    "import sqlite3\n",
    "\n",
    "db_config = {'user': 'praktikum_student', # имя пользователя\n",
    "            'pwd': 'Sdf4$2;d-d30pp', # пароль\n",
    "            'host': 'rc1b-wcoijxj3yxfsf3fs.mdb.yandexcloud.net',\n",
    "            'port': 6432, # порт подключения\n",
    "            'db': 'data-analyst-zen-project-db'} # название базы данных\n",
    "\n",
    "connection_string = 'postgresql://{}:{}@{}:{}/{}'.format(db_config['user'],\n",
    "                                                db_config['pwd'],\n",
    "                                                db_config['host'],\n",
    "                                                db_config['port'],\n",
    "                                                db_config['db'])\n",
    "\n",
    "engine = create_engine(connection_string) \n"
   ]
  },
  {
   "cell_type": "code",
   "execution_count": 2,
   "id": "a1f07211",
   "metadata": {},
   "outputs": [],
   "source": [
    "\n",
    "query = ''' SELECT *\n",
    "            FROM dash_visits\n",
    "        '''\n",
    "\n",
    "dash_visits = pd.io.sql.read_sql(query, con = engine) \n"
   ]
  },
  {
   "cell_type": "code",
   "execution_count": 3,
   "id": "dc700f0a",
   "metadata": {},
   "outputs": [
    {
     "data": {
      "text/html": [
       "<div>\n",
       "<style scoped>\n",
       "    .dataframe tbody tr th:only-of-type {\n",
       "        vertical-align: middle;\n",
       "    }\n",
       "\n",
       "    .dataframe tbody tr th {\n",
       "        vertical-align: top;\n",
       "    }\n",
       "\n",
       "    .dataframe thead th {\n",
       "        text-align: right;\n",
       "    }\n",
       "</style>\n",
       "<table border=\"1\" class=\"dataframe\">\n",
       "  <thead>\n",
       "    <tr style=\"text-align: right;\">\n",
       "      <th></th>\n",
       "      <th>record_id</th>\n",
       "      <th>item_topic</th>\n",
       "      <th>source_topic</th>\n",
       "      <th>age_segment</th>\n",
       "      <th>dt</th>\n",
       "      <th>visits</th>\n",
       "    </tr>\n",
       "  </thead>\n",
       "  <tbody>\n",
       "    <tr>\n",
       "      <th>0</th>\n",
       "      <td>1040597</td>\n",
       "      <td>Деньги</td>\n",
       "      <td>Авто</td>\n",
       "      <td>18-25</td>\n",
       "      <td>2019-09-24 18:32:00</td>\n",
       "      <td>3</td>\n",
       "    </tr>\n",
       "    <tr>\n",
       "      <th>1</th>\n",
       "      <td>1040598</td>\n",
       "      <td>Деньги</td>\n",
       "      <td>Авто</td>\n",
       "      <td>18-25</td>\n",
       "      <td>2019-09-24 18:35:00</td>\n",
       "      <td>1</td>\n",
       "    </tr>\n",
       "    <tr>\n",
       "      <th>2</th>\n",
       "      <td>1040599</td>\n",
       "      <td>Деньги</td>\n",
       "      <td>Авто</td>\n",
       "      <td>18-25</td>\n",
       "      <td>2019-09-24 18:54:00</td>\n",
       "      <td>4</td>\n",
       "    </tr>\n",
       "    <tr>\n",
       "      <th>3</th>\n",
       "      <td>1040600</td>\n",
       "      <td>Деньги</td>\n",
       "      <td>Авто</td>\n",
       "      <td>18-25</td>\n",
       "      <td>2019-09-24 18:55:00</td>\n",
       "      <td>17</td>\n",
       "    </tr>\n",
       "    <tr>\n",
       "      <th>4</th>\n",
       "      <td>1040601</td>\n",
       "      <td>Деньги</td>\n",
       "      <td>Авто</td>\n",
       "      <td>18-25</td>\n",
       "      <td>2019-09-24 18:56:00</td>\n",
       "      <td>27</td>\n",
       "    </tr>\n",
       "  </tbody>\n",
       "</table>\n",
       "</div>"
      ],
      "text/plain": [
       "   record_id item_topic source_topic age_segment                  dt  visits\n",
       "0    1040597     Деньги         Авто       18-25 2019-09-24 18:32:00       3\n",
       "1    1040598     Деньги         Авто       18-25 2019-09-24 18:35:00       1\n",
       "2    1040599     Деньги         Авто       18-25 2019-09-24 18:54:00       4\n",
       "3    1040600     Деньги         Авто       18-25 2019-09-24 18:55:00      17\n",
       "4    1040601     Деньги         Авто       18-25 2019-09-24 18:56:00      27"
      ]
     },
     "execution_count": 3,
     "metadata": {},
     "output_type": "execute_result"
    }
   ],
   "source": [
    "dash_visits.head()"
   ]
  },
  {
   "cell_type": "code",
   "execution_count": 4,
   "id": "026bed84",
   "metadata": {},
   "outputs": [
    {
     "name": "stdout",
     "output_type": "stream",
     "text": [
      "<class 'pandas.core.frame.DataFrame'>\n",
      "RangeIndex: 30745 entries, 0 to 30744\n",
      "Data columns (total 6 columns):\n",
      " #   Column        Non-Null Count  Dtype         \n",
      "---  ------        --------------  -----         \n",
      " 0   record_id     30745 non-null  int64         \n",
      " 1   item_topic    30745 non-null  object        \n",
      " 2   source_topic  30745 non-null  object        \n",
      " 3   age_segment   30745 non-null  object        \n",
      " 4   dt            30745 non-null  datetime64[ns]\n",
      " 5   visits        30745 non-null  int64         \n",
      "dtypes: datetime64[ns](1), int64(2), object(3)\n",
      "memory usage: 1.4+ MB\n"
     ]
    }
   ],
   "source": [
    "dash_visits.info()"
   ]
  },
  {
   "cell_type": "code",
   "execution_count": 5,
   "id": "b6bb1f15",
   "metadata": {},
   "outputs": [
    {
     "data": {
      "text/plain": [
       "0"
      ]
     },
     "execution_count": 5,
     "metadata": {},
     "output_type": "execute_result"
    }
   ],
   "source": [
    "dash_visits.duplicated().sum()"
   ]
  },
  {
   "cell_type": "code",
   "execution_count": 6,
   "id": "4898628f",
   "metadata": {},
   "outputs": [
    {
     "data": {
      "text/plain": [
       "Отношения             1536\n",
       "Интересные факты      1535\n",
       "Наука                 1505\n",
       "Подборки              1456\n",
       "Полезные советы       1424\n",
       "Общество              1422\n",
       "Россия                1385\n",
       "История               1363\n",
       "Семья                 1287\n",
       "Путешествия           1247\n",
       "Деньги                1234\n",
       "Женщины               1230\n",
       "Дети                  1229\n",
       "Туризм                1206\n",
       "Здоровье              1203\n",
       "Красота               1193\n",
       "Культура              1160\n",
       "Юмор                  1129\n",
       "Искусство             1119\n",
       "Рассказы              1109\n",
       "Психология            1056\n",
       "Скандалы              1023\n",
       "Знаменитости           976\n",
       "Женская психология     914\n",
       "Шоу                    804\n",
       "Name: item_topic, dtype: int64"
      ]
     },
     "execution_count": 6,
     "metadata": {},
     "output_type": "execute_result"
    }
   ],
   "source": [
    "dash_visits['item_topic'].value_counts()"
   ]
  },
  {
   "cell_type": "code",
   "execution_count": 7,
   "id": "9f13ac8a",
   "metadata": {},
   "outputs": [
    {
     "data": {
      "text/plain": [
       "Семейные отношения    1822\n",
       "Россия                1687\n",
       "Знаменитости          1650\n",
       "Полезные советы       1578\n",
       "Путешествия           1563\n",
       "Кино                  1505\n",
       "Дети                  1459\n",
       "История               1437\n",
       "Семья                 1405\n",
       "Одежда                1379\n",
       "Здоровье              1243\n",
       "Искусство             1228\n",
       "Авто                  1077\n",
       "Психология            1055\n",
       "Сад и дача            1036\n",
       "Политика              1024\n",
       "Спорт                 1007\n",
       "Сделай сам             995\n",
       "Ремонт                 985\n",
       "Деньги                 973\n",
       "Еда                    912\n",
       "Интерьеры              809\n",
       "Строительство          758\n",
       "Музыка                 750\n",
       "Технологии             741\n",
       "Финансы                667\n",
       "Name: source_topic, dtype: int64"
      ]
     },
     "execution_count": 7,
     "metadata": {},
     "output_type": "execute_result"
    }
   ],
   "source": [
    "dash_visits['source_topic'].value_counts()"
   ]
  },
  {
   "cell_type": "code",
   "execution_count": 8,
   "id": "7f84fe46",
   "metadata": {},
   "outputs": [
    {
     "data": {
      "text/plain": [
       "18-25    7056\n",
       "26-30    5875\n",
       "31-35    5552\n",
       "36-40    5105\n",
       "41-45    3903\n",
       "45+      3254\n",
       "Name: age_segment, dtype: int64"
      ]
     },
     "execution_count": 8,
     "metadata": {},
     "output_type": "execute_result"
    }
   ],
   "source": [
    "dash_visits['age_segment'].value_counts()"
   ]
  },
  {
   "cell_type": "code",
   "execution_count": 9,
   "id": "bbe064f9",
   "metadata": {},
   "outputs": [
    {
     "name": "stdout",
     "output_type": "stream",
     "text": [
      "Временные рамки: начало - 2019-09-24 18:28:00, конец - 2019-09-24 19:00:00\n"
     ]
    }
   ],
   "source": [
    "print('Временные рамки: начало - {}, конец - {}'.format(dash_visits['dt'].min(), dash_visits['dt'].max()))"
   ]
  },
  {
   "cell_type": "code",
   "execution_count": 10,
   "id": "120daeef",
   "metadata": {},
   "outputs": [
    {
     "data": {
      "text/plain": [
       "212"
      ]
     },
     "execution_count": 10,
     "metadata": {},
     "output_type": "execute_result"
    }
   ],
   "source": [
    "dash_visits['visits'].nunique()"
   ]
  },
  {
   "cell_type": "code",
   "execution_count": 11,
   "id": "55d22500",
   "metadata": {},
   "outputs": [
    {
     "data": {
      "text/plain": [
       "30745"
      ]
     },
     "execution_count": 11,
     "metadata": {},
     "output_type": "execute_result"
    }
   ],
   "source": [
    "dash_visits['record_id'].nunique()"
   ]
  },
  {
   "cell_type": "code",
   "execution_count": 12,
   "id": "0468b19f",
   "metadata": {},
   "outputs": [],
   "source": [
    "dash_visits.to_csv('dash_visits.csv ', sep='\\t', encoding='utf-8')"
   ]
  }
 ],
 "metadata": {
  "kernelspec": {
   "display_name": "Python 3",
   "language": "python",
   "name": "python3"
  },
  "language_info": {
   "codemirror_mode": {
    "name": "ipython",
    "version": 3
   },
   "file_extension": ".py",
   "mimetype": "text/x-python",
   "name": "python",
   "nbconvert_exporter": "python",
   "pygments_lexer": "ipython3",
   "version": "3.8.8"
  }
 },
 "nbformat": 4,
 "nbformat_minor": 5
}
