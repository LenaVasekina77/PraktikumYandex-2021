{
 "cells": [
  {
   "cell_type": "markdown",
   "metadata": {
    "toc": true
   },
   "source": [
    "<h1>Тема: Анализ оттока клиентов банка.<span class=\"tocSkip\"></span></h1>\n",
    "<div class=\"toc\"><ul class=\"toc-item\"><li><span><a href=\"#Матариалы.\" data-toc-modified-id=\"Матариалы.-1\">Матариалы.</a></span><ul class=\"toc-item\"><li><span><a href=\"#Презентация:\" data-toc-modified-id=\"Презентация:-1.1\">Презентация:</a></span></li><li><span><a href=\"#Дашборд:\" data-toc-modified-id=\"Дашборд:-1.2\">Дашборд:</a></span></li></ul></li><li><span><a href=\"#Цель:\" data-toc-modified-id=\"Цель:-2\">Цель:</a></span></li><li><span><a href=\"#Задачи:\" data-toc-modified-id=\"Задачи:-3\">Задачи:</a></span></li><li><span><a href=\"#Объект-исследования:\" data-toc-modified-id=\"Объект-исследования:-4\">Объект исследования:</a></span></li><li><span><a href=\"#1.-Изучение-данных-из-файла\" data-toc-modified-id=\"1.-Изучение-данных-из-файла-5\">1. Изучение данных из файла</a></span><ul class=\"toc-item\"><li><span><a href=\"#1.1.-Импортирование-библиотек\" data-toc-modified-id=\"1.1.-Импортирование-библиотек-5.1\">1.1. Импортирование библиотек</a></span></li><li><span><a href=\"#1.2.-Загрузка-данных\" data-toc-modified-id=\"1.2.-Загрузка-данных-5.2\">1.2. Загрузка данных</a></span></li><li><span><a href=\"#1.3.-Предварительное-изучение-данных\" data-toc-modified-id=\"1.3.-Предварительное-изучение-данных-5.3\">1.3. Предварительное изучение данных</a></span></li></ul></li><li><span><a href=\"#2.-Исследовательский-анализ-данных-(EDA)\" data-toc-modified-id=\"2.-Исследовательский-анализ-данных-(EDA)-6\">2. Исследовательский анализ данных (EDA)</a></span><ul class=\"toc-item\"><li><span><a href=\"#2.1.-Средние-значения-и-стандартные-отклонения\" data-toc-modified-id=\"2.1.-Средние-значения-и-стандартные-отклонения-6.1\">2.1. Средние значения и стандартные отклонения</a></span></li><li><span><a href=\"#2.2.-Средние-значения-признаков-по-группам:-ушли-в-отток--/-остались\" data-toc-modified-id=\"2.2.-Средние-значения-признаков-по-группам:-ушли-в-отток--/-остались-6.2\">2.2. Средние значения признаков по группам: ушли в отток  / остались</a></span></li><li><span><a href=\"#2.3.-Распределение-признаков-по-группам:-ушли-в-отток--/-остались\" data-toc-modified-id=\"2.3.-Распределение-признаков-по-группам:-ушли-в-отток--/-остались-6.3\">2.3. Распределение признаков по группам: ушли в отток  / остались</a></span></li><li><span><a href=\"#2.4.-Выявление-зависимостей.-Матрица-корреляции-признаков\" data-toc-modified-id=\"2.4.-Выявление-зависимостей.-Матрица-корреляции-признаков-6.4\">2.4. Выявление зависимостей. Матрица корреляции признаков</a></span></li></ul></li><li><span><a href=\"#3.--Портрет-клиентов-оттока\" data-toc-modified-id=\"3.--Портрет-клиентов-оттока-7\">3.  Портрет клиентов оттока</a></span></li><li><span><a href=\"#4.--Проверка-статистических-гипотез\" data-toc-modified-id=\"4.--Проверка-статистических-гипотез-8\">4.  Проверка статистических гипотез</a></span><ul class=\"toc-item\"><li><span><a href=\"#4.1.-Первая-гипотеза\" data-toc-modified-id=\"4.1.-Первая-гипотеза-8.1\">4.1. Первая гипотеза</a></span></li><li><span><a href=\"#4.2.-Вторая-гипотеза\" data-toc-modified-id=\"4.2.-Вторая-гипотеза-8.2\">4.2. Вторая гипотеза</a></span></li></ul></li><li><span><a href=\"#5.-Общий-вывод\" data-toc-modified-id=\"5.-Общий-вывод-9\">5. Общий вывод</a></span></li></ul></div>"
   ]
  },
  {
   "cell_type": "markdown",
   "metadata": {},
   "source": [
    "# Тема: Анализ оттока клиентов банка."
   ]
  },
  {
   "cell_type": "markdown",
   "metadata": {},
   "source": [
    "## Матариалы.\n",
    "### Презентация:\n",
    "- ссылка на презентацию \"Анализ оттока клиентов банка\" - https://yadi.sk/i/IGgNo2RGCD46nA\n",
    "\n",
    "### Дашборд:\n",
    "- ссылка на дашборд \"Распределение количества клиентов по числу используемых продуктов банка\" - https://public.tableau.com/app/profile/elena.vasekina/viz/_16294537326040/sheet1?publish=yes"
   ]
  },
  {
   "cell_type": "markdown",
   "metadata": {},
   "source": [
    "## Цель:\n",
    "**Определить характерные признаки клиентов оттока, для разработки мер по удержанию клиентов.**\n",
    "\n",
    "## Задачи:\n",
    "**1. Изучить файл с данными. Подготовить данные для исследования.**\n",
    "\n",
    "**2. Провести исследовательский анализ данных в разрезе двух групп - клиенты, которые ушли в отток и клиенты, которые остались.**\n",
    "\n",
    "**3. На основе выделенных характерных признаков составить портрет клиентов, которые склонны уходить из банка.**\n",
    "\n",
    "**4. Проверить гипотезу различия дохода между теми клиентами, которые ушли и теми, которые остались. Сформулировать и проверить статистическую гипотезу относительно представленных данных.**\n",
    "\n",
    "**5. Сформулировать основные выводы и сделать базовые рекомендации по снижению оттока клиентов.**\n",
    "\n",
    "\n",
    "## Объект исследования: \n",
    "**csv- файл со сведениями о клиентах банка «Метанпром». Банк располагается в Ярославле и областных городах: Ростов Великий и Рыбинск.**\n",
    "\n",
    "***Заказчик:***  Продукт менеджеры банка \"Метанпром\", разрабатывающие меры по удержанию клиентов."
   ]
  },
  {
   "cell_type": "markdown",
   "metadata": {},
   "source": [
    "## 1. Изучение данных из файла"
   ]
  },
  {
   "cell_type": "markdown",
   "metadata": {},
   "source": [
    "### 1.1. Импортирование библиотек"
   ]
  },
  {
   "cell_type": "code",
   "execution_count": 1,
   "metadata": {},
   "outputs": [],
   "source": [
    "import pandas as pd\n",
    "import math as mth\n",
    "import matplotlib.pyplot as plt\n",
    "from scipy import stats as st\n",
    "from scipy import stats\n",
    "import numpy as np\n",
    "\n",
    "#визуализация\n",
    "import seaborn as sns; sns.set() "
   ]
  },
  {
   "cell_type": "markdown",
   "metadata": {},
   "source": [
    "### 1.2. Загрузка данных"
   ]
  },
  {
   "cell_type": "code",
   "execution_count": 2,
   "metadata": {},
   "outputs": [],
   "source": [
    "df = pd.read_csv('/datasets/bank_dataset.csv')"
   ]
  },
  {
   "cell_type": "markdown",
   "metadata": {},
   "source": [
    "### 1.3. Предварительное изучение данных"
   ]
  },
  {
   "cell_type": "code",
   "execution_count": 3,
   "metadata": {},
   "outputs": [
    {
     "data": {
      "text/html": [
       "<div>\n",
       "<style scoped>\n",
       "    .dataframe tbody tr th:only-of-type {\n",
       "        vertical-align: middle;\n",
       "    }\n",
       "\n",
       "    .dataframe tbody tr th {\n",
       "        vertical-align: top;\n",
       "    }\n",
       "\n",
       "    .dataframe thead th {\n",
       "        text-align: right;\n",
       "    }\n",
       "</style>\n",
       "<table border=\"1\" class=\"dataframe\">\n",
       "  <thead>\n",
       "    <tr style=\"text-align: right;\">\n",
       "      <th></th>\n",
       "      <th>userid</th>\n",
       "      <th>score</th>\n",
       "      <th>City</th>\n",
       "      <th>Gender</th>\n",
       "      <th>Age</th>\n",
       "      <th>Objects</th>\n",
       "      <th>Balance</th>\n",
       "      <th>Products</th>\n",
       "      <th>CreditCard</th>\n",
       "      <th>Loyalty</th>\n",
       "      <th>estimated_salary</th>\n",
       "      <th>Churn</th>\n",
       "    </tr>\n",
       "  </thead>\n",
       "  <tbody>\n",
       "    <tr>\n",
       "      <td>9394</td>\n",
       "      <td>15658489</td>\n",
       "      <td>597</td>\n",
       "      <td>Ростов Великий</td>\n",
       "      <td>Ж</td>\n",
       "      <td>35</td>\n",
       "      <td>8</td>\n",
       "      <td>131101.04</td>\n",
       "      <td>1</td>\n",
       "      <td>1</td>\n",
       "      <td>1</td>\n",
       "      <td>192852.67</td>\n",
       "      <td>0</td>\n",
       "    </tr>\n",
       "    <tr>\n",
       "      <td>898</td>\n",
       "      <td>15697436</td>\n",
       "      <td>523</td>\n",
       "      <td>Ярославль</td>\n",
       "      <td>Ж</td>\n",
       "      <td>40</td>\n",
       "      <td>2</td>\n",
       "      <td>102967.41</td>\n",
       "      <td>1</td>\n",
       "      <td>1</td>\n",
       "      <td>0</td>\n",
       "      <td>128702.10</td>\n",
       "      <td>1</td>\n",
       "    </tr>\n",
       "    <tr>\n",
       "      <td>2398</td>\n",
       "      <td>15676613</td>\n",
       "      <td>706</td>\n",
       "      <td>Рыбинск</td>\n",
       "      <td>Ж</td>\n",
       "      <td>42</td>\n",
       "      <td>8</td>\n",
       "      <td>95386.82</td>\n",
       "      <td>1</td>\n",
       "      <td>1</td>\n",
       "      <td>1</td>\n",
       "      <td>75732.25</td>\n",
       "      <td>0</td>\n",
       "    </tr>\n",
       "    <tr>\n",
       "      <td>5906</td>\n",
       "      <td>15788359</td>\n",
       "      <td>788</td>\n",
       "      <td>Ярославль</td>\n",
       "      <td>М</td>\n",
       "      <td>32</td>\n",
       "      <td>4</td>\n",
       "      <td>112079.58</td>\n",
       "      <td>1</td>\n",
       "      <td>0</td>\n",
       "      <td>0</td>\n",
       "      <td>89368.59</td>\n",
       "      <td>0</td>\n",
       "    </tr>\n",
       "    <tr>\n",
       "      <td>2343</td>\n",
       "      <td>15808638</td>\n",
       "      <td>706</td>\n",
       "      <td>Ростов Великий</td>\n",
       "      <td>М</td>\n",
       "      <td>38</td>\n",
       "      <td>5</td>\n",
       "      <td>163034.82</td>\n",
       "      <td>2</td>\n",
       "      <td>1</td>\n",
       "      <td>1</td>\n",
       "      <td>135662.17</td>\n",
       "      <td>0</td>\n",
       "    </tr>\n",
       "    <tr>\n",
       "      <td>8225</td>\n",
       "      <td>15846878</td>\n",
       "      <td>670</td>\n",
       "      <td>Рыбинск</td>\n",
       "      <td>Ж</td>\n",
       "      <td>57</td>\n",
       "      <td>3</td>\n",
       "      <td>175575.95</td>\n",
       "      <td>2</td>\n",
       "      <td>1</td>\n",
       "      <td>0</td>\n",
       "      <td>99061.75</td>\n",
       "      <td>1</td>\n",
       "    </tr>\n",
       "    <tr>\n",
       "      <td>5506</td>\n",
       "      <td>15739764</td>\n",
       "      <td>590</td>\n",
       "      <td>Рыбинск</td>\n",
       "      <td>М</td>\n",
       "      <td>34</td>\n",
       "      <td>0</td>\n",
       "      <td>65812.35</td>\n",
       "      <td>2</td>\n",
       "      <td>0</td>\n",
       "      <td>1</td>\n",
       "      <td>160346.30</td>\n",
       "      <td>0</td>\n",
       "    </tr>\n",
       "    <tr>\n",
       "      <td>6451</td>\n",
       "      <td>15765319</td>\n",
       "      <td>636</td>\n",
       "      <td>Рыбинск</td>\n",
       "      <td>Ж</td>\n",
       "      <td>29</td>\n",
       "      <td>6</td>\n",
       "      <td>157576.47</td>\n",
       "      <td>2</td>\n",
       "      <td>1</td>\n",
       "      <td>1</td>\n",
       "      <td>101102.39</td>\n",
       "      <td>0</td>\n",
       "    </tr>\n",
       "    <tr>\n",
       "      <td>2670</td>\n",
       "      <td>15803182</td>\n",
       "      <td>598</td>\n",
       "      <td>Ярославль</td>\n",
       "      <td>Ж</td>\n",
       "      <td>64</td>\n",
       "      <td>9</td>\n",
       "      <td>NaN</td>\n",
       "      <td>1</td>\n",
       "      <td>0</td>\n",
       "      <td>1</td>\n",
       "      <td>13181.37</td>\n",
       "      <td>1</td>\n",
       "    </tr>\n",
       "    <tr>\n",
       "      <td>3497</td>\n",
       "      <td>15631680</td>\n",
       "      <td>456</td>\n",
       "      <td>Ярославль</td>\n",
       "      <td>Ж</td>\n",
       "      <td>63</td>\n",
       "      <td>1</td>\n",
       "      <td>165350.61</td>\n",
       "      <td>2</td>\n",
       "      <td>0</td>\n",
       "      <td>0</td>\n",
       "      <td>140758.07</td>\n",
       "      <td>1</td>\n",
       "    </tr>\n",
       "  </tbody>\n",
       "</table>\n",
       "</div>"
      ],
      "text/plain": [
       "        userid  score            City Gender  Age  Objects    Balance  \\\n",
       "9394  15658489    597  Ростов Великий      Ж   35        8  131101.04   \n",
       "898   15697436    523       Ярославль      Ж   40        2  102967.41   \n",
       "2398  15676613    706         Рыбинск      Ж   42        8   95386.82   \n",
       "5906  15788359    788       Ярославль      М   32        4  112079.58   \n",
       "2343  15808638    706  Ростов Великий      М   38        5  163034.82   \n",
       "8225  15846878    670         Рыбинск      Ж   57        3  175575.95   \n",
       "5506  15739764    590         Рыбинск      М   34        0   65812.35   \n",
       "6451  15765319    636         Рыбинск      Ж   29        6  157576.47   \n",
       "2670  15803182    598       Ярославль      Ж   64        9        NaN   \n",
       "3497  15631680    456       Ярославль      Ж   63        1  165350.61   \n",
       "\n",
       "      Products  CreditCard  Loyalty  estimated_salary  Churn  \n",
       "9394         1           1        1         192852.67      0  \n",
       "898          1           1        0         128702.10      1  \n",
       "2398         1           1        1          75732.25      0  \n",
       "5906         1           0        0          89368.59      0  \n",
       "2343         2           1        1         135662.17      0  \n",
       "8225         2           1        0          99061.75      1  \n",
       "5506         2           0        1         160346.30      0  \n",
       "6451         2           1        1         101102.39      0  \n",
       "2670         1           0        1          13181.37      1  \n",
       "3497         2           0        0         140758.07      1  "
      ]
     },
     "execution_count": 3,
     "metadata": {},
     "output_type": "execute_result"
    }
   ],
   "source": [
    "# Вызовем 10 строк таблицы случайным образом\n",
    "df.sample(n=10, random_state=0)"
   ]
  },
  {
   "cell_type": "code",
   "execution_count": 4,
   "metadata": {},
   "outputs": [
    {
     "data": {
      "text/plain": [
       "0"
      ]
     },
     "execution_count": 4,
     "metadata": {},
     "output_type": "execute_result"
    }
   ],
   "source": [
    "# Проверим наличие и количество дубликатов\n",
    "df.duplicated().sum()"
   ]
  },
  {
   "cell_type": "code",
   "execution_count": 5,
   "metadata": {},
   "outputs": [
    {
     "name": "stdout",
     "output_type": "stream",
     "text": [
      "<class 'pandas.core.frame.DataFrame'>\n",
      "RangeIndex: 10000 entries, 0 to 9999\n",
      "Data columns (total 12 columns):\n",
      "userid              10000 non-null int64\n",
      "score               10000 non-null int64\n",
      "City                10000 non-null object\n",
      "Gender              10000 non-null object\n",
      "Age                 10000 non-null int64\n",
      "Objects             10000 non-null int64\n",
      "Balance             6383 non-null float64\n",
      "Products            10000 non-null int64\n",
      "CreditCard          10000 non-null int64\n",
      "Loyalty             10000 non-null int64\n",
      "estimated_salary    10000 non-null float64\n",
      "Churn               10000 non-null int64\n",
      "dtypes: float64(2), int64(8), object(2)\n",
      "memory usage: 937.6+ KB\n"
     ]
    }
   ],
   "source": [
    "# Вызовем общую информацию о таблице\n",
    "df.info()"
   ]
  },
  {
   "cell_type": "code",
   "execution_count": 6,
   "metadata": {},
   "outputs": [
    {
     "data": {
      "text/plain": [
       "userid                 0\n",
       "score                  0\n",
       "City                   0\n",
       "Gender                 0\n",
       "Age                    0\n",
       "Objects                0\n",
       "Balance             3617\n",
       "Products               0\n",
       "CreditCard             0\n",
       "Loyalty                0\n",
       "estimated_salary       0\n",
       "Churn                  0\n",
       "dtype: int64"
      ]
     },
     "execution_count": 6,
     "metadata": {},
     "output_type": "execute_result"
    }
   ],
   "source": [
    "#Проверим наличие пропусков во всей таблице\n",
    "df.isna().sum()"
   ]
  },
  {
   "cell_type": "code",
   "execution_count": 7,
   "metadata": {},
   "outputs": [
    {
     "data": {
      "text/plain": [
       "1    7055\n",
       "0    2945\n",
       "Name: CreditCard, dtype: int64"
      ]
     },
     "metadata": {},
     "output_type": "display_data"
    },
    {
     "data": {
      "text/plain": [
       "1    0.71\n",
       "0    0.29\n",
       "Name: CreditCard, dtype: float64"
      ]
     },
     "metadata": {},
     "output_type": "display_data"
    }
   ],
   "source": [
    "# Напишем функцию, возвращающую уникальные значения, их число и долю от общего количества (относительную частоту)\n",
    "def df_value(column):\n",
    "    df_0 = df[column].value_counts()\n",
    "    df_1 = df[column].value_counts(normalize=True).round(2)\n",
    "    return display(df_0, df_1)\n",
    "\n",
    "# Посмотрим сколько клиентов имеют/не имеют кредитную карту\n",
    "df_value('CreditCard')"
   ]
  },
  {
   "cell_type": "code",
   "execution_count": 8,
   "metadata": {},
   "outputs": [
    {
     "data": {
      "text/html": [
       "<div>\n",
       "<style scoped>\n",
       "    .dataframe tbody tr th:only-of-type {\n",
       "        vertical-align: middle;\n",
       "    }\n",
       "\n",
       "    .dataframe tbody tr th {\n",
       "        vertical-align: top;\n",
       "    }\n",
       "\n",
       "    .dataframe thead th {\n",
       "        text-align: right;\n",
       "    }\n",
       "</style>\n",
       "<table border=\"1\" class=\"dataframe\">\n",
       "  <thead>\n",
       "    <tr style=\"text-align: right;\">\n",
       "      <th></th>\n",
       "      <th></th>\n",
       "      <th>Products</th>\n",
       "    </tr>\n",
       "    <tr>\n",
       "      <th>CreditCard</th>\n",
       "      <th>Products</th>\n",
       "      <th></th>\n",
       "    </tr>\n",
       "  </thead>\n",
       "  <tbody>\n",
       "    <tr>\n",
       "      <td rowspan=\"4\" valign=\"top\">0</td>\n",
       "      <td>1</td>\n",
       "      <td>1506</td>\n",
       "    </tr>\n",
       "    <tr>\n",
       "      <td>2</td>\n",
       "      <td>1344</td>\n",
       "    </tr>\n",
       "    <tr>\n",
       "      <td>3</td>\n",
       "      <td>76</td>\n",
       "    </tr>\n",
       "    <tr>\n",
       "      <td>4</td>\n",
       "      <td>19</td>\n",
       "    </tr>\n",
       "    <tr>\n",
       "      <td rowspan=\"4\" valign=\"top\">1</td>\n",
       "      <td>1</td>\n",
       "      <td>3578</td>\n",
       "    </tr>\n",
       "    <tr>\n",
       "      <td>2</td>\n",
       "      <td>3246</td>\n",
       "    </tr>\n",
       "    <tr>\n",
       "      <td>3</td>\n",
       "      <td>190</td>\n",
       "    </tr>\n",
       "    <tr>\n",
       "      <td>4</td>\n",
       "      <td>41</td>\n",
       "    </tr>\n",
       "  </tbody>\n",
       "</table>\n",
       "</div>"
      ],
      "text/plain": [
       "                     Products\n",
       "CreditCard Products          \n",
       "0          1             1506\n",
       "           2             1344\n",
       "           3               76\n",
       "           4               19\n",
       "1          1             3578\n",
       "           2             3246\n",
       "           3              190\n",
       "           4               41"
      ]
     },
     "execution_count": 8,
     "metadata": {},
     "output_type": "execute_result"
    }
   ],
   "source": [
    "# Посмотрим как распределено число продуктов у клиентов с кредитной картой и без нее\n",
    "df_0 = df.groupby('CreditCard').agg({'Products': 'value_counts'})\n",
    "df_0"
   ]
  },
  {
   "cell_type": "markdown",
   "metadata": {},
   "source": [
    "***В таблице с данными 10 000 строк и 12 столбцов. Типы данных у столбцов: float64, uint64, object. Наименования столбцов содержат буквы в верхнем регистре, требуется переименование столбцов. Дубликаты отсутствуют.***\n",
    "\n",
    "***В столбце Balance имеется 3 617 пропусков. Учитывая, что баланс  на счете отображает личные денежные средства клиента на дебетовом счете, а из 7 055 клиентов с кредитной картой 3 578 клиентов  не имеет иных продуктов банка, а 39 клиентов вполне может иметь нулевой баланс на дебетовом счете, замену пропусков осуществлять не будем, оставим этот столбец без изменений.*** \n",
    "\n",
    "**Столбцы содержат следующую информацию:**\n",
    "\n",
    "- `userid` — идентификатор клиента,\n",
    "- `score` — баллы кредитного скоринга,\n",
    "- `City` — город,\n",
    "- `Gender` — пол,\n",
    "- `Age` — возраст,\n",
    "- `Objects` — количество объектов в собственности клиента,\n",
    "- `Balance` — баланс на счёте клиента,\n",
    "- `Products` — количество продуктов, которыми пользуется клиент,\n",
    "- `CreditCard` — есть ли кредитная карта у клиента,\n",
    "- `Loyalty` — активный клиент или нет,\n",
    "- `estimated_salary` — заработная плата клиента,\n",
    "- `Churn` — ушёл клиент или нет."
   ]
  },
  {
   "cell_type": "code",
   "execution_count": 9,
   "metadata": {},
   "outputs": [],
   "source": [
    "# Переименуем отдельные столбцы, для простоты и удобства визуализации\n",
    "df.columns = ['userid', 'Баллы кредитного скоринга', 'Город', 'Пол', 'Возраст',\n",
    "       'Объекты собственности, шт.', 'Баланс счёта клиента', 'Используемые продукты, шт.',\n",
    "       'Факт наличия кредитной карты', 'Факт активности клиента', 'Заработная плата клиента',\n",
    "       'Факт оттока клиента']\n",
    "#df.head(2)"
   ]
  },
  {
   "cell_type": "markdown",
   "metadata": {},
   "source": [
    "*Чтобы получить общее представление о данных, посмотрим в каждом столбце уникальные значения и их распределение.*"
   ]
  },
  {
   "cell_type": "code",
   "execution_count": 10,
   "metadata": {},
   "outputs": [
    {
     "data": {
      "text/plain": [
       "10000"
      ]
     },
     "execution_count": 10,
     "metadata": {},
     "output_type": "execute_result"
    }
   ],
   "source": [
    "# Посмотрим дополнительно на число уникальных значений в столбце с данными о id клиента\n",
    "df['userid'].nunique()"
   ]
  },
  {
   "cell_type": "code",
   "execution_count": 11,
   "metadata": {},
   "outputs": [
    {
     "data": {
      "text/plain": [
       "Ярославль         5014\n",
       "Ростов Великий    2509\n",
       "Рыбинск           2477\n",
       "Name: Город, dtype: int64"
      ]
     },
     "metadata": {},
     "output_type": "display_data"
    },
    {
     "data": {
      "text/plain": [
       "Ярославль         0.50\n",
       "Ростов Великий    0.25\n",
       "Рыбинск           0.25\n",
       "Name: Город, dtype: float64"
      ]
     },
     "metadata": {},
     "output_type": "display_data"
    }
   ],
   "source": [
    "# Посмотрим дополнительно на число уникальных значений в столбце 'Город'\n",
    "df_value('Город')"
   ]
  },
  {
   "cell_type": "code",
   "execution_count": 12,
   "metadata": {},
   "outputs": [
    {
     "data": {
      "text/html": [
       "<div>\n",
       "<style scoped>\n",
       "    .dataframe tbody tr th:only-of-type {\n",
       "        vertical-align: middle;\n",
       "    }\n",
       "\n",
       "    .dataframe tbody tr th {\n",
       "        vertical-align: top;\n",
       "    }\n",
       "\n",
       "    .dataframe thead th {\n",
       "        text-align: right;\n",
       "    }\n",
       "</style>\n",
       "<table border=\"1\" class=\"dataframe\">\n",
       "  <thead>\n",
       "    <tr style=\"text-align: right;\">\n",
       "      <th></th>\n",
       "      <th></th>\n",
       "      <th>Количество клиентов</th>\n",
       "      <th>% клиентов</th>\n",
       "    </tr>\n",
       "    <tr>\n",
       "      <th>Факт оттока клиента</th>\n",
       "      <th>Город</th>\n",
       "      <th></th>\n",
       "      <th></th>\n",
       "    </tr>\n",
       "  </thead>\n",
       "  <tbody>\n",
       "    <tr>\n",
       "      <td rowspan=\"3\" valign=\"top\">0</td>\n",
       "      <td>Ростов Великий</td>\n",
       "      <td>1695</td>\n",
       "      <td>16.95</td>\n",
       "    </tr>\n",
       "    <tr>\n",
       "      <td>Рыбинск</td>\n",
       "      <td>2064</td>\n",
       "      <td>20.64</td>\n",
       "    </tr>\n",
       "    <tr>\n",
       "      <td>Ярославль</td>\n",
       "      <td>4204</td>\n",
       "      <td>42.04</td>\n",
       "    </tr>\n",
       "    <tr>\n",
       "      <td rowspan=\"3\" valign=\"top\">1</td>\n",
       "      <td>Ростов Великий</td>\n",
       "      <td>814</td>\n",
       "      <td>8.14</td>\n",
       "    </tr>\n",
       "    <tr>\n",
       "      <td>Рыбинск</td>\n",
       "      <td>413</td>\n",
       "      <td>4.13</td>\n",
       "    </tr>\n",
       "    <tr>\n",
       "      <td>Ярославль</td>\n",
       "      <td>810</td>\n",
       "      <td>8.10</td>\n",
       "    </tr>\n",
       "  </tbody>\n",
       "</table>\n",
       "</div>"
      ],
      "text/plain": [
       "                                    Количество клиентов  % клиентов\n",
       "Факт оттока клиента Город                                          \n",
       "0                   Ростов Великий                 1695       16.95\n",
       "                    Рыбинск                        2064       20.64\n",
       "                    Ярославль                      4204       42.04\n",
       "1                   Ростов Великий                  814        8.14\n",
       "                    Рыбинск                         413        4.13\n",
       "                    Ярославль                       810        8.10"
      ]
     },
     "execution_count": 12,
     "metadata": {},
     "output_type": "execute_result"
    }
   ],
   "source": [
    "# Посмотрим как распределено число клиентов оттока и оставшихся по городам\n",
    "df_0 = df.pivot_table(index=['Факт оттока клиента', 'Город'], values='userid', aggfunc='count')\n",
    "df_0.columns = ['Количество клиентов']\n",
    "df_0['% клиентов'] = (df_0['Количество клиентов']*100 / df.shape[0]).round(2)\n",
    "df_0"
   ]
  },
  {
   "cell_type": "code",
   "execution_count": 13,
   "metadata": {},
   "outputs": [
    {
     "data": {
      "text/plain": [
       "М    5457\n",
       "Ж    4543\n",
       "Name: Пол, dtype: int64"
      ]
     },
     "metadata": {},
     "output_type": "display_data"
    },
    {
     "data": {
      "text/plain": [
       "М    0.55\n",
       "Ж    0.45\n",
       "Name: Пол, dtype: float64"
      ]
     },
     "metadata": {},
     "output_type": "display_data"
    }
   ],
   "source": [
    "# Посмотрим дополнительно на число уникальных значений в столбце 'Пол'\n",
    "df_value('Пол')"
   ]
  },
  {
   "cell_type": "code",
   "execution_count": 14,
   "metadata": {},
   "outputs": [
    {
     "data": {
      "text/html": [
       "<div>\n",
       "<style scoped>\n",
       "    .dataframe tbody tr th:only-of-type {\n",
       "        vertical-align: middle;\n",
       "    }\n",
       "\n",
       "    .dataframe tbody tr th {\n",
       "        vertical-align: top;\n",
       "    }\n",
       "\n",
       "    .dataframe thead th {\n",
       "        text-align: right;\n",
       "    }\n",
       "</style>\n",
       "<table border=\"1\" class=\"dataframe\">\n",
       "  <thead>\n",
       "    <tr style=\"text-align: right;\">\n",
       "      <th></th>\n",
       "      <th></th>\n",
       "      <th>Количество клиентов</th>\n",
       "      <th>% клиентов</th>\n",
       "    </tr>\n",
       "    <tr>\n",
       "      <th>Факт оттока клиента</th>\n",
       "      <th>Пол</th>\n",
       "      <th></th>\n",
       "      <th></th>\n",
       "    </tr>\n",
       "  </thead>\n",
       "  <tbody>\n",
       "    <tr>\n",
       "      <td rowspan=\"2\" valign=\"top\">0</td>\n",
       "      <td>Ж</td>\n",
       "      <td>3404</td>\n",
       "      <td>34.04</td>\n",
       "    </tr>\n",
       "    <tr>\n",
       "      <td>М</td>\n",
       "      <td>4559</td>\n",
       "      <td>45.59</td>\n",
       "    </tr>\n",
       "    <tr>\n",
       "      <td rowspan=\"2\" valign=\"top\">1</td>\n",
       "      <td>Ж</td>\n",
       "      <td>1139</td>\n",
       "      <td>11.39</td>\n",
       "    </tr>\n",
       "    <tr>\n",
       "      <td>М</td>\n",
       "      <td>898</td>\n",
       "      <td>8.98</td>\n",
       "    </tr>\n",
       "  </tbody>\n",
       "</table>\n",
       "</div>"
      ],
      "text/plain": [
       "                         Количество клиентов  % клиентов\n",
       "Факт оттока клиента Пол                                 \n",
       "0                   Ж                   3404       34.04\n",
       "                    М                   4559       45.59\n",
       "1                   Ж                   1139       11.39\n",
       "                    М                    898        8.98"
      ]
     },
     "execution_count": 14,
     "metadata": {},
     "output_type": "execute_result"
    }
   ],
   "source": [
    "# Посмотрим как распределено число клиентов оттока и оставшихся по полу\n",
    "df_0 = df.pivot_table(index=['Факт оттока клиента', 'Пол'], values='userid', aggfunc='count')\n",
    "df_0.columns = ['Количество клиентов']\n",
    "df_0['% клиентов'] = (df_0['Количество клиентов']*100 / df.shape[0]).round(2)\n",
    "df_0"
   ]
  },
  {
   "cell_type": "code",
   "execution_count": 15,
   "metadata": {},
   "outputs": [
    {
     "data": {
      "text/plain": [
       "2     1048\n",
       "1     1035\n",
       "7     1028\n",
       "8     1025\n",
       "5     1012\n",
       "3     1009\n",
       "4      989\n",
       "9      984\n",
       "6      967\n",
       "10     490\n",
       "0      413\n",
       "Name: Объекты собственности, шт., dtype: int64"
      ]
     },
     "metadata": {},
     "output_type": "display_data"
    },
    {
     "data": {
      "text/plain": [
       "2     0.10\n",
       "1     0.10\n",
       "7     0.10\n",
       "8     0.10\n",
       "5     0.10\n",
       "3     0.10\n",
       "4     0.10\n",
       "9     0.10\n",
       "6     0.10\n",
       "10    0.05\n",
       "0     0.04\n",
       "Name: Объекты собственности, шт., dtype: float64"
      ]
     },
     "metadata": {},
     "output_type": "display_data"
    }
   ],
   "source": [
    "# Посмотрим дополнительно на число уникальных значений в столбце 'Объекты собственности, шт.'\n",
    "df_value('Объекты собственности, шт.')"
   ]
  },
  {
   "cell_type": "code",
   "execution_count": 16,
   "metadata": {},
   "outputs": [
    {
     "data": {
      "text/plain": [
       "1    5084\n",
       "2    4590\n",
       "3     266\n",
       "4      60\n",
       "Name: Используемые продукты, шт., dtype: int64"
      ]
     },
     "metadata": {},
     "output_type": "display_data"
    },
    {
     "data": {
      "text/plain": [
       "1    0.51\n",
       "2    0.46\n",
       "3    0.03\n",
       "4    0.01\n",
       "Name: Используемые продукты, шт., dtype: float64"
      ]
     },
     "metadata": {},
     "output_type": "display_data"
    }
   ],
   "source": [
    "# Посмотрим дополнительно на число уникальных значений в столбце 'Используемые продукты, шт.'\n",
    "df_value('Используемые продукты, шт.')"
   ]
  },
  {
   "cell_type": "code",
   "execution_count": 17,
   "metadata": {},
   "outputs": [
    {
     "data": {
      "text/html": [
       "<div>\n",
       "<style scoped>\n",
       "    .dataframe tbody tr th:only-of-type {\n",
       "        vertical-align: middle;\n",
       "    }\n",
       "\n",
       "    .dataframe tbody tr th {\n",
       "        vertical-align: top;\n",
       "    }\n",
       "\n",
       "    .dataframe thead th {\n",
       "        text-align: right;\n",
       "    }\n",
       "</style>\n",
       "<table border=\"1\" class=\"dataframe\">\n",
       "  <thead>\n",
       "    <tr style=\"text-align: right;\">\n",
       "      <th></th>\n",
       "      <th></th>\n",
       "      <th>Количество клиентов</th>\n",
       "      <th>% клиентов</th>\n",
       "    </tr>\n",
       "    <tr>\n",
       "      <th>Факт оттока клиента</th>\n",
       "      <th>Факт наличия кредитной карты</th>\n",
       "      <th></th>\n",
       "      <th></th>\n",
       "    </tr>\n",
       "  </thead>\n",
       "  <tbody>\n",
       "    <tr>\n",
       "      <td rowspan=\"2\" valign=\"top\">0</td>\n",
       "      <td>0</td>\n",
       "      <td>2332</td>\n",
       "      <td>23.32</td>\n",
       "    </tr>\n",
       "    <tr>\n",
       "      <td>1</td>\n",
       "      <td>5631</td>\n",
       "      <td>56.31</td>\n",
       "    </tr>\n",
       "    <tr>\n",
       "      <td rowspan=\"2\" valign=\"top\">1</td>\n",
       "      <td>0</td>\n",
       "      <td>613</td>\n",
       "      <td>6.13</td>\n",
       "    </tr>\n",
       "    <tr>\n",
       "      <td>1</td>\n",
       "      <td>1424</td>\n",
       "      <td>14.24</td>\n",
       "    </tr>\n",
       "  </tbody>\n",
       "</table>\n",
       "</div>"
      ],
      "text/plain": [
       "                                                  Количество клиентов  \\\n",
       "Факт оттока клиента Факт наличия кредитной карты                        \n",
       "0                   0                                            2332   \n",
       "                    1                                            5631   \n",
       "1                   0                                             613   \n",
       "                    1                                            1424   \n",
       "\n",
       "                                                  % клиентов  \n",
       "Факт оттока клиента Факт наличия кредитной карты              \n",
       "0                   0                                  23.32  \n",
       "                    1                                  56.31  \n",
       "1                   0                                   6.13  \n",
       "                    1                                  14.24  "
      ]
     },
     "execution_count": 17,
     "metadata": {},
     "output_type": "execute_result"
    }
   ],
   "source": [
    "# Посмотрим как распределено число клиентов оттока и оставшихся по числу используемых продуктов\n",
    "df_0 = df.pivot_table(index=['Факт оттока клиента', 'Факт наличия кредитной карты'], values='userid', aggfunc='count')\n",
    "df_0.columns = ['Количество клиентов']\n",
    "df_0['% клиентов'] = (df_0['Количество клиентов']*100 / df.shape[0]).round(2)\n",
    "df_0"
   ]
  },
  {
   "cell_type": "code",
   "execution_count": 18,
   "metadata": {},
   "outputs": [
    {
     "data": {
      "text/html": [
       "<div>\n",
       "<style scoped>\n",
       "    .dataframe tbody tr th:only-of-type {\n",
       "        vertical-align: middle;\n",
       "    }\n",
       "\n",
       "    .dataframe tbody tr th {\n",
       "        vertical-align: top;\n",
       "    }\n",
       "\n",
       "    .dataframe thead th {\n",
       "        text-align: right;\n",
       "    }\n",
       "</style>\n",
       "<table border=\"1\" class=\"dataframe\">\n",
       "  <thead>\n",
       "    <tr style=\"text-align: right;\">\n",
       "      <th></th>\n",
       "      <th></th>\n",
       "      <th>Количество клиентов</th>\n",
       "      <th>% клиентов</th>\n",
       "    </tr>\n",
       "    <tr>\n",
       "      <th>Факт оттока клиента</th>\n",
       "      <th>Используемые продукты, шт.</th>\n",
       "      <th></th>\n",
       "      <th></th>\n",
       "    </tr>\n",
       "  </thead>\n",
       "  <tbody>\n",
       "    <tr>\n",
       "      <td rowspan=\"3\" valign=\"top\">0</td>\n",
       "      <td>1</td>\n",
       "      <td>3675</td>\n",
       "      <td>36.75</td>\n",
       "    </tr>\n",
       "    <tr>\n",
       "      <td>2</td>\n",
       "      <td>4242</td>\n",
       "      <td>42.42</td>\n",
       "    </tr>\n",
       "    <tr>\n",
       "      <td>3</td>\n",
       "      <td>46</td>\n",
       "      <td>0.46</td>\n",
       "    </tr>\n",
       "    <tr>\n",
       "      <td rowspan=\"4\" valign=\"top\">1</td>\n",
       "      <td>1</td>\n",
       "      <td>1409</td>\n",
       "      <td>14.09</td>\n",
       "    </tr>\n",
       "    <tr>\n",
       "      <td>2</td>\n",
       "      <td>348</td>\n",
       "      <td>3.48</td>\n",
       "    </tr>\n",
       "    <tr>\n",
       "      <td>3</td>\n",
       "      <td>220</td>\n",
       "      <td>2.20</td>\n",
       "    </tr>\n",
       "    <tr>\n",
       "      <td>4</td>\n",
       "      <td>60</td>\n",
       "      <td>0.60</td>\n",
       "    </tr>\n",
       "  </tbody>\n",
       "</table>\n",
       "</div>"
      ],
      "text/plain": [
       "                                                Количество клиентов  \\\n",
       "Факт оттока клиента Используемые продукты, шт.                        \n",
       "0                   1                                          3675   \n",
       "                    2                                          4242   \n",
       "                    3                                            46   \n",
       "1                   1                                          1409   \n",
       "                    2                                           348   \n",
       "                    3                                           220   \n",
       "                    4                                            60   \n",
       "\n",
       "                                                % клиентов  \n",
       "Факт оттока клиента Используемые продукты, шт.              \n",
       "0                   1                                36.75  \n",
       "                    2                                42.42  \n",
       "                    3                                 0.46  \n",
       "1                   1                                14.09  \n",
       "                    2                                 3.48  \n",
       "                    3                                 2.20  \n",
       "                    4                                 0.60  "
      ]
     },
     "execution_count": 18,
     "metadata": {},
     "output_type": "execute_result"
    }
   ],
   "source": [
    "# Посмотрим как распределено число клиентов оттока и оставшихся по наличию кредитной карты\n",
    "df_0 = df.pivot_table(index=['Факт оттока клиента', 'Используемые продукты, шт.'], values='userid', aggfunc='count')\n",
    "df_0.columns = ['Количество клиентов']\n",
    "df_0['% клиентов'] = (df_0['Количество клиентов']*100 / df.shape[0]).round(2)\n",
    "df_0"
   ]
  },
  {
   "cell_type": "code",
   "execution_count": 19,
   "metadata": {},
   "outputs": [
    {
     "data": {
      "text/plain": [
       "1    5151\n",
       "0    4849\n",
       "Name: Факт активности клиента, dtype: int64"
      ]
     },
     "metadata": {},
     "output_type": "display_data"
    },
    {
     "data": {
      "text/plain": [
       "1    0.52\n",
       "0    0.48\n",
       "Name: Факт активности клиента, dtype: float64"
      ]
     },
     "metadata": {},
     "output_type": "display_data"
    }
   ],
   "source": [
    "# Посмотрим дополнительно на число уникальных значений в столбце 'Факт активности клиента'\n",
    "df_value('Факт активности клиента')"
   ]
  },
  {
   "cell_type": "code",
   "execution_count": 20,
   "metadata": {},
   "outputs": [
    {
     "data": {
      "text/html": [
       "<div>\n",
       "<style scoped>\n",
       "    .dataframe tbody tr th:only-of-type {\n",
       "        vertical-align: middle;\n",
       "    }\n",
       "\n",
       "    .dataframe tbody tr th {\n",
       "        vertical-align: top;\n",
       "    }\n",
       "\n",
       "    .dataframe thead th {\n",
       "        text-align: right;\n",
       "    }\n",
       "</style>\n",
       "<table border=\"1\" class=\"dataframe\">\n",
       "  <thead>\n",
       "    <tr style=\"text-align: right;\">\n",
       "      <th></th>\n",
       "      <th></th>\n",
       "      <th>Количество клиентов</th>\n",
       "      <th>% клиентов</th>\n",
       "    </tr>\n",
       "    <tr>\n",
       "      <th>Факт оттока клиента</th>\n",
       "      <th>Факт активности клиента</th>\n",
       "      <th></th>\n",
       "      <th></th>\n",
       "    </tr>\n",
       "  </thead>\n",
       "  <tbody>\n",
       "    <tr>\n",
       "      <td rowspan=\"2\" valign=\"top\">0</td>\n",
       "      <td>0</td>\n",
       "      <td>3547</td>\n",
       "      <td>35.47</td>\n",
       "    </tr>\n",
       "    <tr>\n",
       "      <td>1</td>\n",
       "      <td>4416</td>\n",
       "      <td>44.16</td>\n",
       "    </tr>\n",
       "    <tr>\n",
       "      <td rowspan=\"2\" valign=\"top\">1</td>\n",
       "      <td>0</td>\n",
       "      <td>1302</td>\n",
       "      <td>13.02</td>\n",
       "    </tr>\n",
       "    <tr>\n",
       "      <td>1</td>\n",
       "      <td>735</td>\n",
       "      <td>7.35</td>\n",
       "    </tr>\n",
       "  </tbody>\n",
       "</table>\n",
       "</div>"
      ],
      "text/plain": [
       "                                             Количество клиентов  % клиентов\n",
       "Факт оттока клиента Факт активности клиента                                 \n",
       "0                   0                                       3547       35.47\n",
       "                    1                                       4416       44.16\n",
       "1                   0                                       1302       13.02\n",
       "                    1                                        735        7.35"
      ]
     },
     "execution_count": 20,
     "metadata": {},
     "output_type": "execute_result"
    }
   ],
   "source": [
    "# Посмотрим как распределено число клиентов оттока и оставшихся по активности\n",
    "df_0 = df.pivot_table(index=['Факт оттока клиента', 'Факт активности клиента'], values='userid', aggfunc='count')\n",
    "df_0.columns = ['Количество клиентов']\n",
    "df_0['% клиентов'] = (df_0['Количество клиентов']*100 / df.shape[0]).round(2)\n",
    "df_0"
   ]
  },
  {
   "cell_type": "code",
   "execution_count": 21,
   "metadata": {},
   "outputs": [
    {
     "data": {
      "text/plain": [
       "0    7963\n",
       "1    2037\n",
       "Name: Факт оттока клиента, dtype: int64"
      ]
     },
     "metadata": {},
     "output_type": "display_data"
    },
    {
     "data": {
      "text/plain": [
       "0    0.8\n",
       "1    0.2\n",
       "Name: Факт оттока клиента, dtype: float64"
      ]
     },
     "metadata": {},
     "output_type": "display_data"
    }
   ],
   "source": [
    "# Посмотрим дополнительно на число уникальных значений в столбце 'Факт оттока клиента' \n",
    "df_value('Факт оттока клиента')"
   ]
  },
  {
   "cell_type": "markdown",
   "metadata": {},
   "source": [
    "*Описание данных приведено ниже.*\n",
    "\n",
    "**Данные готовы для исследования.**"
   ]
  },
  {
   "cell_type": "markdown",
   "metadata": {},
   "source": [
    "## 2. Исследовательский анализ данных (EDA)"
   ]
  },
  {
   "cell_type": "markdown",
   "metadata": {},
   "source": [
    "### 2.1. Средние значения и стандартные отклонения"
   ]
  },
  {
   "cell_type": "code",
   "execution_count": 22,
   "metadata": {},
   "outputs": [
    {
     "data": {
      "text/html": [
       "<div>\n",
       "<style scoped>\n",
       "    .dataframe tbody tr th:only-of-type {\n",
       "        vertical-align: middle;\n",
       "    }\n",
       "\n",
       "    .dataframe tbody tr th {\n",
       "        vertical-align: top;\n",
       "    }\n",
       "\n",
       "    .dataframe thead th {\n",
       "        text-align: right;\n",
       "    }\n",
       "</style>\n",
       "<table border=\"1\" class=\"dataframe\">\n",
       "  <thead>\n",
       "    <tr style=\"text-align: right;\">\n",
       "      <th></th>\n",
       "      <th>count</th>\n",
       "      <th>mean</th>\n",
       "      <th>std</th>\n",
       "      <th>min</th>\n",
       "      <th>25%</th>\n",
       "      <th>50%</th>\n",
       "      <th>75%</th>\n",
       "      <th>max</th>\n",
       "    </tr>\n",
       "  </thead>\n",
       "  <tbody>\n",
       "    <tr>\n",
       "      <td>userid</td>\n",
       "      <td>10000.0</td>\n",
       "      <td>1.573368e+07</td>\n",
       "      <td>71936.186123</td>\n",
       "      <td>15608437.00</td>\n",
       "      <td>1.567126e+07</td>\n",
       "      <td>1.573347e+07</td>\n",
       "      <td>1.579597e+07</td>\n",
       "      <td>15858426.00</td>\n",
       "    </tr>\n",
       "    <tr>\n",
       "      <td>Баллы кредитного скоринга</td>\n",
       "      <td>10000.0</td>\n",
       "      <td>6.505288e+02</td>\n",
       "      <td>96.653299</td>\n",
       "      <td>350.00</td>\n",
       "      <td>5.840000e+02</td>\n",
       "      <td>6.520000e+02</td>\n",
       "      <td>7.180000e+02</td>\n",
       "      <td>850.00</td>\n",
       "    </tr>\n",
       "    <tr>\n",
       "      <td>Возраст</td>\n",
       "      <td>10000.0</td>\n",
       "      <td>3.892180e+01</td>\n",
       "      <td>10.487806</td>\n",
       "      <td>18.00</td>\n",
       "      <td>3.200000e+01</td>\n",
       "      <td>3.700000e+01</td>\n",
       "      <td>4.400000e+01</td>\n",
       "      <td>92.00</td>\n",
       "    </tr>\n",
       "    <tr>\n",
       "      <td>Объекты собственности, шт.</td>\n",
       "      <td>10000.0</td>\n",
       "      <td>5.012800e+00</td>\n",
       "      <td>2.892174</td>\n",
       "      <td>0.00</td>\n",
       "      <td>3.000000e+00</td>\n",
       "      <td>5.000000e+00</td>\n",
       "      <td>7.000000e+00</td>\n",
       "      <td>10.00</td>\n",
       "    </tr>\n",
       "    <tr>\n",
       "      <td>Баланс счёта клиента</td>\n",
       "      <td>6383.0</td>\n",
       "      <td>1.198275e+05</td>\n",
       "      <td>30095.056462</td>\n",
       "      <td>3768.69</td>\n",
       "      <td>1.001820e+05</td>\n",
       "      <td>1.198397e+05</td>\n",
       "      <td>1.395123e+05</td>\n",
       "      <td>250898.09</td>\n",
       "    </tr>\n",
       "    <tr>\n",
       "      <td>Используемые продукты, шт.</td>\n",
       "      <td>10000.0</td>\n",
       "      <td>1.530200e+00</td>\n",
       "      <td>0.581654</td>\n",
       "      <td>1.00</td>\n",
       "      <td>1.000000e+00</td>\n",
       "      <td>1.000000e+00</td>\n",
       "      <td>2.000000e+00</td>\n",
       "      <td>4.00</td>\n",
       "    </tr>\n",
       "    <tr>\n",
       "      <td>Факт наличия кредитной карты</td>\n",
       "      <td>10000.0</td>\n",
       "      <td>7.055000e-01</td>\n",
       "      <td>0.455840</td>\n",
       "      <td>0.00</td>\n",
       "      <td>0.000000e+00</td>\n",
       "      <td>1.000000e+00</td>\n",
       "      <td>1.000000e+00</td>\n",
       "      <td>1.00</td>\n",
       "    </tr>\n",
       "    <tr>\n",
       "      <td>Факт активности клиента</td>\n",
       "      <td>10000.0</td>\n",
       "      <td>5.151000e-01</td>\n",
       "      <td>0.499797</td>\n",
       "      <td>0.00</td>\n",
       "      <td>0.000000e+00</td>\n",
       "      <td>1.000000e+00</td>\n",
       "      <td>1.000000e+00</td>\n",
       "      <td>1.00</td>\n",
       "    </tr>\n",
       "    <tr>\n",
       "      <td>Заработная плата клиента</td>\n",
       "      <td>10000.0</td>\n",
       "      <td>1.000902e+05</td>\n",
       "      <td>57510.492818</td>\n",
       "      <td>11.58</td>\n",
       "      <td>5.100211e+04</td>\n",
       "      <td>1.001939e+05</td>\n",
       "      <td>1.493882e+05</td>\n",
       "      <td>199992.48</td>\n",
       "    </tr>\n",
       "    <tr>\n",
       "      <td>Факт оттока клиента</td>\n",
       "      <td>10000.0</td>\n",
       "      <td>2.037000e-01</td>\n",
       "      <td>0.402769</td>\n",
       "      <td>0.00</td>\n",
       "      <td>0.000000e+00</td>\n",
       "      <td>0.000000e+00</td>\n",
       "      <td>0.000000e+00</td>\n",
       "      <td>1.00</td>\n",
       "    </tr>\n",
       "  </tbody>\n",
       "</table>\n",
       "</div>"
      ],
      "text/plain": [
       "                                count          mean           std  \\\n",
       "userid                        10000.0  1.573368e+07  71936.186123   \n",
       "Баллы кредитного скоринга     10000.0  6.505288e+02     96.653299   \n",
       "Возраст                       10000.0  3.892180e+01     10.487806   \n",
       "Объекты собственности, шт.    10000.0  5.012800e+00      2.892174   \n",
       "Баланс счёта клиента           6383.0  1.198275e+05  30095.056462   \n",
       "Используемые продукты, шт.    10000.0  1.530200e+00      0.581654   \n",
       "Факт наличия кредитной карты  10000.0  7.055000e-01      0.455840   \n",
       "Факт активности клиента       10000.0  5.151000e-01      0.499797   \n",
       "Заработная плата клиента      10000.0  1.000902e+05  57510.492818   \n",
       "Факт оттока клиента           10000.0  2.037000e-01      0.402769   \n",
       "\n",
       "                                      min           25%           50%  \\\n",
       "userid                        15608437.00  1.567126e+07  1.573347e+07   \n",
       "Баллы кредитного скоринга          350.00  5.840000e+02  6.520000e+02   \n",
       "Возраст                             18.00  3.200000e+01  3.700000e+01   \n",
       "Объекты собственности, шт.           0.00  3.000000e+00  5.000000e+00   \n",
       "Баланс счёта клиента              3768.69  1.001820e+05  1.198397e+05   \n",
       "Используемые продукты, шт.           1.00  1.000000e+00  1.000000e+00   \n",
       "Факт наличия кредитной карты         0.00  0.000000e+00  1.000000e+00   \n",
       "Факт активности клиента              0.00  0.000000e+00  1.000000e+00   \n",
       "Заработная плата клиента            11.58  5.100211e+04  1.001939e+05   \n",
       "Факт оттока клиента                  0.00  0.000000e+00  0.000000e+00   \n",
       "\n",
       "                                       75%          max  \n",
       "userid                        1.579597e+07  15858426.00  \n",
       "Баллы кредитного скоринга     7.180000e+02       850.00  \n",
       "Возраст                       4.400000e+01        92.00  \n",
       "Объекты собственности, шт.    7.000000e+00        10.00  \n",
       "Баланс счёта клиента          1.395123e+05    250898.09  \n",
       "Используемые продукты, шт.    2.000000e+00         4.00  \n",
       "Факт наличия кредитной карты  1.000000e+00         1.00  \n",
       "Факт активности клиента       1.000000e+00         1.00  \n",
       "Заработная плата клиента      1.493882e+05    199992.48  \n",
       "Факт оттока клиента           0.000000e+00         1.00  "
      ]
     },
     "execution_count": 22,
     "metadata": {},
     "output_type": "execute_result"
    }
   ],
   "source": [
    "# Посмотрим на имеющиеся признаки, применим метод describe()\n",
    "df.describe().T"
   ]
  },
  {
   "cell_type": "markdown",
   "metadata": {},
   "source": [
    "**Вывод:**\n",
    "- Имеются данные 10 000 клиентов.\n",
    "- *Баллы кредитного скоринга* - минимальный балл 350, максимальный - 850, медианное значение - 650, стандартное отклонение - 96,7 - большой разброс значений баллов \n",
    "- *Город* - практически 50% клиентов пользуются услугами банка в Ярославле, примерно по 25% клиентов в Ростове Великом и Рыбинске\n",
    "- *Пол* - среди клиентов банка 55% - мужчины, 45% - женщины\n",
    "- *Возраст* - стандартное отклонение 10,5 - умеренный разброс значений, клиенты от 18 до 92 лет, медианный возраст - 38,9 лет\n",
    "- *Объекты собственности* - в собственности у клиентов банка от 0 до 10 объектов, которые могут быть представлены в залог, стандартное отклонение небольшое - 2,9 - разброс значений небольшой (0 и 10 объектов примерно у 5% клиентов, от 1 до 9 объектов - распределение по 10% клиентов), медианное значение - 5 объектов\n",
    "- *Баланс счёта клиента* - стандартное отклонение  гигантское - 30 095,1 (нужно посмотреть наличие выбросов)- разброс значений от 3 768,69 (далее будем условно считать единицей измерения рубли) до 250 898,1 рублей, медианное значение - 119 827,5 рублей (вклады у клиентов банка небольшие)\n",
    "- *Используемые продукты* - стандартное отклонение незначительное - всего четыре варианта значений - клиенты используют от 1 до 4 продуктов, 1 продукт используют  51% клиентов, 2 - 46% клиентов, 3 - всего 3 % клиентов, 4 - 1 %, медианное количество продуктов - 1,5 (иначе говоря 1-2)\n",
    "- *Факт наличия кредитной карты* - около 71% клиентов банка имеют кредитную карту, около 29% - кредитной картой не пользуются\n",
    "- *Факт активности клиента* - 52% клиентов активны, 48% клиентов не активны\n",
    "- *Заработная плата клиента* - стандартное отклонение  гигантское - 57 510,5 - заработная плата у клиентов от 11,58 (явно иждивенец, либо ошибка в данных - нужно смотреть выбросы) до 199 992,48 рублей (условно), медианная заработная плата - 100 090,2 рублей\n",
    "- *Факт оттока клиента* - банк покинули около 20% клиентов (довольно много)"
   ]
  },
  {
   "cell_type": "markdown",
   "metadata": {},
   "source": [
    "<div class='alert alert-success'>\n",
    "Отличная часть со знакомством данных"
   ]
  },
  {
   "cell_type": "markdown",
   "metadata": {},
   "source": [
    "### 2.2. Средние значения признаков по группам: ушли в отток  / остались "
   ]
  },
  {
   "cell_type": "code",
   "execution_count": 23,
   "metadata": {},
   "outputs": [
    {
     "data": {
      "text/html": [
       "<div>\n",
       "<style scoped>\n",
       "    .dataframe tbody tr th:only-of-type {\n",
       "        vertical-align: middle;\n",
       "    }\n",
       "\n",
       "    .dataframe tbody tr th {\n",
       "        vertical-align: top;\n",
       "    }\n",
       "\n",
       "    .dataframe thead th {\n",
       "        text-align: right;\n",
       "    }\n",
       "</style>\n",
       "<table border=\"1\" class=\"dataframe\">\n",
       "  <thead>\n",
       "    <tr style=\"text-align: right;\">\n",
       "      <th>Факт оттока клиента</th>\n",
       "      <th>0</th>\n",
       "      <th>1</th>\n",
       "    </tr>\n",
       "  </thead>\n",
       "  <tbody>\n",
       "    <tr>\n",
       "      <td>userid</td>\n",
       "      <td>1.573390e+07</td>\n",
       "      <td>1.573279e+07</td>\n",
       "    </tr>\n",
       "    <tr>\n",
       "      <td>Баллы кредитного скоринга</td>\n",
       "      <td>6.518532e+02</td>\n",
       "      <td>6.453515e+02</td>\n",
       "    </tr>\n",
       "    <tr>\n",
       "      <td>Возраст</td>\n",
       "      <td>3.740839e+01</td>\n",
       "      <td>4.483800e+01</td>\n",
       "    </tr>\n",
       "    <tr>\n",
       "      <td>Объекты собственности, шт.</td>\n",
       "      <td>5.033279e+00</td>\n",
       "      <td>4.932744e+00</td>\n",
       "    </tr>\n",
       "    <tr>\n",
       "      <td>Баланс счёта клиента</td>\n",
       "      <td>1.195359e+05</td>\n",
       "      <td>1.207470e+05</td>\n",
       "    </tr>\n",
       "    <tr>\n",
       "      <td>Используемые продукты, шт.</td>\n",
       "      <td>1.544267e+00</td>\n",
       "      <td>1.475209e+00</td>\n",
       "    </tr>\n",
       "    <tr>\n",
       "      <td>Факт наличия кредитной карты</td>\n",
       "      <td>7.071455e-01</td>\n",
       "      <td>6.990673e-01</td>\n",
       "    </tr>\n",
       "    <tr>\n",
       "      <td>Факт активности клиента</td>\n",
       "      <td>5.545649e-01</td>\n",
       "      <td>3.608247e-01</td>\n",
       "    </tr>\n",
       "    <tr>\n",
       "      <td>Заработная плата клиента</td>\n",
       "      <td>9.973839e+04</td>\n",
       "      <td>1.014657e+05</td>\n",
       "    </tr>\n",
       "  </tbody>\n",
       "</table>\n",
       "</div>"
      ],
      "text/plain": [
       "Факт оттока клиента                      0             1\n",
       "userid                        1.573390e+07  1.573279e+07\n",
       "Баллы кредитного скоринга     6.518532e+02  6.453515e+02\n",
       "Возраст                       3.740839e+01  4.483800e+01\n",
       "Объекты собственности, шт.    5.033279e+00  4.932744e+00\n",
       "Баланс счёта клиента          1.195359e+05  1.207470e+05\n",
       "Используемые продукты, шт.    1.544267e+00  1.475209e+00\n",
       "Факт наличия кредитной карты  7.071455e-01  6.990673e-01\n",
       "Факт активности клиента       5.545649e-01  3.608247e-01\n",
       "Заработная плата клиента      9.973839e+04  1.014657e+05"
      ]
     },
     "execution_count": 23,
     "metadata": {},
     "output_type": "execute_result"
    }
   ],
   "source": [
    "# Посмотрим на медианные значения признаков в двух группах - тех, кто ушел в отток и тех, кто остался, воспользуемся groupby()\n",
    "df1 = df.groupby('Факт оттока клиента').agg('mean').T\n",
    "df1"
   ]
  },
  {
   "cell_type": "markdown",
   "metadata": {},
   "source": [
    "**Вывод:**\n",
    "- *Баллы кредитного скоринга* - средние значения в группе оттока и оставшихся клиентов примерно одинаковы: 652 и 645 соответственно\n",
    "- *Город* - примерно по 8% (от общего числа клиентов) ушли из банка в Ярославле и Ростове Великом, около 4% клиентов ушли из банка в Рыбинске\n",
    "- *Пол* - среди клиентов оттока больше женщин - 11,4% (от общего числа клиентов), мужчин около 9%, учитывая, что в целом среди клиентов мужчин больше, следует обратить внимание на этот факт - женщины уходят чаще\n",
    "- *Возраст* - средний возраст клиентов оттока около 45 лет, оставшиеся клиенты в среднем моложе - около 37 лет\n",
    "- *Объекты собственности* - среднее количество объектов по двум группам примерно одинаковое - около 5\n",
    "- *Баланс счёта клиента* - средний баланс счета клиентов в двух группах примерно одинаков - около 120 тысяч рублей\n",
    "- *Используемые продукты* - среднее число используемых продуктов банка в двух группах примерно одинаково - около 1,5\n",
    "- *Факт наличия кредитной карты* - среди клиентов оттока большая часть имеет кредитные карты - 14% (от общего числа клиентов), тогда как не имеют кредитные карты всего 6% - клиенты с кредитной картой уходят чаще, однако соотношение клиентов с кредитной картой и без нее в группе оставшихся находится примерно на таком же уровне - 56 и 24% от общего числа клиентов соответственно\n",
    "- *Факт активности клиента* - среди клиентов оттока большая часть неактивна - около 13% (от общего числа клиентов), к активным клиентам оттока относится только 7% - активные клиенты уходят реже\n",
    "- *Заработная плата клиента* - средние зарплаты клиентов оттока и оставшихся примерно на одном уровне - в районе 100 тысяч рублей"
   ]
  },
  {
   "cell_type": "markdown",
   "metadata": {},
   "source": [
    "### 2.3. Распределение признаков по группам: ушли в отток  / остались "
   ]
  },
  {
   "cell_type": "markdown",
   "metadata": {},
   "source": [
    "**Проверим ряд признаков (исключим булевые значения и признаки с низким разбросом значений) на наличие выбросов.**"
   ]
  },
  {
   "cell_type": "code",
   "execution_count": 24,
   "metadata": {},
   "outputs": [],
   "source": [
    "# Используем функцию, получающую на вход название признака, и возвращающую границы \"усов\" - крайних значений нормы\n",
    "def df_whiskers(column):\n",
    "    stat = df[column].describe()\n",
    "    \n",
    "    # межквартирльный размах\n",
    "    iqr = stat[6] - stat[4]\n",
    "    \n",
    "    # левый и правый \"ус\"    \n",
    "    left_whisker = round(stat[4] - 1.5 * iqr, 2)\n",
    "    right_whisker = round(stat[6] + 1.5 * iqr, 2)\n",
    "\n",
    "    # левый \"ус\" не должен быть меньше минимального значения\n",
    "    if left_whisker < stat[3]: left_whisker = stat[3] \n",
    "        \n",
    "    # правый \"ус\" не должен быть больше максимального значения\n",
    "    if right_whisker > stat[7]: right_whisker = stat[7]\n",
    "        \n",
    "    return [left_whisker, right_whisker]"
   ]
  },
  {
   "cell_type": "code",
   "execution_count": 25,
   "metadata": {},
   "outputs": [
    {
     "data": {
      "text/plain": [
       "[383.0, 850.0]"
      ]
     },
     "metadata": {},
     "output_type": "display_data"
    },
    {
     "data": {
      "text/plain": [
       "[18.0, 62.0]"
      ]
     },
     "metadata": {},
     "output_type": "display_data"
    },
    {
     "data": {
      "text/plain": [
       "[11.58, 199992.48]"
      ]
     },
     "metadata": {},
     "output_type": "display_data"
    },
    {
     "data": {
      "text/plain": [
       "[41186.5, 198507.76]"
      ]
     },
     "metadata": {},
     "output_type": "display_data"
    },
    {
     "data": {
      "text/plain": [
       "[0.0, 10.0]"
      ]
     },
     "metadata": {},
     "output_type": "display_data"
    }
   ],
   "source": [
    "# Вызовем функцию для нужных столбцов\n",
    "display(df_whiskers('Баллы кредитного скоринга'))\n",
    "display(df_whiskers('Возраст'))\n",
    "display(df_whiskers('Заработная плата клиента'))\n",
    "display(df_whiskers('Баланс счёта клиента'))\n",
    "display(df_whiskers('Объекты собственности, шт.'))"
   ]
  },
  {
   "cell_type": "markdown",
   "metadata": {},
   "source": [
    "**Очевидные выбросы имеются в столбцах 'Возраст' и 'Баланс счёта клиента'.**"
   ]
  },
  {
   "cell_type": "code",
   "execution_count": 26,
   "metadata": {
    "scrolled": false
   },
   "outputs": [
    {
     "data": {
      "image/png": "[encoded data removed]",
      "text/plain": [
       "<Figure size 432x288 with 1 Axes>"
      ]
     },
     "metadata": {},
     "output_type": "display_data"
    },
    {
     "data": {
      "image/png": "[encoded data removed]",
      "text/plain": [
       "<Figure size 432x288 with 1 Axes>"
      ]
     },
     "metadata": {},
     "output_type": "display_data"
    },
    {
     "data": {
      "image/png": "[encoded data removed]",
      "text/plain": [
       "<Figure size 432x288 with 1 Axes>"
      ]
     },
     "metadata": {},
     "output_type": "display_data"
    },
    {
     "data": {
      "image/png": "[encoded data removed]",
      "text/plain": [
       "<Figure size 432x288 with 1 Axes>"
      ]
     },
     "metadata": {},
     "output_type": "display_data"
    },
    {
     "data": {
      "image/png": "[encoded data removed]",
      "text/plain": [
       "<Figure size 432x288 with 1 Axes>"
      ]
     },
     "metadata": {},
     "output_type": "display_data"
    }
   ],
   "source": [
    "# Визулизируем распределение признаков, cформируем диаграммы размаха в двух группах: клиентов оттока и оставшихся клиентов\n",
    "\n",
    "distplot_columns = ['Баллы кредитного скоринга', 'Возраст', 'Заработная плата клиента', \n",
    "                    'Баланс счёта клиента', 'Объекты собственности, шт.']\n",
    "\n",
    "for column in distplot_columns: \n",
    "    sns.boxplot(x = 'Факт оттока клиента', y = df[column], data = df, palette=[\"#8EBA42\", \"#E24A33\"])\n",
    "    plt.title('Диаграмма размаха')\n",
    "    plt.xlabel('Факт оттока клиента')\n",
    "  \n",
    "    plt.show()"
   ]
  },
  {
   "cell_type": "code",
   "execution_count": 27,
   "metadata": {
    "scrolled": false
   },
   "outputs": [
    {
     "data": {
      "image/png": "[encoded data removed]",
      "text/plain": [
       "<Figure size 864x432 with 1 Axes>"
      ]
     },
     "metadata": {},
     "output_type": "display_data"
    },
    {
     "data": {
      "image/png": "[encoded data removed]",
      "text/plain": [
       "<Figure size 864x432 with 1 Axes>"
      ]
     },
     "metadata": {},
     "output_type": "display_data"
    },
    {
     "data": {
      "image/png": "[encoded data removed]",
      "text/plain": [
       "<Figure size 864x432 with 1 Axes>"
      ]
     },
     "metadata": {},
     "output_type": "display_data"
    },
    {
     "data": {
      "image/png": "[encoded data removed]",
      "text/plain": [
       "<Figure size 864x432 with 1 Axes>"
      ]
     },
     "metadata": {},
     "output_type": "display_data"
    },
    {
     "data": {
      "image/png": "[encoded data removed]",
      "text/plain": [
       "<Figure size 864x432 with 1 Axes>"
      ]
     },
     "metadata": {},
     "output_type": "display_data"
    }
   ],
   "source": [
    "# Дополнительно построим плотностные гистограммы\n",
    "# Для визуализации распределения по признаку 'Баланс счёта клиента' заменим пропуски на 0\n",
    "df_2 = df\n",
    "df_2['Баланс счёта клиента'] = df_2 ['Баланс счёта клиента'].fillna(0)\n",
    "\n",
    "\n",
    "outflow = df_2[df_2['Факт оттока клиента']==1]\n",
    "remained = df_2[df_2['Факт оттока клиента']==0]\n",
    "distplot_columns = ['Баллы кредитного скоринга', 'Возраст', 'Заработная плата клиента', \n",
    "                    'Баланс счёта клиента', 'Объекты собственности, шт.']\n",
    "\n",
    "for column in distplot_columns: \n",
    "  plt.figure(figsize=(12,6)) \n",
    "  plt.title(column)\n",
    "  plt.xlabel(column)\n",
    "  plt.ylabel('Частота')  \n",
    "  sns.distplot(outflow[column], color = \"r\", hist_kws = {'edgecolor': 'black'})\n",
    "  sns.distplot(remained[column], color = \"g\", hist_kws = {'edgecolor': 'black'})\n",
    "  plt.legend(['Отток клиентов', 'Оставшиеся клиенты'])\n",
    "  plt.show()"
   ]
  },
  {
   "cell_type": "markdown",
   "metadata": {},
   "source": [
    "**Вывод:**\n",
    "- *Баллы кредитного скоринга* - в группе оттока и оставшихся клиентов распределение почти равномерно - основная масса клиентов имеет балл от 590 до 710, общий диапазон значений нормы - [383.0, 850.0]; в группе клиентов оттока есть выбросы - баллы кредитного скоринга ниже 380\n",
    "\n",
    "\n",
    "- *Возраст* - общий диапазон нормы значений возраста клиентов - [18.0, 62.0]; в группе клиентов оттока распределение в более старшей возрастной группе  - в основном от 38 до 52, с выбросами от 70 до 85 лет, оставшиеся клиенты моложе - основная масса клиентов в возрасте от 30 до 42 лет, с выбросами от 57 до 92 лет\n",
    "\n",
    "\n",
    "- *Заработная плата клиента* - распределение в обеих группах примерно равномерно, общий диапазон значений нормы - [11.58, 199992.48], основная масса клиентов в обеих группах имеет зар.плату в пределах от 50 тыс. до 150 тыс. рублей\n",
    "\n",
    "\n",
    "- *Баланс счёта клиента* - общий диапазон значений нормы - [41186.5, 198507.76], в обеих группах есть пропуски данных баланса счета (в группе оставшихся клиентов пропусков больше примерно в два раза); основная масса клиентов в обеих группах имеет на счетах от 100 тыс. до 140 тыс. рублей; выбросы ниже и выше диапазона нормы есть в обеих группах - в группе оставшихся выбросы до 40 тыс. и от 200 тыс. до 225 тыс., в группе оттока выбросы до 50 тыс. и от 200 тыс до более чем 250 тыс. рублей на счете\n",
    "\n",
    "\n",
    "- *Объекты собственности* - в обеих группах клиенты имеют в собственности от 1 до 10 объектов в пределах нормы, в группе оставшихся большинство клиентов имеет от 3 до 7 объектов, в группе оттока - от  2 до 8 объектов в собственности"
   ]
  },
  {
   "cell_type": "code",
   "execution_count": 28,
   "metadata": {
    "scrolled": false
   },
   "outputs": [
    {
     "data": {
      "image/png": "[encoded data removed]",
      "text/plain": [
       "<Figure size 720x360 with 1 Axes>"
      ]
     },
     "metadata": {},
     "output_type": "display_data"
    },
    {
     "data": {
      "image/png": "[encoded data removed]",
      "text/plain": [
       "<Figure size 720x360 with 1 Axes>"
      ]
     },
     "metadata": {},
     "output_type": "display_data"
    },
    {
     "data": {
      "image/png": "[encoded data removed]",
      "text/plain": [
       "<Figure size 720x360 with 1 Axes>"
      ]
     },
     "metadata": {},
     "output_type": "display_data"
    },
    {
     "data": {
      "image/png": "[encoded data removed]",
      "text/plain": [
       "<Figure size 720x360 with 1 Axes>"
      ]
     },
     "metadata": {},
     "output_type": "display_data"
    },
    {
     "data": {
      "image/png": "[encoded data removed]",
      "text/plain": [
       "<Figure size 720x360 with 1 Axes>"
      ]
     },
     "metadata": {},
     "output_type": "display_data"
    },
    {
     "data": {
      "image/png": "[encoded data removed]",
      "text/plain": [
       "<Figure size 720x360 with 1 Axes>"
      ]
     },
     "metadata": {},
     "output_type": "display_data"
    }
   ],
   "source": [
    "# Визуализируем распределение признаков в двух группах: клиентов оттока и оставшихся клиентов\n",
    "# Для ряда признаков построим столбчатые гистограммы (булевые значения и признаки с низким разбросом значений)\n",
    "columns = ['Город', 'Пол', 'Используемые продукты, шт.', \n",
    "                    'Факт наличия кредитной карты', 'Факт активности клиента', 'Факт оттока клиента']\n",
    "\n",
    "for column in columns:\n",
    "   df.groupby('Факт оттока клиента')[column]  \n",
    "   plt.figure(figsize=(10, 5))\n",
    "   sns.countplot(x = df[column], hue='Факт оттока клиента', data=df, ec='black', color='#CB4B16')\n",
    "   plt.title(column)\n",
    "   plt.xlabel(column)\n",
    "   plt.ylabel('Частота') \n",
    "   plt.legend(['Оставшиеся клиенты','Отток клиентов'])\n",
    "   plt.show()"
   ]
  },
  {
   "cell_type": "markdown",
   "metadata": {},
   "source": [
    "**Вывод:**\n",
    "\n",
    "**Город**\n",
    "- Примерно 50% клиентов в Ростове Великом ушли в отток (от числа клиентов в Ростове Великом), около 19 % клиентов ушли в отток в Рыбинске (от числа клиентов в Рыбинске), около 18 % клиентов ушли в отток в Ярославле (от числа клиентов в Ярославле); от общего числа клиентов в группе оттока в Ростове Великом и Ярославле ушло по 39 %, в Рыбинске - 22 % клиентов оттока\n",
    "\n",
    "**Пол**\n",
    "- В отток ушли около 32 % женщин (от числа женщин) и около 19 % мужчин (от числа мужчин); от числа клиентов группы оттока - 54 % - женщины, 46 % - мужчины\n",
    "\n",
    "**Используемые продукты, шт.**\n",
    "- Клиенты из группы оттока использовали от 1 до 4 продуктов банка, большинство ушедших (69 % от числа клиентов оттока) использовали 1 продукт; в группе оставшихся клиенты использовали от 1 до 3 продуктов, большинство (53% от числа оставшихся клиентов) используют 2 продукта или (46 %) 1 продукт\n",
    "\n",
    "**Факт наличия кредитной карты**\n",
    "- В группе оттока около 70% (от числа клиентов группы оттока) имели кредитную карту, соотношение имеющих и не имеющих кредитную карту клиентов среди оставшихся примерно такое же (69,5 % оставшихся с кредитной картой, 29,5 % оставшихся не имеют кредитную карту)\n",
    "\n",
    "**Факт активности клиента**\n",
    "- В группе оттока только 39 % активных клиентов (от числа клиентов оттока); среди оставшихся - около 58 % клиентов активны (от числа оставшихся).\n",
    "\n",
    "**Факт оттока клиента**\n",
    "- В отток ушли около 20% от общего числа клиентов\n"
   ]
  },
  {
   "cell_type": "markdown",
   "metadata": {},
   "source": [
    "### 2.4. Выявление зависимостей. Матрица корреляции признаков"
   ]
  },
  {
   "cell_type": "code",
   "execution_count": 29,
   "metadata": {},
   "outputs": [
    {
     "data": {
      "image/png": "[encoded data removed]",
      "text/plain": [
       "<Figure size 1008x720 with 2 Axes>"
      ]
     },
     "metadata": {},
     "output_type": "display_data"
    }
   ],
   "source": [
    "# Построим матрицу корреляции признаков\n",
    "plt.figure(figsize=(14,10))\n",
    "sns.heatmap(data = df.corr(), annot=True, square=True, cmap='YlGnBu', fmt='0.2f', )\n",
    "plt.title('Матрица корреляции признаков')\n",
    "plt.show()"
   ]
  },
  {
   "cell_type": "markdown",
   "metadata": {},
   "source": [
    "**Выводы:**\n",
    "\n",
    "***Факт оттока очень слабо отрицательно коррелирует (возрастание значений признака приводит к снижению оттока) с половиной признаков,заметная корреляция с фактом оттока имеется у следующих признаков:***\n",
    "- 'Возраст', корреляция равна  0,29 (максимальная положительная корреляция из имеющихся - чем старше клиент, тем выше вероятность его ухода)\n",
    "- 'Баланс счета клиента', корреляция равна 0,12, слабая прямая зависимость \n",
    "- 'Факт активности клиента',  корреляция слабая отрицательная, равна - 0,16"
   ]
  },
  {
   "cell_type": "markdown",
   "metadata": {},
   "source": [
    "**Учитывая, что возраст положительно коррелирует с фактом оттока клиентов, а распределение признаков Город и Пол показывают влияние на факт оттока, дополнительно посмотрим, не связано ли их влияние с возрастом клиентов.**   "
   ]
  },
  {
   "cell_type": "code",
   "execution_count": 30,
   "metadata": {},
   "outputs": [
    {
     "data": {
      "image/png": "[encoded data removed]",
      "text/plain": [
       "<Figure size 432x288 with 1 Axes>"
      ]
     },
     "metadata": {},
     "output_type": "display_data"
    }
   ],
   "source": [
    "# Построим дополнительно на распределение клиентов разных городов по возрастам\n",
    "sns.boxplot(x = 'Город', y = 'Возраст', data = df, palette=[\"#92C6FF\", \"#97F0AA\",\"#FF9F9A\"])\n",
    "plt.title('Диаграмма размаха')\n",
    "plt.show()"
   ]
  },
  {
   "cell_type": "markdown",
   "metadata": {},
   "source": [
    "**Выраженных отличий в распределении клиентов разных городов по возрастам нет: большинство клиентов Ярославля в возрасте от 30 до 43 лет, в Рыбинске от 32 до 45 лет, в Ростове Великом от 32 до 47 лет. Во всех городах есть клиенты младше 20 и старше 60 лет, максимальный возраст клиентов (92 года) - в Ярославле.**\n",
    "\n",
    "**Таким образом, можно предположить, что отток 50% клиентов из Ростова Великого и 19% клиентов из Рыбинска не связан с их возрастом. Условия филиала в конкретном городе влияют на отток клиентов - в дополнительных отделениях банка, в сравнении с центральным отделением, отток клиентов больше.**"
   ]
  },
  {
   "cell_type": "code",
   "execution_count": 31,
   "metadata": {},
   "outputs": [
    {
     "data": {
      "image/png": "[encoded data removed]",
      "text/plain": [
       "<Figure size 432x288 with 1 Axes>"
      ]
     },
     "metadata": {},
     "output_type": "display_data"
    }
   ],
   "source": [
    "# Построим дополнительно на распределение клиентов разного пола по возрастам\n",
    "sns.boxplot(x = 'Пол', y = 'Возраст', data = df, palette=[\"#FFB5B8\", \"#348ABD\"])\n",
    "plt.title('Диаграмма размаха')\n",
    "plt.show()"
   ]
  },
  {
   "cell_type": "markdown",
   "metadata": {},
   "source": [
    "**Выраженных отличий в распределении клиентов разного пола по возрастам нет: большинство клиентов женского пола в возрасте от 32 до 46 лет, мужского пола - от 32 до 44 лет. Среди клиентов- женщин и клиентов- мужчин имеются клиенты младше 20 и старше 60 лет, максимальный возраст клиентов (92 года) - мужчины. Средний возраст клиентов- женщин незначительно выше среднего возраста клиентов- мужчин: 38 и 37 лет соответственно.**\n",
    "**Таким образом, можно предположить, что распределение в 54% женщин и 46% мужчин в группе оттока не связано с их возрастом. Учитывая, что мужчин среди клиентов больше, чем женщин (55 и 45% соответственно), можно предположить, что пол клиента незначительно влияет на отток - женщины уходят чаще.**"
   ]
  },
  {
   "cell_type": "markdown",
   "metadata": {},
   "source": [
    "## 3.  Портрет клиентов оттока"
   ]
  },
  {
   "cell_type": "markdown",
   "metadata": {},
   "source": [
    "**Основные признаки, характерные для клиентов оттока:**\n",
    "\n",
    "- *Возраст* - от 38 до 52 лет, средний - 45 лет, зависимость факта оттока от возраста подтверждается максимальной корреляцией (0,29);\n",
    "- *Баланс на счете* - в основном от 100 000 до 140 000, в среднем - 120 000 рублей, зависимость между балансам и фактом оттока незначительная (корреляция 0,12);\n",
    "- *Активность* - чаще уходят неактивные клиенты (61% клиентов оттока), корреляция слабо отрицательная (- 0,16);\n",
    "- *Пол* -  незначительно чаще уходят женщины (54% клиентов оттока, 11,4% от общего числа клиентов), чем мужчины (46% оттока, 9% от общего числа клиентов), при этом женщин среди клиентов меньше (45% клиентов);\n",
    "- *Город* - чаще уходят клиенты дополнительных филиалов, особенно в Ростове Великом (61% в общей сложности от числа клиентов оттока, 50% от числа клиентов Ростова Великого, 19% от числа клиентов Рыбинска), чем центрального отделения (39% от числа клиентов оттока ушли в Ярославле, 18% от числа клиентов в Ярославле).\n",
    "\n",
    "**На факт оттока практически не влияет балл кредитного скоринга, число объектов в собственности, число используемых продуктов, факт наличия кредитной карты и заработная плата клиентов.**"
   ]
  },
  {
   "cell_type": "markdown",
   "metadata": {},
   "source": [
    "## 4.  Проверка статистических гипотез"
   ]
  },
  {
   "cell_type": "code",
   "execution_count": 32,
   "metadata": {},
   "outputs": [],
   "source": [
    "# Разделим датасет на две выборки по признаку \"Факт оттока клиента\"\n",
    "outflow = df[df['Факт оттока клиента']==1]\n",
    "remained = df[df['Факт оттока клиента']==0]"
   ]
  },
  {
   "cell_type": "markdown",
   "metadata": {},
   "source": [
    "### 4.1. Первая гипотеза"
   ]
  },
  {
   "cell_type": "markdown",
   "metadata": {},
   "source": [
    "В нашем распоряжении имеются срезы объединенных в один датасет независимых выборок двух генеральных совокупностей (данные о 2037 клиентах группы оттока и данные о 7963 оставшихся в банке клиентах). Выборки репрезентативны, количество наблюдений достаточное для применения ЦПТ.\n",
    "\n",
    "-__Нулевая гипотеза__ - \n",
    "$H_{0}$ - ***Средняя заработная плата клиентов оттока равна средней заработной плате оставшихся в банке клиентов***\n",
    "\n",
    "-__Альтернативная гипотеза__ - \n",
    "$H_{1}$ - ***Средняя заработная плата клиентов оттока не равна средней заработной плате оставшихся в банке клиентов***\n",
    "\n",
    "**α = 0,01**\n",
    "\n",
    "**Для определения статистического теста, который мы будем использовать, рассчитаем дисперсию по двум выборкам и их соотношение.**"
   ]
  },
  {
   "cell_type": "code",
   "execution_count": 33,
   "metadata": {},
   "outputs": [
    {
     "name": "stdout",
     "output_type": "stream",
     "text": [
      "Дисперсия среза данных клиентов оттока: 3352201702.316679\n",
      "Дисперсия среза данных оставшихся клиентов: 3294987575.73531\n",
      "\n",
      "Соотношение дисперсий дохода клиентов: 1.0173639885633259\n"
     ]
    }
   ],
   "source": [
    "# Рассчитаем дисперсию для среза данных клиентов оттока по доходу\n",
    "print('Дисперсия среза данных клиентов оттока:', np.var(outflow['Заработная плата клиента']))\n",
    "# Рассчитаем дисперсию для среза данных оставшихся клиентов по доходу\n",
    "print('Дисперсия среза данных оставшихся клиентов:', np.var(remained['Заработная плата клиента']))\n",
    "print()\n",
    "print('Соотношение дисперсий дохода клиентов:', np.var(outflow['Заработная плата клиента']) / np.var(remained['Заработная плата клиента']))"
   ]
  },
  {
   "cell_type": "markdown",
   "metadata": {},
   "source": [
    "**По признаку \"Заработная плата клиентов\" распределение в двух группах сходное, дисперсии практически равны. Учитывая, что формулировка гипотезы о равенстве среднего (т.е. мы оцениваем определенный параметр), будем использовать параметрический тест Стьюдента.**"
   ]
  },
  {
   "cell_type": "code",
   "execution_count": 34,
   "metadata": {},
   "outputs": [
    {
     "name": "stdout",
     "output_type": "stream",
     "text": [
      "p-значение: 0.228924613051458\n",
      "Не получилось отвергнуть нулевую гипотезу\n"
     ]
    }
   ],
   "source": [
    "# Сделаем срезы для разделения выборок данных по признаку \"Заработная плата\"\n",
    "outflow_1 = outflow['Заработная плата клиента']\n",
    "remained_1 = remained['Заработная плата клиента']\n",
    "\n",
    "# Критический уровень статистической значимости\n",
    "alpha = 0.01 \n",
    "\n",
    "# Проверим гипотезу о равенстве средней заработной платы для двух групп: клиентов оттока и оставшихся клиентов\n",
    "results = st.ttest_ind(outflow_1, remained_1, equal_var = False ) \n",
    "\n",
    "print('p-значение:', results.pvalue)\n",
    "\n",
    "if results.pvalue < alpha:\n",
    "    print(\"Отвергаем нулевую гипотезу: средняя заработная плата клиентов оттока НЕ равна средней заработной плате оставшихся в банке клиентов\")\n",
    "else:\n",
    "    print(\"Не получилось отвергнуть нулевую гипотезу\")"
   ]
  },
  {
   "cell_type": "markdown",
   "metadata": {},
   "source": [
    "**Вероятность того, что средняя заработная плата клиентов оттока отличается от средней заработной платы оставшихся клиентов равна 22,9 %.**\n",
    "\n",
    "**Средняя заработная плата клиентов оттока незначительно отличается от средней заработной платы оставшихся в банке клиентов.**\n",
    "\n",
    "*Дополнительно сформулируем гипотезу  в структурном ключе и проверим ее непараметрическим тестом - U -критерием Манна-Уитни.*\n",
    "\n",
    "-__Нулевая гипотеза__ - \n",
    "$H_{0}$ - ***Доход клиентов оттока равен доходу оставшихся в банке клиентов***\n",
    "\n",
    "-__Альтернативная гипотеза__ - \n",
    "$H_{1}$ - ***Доход клиентов оттока не равен доходу оставшихся в банке клиентов***\n",
    "\n",
    "**α = 0,01**"
   ]
  },
  {
   "cell_type": "code",
   "execution_count": 35,
   "metadata": {},
   "outputs": [
    {
     "name": "stdout",
     "output_type": "stream",
     "text": [
      "P-value: 0.22705150930153783\n",
      "Не получилось отвергнуть нулевую гипотезу: разница в доходе клиентов оттока и оставшихся в банке клиентов статистически НЕзначима\n"
     ]
    }
   ],
   "source": [
    "# Посчитаем статистическую значимость различий в доходе между группой клиентов оттока и группой оставшихся клиентов\n",
    "\n",
    "alpha = 0.01 # критический уровень статистической значимости\n",
    "\n",
    "results = stats.mannwhitneyu(outflow_1, remained_1, alternative=\"two-sided\")\n",
    "print('P-value: {}'.format(results.pvalue))\n",
    "if results.pvalue < alpha:\n",
    "    print('Отвергаем нулевую гипотезу: разница в доходе клиентов оттока и оставшихся в банке клиентов статистически ЗНАЧИМА')\n",
    "else:\n",
    "    print('Не получилось отвергнуть нулевую гипотезу: разница в доходе клиентов оттока и оставшихся в банке клиентов статистически НЕзначима')"
   ]
  },
  {
   "cell_type": "markdown",
   "metadata": {},
   "source": [
    "**Разница между доходом клиентов оттока и оставшихся в банке клиентов статистически не значима.**"
   ]
  },
  {
   "cell_type": "markdown",
   "metadata": {},
   "source": [
    "### 4.2. Вторая гипотеза"
   ]
  },
  {
   "cell_type": "markdown",
   "metadata": {},
   "source": [
    "**Исходя из того, что максимальная зависимость с фактом оттока клиентов выявлена для возраста клиентов, сфрмулируем гипотезы, чтобы проверить полученные данные.**"
   ]
  },
  {
   "cell_type": "markdown",
   "metadata": {},
   "source": [
    "-__Нулевая гипотеза__ - \n",
    "$H_{0}$ - ***Возрастные группы клиентов оттока и оставшихся в банке клиентов одинаковы***\n",
    "\n",
    "-__Альтернативная гипотеза__ - \n",
    "$H_{1}$ - ***Возрастные группы клиентов оттока и оставшихся в банке клиентов не одинаковы****\n",
    "\n",
    "**α = 0,01**"
   ]
  },
  {
   "cell_type": "code",
   "execution_count": 36,
   "metadata": {},
   "outputs": [
    {
     "name": "stdout",
     "output_type": "stream",
     "text": [
      "Дисперсия среза данных клиентов оттока: 95.24130536474341\n",
      "Дисперсия среза данных оставшихся клиентов: 102.51009916216009\n",
      "\n",
      "Соотношение дисперсий значений возраста: 1.0763197624137926\n"
     ]
    }
   ],
   "source": [
    "# Рассчитаем дисперсию для среза данных клиентов оттока по возрасту\n",
    "print('Дисперсия среза данных клиентов оттока:', np.var(outflow['Возраст']))\n",
    "# Рассчитаем дисперсию для среза данных оставшихся клиентов по возрасту\n",
    "print('Дисперсия среза данных оставшихся клиентов:', np.var(remained['Возраст']))\n",
    "print()\n",
    "print('Соотношение дисперсий значений возраста:', np.var(remained['Возраст']) / np.var(outflow['Возраст']))"
   ]
  },
  {
   "cell_type": "markdown",
   "metadata": {},
   "source": [
    "**По признаку \"Возраст\" распределение в двух группах сходное, дисперсии отличаются незначительно. Учитывая, что формулировка гипотезы основана на структурном подходе, а также наличие выбросов в распределение значений признака \"Возраст\" в двух группах, будем применять непараметрический тест - U -критерий Манна-Уитни.**"
   ]
  },
  {
   "cell_type": "code",
   "execution_count": 37,
   "metadata": {},
   "outputs": [
    {
     "name": "stdout",
     "output_type": "stream",
     "text": [
      "P-value: 3.2104014319371675e-230\n",
      "Отвергаем нулевую гипотезу: разница в возрасте клиентов оттока и оставшихся в банке клиентов статистически ЗНАЧИМА\n"
     ]
    }
   ],
   "source": [
    "# Сделаем срезы для разделения выборок данных по признаку \"Возраст\"\n",
    "outflow_2 = outflow['Возраст']\n",
    "remained_2 = remained['Возраст']\n",
    "\n",
    "# Посчитаем статистическую значимость различий в возрасте клиентов между группой клиентов оттока и группой оставшихся клиентов\n",
    "\n",
    "alpha = 0.01 # критический уровень статистической значимости\n",
    "\n",
    "results = stats.mannwhitneyu(outflow_2, remained_2, alternative=\"two-sided\")\n",
    "print('P-value: {}'.format(results.pvalue))\n",
    "if results.pvalue < alpha:\n",
    "    print('Отвергаем нулевую гипотезу: разница в возрасте клиентов оттока и оставшихся в банке клиентов статистически ЗНАЧИМА')\n",
    "else:\n",
    "    print('Не получилось отвергнуть нулевую гипотезу: разница в возрасте клиентов оттока и оставшихся в банке клиентов статистически НЕзначима')"
   ]
  },
  {
   "cell_type": "markdown",
   "metadata": {},
   "source": [
    "**Разница в возрасте в группах оттока и оставшихся в банке клиентов статистически значима. Очистка данных от выбросов вероятно не изменит результат, так как нормы распределения значений возраста лежат в разных диапазонах - для клиентов оттока от 20 до 70 лет, для оставшихся клиентов - от 18 до 67 лет. Проверка гипотезы подтверждает, что на отток клиентов влияет их возраст - клиенты оттока в общем старше оставшихся клиентов.**"
   ]
  },
  {
   "cell_type": "markdown",
   "metadata": {},
   "source": [
    "## 5. Общий вывод"
   ]
  },
  {
   "cell_type": "markdown",
   "metadata": {},
   "source": [
    "Исходные данные\n",
    "\n",
    "Для исследования \"Анализ оттока клиентов банка\" был предоставлен датасет со сведениями о 10 000 клиентах, с данными о клиентах оттока и оставшихся в банке клиентах. Явные проблемы в данных не выявлены. В таблице с данными 12 столбцов. Дубликаты отсутствуют. В столбце Balance имеется 3 617 пропусков. Учитывая, что баланс  на счете отображает личные денежные средства клиента на дебетовом счете, а из 7 055 клиентов с кредитной картой 3 578 клиентов  не имеет иных продуктов банка, а 39 клиентов вполне может иметь нулевой баланс на дебетовом счете, замена пропусков не осуществлялась (только на этапе визуализации данных в копии таблицы данные были заменены на 0). В ходе исследования столбцы датасета были переименованы для удобства визуализации.\n",
    "\n",
    "**На этапе планирования исследования были поставлены следующие задачи:**\n",
    "1. Изучить файл с данными. Подготовить данные для исследования.\n",
    "\n",
    "2. Провести исследовательский анализ данных в разрезе двух групп - клиенты, которые ушли в отток и клиенты, которые остались.\n",
    "\n",
    "3. На основе выделенных характерных признаков составить портрет клиентов, которые склонны уходить из банка.\n",
    "\n",
    "4. Проверить гипотезу различия дохода между теми клиентами, которые ушли и теми, которые остались. Сформулировать и проверить статистическую гипотезу относительно представленных данных.\n",
    "\n",
    "5. Сформулировать основные выводы и сделать базовые рекомендации по снижению оттока клиентов.\n",
    "\n",
    "*По итогам получены следующие результаты.*\n",
    "\n",
    "**Характеристика признаков в разрезе двух групп: клиенты оттока и оставшиеся в банке клиенты.**\n",
    "\n",
    "- *Баллы кредитного скоринга* - минимальный балл 350, максимальный - 850, медианное значение - 650, стандартное отклонение - 96,7 - большой разброс значений баллов; средние значения в группе оттока и оставшихся клиентов примерно одинаковы: 652 и 645 соответственно; в группе оттока и оставшихся клиентов распределение почти равномерно - основная масса клиентов имеет балл от 590 до 710, общий диапазон значений нормы - [383.0, 850.0]; в группе клиентов оттока есть выбросы - баллы кредитного скоринга ниже 380. \n",
    "\n",
    "\n",
    "- *Город* - практически 50% клиентов пользуются услугами банка в Ярославле, примерно по 25% клиентов в Ростове Великом и Рыбинске; примерно 50% клиентов в Ростове Великом ушли в отток (от числа клиентов в Ростове Великом), около 19 % клиентов ушли в отток в Рыбинске (от числа клиентов в Рыбинске), около 18 % клиентов ушли в отток в Ярославле (от числа клиентов в Ярославле); от общего числа клиентов в группе оттока в Ростове Великом и Ярославле ушло по 39 %, в Рыбинске - 22 % клиентов оттока.\n",
    "\n",
    "\n",
    "- *Пол* - среди клиентов банка 55% - мужчины, 45% - женщины; среди клиентов оттока больше женщин - 11,4% (от общего числа клиентов), мужчин около 9%, в отток ушли около 32 % женщин (от числа женщин) и около 19 % мужчин (от числа мужчин); от числа клиентов группы оттока - 54 % - женщины, 46 % - мужчины.\n",
    "\n",
    "\n",
    "- *Возраст* - стандартное отклонение 10,5 - умеренный разброс значений, клиенты от 18 до 92 лет, медианный возраст - 38,9 лет; общий диапазон нормы значений возраста клиентов - [18.0, 62.0]; средний возраст клиентов оттока около 45 лет, оставшиеся клиенты в среднем моложе - около 37 лет, в группе клиентов оттока распределение в более старшей возрастной группе  - в основном от 38 до 52, с выбросами от 70 до 85 лет, оставшиеся клиенты моложе - основная масса клиентов в возрасте от 30 до 42 лет, с выбросами от 57 до 92 лет.\n",
    "\n",
    "\n",
    "- *Объекты собственности* - в собственности у клиентов банка от 0 до 10 объектов, которые могут быть представлены в залог, стандартное отклонение небольшое - 2,9 - разброс значений небольшой (0 и 10 объектов примерно у 5% клиентов, от 1 до 9 объектов - распределение по 10% клиентов), медианное значение - 5 объектов; в обеих группах клиенты имеют в собственности от 1 до 10 объектов в пределах нормы, в группе оставшихся большинство клиентов имеет от 3 до 7 объектов, в группе оттока - от  2 до 8 объектов в собственности.\n",
    "\n",
    "\n",
    "- *Баланс счёта клиента* - стандартное отклонение  гигантское - 30 095,1 - разброс значений от 3 768,69 (далее будем условно считать единицей измерения рубли) до 250 898,1 рублей, медианное значение - 119 827,5 рублей (вклады у клиентов банка небольшие), общий диапазон значений нормы - [41186.5, 198507.76]; в обеих группах есть пропуски данных баланса счета (в группе оставшихся клиентов пропусков больше примерно в два раза), основная масса клиентов в обеих группах имеет на счетах от 100 тыс. до 140 тыс. рублей, выбросы ниже и выше диапазона нормы есть в обеих группах - в группе оставшихся выбросы до 40 тыс. и от 200 тыс. до 225 тыс., в группе оттока выбросы до 50 тыс. и от 200 тыс. до более чем 250 тыс. рублей на счете.\n",
    "\n",
    "\n",
    "- *Используемые продукты* - стандартное отклонение незначительное - всего четыре варианта значений - клиенты используют от 1 до 4 продуктов, 1 продукт используют  51% клиентов, 2 - 46% клиентов, 3 - всего 3 % клиентов, 4 - 1 %, медианное количество продуктов - 1,5 (иначе говоря 1-2); клиенты из группы оттока использовали от 1 до 4 продуктов банка, большинство ушедших (69 % от числа клиентов оттока) использовали 1 продукт; в группе оставшихся клиенты использовали от 1 до 3 продуктов, большинство (53% от числа оставшихся клиентов) используют 2 продукта или  1 продукт (46 %).\n",
    "\n",
    "\n",
    "- *Факт наличия кредитной карты* - около 71% клиентов банка имеют кредитную карту, около 29% - кредитной картой не пользуются; в группе оттока около 70% (от числа клиентов группы оттока) имели кредитную карту, соотношение имеющих и не имеющих кредитную карту клиентов среди оставшихся примерно такое же (69,5 % оставшихся с кредитной картой, 29,5 % оставшихся не имеют кредитную карту).\n",
    "\n",
    "\n",
    "- *Факт активности клиента* - 52% клиентов активны, 48% клиентов не активны; в группе оттока только 39 % активных клиентов (от числа клиентов оттока); среди оставшихся - около 58 % клиентов активны (от числа оставшихся).\n",
    "\n",
    "\n",
    "- *Заработная плата клиента* - стандартное отклонение  гигантское - 57 510,5 - заработная плата у клиентов от 11,58  до 199 992,48 рублей (условно), общий диапазон значений нормы - [11.58, 199992.48], медианная заработная плата - 100 090,2 рублей; распределение в обеих группах примерно равномерно, основная масса клиентов в обеих группах имеет зар.плату в пределах от 50 тыс. до 150 тыс. рублей.\n",
    "\n",
    "\n",
    "- *Факт оттока клиента* - банк покинули около 20% клиентов.\n",
    "\n",
    "\n",
    "**Основные признаки, характерные для клиентов оттока:**\n",
    "\n",
    "- *Возраст* - от 38 до 52 лет, средний - 45 лет, зависимость факта оттока от возраста подтверждается максимальной корреляцией (0,29);\n",
    "- *Баланс на счете* - в основном от 100 000 до 140 000, в среднем - 120 000 рублей, зависимость между балансам и фактом оттока незначительная (корреляция 0,12);\n",
    "- *Активность* - чаще уходят неактивные клиенты (61% клиентов оттока), корреляция слабо отрицательная (- 0,16);\n",
    "- *Пол* -  незначительно чаще уходят женщины (54% клиентов оттока, 11,4% от общего числа клиентов), чем мужчины (46% оттока, 9% от общего числа клиентов), при этом женщин среди клиентов меньше (45% клиентов);\n",
    "- *Город* - чаще уходят клиенты дополнительных филиалов, особенно в Ростове Великом (61% в общей сложности от числа клиентов оттока, 50% от числа клиентов Ростова Великого, 19% от числа клиентов Рыбинска), чем центрального отделения (39% от числа клиентов оттока ушли в Ярославле, 18% от числа клиентов в Ярославле).\n",
    "\n",
    "**На факт оттока практически не влияет балл кредитного скоринга, число объектов в собственности, число используемых продуктов, факт наличия кредитной карты и заработная плата клиентов.**\n",
    "\n",
    "***Осуществлялась проверка следующих нулевых гипотез***\n",
    "\n",
    "- **Средняя заработная плата клиентов оттока равна средней заработной плате оставшихся в банке клиентов**\n",
    "\n",
    "- **Доход клиентов оттока равен доходу оставшихся в банке клиентов**\n",
    "\n",
    "- **Возрастные группы клиентов оттока и оставшихся в банке клиентов одинаковы**\n",
    "\n",
    "***Получены следующие результаты***\n",
    "\n",
    "- **Вероятность того, что средняя заработная плата клиентов оттока отличается от средней заработной платы оставшихся клиентов равна 22,9 %. Средняя заработная плата клиентов оттока незначительно отличается от средней заработной платы оставшихся в банке клиентов.**\n",
    "\n",
    "- **Разница между доходом клиентов оттока и оставшихся в банке клиентов статистически не значима.**\n",
    "\n",
    "- **Разница в возрасте в группах оттока и оставшихся в банке клиентов статистически значима. Очистка данных от выбросов вероятно не изменит результат, так как нормы распределения значений возраста лежат в разных диапазонах - для клиентов оттока от 20 до 70 лет, для оставшихся клиентов - от 18 до 67 лет. Проверка гипотезы подтверждает, что на отток клиентов влияет их возраст - клиенты оттока в общем старше оставшихся клиентов.**\n",
    "\n",
    "***Рекомендации:***\n",
    "- при разработке мер по удержанию клиентов ориентироваться на основные признаки, характерные для клиентов оттока;\n",
    "- в целях повышения активности клиентов, предлагать клиентам в возрасте от 38 до 52 лет и старше новые продукты банка, проводить разъяснительную работу, рассмотреть вопрос о проведении акций для клиентов старше 40 лет;\n",
    "- изучить условия обслуживания клиентов в разных отделениях банка; обратить внимание на уровень подготовки персонала, комфорт и корректность обслуживания клиентов в дополнительных отделениях;\n",
    "- разработать памятки для сотрудников по особым аспектам работы с клиентами, учесть психологические особенности клиентов разного пола и возраста."
   ]
  }
 ],
 "metadata": {
  "ExecuteTimeLog": [
   {
    "duration": 1767,
    "start_time": "2021-08-19T13:46:29.669Z"
   },
   {
    "duration": 436,
    "start_time": "2021-08-19T13:46:31.439Z"
   },
   {
    "duration": -242,
    "start_time": "2021-08-19T13:46:32.120Z"
   },
   {
    "duration": -242,
    "start_time": "2021-08-19T13:46:32.122Z"
   },
   {
    "duration": -242,
    "start_time": "2021-08-19T13:46:32.124Z"
   },
   {
    "duration": -260,
    "start_time": "2021-08-19T13:46:32.143Z"
   },
   {
    "duration": -260,
    "start_time": "2021-08-19T13:46:32.145Z"
   },
   {
    "duration": -260,
    "start_time": "2021-08-19T13:46:32.147Z"
   },
   {
    "duration": -261,
    "start_time": "2021-08-19T13:46:32.149Z"
   },
   {
    "duration": -261,
    "start_time": "2021-08-19T13:46:32.150Z"
   },
   {
    "duration": -262,
    "start_time": "2021-08-19T13:46:32.153Z"
   },
   {
    "duration": -263,
    "start_time": "2021-08-19T13:46:32.155Z"
   },
   {
    "duration": -262,
    "start_time": "2021-08-19T13:46:32.156Z"
   },
   {
    "duration": -263,
    "start_time": "2021-08-19T13:46:32.158Z"
   },
   {
    "duration": -264,
    "start_time": "2021-08-19T13:46:32.160Z"
   },
   {
    "duration": -267,
    "start_time": "2021-08-19T13:46:32.164Z"
   },
   {
    "duration": -269,
    "start_time": "2021-08-19T13:46:32.168Z"
   },
   {
    "duration": -272,
    "start_time": "2021-08-19T13:46:32.172Z"
   },
   {
    "duration": -274,
    "start_time": "2021-08-19T13:46:32.175Z"
   },
   {
    "duration": -273,
    "start_time": "2021-08-19T13:46:32.176Z"
   },
   {
    "duration": -274,
    "start_time": "2021-08-19T13:46:32.178Z"
   },
   {
    "duration": -275,
    "start_time": "2021-08-19T13:46:32.180Z"
   },
   {
    "duration": -276,
    "start_time": "2021-08-19T13:46:32.182Z"
   },
   {
    "duration": -276,
    "start_time": "2021-08-19T13:46:32.184Z"
   },
   {
    "duration": -279,
    "start_time": "2021-08-19T13:46:32.188Z"
   },
   {
    "duration": -280,
    "start_time": "2021-08-19T13:46:32.190Z"
   },
   {
    "duration": -281,
    "start_time": "2021-08-19T13:46:32.192Z"
   },
   {
    "duration": 6,
    "start_time": "2021-08-19T13:46:53.517Z"
   },
   {
    "duration": 271,
    "start_time": "2021-08-19T13:46:57.164Z"
   },
   {
    "duration": 1663,
    "start_time": "2021-08-19T13:49:41.558Z"
   },
   {
    "duration": 31,
    "start_time": "2021-08-19T13:49:43.224Z"
   },
   {
    "duration": 25,
    "start_time": "2021-08-19T13:49:43.259Z"
   },
   {
    "duration": 16,
    "start_time": "2021-08-19T13:49:43.286Z"
   },
   {
    "duration": 10,
    "start_time": "2021-08-19T13:49:43.304Z"
   },
   {
    "duration": 43,
    "start_time": "2021-08-19T13:49:43.316Z"
   },
   {
    "duration": 23,
    "start_time": "2021-08-19T13:49:43.362Z"
   },
   {
    "duration": 14,
    "start_time": "2021-08-19T13:49:43.388Z"
   },
   {
    "duration": 7,
    "start_time": "2021-08-19T13:49:43.406Z"
   },
   {
    "duration": 43,
    "start_time": "2021-08-19T13:49:43.417Z"
   },
   {
    "duration": 27,
    "start_time": "2021-08-19T13:49:43.463Z"
   },
   {
    "duration": 31,
    "start_time": "2021-08-19T13:49:43.493Z"
   },
   {
    "duration": 33,
    "start_time": "2021-08-19T13:49:43.527Z"
   },
   {
    "duration": 32,
    "start_time": "2021-08-19T13:49:43.563Z"
   },
   {
    "duration": 11,
    "start_time": "2021-08-19T13:49:43.598Z"
   },
   {
    "duration": 49,
    "start_time": "2021-08-19T13:49:43.611Z"
   },
   {
    "duration": 23,
    "start_time": "2021-08-19T13:49:43.662Z"
   },
   {
    "duration": 11,
    "start_time": "2021-08-19T13:49:43.688Z"
   },
   {
    "duration": 60,
    "start_time": "2021-08-19T13:49:43.701Z"
   },
   {
    "duration": 11,
    "start_time": "2021-08-19T13:49:43.763Z"
   },
   {
    "duration": 80,
    "start_time": "2021-08-19T13:49:43.776Z"
   },
   {
    "duration": 17,
    "start_time": "2021-08-19T13:49:43.858Z"
   },
   {
    "duration": 18,
    "start_time": "2021-08-19T13:49:43.877Z"
   },
   {
    "duration": 61,
    "start_time": "2021-08-19T13:49:43.898Z"
   },
   {
    "duration": 1363,
    "start_time": "2021-08-19T13:49:43.961Z"
   },
   {
    "duration": 3677,
    "start_time": "2021-08-19T13:49:45.326Z"
   },
   {
    "duration": 3,
    "start_time": "2021-08-19T13:49:49.008Z"
   },
   {
    "duration": 20,
    "start_time": "2021-08-19T13:49:49.014Z"
   },
   {
    "duration": 424,
    "start_time": "2021-08-19T13:55:41.437Z"
   },
   {
    "duration": 1464,
    "start_time": "2021-08-19T13:56:37.157Z"
   },
   {
    "duration": 39,
    "start_time": "2021-08-19T13:56:38.623Z"
   },
   {
    "duration": 27,
    "start_time": "2021-08-19T13:56:38.666Z"
   },
   {
    "duration": 24,
    "start_time": "2021-08-19T13:56:38.696Z"
   },
   {
    "duration": 11,
    "start_time": "2021-08-19T13:56:38.723Z"
   },
   {
    "duration": 23,
    "start_time": "2021-08-19T13:56:38.737Z"
   },
   {
    "duration": 23,
    "start_time": "2021-08-19T13:56:38.762Z"
   },
   {
    "duration": 24,
    "start_time": "2021-08-19T13:56:38.789Z"
   },
   {
    "duration": 11,
    "start_time": "2021-08-19T13:56:38.816Z"
   },
   {
    "duration": 18,
    "start_time": "2021-08-19T13:56:38.829Z"
   },
   {
    "duration": 24,
    "start_time": "2021-08-19T13:56:38.853Z"
   },
   {
    "duration": 33,
    "start_time": "2021-08-19T13:56:38.879Z"
   },
   {
    "duration": 13,
    "start_time": "2021-08-19T13:56:38.915Z"
   },
   {
    "duration": 48,
    "start_time": "2021-08-19T13:56:38.930Z"
   },
   {
    "duration": 13,
    "start_time": "2021-08-19T13:56:38.980Z"
   },
   {
    "duration": 13,
    "start_time": "2021-08-19T13:56:38.996Z"
   },
   {
    "duration": 66,
    "start_time": "2021-08-19T13:56:39.013Z"
   },
   {
    "duration": 15,
    "start_time": "2021-08-19T13:56:39.082Z"
   },
   {
    "duration": 68,
    "start_time": "2021-08-19T13:56:39.100Z"
   },
   {
    "duration": 14,
    "start_time": "2021-08-19T13:56:39.171Z"
   },
   {
    "duration": 92,
    "start_time": "2021-08-19T13:56:39.188Z"
   },
   {
    "duration": 15,
    "start_time": "2021-08-19T13:56:39.283Z"
   },
   {
    "duration": 7,
    "start_time": "2021-08-19T13:56:39.302Z"
   },
   {
    "duration": 67,
    "start_time": "2021-08-19T13:56:39.311Z"
   },
   {
    "duration": 1453,
    "start_time": "2021-08-19T13:56:39.380Z"
   },
   {
    "duration": 3858,
    "start_time": "2021-08-19T13:56:40.836Z"
   },
   {
    "duration": 1463,
    "start_time": "2021-08-19T13:59:15.749Z"
   },
   {
    "duration": 32,
    "start_time": "2021-08-19T13:59:17.215Z"
   },
   {
    "duration": 41,
    "start_time": "2021-08-19T13:59:17.250Z"
   },
   {
    "duration": 25,
    "start_time": "2021-08-19T13:59:17.294Z"
   },
   {
    "duration": 20,
    "start_time": "2021-08-19T13:59:17.322Z"
   },
   {
    "duration": 11,
    "start_time": "2021-08-19T13:59:17.344Z"
   },
   {
    "duration": 24,
    "start_time": "2021-08-19T13:59:17.358Z"
   },
   {
    "duration": 22,
    "start_time": "2021-08-19T13:59:17.386Z"
   },
   {
    "duration": 7,
    "start_time": "2021-08-19T13:59:17.412Z"
   },
   {
    "duration": 22,
    "start_time": "2021-08-19T13:59:17.422Z"
   },
   {
    "duration": 32,
    "start_time": "2021-08-19T13:59:17.447Z"
   },
   {
    "duration": 33,
    "start_time": "2021-08-19T13:59:17.482Z"
   },
   {
    "duration": 13,
    "start_time": "2021-08-19T13:59:17.518Z"
   },
   {
    "duration": 24,
    "start_time": "2021-08-19T13:59:17.555Z"
   },
   {
    "duration": 12,
    "start_time": "2021-08-19T13:59:17.582Z"
   },
   {
    "duration": 16,
    "start_time": "2021-08-19T13:59:17.596Z"
   },
   {
    "duration": 57,
    "start_time": "2021-08-19T13:59:17.615Z"
   },
   {
    "duration": 20,
    "start_time": "2021-08-19T13:59:17.674Z"
   },
   {
    "duration": 32,
    "start_time": "2021-08-19T13:59:17.696Z"
   },
   {
    "duration": 27,
    "start_time": "2021-08-19T13:59:17.731Z"
   },
   {
    "duration": 66,
    "start_time": "2021-08-19T13:59:17.761Z"
   },
   {
    "duration": 31,
    "start_time": "2021-08-19T13:59:17.830Z"
   },
   {
    "duration": 6,
    "start_time": "2021-08-19T13:59:17.866Z"
   },
   {
    "duration": 62,
    "start_time": "2021-08-19T13:59:17.874Z"
   },
   {
    "duration": 1479,
    "start_time": "2021-08-19T13:59:17.939Z"
   },
   {
    "duration": 3867,
    "start_time": "2021-08-19T13:59:19.421Z"
   },
   {
    "duration": 1492,
    "start_time": "2021-08-19T14:05:59.954Z"
   },
   {
    "duration": 35,
    "start_time": "2021-08-19T14:06:01.448Z"
   },
   {
    "duration": 24,
    "start_time": "2021-08-19T14:06:01.487Z"
   },
   {
    "duration": 46,
    "start_time": "2021-08-19T14:06:01.514Z"
   },
   {
    "duration": 38,
    "start_time": "2021-08-19T14:06:01.562Z"
   },
   {
    "duration": 20,
    "start_time": "2021-08-19T14:06:01.603Z"
   },
   {
    "duration": 43,
    "start_time": "2021-08-19T14:06:01.625Z"
   },
   {
    "duration": 36,
    "start_time": "2021-08-19T14:06:01.671Z"
   },
   {
    "duration": 26,
    "start_time": "2021-08-19T14:06:01.711Z"
   },
   {
    "duration": 27,
    "start_time": "2021-08-19T14:06:01.740Z"
   },
   {
    "duration": 25,
    "start_time": "2021-08-19T14:06:01.771Z"
   },
   {
    "duration": 35,
    "start_time": "2021-08-19T14:06:01.800Z"
   },
   {
    "duration": 24,
    "start_time": "2021-08-19T14:06:01.838Z"
   },
   {
    "duration": 42,
    "start_time": "2021-08-19T14:06:01.864Z"
   },
   {
    "duration": 18,
    "start_time": "2021-08-19T14:06:01.909Z"
   },
   {
    "duration": 31,
    "start_time": "2021-08-19T14:06:01.930Z"
   },
   {
    "duration": 30,
    "start_time": "2021-08-19T14:06:01.964Z"
   },
   {
    "duration": 12,
    "start_time": "2021-08-19T14:06:01.997Z"
   },
   {
    "duration": 58,
    "start_time": "2021-08-19T14:06:02.011Z"
   },
   {
    "duration": 34,
    "start_time": "2021-08-19T14:06:02.072Z"
   },
   {
    "duration": 63,
    "start_time": "2021-08-19T14:06:02.108Z"
   },
   {
    "duration": 15,
    "start_time": "2021-08-19T14:06:02.174Z"
   },
   {
    "duration": 8,
    "start_time": "2021-08-19T14:06:02.193Z"
   },
   {
    "duration": 64,
    "start_time": "2021-08-19T14:06:02.204Z"
   },
   {
    "duration": 1352,
    "start_time": "2021-08-19T14:06:02.270Z"
   },
   {
    "duration": 3805,
    "start_time": "2021-08-19T14:06:03.625Z"
   },
   {
    "duration": 2025,
    "start_time": "2021-08-19T14:06:07.432Z"
   },
   {
    "duration": 3,
    "start_time": "2021-08-19T14:06:09.460Z"
   },
   {
    "duration": 564988,
    "start_time": "2021-08-19T14:15:32.747Z"
   },
   {
    "duration": 26,
    "start_time": "2021-08-19T14:38:40.166Z"
   },
   {
    "duration": 2020,
    "start_time": "2021-08-19T14:58:10.520Z"
   },
   {
    "duration": 1978,
    "start_time": "2021-08-19T14:58:40.915Z"
   },
   {
    "duration": 2025,
    "start_time": "2021-08-19T14:58:59.684Z"
   },
   {
    "duration": 1997,
    "start_time": "2021-08-19T14:59:21.809Z"
   },
   {
    "duration": 2066,
    "start_time": "2021-08-19T14:59:46.770Z"
   },
   {
    "duration": 1977,
    "start_time": "2021-08-19T15:00:04.690Z"
   },
   {
    "duration": 2008,
    "start_time": "2021-08-19T15:00:21.192Z"
   },
   {
    "duration": 1980,
    "start_time": "2021-08-19T15:00:45.040Z"
   },
   {
    "duration": 509,
    "start_time": "2021-08-19T15:01:01.582Z"
   },
   {
    "duration": 2050,
    "start_time": "2021-08-19T15:01:13.559Z"
   },
   {
    "duration": 2030,
    "start_time": "2021-08-19T15:01:29.042Z"
   },
   {
    "duration": 2008,
    "start_time": "2021-08-19T15:02:20.549Z"
   },
   {
    "duration": 2071,
    "start_time": "2021-08-19T15:02:44.238Z"
   },
   {
    "duration": 2081,
    "start_time": "2021-08-19T15:02:57.286Z"
   },
   {
    "duration": 2057,
    "start_time": "2021-08-19T15:03:03.041Z"
   },
   {
    "duration": 1400,
    "start_time": "2021-08-19T15:04:44.763Z"
   },
   {
    "duration": 323,
    "start_time": "2021-08-19T15:34:43.873Z"
   },
   {
    "duration": 303,
    "start_time": "2021-08-19T15:37:05.762Z"
   },
   {
    "duration": 269,
    "start_time": "2021-08-19T15:42:04.583Z"
   },
   {
    "duration": 271,
    "start_time": "2021-08-19T15:42:51.157Z"
   },
   {
    "duration": 282,
    "start_time": "2021-08-19T15:43:09.861Z"
   },
   {
    "duration": 43,
    "start_time": "2021-08-19T16:37:57.921Z"
   },
   {
    "duration": 13,
    "start_time": "2021-08-19T17:19:04.569Z"
   },
   {
    "duration": 18,
    "start_time": "2021-08-19T17:19:24.155Z"
   },
   {
    "duration": 8,
    "start_time": "2021-08-19T17:25:59.853Z"
   },
   {
    "duration": 9,
    "start_time": "2021-08-19T17:30:45.136Z"
   },
   {
    "duration": 92,
    "start_time": "2021-08-19T18:56:52.509Z"
   },
   {
    "duration": 265,
    "start_time": "2021-08-19T18:57:20.923Z"
   },
   {
    "duration": 623,
    "start_time": "2021-08-19T19:00:41.949Z"
   },
   {
    "duration": 277,
    "start_time": "2021-08-19T19:01:01.936Z"
   },
   {
    "duration": 8,
    "start_time": "2021-08-19T19:06:03.009Z"
   },
   {
    "duration": 10,
    "start_time": "2021-08-19T19:06:38.914Z"
   },
   {
    "duration": 8,
    "start_time": "2021-08-19T19:07:12.257Z"
   },
   {
    "duration": 6550,
    "start_time": "2021-08-19T19:42:06.194Z"
   },
   {
    "duration": 6495,
    "start_time": "2021-08-19T19:43:01.420Z"
   },
   {
    "duration": 9,
    "start_time": "2021-08-19T19:43:43.799Z"
   },
   {
    "duration": 9,
    "start_time": "2021-08-19T19:53:55.030Z"
   },
   {
    "duration": 295,
    "start_time": "2021-08-19T20:00:41.745Z"
   },
   {
    "duration": 1796,
    "start_time": "2021-08-19T20:02:24.592Z"
   },
   {
    "duration": 34,
    "start_time": "2021-08-19T20:02:26.390Z"
   },
   {
    "duration": 34,
    "start_time": "2021-08-19T20:02:26.428Z"
   },
   {
    "duration": 17,
    "start_time": "2021-08-19T20:02:26.465Z"
   },
   {
    "duration": 20,
    "start_time": "2021-08-19T20:02:26.484Z"
   },
   {
    "duration": 26,
    "start_time": "2021-08-19T20:02:26.507Z"
   },
   {
    "duration": 34,
    "start_time": "2021-08-19T20:02:26.536Z"
   },
   {
    "duration": 14,
    "start_time": "2021-08-19T20:02:26.574Z"
   },
   {
    "duration": 6,
    "start_time": "2021-08-19T20:02:26.591Z"
   },
   {
    "duration": 20,
    "start_time": "2021-08-19T20:02:26.599Z"
   },
   {
    "duration": 40,
    "start_time": "2021-08-19T20:02:26.622Z"
   },
   {
    "duration": 42,
    "start_time": "2021-08-19T20:02:26.664Z"
   },
   {
    "duration": 13,
    "start_time": "2021-08-19T20:02:26.708Z"
   },
   {
    "duration": 49,
    "start_time": "2021-08-19T20:02:26.724Z"
   },
   {
    "duration": 12,
    "start_time": "2021-08-19T20:02:26.776Z"
   },
   {
    "duration": 23,
    "start_time": "2021-08-19T20:02:26.791Z"
   },
   {
    "duration": 54,
    "start_time": "2021-08-19T20:02:26.817Z"
   },
   {
    "duration": 28,
    "start_time": "2021-08-19T20:02:26.874Z"
   },
   {
    "duration": 14,
    "start_time": "2021-08-19T20:02:26.905Z"
   },
   {
    "duration": 28,
    "start_time": "2021-08-19T20:02:26.954Z"
   },
   {
    "duration": 14,
    "start_time": "2021-08-19T20:02:26.985Z"
   },
   {
    "duration": 102,
    "start_time": "2021-08-19T20:02:27.002Z"
   },
   {
    "duration": 19,
    "start_time": "2021-08-19T20:02:27.111Z"
   },
   {
    "duration": 6,
    "start_time": "2021-08-19T20:02:27.154Z"
   },
   {
    "duration": 35,
    "start_time": "2021-08-19T20:02:27.163Z"
   },
   {
    "duration": 1420,
    "start_time": "2021-08-19T20:02:27.201Z"
   },
   {
    "duration": 3801,
    "start_time": "2021-08-19T20:02:28.623Z"
   },
   {
    "duration": 1981,
    "start_time": "2021-08-19T20:02:32.426Z"
   },
   {
    "duration": 1517,
    "start_time": "2021-08-19T20:02:34.410Z"
   },
   {
    "duration": 325,
    "start_time": "2021-08-19T20:02:35.929Z"
   },
   {
    "duration": 274,
    "start_time": "2021-08-19T20:02:36.257Z"
   },
   {
    "duration": 20,
    "start_time": "2021-08-19T20:02:36.534Z"
   },
   {
    "duration": 11,
    "start_time": "2021-08-19T20:02:36.556Z"
   },
   {
    "duration": 426,
    "start_time": "2021-08-19T20:02:36.569Z"
   },
   {
    "duration": -151,
    "start_time": "2021-08-19T20:02:37.149Z"
   },
   {
    "duration": -157,
    "start_time": "2021-08-19T20:02:37.157Z"
   },
   {
    "duration": 5,
    "start_time": "2021-08-19T20:03:11.484Z"
   },
   {
    "duration": 1762,
    "start_time": "2021-08-19T20:03:19.767Z"
   },
   {
    "duration": 33,
    "start_time": "2021-08-19T20:03:21.532Z"
   },
   {
    "duration": 24,
    "start_time": "2021-08-19T20:03:21.567Z"
   },
   {
    "duration": 17,
    "start_time": "2021-08-19T20:03:21.594Z"
   },
   {
    "duration": 9,
    "start_time": "2021-08-19T20:03:21.613Z"
   },
   {
    "duration": 37,
    "start_time": "2021-08-19T20:03:21.625Z"
   },
   {
    "duration": 14,
    "start_time": "2021-08-19T20:03:21.665Z"
   },
   {
    "duration": 16,
    "start_time": "2021-08-19T20:03:21.682Z"
   },
   {
    "duration": 4,
    "start_time": "2021-08-19T20:03:21.701Z"
   },
   {
    "duration": 56,
    "start_time": "2021-08-19T20:03:21.707Z"
   },
   {
    "duration": 15,
    "start_time": "2021-08-19T20:03:21.766Z"
   },
   {
    "duration": 31,
    "start_time": "2021-08-19T20:03:21.783Z"
   },
   {
    "duration": 42,
    "start_time": "2021-08-19T20:03:21.817Z"
   },
   {
    "duration": 24,
    "start_time": "2021-08-19T20:03:21.861Z"
   },
   {
    "duration": 11,
    "start_time": "2021-08-19T20:03:21.888Z"
   },
   {
    "duration": 15,
    "start_time": "2021-08-19T20:03:21.902Z"
   },
   {
    "duration": 25,
    "start_time": "2021-08-19T20:03:21.956Z"
   },
   {
    "duration": 25,
    "start_time": "2021-08-19T20:03:21.983Z"
   },
   {
    "duration": 51,
    "start_time": "2021-08-19T20:03:22.011Z"
   },
   {
    "duration": 26,
    "start_time": "2021-08-19T20:03:22.065Z"
   },
   {
    "duration": 14,
    "start_time": "2021-08-19T20:03:22.094Z"
   },
   {
    "duration": 97,
    "start_time": "2021-08-19T20:03:22.110Z"
   },
   {
    "duration": 17,
    "start_time": "2021-08-19T20:03:22.211Z"
   },
   {
    "duration": 26,
    "start_time": "2021-08-19T20:03:22.231Z"
   },
   {
    "duration": 38,
    "start_time": "2021-08-19T20:03:22.260Z"
   },
   {
    "duration": 1384,
    "start_time": "2021-08-19T20:03:22.301Z"
   },
   {
    "duration": 3925,
    "start_time": "2021-08-19T20:03:23.687Z"
   },
   {
    "duration": 2007,
    "start_time": "2021-08-19T20:03:27.615Z"
   },
   {
    "duration": 1492,
    "start_time": "2021-08-19T20:03:29.625Z"
   },
   {
    "duration": 318,
    "start_time": "2021-08-19T20:03:31.120Z"
   },
   {
    "duration": 277,
    "start_time": "2021-08-19T20:03:31.441Z"
   },
   {
    "duration": 10,
    "start_time": "2021-08-19T20:03:31.721Z"
   },
   {
    "duration": 29,
    "start_time": "2021-08-19T20:03:31.734Z"
   },
   {
    "duration": 10,
    "start_time": "2021-08-19T20:03:31.766Z"
   },
   {
    "duration": 22,
    "start_time": "2021-08-19T20:03:31.778Z"
   },
   {
    "duration": 9,
    "start_time": "2021-08-19T20:03:31.803Z"
   },
   {
    "duration": 9,
    "start_time": "2021-08-19T20:03:39.314Z"
   },
   {
    "duration": 9,
    "start_time": "2021-08-19T20:06:47.885Z"
   },
   {
    "duration": 8,
    "start_time": "2021-08-19T20:14:08.485Z"
   },
   {
    "duration": 8,
    "start_time": "2021-08-19T20:16:07.717Z"
   },
   {
    "duration": 8,
    "start_time": "2021-08-19T20:27:00.701Z"
   },
   {
    "duration": 9,
    "start_time": "2021-08-19T20:47:26.931Z"
   },
   {
    "duration": 1507,
    "start_time": "2021-08-19T21:45:33.657Z"
   },
   {
    "duration": 34,
    "start_time": "2021-08-19T21:45:35.166Z"
   },
   {
    "duration": 25,
    "start_time": "2021-08-19T21:45:35.203Z"
   },
   {
    "duration": 30,
    "start_time": "2021-08-19T21:45:35.231Z"
   },
   {
    "duration": 10,
    "start_time": "2021-08-19T21:45:35.263Z"
   },
   {
    "duration": 18,
    "start_time": "2021-08-19T21:45:35.275Z"
   },
   {
    "duration": 23,
    "start_time": "2021-08-19T21:45:35.295Z"
   },
   {
    "duration": 40,
    "start_time": "2021-08-19T21:45:35.321Z"
   },
   {
    "duration": 4,
    "start_time": "2021-08-19T21:45:35.364Z"
   },
   {
    "duration": 18,
    "start_time": "2021-08-19T21:45:35.370Z"
   },
   {
    "duration": 48,
    "start_time": "2021-08-19T21:45:35.391Z"
   },
   {
    "duration": 37,
    "start_time": "2021-08-19T21:45:35.442Z"
   },
   {
    "duration": 12,
    "start_time": "2021-08-19T21:45:35.481Z"
   },
   {
    "duration": 40,
    "start_time": "2021-08-19T21:45:35.495Z"
   },
   {
    "duration": 21,
    "start_time": "2021-08-19T21:45:35.537Z"
   },
   {
    "duration": 12,
    "start_time": "2021-08-19T21:45:35.561Z"
   },
   {
    "duration": 28,
    "start_time": "2021-08-19T21:45:35.576Z"
   },
   {
    "duration": 55,
    "start_time": "2021-08-19T21:45:35.607Z"
   },
   {
    "duration": 12,
    "start_time": "2021-08-19T21:45:35.664Z"
   },
   {
    "duration": 37,
    "start_time": "2021-08-19T21:45:35.679Z"
   },
   {
    "duration": 36,
    "start_time": "2021-08-19T21:45:35.720Z"
   },
   {
    "duration": 64,
    "start_time": "2021-08-19T21:45:35.759Z"
   },
   {
    "duration": 34,
    "start_time": "2021-08-19T21:45:35.830Z"
   },
   {
    "duration": 6,
    "start_time": "2021-08-19T21:45:35.868Z"
   },
   {
    "duration": 76,
    "start_time": "2021-08-19T21:45:35.878Z"
   },
   {
    "duration": 1367,
    "start_time": "2021-08-19T21:45:35.958Z"
   },
   {
    "duration": 3936,
    "start_time": "2021-08-19T21:45:37.328Z"
   },
   {
    "duration": 2344,
    "start_time": "2021-08-19T21:45:41.267Z"
   },
   {
    "duration": 1491,
    "start_time": "2021-08-19T21:45:43.613Z"
   },
   {
    "duration": 315,
    "start_time": "2021-08-19T21:45:45.106Z"
   },
   {
    "duration": 276,
    "start_time": "2021-08-19T21:45:45.424Z"
   },
   {
    "duration": 8,
    "start_time": "2021-08-19T21:45:45.703Z"
   },
   {
    "duration": 25,
    "start_time": "2021-08-19T21:45:45.713Z"
   },
   {
    "duration": 17,
    "start_time": "2021-08-19T21:45:45.741Z"
   },
   {
    "duration": 12,
    "start_time": "2021-08-19T21:45:45.761Z"
   },
   {
    "duration": 11,
    "start_time": "2021-08-19T21:45:45.775Z"
   },
   {
    "duration": 10,
    "start_time": "2021-08-19T21:45:45.789Z"
   },
   {
    "duration": 1688,
    "start_time": "2021-08-20T10:15:19.850Z"
   },
   {
    "duration": 33,
    "start_time": "2021-08-20T10:15:21.541Z"
   },
   {
    "duration": 32,
    "start_time": "2021-08-20T10:15:21.577Z"
   },
   {
    "duration": 28,
    "start_time": "2021-08-20T10:15:21.612Z"
   },
   {
    "duration": 24,
    "start_time": "2021-08-20T10:15:21.643Z"
   },
   {
    "duration": 31,
    "start_time": "2021-08-20T10:15:21.670Z"
   },
   {
    "duration": 38,
    "start_time": "2021-08-20T10:15:21.704Z"
   },
   {
    "duration": 46,
    "start_time": "2021-08-20T10:15:21.746Z"
   },
   {
    "duration": 24,
    "start_time": "2021-08-20T10:15:21.795Z"
   },
   {
    "duration": 31,
    "start_time": "2021-08-20T10:15:21.822Z"
   },
   {
    "duration": 46,
    "start_time": "2021-08-20T10:15:21.855Z"
   },
   {
    "duration": 57,
    "start_time": "2021-08-20T10:15:21.904Z"
   },
   {
    "duration": 19,
    "start_time": "2021-08-20T10:15:21.965Z"
   },
   {
    "duration": 46,
    "start_time": "2021-08-20T10:15:21.986Z"
   },
   {
    "duration": 17,
    "start_time": "2021-08-20T10:15:22.035Z"
   },
   {
    "duration": 31,
    "start_time": "2021-08-20T10:15:22.054Z"
   },
   {
    "duration": 38,
    "start_time": "2021-08-20T10:15:22.087Z"
   },
   {
    "duration": 49,
    "start_time": "2021-08-20T10:15:22.128Z"
   },
   {
    "duration": 24,
    "start_time": "2021-08-20T10:15:22.180Z"
   },
   {
    "duration": 42,
    "start_time": "2021-08-20T10:15:22.206Z"
   },
   {
    "duration": 27,
    "start_time": "2021-08-20T10:15:22.251Z"
   },
   {
    "duration": 78,
    "start_time": "2021-08-20T10:15:22.280Z"
   },
   {
    "duration": 17,
    "start_time": "2021-08-20T10:15:22.365Z"
   },
   {
    "duration": 24,
    "start_time": "2021-08-20T10:15:22.385Z"
   },
   {
    "duration": 55,
    "start_time": "2021-08-20T10:15:22.411Z"
   },
   {
    "duration": 1385,
    "start_time": "2021-08-20T10:15:22.469Z"
   },
   {
    "duration": 3914,
    "start_time": "2021-08-20T10:15:23.856Z"
   },
   {
    "duration": 2073,
    "start_time": "2021-08-20T10:15:27.772Z"
   },
   {
    "duration": 2069,
    "start_time": "2021-08-20T10:15:29.848Z"
   },
   {
    "duration": 430,
    "start_time": "2021-08-20T10:15:31.920Z"
   },
   {
    "duration": 282,
    "start_time": "2021-08-20T10:15:32.355Z"
   },
   {
    "duration": 17,
    "start_time": "2021-08-20T10:15:32.640Z"
   },
   {
    "duration": 20,
    "start_time": "2021-08-20T10:15:32.660Z"
   },
   {
    "duration": 10,
    "start_time": "2021-08-20T10:15:32.683Z"
   },
   {
    "duration": 19,
    "start_time": "2021-08-20T10:15:32.696Z"
   },
   {
    "duration": 26,
    "start_time": "2021-08-20T10:15:32.718Z"
   },
   {
    "duration": 7,
    "start_time": "2021-08-20T10:15:32.755Z"
   },
   {
    "duration": 237,
    "start_time": "2021-08-21T06:43:08.627Z"
   },
   {
    "duration": 255,
    "start_time": "2021-08-21T06:45:06.104Z"
   },
   {
    "duration": 94,
    "start_time": "2021-08-21T06:49:58.318Z"
   },
   {
    "duration": 94,
    "start_time": "2021-08-21T06:51:30.830Z"
   },
   {
    "duration": 98,
    "start_time": "2021-08-21T06:59:00.388Z"
   },
   {
    "duration": 88,
    "start_time": "2021-08-21T07:02:54.872Z"
   },
   {
    "duration": 153,
    "start_time": "2021-08-21T07:06:23.331Z"
   },
   {
    "duration": 211,
    "start_time": "2021-08-21T07:27:50.182Z"
   },
   {
    "duration": 1449,
    "start_time": "2021-10-12T09:45:54.460Z"
   },
   {
    "duration": 33,
    "start_time": "2021-10-12T09:45:55.912Z"
   },
   {
    "duration": 30,
    "start_time": "2021-10-12T09:45:55.949Z"
   },
   {
    "duration": 49,
    "start_time": "2021-10-12T09:45:55.982Z"
   },
   {
    "duration": 13,
    "start_time": "2021-10-12T09:45:56.034Z"
   },
   {
    "duration": 17,
    "start_time": "2021-10-12T09:45:56.050Z"
   },
   {
    "duration": 51,
    "start_time": "2021-10-12T09:45:56.071Z"
   },
   {
    "duration": 17,
    "start_time": "2021-10-12T09:45:56.126Z"
   },
   {
    "duration": 4,
    "start_time": "2021-10-12T09:45:56.147Z"
   },
   {
    "duration": 11,
    "start_time": "2021-10-12T09:45:56.154Z"
   },
   {
    "duration": 57,
    "start_time": "2021-10-12T09:45:56.168Z"
   },
   {
    "duration": 30,
    "start_time": "2021-10-12T09:45:56.228Z"
   },
   {
    "duration": 14,
    "start_time": "2021-10-12T09:45:56.261Z"
   },
   {
    "duration": 65,
    "start_time": "2021-10-12T09:45:56.278Z"
   },
   {
    "duration": 14,
    "start_time": "2021-10-12T09:45:56.346Z"
   },
   {
    "duration": 12,
    "start_time": "2021-10-12T09:45:56.363Z"
   },
   {
    "duration": 65,
    "start_time": "2021-10-12T09:45:56.378Z"
   },
   {
    "duration": 25,
    "start_time": "2021-10-12T09:45:56.446Z"
   },
   {
    "duration": 12,
    "start_time": "2021-10-12T09:45:56.474Z"
   },
   {
    "duration": 23,
    "start_time": "2021-10-12T09:45:56.523Z"
   },
   {
    "duration": 14,
    "start_time": "2021-10-12T09:45:56.548Z"
   },
   {
    "duration": 99,
    "start_time": "2021-10-12T09:45:56.565Z"
   },
   {
    "duration": 19,
    "start_time": "2021-10-12T09:45:56.671Z"
   },
   {
    "duration": 6,
    "start_time": "2021-10-12T09:45:56.693Z"
   },
   {
    "duration": 32,
    "start_time": "2021-10-12T09:45:56.724Z"
   },
   {
    "duration": 1408,
    "start_time": "2021-10-12T09:45:56.758Z"
   },
   {
    "duration": 3816,
    "start_time": "2021-10-12T09:45:58.168Z"
   },
   {
    "duration": 1973,
    "start_time": "2021-10-12T09:46:01.986Z"
   },
   {
    "duration": 1493,
    "start_time": "2021-10-12T09:46:03.961Z"
   },
   {
    "duration": 321,
    "start_time": "2021-10-12T09:46:05.456Z"
   },
   {
    "duration": 375,
    "start_time": "2021-10-12T09:46:05.780Z"
   },
   {
    "duration": 8,
    "start_time": "2021-10-12T09:46:06.157Z"
   },
   {
    "duration": 12,
    "start_time": "2021-10-12T09:46:06.168Z"
   },
   {
    "duration": 17,
    "start_time": "2021-10-12T09:46:06.182Z"
   },
   {
    "duration": 26,
    "start_time": "2021-10-12T09:46:06.202Z"
   },
   {
    "duration": 11,
    "start_time": "2021-10-12T09:46:06.230Z"
   },
   {
    "duration": 11,
    "start_time": "2021-10-12T09:46:06.243Z"
   }
  ],
  "kernelspec": {
   "display_name": "Python 3",
   "language": "python",
   "name": "python3"
  },
  "language_info": {
   "codemirror_mode": {
    "name": "ipython",
    "version": 3
   },
   "file_extension": ".py",
   "mimetype": "text/x-python",
   "name": "python",
   "nbconvert_exporter": "python",
   "pygments_lexer": "ipython3",
   "version": "3.8.8"
  },
  "toc": {
   "base_numbering": 1,
   "nav_menu": {},
   "number_sections": false,
   "sideBar": true,
   "skip_h1_title": true,
   "title_cell": "Тема: Анализ оттока клиентов банка.",
   "title_sidebar": "Содержание:",
   "toc_cell": true,
   "toc_position": {
    "height": "calc(100% - 180px)",
    "left": "10px",
    "top": "150px",
    "width": "366.391px"
   },
   "toc_section_display": true,
   "toc_window_display": false
  }
 },
 "nbformat": 4,
 "nbformat_minor": 2
}
