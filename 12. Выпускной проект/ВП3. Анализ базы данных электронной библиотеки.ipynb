{
 "cells": [
  {
   "cell_type": "markdown",
   "metadata": {
    "toc": true
   },
   "source": [
    "<h1>Содержание:<span class=\"tocSkip\"></span></h1>\n",
    "<div class=\"toc\"><ul class=\"toc-item\"><li><span><a href=\"#Тема:-Анализ-базы-данных-электронной-библиотеки.\" data-toc-modified-id=\"Тема:-Анализ-базы-данных-электронной-библиотеки.-0\">Тема: Анализ базы данных электронной библиотеки.</a></span></li><li><span><a href=\"#Цель:\" data-toc-modified-id=\"Цель:-1\">Цель:</a></span></li><li><span><a href=\"#Задачи:\" data-toc-modified-id=\"Задачи:-2\">Задачи:</a></span></li><li><span><a href=\"#Объект-исследования:\" data-toc-modified-id=\"Объект-исследования:-3\">Объект исследования:</a></span></li><li><span><a href=\"#1.-Изучение-данных-из-файлов\" data-toc-modified-id=\"1.-Изучение-данных-из-файлов-4\">1. Изучение данных из файлов</a></span><ul class=\"toc-item\"><li><span><a href=\"#1.1.-Импортирование-библиотек\" data-toc-modified-id=\"1.1.-Импортирование-библиотек-4.1\">1.1. Импортирование библиотек</a></span></li><li><span><a href=\"#1.2.-Загрузка-данных\" data-toc-modified-id=\"1.2.-Загрузка-данных-4.2\">1.2. Загрузка данных</a></span><ul class=\"toc-item\"><li><span><a href=\"#1.2.1.-Подключение-базы-данных\" data-toc-modified-id=\"1.2.1.-Подключение-базы-данных-4.2.1\">1.2.1. Подключение базы данных</a></span></li><li><span><a href=\"#1.2.2.-Чтение-файлов\" data-toc-modified-id=\"1.2.2.-Чтение-файлов-4.2.2\">1.2.2. Чтение файлов</a></span></li></ul></li><li><span><a href=\"#1.3.-Предварительное-изучение-данных\" data-toc-modified-id=\"1.3.-Предварительное-изучение-данных-4.3\">1.3. Предварительное изучение данных</a></span><ul class=\"toc-item\"><li><span><a href=\"#1.3.1.-Данные-о-книгах\" data-toc-modified-id=\"1.3.1.-Данные-о-книгах-4.3.1\">1.3.1. Данные о книгах</a></span></li><li><span><a href=\"#1.3.2.-Данные-об-авторах\" data-toc-modified-id=\"1.3.2.-Данные-об-авторах-4.3.2\">1.3.2. Данные об авторах</a></span></li><li><span><a href=\"#1.3.3.-Данные-об-издательствах\" data-toc-modified-id=\"1.3.3.-Данные-об-издательствах-4.3.3\">1.3.3. Данные об издательствах</a></span></li><li><span><a href=\"#1.3.4.-Данные-о-пользовательских-оценках\" data-toc-modified-id=\"1.3.4.-Данные-о-пользовательских-оценках-4.3.4\">1.3.4. Данные о пользовательских оценках</a></span></li><li><span><a href=\"#1.3.5.-Данные-о-пользовательских-обзорах-на-книги\" data-toc-modified-id=\"1.3.5.-Данные-о-пользовательских-обзорах-на-книги-4.3.5\">1.3.5. Данные о пользовательских обзорах на книги</a></span></li></ul></li></ul></li><li><span><a href=\"#2.-SQL--запросы\" data-toc-modified-id=\"2.-SQL--запросы-5\">2. SQL- запросы</a></span><ul class=\"toc-item\"><li><span><a href=\"#2.1.-Количество-книг,-вышедших-после-01.01.2020\" data-toc-modified-id=\"2.1.-Количество-книг,-вышедших-после-01.01.2020-5.1\">2.1. Количество книг, вышедших после 01.01.2020</a></span></li><li><span><a href=\"#2.2.-Количество-обзоров-и-средняя-оценка-для-каждой-книги\" data-toc-modified-id=\"2.2.-Количество-обзоров-и-средняя-оценка-для-каждой-книги-5.2\">2.2. Количество обзоров и средняя оценка для каждой книги</a></span></li><li><span><a href=\"#2.3.-Издательство,-выпустившее-наибольшее-количество-книг-толщиной-более-50-страниц\" data-toc-modified-id=\"2.3.-Издательство,-выпустившее-наибольшее-количество-книг-толщиной-более-50-страниц-5.3\">2.3. Издательство, выпустившее наибольшее количество книг толщиной более 50 страниц</a></span></li><li><span><a href=\"#2.4.-Автор-с-самой-высокой-средней-оценкой-книг\" data-toc-modified-id=\"2.4.-Автор-с-самой-высокой-средней-оценкой-книг-5.4\">2.4. Автор с самой высокой средней оценкой книг</a></span></li><li><span><a href=\"#2.5.-Среднее-количество-обзоров-от-пользователей,-которые-поставили-более-50-оценок\" data-toc-modified-id=\"2.5.-Среднее-количество-обзоров-от-пользователей,-которые-поставили-более-50-оценок-5.5\">2.5. Среднее количество обзоров от пользователей, которые поставили более 50 оценок</a></span></li></ul></li><li><span><a href=\"#3.-Общий-вывод\" data-toc-modified-id=\"3.-Общий-вывод-6\">3. Общий вывод</a></span></li></ul></div>"
   ]
  },
  {
   "cell_type": "markdown",
   "metadata": {},
   "source": [
    "## Тема: Анализ базы данных электронной библиотеки."
   ]
  },
  {
   "cell_type": "markdown",
   "metadata": {},
   "source": [
    "## Цель:\n",
    "**Исследовать базу данных сервиса для чтения книг по подписке при помощи SQL- запросов.**\n",
    "\n",
    "## Задачи:\n",
    "**1. Изучить файлы с данными.**\n",
    "\n",
    "**2. Посчитать количество книг, вышедших после 01.01.2020.**\n",
    "\n",
    "**3. Посчитать количество обзоров и среднюю оценку для каждой книги.**\n",
    "\n",
    "**4. Определить издательство, выпустившее наибольшее количество книг толщиной более 50 страниц (в целях исключения брошюр).**\n",
    "\n",
    "**5. Установить автора с самой высокой средней оценкой книг (учитывать книги с 50 и более оценками).**\n",
    "\n",
    "**6. Посчитать среднее количество обзоров от пользователей, которые поставили более 50 оценок.**\n",
    "\n",
    "**7. Сформулировать основные выводы.**\n",
    "\n",
    "\n",
    "## Объект исследования: \n",
    "**Таблицы с данными:**\n",
    "- О книгах.\n",
    "- Об авторах.\n",
    "- Об издательствах.\n",
    "- О пользовательских оценках книг.\n",
    "- О пользовательских обзорах на книги.\n",
    "\n",
    "***Заказчик:***  Владельцы крупного сервиса для чтения книг по подписке (электронная библиотека)."
   ]
  },
  {
   "cell_type": "markdown",
   "metadata": {},
   "source": [
    "## 1. Изучение данных из файлов"
   ]
  },
  {
   "cell_type": "markdown",
   "metadata": {},
   "source": [
    "### 1.1. Импортирование библиотек"
   ]
  },
  {
   "cell_type": "code",
   "execution_count": 1,
   "metadata": {},
   "outputs": [],
   "source": [
    "# импортируем библиотеки\n",
    "import pandas as pd\n",
    "from sqlalchemy import create_engine\n",
    "from pandas.io import sql\n",
    "import sqlite3"
   ]
  },
  {
   "cell_type": "markdown",
   "metadata": {},
   "source": [
    "### 1.2. Загрузка данных"
   ]
  },
  {
   "cell_type": "markdown",
   "metadata": {},
   "source": [
    "#### 1.2.1. Подключение базы данных"
   ]
  },
  {
   "cell_type": "code",
   "execution_count": 2,
   "metadata": {},
   "outputs": [],
   "source": [
    "# Устанавливаем параметры\n",
    "db_config = {'user': 'praktikum_student', # имя пользователя\n",
    " 'pwd': 'Sdf4$2;d-d30pp', # пароль\n",
    " 'host': 'rc1b-wcoijxj3yxfsf3fs.mdb.yandexcloud.net',\n",
    " 'port': 6432, # порт подключения\n",
    " 'db': 'data-analyst-final-project-db'} # название базы данных\n",
    "connection_string = 'postgresql://{}:{}@{}:{}/{}'.format(db_config['user'],\n",
    " db_config['pwd'],\n",
    " db_config['host'],\n",
    " db_config['port'],\n",
    " db_config['db'])\n",
    "# Сохраняем коннектор\n",
    "engine = create_engine(connection_string, connect_args={'sslmode':'require'}) "
   ]
  },
  {
   "cell_type": "markdown",
   "metadata": {},
   "source": [
    "#### 1.2.2. Чтение файлов"
   ]
  },
  {
   "cell_type": "code",
   "execution_count": 3,
   "metadata": {},
   "outputs": [],
   "source": [
    "# Данные о книгах\n",
    "query_1 = ''' SELECT *\n",
    "            FROM books\n",
    "        '''\n",
    "books = pd.io.sql.read_sql(query_1, con = engine) \n",
    "\n",
    "# Данные об авторах\n",
    "query_2 = ''' SELECT *\n",
    "            FROM authors\n",
    "        '''\n",
    "authors = pd.io.sql.read_sql(query_2, con = engine) \n",
    "\n",
    "# Данные об издательствах\n",
    "query_3 = ''' SELECT *\n",
    "            FROM publishers\n",
    "        '''\n",
    "publishers = pd.io.sql.read_sql(query_3, con = engine) \n",
    "\n",
    "# Данные об оценках пользователей\n",
    "query_4 = ''' SELECT *\n",
    "            FROM ratings\n",
    "        '''\n",
    "ratings = pd.io.sql.read_sql(query_4, con = engine) \n",
    "\n",
    "# Данные об обзорах на книги\n",
    "query_5 = ''' SELECT *\n",
    "            FROM reviews\n",
    "        '''\n",
    "reviews = pd.io.sql.read_sql(query_5, con = engine) "
   ]
  },
  {
   "cell_type": "markdown",
   "metadata": {},
   "source": [
    "### 1.3. Предварительное изучение данных"
   ]
  },
  {
   "cell_type": "code",
   "execution_count": 4,
   "metadata": {},
   "outputs": [],
   "source": [
    "# Напишем функцию, возвращающую по sql запросу 2 строки таблицы\n",
    "def sql(query):\n",
    "    return pd.io.sql.read_sql(query, con = engine)\n",
    "def  df_view(table):\n",
    "    result = sql(f'''\n",
    "        SELECT\n",
    "            *\n",
    "        FROM\n",
    "            {table}\n",
    "        LIMIT\n",
    "            2\n",
    "        ''')\n",
    "    return result"
   ]
  },
  {
   "cell_type": "code",
   "execution_count": 5,
   "metadata": {},
   "outputs": [],
   "source": [
    "# Напишем функцию, возвращающую количество дубликатов и общую информацию о таблице\n",
    "def df_viewing(df):\n",
    "    display(df.duplicated().sum()) \n",
    "    display(df.info()) "
   ]
  },
  {
   "cell_type": "markdown",
   "metadata": {},
   "source": [
    "#### 1.3.1. Данные о книгах"
   ]
  },
  {
   "cell_type": "code",
   "execution_count": 6,
   "metadata": {},
   "outputs": [
    {
     "data": {
      "text/html": [
       "<div>\n",
       "<style scoped>\n",
       "    .dataframe tbody tr th:only-of-type {\n",
       "        vertical-align: middle;\n",
       "    }\n",
       "\n",
       "    .dataframe tbody tr th {\n",
       "        vertical-align: top;\n",
       "    }\n",
       "\n",
       "    .dataframe thead th {\n",
       "        text-align: right;\n",
       "    }\n",
       "</style>\n",
       "<table border=\"1\" class=\"dataframe\">\n",
       "  <thead>\n",
       "    <tr style=\"text-align: right;\">\n",
       "      <th></th>\n",
       "      <th>book_id</th>\n",
       "      <th>author_id</th>\n",
       "      <th>title</th>\n",
       "      <th>num_pages</th>\n",
       "      <th>publication_date</th>\n",
       "      <th>publisher_id</th>\n",
       "    </tr>\n",
       "  </thead>\n",
       "  <tbody>\n",
       "    <tr>\n",
       "      <td>0</td>\n",
       "      <td>1</td>\n",
       "      <td>546</td>\n",
       "      <td>'Salem's Lot</td>\n",
       "      <td>594</td>\n",
       "      <td>2005-11-01</td>\n",
       "      <td>93</td>\n",
       "    </tr>\n",
       "    <tr>\n",
       "      <td>1</td>\n",
       "      <td>2</td>\n",
       "      <td>465</td>\n",
       "      <td>1 000 Places to See Before You Die</td>\n",
       "      <td>992</td>\n",
       "      <td>2003-05-22</td>\n",
       "      <td>336</td>\n",
       "    </tr>\n",
       "  </tbody>\n",
       "</table>\n",
       "</div>"
      ],
      "text/plain": [
       "   book_id  author_id                               title  num_pages  \\\n",
       "0        1        546                        'Salem's Lot        594   \n",
       "1        2        465  1 000 Places to See Before You Die        992   \n",
       "\n",
       "  publication_date  publisher_id  \n",
       "0       2005-11-01            93  \n",
       "1       2003-05-22           336  "
      ]
     },
     "execution_count": 6,
     "metadata": {},
     "output_type": "execute_result"
    }
   ],
   "source": [
    "df_view('books')"
   ]
  },
  {
   "cell_type": "code",
   "execution_count": 7,
   "metadata": {},
   "outputs": [
    {
     "data": {
      "text/plain": [
       "0"
      ]
     },
     "metadata": {},
     "output_type": "display_data"
    },
    {
     "name": "stdout",
     "output_type": "stream",
     "text": [
      "<class 'pandas.core.frame.DataFrame'>\n",
      "RangeIndex: 1000 entries, 0 to 999\n",
      "Data columns (total 6 columns):\n",
      "book_id             1000 non-null int64\n",
      "author_id           1000 non-null int64\n",
      "title               1000 non-null object\n",
      "num_pages           1000 non-null int64\n",
      "publication_date    1000 non-null object\n",
      "publisher_id        1000 non-null int64\n",
      "dtypes: int64(4), object(2)\n",
      "memory usage: 47.0+ KB\n"
     ]
    },
    {
     "data": {
      "text/plain": [
       "None"
      ]
     },
     "metadata": {},
     "output_type": "display_data"
    }
   ],
   "source": [
    "df_viewing(books)"
   ]
  },
  {
   "cell_type": "markdown",
   "metadata": {},
   "source": [
    "**В таблице с данными о книгах, 6 столбцов, 1 000 строк. Пропуски данных и дубликаты отсутствуют.**\n",
    "\n",
    "**Столбцы содержат следующую информацию:**\n",
    "- `book_id` — идентификатор книги;\n",
    "- `author_id` — идентификатор автора;\n",
    "- `title` — название книги;\n",
    "- `num_pages` — количество страниц;\n",
    "- `publication_date` — дата публикации книги;\n",
    "- `publisher_id` — идентификатор издателя."
   ]
  },
  {
   "cell_type": "markdown",
   "metadata": {},
   "source": [
    "#### 1.3.2. Данные об авторах"
   ]
  },
  {
   "cell_type": "code",
   "execution_count": 8,
   "metadata": {},
   "outputs": [
    {
     "data": {
      "text/html": [
       "<div>\n",
       "<style scoped>\n",
       "    .dataframe tbody tr th:only-of-type {\n",
       "        vertical-align: middle;\n",
       "    }\n",
       "\n",
       "    .dataframe tbody tr th {\n",
       "        vertical-align: top;\n",
       "    }\n",
       "\n",
       "    .dataframe thead th {\n",
       "        text-align: right;\n",
       "    }\n",
       "</style>\n",
       "<table border=\"1\" class=\"dataframe\">\n",
       "  <thead>\n",
       "    <tr style=\"text-align: right;\">\n",
       "      <th></th>\n",
       "      <th>author_id</th>\n",
       "      <th>author</th>\n",
       "    </tr>\n",
       "  </thead>\n",
       "  <tbody>\n",
       "    <tr>\n",
       "      <td>0</td>\n",
       "      <td>1</td>\n",
       "      <td>A.S. Byatt</td>\n",
       "    </tr>\n",
       "    <tr>\n",
       "      <td>1</td>\n",
       "      <td>2</td>\n",
       "      <td>Aesop/Laura Harris/Laura Gibbs</td>\n",
       "    </tr>\n",
       "  </tbody>\n",
       "</table>\n",
       "</div>"
      ],
      "text/plain": [
       "   author_id                          author\n",
       "0          1                      A.S. Byatt\n",
       "1          2  Aesop/Laura Harris/Laura Gibbs"
      ]
     },
     "execution_count": 8,
     "metadata": {},
     "output_type": "execute_result"
    }
   ],
   "source": [
    "df_view('authors')"
   ]
  },
  {
   "cell_type": "code",
   "execution_count": 9,
   "metadata": {},
   "outputs": [
    {
     "data": {
      "text/plain": [
       "0"
      ]
     },
     "metadata": {},
     "output_type": "display_data"
    },
    {
     "name": "stdout",
     "output_type": "stream",
     "text": [
      "<class 'pandas.core.frame.DataFrame'>\n",
      "RangeIndex: 636 entries, 0 to 635\n",
      "Data columns (total 2 columns):\n",
      "author_id    636 non-null int64\n",
      "author       636 non-null object\n",
      "dtypes: int64(1), object(1)\n",
      "memory usage: 10.1+ KB\n"
     ]
    },
    {
     "data": {
      "text/plain": [
       "None"
      ]
     },
     "metadata": {},
     "output_type": "display_data"
    }
   ],
   "source": [
    "df_viewing(authors)"
   ]
  },
  {
   "cell_type": "markdown",
   "metadata": {},
   "source": [
    "**В таблице с данными об авторах, 2 столбца, 636 строк. Пропуски данных и дубликаты отсутствуют.**\n",
    "\n",
    "**Столбцы содержат следующую информацию:**\n",
    "- `author_id` — идентификатор автора;\n",
    "- `author` — имя автора."
   ]
  },
  {
   "cell_type": "markdown",
   "metadata": {},
   "source": [
    "#### 1.3.3. Данные об издательствах"
   ]
  },
  {
   "cell_type": "code",
   "execution_count": 10,
   "metadata": {},
   "outputs": [
    {
     "data": {
      "text/html": [
       "<div>\n",
       "<style scoped>\n",
       "    .dataframe tbody tr th:only-of-type {\n",
       "        vertical-align: middle;\n",
       "    }\n",
       "\n",
       "    .dataframe tbody tr th {\n",
       "        vertical-align: top;\n",
       "    }\n",
       "\n",
       "    .dataframe thead th {\n",
       "        text-align: right;\n",
       "    }\n",
       "</style>\n",
       "<table border=\"1\" class=\"dataframe\">\n",
       "  <thead>\n",
       "    <tr style=\"text-align: right;\">\n",
       "      <th></th>\n",
       "      <th>publisher_id</th>\n",
       "      <th>publisher</th>\n",
       "    </tr>\n",
       "  </thead>\n",
       "  <tbody>\n",
       "    <tr>\n",
       "      <td>0</td>\n",
       "      <td>1</td>\n",
       "      <td>Ace</td>\n",
       "    </tr>\n",
       "    <tr>\n",
       "      <td>1</td>\n",
       "      <td>2</td>\n",
       "      <td>Ace Book</td>\n",
       "    </tr>\n",
       "  </tbody>\n",
       "</table>\n",
       "</div>"
      ],
      "text/plain": [
       "   publisher_id publisher\n",
       "0             1       Ace\n",
       "1             2  Ace Book"
      ]
     },
     "execution_count": 10,
     "metadata": {},
     "output_type": "execute_result"
    }
   ],
   "source": [
    "df_view('publishers')"
   ]
  },
  {
   "cell_type": "code",
   "execution_count": 11,
   "metadata": {},
   "outputs": [
    {
     "data": {
      "text/plain": [
       "0"
      ]
     },
     "metadata": {},
     "output_type": "display_data"
    },
    {
     "name": "stdout",
     "output_type": "stream",
     "text": [
      "<class 'pandas.core.frame.DataFrame'>\n",
      "RangeIndex: 340 entries, 0 to 339\n",
      "Data columns (total 2 columns):\n",
      "publisher_id    340 non-null int64\n",
      "publisher       340 non-null object\n",
      "dtypes: int64(1), object(1)\n",
      "memory usage: 5.4+ KB\n"
     ]
    },
    {
     "data": {
      "text/plain": [
       "None"
      ]
     },
     "metadata": {},
     "output_type": "display_data"
    }
   ],
   "source": [
    "df_viewing(publishers)"
   ]
  },
  {
   "cell_type": "markdown",
   "metadata": {},
   "source": [
    "**В таблице с данными об издательствах, 2 столбца, 340 строк. Пропуски данных и дубликаты отсутствуют.**\n",
    "\n",
    "**Столбцы содержат следующую информацию:**\n",
    "- `publisher_id` — идентификатор издательства;\n",
    "- `publisher` — название издательства."
   ]
  },
  {
   "cell_type": "markdown",
   "metadata": {},
   "source": [
    "#### 1.3.4. Данные о пользовательских оценках"
   ]
  },
  {
   "cell_type": "code",
   "execution_count": 12,
   "metadata": {},
   "outputs": [
    {
     "data": {
      "text/html": [
       "<div>\n",
       "<style scoped>\n",
       "    .dataframe tbody tr th:only-of-type {\n",
       "        vertical-align: middle;\n",
       "    }\n",
       "\n",
       "    .dataframe tbody tr th {\n",
       "        vertical-align: top;\n",
       "    }\n",
       "\n",
       "    .dataframe thead th {\n",
       "        text-align: right;\n",
       "    }\n",
       "</style>\n",
       "<table border=\"1\" class=\"dataframe\">\n",
       "  <thead>\n",
       "    <tr style=\"text-align: right;\">\n",
       "      <th></th>\n",
       "      <th>rating_id</th>\n",
       "      <th>book_id</th>\n",
       "      <th>username</th>\n",
       "      <th>rating</th>\n",
       "    </tr>\n",
       "  </thead>\n",
       "  <tbody>\n",
       "    <tr>\n",
       "      <td>0</td>\n",
       "      <td>1</td>\n",
       "      <td>1</td>\n",
       "      <td>ryanfranco</td>\n",
       "      <td>4</td>\n",
       "    </tr>\n",
       "    <tr>\n",
       "      <td>1</td>\n",
       "      <td>2</td>\n",
       "      <td>1</td>\n",
       "      <td>grantpatricia</td>\n",
       "      <td>2</td>\n",
       "    </tr>\n",
       "  </tbody>\n",
       "</table>\n",
       "</div>"
      ],
      "text/plain": [
       "   rating_id  book_id       username  rating\n",
       "0          1        1     ryanfranco       4\n",
       "1          2        1  grantpatricia       2"
      ]
     },
     "execution_count": 12,
     "metadata": {},
     "output_type": "execute_result"
    }
   ],
   "source": [
    "df_view('ratings')"
   ]
  },
  {
   "cell_type": "code",
   "execution_count": 13,
   "metadata": {},
   "outputs": [
    {
     "data": {
      "text/plain": [
       "0"
      ]
     },
     "metadata": {},
     "output_type": "display_data"
    },
    {
     "name": "stdout",
     "output_type": "stream",
     "text": [
      "<class 'pandas.core.frame.DataFrame'>\n",
      "RangeIndex: 6456 entries, 0 to 6455\n",
      "Data columns (total 4 columns):\n",
      "rating_id    6456 non-null int64\n",
      "book_id      6456 non-null int64\n",
      "username     6456 non-null object\n",
      "rating       6456 non-null int64\n",
      "dtypes: int64(3), object(1)\n",
      "memory usage: 201.9+ KB\n"
     ]
    },
    {
     "data": {
      "text/plain": [
       "None"
      ]
     },
     "metadata": {},
     "output_type": "display_data"
    }
   ],
   "source": [
    "df_viewing(ratings)"
   ]
  },
  {
   "cell_type": "markdown",
   "metadata": {},
   "source": [
    "**В таблице с данными о пользовательских оценках, 4 столбца, 6456 строк. Пропуски данных и дубликаты отсутствуют.**\n",
    "\n",
    "**Столбцы содержат следующую информацию:**\n",
    "- `rating_id` — идентификатор оценки;\n",
    "- `book_id` — идентификатор книги;\n",
    "- `username` — имя пользователя, оставившего оценку;\n",
    "- `rating` — оценка книги."
   ]
  },
  {
   "cell_type": "markdown",
   "metadata": {},
   "source": [
    "#### 1.3.5. Данные о пользовательских обзорах на книги"
   ]
  },
  {
   "cell_type": "code",
   "execution_count": 14,
   "metadata": {},
   "outputs": [
    {
     "data": {
      "text/html": [
       "<div>\n",
       "<style scoped>\n",
       "    .dataframe tbody tr th:only-of-type {\n",
       "        vertical-align: middle;\n",
       "    }\n",
       "\n",
       "    .dataframe tbody tr th {\n",
       "        vertical-align: top;\n",
       "    }\n",
       "\n",
       "    .dataframe thead th {\n",
       "        text-align: right;\n",
       "    }\n",
       "</style>\n",
       "<table border=\"1\" class=\"dataframe\">\n",
       "  <thead>\n",
       "    <tr style=\"text-align: right;\">\n",
       "      <th></th>\n",
       "      <th>review_id</th>\n",
       "      <th>book_id</th>\n",
       "      <th>username</th>\n",
       "      <th>text</th>\n",
       "    </tr>\n",
       "  </thead>\n",
       "  <tbody>\n",
       "    <tr>\n",
       "      <td>0</td>\n",
       "      <td>1</td>\n",
       "      <td>1</td>\n",
       "      <td>brandtandrea</td>\n",
       "      <td>Mention society tell send professor analysis. ...</td>\n",
       "    </tr>\n",
       "    <tr>\n",
       "      <td>1</td>\n",
       "      <td>2</td>\n",
       "      <td>1</td>\n",
       "      <td>ryanfranco</td>\n",
       "      <td>Foot glass pretty audience hit themselves. Amo...</td>\n",
       "    </tr>\n",
       "  </tbody>\n",
       "</table>\n",
       "</div>"
      ],
      "text/plain": [
       "   review_id  book_id      username  \\\n",
       "0          1        1  brandtandrea   \n",
       "1          2        1    ryanfranco   \n",
       "\n",
       "                                                text  \n",
       "0  Mention society tell send professor analysis. ...  \n",
       "1  Foot glass pretty audience hit themselves. Amo...  "
      ]
     },
     "execution_count": 14,
     "metadata": {},
     "output_type": "execute_result"
    }
   ],
   "source": [
    "df_view('reviews')"
   ]
  },
  {
   "cell_type": "code",
   "execution_count": 15,
   "metadata": {},
   "outputs": [
    {
     "data": {
      "text/plain": [
       "0"
      ]
     },
     "metadata": {},
     "output_type": "display_data"
    },
    {
     "name": "stdout",
     "output_type": "stream",
     "text": [
      "<class 'pandas.core.frame.DataFrame'>\n",
      "RangeIndex: 2793 entries, 0 to 2792\n",
      "Data columns (total 4 columns):\n",
      "review_id    2793 non-null int64\n",
      "book_id      2793 non-null int64\n",
      "username     2793 non-null object\n",
      "text         2793 non-null object\n",
      "dtypes: int64(2), object(2)\n",
      "memory usage: 87.4+ KB\n"
     ]
    },
    {
     "data": {
      "text/plain": [
       "None"
      ]
     },
     "metadata": {},
     "output_type": "display_data"
    }
   ],
   "source": [
    "df_viewing(reviews)"
   ]
  },
  {
   "cell_type": "markdown",
   "metadata": {},
   "source": [
    "**В таблице с данными о пользовательских обзорах на книги, 4 столбца, 2793 строки. Пропуски данных и дубликаты отсутствуют.**\n",
    "\n",
    "**Столбцы содержат следующую информацию:**\n",
    "- `review_id` — идентификатор обзора;\n",
    "- `book_id` — идентификатор книги;\n",
    "- `username` — имя пользователя, написавшего обзор;\n",
    "- `text` — текст обзора."
   ]
  },
  {
   "cell_type": "markdown",
   "metadata": {},
   "source": [
    "**Полученные из базы данные корректны. Можно приступать к SQL- запросам.**"
   ]
  },
  {
   "cell_type": "markdown",
   "metadata": {},
   "source": [
    "## 2. SQL- запросы"
   ]
  },
  {
   "cell_type": "markdown",
   "metadata": {},
   "source": [
    "### 2.1. Количество книг, вышедших после 01.01.2020"
   ]
  },
  {
   "cell_type": "code",
   "execution_count": 16,
   "metadata": {},
   "outputs": [
    {
     "data": {
      "text/html": [
       "<div>\n",
       "<style scoped>\n",
       "    .dataframe tbody tr th:only-of-type {\n",
       "        vertical-align: middle;\n",
       "    }\n",
       "\n",
       "    .dataframe tbody tr th {\n",
       "        vertical-align: top;\n",
       "    }\n",
       "\n",
       "    .dataframe thead th {\n",
       "        text-align: right;\n",
       "    }\n",
       "</style>\n",
       "<table border=\"1\" class=\"dataframe\">\n",
       "  <thead>\n",
       "    <tr style=\"text-align: right;\">\n",
       "      <th></th>\n",
       "      <th>cnt_book_2000</th>\n",
       "    </tr>\n",
       "  </thead>\n",
       "  <tbody>\n",
       "    <tr>\n",
       "      <td>0</td>\n",
       "      <td>819</td>\n",
       "    </tr>\n",
       "  </tbody>\n",
       "</table>\n",
       "</div>"
      ],
      "text/plain": [
       "   cnt_book_2000\n",
       "0            819"
      ]
     },
     "execution_count": 16,
     "metadata": {},
     "output_type": "execute_result"
    }
   ],
   "source": [
    "query_6 = ''' SELECT\n",
    "                    COUNT(book_id) AS cnt_book_2000\n",
    "                FROM\n",
    "                    books\n",
    "                WHERE\n",
    "                   publication_date > '2000-01-01' \n",
    "            '''\n",
    "book_2000 = pd.io.sql.read_sql(query_6, con = engine) \n",
    "\n",
    "book_2000"
   ]
  },
  {
   "cell_type": "markdown",
   "metadata": {},
   "source": [
    "**После 01.01.2000 выпущено 819 книг.**"
   ]
  },
  {
   "cell_type": "markdown",
   "metadata": {},
   "source": [
    "### 2.2. Количество обзоров и средняя оценка для каждой книги"
   ]
  },
  {
   "cell_type": "code",
   "execution_count": 17,
   "metadata": {},
   "outputs": [
    {
     "data": {
      "text/html": [
       "<div>\n",
       "<style scoped>\n",
       "    .dataframe tbody tr th:only-of-type {\n",
       "        vertical-align: middle;\n",
       "    }\n",
       "\n",
       "    .dataframe tbody tr th {\n",
       "        vertical-align: top;\n",
       "    }\n",
       "\n",
       "    .dataframe thead th {\n",
       "        text-align: right;\n",
       "    }\n",
       "</style>\n",
       "<table border=\"1\" class=\"dataframe\">\n",
       "  <thead>\n",
       "    <tr style=\"text-align: right;\">\n",
       "      <th></th>\n",
       "      <th>author</th>\n",
       "      <th>title</th>\n",
       "      <th>cnt_reviews_book</th>\n",
       "      <th>median_rating</th>\n",
       "    </tr>\n",
       "  </thead>\n",
       "  <tbody>\n",
       "    <tr>\n",
       "      <td>0</td>\n",
       "      <td>A.S. Byatt</td>\n",
       "      <td>Possession</td>\n",
       "      <td>3</td>\n",
       "      <td>4.000000</td>\n",
       "    </tr>\n",
       "    <tr>\n",
       "      <td>1</td>\n",
       "      <td>Aesop/Laura Harris/Laura Gibbs</td>\n",
       "      <td>Aesop's Fables</td>\n",
       "      <td>2</td>\n",
       "      <td>3.750000</td>\n",
       "    </tr>\n",
       "    <tr>\n",
       "      <td>2</td>\n",
       "      <td>Agatha Christie</td>\n",
       "      <td>A Murder Is Announced (Miss Marple  #5)</td>\n",
       "      <td>2</td>\n",
       "      <td>4.000000</td>\n",
       "    </tr>\n",
       "    <tr>\n",
       "      <td>3</td>\n",
       "      <td>Agatha Christie</td>\n",
       "      <td>And Then There Were None</td>\n",
       "      <td>5</td>\n",
       "      <td>4.454545</td>\n",
       "    </tr>\n",
       "    <tr>\n",
       "      <td>4</td>\n",
       "      <td>Agatha Christie</td>\n",
       "      <td>Evil Under the Sun (Hercule Poirot  #24)</td>\n",
       "      <td>2</td>\n",
       "      <td>5.000000</td>\n",
       "    </tr>\n",
       "    <tr>\n",
       "      <td>...</td>\n",
       "      <td>...</td>\n",
       "      <td>...</td>\n",
       "      <td>...</td>\n",
       "      <td>...</td>\n",
       "    </tr>\n",
       "    <tr>\n",
       "      <td>994</td>\n",
       "      <td>Zadie Smith</td>\n",
       "      <td>On Beauty</td>\n",
       "      <td>2</td>\n",
       "      <td>4.500000</td>\n",
       "    </tr>\n",
       "    <tr>\n",
       "      <td>995</td>\n",
       "      <td>Zadie Smith</td>\n",
       "      <td>White Teeth</td>\n",
       "      <td>4</td>\n",
       "      <td>3.750000</td>\n",
       "    </tr>\n",
       "    <tr>\n",
       "      <td>996</td>\n",
       "      <td>Zilpha Keatley Snyder</td>\n",
       "      <td>The Egypt Game</td>\n",
       "      <td>2</td>\n",
       "      <td>4.000000</td>\n",
       "    </tr>\n",
       "    <tr>\n",
       "      <td>997</td>\n",
       "      <td>Zora Neale Hurston</td>\n",
       "      <td>Their Eyes Were Watching God</td>\n",
       "      <td>4</td>\n",
       "      <td>4.125000</td>\n",
       "    </tr>\n",
       "    <tr>\n",
       "      <td>998</td>\n",
       "      <td>Åsne Seierstad/Ingrid Christopherson</td>\n",
       "      <td>The Bookseller of Kabul</td>\n",
       "      <td>2</td>\n",
       "      <td>4.000000</td>\n",
       "    </tr>\n",
       "  </tbody>\n",
       "</table>\n",
       "<p>999 rows × 4 columns</p>\n",
       "</div>"
      ],
      "text/plain": [
       "                                   author  \\\n",
       "0                              A.S. Byatt   \n",
       "1          Aesop/Laura Harris/Laura Gibbs   \n",
       "2                         Agatha Christie   \n",
       "3                         Agatha Christie   \n",
       "4                         Agatha Christie   \n",
       "..                                    ...   \n",
       "994                           Zadie Smith   \n",
       "995                           Zadie Smith   \n",
       "996                 Zilpha Keatley Snyder   \n",
       "997                    Zora Neale Hurston   \n",
       "998  Åsne Seierstad/Ingrid Christopherson   \n",
       "\n",
       "                                        title  cnt_reviews_book  median_rating  \n",
       "0                                  Possession                 3       4.000000  \n",
       "1                              Aesop's Fables                 2       3.750000  \n",
       "2     A Murder Is Announced (Miss Marple  #5)                 2       4.000000  \n",
       "3                    And Then There Were None                 5       4.454545  \n",
       "4    Evil Under the Sun (Hercule Poirot  #24)                 2       5.000000  \n",
       "..                                        ...               ...            ...  \n",
       "994                                 On Beauty                 2       4.500000  \n",
       "995                               White Teeth                 4       3.750000  \n",
       "996                            The Egypt Game                 2       4.000000  \n",
       "997              Their Eyes Were Watching God                 4       4.125000  \n",
       "998                   The Bookseller of Kabul                 2       4.000000  \n",
       "\n",
       "[999 rows x 4 columns]"
      ]
     },
     "execution_count": 17,
     "metadata": {},
     "output_type": "execute_result"
    }
   ],
   "source": [
    "query_7 = ''' SELECT\n",
    "                authors.author AS author, \n",
    "                books.title, \n",
    "                COUNT(DISTINCT reviews.review_id) AS cnt_reviews_book, \n",
    "                AVG (ratings.rating) AS median_rating  \n",
    "            FROM\n",
    "                authors\n",
    "                INNER JOIN books ON books.author_id  = authors.author_id\n",
    "                LEFT JOIN reviews ON books.book_id  = reviews.book_id\n",
    "                INNER JOIN ratings ON books.book_id  = ratings.book_id\n",
    "            \n",
    "            GROUP BY\n",
    "                  authors.author, \n",
    "                books.title \n",
    "            ORDER BY \n",
    "                authors.author \n",
    "            '''\n",
    "overview = pd.io.sql.read_sql(query_7, con = engine) \n",
    "\n",
    "overview"
   ]
  },
  {
   "cell_type": "markdown",
   "metadata": {},
   "source": [
    "Таблица содержит на 1 книгу меньше, чем по данным о книгах. Дополнительно посмотрим на число книг по ID и по названию."
   ]
  },
  {
   "cell_type": "code",
   "execution_count": 18,
   "metadata": {},
   "outputs": [
    {
     "data": {
      "text/html": [
       "<div>\n",
       "<style scoped>\n",
       "    .dataframe tbody tr th:only-of-type {\n",
       "        vertical-align: middle;\n",
       "    }\n",
       "\n",
       "    .dataframe tbody tr th {\n",
       "        vertical-align: top;\n",
       "    }\n",
       "\n",
       "    .dataframe thead th {\n",
       "        text-align: right;\n",
       "    }\n",
       "</style>\n",
       "<table border=\"1\" class=\"dataframe\">\n",
       "  <thead>\n",
       "    <tr style=\"text-align: right;\">\n",
       "      <th></th>\n",
       "      <th>count</th>\n",
       "    </tr>\n",
       "  </thead>\n",
       "  <tbody>\n",
       "    <tr>\n",
       "      <td>0</td>\n",
       "      <td>1000</td>\n",
       "    </tr>\n",
       "  </tbody>\n",
       "</table>\n",
       "</div>"
      ],
      "text/plain": [
       "   count\n",
       "0   1000"
      ]
     },
     "execution_count": 18,
     "metadata": {},
     "output_type": "execute_result"
    }
   ],
   "source": [
    "query_7_1 = ''' SELECT\n",
    "                COUNT(DISTINCT books.book_id) \n",
    "                \n",
    "            FROM\n",
    "                books\n",
    "            '''\n",
    "n1 = pd.io.sql.read_sql(query_7_1, con = engine) \n",
    "\n",
    "n1"
   ]
  },
  {
   "cell_type": "code",
   "execution_count": 19,
   "metadata": {},
   "outputs": [
    {
     "data": {
      "text/html": [
       "<div>\n",
       "<style scoped>\n",
       "    .dataframe tbody tr th:only-of-type {\n",
       "        vertical-align: middle;\n",
       "    }\n",
       "\n",
       "    .dataframe tbody tr th {\n",
       "        vertical-align: top;\n",
       "    }\n",
       "\n",
       "    .dataframe thead th {\n",
       "        text-align: right;\n",
       "    }\n",
       "</style>\n",
       "<table border=\"1\" class=\"dataframe\">\n",
       "  <thead>\n",
       "    <tr style=\"text-align: right;\">\n",
       "      <th></th>\n",
       "      <th>count</th>\n",
       "    </tr>\n",
       "  </thead>\n",
       "  <tbody>\n",
       "    <tr>\n",
       "      <td>0</td>\n",
       "      <td>999</td>\n",
       "    </tr>\n",
       "  </tbody>\n",
       "</table>\n",
       "</div>"
      ],
      "text/plain": [
       "   count\n",
       "0    999"
      ]
     },
     "execution_count": 19,
     "metadata": {},
     "output_type": "execute_result"
    }
   ],
   "source": [
    "query_7_1 = ''' SELECT\n",
    "                COUNT(DISTINCT books.title) \n",
    "                \n",
    "            FROM\n",
    "                books\n",
    "            '''\n",
    "n2 = pd.io.sql.read_sql(query_7_1, con = engine) \n",
    "\n",
    "n2"
   ]
  },
  {
   "cell_type": "markdown",
   "metadata": {},
   "source": [
    "В таблице имеется одна книга с одинаковым названием, но разными ID."
   ]
  },
  {
   "cell_type": "markdown",
   "metadata": {},
   "source": [
    "**Получили 999 книг с отзывами (от 2 до 1120 на книгу) и средними оценками от 1,5 до 5.**"
   ]
  },
  {
   "cell_type": "markdown",
   "metadata": {},
   "source": [
    "### 2.3. Издательство, выпустившее наибольшее количество книг толщиной более 50 страниц"
   ]
  },
  {
   "cell_type": "code",
   "execution_count": 20,
   "metadata": {},
   "outputs": [
    {
     "data": {
      "text/html": [
       "<div>\n",
       "<style scoped>\n",
       "    .dataframe tbody tr th:only-of-type {\n",
       "        vertical-align: middle;\n",
       "    }\n",
       "\n",
       "    .dataframe tbody tr th {\n",
       "        vertical-align: top;\n",
       "    }\n",
       "\n",
       "    .dataframe thead th {\n",
       "        text-align: right;\n",
       "    }\n",
       "</style>\n",
       "<table border=\"1\" class=\"dataframe\">\n",
       "  <thead>\n",
       "    <tr style=\"text-align: right;\">\n",
       "      <th></th>\n",
       "      <th>publishing_house</th>\n",
       "      <th>cnt_real_book</th>\n",
       "    </tr>\n",
       "  </thead>\n",
       "  <tbody>\n",
       "    <tr>\n",
       "      <td>0</td>\n",
       "      <td>Penguin Books</td>\n",
       "      <td>42</td>\n",
       "    </tr>\n",
       "    <tr>\n",
       "      <td>1</td>\n",
       "      <td>Vintage</td>\n",
       "      <td>31</td>\n",
       "    </tr>\n",
       "    <tr>\n",
       "      <td>2</td>\n",
       "      <td>Grand Central Publishing</td>\n",
       "      <td>25</td>\n",
       "    </tr>\n",
       "    <tr>\n",
       "      <td>3</td>\n",
       "      <td>Penguin Classics</td>\n",
       "      <td>24</td>\n",
       "    </tr>\n",
       "    <tr>\n",
       "      <td>4</td>\n",
       "      <td>Bantam</td>\n",
       "      <td>19</td>\n",
       "    </tr>\n",
       "    <tr>\n",
       "      <td>...</td>\n",
       "      <td>...</td>\n",
       "      <td>...</td>\n",
       "    </tr>\n",
       "    <tr>\n",
       "      <td>329</td>\n",
       "      <td>Random House Anchor</td>\n",
       "      <td>1</td>\n",
       "    </tr>\n",
       "    <tr>\n",
       "      <td>330</td>\n",
       "      <td>Random House Audio Publishing Group</td>\n",
       "      <td>1</td>\n",
       "    </tr>\n",
       "    <tr>\n",
       "      <td>331</td>\n",
       "      <td>Random House Large Print Publishing</td>\n",
       "      <td>1</td>\n",
       "    </tr>\n",
       "    <tr>\n",
       "      <td>332</td>\n",
       "      <td>Random House Trade</td>\n",
       "      <td>1</td>\n",
       "    </tr>\n",
       "    <tr>\n",
       "      <td>333</td>\n",
       "      <td>Random House Vintage</td>\n",
       "      <td>1</td>\n",
       "    </tr>\n",
       "  </tbody>\n",
       "</table>\n",
       "<p>334 rows × 2 columns</p>\n",
       "</div>"
      ],
      "text/plain": [
       "                        publishing_house  cnt_real_book\n",
       "0                          Penguin Books             42\n",
       "1                                Vintage             31\n",
       "2               Grand Central Publishing             25\n",
       "3                       Penguin Classics             24\n",
       "4                                 Bantam             19\n",
       "..                                   ...            ...\n",
       "329                  Random House Anchor              1\n",
       "330  Random House Audio Publishing Group              1\n",
       "331  Random House Large Print Publishing              1\n",
       "332                   Random House Trade              1\n",
       "333                 Random House Vintage              1\n",
       "\n",
       "[334 rows x 2 columns]"
      ]
     },
     "execution_count": 20,
     "metadata": {},
     "output_type": "execute_result"
    }
   ],
   "source": [
    "query_8 = ''' SELECT\n",
    "                publishers.publisher AS publishing_house, \n",
    "                COUNT(DISTINCT books.book_id) AS cnt_real_book \n",
    "            FROM\n",
    "                publishers\n",
    "                INNER JOIN books ON books.publisher_id  = publishers.publisher_id\n",
    "            WHERE\n",
    "                books.num_pages > 50\n",
    "            GROUP BY\n",
    "                  publishers.publisher \n",
    "            ORDER BY  \n",
    "                cnt_real_book DESC\n",
    "            '''\n",
    "publishing_house = pd.io.sql.read_sql(query_8, con = engine) \n",
    "\n",
    "publishing_house"
   ]
  },
  {
   "cell_type": "markdown",
   "metadata": {},
   "source": [
    "**\"Penguin Books\" - издательство, выпустившее наибольшее количество книг (42), толщиной более 50 страниц.**"
   ]
  },
  {
   "cell_type": "markdown",
   "metadata": {},
   "source": [
    "### 2.4. Автор с самой высокой средней оценкой книг"
   ]
  },
  {
   "cell_type": "code",
   "execution_count": 21,
   "metadata": {},
   "outputs": [
    {
     "data": {
      "text/html": [
       "<div>\n",
       "<style scoped>\n",
       "    .dataframe tbody tr th:only-of-type {\n",
       "        vertical-align: middle;\n",
       "    }\n",
       "\n",
       "    .dataframe tbody tr th {\n",
       "        vertical-align: top;\n",
       "    }\n",
       "\n",
       "    .dataframe thead th {\n",
       "        text-align: right;\n",
       "    }\n",
       "</style>\n",
       "<table border=\"1\" class=\"dataframe\">\n",
       "  <thead>\n",
       "    <tr style=\"text-align: right;\">\n",
       "      <th></th>\n",
       "      <th>author</th>\n",
       "      <th>cnt_rating_book</th>\n",
       "      <th>median_rating</th>\n",
       "    </tr>\n",
       "  </thead>\n",
       "  <tbody>\n",
       "    <tr>\n",
       "      <td>0</td>\n",
       "      <td>J.K. Rowling/Mary GrandPré</td>\n",
       "      <td>312</td>\n",
       "      <td>4.288462</td>\n",
       "    </tr>\n",
       "    <tr>\n",
       "      <td>1</td>\n",
       "      <td>Agatha Christie</td>\n",
       "      <td>53</td>\n",
       "      <td>4.283019</td>\n",
       "    </tr>\n",
       "    <tr>\n",
       "      <td>2</td>\n",
       "      <td>Markus Zusak/Cao Xuân Việt Khương</td>\n",
       "      <td>53</td>\n",
       "      <td>4.264151</td>\n",
       "    </tr>\n",
       "    <tr>\n",
       "      <td>3</td>\n",
       "      <td>J.R.R. Tolkien</td>\n",
       "      <td>166</td>\n",
       "      <td>4.240964</td>\n",
       "    </tr>\n",
       "    <tr>\n",
       "      <td>4</td>\n",
       "      <td>Roald Dahl/Quentin Blake</td>\n",
       "      <td>62</td>\n",
       "      <td>4.209677</td>\n",
       "    </tr>\n",
       "    <tr>\n",
       "      <td>5</td>\n",
       "      <td>Louisa May Alcott</td>\n",
       "      <td>54</td>\n",
       "      <td>4.203704</td>\n",
       "    </tr>\n",
       "    <tr>\n",
       "      <td>6</td>\n",
       "      <td>Rick Riordan</td>\n",
       "      <td>84</td>\n",
       "      <td>4.130952</td>\n",
       "    </tr>\n",
       "    <tr>\n",
       "      <td>7</td>\n",
       "      <td>Arthur Golden</td>\n",
       "      <td>56</td>\n",
       "      <td>4.107143</td>\n",
       "    </tr>\n",
       "    <tr>\n",
       "      <td>8</td>\n",
       "      <td>Stephen King</td>\n",
       "      <td>106</td>\n",
       "      <td>4.009434</td>\n",
       "    </tr>\n",
       "    <tr>\n",
       "      <td>9</td>\n",
       "      <td>John Grisham</td>\n",
       "      <td>70</td>\n",
       "      <td>3.971429</td>\n",
       "    </tr>\n",
       "    <tr>\n",
       "      <td>10</td>\n",
       "      <td>William Golding</td>\n",
       "      <td>71</td>\n",
       "      <td>3.901408</td>\n",
       "    </tr>\n",
       "    <tr>\n",
       "      <td>11</td>\n",
       "      <td>Nicholas Sparks</td>\n",
       "      <td>111</td>\n",
       "      <td>3.882883</td>\n",
       "    </tr>\n",
       "    <tr>\n",
       "      <td>12</td>\n",
       "      <td>Jodi Picoult</td>\n",
       "      <td>76</td>\n",
       "      <td>3.881579</td>\n",
       "    </tr>\n",
       "    <tr>\n",
       "      <td>13</td>\n",
       "      <td>Sophie Kinsella</td>\n",
       "      <td>57</td>\n",
       "      <td>3.877193</td>\n",
       "    </tr>\n",
       "    <tr>\n",
       "      <td>14</td>\n",
       "      <td>James Patterson</td>\n",
       "      <td>64</td>\n",
       "      <td>3.859375</td>\n",
       "    </tr>\n",
       "    <tr>\n",
       "      <td>15</td>\n",
       "      <td>J.D. Salinger</td>\n",
       "      <td>98</td>\n",
       "      <td>3.846939</td>\n",
       "    </tr>\n",
       "    <tr>\n",
       "      <td>16</td>\n",
       "      <td>Paulo Coelho/Alan R. Clarke/Özdemir İnce</td>\n",
       "      <td>57</td>\n",
       "      <td>3.789474</td>\n",
       "    </tr>\n",
       "    <tr>\n",
       "      <td>17</td>\n",
       "      <td>William Shakespeare/Paul Werstine/Barbara A. M...</td>\n",
       "      <td>66</td>\n",
       "      <td>3.787879</td>\n",
       "    </tr>\n",
       "    <tr>\n",
       "      <td>18</td>\n",
       "      <td>Dan Brown</td>\n",
       "      <td>143</td>\n",
       "      <td>3.741259</td>\n",
       "    </tr>\n",
       "    <tr>\n",
       "      <td>19</td>\n",
       "      <td>Lois Lowry</td>\n",
       "      <td>65</td>\n",
       "      <td>3.738462</td>\n",
       "    </tr>\n",
       "    <tr>\n",
       "      <td>20</td>\n",
       "      <td>George Orwell/Boris Grabnar/Peter Škerl</td>\n",
       "      <td>74</td>\n",
       "      <td>3.729730</td>\n",
       "    </tr>\n",
       "    <tr>\n",
       "      <td>21</td>\n",
       "      <td>Stephenie Meyer</td>\n",
       "      <td>160</td>\n",
       "      <td>3.662500</td>\n",
       "    </tr>\n",
       "    <tr>\n",
       "      <td>22</td>\n",
       "      <td>John Steinbeck</td>\n",
       "      <td>73</td>\n",
       "      <td>3.643836</td>\n",
       "    </tr>\n",
       "  </tbody>\n",
       "</table>\n",
       "</div>"
      ],
      "text/plain": [
       "                                               author  cnt_rating_book  \\\n",
       "0                          J.K. Rowling/Mary GrandPré              312   \n",
       "1                                     Agatha Christie               53   \n",
       "2                   Markus Zusak/Cao Xuân Việt Khương               53   \n",
       "3                                      J.R.R. Tolkien              166   \n",
       "4                            Roald Dahl/Quentin Blake               62   \n",
       "5                                   Louisa May Alcott               54   \n",
       "6                                        Rick Riordan               84   \n",
       "7                                       Arthur Golden               56   \n",
       "8                                        Stephen King              106   \n",
       "9                                        John Grisham               70   \n",
       "10                                    William Golding               71   \n",
       "11                                    Nicholas Sparks              111   \n",
       "12                                       Jodi Picoult               76   \n",
       "13                                    Sophie Kinsella               57   \n",
       "14                                    James Patterson               64   \n",
       "15                                      J.D. Salinger               98   \n",
       "16           Paulo Coelho/Alan R. Clarke/Özdemir İnce               57   \n",
       "17  William Shakespeare/Paul Werstine/Barbara A. M...               66   \n",
       "18                                          Dan Brown              143   \n",
       "19                                         Lois Lowry               65   \n",
       "20            George Orwell/Boris Grabnar/Peter Škerl               74   \n",
       "21                                    Stephenie Meyer              160   \n",
       "22                                     John Steinbeck               73   \n",
       "\n",
       "    median_rating  \n",
       "0        4.288462  \n",
       "1        4.283019  \n",
       "2        4.264151  \n",
       "3        4.240964  \n",
       "4        4.209677  \n",
       "5        4.203704  \n",
       "6        4.130952  \n",
       "7        4.107143  \n",
       "8        4.009434  \n",
       "9        3.971429  \n",
       "10       3.901408  \n",
       "11       3.882883  \n",
       "12       3.881579  \n",
       "13       3.877193  \n",
       "14       3.859375  \n",
       "15       3.846939  \n",
       "16       3.789474  \n",
       "17       3.787879  \n",
       "18       3.741259  \n",
       "19       3.738462  \n",
       "20       3.729730  \n",
       "21       3.662500  \n",
       "22       3.643836  "
      ]
     },
     "execution_count": 21,
     "metadata": {},
     "output_type": "execute_result"
    }
   ],
   "source": [
    "query_9 = ''' SELECT\n",
    "                authors.author AS author, \n",
    "                COUNT(DISTINCT ratings.rating_id) AS cnt_rating_book,\n",
    "                AVG (ratings.rating) AS median_rating  \n",
    "            FROM\n",
    "                authors\n",
    "                INNER JOIN books ON books.author_id  = authors.author_id\n",
    "                INNER JOIN ratings ON books.book_id  = ratings.book_id\n",
    "            GROUP BY\n",
    "                  authors.author \n",
    "            HAVING\n",
    "                COUNT(DISTINCT ratings.rating_id) > 50\n",
    "            ORDER BY \n",
    "                median_rating DESC\n",
    "            '''\n",
    "author_rating = pd.io.sql.read_sql(query_9, con = engine) \n",
    "\n",
    "author_rating"
   ]
  },
  {
   "cell_type": "markdown",
   "metadata": {},
   "source": [
    "**Автор с самым высоким рейтингом, оцененный более, чем 50 пользователями - Джоан Роулинг, совместно с иллюстратором ее книг - Мэри Гранпрэ.**"
   ]
  },
  {
   "cell_type": "markdown",
   "metadata": {},
   "source": [
    "### 2.5. Среднее количество обзоров от пользователей, которые поставили более 50 оценок"
   ]
  },
  {
   "cell_type": "code",
   "execution_count": 22,
   "metadata": {},
   "outputs": [
    {
     "data": {
      "text/html": [
       "<div>\n",
       "<style scoped>\n",
       "    .dataframe tbody tr th:only-of-type {\n",
       "        vertical-align: middle;\n",
       "    }\n",
       "\n",
       "    .dataframe tbody tr th {\n",
       "        vertical-align: top;\n",
       "    }\n",
       "\n",
       "    .dataframe thead th {\n",
       "        text-align: right;\n",
       "    }\n",
       "</style>\n",
       "<table border=\"1\" class=\"dataframe\">\n",
       "  <thead>\n",
       "    <tr style=\"text-align: right;\">\n",
       "      <th></th>\n",
       "      <th>avg_review</th>\n",
       "    </tr>\n",
       "  </thead>\n",
       "  <tbody>\n",
       "    <tr>\n",
       "      <td>0</td>\n",
       "      <td>24.333333</td>\n",
       "    </tr>\n",
       "  </tbody>\n",
       "</table>\n",
       "</div>"
      ],
      "text/plain": [
       "   avg_review\n",
       "0   24.333333"
      ]
     },
     "execution_count": 22,
     "metadata": {},
     "output_type": "execute_result"
    }
   ],
   "source": [
    "query_10 = ''' SELECT\n",
    "                AVG(cnt_review)  as avg_review\n",
    "            FROM \n",
    "            (SELECT\n",
    "                reviews.username AS username, \n",
    "                COUNT(DISTINCT ratings.rating_id) AS cnt_rating_book,\n",
    "                COUNT (DISTINCT reviews.review_id) AS cnt_review  \n",
    "            FROM\n",
    "                reviews\n",
    "                INNER JOIN ratings ON ratings.username  = reviews.username\n",
    "            GROUP BY\n",
    "                  reviews.username \n",
    "            HAVING\n",
    "                COUNT(DISTINCT ratings.rating_id) > 50\n",
    "            )\n",
    "            AS avg_review \n",
    "            '''\n",
    "median_review  = pd.io.sql.read_sql(query_10, con = engine) \n",
    "\n",
    "median_review"
   ]
  },
  {
   "cell_type": "markdown",
   "metadata": {},
   "source": [
    "## 3. Общий вывод"
   ]
  },
  {
   "cell_type": "markdown",
   "metadata": {},
   "source": [
    "В рамках исследования проводилось изучение базы данных сервиса для чтения книг, а именно 5 таблиц с информацией о книгах, авторах, издательствах, пользовательких оценках и обзорах. \n",
    "\n",
    "**Основные запросы данных осуществлялись посредством SQL.**\n",
    "\n",
    "В процессе проведения запросов установлено наличие одного дубля в данных о книгах - одинаковые названия, разные ID.\n",
    "\n",
    "**В задании исследования были поставлены конкретные задачи, по итогам SQL- запросов получены следующие результаты.**\n",
    "\n",
    "**1. В базе имеется 819 книг, выпущенных после 01.01.2000.** \n",
    "\n",
    "**2. В базе имеется 999 книг, которым сделаны обзоры и поставлены оценки. Число обзоров  варьируется от 2 до 1120 на одну книгу. Средняя оценка книги пользователями варьируется от 1,5 до 5. **\n",
    "\n",
    "**3. Наибольшее количество книг (толщиной более 50 страниц, не брошюр) выпустило издательство \"Penguin Books\".**\n",
    "\n",
    "**4. Наибольшее количество книг (толщиной более 50 страниц, не брошюр) выпустило издательство \"Penguin Books\". На втором месте издательство Vintage\t (31 книга), на третьем - Grand Central Publishing (25 книг), незначительно отстает издательство Penguin Classics (24 книги).**\n",
    "\n",
    "**5. Из числа авторов, книги которых получили более 50 оценок, наиболее высокий рейтинг у следующих авторов:**\n",
    "- Джоан Роулинг - рейтинг 4,289\n",
    "- Агата Кристи - рейтинг 4,283\n",
    "- Ма́ркус Зусак - рейтинг 4,264\n",
    "- Джон Рональд Руэл Толкин - рейтинг 4,241\n",
    "- Роальд Даль - рейтинг 4,21\n",
    "\n",
    "**6. Пользователи, поставившие более 50 оценок, в среднем написали около 24 отзывов.**\n",
    "\n",
    "***Рекомендации***\n",
    "- Провести дополнительное исследование по жанрам книг, имеющихся в базе данных.\n",
    "- Изучить аудиторию сервиса - регион, источник захода на сайт (устройство), предпочтения."
   ]
  }
 ],
 "metadata": {
  "ExecuteTimeLog": [
   {
    "duration": 903,
    "start_time": "2021-08-26T13:52:01.204Z"
   },
   {
    "duration": 46,
    "start_time": "2021-08-26T13:52:45.789Z"
   },
   {
    "duration": 114,
    "start_time": "2021-08-26T13:53:37.960Z"
   },
   {
    "duration": 801,
    "start_time": "2021-08-26T14:14:53.062Z"
   },
   {
    "duration": 43,
    "start_time": "2021-08-26T14:14:53.866Z"
   },
   {
    "duration": 92,
    "start_time": "2021-08-26T14:14:53.911Z"
   },
   {
    "duration": 140,
    "start_time": "2021-08-26T14:15:08.942Z"
   },
   {
    "duration": 4,
    "start_time": "2021-08-26T14:26:09.641Z"
   },
   {
    "duration": 17,
    "start_time": "2021-08-26T14:26:43.418Z"
   },
   {
    "duration": 5,
    "start_time": "2021-08-26T14:26:58.388Z"
   },
   {
    "duration": 136,
    "start_time": "2021-08-26T14:27:19.072Z"
   },
   {
    "duration": 291,
    "start_time": "2021-08-26T14:35:22.875Z"
   },
   {
    "duration": 267,
    "start_time": "2021-08-26T14:35:28.925Z"
   },
   {
    "duration": 136,
    "start_time": "2021-08-26T14:35:46.117Z"
   },
   {
    "duration": 155,
    "start_time": "2021-08-26T14:35:57.143Z"
   },
   {
    "duration": 139,
    "start_time": "2021-08-26T14:36:14.152Z"
   },
   {
    "duration": 749,
    "start_time": "2021-08-26T14:36:41.835Z"
   },
   {
    "duration": 621,
    "start_time": "2021-08-26T14:36:48.439Z"
   },
   {
    "duration": 640,
    "start_time": "2021-08-26T14:37:31.281Z"
   },
   {
    "duration": 4,
    "start_time": "2021-08-26T14:39:28.685Z"
   },
   {
    "duration": 5,
    "start_time": "2021-08-26T14:39:32.651Z"
   },
   {
    "duration": 131,
    "start_time": "2021-08-26T14:39:42.697Z"
   },
   {
    "duration": 966,
    "start_time": "2021-08-26T14:39:44.122Z"
   },
   {
    "duration": 4,
    "start_time": "2021-08-26T14:42:24.369Z"
   },
   {
    "duration": 5,
    "start_time": "2021-08-26T14:44:30.645Z"
   },
   {
    "duration": 21,
    "start_time": "2021-08-26T14:46:13.210Z"
   },
   {
    "duration": 20,
    "start_time": "2021-08-26T14:46:34.039Z"
   },
   {
    "duration": 810,
    "start_time": "2021-08-26T14:53:04.201Z"
   },
   {
    "duration": 4,
    "start_time": "2021-08-26T14:53:13.552Z"
   },
   {
    "duration": 18,
    "start_time": "2021-08-26T14:53:14.464Z"
   },
   {
    "duration": 16,
    "start_time": "2021-08-26T14:53:15.330Z"
   },
   {
    "duration": 15,
    "start_time": "2021-08-26T14:54:13.265Z"
   },
   {
    "duration": 16,
    "start_time": "2021-08-26T14:54:29.767Z"
   },
   {
    "duration": 18,
    "start_time": "2021-08-26T15:07:05.546Z"
   },
   {
    "duration": 8,
    "start_time": "2021-08-26T15:07:28.899Z"
   },
   {
    "duration": 844,
    "start_time": "2021-08-26T15:11:14.517Z"
   },
   {
    "duration": 43,
    "start_time": "2021-08-26T15:11:15.363Z"
   },
   {
    "duration": 96,
    "start_time": "2021-08-26T15:11:15.409Z"
   },
   {
    "duration": 4,
    "start_time": "2021-08-26T15:11:15.507Z"
   },
   {
    "duration": 31,
    "start_time": "2021-08-26T15:11:15.513Z"
   },
   {
    "duration": 16,
    "start_time": "2021-08-26T15:11:15.546Z"
   },
   {
    "duration": 13,
    "start_time": "2021-08-26T15:11:15.565Z"
   },
   {
    "duration": 42,
    "start_time": "2021-08-26T15:11:15.581Z"
   },
   {
    "duration": 14,
    "start_time": "2021-08-26T15:11:15.625Z"
   },
   {
    "duration": 889,
    "start_time": "2021-08-26T16:25:28.778Z"
   },
   {
    "duration": 68,
    "start_time": "2021-08-26T16:25:29.671Z"
   },
   {
    "duration": 104,
    "start_time": "2021-08-26T16:25:29.743Z"
   },
   {
    "duration": 5,
    "start_time": "2021-08-26T16:25:29.850Z"
   },
   {
    "duration": 15,
    "start_time": "2021-08-26T16:25:29.857Z"
   },
   {
    "duration": 36,
    "start_time": "2021-08-26T16:25:29.874Z"
   },
   {
    "duration": 19,
    "start_time": "2021-08-26T16:25:29.917Z"
   },
   {
    "duration": 16,
    "start_time": "2021-08-26T16:25:29.939Z"
   },
   {
    "duration": 13,
    "start_time": "2021-08-26T16:25:29.957Z"
   },
   {
    "duration": 14,
    "start_time": "2021-08-26T16:29:10.834Z"
   },
   {
    "duration": 12,
    "start_time": "2021-08-26T16:29:10.986Z"
   },
   {
    "duration": 17,
    "start_time": "2021-08-26T16:31:59.037Z"
   },
   {
    "duration": 15,
    "start_time": "2021-08-26T16:32:00.768Z"
   },
   {
    "duration": 16,
    "start_time": "2021-08-26T16:34:13.636Z"
   },
   {
    "duration": 16,
    "start_time": "2021-08-26T16:34:14.933Z"
   },
   {
    "duration": 16,
    "start_time": "2021-08-26T16:34:38.330Z"
   },
   {
    "duration": 18,
    "start_time": "2021-08-26T16:34:40.850Z"
   },
   {
    "duration": 16,
    "start_time": "2021-08-26T16:34:42.708Z"
   },
   {
    "duration": 13,
    "start_time": "2021-08-26T16:34:45.856Z"
   },
   {
    "duration": 16,
    "start_time": "2021-08-26T16:34:46.657Z"
   },
   {
    "duration": 18,
    "start_time": "2021-08-26T16:34:47.970Z"
   },
   {
    "duration": 17,
    "start_time": "2021-08-26T16:34:49.877Z"
   },
   {
    "duration": 16,
    "start_time": "2021-08-26T16:34:50.109Z"
   },
   {
    "duration": 13,
    "start_time": "2021-08-26T16:48:37.054Z"
   },
   {
    "duration": 15,
    "start_time": "2021-08-26T16:51:01.938Z"
   },
   {
    "duration": 16,
    "start_time": "2021-08-26T16:52:19.220Z"
   },
   {
    "duration": 571,
    "start_time": "2021-08-26T17:37:28.785Z"
   },
   {
    "duration": 41,
    "start_time": "2021-08-26T18:11:15.474Z"
   },
   {
    "duration": 46,
    "start_time": "2021-08-26T18:13:45.004Z"
   },
   {
    "duration": 38,
    "start_time": "2021-08-26T18:14:29.237Z"
   },
   {
    "duration": 51,
    "start_time": "2021-08-26T18:15:02.316Z"
   },
   {
    "duration": 44,
    "start_time": "2021-08-26T18:15:22.888Z"
   },
   {
    "duration": 39,
    "start_time": "2021-08-26T18:17:17.821Z"
   },
   {
    "duration": 42,
    "start_time": "2021-08-26T18:18:03.323Z"
   },
   {
    "duration": 41,
    "start_time": "2021-08-26T18:19:02.211Z"
   },
   {
    "duration": 46,
    "start_time": "2021-08-26T18:19:45.903Z"
   },
   {
    "duration": 410,
    "start_time": "2021-08-26T18:28:26.884Z"
   },
   {
    "duration": 491,
    "start_time": "2021-08-26T18:38:46.730Z"
   },
   {
    "duration": 55,
    "start_time": "2021-08-26T18:39:32.292Z"
   },
   {
    "duration": 448,
    "start_time": "2021-08-26T18:40:06.921Z"
   },
   {
    "duration": 487,
    "start_time": "2021-08-26T18:40:39.827Z"
   },
   {
    "duration": 406,
    "start_time": "2021-08-26T18:41:35.089Z"
   },
   {
    "duration": 418,
    "start_time": "2021-08-26T18:41:49.508Z"
   },
   {
    "duration": 20,
    "start_time": "2021-08-26T18:42:03.252Z"
   },
   {
    "duration": 392,
    "start_time": "2021-08-26T18:50:45.672Z"
   },
   {
    "duration": 431,
    "start_time": "2021-08-26T18:51:04.480Z"
   },
   {
    "duration": 463,
    "start_time": "2021-08-26T18:51:57.570Z"
   },
   {
    "duration": 396,
    "start_time": "2021-08-26T18:52:27.422Z"
   },
   {
    "duration": 431,
    "start_time": "2021-08-26T18:53:00.336Z"
   },
   {
    "duration": 622,
    "start_time": "2021-08-26T18:53:39.762Z"
   },
   {
    "duration": 977,
    "start_time": "2021-08-26T18:54:15.226Z"
   },
   {
    "duration": 28,
    "start_time": "2021-08-26T18:57:16.077Z"
   },
   {
    "duration": 47,
    "start_time": "2021-08-26T19:00:29.052Z"
   },
   {
    "duration": 45,
    "start_time": "2021-08-26T19:01:05.469Z"
   },
   {
    "duration": 38,
    "start_time": "2021-08-26T19:13:33.243Z"
   },
   {
    "duration": 46,
    "start_time": "2021-08-26T19:16:15.831Z"
   },
   {
    "duration": 37,
    "start_time": "2021-08-26T19:19:12.759Z"
   },
   {
    "duration": 40,
    "start_time": "2021-08-26T19:28:18.975Z"
   },
   {
    "duration": 36,
    "start_time": "2021-08-26T19:28:59.399Z"
   },
   {
    "duration": 48,
    "start_time": "2021-08-26T19:29:20.844Z"
   },
   {
    "duration": 50,
    "start_time": "2021-08-26T19:35:46.828Z"
   },
   {
    "duration": 399,
    "start_time": "2021-08-26T19:38:35.123Z"
   },
   {
    "duration": 389,
    "start_time": "2021-08-26T19:41:41.196Z"
   },
   {
    "duration": 486,
    "start_time": "2021-08-26T19:41:52.063Z"
   },
   {
    "duration": 402,
    "start_time": "2021-08-26T19:46:08.332Z"
   },
   {
    "duration": 47,
    "start_time": "2021-08-26T19:46:19.101Z"
   },
   {
    "duration": 811,
    "start_time": "2021-08-26T20:34:15.444Z"
   },
   {
    "duration": 37,
    "start_time": "2021-08-26T20:34:16.257Z"
   },
   {
    "duration": 107,
    "start_time": "2021-08-26T20:34:16.297Z"
   },
   {
    "duration": 4,
    "start_time": "2021-08-26T20:34:16.406Z"
   },
   {
    "duration": 6,
    "start_time": "2021-08-26T20:34:16.412Z"
   },
   {
    "duration": 36,
    "start_time": "2021-08-26T20:34:16.420Z"
   },
   {
    "duration": 14,
    "start_time": "2021-08-26T20:34:16.458Z"
   },
   {
    "duration": 15,
    "start_time": "2021-08-26T20:34:16.475Z"
   },
   {
    "duration": 31,
    "start_time": "2021-08-26T20:34:16.493Z"
   },
   {
    "duration": 14,
    "start_time": "2021-08-26T20:34:16.526Z"
   },
   {
    "duration": 12,
    "start_time": "2021-08-26T20:34:16.542Z"
   },
   {
    "duration": 14,
    "start_time": "2021-08-26T20:34:16.556Z"
   },
   {
    "duration": 51,
    "start_time": "2021-08-26T20:34:16.573Z"
   },
   {
    "duration": 16,
    "start_time": "2021-08-26T20:34:16.626Z"
   },
   {
    "duration": 13,
    "start_time": "2021-08-26T20:34:16.644Z"
   },
   {
    "duration": 13,
    "start_time": "2021-08-26T20:34:16.659Z"
   },
   {
    "duration": 88,
    "start_time": "2021-08-26T20:34:16.674Z"
   },
   {
    "duration": 20,
    "start_time": "2021-08-26T20:34:16.764Z"
   },
   {
    "duration": 25,
    "start_time": "2021-08-26T20:34:16.787Z"
   },
   {
    "duration": 48,
    "start_time": "2021-08-26T20:34:16.815Z"
   },
   {
    "duration": 491,
    "start_time": "2021-08-26T20:43:29.218Z"
   },
   {
    "duration": 844,
    "start_time": "2021-08-26T20:44:08.501Z"
   },
   {
    "duration": 43,
    "start_time": "2021-08-26T20:44:09.348Z"
   },
   {
    "duration": 111,
    "start_time": "2021-08-26T20:44:09.394Z"
   },
   {
    "duration": 4,
    "start_time": "2021-08-26T20:44:09.508Z"
   },
   {
    "duration": 7,
    "start_time": "2021-08-26T20:44:09.514Z"
   },
   {
    "duration": 32,
    "start_time": "2021-08-26T20:44:09.524Z"
   },
   {
    "duration": 21,
    "start_time": "2021-08-26T20:44:09.559Z"
   },
   {
    "duration": 36,
    "start_time": "2021-08-26T20:44:09.583Z"
   },
   {
    "duration": 14,
    "start_time": "2021-08-26T20:44:09.623Z"
   },
   {
    "duration": 15,
    "start_time": "2021-08-26T20:44:09.640Z"
   },
   {
    "duration": 12,
    "start_time": "2021-08-26T20:44:09.658Z"
   },
   {
    "duration": 16,
    "start_time": "2021-08-26T20:44:09.716Z"
   },
   {
    "duration": 16,
    "start_time": "2021-08-26T20:44:09.734Z"
   },
   {
    "duration": 16,
    "start_time": "2021-08-26T20:44:09.752Z"
   },
   {
    "duration": 49,
    "start_time": "2021-08-26T20:44:09.770Z"
   },
   {
    "duration": 14,
    "start_time": "2021-08-26T20:44:09.821Z"
   },
   {
    "duration": 877,
    "start_time": "2021-08-26T20:45:49.574Z"
   },
   {
    "duration": 62,
    "start_time": "2021-08-26T20:45:50.454Z"
   },
   {
    "duration": 86,
    "start_time": "2021-08-26T20:45:50.519Z"
   },
   {
    "duration": 5,
    "start_time": "2021-08-26T20:45:50.608Z"
   },
   {
    "duration": 8,
    "start_time": "2021-08-26T20:45:50.615Z"
   },
   {
    "duration": 30,
    "start_time": "2021-08-26T20:45:50.625Z"
   },
   {
    "duration": 16,
    "start_time": "2021-08-26T20:45:50.658Z"
   },
   {
    "duration": 40,
    "start_time": "2021-08-26T20:45:50.680Z"
   },
   {
    "duration": 12,
    "start_time": "2021-08-26T20:45:50.723Z"
   },
   {
    "duration": 15,
    "start_time": "2021-08-26T20:45:50.738Z"
   },
   {
    "duration": 14,
    "start_time": "2021-08-26T20:45:50.755Z"
   },
   {
    "duration": 56,
    "start_time": "2021-08-26T20:45:50.772Z"
   },
   {
    "duration": 16,
    "start_time": "2021-08-26T20:45:50.831Z"
   },
   {
    "duration": 17,
    "start_time": "2021-08-26T20:45:50.850Z"
   },
   {
    "duration": 61,
    "start_time": "2021-08-26T20:45:50.870Z"
   },
   {
    "duration": 15,
    "start_time": "2021-08-26T20:45:50.934Z"
   },
   {
    "duration": 636,
    "start_time": "2021-08-26T20:45:50.951Z"
   },
   {
    "duration": -444,
    "start_time": "2021-08-26T20:45:52.033Z"
   },
   {
    "duration": -446,
    "start_time": "2021-08-26T20:45:52.037Z"
   },
   {
    "duration": -447,
    "start_time": "2021-08-26T20:45:52.040Z"
   },
   {
    "duration": 50,
    "start_time": "2021-08-26T20:46:34.123Z"
   },
   {
    "duration": 44,
    "start_time": "2021-08-26T20:49:07.799Z"
   },
   {
    "duration": 47,
    "start_time": "2021-08-26T20:49:44.501Z"
   },
   {
    "duration": 46,
    "start_time": "2021-08-26T20:50:16.499Z"
   },
   {
    "duration": 46,
    "start_time": "2021-08-26T20:50:33.668Z"
   },
   {
    "duration": 45,
    "start_time": "2021-08-26T20:50:51.574Z"
   },
   {
    "duration": 132,
    "start_time": "2021-08-26T20:57:11.243Z"
   },
   {
    "duration": 19,
    "start_time": "2021-08-26T20:57:22.931Z"
   },
   {
    "duration": 19,
    "start_time": "2021-08-26T20:58:15.042Z"
   },
   {
    "duration": 20,
    "start_time": "2021-08-26T20:58:18.439Z"
   },
   {
    "duration": 14,
    "start_time": "2021-08-26T20:59:52.167Z"
   },
   {
    "duration": 15,
    "start_time": "2021-08-26T21:00:08.271Z"
   },
   {
    "duration": 985,
    "start_time": "2021-08-26T21:03:00.490Z"
   },
   {
    "duration": 47,
    "start_time": "2021-08-26T21:03:01.478Z"
   },
   {
    "duration": 109,
    "start_time": "2021-08-26T21:03:01.529Z"
   },
   {
    "duration": 6,
    "start_time": "2021-08-26T21:03:01.642Z"
   },
   {
    "duration": 30,
    "start_time": "2021-08-26T21:03:01.650Z"
   },
   {
    "duration": 48,
    "start_time": "2021-08-26T21:03:01.683Z"
   },
   {
    "duration": 20,
    "start_time": "2021-08-26T21:03:01.734Z"
   },
   {
    "duration": 28,
    "start_time": "2021-08-26T21:03:01.758Z"
   },
   {
    "duration": 29,
    "start_time": "2021-08-26T21:03:01.789Z"
   },
   {
    "duration": 21,
    "start_time": "2021-08-26T21:03:01.821Z"
   },
   {
    "duration": 14,
    "start_time": "2021-08-26T21:03:01.845Z"
   },
   {
    "duration": 29,
    "start_time": "2021-08-26T21:03:01.861Z"
   },
   {
    "duration": 20,
    "start_time": "2021-08-26T21:03:01.917Z"
   },
   {
    "duration": 18,
    "start_time": "2021-08-26T21:03:01.940Z"
   },
   {
    "duration": 27,
    "start_time": "2021-08-26T21:03:01.960Z"
   },
   {
    "duration": 19,
    "start_time": "2021-08-26T21:03:02.016Z"
   },
   {
    "duration": 51,
    "start_time": "2021-08-26T21:03:02.038Z"
   },
   {
    "duration": 13,
    "start_time": "2021-08-26T21:03:02.092Z"
   },
   {
    "duration": 20,
    "start_time": "2021-08-26T21:03:02.107Z"
   },
   {
    "duration": 24,
    "start_time": "2021-08-26T21:03:02.130Z"
   },
   {
    "duration": 32,
    "start_time": "2021-08-26T21:03:02.157Z"
   },
   {
    "duration": 50,
    "start_time": "2021-08-26T21:03:02.191Z"
   },
   {
    "duration": 642,
    "start_time": "2021-08-28T05:53:56.967Z"
   },
   {
    "duration": 27,
    "start_time": "2021-08-28T05:53:57.611Z"
   },
   {
    "duration": 596,
    "start_time": "2021-08-28T05:53:57.640Z"
   },
   {
    "duration": 4,
    "start_time": "2021-08-28T05:53:58.238Z"
   },
   {
    "duration": 9,
    "start_time": "2021-08-28T05:53:58.243Z"
   },
   {
    "duration": 85,
    "start_time": "2021-08-28T05:53:58.253Z"
   },
   {
    "duration": 11,
    "start_time": "2021-08-28T05:53:58.340Z"
   },
   {
    "duration": 73,
    "start_time": "2021-08-28T05:53:58.354Z"
   },
   {
    "duration": 10,
    "start_time": "2021-08-28T05:53:58.430Z"
   },
   {
    "duration": 73,
    "start_time": "2021-08-28T05:53:58.443Z"
   },
   {
    "duration": 8,
    "start_time": "2021-08-28T05:53:58.518Z"
   },
   {
    "duration": 76,
    "start_time": "2021-08-28T05:53:58.528Z"
   },
   {
    "duration": 10,
    "start_time": "2021-08-28T05:53:58.606Z"
   },
   {
    "duration": 74,
    "start_time": "2021-08-28T05:53:58.618Z"
   },
   {
    "duration": 10,
    "start_time": "2021-08-28T05:53:58.694Z"
   },
   {
    "duration": 73,
    "start_time": "2021-08-28T05:53:58.706Z"
   },
   {
    "duration": 101,
    "start_time": "2021-08-28T05:53:58.780Z"
   },
   {
    "duration": 74,
    "start_time": "2021-08-28T05:53:58.883Z"
   },
   {
    "duration": 72,
    "start_time": "2021-08-28T05:53:58.959Z"
   },
   {
    "duration": 78,
    "start_time": "2021-08-28T05:53:59.033Z"
   },
   {
    "duration": 83,
    "start_time": "2021-08-28T05:53:59.113Z"
   },
   {
    "duration": 111,
    "start_time": "2021-08-28T05:53:59.197Z"
   },
   {
    "duration": 127,
    "start_time": "2021-08-28T05:55:48.852Z"
   },
   {
    "duration": 11,
    "start_time": "2021-08-28T05:55:53.505Z"
   },
   {
    "duration": 12,
    "start_time": "2021-08-28T05:56:19.976Z"
   },
   {
    "duration": 760,
    "start_time": "2021-10-12T09:49:28.457Z"
   },
   {
    "duration": 40,
    "start_time": "2021-10-12T09:49:29.220Z"
   },
   {
    "duration": 576,
    "start_time": "2021-10-12T09:49:29.263Z"
   },
   {
    "duration": 4,
    "start_time": "2021-10-12T09:49:29.842Z"
   },
   {
    "duration": 11,
    "start_time": "2021-10-12T09:49:29.848Z"
   },
   {
    "duration": 89,
    "start_time": "2021-10-12T09:49:29.861Z"
   },
   {
    "duration": 14,
    "start_time": "2021-10-12T09:49:29.953Z"
   },
   {
    "duration": 71,
    "start_time": "2021-10-12T09:49:29.971Z"
   },
   {
    "duration": 13,
    "start_time": "2021-10-12T09:49:30.045Z"
   },
   {
    "duration": 72,
    "start_time": "2021-10-12T09:49:30.060Z"
   },
   {
    "duration": 13,
    "start_time": "2021-10-12T09:49:30.135Z"
   },
   {
    "duration": 78,
    "start_time": "2021-10-12T09:49:30.150Z"
   },
   {
    "duration": 15,
    "start_time": "2021-10-12T09:49:30.231Z"
   },
   {
    "duration": 85,
    "start_time": "2021-10-12T09:49:30.248Z"
   },
   {
    "duration": 15,
    "start_time": "2021-10-12T09:49:30.335Z"
   },
   {
    "duration": 74,
    "start_time": "2021-10-12T09:49:30.353Z"
   },
   {
    "duration": 106,
    "start_time": "2021-10-12T09:49:30.429Z"
   },
   {
    "duration": 70,
    "start_time": "2021-10-12T09:49:30.538Z"
   },
   {
    "duration": 71,
    "start_time": "2021-10-12T09:49:30.610Z"
   },
   {
    "duration": 77,
    "start_time": "2021-10-12T09:49:30.684Z"
   },
   {
    "duration": 82,
    "start_time": "2021-10-12T09:49:30.764Z"
   },
   {
    "duration": 102,
    "start_time": "2021-10-12T09:49:30.849Z"
   }
  ],
  "kernelspec": {
   "display_name": "Python 3",
   "language": "python",
   "name": "python3"
  },
  "language_info": {
   "codemirror_mode": {
    "name": "ipython",
    "version": 3
   },
   "file_extension": ".py",
   "mimetype": "text/x-python",
   "name": "python",
   "nbconvert_exporter": "python",
   "pygments_lexer": "ipython3",
   "version": "3.8.8"
  },
  "toc": {
   "base_numbering": "",
   "nav_menu": {},
   "number_sections": false,
   "sideBar": true,
   "skip_h1_title": true,
   "title_cell": "Содержание:",
   "title_sidebar": "Содержание:",
   "toc_cell": true,
   "toc_position": {
    "height": "calc(100% - 180px)",
    "left": "10px",
    "top": "150px",
    "width": "366.391px"
   },
   "toc_section_display": true,
   "toc_window_display": false
  }
 },
 "nbformat": 4,
 "nbformat_minor": 2
}
