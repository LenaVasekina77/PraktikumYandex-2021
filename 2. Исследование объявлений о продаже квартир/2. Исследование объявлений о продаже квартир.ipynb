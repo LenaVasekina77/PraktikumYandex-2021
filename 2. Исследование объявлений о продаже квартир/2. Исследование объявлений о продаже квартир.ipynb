{
 "cells": [
  {
   "cell_type": "markdown",
   "metadata": {
    "toc": true
   },
   "source": [
    "<h1>Содержание<span class=\"tocSkip\"></span></h1>\n",
    "<div class=\"toc\"><ul class=\"toc-item\"><li><span><a href=\"#Изучение-данных-из-файла\" data-toc-modified-id=\"Изучение-данных-из-файла-1\"><span class=\"toc-item-num\">1&nbsp;&nbsp;</span>Изучение данных из файла</a></span><ul class=\"toc-item\"><li><span><a href=\"#Вывод\" data-toc-modified-id=\"Вывод-1.1\"><span class=\"toc-item-num\">1.1&nbsp;&nbsp;</span>Вывод</a></span><ul class=\"toc-item\"><li><span><a href=\"#Выявлены-следующие-явные-проблемы-в-данных:\" data-toc-modified-id=\"Выявлены-следующие-явные-проблемы-в-данных:-1.1.1\"><span class=\"toc-item-num\">1.1.1&nbsp;&nbsp;</span>Выявлены следующие явные проблемы в данных:</a></span></li><li><span><a href=\"#Задачи-в-рамках-предобработки-данных,-которые-нужно-выполнить,-исходя-из-полученной-на-текущем-этапе-информации:\" data-toc-modified-id=\"Задачи-в-рамках-предобработки-данных,-которые-нужно-выполнить,-исходя-из-полученной-на-текущем-этапе-информации:-1.1.2\"><span class=\"toc-item-num\">1.1.2&nbsp;&nbsp;</span>Задачи в рамках предобработки данных, которые нужно выполнить, исходя из полученной на текущем этапе информации:</a></span></li></ul></li></ul></li><li><span><a href=\"#Предобработка-данных\" data-toc-modified-id=\"Предобработка-данных-2\"><span class=\"toc-item-num\">2&nbsp;&nbsp;</span>Предобработка данных</a></span><ul class=\"toc-item\"><li><span><a href=\"#Замена-порядка-столбцов\" data-toc-modified-id=\"Замена-порядка-столбцов-2.1\"><span class=\"toc-item-num\">2.1&nbsp;&nbsp;</span>Замена порядка столбцов</a></span></li><li><span><a href=\"#Замена-пропусков,-типа-данных,-регистра.\" data-toc-modified-id=\"Замена-пропусков,-типа-данных,-регистра.-2.2\"><span class=\"toc-item-num\">2.2&nbsp;&nbsp;</span>Замена пропусков, типа данных, регистра.</a></span></li><li><span><a href=\"#Выявление-дубликатов.\" data-toc-modified-id=\"Выявление-дубликатов.-2.3\"><span class=\"toc-item-num\">2.3&nbsp;&nbsp;</span>Выявление дубликатов.</a></span></li></ul></li><li><span><a href=\"#Рассчёты-и-добавление-результатов-в-таблицу\" data-toc-modified-id=\"Рассчёты-и-добавление-результатов-в-таблицу-3\"><span class=\"toc-item-num\">3&nbsp;&nbsp;</span>Рассчёты и добавление результатов в таблицу</a></span><ul class=\"toc-item\"><li><span><a href=\"#Цена-квадратного-метра\" data-toc-modified-id=\"Цена-квадратного-метра-3.1\"><span class=\"toc-item-num\">3.1&nbsp;&nbsp;</span>Цена квадратного метра</a></span></li><li><span><a href=\"#День-недели,-месяц,-год-публикации-объявления\" data-toc-modified-id=\"День-недели,-месяц,-год-публикации-объявления-3.2\"><span class=\"toc-item-num\">3.2&nbsp;&nbsp;</span>День недели, месяц, год публикации объявления</a></span></li><li><span><a href=\"#Катогоризация-этажей-расположения-квартир\" data-toc-modified-id=\"Катогоризация-этажей-расположения-квартир-3.3\"><span class=\"toc-item-num\">3.3&nbsp;&nbsp;</span>Катогоризация этажей расположения квартир</a></span></li><li><span><a href=\"#Соотношение-площадей-квартиры\" data-toc-modified-id=\"Соотношение-площадей-квартиры-3.4\"><span class=\"toc-item-num\">3.4&nbsp;&nbsp;</span>Соотношение площадей квартиры</a></span></li></ul></li><li><span><a href=\"#Исследовательский-анализ-данных\" data-toc-modified-id=\"Исследовательский-анализ-данных-4\"><span class=\"toc-item-num\">4&nbsp;&nbsp;</span>Исследовательский анализ данных</a></span><ul class=\"toc-item\"><li><span><a href=\"#Изучение-основных-данных:-площадь,-цена,-число-комнат,-высота-потолков\" data-toc-modified-id=\"Изучение-основных-данных:-площадь,-цена,-число-комнат,-высота-потолков-4.1\"><span class=\"toc-item-num\">4.1&nbsp;&nbsp;</span>Изучение основных данных: площадь, цена, число комнат, высота потолков</a></span><ul class=\"toc-item\"><li><span><a href=\"#Выводы:\" data-toc-modified-id=\"Выводы:-4.1.1\"><span class=\"toc-item-num\">4.1.1&nbsp;&nbsp;</span>Выводы:</a></span></li></ul></li><li><span><a href=\"#Изучение-времени-продажи-квартир\" data-toc-modified-id=\"Изучение-времени-продажи-квартир-4.2\"><span class=\"toc-item-num\">4.2&nbsp;&nbsp;</span>Изучение времени продажи квартир</a></span><ul class=\"toc-item\"><li><span><a href=\"#Вывод:\" data-toc-modified-id=\"Вывод:-4.2.1\"><span class=\"toc-item-num\">4.2.1&nbsp;&nbsp;</span>Вывод:</a></span></li></ul></li><li><span><a href=\"#Редкие-и-выбивающиеся-значения\" data-toc-modified-id=\"Редкие-и-выбивающиеся-значения-4.3\"><span class=\"toc-item-num\">4.3&nbsp;&nbsp;</span>Редкие и выбивающиеся значения</a></span></li><li><span><a href=\"#Факторы,-влияющие-на-стоимость-квартиры\" data-toc-modified-id=\"Факторы,-влияющие-на-стоимость-квартиры-4.4\"><span class=\"toc-item-num\">4.4&nbsp;&nbsp;</span>Факторы, влияющие на стоимость квартиры</a></span></li><li><span><a href=\"#Населенные-пункты-с-наибольшим-числом-предложений-о-продаже-квартир\" data-toc-modified-id=\"Населенные-пункты-с-наибольшим-числом-предложений-о-продаже-квартир-4.5\"><span class=\"toc-item-num\">4.5&nbsp;&nbsp;</span>Населенные пункты с наибольшим числом предложений о продаже квартир</a></span></li><li><span><a href=\"#Определение-границ-центральной-зоны-Санкт-Петербурга\" data-toc-modified-id=\"Определение-границ-центральной-зоны-Санкт-Петербурга-4.6\"><span class=\"toc-item-num\">4.6&nbsp;&nbsp;</span>Определение границ центральной зоны Санкт-Петербурга</a></span></li><li><span><a href=\"#Исследование-рынка-недвижимости-центральной-зоны-Санкт-Петербурга\" data-toc-modified-id=\"Исследование-рынка-недвижимости-центральной-зоны-Санкт-Петербурга-4.7\"><span class=\"toc-item-num\">4.7&nbsp;&nbsp;</span>Исследование рынка недвижимости центральной зоны Санкт-Петербурга</a></span></li></ul></li><li><span><a href=\"#Общий-вывод\" data-toc-modified-id=\"Общий-вывод-5\"><span class=\"toc-item-num\">5&nbsp;&nbsp;</span>Общий вывод</a></span></li></ul></div>"
   ]
  },
  {
   "cell_type": "markdown",
   "metadata": {},
   "source": [
    "# Исследование объявлений о продаже квартир\n",
    "\n",
    "Цель: определение рыночной стоимости объектов недвижимости.\n",
    "\n",
    "Задача: установить параметры, влияющие на рыночную стоимость объектов недвижимости.\n",
    "\n",
    "Объект исследования - архив объявлений о продаже квартир в Санкт-Петербурге и соседних населённых пунктах за несколько лет. \n",
    "\n",
    "Данные:\n",
    "1) вписаны пользователем\n",
    "2) получены автоматически на основе картографических данных\n",
    "\n",
    "Цель заказчика - построение автоматизированной системы для отслеживания аномалий и мошеннической деятельности на онлайн-рынке недвижимости. "
   ]
  },
  {
   "cell_type": "markdown",
   "metadata": {},
   "source": [
    "## Изучение данных из файла"
   ]
  },
  {
   "cell_type": "code",
   "execution_count": 1,
   "metadata": {},
   "outputs": [
    {
     "data": {
      "text/html": [
       "<div>\n",
       "<style scoped>\n",
       "    .dataframe tbody tr th:only-of-type {\n",
       "        vertical-align: middle;\n",
       "    }\n",
       "\n",
       "    .dataframe tbody tr th {\n",
       "        vertical-align: top;\n",
       "    }\n",
       "\n",
       "    .dataframe thead th {\n",
       "        text-align: right;\n",
       "    }\n",
       "</style>\n",
       "<table border=\"1\" class=\"dataframe\">\n",
       "  <thead>\n",
       "    <tr style=\"text-align: right;\">\n",
       "      <th></th>\n",
       "      <th>total_images</th>\n",
       "      <th>last_price</th>\n",
       "      <th>total_area</th>\n",
       "      <th>first_day_exposition</th>\n",
       "      <th>rooms</th>\n",
       "      <th>ceiling_height</th>\n",
       "      <th>floors_total</th>\n",
       "      <th>living_area</th>\n",
       "      <th>floor</th>\n",
       "      <th>is_apartment</th>\n",
       "      <th>studio</th>\n",
       "      <th>open_plan</th>\n",
       "      <th>kitchen_area</th>\n",
       "      <th>balcony</th>\n",
       "      <th>locality_name</th>\n",
       "      <th>airports_nearest</th>\n",
       "      <th>cityCenters_nearest</th>\n",
       "      <th>parks_around3000</th>\n",
       "      <th>parks_nearest</th>\n",
       "      <th>ponds_around3000</th>\n",
       "      <th>ponds_nearest</th>\n",
       "      <th>days_exposition</th>\n",
       "    </tr>\n",
       "  </thead>\n",
       "  <tbody>\n",
       "    <tr>\n",
       "      <td>0</td>\n",
       "      <td>20</td>\n",
       "      <td>13000000.0</td>\n",
       "      <td>108.00</td>\n",
       "      <td>2019-03-07T00:00:00</td>\n",
       "      <td>3</td>\n",
       "      <td>2.70</td>\n",
       "      <td>16.0</td>\n",
       "      <td>51.0</td>\n",
       "      <td>8</td>\n",
       "      <td>NaN</td>\n",
       "      <td>False</td>\n",
       "      <td>False</td>\n",
       "      <td>25.00</td>\n",
       "      <td>NaN</td>\n",
       "      <td>Санкт-Петербург</td>\n",
       "      <td>18863.0</td>\n",
       "      <td>16028.0</td>\n",
       "      <td>1.0</td>\n",
       "      <td>482.0</td>\n",
       "      <td>2.0</td>\n",
       "      <td>755.0</td>\n",
       "      <td>NaN</td>\n",
       "    </tr>\n",
       "    <tr>\n",
       "      <td>1</td>\n",
       "      <td>7</td>\n",
       "      <td>3350000.0</td>\n",
       "      <td>40.40</td>\n",
       "      <td>2018-12-04T00:00:00</td>\n",
       "      <td>1</td>\n",
       "      <td>NaN</td>\n",
       "      <td>11.0</td>\n",
       "      <td>18.6</td>\n",
       "      <td>1</td>\n",
       "      <td>NaN</td>\n",
       "      <td>False</td>\n",
       "      <td>False</td>\n",
       "      <td>11.00</td>\n",
       "      <td>2.0</td>\n",
       "      <td>посёлок Шушары</td>\n",
       "      <td>12817.0</td>\n",
       "      <td>18603.0</td>\n",
       "      <td>0.0</td>\n",
       "      <td>NaN</td>\n",
       "      <td>0.0</td>\n",
       "      <td>NaN</td>\n",
       "      <td>81.0</td>\n",
       "    </tr>\n",
       "    <tr>\n",
       "      <td>2</td>\n",
       "      <td>10</td>\n",
       "      <td>5196000.0</td>\n",
       "      <td>56.00</td>\n",
       "      <td>2015-08-20T00:00:00</td>\n",
       "      <td>2</td>\n",
       "      <td>NaN</td>\n",
       "      <td>5.0</td>\n",
       "      <td>34.3</td>\n",
       "      <td>4</td>\n",
       "      <td>NaN</td>\n",
       "      <td>False</td>\n",
       "      <td>False</td>\n",
       "      <td>8.30</td>\n",
       "      <td>0.0</td>\n",
       "      <td>Санкт-Петербург</td>\n",
       "      <td>21741.0</td>\n",
       "      <td>13933.0</td>\n",
       "      <td>1.0</td>\n",
       "      <td>90.0</td>\n",
       "      <td>2.0</td>\n",
       "      <td>574.0</td>\n",
       "      <td>558.0</td>\n",
       "    </tr>\n",
       "    <tr>\n",
       "      <td>3</td>\n",
       "      <td>0</td>\n",
       "      <td>64900000.0</td>\n",
       "      <td>159.00</td>\n",
       "      <td>2015-07-24T00:00:00</td>\n",
       "      <td>3</td>\n",
       "      <td>NaN</td>\n",
       "      <td>14.0</td>\n",
       "      <td>NaN</td>\n",
       "      <td>9</td>\n",
       "      <td>NaN</td>\n",
       "      <td>False</td>\n",
       "      <td>False</td>\n",
       "      <td>NaN</td>\n",
       "      <td>0.0</td>\n",
       "      <td>Санкт-Петербург</td>\n",
       "      <td>28098.0</td>\n",
       "      <td>6800.0</td>\n",
       "      <td>2.0</td>\n",
       "      <td>84.0</td>\n",
       "      <td>3.0</td>\n",
       "      <td>234.0</td>\n",
       "      <td>424.0</td>\n",
       "    </tr>\n",
       "    <tr>\n",
       "      <td>4</td>\n",
       "      <td>2</td>\n",
       "      <td>10000000.0</td>\n",
       "      <td>100.00</td>\n",
       "      <td>2018-06-19T00:00:00</td>\n",
       "      <td>2</td>\n",
       "      <td>3.03</td>\n",
       "      <td>14.0</td>\n",
       "      <td>32.0</td>\n",
       "      <td>13</td>\n",
       "      <td>NaN</td>\n",
       "      <td>False</td>\n",
       "      <td>False</td>\n",
       "      <td>41.00</td>\n",
       "      <td>NaN</td>\n",
       "      <td>Санкт-Петербург</td>\n",
       "      <td>31856.0</td>\n",
       "      <td>8098.0</td>\n",
       "      <td>2.0</td>\n",
       "      <td>112.0</td>\n",
       "      <td>1.0</td>\n",
       "      <td>48.0</td>\n",
       "      <td>121.0</td>\n",
       "    </tr>\n",
       "    <tr>\n",
       "      <td>...</td>\n",
       "      <td>...</td>\n",
       "      <td>...</td>\n",
       "      <td>...</td>\n",
       "      <td>...</td>\n",
       "      <td>...</td>\n",
       "      <td>...</td>\n",
       "      <td>...</td>\n",
       "      <td>...</td>\n",
       "      <td>...</td>\n",
       "      <td>...</td>\n",
       "      <td>...</td>\n",
       "      <td>...</td>\n",
       "      <td>...</td>\n",
       "      <td>...</td>\n",
       "      <td>...</td>\n",
       "      <td>...</td>\n",
       "      <td>...</td>\n",
       "      <td>...</td>\n",
       "      <td>...</td>\n",
       "      <td>...</td>\n",
       "      <td>...</td>\n",
       "      <td>...</td>\n",
       "    </tr>\n",
       "    <tr>\n",
       "      <td>23694</td>\n",
       "      <td>9</td>\n",
       "      <td>9700000.0</td>\n",
       "      <td>133.81</td>\n",
       "      <td>2017-03-21T00:00:00</td>\n",
       "      <td>3</td>\n",
       "      <td>3.70</td>\n",
       "      <td>5.0</td>\n",
       "      <td>73.3</td>\n",
       "      <td>3</td>\n",
       "      <td>NaN</td>\n",
       "      <td>False</td>\n",
       "      <td>False</td>\n",
       "      <td>13.83</td>\n",
       "      <td>NaN</td>\n",
       "      <td>Санкт-Петербург</td>\n",
       "      <td>24665.0</td>\n",
       "      <td>4232.0</td>\n",
       "      <td>1.0</td>\n",
       "      <td>796.0</td>\n",
       "      <td>3.0</td>\n",
       "      <td>381.0</td>\n",
       "      <td>NaN</td>\n",
       "    </tr>\n",
       "    <tr>\n",
       "      <td>23695</td>\n",
       "      <td>14</td>\n",
       "      <td>3100000.0</td>\n",
       "      <td>59.00</td>\n",
       "      <td>2018-01-15T00:00:00</td>\n",
       "      <td>3</td>\n",
       "      <td>NaN</td>\n",
       "      <td>5.0</td>\n",
       "      <td>38.0</td>\n",
       "      <td>4</td>\n",
       "      <td>NaN</td>\n",
       "      <td>False</td>\n",
       "      <td>False</td>\n",
       "      <td>8.50</td>\n",
       "      <td>NaN</td>\n",
       "      <td>Тосно</td>\n",
       "      <td>NaN</td>\n",
       "      <td>NaN</td>\n",
       "      <td>NaN</td>\n",
       "      <td>NaN</td>\n",
       "      <td>NaN</td>\n",
       "      <td>NaN</td>\n",
       "      <td>45.0</td>\n",
       "    </tr>\n",
       "    <tr>\n",
       "      <td>23696</td>\n",
       "      <td>18</td>\n",
       "      <td>2500000.0</td>\n",
       "      <td>56.70</td>\n",
       "      <td>2018-02-11T00:00:00</td>\n",
       "      <td>2</td>\n",
       "      <td>NaN</td>\n",
       "      <td>3.0</td>\n",
       "      <td>29.7</td>\n",
       "      <td>1</td>\n",
       "      <td>NaN</td>\n",
       "      <td>False</td>\n",
       "      <td>False</td>\n",
       "      <td>NaN</td>\n",
       "      <td>NaN</td>\n",
       "      <td>село Рождествено</td>\n",
       "      <td>NaN</td>\n",
       "      <td>NaN</td>\n",
       "      <td>NaN</td>\n",
       "      <td>NaN</td>\n",
       "      <td>NaN</td>\n",
       "      <td>NaN</td>\n",
       "      <td>NaN</td>\n",
       "    </tr>\n",
       "    <tr>\n",
       "      <td>23697</td>\n",
       "      <td>13</td>\n",
       "      <td>11475000.0</td>\n",
       "      <td>76.75</td>\n",
       "      <td>2017-03-28T00:00:00</td>\n",
       "      <td>2</td>\n",
       "      <td>3.00</td>\n",
       "      <td>17.0</td>\n",
       "      <td>NaN</td>\n",
       "      <td>12</td>\n",
       "      <td>NaN</td>\n",
       "      <td>False</td>\n",
       "      <td>False</td>\n",
       "      <td>23.30</td>\n",
       "      <td>2.0</td>\n",
       "      <td>Санкт-Петербург</td>\n",
       "      <td>39140.0</td>\n",
       "      <td>10364.0</td>\n",
       "      <td>2.0</td>\n",
       "      <td>173.0</td>\n",
       "      <td>3.0</td>\n",
       "      <td>196.0</td>\n",
       "      <td>602.0</td>\n",
       "    </tr>\n",
       "    <tr>\n",
       "      <td>23698</td>\n",
       "      <td>4</td>\n",
       "      <td>1350000.0</td>\n",
       "      <td>32.30</td>\n",
       "      <td>2017-07-21T00:00:00</td>\n",
       "      <td>1</td>\n",
       "      <td>2.50</td>\n",
       "      <td>5.0</td>\n",
       "      <td>12.3</td>\n",
       "      <td>1</td>\n",
       "      <td>NaN</td>\n",
       "      <td>False</td>\n",
       "      <td>False</td>\n",
       "      <td>9.00</td>\n",
       "      <td>NaN</td>\n",
       "      <td>поселок Новый Учхоз</td>\n",
       "      <td>NaN</td>\n",
       "      <td>NaN</td>\n",
       "      <td>NaN</td>\n",
       "      <td>NaN</td>\n",
       "      <td>NaN</td>\n",
       "      <td>NaN</td>\n",
       "      <td>NaN</td>\n",
       "    </tr>\n",
       "  </tbody>\n",
       "</table>\n",
       "<p>23699 rows × 22 columns</p>\n",
       "</div>"
      ],
      "text/plain": [
       "       total_images  last_price  total_area first_day_exposition  rooms  \\\n",
       "0                20  13000000.0      108.00  2019-03-07T00:00:00      3   \n",
       "1                 7   3350000.0       40.40  2018-12-04T00:00:00      1   \n",
       "2                10   5196000.0       56.00  2015-08-20T00:00:00      2   \n",
       "3                 0  64900000.0      159.00  2015-07-24T00:00:00      3   \n",
       "4                 2  10000000.0      100.00  2018-06-19T00:00:00      2   \n",
       "...             ...         ...         ...                  ...    ...   \n",
       "23694             9   9700000.0      133.81  2017-03-21T00:00:00      3   \n",
       "23695            14   3100000.0       59.00  2018-01-15T00:00:00      3   \n",
       "23696            18   2500000.0       56.70  2018-02-11T00:00:00      2   \n",
       "23697            13  11475000.0       76.75  2017-03-28T00:00:00      2   \n",
       "23698             4   1350000.0       32.30  2017-07-21T00:00:00      1   \n",
       "\n",
       "       ceiling_height  floors_total  living_area  floor is_apartment  studio  \\\n",
       "0                2.70          16.0         51.0      8          NaN   False   \n",
       "1                 NaN          11.0         18.6      1          NaN   False   \n",
       "2                 NaN           5.0         34.3      4          NaN   False   \n",
       "3                 NaN          14.0          NaN      9          NaN   False   \n",
       "4                3.03          14.0         32.0     13          NaN   False   \n",
       "...               ...           ...          ...    ...          ...     ...   \n",
       "23694            3.70           5.0         73.3      3          NaN   False   \n",
       "23695             NaN           5.0         38.0      4          NaN   False   \n",
       "23696             NaN           3.0         29.7      1          NaN   False   \n",
       "23697            3.00          17.0          NaN     12          NaN   False   \n",
       "23698            2.50           5.0         12.3      1          NaN   False   \n",
       "\n",
       "       open_plan  kitchen_area  balcony        locality_name  \\\n",
       "0          False         25.00      NaN      Санкт-Петербург   \n",
       "1          False         11.00      2.0       посёлок Шушары   \n",
       "2          False          8.30      0.0      Санкт-Петербург   \n",
       "3          False           NaN      0.0      Санкт-Петербург   \n",
       "4          False         41.00      NaN      Санкт-Петербург   \n",
       "...          ...           ...      ...                  ...   \n",
       "23694      False         13.83      NaN      Санкт-Петербург   \n",
       "23695      False          8.50      NaN                Тосно   \n",
       "23696      False           NaN      NaN     село Рождествено   \n",
       "23697      False         23.30      2.0      Санкт-Петербург   \n",
       "23698      False          9.00      NaN  поселок Новый Учхоз   \n",
       "\n",
       "       airports_nearest  cityCenters_nearest  parks_around3000  parks_nearest  \\\n",
       "0               18863.0              16028.0               1.0          482.0   \n",
       "1               12817.0              18603.0               0.0            NaN   \n",
       "2               21741.0              13933.0               1.0           90.0   \n",
       "3               28098.0               6800.0               2.0           84.0   \n",
       "4               31856.0               8098.0               2.0          112.0   \n",
       "...                 ...                  ...               ...            ...   \n",
       "23694           24665.0               4232.0               1.0          796.0   \n",
       "23695               NaN                  NaN               NaN            NaN   \n",
       "23696               NaN                  NaN               NaN            NaN   \n",
       "23697           39140.0              10364.0               2.0          173.0   \n",
       "23698               NaN                  NaN               NaN            NaN   \n",
       "\n",
       "       ponds_around3000  ponds_nearest  days_exposition  \n",
       "0                   2.0          755.0              NaN  \n",
       "1                   0.0            NaN             81.0  \n",
       "2                   2.0          574.0            558.0  \n",
       "3                   3.0          234.0            424.0  \n",
       "4                   1.0           48.0            121.0  \n",
       "...                 ...            ...              ...  \n",
       "23694               3.0          381.0              NaN  \n",
       "23695               NaN            NaN             45.0  \n",
       "23696               NaN            NaN              NaN  \n",
       "23697               3.0          196.0            602.0  \n",
       "23698               NaN            NaN              NaN  \n",
       "\n",
       "[23699 rows x 22 columns]"
      ]
     },
     "metadata": {},
     "output_type": "display_data"
    }
   ],
   "source": [
    "import pandas as pd\n",
    "import seaborn as sns\n",
    "import matplotlib.pyplot as plt\n",
    "import numpy as np\n",
    "from IPython.display import display\n",
    "df = pd.read_csv('/datasets/real_estate_data.csv', sep='\\t')\n",
    "pd.set_option('display.max_columns', 200)\n",
    "#Вызовем таблицу при помощи display, посмотрим первые и последние 5 строк\n",
    "(display(df))"
   ]
  },
  {
   "cell_type": "code",
   "execution_count": 2,
   "metadata": {},
   "outputs": [
    {
     "data": {
      "text/html": [
       "<div>\n",
       "<style scoped>\n",
       "    .dataframe tbody tr th:only-of-type {\n",
       "        vertical-align: middle;\n",
       "    }\n",
       "\n",
       "    .dataframe tbody tr th {\n",
       "        vertical-align: top;\n",
       "    }\n",
       "\n",
       "    .dataframe thead th {\n",
       "        text-align: right;\n",
       "    }\n",
       "</style>\n",
       "<table border=\"1\" class=\"dataframe\">\n",
       "  <thead>\n",
       "    <tr style=\"text-align: right;\">\n",
       "      <th></th>\n",
       "      <th>total_images</th>\n",
       "      <th>last_price</th>\n",
       "      <th>total_area</th>\n",
       "      <th>first_day_exposition</th>\n",
       "      <th>rooms</th>\n",
       "      <th>ceiling_height</th>\n",
       "      <th>floors_total</th>\n",
       "      <th>living_area</th>\n",
       "      <th>floor</th>\n",
       "      <th>is_apartment</th>\n",
       "      <th>studio</th>\n",
       "      <th>open_plan</th>\n",
       "      <th>kitchen_area</th>\n",
       "      <th>balcony</th>\n",
       "      <th>locality_name</th>\n",
       "      <th>airports_nearest</th>\n",
       "      <th>cityCenters_nearest</th>\n",
       "      <th>parks_around3000</th>\n",
       "      <th>parks_nearest</th>\n",
       "      <th>ponds_around3000</th>\n",
       "      <th>ponds_nearest</th>\n",
       "      <th>days_exposition</th>\n",
       "    </tr>\n",
       "  </thead>\n",
       "  <tbody>\n",
       "    <tr>\n",
       "      <td>16643</td>\n",
       "      <td>9</td>\n",
       "      <td>4990000.0</td>\n",
       "      <td>58.0</td>\n",
       "      <td>2016-03-11T00:00:00</td>\n",
       "      <td>3</td>\n",
       "      <td>NaN</td>\n",
       "      <td>9.0</td>\n",
       "      <td>39.0</td>\n",
       "      <td>6</td>\n",
       "      <td>NaN</td>\n",
       "      <td>False</td>\n",
       "      <td>False</td>\n",
       "      <td>6.3</td>\n",
       "      <td>0.0</td>\n",
       "      <td>Санкт-Петербург</td>\n",
       "      <td>28934.0</td>\n",
       "      <td>11795.0</td>\n",
       "      <td>1.0</td>\n",
       "      <td>842.0</td>\n",
       "      <td>1.0</td>\n",
       "      <td>259.0</td>\n",
       "      <td>455.0</td>\n",
       "    </tr>\n",
       "    <tr>\n",
       "      <td>13121</td>\n",
       "      <td>14</td>\n",
       "      <td>5000000.0</td>\n",
       "      <td>44.7</td>\n",
       "      <td>2017-11-27T00:00:00</td>\n",
       "      <td>2</td>\n",
       "      <td>NaN</td>\n",
       "      <td>5.0</td>\n",
       "      <td>30.3</td>\n",
       "      <td>4</td>\n",
       "      <td>NaN</td>\n",
       "      <td>False</td>\n",
       "      <td>False</td>\n",
       "      <td>7.2</td>\n",
       "      <td>NaN</td>\n",
       "      <td>Санкт-Петербург</td>\n",
       "      <td>16009.0</td>\n",
       "      <td>13046.0</td>\n",
       "      <td>1.0</td>\n",
       "      <td>436.0</td>\n",
       "      <td>0.0</td>\n",
       "      <td>NaN</td>\n",
       "      <td>NaN</td>\n",
       "    </tr>\n",
       "    <tr>\n",
       "      <td>9944</td>\n",
       "      <td>12</td>\n",
       "      <td>4950000.0</td>\n",
       "      <td>45.6</td>\n",
       "      <td>2019-01-14T00:00:00</td>\n",
       "      <td>2</td>\n",
       "      <td>2.6</td>\n",
       "      <td>10.0</td>\n",
       "      <td>28.1</td>\n",
       "      <td>5</td>\n",
       "      <td>NaN</td>\n",
       "      <td>False</td>\n",
       "      <td>False</td>\n",
       "      <td>7.1</td>\n",
       "      <td>1.0</td>\n",
       "      <td>Санкт-Петербург</td>\n",
       "      <td>33077.0</td>\n",
       "      <td>14176.0</td>\n",
       "      <td>0.0</td>\n",
       "      <td>NaN</td>\n",
       "      <td>0.0</td>\n",
       "      <td>NaN</td>\n",
       "      <td>NaN</td>\n",
       "    </tr>\n",
       "    <tr>\n",
       "      <td>9764</td>\n",
       "      <td>1</td>\n",
       "      <td>3700000.0</td>\n",
       "      <td>46.1</td>\n",
       "      <td>2017-08-16T00:00:00</td>\n",
       "      <td>2</td>\n",
       "      <td>2.6</td>\n",
       "      <td>9.0</td>\n",
       "      <td>30.3</td>\n",
       "      <td>1</td>\n",
       "      <td>NaN</td>\n",
       "      <td>False</td>\n",
       "      <td>False</td>\n",
       "      <td>7.1</td>\n",
       "      <td>NaN</td>\n",
       "      <td>Санкт-Петербург</td>\n",
       "      <td>29555.0</td>\n",
       "      <td>13297.0</td>\n",
       "      <td>0.0</td>\n",
       "      <td>NaN</td>\n",
       "      <td>0.0</td>\n",
       "      <td>NaN</td>\n",
       "      <td>257.0</td>\n",
       "    </tr>\n",
       "    <tr>\n",
       "      <td>20494</td>\n",
       "      <td>20</td>\n",
       "      <td>6900000.0</td>\n",
       "      <td>56.5</td>\n",
       "      <td>2018-02-01T00:00:00</td>\n",
       "      <td>2</td>\n",
       "      <td>2.5</td>\n",
       "      <td>14.0</td>\n",
       "      <td>35.7</td>\n",
       "      <td>9</td>\n",
       "      <td>NaN</td>\n",
       "      <td>False</td>\n",
       "      <td>False</td>\n",
       "      <td>7.6</td>\n",
       "      <td>NaN</td>\n",
       "      <td>Санкт-Петербург</td>\n",
       "      <td>7683.0</td>\n",
       "      <td>12925.0</td>\n",
       "      <td>1.0</td>\n",
       "      <td>336.0</td>\n",
       "      <td>0.0</td>\n",
       "      <td>NaN</td>\n",
       "      <td>376.0</td>\n",
       "    </tr>\n",
       "    <tr>\n",
       "      <td>2231</td>\n",
       "      <td>12</td>\n",
       "      <td>7190000.0</td>\n",
       "      <td>73.0</td>\n",
       "      <td>2019-02-13T00:00:00</td>\n",
       "      <td>3</td>\n",
       "      <td>NaN</td>\n",
       "      <td>4.0</td>\n",
       "      <td>47.9</td>\n",
       "      <td>3</td>\n",
       "      <td>NaN</td>\n",
       "      <td>False</td>\n",
       "      <td>False</td>\n",
       "      <td>9.5</td>\n",
       "      <td>NaN</td>\n",
       "      <td>Пушкин</td>\n",
       "      <td>19583.0</td>\n",
       "      <td>34437.0</td>\n",
       "      <td>0.0</td>\n",
       "      <td>NaN</td>\n",
       "      <td>0.0</td>\n",
       "      <td>NaN</td>\n",
       "      <td>NaN</td>\n",
       "    </tr>\n",
       "    <tr>\n",
       "      <td>20155</td>\n",
       "      <td>5</td>\n",
       "      <td>4900000.0</td>\n",
       "      <td>53.5</td>\n",
       "      <td>2018-10-04T00:00:00</td>\n",
       "      <td>3</td>\n",
       "      <td>2.5</td>\n",
       "      <td>9.0</td>\n",
       "      <td>35.0</td>\n",
       "      <td>1</td>\n",
       "      <td>NaN</td>\n",
       "      <td>False</td>\n",
       "      <td>False</td>\n",
       "      <td>6.7</td>\n",
       "      <td>2.0</td>\n",
       "      <td>Санкт-Петербург</td>\n",
       "      <td>26662.0</td>\n",
       "      <td>12711.0</td>\n",
       "      <td>0.0</td>\n",
       "      <td>NaN</td>\n",
       "      <td>0.0</td>\n",
       "      <td>NaN</td>\n",
       "      <td>35.0</td>\n",
       "    </tr>\n",
       "    <tr>\n",
       "      <td>1505</td>\n",
       "      <td>19</td>\n",
       "      <td>6100000.0</td>\n",
       "      <td>50.7</td>\n",
       "      <td>2018-03-04T00:00:00</td>\n",
       "      <td>2</td>\n",
       "      <td>2.7</td>\n",
       "      <td>16.0</td>\n",
       "      <td>28.9</td>\n",
       "      <td>13</td>\n",
       "      <td>NaN</td>\n",
       "      <td>False</td>\n",
       "      <td>False</td>\n",
       "      <td>8.0</td>\n",
       "      <td>NaN</td>\n",
       "      <td>Санкт-Петербург</td>\n",
       "      <td>31670.0</td>\n",
       "      <td>12179.0</td>\n",
       "      <td>0.0</td>\n",
       "      <td>NaN</td>\n",
       "      <td>0.0</td>\n",
       "      <td>NaN</td>\n",
       "      <td>155.0</td>\n",
       "    </tr>\n",
       "    <tr>\n",
       "      <td>13017</td>\n",
       "      <td>10</td>\n",
       "      <td>5900000.0</td>\n",
       "      <td>53.0</td>\n",
       "      <td>2017-12-17T00:00:00</td>\n",
       "      <td>2</td>\n",
       "      <td>3.0</td>\n",
       "      <td>5.0</td>\n",
       "      <td>33.0</td>\n",
       "      <td>4</td>\n",
       "      <td>NaN</td>\n",
       "      <td>False</td>\n",
       "      <td>False</td>\n",
       "      <td>9.0</td>\n",
       "      <td>NaN</td>\n",
       "      <td>Санкт-Петербург</td>\n",
       "      <td>14163.0</td>\n",
       "      <td>8304.0</td>\n",
       "      <td>0.0</td>\n",
       "      <td>NaN</td>\n",
       "      <td>0.0</td>\n",
       "      <td>NaN</td>\n",
       "      <td>233.0</td>\n",
       "    </tr>\n",
       "    <tr>\n",
       "      <td>11899</td>\n",
       "      <td>6</td>\n",
       "      <td>3750000.0</td>\n",
       "      <td>50.0</td>\n",
       "      <td>2017-10-13T00:00:00</td>\n",
       "      <td>2</td>\n",
       "      <td>2.6</td>\n",
       "      <td>10.0</td>\n",
       "      <td>30.0</td>\n",
       "      <td>1</td>\n",
       "      <td>NaN</td>\n",
       "      <td>False</td>\n",
       "      <td>False</td>\n",
       "      <td>11.0</td>\n",
       "      <td>NaN</td>\n",
       "      <td>поселок Бугры</td>\n",
       "      <td>NaN</td>\n",
       "      <td>NaN</td>\n",
       "      <td>NaN</td>\n",
       "      <td>NaN</td>\n",
       "      <td>NaN</td>\n",
       "      <td>NaN</td>\n",
       "      <td>102.0</td>\n",
       "    </tr>\n",
       "  </tbody>\n",
       "</table>\n",
       "</div>"
      ],
      "text/plain": [
       "       total_images  last_price  total_area first_day_exposition  rooms  \\\n",
       "16643             9   4990000.0        58.0  2016-03-11T00:00:00      3   \n",
       "13121            14   5000000.0        44.7  2017-11-27T00:00:00      2   \n",
       "9944             12   4950000.0        45.6  2019-01-14T00:00:00      2   \n",
       "9764              1   3700000.0        46.1  2017-08-16T00:00:00      2   \n",
       "20494            20   6900000.0        56.5  2018-02-01T00:00:00      2   \n",
       "2231             12   7190000.0        73.0  2019-02-13T00:00:00      3   \n",
       "20155             5   4900000.0        53.5  2018-10-04T00:00:00      3   \n",
       "1505             19   6100000.0        50.7  2018-03-04T00:00:00      2   \n",
       "13017            10   5900000.0        53.0  2017-12-17T00:00:00      2   \n",
       "11899             6   3750000.0        50.0  2017-10-13T00:00:00      2   \n",
       "\n",
       "       ceiling_height  floors_total  living_area  floor is_apartment  studio  \\\n",
       "16643             NaN           9.0         39.0      6          NaN   False   \n",
       "13121             NaN           5.0         30.3      4          NaN   False   \n",
       "9944              2.6          10.0         28.1      5          NaN   False   \n",
       "9764              2.6           9.0         30.3      1          NaN   False   \n",
       "20494             2.5          14.0         35.7      9          NaN   False   \n",
       "2231              NaN           4.0         47.9      3          NaN   False   \n",
       "20155             2.5           9.0         35.0      1          NaN   False   \n",
       "1505              2.7          16.0         28.9     13          NaN   False   \n",
       "13017             3.0           5.0         33.0      4          NaN   False   \n",
       "11899             2.6          10.0         30.0      1          NaN   False   \n",
       "\n",
       "       open_plan  kitchen_area  balcony    locality_name  airports_nearest  \\\n",
       "16643      False           6.3      0.0  Санкт-Петербург           28934.0   \n",
       "13121      False           7.2      NaN  Санкт-Петербург           16009.0   \n",
       "9944       False           7.1      1.0  Санкт-Петербург           33077.0   \n",
       "9764       False           7.1      NaN  Санкт-Петербург           29555.0   \n",
       "20494      False           7.6      NaN  Санкт-Петербург            7683.0   \n",
       "2231       False           9.5      NaN           Пушкин           19583.0   \n",
       "20155      False           6.7      2.0  Санкт-Петербург           26662.0   \n",
       "1505       False           8.0      NaN  Санкт-Петербург           31670.0   \n",
       "13017      False           9.0      NaN  Санкт-Петербург           14163.0   \n",
       "11899      False          11.0      NaN    поселок Бугры               NaN   \n",
       "\n",
       "       cityCenters_nearest  parks_around3000  parks_nearest  ponds_around3000  \\\n",
       "16643              11795.0               1.0          842.0               1.0   \n",
       "13121              13046.0               1.0          436.0               0.0   \n",
       "9944               14176.0               0.0            NaN               0.0   \n",
       "9764               13297.0               0.0            NaN               0.0   \n",
       "20494              12925.0               1.0          336.0               0.0   \n",
       "2231               34437.0               0.0            NaN               0.0   \n",
       "20155              12711.0               0.0            NaN               0.0   \n",
       "1505               12179.0               0.0            NaN               0.0   \n",
       "13017               8304.0               0.0            NaN               0.0   \n",
       "11899                  NaN               NaN            NaN               NaN   \n",
       "\n",
       "       ponds_nearest  days_exposition  \n",
       "16643          259.0            455.0  \n",
       "13121            NaN              NaN  \n",
       "9944             NaN              NaN  \n",
       "9764             NaN            257.0  \n",
       "20494            NaN            376.0  \n",
       "2231             NaN              NaN  \n",
       "20155            NaN             35.0  \n",
       "1505             NaN            155.0  \n",
       "13017            NaN            233.0  \n",
       "11899            NaN            102.0  "
      ]
     },
     "execution_count": 2,
     "metadata": {},
     "output_type": "execute_result"
    }
   ],
   "source": [
    "#Вызовем 10 строк таблицы случайным образом\n",
    "df.sample(10)"
   ]
  },
  {
   "cell_type": "code",
   "execution_count": 3,
   "metadata": {},
   "outputs": [
    {
     "name": "stdout",
     "output_type": "stream",
     "text": [
      "<class 'pandas.core.frame.DataFrame'>\n",
      "RangeIndex: 23699 entries, 0 to 23698\n",
      "Data columns (total 22 columns):\n",
      "total_images            23699 non-null int64\n",
      "last_price              23699 non-null float64\n",
      "total_area              23699 non-null float64\n",
      "first_day_exposition    23699 non-null object\n",
      "rooms                   23699 non-null int64\n",
      "ceiling_height          14504 non-null float64\n",
      "floors_total            23613 non-null float64\n",
      "living_area             21796 non-null float64\n",
      "floor                   23699 non-null int64\n",
      "is_apartment            2775 non-null object\n",
      "studio                  23699 non-null bool\n",
      "open_plan               23699 non-null bool\n",
      "kitchen_area            21421 non-null float64\n",
      "balcony                 12180 non-null float64\n",
      "locality_name           23650 non-null object\n",
      "airports_nearest        18157 non-null float64\n",
      "cityCenters_nearest     18180 non-null float64\n",
      "parks_around3000        18181 non-null float64\n",
      "parks_nearest           8079 non-null float64\n",
      "ponds_around3000        18181 non-null float64\n",
      "ponds_nearest           9110 non-null float64\n",
      "days_exposition         20518 non-null float64\n",
      "dtypes: bool(2), float64(14), int64(3), object(3)\n",
      "memory usage: 3.7+ MB\n"
     ]
    }
   ],
   "source": [
    "#Вызовем общую информацию о таблице \n",
    "df.info()"
   ]
  },
  {
   "cell_type": "code",
   "execution_count": 4,
   "metadata": {},
   "outputs": [
    {
     "data": {
      "text/html": [
       "<div>\n",
       "<style scoped>\n",
       "    .dataframe tbody tr th:only-of-type {\n",
       "        vertical-align: middle;\n",
       "    }\n",
       "\n",
       "    .dataframe tbody tr th {\n",
       "        vertical-align: top;\n",
       "    }\n",
       "\n",
       "    .dataframe thead th {\n",
       "        text-align: right;\n",
       "    }\n",
       "</style>\n",
       "<table border=\"1\" class=\"dataframe\">\n",
       "  <thead>\n",
       "    <tr style=\"text-align: right;\">\n",
       "      <th></th>\n",
       "      <th>total_images</th>\n",
       "      <th>last_price</th>\n",
       "      <th>total_area</th>\n",
       "      <th>rooms</th>\n",
       "      <th>ceiling_height</th>\n",
       "      <th>floors_total</th>\n",
       "      <th>living_area</th>\n",
       "      <th>floor</th>\n",
       "      <th>kitchen_area</th>\n",
       "      <th>balcony</th>\n",
       "      <th>airports_nearest</th>\n",
       "      <th>cityCenters_nearest</th>\n",
       "      <th>parks_around3000</th>\n",
       "      <th>parks_nearest</th>\n",
       "      <th>ponds_around3000</th>\n",
       "      <th>ponds_nearest</th>\n",
       "      <th>days_exposition</th>\n",
       "    </tr>\n",
       "  </thead>\n",
       "  <tbody>\n",
       "    <tr>\n",
       "      <td>count</td>\n",
       "      <td>23699.000000</td>\n",
       "      <td>2.369900e+04</td>\n",
       "      <td>23699.000000</td>\n",
       "      <td>23699.000000</td>\n",
       "      <td>14504.000000</td>\n",
       "      <td>23613.000000</td>\n",
       "      <td>21796.000000</td>\n",
       "      <td>23699.000000</td>\n",
       "      <td>21421.000000</td>\n",
       "      <td>12180.000000</td>\n",
       "      <td>18157.000000</td>\n",
       "      <td>18180.000000</td>\n",
       "      <td>18181.000000</td>\n",
       "      <td>8079.000000</td>\n",
       "      <td>18181.000000</td>\n",
       "      <td>9110.000000</td>\n",
       "      <td>20518.000000</td>\n",
       "    </tr>\n",
       "    <tr>\n",
       "      <td>mean</td>\n",
       "      <td>9.858475</td>\n",
       "      <td>6.541549e+06</td>\n",
       "      <td>60.348651</td>\n",
       "      <td>2.070636</td>\n",
       "      <td>2.771499</td>\n",
       "      <td>10.673824</td>\n",
       "      <td>34.457852</td>\n",
       "      <td>5.892358</td>\n",
       "      <td>10.569807</td>\n",
       "      <td>1.150082</td>\n",
       "      <td>28793.672193</td>\n",
       "      <td>14191.277833</td>\n",
       "      <td>0.611408</td>\n",
       "      <td>490.804555</td>\n",
       "      <td>0.770255</td>\n",
       "      <td>517.980900</td>\n",
       "      <td>180.888634</td>\n",
       "    </tr>\n",
       "    <tr>\n",
       "      <td>std</td>\n",
       "      <td>5.682529</td>\n",
       "      <td>1.088701e+07</td>\n",
       "      <td>35.654083</td>\n",
       "      <td>1.078405</td>\n",
       "      <td>1.261056</td>\n",
       "      <td>6.597173</td>\n",
       "      <td>22.030445</td>\n",
       "      <td>4.885249</td>\n",
       "      <td>5.905438</td>\n",
       "      <td>1.071300</td>\n",
       "      <td>12630.880622</td>\n",
       "      <td>8608.386210</td>\n",
       "      <td>0.802074</td>\n",
       "      <td>342.317995</td>\n",
       "      <td>0.938346</td>\n",
       "      <td>277.720643</td>\n",
       "      <td>219.727988</td>\n",
       "    </tr>\n",
       "    <tr>\n",
       "      <td>min</td>\n",
       "      <td>0.000000</td>\n",
       "      <td>1.219000e+04</td>\n",
       "      <td>12.000000</td>\n",
       "      <td>0.000000</td>\n",
       "      <td>1.000000</td>\n",
       "      <td>1.000000</td>\n",
       "      <td>2.000000</td>\n",
       "      <td>1.000000</td>\n",
       "      <td>1.300000</td>\n",
       "      <td>0.000000</td>\n",
       "      <td>0.000000</td>\n",
       "      <td>181.000000</td>\n",
       "      <td>0.000000</td>\n",
       "      <td>1.000000</td>\n",
       "      <td>0.000000</td>\n",
       "      <td>13.000000</td>\n",
       "      <td>1.000000</td>\n",
       "    </tr>\n",
       "    <tr>\n",
       "      <td>25%</td>\n",
       "      <td>6.000000</td>\n",
       "      <td>3.400000e+06</td>\n",
       "      <td>40.000000</td>\n",
       "      <td>1.000000</td>\n",
       "      <td>2.520000</td>\n",
       "      <td>5.000000</td>\n",
       "      <td>18.600000</td>\n",
       "      <td>2.000000</td>\n",
       "      <td>7.000000</td>\n",
       "      <td>0.000000</td>\n",
       "      <td>18585.000000</td>\n",
       "      <td>9238.000000</td>\n",
       "      <td>0.000000</td>\n",
       "      <td>288.000000</td>\n",
       "      <td>0.000000</td>\n",
       "      <td>294.000000</td>\n",
       "      <td>45.000000</td>\n",
       "    </tr>\n",
       "    <tr>\n",
       "      <td>50%</td>\n",
       "      <td>9.000000</td>\n",
       "      <td>4.650000e+06</td>\n",
       "      <td>52.000000</td>\n",
       "      <td>2.000000</td>\n",
       "      <td>2.650000</td>\n",
       "      <td>9.000000</td>\n",
       "      <td>30.000000</td>\n",
       "      <td>4.000000</td>\n",
       "      <td>9.100000</td>\n",
       "      <td>1.000000</td>\n",
       "      <td>26726.000000</td>\n",
       "      <td>13098.500000</td>\n",
       "      <td>0.000000</td>\n",
       "      <td>455.000000</td>\n",
       "      <td>1.000000</td>\n",
       "      <td>502.000000</td>\n",
       "      <td>95.000000</td>\n",
       "    </tr>\n",
       "    <tr>\n",
       "      <td>75%</td>\n",
       "      <td>14.000000</td>\n",
       "      <td>6.800000e+06</td>\n",
       "      <td>69.900000</td>\n",
       "      <td>3.000000</td>\n",
       "      <td>2.800000</td>\n",
       "      <td>16.000000</td>\n",
       "      <td>42.300000</td>\n",
       "      <td>8.000000</td>\n",
       "      <td>12.000000</td>\n",
       "      <td>2.000000</td>\n",
       "      <td>37273.000000</td>\n",
       "      <td>16293.000000</td>\n",
       "      <td>1.000000</td>\n",
       "      <td>612.000000</td>\n",
       "      <td>1.000000</td>\n",
       "      <td>729.000000</td>\n",
       "      <td>232.000000</td>\n",
       "    </tr>\n",
       "    <tr>\n",
       "      <td>max</td>\n",
       "      <td>50.000000</td>\n",
       "      <td>7.630000e+08</td>\n",
       "      <td>900.000000</td>\n",
       "      <td>19.000000</td>\n",
       "      <td>100.000000</td>\n",
       "      <td>60.000000</td>\n",
       "      <td>409.700000</td>\n",
       "      <td>33.000000</td>\n",
       "      <td>112.000000</td>\n",
       "      <td>5.000000</td>\n",
       "      <td>84869.000000</td>\n",
       "      <td>65968.000000</td>\n",
       "      <td>3.000000</td>\n",
       "      <td>3190.000000</td>\n",
       "      <td>3.000000</td>\n",
       "      <td>1344.000000</td>\n",
       "      <td>1580.000000</td>\n",
       "    </tr>\n",
       "  </tbody>\n",
       "</table>\n",
       "</div>"
      ],
      "text/plain": [
       "       total_images    last_price    total_area         rooms  ceiling_height  \\\n",
       "count  23699.000000  2.369900e+04  23699.000000  23699.000000    14504.000000   \n",
       "mean       9.858475  6.541549e+06     60.348651      2.070636        2.771499   \n",
       "std        5.682529  1.088701e+07     35.654083      1.078405        1.261056   \n",
       "min        0.000000  1.219000e+04     12.000000      0.000000        1.000000   \n",
       "25%        6.000000  3.400000e+06     40.000000      1.000000        2.520000   \n",
       "50%        9.000000  4.650000e+06     52.000000      2.000000        2.650000   \n",
       "75%       14.000000  6.800000e+06     69.900000      3.000000        2.800000   \n",
       "max       50.000000  7.630000e+08    900.000000     19.000000      100.000000   \n",
       "\n",
       "       floors_total   living_area         floor  kitchen_area       balcony  \\\n",
       "count  23613.000000  21796.000000  23699.000000  21421.000000  12180.000000   \n",
       "mean      10.673824     34.457852      5.892358     10.569807      1.150082   \n",
       "std        6.597173     22.030445      4.885249      5.905438      1.071300   \n",
       "min        1.000000      2.000000      1.000000      1.300000      0.000000   \n",
       "25%        5.000000     18.600000      2.000000      7.000000      0.000000   \n",
       "50%        9.000000     30.000000      4.000000      9.100000      1.000000   \n",
       "75%       16.000000     42.300000      8.000000     12.000000      2.000000   \n",
       "max       60.000000    409.700000     33.000000    112.000000      5.000000   \n",
       "\n",
       "       airports_nearest  cityCenters_nearest  parks_around3000  parks_nearest  \\\n",
       "count      18157.000000         18180.000000      18181.000000    8079.000000   \n",
       "mean       28793.672193         14191.277833          0.611408     490.804555   \n",
       "std        12630.880622          8608.386210          0.802074     342.317995   \n",
       "min            0.000000           181.000000          0.000000       1.000000   \n",
       "25%        18585.000000          9238.000000          0.000000     288.000000   \n",
       "50%        26726.000000         13098.500000          0.000000     455.000000   \n",
       "75%        37273.000000         16293.000000          1.000000     612.000000   \n",
       "max        84869.000000         65968.000000          3.000000    3190.000000   \n",
       "\n",
       "       ponds_around3000  ponds_nearest  days_exposition  \n",
       "count      18181.000000    9110.000000     20518.000000  \n",
       "mean           0.770255     517.980900       180.888634  \n",
       "std            0.938346     277.720643       219.727988  \n",
       "min            0.000000      13.000000         1.000000  \n",
       "25%            0.000000     294.000000        45.000000  \n",
       "50%            1.000000     502.000000        95.000000  \n",
       "75%            1.000000     729.000000       232.000000  \n",
       "max            3.000000    1344.000000      1580.000000  "
      ]
     },
     "execution_count": 4,
     "metadata": {},
     "output_type": "execute_result"
    }
   ],
   "source": [
    "#Применим describe()\n",
    "df.describe()"
   ]
  },
  {
   "cell_type": "markdown",
   "metadata": {},
   "source": [
    "Очевидно наличие некорректных и подозрительных данных - 12 и 900 м2 общая площадь, 2 и 409,7 м2 жилая площадь, 100 м высота потолков, 1,3 и 112 м2 кухня, 5 балконов, 19 комнат, 4 с лишним года продавалась недвижимость.Стандартное отклонение указывает на большой разброс значений в ряде столбцов."
   ]
  },
  {
   "cell_type": "code",
   "execution_count": 5,
   "metadata": {},
   "outputs": [
    {
     "data": {
      "text/plain": [
       "Index(['total_images', 'last_price', 'total_area', 'first_day_exposition',\n",
       "       'rooms', 'ceiling_height', 'floors_total', 'living_area', 'floor',\n",
       "       'is_apartment', 'studio', 'open_plan', 'kitchen_area', 'balcony',\n",
       "       'locality_name', 'airports_nearest', 'cityCenters_nearest',\n",
       "       'parks_around3000', 'parks_nearest', 'ponds_around3000',\n",
       "       'ponds_nearest', 'days_exposition'],\n",
       "      dtype='object')"
      ]
     },
     "execution_count": 5,
     "metadata": {},
     "output_type": "execute_result"
    }
   ],
   "source": [
    "#Проверим корректность наименования столбцов\n",
    "df.columns"
   ]
  },
  {
   "cell_type": "markdown",
   "metadata": {},
   "source": [
    "В таблице 23699 строк и 22 столбца. Типы данных у столбцов разные: int64, float64, object, bool. Наименования столбцов можно не менять."
   ]
  },
  {
   "cell_type": "markdown",
   "metadata": {},
   "source": [
    "Столбцы содержат следующую информацию:\n",
    "1. total_images — число фотографий квартиры в объявлении\n",
    "2. last_price — цена на момент снятия с публикации\n",
    "3. total_area — площадь квартиры в квадратных метрах (м²)\n",
    "4. first_day_exposition — дата публикации\n",
    "5. rooms — число комнат\n",
    "6. ceiling_height — высота потолков (м)\n",
    "7. floors_total — всего этажей в доме\n",
    "8. living_area — жилая площадь в квадратных метрах(м²)\n",
    "9. floor — этаж\n",
    "10. is_apartment — апартаменты (булев тип)\n",
    "11. studio — квартира-студия (булев тип)\n",
    "12. open_plan — свободная планировка (булев тип)\n",
    "13. kitchen_area — площадь кухни в квадратных метрах (м²)\n",
    "14. balcony — число балконов\n",
    "15. locality_name — название населённого пункта\n",
    "16. airports_nearest — расстояние до ближайшего аэропорта в метрах (м)\n",
    "17. cityCenters_nearest — расстояние до центра города (м)\n",
    "18. parks_around3000 — число парков в радиусе 3 км\n",
    "19. parks_nearest — расстояние до ближайшего парка (м)\n",
    "20. ponds_around3000 — число водоёмов в радиусе 3 км\n",
    "21. ponds_nearest — расстояние до ближайшего водоёма (м)\n",
    "22. days_exposition — сколько дней было размещено объявление (от публикации до снятия)"
   ]
  },
  {
   "cell_type": "markdown",
   "metadata": {},
   "source": [
    "### Вывод\n",
    "#### Выявлены следующие явные проблемы в данных:\n",
    "- в 14 столбцах имеется огромное в сумме число пропусков\n",
    "- одинаковое число пропусков в столбцах 'parks_around3000' и 'ponds_around3000'\n",
    "- некорректный тип данных в некоторых столбцах\n",
    "- в дате публикации объявлений формат данных учитывает время - 00.00\n",
    "- неудобный для восприятия и анализа порядок столбцов\n",
    "#### Задачи в рамках предобработки данных, которые нужно выполнить, исходя из полученной на текущем этапе информации:\n",
    "- обработать пропуски, заменить, где это возможно\n",
    "- заменить тип данных\n",
    "- заменить в столбце с датой публикации объявления формат на дату без времени\n",
    "- поменять порядок столбцов\n",
    "- проанализировать содержание данных в каждом столбце на предмет их корректности\n",
    "- проверить наличие дубликатов, удалить дубликаты"
   ]
  },
  {
   "cell_type": "markdown",
   "metadata": {},
   "source": [
    "## Предобработка данных"
   ]
  },
  {
   "cell_type": "markdown",
   "metadata": {},
   "source": [
    "### Замена порядка столбцов"
   ]
  },
  {
   "cell_type": "markdown",
   "metadata": {},
   "source": [
    "В целях обеспечения собственного удобства работы с данными, в первую очередь поменяем порядок столбцов"
   ]
  },
  {
   "cell_type": "code",
   "execution_count": 6,
   "metadata": {},
   "outputs": [],
   "source": [
    "df = df[[\n",
    " 'locality_name',  \n",
    " 'total_area',\n",
    " 'living_area',\n",
    " 'kitchen_area',\n",
    " 'ceiling_height',\n",
    " 'rooms',\n",
    " 'balcony',\n",
    " 'floor',\n",
    " 'floors_total',\n",
    " 'is_apartment',\n",
    " 'studio',\n",
    " 'open_plan',\n",
    " 'cityCenters_nearest',  \n",
    " 'parks_around3000',\n",
    " 'parks_nearest',\n",
    " 'ponds_around3000',\n",
    " 'ponds_nearest',\n",
    " 'airports_nearest',\n",
    " 'total_images',\n",
    " 'first_day_exposition',\n",
    " 'days_exposition', \n",
    " 'last_price',\n",
    "    \n",
    "]]"
   ]
  },
  {
   "cell_type": "code",
   "execution_count": 7,
   "metadata": {},
   "outputs": [
    {
     "data": {
      "text/html": [
       "<div>\n",
       "<style scoped>\n",
       "    .dataframe tbody tr th:only-of-type {\n",
       "        vertical-align: middle;\n",
       "    }\n",
       "\n",
       "    .dataframe tbody tr th {\n",
       "        vertical-align: top;\n",
       "    }\n",
       "\n",
       "    .dataframe thead th {\n",
       "        text-align: right;\n",
       "    }\n",
       "</style>\n",
       "<table border=\"1\" class=\"dataframe\">\n",
       "  <thead>\n",
       "    <tr style=\"text-align: right;\">\n",
       "      <th></th>\n",
       "      <th>locality_name</th>\n",
       "      <th>total_area</th>\n",
       "      <th>living_area</th>\n",
       "      <th>kitchen_area</th>\n",
       "      <th>ceiling_height</th>\n",
       "      <th>rooms</th>\n",
       "      <th>balcony</th>\n",
       "      <th>floor</th>\n",
       "      <th>floors_total</th>\n",
       "      <th>is_apartment</th>\n",
       "      <th>studio</th>\n",
       "      <th>open_plan</th>\n",
       "      <th>cityCenters_nearest</th>\n",
       "      <th>parks_around3000</th>\n",
       "      <th>parks_nearest</th>\n",
       "      <th>ponds_around3000</th>\n",
       "      <th>ponds_nearest</th>\n",
       "      <th>airports_nearest</th>\n",
       "      <th>total_images</th>\n",
       "      <th>first_day_exposition</th>\n",
       "      <th>days_exposition</th>\n",
       "      <th>last_price</th>\n",
       "    </tr>\n",
       "  </thead>\n",
       "  <tbody>\n",
       "    <tr>\n",
       "      <td>0</td>\n",
       "      <td>Санкт-Петербург</td>\n",
       "      <td>108.0</td>\n",
       "      <td>51.0</td>\n",
       "      <td>25.0</td>\n",
       "      <td>2.70</td>\n",
       "      <td>3</td>\n",
       "      <td>NaN</td>\n",
       "      <td>8</td>\n",
       "      <td>16.0</td>\n",
       "      <td>NaN</td>\n",
       "      <td>False</td>\n",
       "      <td>False</td>\n",
       "      <td>16028.0</td>\n",
       "      <td>1.0</td>\n",
       "      <td>482.0</td>\n",
       "      <td>2.0</td>\n",
       "      <td>755.0</td>\n",
       "      <td>18863.0</td>\n",
       "      <td>20</td>\n",
       "      <td>2019-03-07T00:00:00</td>\n",
       "      <td>NaN</td>\n",
       "      <td>13000000.0</td>\n",
       "    </tr>\n",
       "    <tr>\n",
       "      <td>1</td>\n",
       "      <td>посёлок Шушары</td>\n",
       "      <td>40.4</td>\n",
       "      <td>18.6</td>\n",
       "      <td>11.0</td>\n",
       "      <td>NaN</td>\n",
       "      <td>1</td>\n",
       "      <td>2.0</td>\n",
       "      <td>1</td>\n",
       "      <td>11.0</td>\n",
       "      <td>NaN</td>\n",
       "      <td>False</td>\n",
       "      <td>False</td>\n",
       "      <td>18603.0</td>\n",
       "      <td>0.0</td>\n",
       "      <td>NaN</td>\n",
       "      <td>0.0</td>\n",
       "      <td>NaN</td>\n",
       "      <td>12817.0</td>\n",
       "      <td>7</td>\n",
       "      <td>2018-12-04T00:00:00</td>\n",
       "      <td>81.0</td>\n",
       "      <td>3350000.0</td>\n",
       "    </tr>\n",
       "    <tr>\n",
       "      <td>2</td>\n",
       "      <td>Санкт-Петербург</td>\n",
       "      <td>56.0</td>\n",
       "      <td>34.3</td>\n",
       "      <td>8.3</td>\n",
       "      <td>NaN</td>\n",
       "      <td>2</td>\n",
       "      <td>0.0</td>\n",
       "      <td>4</td>\n",
       "      <td>5.0</td>\n",
       "      <td>NaN</td>\n",
       "      <td>False</td>\n",
       "      <td>False</td>\n",
       "      <td>13933.0</td>\n",
       "      <td>1.0</td>\n",
       "      <td>90.0</td>\n",
       "      <td>2.0</td>\n",
       "      <td>574.0</td>\n",
       "      <td>21741.0</td>\n",
       "      <td>10</td>\n",
       "      <td>2015-08-20T00:00:00</td>\n",
       "      <td>558.0</td>\n",
       "      <td>5196000.0</td>\n",
       "    </tr>\n",
       "    <tr>\n",
       "      <td>3</td>\n",
       "      <td>Санкт-Петербург</td>\n",
       "      <td>159.0</td>\n",
       "      <td>NaN</td>\n",
       "      <td>NaN</td>\n",
       "      <td>NaN</td>\n",
       "      <td>3</td>\n",
       "      <td>0.0</td>\n",
       "      <td>9</td>\n",
       "      <td>14.0</td>\n",
       "      <td>NaN</td>\n",
       "      <td>False</td>\n",
       "      <td>False</td>\n",
       "      <td>6800.0</td>\n",
       "      <td>2.0</td>\n",
       "      <td>84.0</td>\n",
       "      <td>3.0</td>\n",
       "      <td>234.0</td>\n",
       "      <td>28098.0</td>\n",
       "      <td>0</td>\n",
       "      <td>2015-07-24T00:00:00</td>\n",
       "      <td>424.0</td>\n",
       "      <td>64900000.0</td>\n",
       "    </tr>\n",
       "    <tr>\n",
       "      <td>4</td>\n",
       "      <td>Санкт-Петербург</td>\n",
       "      <td>100.0</td>\n",
       "      <td>32.0</td>\n",
       "      <td>41.0</td>\n",
       "      <td>3.03</td>\n",
       "      <td>2</td>\n",
       "      <td>NaN</td>\n",
       "      <td>13</td>\n",
       "      <td>14.0</td>\n",
       "      <td>NaN</td>\n",
       "      <td>False</td>\n",
       "      <td>False</td>\n",
       "      <td>8098.0</td>\n",
       "      <td>2.0</td>\n",
       "      <td>112.0</td>\n",
       "      <td>1.0</td>\n",
       "      <td>48.0</td>\n",
       "      <td>31856.0</td>\n",
       "      <td>2</td>\n",
       "      <td>2018-06-19T00:00:00</td>\n",
       "      <td>121.0</td>\n",
       "      <td>10000000.0</td>\n",
       "    </tr>\n",
       "  </tbody>\n",
       "</table>\n",
       "</div>"
      ],
      "text/plain": [
       "     locality_name  total_area  living_area  kitchen_area  ceiling_height  \\\n",
       "0  Санкт-Петербург       108.0         51.0          25.0            2.70   \n",
       "1   посёлок Шушары        40.4         18.6          11.0             NaN   \n",
       "2  Санкт-Петербург        56.0         34.3           8.3             NaN   \n",
       "3  Санкт-Петербург       159.0          NaN           NaN             NaN   \n",
       "4  Санкт-Петербург       100.0         32.0          41.0            3.03   \n",
       "\n",
       "   rooms  balcony  floor  floors_total is_apartment  studio  open_plan  \\\n",
       "0      3      NaN      8          16.0          NaN   False      False   \n",
       "1      1      2.0      1          11.0          NaN   False      False   \n",
       "2      2      0.0      4           5.0          NaN   False      False   \n",
       "3      3      0.0      9          14.0          NaN   False      False   \n",
       "4      2      NaN     13          14.0          NaN   False      False   \n",
       "\n",
       "   cityCenters_nearest  parks_around3000  parks_nearest  ponds_around3000  \\\n",
       "0              16028.0               1.0          482.0               2.0   \n",
       "1              18603.0               0.0            NaN               0.0   \n",
       "2              13933.0               1.0           90.0               2.0   \n",
       "3               6800.0               2.0           84.0               3.0   \n",
       "4               8098.0               2.0          112.0               1.0   \n",
       "\n",
       "   ponds_nearest  airports_nearest  total_images first_day_exposition  \\\n",
       "0          755.0           18863.0            20  2019-03-07T00:00:00   \n",
       "1            NaN           12817.0             7  2018-12-04T00:00:00   \n",
       "2          574.0           21741.0            10  2015-08-20T00:00:00   \n",
       "3          234.0           28098.0             0  2015-07-24T00:00:00   \n",
       "4           48.0           31856.0             2  2018-06-19T00:00:00   \n",
       "\n",
       "   days_exposition  last_price  \n",
       "0              NaN  13000000.0  \n",
       "1             81.0   3350000.0  \n",
       "2            558.0   5196000.0  \n",
       "3            424.0  64900000.0  \n",
       "4            121.0  10000000.0  "
      ]
     },
     "execution_count": 7,
     "metadata": {},
     "output_type": "execute_result"
    }
   ],
   "source": [
    "#Проверим результат перестановки столбцов\n",
    "df.head()"
   ]
  },
  {
   "cell_type": "markdown",
   "metadata": {},
   "source": [
    "### Замена пропусков, типа данных, регистра."
   ]
  },
  {
   "cell_type": "markdown",
   "metadata": {},
   "source": [
    "**Проверим столбцы на корректность данных.**"
   ]
  },
  {
   "cell_type": "code",
   "execution_count": 8,
   "metadata": {},
   "outputs": [
    {
     "data": {
      "text/plain": [
       "locality_name            364\n",
       "total_area              2182\n",
       "living_area             1782\n",
       "kitchen_area             971\n",
       "ceiling_height           183\n",
       "rooms                     17\n",
       "balcony                    6\n",
       "floor                     33\n",
       "floors_total              36\n",
       "is_apartment               2\n",
       "studio                     2\n",
       "open_plan                  2\n",
       "cityCenters_nearest     7642\n",
       "parks_around3000           4\n",
       "parks_nearest            995\n",
       "ponds_around3000           4\n",
       "ponds_nearest           1096\n",
       "airports_nearest        8275\n",
       "total_images              38\n",
       "first_day_exposition    1491\n",
       "days_exposition         1141\n",
       "last_price              2978\n",
       "dtype: int64"
      ]
     },
     "execution_count": 8,
     "metadata": {},
     "output_type": "execute_result"
    }
   ],
   "source": [
    "#Узнаем число уникальных значений\n",
    "df.nunique()"
   ]
  },
  {
   "cell_type": "code",
   "execution_count": 9,
   "metadata": {},
   "outputs": [
    {
     "data": {
      "text/plain": [
       "locality_name              49\n",
       "total_area                  0\n",
       "living_area              1903\n",
       "kitchen_area             2278\n",
       "ceiling_height           9195\n",
       "rooms                       0\n",
       "balcony                 11519\n",
       "floor                       0\n",
       "floors_total               86\n",
       "is_apartment            20924\n",
       "studio                      0\n",
       "open_plan                   0\n",
       "cityCenters_nearest      5519\n",
       "parks_around3000         5518\n",
       "parks_nearest           15620\n",
       "ponds_around3000         5518\n",
       "ponds_nearest           14589\n",
       "airports_nearest         5542\n",
       "total_images                0\n",
       "first_day_exposition        0\n",
       "days_exposition          3181\n",
       "last_price                  0\n",
       "dtype: int64"
      ]
     },
     "execution_count": 9,
     "metadata": {},
     "output_type": "execute_result"
    }
   ],
   "source": [
    "#Проверим наличие пропусков во всей таблице\n",
    "df.isna().sum()"
   ]
  },
  {
   "cell_type": "markdown",
   "metadata": {},
   "source": [
    "Столбцы  'total_area', 'rooms', 'floor', 'studio', 'open_plan', 'last_price', 'total_images', 'first_day_exposition' имеют корректный тип данных, не имеют пропусков, в предобработке не нуждаются. "
   ]
  },
  {
   "cell_type": "code",
   "execution_count": 10,
   "metadata": {},
   "outputs": [
    {
     "data": {
      "text/html": [
       "<div>\n",
       "<style scoped>\n",
       "    .dataframe tbody tr th:only-of-type {\n",
       "        vertical-align: middle;\n",
       "    }\n",
       "\n",
       "    .dataframe tbody tr th {\n",
       "        vertical-align: top;\n",
       "    }\n",
       "\n",
       "    .dataframe thead th {\n",
       "        text-align: right;\n",
       "    }\n",
       "</style>\n",
       "<table border=\"1\" class=\"dataframe\">\n",
       "  <thead>\n",
       "    <tr style=\"text-align: right;\">\n",
       "      <th></th>\n",
       "      <th>missing_values</th>\n",
       "      <th>% of total</th>\n",
       "    </tr>\n",
       "  </thead>\n",
       "  <tbody>\n",
       "    <tr>\n",
       "      <td>is_apartment</td>\n",
       "      <td>20924</td>\n",
       "      <td>88.29</td>\n",
       "    </tr>\n",
       "    <tr>\n",
       "      <td>parks_nearest</td>\n",
       "      <td>15620</td>\n",
       "      <td>65.91</td>\n",
       "    </tr>\n",
       "    <tr>\n",
       "      <td>ponds_nearest</td>\n",
       "      <td>14589</td>\n",
       "      <td>61.56</td>\n",
       "    </tr>\n",
       "    <tr>\n",
       "      <td>balcony</td>\n",
       "      <td>11519</td>\n",
       "      <td>48.61</td>\n",
       "    </tr>\n",
       "    <tr>\n",
       "      <td>ceiling_height</td>\n",
       "      <td>9195</td>\n",
       "      <td>38.80</td>\n",
       "    </tr>\n",
       "    <tr>\n",
       "      <td>airports_nearest</td>\n",
       "      <td>5542</td>\n",
       "      <td>23.38</td>\n",
       "    </tr>\n",
       "    <tr>\n",
       "      <td>cityCenters_nearest</td>\n",
       "      <td>5519</td>\n",
       "      <td>23.29</td>\n",
       "    </tr>\n",
       "    <tr>\n",
       "      <td>parks_around3000</td>\n",
       "      <td>5518</td>\n",
       "      <td>23.28</td>\n",
       "    </tr>\n",
       "    <tr>\n",
       "      <td>ponds_around3000</td>\n",
       "      <td>5518</td>\n",
       "      <td>23.28</td>\n",
       "    </tr>\n",
       "    <tr>\n",
       "      <td>days_exposition</td>\n",
       "      <td>3181</td>\n",
       "      <td>13.42</td>\n",
       "    </tr>\n",
       "    <tr>\n",
       "      <td>kitchen_area</td>\n",
       "      <td>2278</td>\n",
       "      <td>9.61</td>\n",
       "    </tr>\n",
       "    <tr>\n",
       "      <td>living_area</td>\n",
       "      <td>1903</td>\n",
       "      <td>8.03</td>\n",
       "    </tr>\n",
       "    <tr>\n",
       "      <td>floors_total</td>\n",
       "      <td>86</td>\n",
       "      <td>0.36</td>\n",
       "    </tr>\n",
       "    <tr>\n",
       "      <td>locality_name</td>\n",
       "      <td>49</td>\n",
       "      <td>0.21</td>\n",
       "    </tr>\n",
       "    <tr>\n",
       "      <td>first_day_exposition</td>\n",
       "      <td>0</td>\n",
       "      <td>0.00</td>\n",
       "    </tr>\n",
       "    <tr>\n",
       "      <td>total_images</td>\n",
       "      <td>0</td>\n",
       "      <td>0.00</td>\n",
       "    </tr>\n",
       "    <tr>\n",
       "      <td>open_plan</td>\n",
       "      <td>0</td>\n",
       "      <td>0.00</td>\n",
       "    </tr>\n",
       "    <tr>\n",
       "      <td>total_area</td>\n",
       "      <td>0</td>\n",
       "      <td>0.00</td>\n",
       "    </tr>\n",
       "    <tr>\n",
       "      <td>studio</td>\n",
       "      <td>0</td>\n",
       "      <td>0.00</td>\n",
       "    </tr>\n",
       "    <tr>\n",
       "      <td>floor</td>\n",
       "      <td>0</td>\n",
       "      <td>0.00</td>\n",
       "    </tr>\n",
       "    <tr>\n",
       "      <td>rooms</td>\n",
       "      <td>0</td>\n",
       "      <td>0.00</td>\n",
       "    </tr>\n",
       "    <tr>\n",
       "      <td>last_price</td>\n",
       "      <td>0</td>\n",
       "      <td>0.00</td>\n",
       "    </tr>\n",
       "  </tbody>\n",
       "</table>\n",
       "</div>"
      ],
      "text/plain": [
       "                      missing_values  % of total\n",
       "is_apartment                   20924       88.29\n",
       "parks_nearest                  15620       65.91\n",
       "ponds_nearest                  14589       61.56\n",
       "balcony                        11519       48.61\n",
       "ceiling_height                  9195       38.80\n",
       "airports_nearest                5542       23.38\n",
       "cityCenters_nearest             5519       23.29\n",
       "parks_around3000                5518       23.28\n",
       "ponds_around3000                5518       23.28\n",
       "days_exposition                 3181       13.42\n",
       "kitchen_area                    2278        9.61\n",
       "living_area                     1903        8.03\n",
       "floors_total                      86        0.36\n",
       "locality_name                     49        0.21\n",
       "first_day_exposition               0        0.00\n",
       "total_images                       0        0.00\n",
       "open_plan                          0        0.00\n",
       "total_area                         0        0.00\n",
       "studio                             0        0.00\n",
       "floor                              0        0.00\n",
       "rooms                              0        0.00\n",
       "last_price                         0        0.00"
      ]
     },
     "execution_count": 10,
     "metadata": {},
     "output_type": "execute_result"
    }
   ],
   "source": [
    "#Найдем процент пропусков\n",
    "report = df.isna().sum().to_frame()\n",
    "report = report.rename(columns = {0: 'missing_values'})\n",
    "report['% of total'] = (report['missing_values']*100 / df.shape[0]).round(2)\n",
    "report.sort_values(by = 'missing_values', ascending = False)"
   ]
  },
  {
   "cell_type": "markdown",
   "metadata": {},
   "source": [
    "*Максимальное число пропусков в столбце is_apartment - 88 %, здесь по условию должен быть булевый тип данных, которого по факту нет. Такое гигантское количество пропусков может быть связано с тем, что из-за сбоев и неправильного типа данных \"0\" воспринимается \"Nan\"  вместо False, также пропуски могут быть потому, что понятие \"апартаменты\" появилось в системе сбора данных относительно недавно. От 23 до 66 % пропусков содержится в столбцах, данные в которые вносились автоматически. Причины неполного заполнения пропусков в этих столбцах могут лежать в неправильной настройке (например, расстояние до центра, аэропорта, парко и т.д. считается только в пределах СПб, а в области идет сбой, либо в проблемах при выгрузке данных. В столбце days_exposition 13 % пропусков, предполагаю, что здесь данные также заполнялись автоматически, пропуски скорее всего из-за сбоев системы и некорректной выгрузки. В столбцах с количеством балконов 49% пропусков, возможно это по причине отсутствия балконов - пользователи не заполнили, система ставит пропуск. В столбце с высотой потолка 39 % пропусков, думаю, пользователи намеренно их пропустили - далеко не все обращают внимание на высоту потолка, или предполагают, что в стандартном доме она стандартная, покупатели и сами поймут. Пропуски по вине пользователей есть и в столбцах с площадью кухни (10 %) и жилой площадью (8%).*"
   ]
  },
  {
   "cell_type": "markdown",
   "metadata": {},
   "source": [
    "**Изучим данные в наименовании населенных пунктов locality_name.**"
   ]
  },
  {
   "cell_type": "code",
   "execution_count": 11,
   "metadata": {},
   "outputs": [
    {
     "data": {
      "text/plain": [
       "Санкт-Петербург                 15721\n",
       "посёлок Мурино                    522\n",
       "посёлок Шушары                    440\n",
       "Всеволожск                        398\n",
       "Пушкин                            369\n",
       "                                ...  \n",
       "городской посёлок Свирьстрой        1\n",
       "деревня Рапполово                   1\n",
       "деревня Мануйлово                   1\n",
       "поселок станции Лужайка             1\n",
       "деревня Щеглово                     1\n",
       "Name: locality_name, Length: 364, dtype: int64"
      ]
     },
     "execution_count": 11,
     "metadata": {},
     "output_type": "execute_result"
    }
   ],
   "source": [
    "#Вызовем к столбцам метод value_counts(), который возвращает уникальные значения и количество их упоминаний,\n",
    "#определим уникальные значения в столбце\n",
    "df['locality_name'].value_counts()"
   ]
  },
  {
   "cell_type": "markdown",
   "metadata": {},
   "source": [
    "364 уникальных значения, заметен разный регистр и разное написание слова \"поселок - посёлок\", 49 пропусков (проверяли ранее). \n",
    "Чтобы избежать проблем с дубликатами в дальнейшем, заменим регистр на нижний, букву \"ё\" на \"е\".\n",
    "Учитывая, что месторасположения объекта недвижимости играет огромную роль для покупателя, а также небольшое количество пропусков, удалим строки, в которых пропущено наименование населенного пункта (причина скорее всего в проблемах при выгрузке, или пользователь не указал наименование, предполагая, что априоре объект недвижимости находится в Санкт- Петербурге)."
   ]
  },
  {
   "cell_type": "code",
   "execution_count": 12,
   "metadata": {},
   "outputs": [],
   "source": [
    "# Приведем строки к нижнему регистру, проверим\n",
    "df['locality_name'] = df['locality_name'].str.lower()\n",
    "df['locality_name'] = df['locality_name'].str.replace('ё', 'е', regex=True)\n",
    "#df['locality_name'].value_counts()"
   ]
  },
  {
   "cell_type": "code",
   "execution_count": 13,
   "metadata": {},
   "outputs": [
    {
     "data": {
      "text/plain": [
       "0"
      ]
     },
     "execution_count": 13,
     "metadata": {},
     "output_type": "execute_result"
    }
   ],
   "source": [
    "# Удалим строки с пропущенными населенными пунктами\n",
    "df = df.dropna(subset = ['locality_name'])\n",
    "df['locality_name'].isna().sum()"
   ]
  },
  {
   "cell_type": "markdown",
   "metadata": {},
   "source": [
    "В столбце с наименованием населенного пункта удалили 49 строк с пропущенными значениями, при помощи приведения к единообразию написания (регистр, замена ё на е) избавились от 34 дублей в значениях столбца."
   ]
  },
  {
   "cell_type": "markdown",
   "metadata": {},
   "source": [
    "**Изучим данные в столбцах с жилой площадью living_area и площадью кухни kitchen_area.**\n",
    "\n",
    "Изначально в living_area 1782 уникальных значений, 1903 пропуска. В kitchen_area 971 уникальное значение и 2278 пропусков. Причиной возникновения пропусков может быть лень пользователей, которые вносили данные и не помнили наизусть размер кухни и жилой площади, или то, что квартира является студией, в которой площадь  кухни отдельно не выделяется (но жилая все таки там должна быть выделена)."
   ]
  },
  {
   "cell_type": "code",
   "execution_count": 14,
   "metadata": {},
   "outputs": [
    {
     "data": {
      "text/html": [
       "<div>\n",
       "<style scoped>\n",
       "    .dataframe tbody tr th:only-of-type {\n",
       "        vertical-align: middle;\n",
       "    }\n",
       "\n",
       "    .dataframe tbody tr th {\n",
       "        vertical-align: top;\n",
       "    }\n",
       "\n",
       "    .dataframe thead th {\n",
       "        text-align: right;\n",
       "    }\n",
       "</style>\n",
       "<table border=\"1\" class=\"dataframe\">\n",
       "  <thead>\n",
       "    <tr style=\"text-align: right;\">\n",
       "      <th></th>\n",
       "      <th>locality_name</th>\n",
       "      <th>total_area</th>\n",
       "      <th>living_area</th>\n",
       "      <th>kitchen_area</th>\n",
       "      <th>ceiling_height</th>\n",
       "      <th>rooms</th>\n",
       "      <th>balcony</th>\n",
       "      <th>floor</th>\n",
       "      <th>floors_total</th>\n",
       "      <th>is_apartment</th>\n",
       "      <th>studio</th>\n",
       "      <th>open_plan</th>\n",
       "      <th>cityCenters_nearest</th>\n",
       "      <th>parks_around3000</th>\n",
       "      <th>parks_nearest</th>\n",
       "      <th>ponds_around3000</th>\n",
       "      <th>ponds_nearest</th>\n",
       "      <th>airports_nearest</th>\n",
       "      <th>total_images</th>\n",
       "      <th>first_day_exposition</th>\n",
       "      <th>days_exposition</th>\n",
       "      <th>last_price</th>\n",
       "    </tr>\n",
       "  </thead>\n",
       "  <tbody>\n",
       "    <tr>\n",
       "      <td>608</td>\n",
       "      <td>поселок шушары</td>\n",
       "      <td>25.0</td>\n",
       "      <td>NaN</td>\n",
       "      <td>NaN</td>\n",
       "      <td>NaN</td>\n",
       "      <td>0</td>\n",
       "      <td>NaN</td>\n",
       "      <td>7</td>\n",
       "      <td>10.0</td>\n",
       "      <td>NaN</td>\n",
       "      <td>True</td>\n",
       "      <td>False</td>\n",
       "      <td>NaN</td>\n",
       "      <td>NaN</td>\n",
       "      <td>NaN</td>\n",
       "      <td>NaN</td>\n",
       "      <td>NaN</td>\n",
       "      <td>NaN</td>\n",
       "      <td>2</td>\n",
       "      <td>2019-02-20T00:00:00</td>\n",
       "      <td>29.0</td>\n",
       "      <td>1850000.0</td>\n",
       "    </tr>\n",
       "    <tr>\n",
       "      <td>2409</td>\n",
       "      <td>поселок петро-славянка</td>\n",
       "      <td>27.0</td>\n",
       "      <td>NaN</td>\n",
       "      <td>NaN</td>\n",
       "      <td>NaN</td>\n",
       "      <td>0</td>\n",
       "      <td>NaN</td>\n",
       "      <td>4</td>\n",
       "      <td>18.0</td>\n",
       "      <td>NaN</td>\n",
       "      <td>True</td>\n",
       "      <td>False</td>\n",
       "      <td>27165.0</td>\n",
       "      <td>0.0</td>\n",
       "      <td>NaN</td>\n",
       "      <td>2.0</td>\n",
       "      <td>663.0</td>\n",
       "      <td>20605.0</td>\n",
       "      <td>4</td>\n",
       "      <td>2018-03-23T00:00:00</td>\n",
       "      <td>75.0</td>\n",
       "      <td>1980000.0</td>\n",
       "    </tr>\n",
       "    <tr>\n",
       "      <td>3147</td>\n",
       "      <td>тосно</td>\n",
       "      <td>31.0</td>\n",
       "      <td>NaN</td>\n",
       "      <td>NaN</td>\n",
       "      <td>2.6</td>\n",
       "      <td>0</td>\n",
       "      <td>NaN</td>\n",
       "      <td>12</td>\n",
       "      <td>12.0</td>\n",
       "      <td>NaN</td>\n",
       "      <td>True</td>\n",
       "      <td>False</td>\n",
       "      <td>NaN</td>\n",
       "      <td>NaN</td>\n",
       "      <td>NaN</td>\n",
       "      <td>NaN</td>\n",
       "      <td>NaN</td>\n",
       "      <td>NaN</td>\n",
       "      <td>7</td>\n",
       "      <td>2017-12-30T00:00:00</td>\n",
       "      <td>198.0</td>\n",
       "      <td>2170000.0</td>\n",
       "    </tr>\n",
       "    <tr>\n",
       "      <td>3874</td>\n",
       "      <td>всеволожск</td>\n",
       "      <td>21.4</td>\n",
       "      <td>NaN</td>\n",
       "      <td>NaN</td>\n",
       "      <td>2.7</td>\n",
       "      <td>0</td>\n",
       "      <td>NaN</td>\n",
       "      <td>2</td>\n",
       "      <td>3.0</td>\n",
       "      <td>NaN</td>\n",
       "      <td>True</td>\n",
       "      <td>False</td>\n",
       "      <td>NaN</td>\n",
       "      <td>NaN</td>\n",
       "      <td>NaN</td>\n",
       "      <td>NaN</td>\n",
       "      <td>NaN</td>\n",
       "      <td>NaN</td>\n",
       "      <td>13</td>\n",
       "      <td>2015-02-11T00:00:00</td>\n",
       "      <td>NaN</td>\n",
       "      <td>1700000.0</td>\n",
       "    </tr>\n",
       "    <tr>\n",
       "      <td>4901</td>\n",
       "      <td>поселок бугры</td>\n",
       "      <td>24.0</td>\n",
       "      <td>NaN</td>\n",
       "      <td>NaN</td>\n",
       "      <td>NaN</td>\n",
       "      <td>0</td>\n",
       "      <td>NaN</td>\n",
       "      <td>6</td>\n",
       "      <td>NaN</td>\n",
       "      <td>NaN</td>\n",
       "      <td>True</td>\n",
       "      <td>False</td>\n",
       "      <td>NaN</td>\n",
       "      <td>NaN</td>\n",
       "      <td>NaN</td>\n",
       "      <td>NaN</td>\n",
       "      <td>NaN</td>\n",
       "      <td>NaN</td>\n",
       "      <td>5</td>\n",
       "      <td>2018-10-22T00:00:00</td>\n",
       "      <td>51.0</td>\n",
       "      <td>2200000.0</td>\n",
       "    </tr>\n",
       "    <tr>\n",
       "      <td>5187</td>\n",
       "      <td>поселок мурино</td>\n",
       "      <td>25.4</td>\n",
       "      <td>NaN</td>\n",
       "      <td>NaN</td>\n",
       "      <td>NaN</td>\n",
       "      <td>0</td>\n",
       "      <td>NaN</td>\n",
       "      <td>15</td>\n",
       "      <td>NaN</td>\n",
       "      <td>NaN</td>\n",
       "      <td>True</td>\n",
       "      <td>False</td>\n",
       "      <td>NaN</td>\n",
       "      <td>NaN</td>\n",
       "      <td>NaN</td>\n",
       "      <td>NaN</td>\n",
       "      <td>NaN</td>\n",
       "      <td>NaN</td>\n",
       "      <td>5</td>\n",
       "      <td>2018-11-02T00:00:00</td>\n",
       "      <td>3.0</td>\n",
       "      <td>3300000.0</td>\n",
       "    </tr>\n",
       "    <tr>\n",
       "      <td>5958</td>\n",
       "      <td>санкт-петербург</td>\n",
       "      <td>30.3</td>\n",
       "      <td>NaN</td>\n",
       "      <td>NaN</td>\n",
       "      <td>NaN</td>\n",
       "      <td>0</td>\n",
       "      <td>NaN</td>\n",
       "      <td>13</td>\n",
       "      <td>NaN</td>\n",
       "      <td>NaN</td>\n",
       "      <td>True</td>\n",
       "      <td>False</td>\n",
       "      <td>11618.0</td>\n",
       "      <td>1.0</td>\n",
       "      <td>835.0</td>\n",
       "      <td>1.0</td>\n",
       "      <td>652.0</td>\n",
       "      <td>22735.0</td>\n",
       "      <td>1</td>\n",
       "      <td>2018-09-07T00:00:00</td>\n",
       "      <td>68.0</td>\n",
       "      <td>3200000.0</td>\n",
       "    </tr>\n",
       "    <tr>\n",
       "      <td>8454</td>\n",
       "      <td>санкт-петербург</td>\n",
       "      <td>19.0</td>\n",
       "      <td>NaN</td>\n",
       "      <td>NaN</td>\n",
       "      <td>3.0</td>\n",
       "      <td>0</td>\n",
       "      <td>NaN</td>\n",
       "      <td>2</td>\n",
       "      <td>6.0</td>\n",
       "      <td>NaN</td>\n",
       "      <td>True</td>\n",
       "      <td>False</td>\n",
       "      <td>7316.0</td>\n",
       "      <td>1.0</td>\n",
       "      <td>238.0</td>\n",
       "      <td>3.0</td>\n",
       "      <td>374.0</td>\n",
       "      <td>12430.0</td>\n",
       "      <td>7</td>\n",
       "      <td>2019-03-12T00:00:00</td>\n",
       "      <td>44.0</td>\n",
       "      <td>2250000.0</td>\n",
       "    </tr>\n",
       "    <tr>\n",
       "      <td>18028</td>\n",
       "      <td>санкт-петербург</td>\n",
       "      <td>31.0</td>\n",
       "      <td>NaN</td>\n",
       "      <td>NaN</td>\n",
       "      <td>NaN</td>\n",
       "      <td>0</td>\n",
       "      <td>NaN</td>\n",
       "      <td>2</td>\n",
       "      <td>25.0</td>\n",
       "      <td>NaN</td>\n",
       "      <td>True</td>\n",
       "      <td>False</td>\n",
       "      <td>16788.0</td>\n",
       "      <td>0.0</td>\n",
       "      <td>NaN</td>\n",
       "      <td>1.0</td>\n",
       "      <td>170.0</td>\n",
       "      <td>21460.0</td>\n",
       "      <td>11</td>\n",
       "      <td>2019-04-17T00:00:00</td>\n",
       "      <td>NaN</td>\n",
       "      <td>3500000.0</td>\n",
       "    </tr>\n",
       "    <tr>\n",
       "      <td>23554</td>\n",
       "      <td>санкт-петербург</td>\n",
       "      <td>26.0</td>\n",
       "      <td>NaN</td>\n",
       "      <td>NaN</td>\n",
       "      <td>NaN</td>\n",
       "      <td>0</td>\n",
       "      <td>NaN</td>\n",
       "      <td>8</td>\n",
       "      <td>19.0</td>\n",
       "      <td>NaN</td>\n",
       "      <td>True</td>\n",
       "      <td>False</td>\n",
       "      <td>17092.0</td>\n",
       "      <td>0.0</td>\n",
       "      <td>NaN</td>\n",
       "      <td>2.0</td>\n",
       "      <td>112.0</td>\n",
       "      <td>18090.0</td>\n",
       "      <td>15</td>\n",
       "      <td>2018-09-07T00:00:00</td>\n",
       "      <td>31.0</td>\n",
       "      <td>3350000.0</td>\n",
       "    </tr>\n",
       "  </tbody>\n",
       "</table>\n",
       "</div>"
      ],
      "text/plain": [
       "                locality_name  total_area  living_area  kitchen_area  \\\n",
       "608            поселок шушары        25.0          NaN           NaN   \n",
       "2409   поселок петро-славянка        27.0          NaN           NaN   \n",
       "3147                    тосно        31.0          NaN           NaN   \n",
       "3874               всеволожск        21.4          NaN           NaN   \n",
       "4901            поселок бугры        24.0          NaN           NaN   \n",
       "5187           поселок мурино        25.4          NaN           NaN   \n",
       "5958          санкт-петербург        30.3          NaN           NaN   \n",
       "8454          санкт-петербург        19.0          NaN           NaN   \n",
       "18028         санкт-петербург        31.0          NaN           NaN   \n",
       "23554         санкт-петербург        26.0          NaN           NaN   \n",
       "\n",
       "       ceiling_height  rooms  balcony  floor  floors_total is_apartment  \\\n",
       "608               NaN      0      NaN      7          10.0          NaN   \n",
       "2409              NaN      0      NaN      4          18.0          NaN   \n",
       "3147              2.6      0      NaN     12          12.0          NaN   \n",
       "3874              2.7      0      NaN      2           3.0          NaN   \n",
       "4901              NaN      0      NaN      6           NaN          NaN   \n",
       "5187              NaN      0      NaN     15           NaN          NaN   \n",
       "5958              NaN      0      NaN     13           NaN          NaN   \n",
       "8454              3.0      0      NaN      2           6.0          NaN   \n",
       "18028             NaN      0      NaN      2          25.0          NaN   \n",
       "23554             NaN      0      NaN      8          19.0          NaN   \n",
       "\n",
       "       studio  open_plan  cityCenters_nearest  parks_around3000  \\\n",
       "608      True      False                  NaN               NaN   \n",
       "2409     True      False              27165.0               0.0   \n",
       "3147     True      False                  NaN               NaN   \n",
       "3874     True      False                  NaN               NaN   \n",
       "4901     True      False                  NaN               NaN   \n",
       "5187     True      False                  NaN               NaN   \n",
       "5958     True      False              11618.0               1.0   \n",
       "8454     True      False               7316.0               1.0   \n",
       "18028    True      False              16788.0               0.0   \n",
       "23554    True      False              17092.0               0.0   \n",
       "\n",
       "       parks_nearest  ponds_around3000  ponds_nearest  airports_nearest  \\\n",
       "608              NaN               NaN            NaN               NaN   \n",
       "2409             NaN               2.0          663.0           20605.0   \n",
       "3147             NaN               NaN            NaN               NaN   \n",
       "3874             NaN               NaN            NaN               NaN   \n",
       "4901             NaN               NaN            NaN               NaN   \n",
       "5187             NaN               NaN            NaN               NaN   \n",
       "5958           835.0               1.0          652.0           22735.0   \n",
       "8454           238.0               3.0          374.0           12430.0   \n",
       "18028            NaN               1.0          170.0           21460.0   \n",
       "23554            NaN               2.0          112.0           18090.0   \n",
       "\n",
       "       total_images first_day_exposition  days_exposition  last_price  \n",
       "608               2  2019-02-20T00:00:00             29.0   1850000.0  \n",
       "2409              4  2018-03-23T00:00:00             75.0   1980000.0  \n",
       "3147              7  2017-12-30T00:00:00            198.0   2170000.0  \n",
       "3874             13  2015-02-11T00:00:00              NaN   1700000.0  \n",
       "4901              5  2018-10-22T00:00:00             51.0   2200000.0  \n",
       "5187              5  2018-11-02T00:00:00              3.0   3300000.0  \n",
       "5958              1  2018-09-07T00:00:00             68.0   3200000.0  \n",
       "8454              7  2019-03-12T00:00:00             44.0   2250000.0  \n",
       "18028            11  2019-04-17T00:00:00              NaN   3500000.0  \n",
       "23554            15  2018-09-07T00:00:00             31.0   3350000.0  "
      ]
     },
     "execution_count": 14,
     "metadata": {},
     "output_type": "execute_result"
    }
   ],
   "source": [
    "#Сделаем срез данных по пропущенным значениям жилой площади в квартирах- студиях\n",
    "df.query('living_area == \"NaN\" and (studio == True)')"
   ]
  },
  {
   "cell_type": "code",
   "execution_count": 15,
   "metadata": {},
   "outputs": [
    {
     "data": {
      "text/html": [
       "<div>\n",
       "<style scoped>\n",
       "    .dataframe tbody tr th:only-of-type {\n",
       "        vertical-align: middle;\n",
       "    }\n",
       "\n",
       "    .dataframe tbody tr th {\n",
       "        vertical-align: top;\n",
       "    }\n",
       "\n",
       "    .dataframe thead th {\n",
       "        text-align: right;\n",
       "    }\n",
       "</style>\n",
       "<table border=\"1\" class=\"dataframe\">\n",
       "  <thead>\n",
       "    <tr style=\"text-align: right;\">\n",
       "      <th></th>\n",
       "      <th>locality_name</th>\n",
       "      <th>total_area</th>\n",
       "      <th>living_area</th>\n",
       "      <th>kitchen_area</th>\n",
       "      <th>ceiling_height</th>\n",
       "      <th>rooms</th>\n",
       "      <th>balcony</th>\n",
       "      <th>floor</th>\n",
       "      <th>floors_total</th>\n",
       "      <th>is_apartment</th>\n",
       "      <th>studio</th>\n",
       "      <th>open_plan</th>\n",
       "      <th>cityCenters_nearest</th>\n",
       "      <th>parks_around3000</th>\n",
       "      <th>parks_nearest</th>\n",
       "      <th>ponds_around3000</th>\n",
       "      <th>ponds_nearest</th>\n",
       "      <th>airports_nearest</th>\n",
       "      <th>total_images</th>\n",
       "      <th>first_day_exposition</th>\n",
       "      <th>days_exposition</th>\n",
       "      <th>last_price</th>\n",
       "    </tr>\n",
       "  </thead>\n",
       "  <tbody>\n",
       "    <tr>\n",
       "      <td>144</td>\n",
       "      <td>поселок мурино</td>\n",
       "      <td>27.00</td>\n",
       "      <td>15.50</td>\n",
       "      <td>NaN</td>\n",
       "      <td>NaN</td>\n",
       "      <td>0</td>\n",
       "      <td>2.0</td>\n",
       "      <td>2</td>\n",
       "      <td>24.0</td>\n",
       "      <td>NaN</td>\n",
       "      <td>True</td>\n",
       "      <td>False</td>\n",
       "      <td>NaN</td>\n",
       "      <td>NaN</td>\n",
       "      <td>NaN</td>\n",
       "      <td>NaN</td>\n",
       "      <td>NaN</td>\n",
       "      <td>NaN</td>\n",
       "      <td>1</td>\n",
       "      <td>2017-03-30T00:00:00</td>\n",
       "      <td>181.0</td>\n",
       "      <td>2450000.0</td>\n",
       "    </tr>\n",
       "    <tr>\n",
       "      <td>440</td>\n",
       "      <td>санкт-петербург</td>\n",
       "      <td>27.11</td>\n",
       "      <td>24.75</td>\n",
       "      <td>NaN</td>\n",
       "      <td>NaN</td>\n",
       "      <td>0</td>\n",
       "      <td>2.0</td>\n",
       "      <td>4</td>\n",
       "      <td>17.0</td>\n",
       "      <td>NaN</td>\n",
       "      <td>True</td>\n",
       "      <td>False</td>\n",
       "      <td>15015.0</td>\n",
       "      <td>0.0</td>\n",
       "      <td>NaN</td>\n",
       "      <td>2.0</td>\n",
       "      <td>982.0</td>\n",
       "      <td>38171.0</td>\n",
       "      <td>8</td>\n",
       "      <td>2018-03-12T00:00:00</td>\n",
       "      <td>64.0</td>\n",
       "      <td>2480000.0</td>\n",
       "    </tr>\n",
       "    <tr>\n",
       "      <td>608</td>\n",
       "      <td>поселок шушары</td>\n",
       "      <td>25.00</td>\n",
       "      <td>NaN</td>\n",
       "      <td>NaN</td>\n",
       "      <td>NaN</td>\n",
       "      <td>0</td>\n",
       "      <td>NaN</td>\n",
       "      <td>7</td>\n",
       "      <td>10.0</td>\n",
       "      <td>NaN</td>\n",
       "      <td>True</td>\n",
       "      <td>False</td>\n",
       "      <td>NaN</td>\n",
       "      <td>NaN</td>\n",
       "      <td>NaN</td>\n",
       "      <td>NaN</td>\n",
       "      <td>NaN</td>\n",
       "      <td>NaN</td>\n",
       "      <td>2</td>\n",
       "      <td>2019-02-20T00:00:00</td>\n",
       "      <td>29.0</td>\n",
       "      <td>1850000.0</td>\n",
       "    </tr>\n",
       "    <tr>\n",
       "      <td>697</td>\n",
       "      <td>деревня кудрово</td>\n",
       "      <td>24.10</td>\n",
       "      <td>17.50</td>\n",
       "      <td>NaN</td>\n",
       "      <td>2.75</td>\n",
       "      <td>0</td>\n",
       "      <td>NaN</td>\n",
       "      <td>21</td>\n",
       "      <td>25.0</td>\n",
       "      <td>NaN</td>\n",
       "      <td>True</td>\n",
       "      <td>False</td>\n",
       "      <td>NaN</td>\n",
       "      <td>NaN</td>\n",
       "      <td>NaN</td>\n",
       "      <td>NaN</td>\n",
       "      <td>NaN</td>\n",
       "      <td>NaN</td>\n",
       "      <td>12</td>\n",
       "      <td>2017-12-01T00:00:00</td>\n",
       "      <td>201.0</td>\n",
       "      <td>2500000.0</td>\n",
       "    </tr>\n",
       "    <tr>\n",
       "      <td>716</td>\n",
       "      <td>поселок шушары</td>\n",
       "      <td>17.00</td>\n",
       "      <td>12.00</td>\n",
       "      <td>NaN</td>\n",
       "      <td>2.70</td>\n",
       "      <td>0</td>\n",
       "      <td>0.0</td>\n",
       "      <td>1</td>\n",
       "      <td>9.0</td>\n",
       "      <td>NaN</td>\n",
       "      <td>True</td>\n",
       "      <td>False</td>\n",
       "      <td>29846.0</td>\n",
       "      <td>0.0</td>\n",
       "      <td>NaN</td>\n",
       "      <td>0.0</td>\n",
       "      <td>NaN</td>\n",
       "      <td>18654.0</td>\n",
       "      <td>5</td>\n",
       "      <td>2017-06-07T00:00:00</td>\n",
       "      <td>40.0</td>\n",
       "      <td>1500000.0</td>\n",
       "    </tr>\n",
       "    <tr>\n",
       "      <td>...</td>\n",
       "      <td>...</td>\n",
       "      <td>...</td>\n",
       "      <td>...</td>\n",
       "      <td>...</td>\n",
       "      <td>...</td>\n",
       "      <td>...</td>\n",
       "      <td>...</td>\n",
       "      <td>...</td>\n",
       "      <td>...</td>\n",
       "      <td>...</td>\n",
       "      <td>...</td>\n",
       "      <td>...</td>\n",
       "      <td>...</td>\n",
       "      <td>...</td>\n",
       "      <td>...</td>\n",
       "      <td>...</td>\n",
       "      <td>...</td>\n",
       "      <td>...</td>\n",
       "      <td>...</td>\n",
       "      <td>...</td>\n",
       "      <td>...</td>\n",
       "      <td>...</td>\n",
       "    </tr>\n",
       "    <tr>\n",
       "      <td>22867</td>\n",
       "      <td>санкт-петербург</td>\n",
       "      <td>30.00</td>\n",
       "      <td>18.20</td>\n",
       "      <td>NaN</td>\n",
       "      <td>NaN</td>\n",
       "      <td>0</td>\n",
       "      <td>NaN</td>\n",
       "      <td>5</td>\n",
       "      <td>25.0</td>\n",
       "      <td>NaN</td>\n",
       "      <td>True</td>\n",
       "      <td>False</td>\n",
       "      <td>16414.0</td>\n",
       "      <td>0.0</td>\n",
       "      <td>NaN</td>\n",
       "      <td>1.0</td>\n",
       "      <td>400.0</td>\n",
       "      <td>35250.0</td>\n",
       "      <td>8</td>\n",
       "      <td>2017-12-17T00:00:00</td>\n",
       "      <td>211.0</td>\n",
       "      <td>3090000.0</td>\n",
       "    </tr>\n",
       "    <tr>\n",
       "      <td>22877</td>\n",
       "      <td>санкт-петербург</td>\n",
       "      <td>28.00</td>\n",
       "      <td>18.00</td>\n",
       "      <td>NaN</td>\n",
       "      <td>2.70</td>\n",
       "      <td>0</td>\n",
       "      <td>NaN</td>\n",
       "      <td>10</td>\n",
       "      <td>19.0</td>\n",
       "      <td>NaN</td>\n",
       "      <td>True</td>\n",
       "      <td>False</td>\n",
       "      <td>7206.0</td>\n",
       "      <td>0.0</td>\n",
       "      <td>NaN</td>\n",
       "      <td>1.0</td>\n",
       "      <td>415.0</td>\n",
       "      <td>18982.0</td>\n",
       "      <td>2</td>\n",
       "      <td>2017-10-26T00:00:00</td>\n",
       "      <td>151.0</td>\n",
       "      <td>4280000.0</td>\n",
       "    </tr>\n",
       "    <tr>\n",
       "      <td>23210</td>\n",
       "      <td>санкт-петербург</td>\n",
       "      <td>26.00</td>\n",
       "      <td>18.00</td>\n",
       "      <td>NaN</td>\n",
       "      <td>NaN</td>\n",
       "      <td>0</td>\n",
       "      <td>0.0</td>\n",
       "      <td>16</td>\n",
       "      <td>25.0</td>\n",
       "      <td>NaN</td>\n",
       "      <td>True</td>\n",
       "      <td>False</td>\n",
       "      <td>13222.0</td>\n",
       "      <td>0.0</td>\n",
       "      <td>NaN</td>\n",
       "      <td>1.0</td>\n",
       "      <td>623.0</td>\n",
       "      <td>11405.0</td>\n",
       "      <td>7</td>\n",
       "      <td>2017-09-01T00:00:00</td>\n",
       "      <td>14.0</td>\n",
       "      <td>3200000.0</td>\n",
       "    </tr>\n",
       "    <tr>\n",
       "      <td>23554</td>\n",
       "      <td>санкт-петербург</td>\n",
       "      <td>26.00</td>\n",
       "      <td>NaN</td>\n",
       "      <td>NaN</td>\n",
       "      <td>NaN</td>\n",
       "      <td>0</td>\n",
       "      <td>NaN</td>\n",
       "      <td>8</td>\n",
       "      <td>19.0</td>\n",
       "      <td>NaN</td>\n",
       "      <td>True</td>\n",
       "      <td>False</td>\n",
       "      <td>17092.0</td>\n",
       "      <td>0.0</td>\n",
       "      <td>NaN</td>\n",
       "      <td>2.0</td>\n",
       "      <td>112.0</td>\n",
       "      <td>18090.0</td>\n",
       "      <td>15</td>\n",
       "      <td>2018-09-07T00:00:00</td>\n",
       "      <td>31.0</td>\n",
       "      <td>3350000.0</td>\n",
       "    </tr>\n",
       "    <tr>\n",
       "      <td>23637</td>\n",
       "      <td>поселок бугры</td>\n",
       "      <td>26.00</td>\n",
       "      <td>17.00</td>\n",
       "      <td>NaN</td>\n",
       "      <td>NaN</td>\n",
       "      <td>0</td>\n",
       "      <td>2.0</td>\n",
       "      <td>4</td>\n",
       "      <td>25.0</td>\n",
       "      <td>NaN</td>\n",
       "      <td>True</td>\n",
       "      <td>False</td>\n",
       "      <td>NaN</td>\n",
       "      <td>NaN</td>\n",
       "      <td>NaN</td>\n",
       "      <td>NaN</td>\n",
       "      <td>NaN</td>\n",
       "      <td>NaN</td>\n",
       "      <td>8</td>\n",
       "      <td>2018-06-26T00:00:00</td>\n",
       "      <td>207.0</td>\n",
       "      <td>2350000.0</td>\n",
       "    </tr>\n",
       "  </tbody>\n",
       "</table>\n",
       "<p>149 rows × 22 columns</p>\n",
       "</div>"
      ],
      "text/plain": [
       "         locality_name  total_area  living_area  kitchen_area  ceiling_height  \\\n",
       "144     поселок мурино       27.00        15.50           NaN             NaN   \n",
       "440    санкт-петербург       27.11        24.75           NaN             NaN   \n",
       "608     поселок шушары       25.00          NaN           NaN             NaN   \n",
       "697    деревня кудрово       24.10        17.50           NaN            2.75   \n",
       "716     поселок шушары       17.00        12.00           NaN            2.70   \n",
       "...                ...         ...          ...           ...             ...   \n",
       "22867  санкт-петербург       30.00        18.20           NaN             NaN   \n",
       "22877  санкт-петербург       28.00        18.00           NaN            2.70   \n",
       "23210  санкт-петербург       26.00        18.00           NaN             NaN   \n",
       "23554  санкт-петербург       26.00          NaN           NaN             NaN   \n",
       "23637    поселок бугры       26.00        17.00           NaN             NaN   \n",
       "\n",
       "       rooms  balcony  floor  floors_total is_apartment  studio  open_plan  \\\n",
       "144        0      2.0      2          24.0          NaN    True      False   \n",
       "440        0      2.0      4          17.0          NaN    True      False   \n",
       "608        0      NaN      7          10.0          NaN    True      False   \n",
       "697        0      NaN     21          25.0          NaN    True      False   \n",
       "716        0      0.0      1           9.0          NaN    True      False   \n",
       "...      ...      ...    ...           ...          ...     ...        ...   \n",
       "22867      0      NaN      5          25.0          NaN    True      False   \n",
       "22877      0      NaN     10          19.0          NaN    True      False   \n",
       "23210      0      0.0     16          25.0          NaN    True      False   \n",
       "23554      0      NaN      8          19.0          NaN    True      False   \n",
       "23637      0      2.0      4          25.0          NaN    True      False   \n",
       "\n",
       "       cityCenters_nearest  parks_around3000  parks_nearest  ponds_around3000  \\\n",
       "144                    NaN               NaN            NaN               NaN   \n",
       "440                15015.0               0.0            NaN               2.0   \n",
       "608                    NaN               NaN            NaN               NaN   \n",
       "697                    NaN               NaN            NaN               NaN   \n",
       "716                29846.0               0.0            NaN               0.0   \n",
       "...                    ...               ...            ...               ...   \n",
       "22867              16414.0               0.0            NaN               1.0   \n",
       "22877               7206.0               0.0            NaN               1.0   \n",
       "23210              13222.0               0.0            NaN               1.0   \n",
       "23554              17092.0               0.0            NaN               2.0   \n",
       "23637                  NaN               NaN            NaN               NaN   \n",
       "\n",
       "       ponds_nearest  airports_nearest  total_images first_day_exposition  \\\n",
       "144              NaN               NaN             1  2017-03-30T00:00:00   \n",
       "440            982.0           38171.0             8  2018-03-12T00:00:00   \n",
       "608              NaN               NaN             2  2019-02-20T00:00:00   \n",
       "697              NaN               NaN            12  2017-12-01T00:00:00   \n",
       "716              NaN           18654.0             5  2017-06-07T00:00:00   \n",
       "...              ...               ...           ...                  ...   \n",
       "22867          400.0           35250.0             8  2017-12-17T00:00:00   \n",
       "22877          415.0           18982.0             2  2017-10-26T00:00:00   \n",
       "23210          623.0           11405.0             7  2017-09-01T00:00:00   \n",
       "23554          112.0           18090.0            15  2018-09-07T00:00:00   \n",
       "23637            NaN               NaN             8  2018-06-26T00:00:00   \n",
       "\n",
       "       days_exposition  last_price  \n",
       "144              181.0   2450000.0  \n",
       "440               64.0   2480000.0  \n",
       "608               29.0   1850000.0  \n",
       "697              201.0   2500000.0  \n",
       "716               40.0   1500000.0  \n",
       "...                ...         ...  \n",
       "22867            211.0   3090000.0  \n",
       "22877            151.0   4280000.0  \n",
       "23210             14.0   3200000.0  \n",
       "23554             31.0   3350000.0  \n",
       "23637            207.0   2350000.0  \n",
       "\n",
       "[149 rows x 22 columns]"
      ]
     },
     "execution_count": 15,
     "metadata": {},
     "output_type": "execute_result"
    }
   ],
   "source": [
    "#Сделаем срез данных по пропущенным значениям площади кухни в квартирах- студиях\n",
    "df.query('kitchen_area == \"NaN\" and (studio == True)')"
   ]
  },
  {
   "cell_type": "code",
   "execution_count": 16,
   "metadata": {},
   "outputs": [
    {
     "data": {
      "text/plain": [
       "False    23501\n",
       "True       149\n",
       "Name: studio, dtype: int64"
      ]
     },
     "execution_count": 16,
     "metadata": {},
     "output_type": "execute_result"
    }
   ],
   "source": [
    "df['studio'].value_counts()"
   ]
  },
  {
   "cell_type": "markdown",
   "metadata": {},
   "source": [
    "Не все строки одновременно содержат пропуски площади кухни и жилой площади квартиры - студии. 10 квартир- студий с пропущенными данными жилой площади, 149 студий без указания площади кухни - именно столько студий в данных. Заменить пропущенные данные медианой, среднем арифметичеким, нулями или маркером в данном случае некорректно. Оставляем как есть."
   ]
  },
  {
   "cell_type": "markdown",
   "metadata": {},
   "source": [
    "**Изучим данные в столбцe c высотой потолка ceiling_height.**\n",
    "\n",
    "Изначально в нем 183 уникальных значений, 9195 пропусков. Возможно люди не знают высоту потолка в продаваемой квартире, или не считаю нужным указывать стандартную высоту для \"хрущевок\" и \"улучшенной планировки\", которая колеблется в пределах 2,60 - 2,85 м. Мы тоже не знаем, какая высота потолка у них в квартирах. Можно заменить на медиану, учитывая, что минимум высота потолка - 1 м, а максимум - 100 м, среднее арифметическое использовать не будем."
   ]
  },
  {
   "cell_type": "code",
   "execution_count": 17,
   "metadata": {},
   "outputs": [
    {
     "data": {
      "text/plain": [
       "2.65"
      ]
     },
     "execution_count": 17,
     "metadata": {},
     "output_type": "execute_result"
    }
   ],
   "source": [
    "#Уточним медиану\n",
    "df['ceiling_height'].median()"
   ]
  },
  {
   "cell_type": "markdown",
   "metadata": {},
   "source": [
    "Самая распространенная, в принципе, высота потолка, можно применить для замены, данные без пропусков красивее."
   ]
  },
  {
   "cell_type": "code",
   "execution_count": 18,
   "metadata": {},
   "outputs": [
    {
     "data": {
      "text/plain": [
       "0"
      ]
     },
     "execution_count": 18,
     "metadata": {},
     "output_type": "execute_result"
    }
   ],
   "source": [
    "#Заменим пропуски на медиану, проверим\n",
    "df['ceiling_height'] = df['ceiling_height'].fillna(value= 2.65)\n",
    "df['ceiling_height'].isna().sum()"
   ]
  },
  {
   "cell_type": "markdown",
   "metadata": {},
   "source": [
    "**Изучим данные в столбцe c числом балконов balcony.**\n",
    "\n",
    "Изначально в нем 6 уникальных значений (встречается целых 5! балконов в 304 квартирах, 4 - в 182 и 3 - в 81), заменить эти данные на приближенные к реальности можно, но не будем этого делать. Балконы играют роль в качестве привлекательного момента при покупке квартиры, но для нас эти данные не важны. Пропусков изначально было 11 519, скорее всего в этих квартирах нет балконов, заменим на ноль. Балконы в дробях не измеряют, заменим тип данных."
   ]
  },
  {
   "cell_type": "code",
   "execution_count": 19,
   "metadata": {},
   "outputs": [
    {
     "data": {
      "text/plain": [
       "0"
      ]
     },
     "execution_count": 19,
     "metadata": {},
     "output_type": "execute_result"
    }
   ],
   "source": [
    "#Заменим пропуски на ноль, проверим\n",
    "df['balcony'] = df['balcony'].fillna(0)\n",
    "df['balcony'].isna().sum()"
   ]
  },
  {
   "cell_type": "code",
   "execution_count": 20,
   "metadata": {},
   "outputs": [],
   "source": [
    "#Заменим тип данных на целочисленный, проверим\n",
    "df['balcony'] = df['balcony'].astype('int') \n",
    "#df.info()"
   ]
  },
  {
   "cell_type": "markdown",
   "metadata": {},
   "source": [
    "**Изучим данные в столбцe c числом этажей в доме floors_total.**\n",
    "\n",
    "Изначально в нем 36 уникальных значений, среди которых и 60-ти этажный дом. 86 пропусков. Причины их возникновения те же - невнимательность при заполнении, нежелание указывать этажность дома, потери при выгрузке. Учитывая, что тип данных для этажей логично указать целочисленный, заменим пропуски на медиану. А затем заменим тип данных на целочисленный."
   ]
  },
  {
   "cell_type": "code",
   "execution_count": 21,
   "metadata": {},
   "outputs": [
    {
     "data": {
      "text/plain": [
       "9.0"
      ]
     },
     "execution_count": 21,
     "metadata": {},
     "output_type": "execute_result"
    }
   ],
   "source": [
    "#Уточним медиану\n",
    "df['floors_total'].median()"
   ]
  },
  {
   "cell_type": "code",
   "execution_count": 22,
   "metadata": {},
   "outputs": [
    {
     "data": {
      "text/plain": [
       "0"
      ]
     },
     "execution_count": 22,
     "metadata": {},
     "output_type": "execute_result"
    }
   ],
   "source": [
    "#Заменим пропуски на медиану, проверим\n",
    "df['floors_total'] = df['floors_total'].fillna(value= 9)\n",
    "df['floors_total'].isna().sum()"
   ]
  },
  {
   "cell_type": "code",
   "execution_count": 23,
   "metadata": {},
   "outputs": [],
   "source": [
    "#Заменим тип данных на целочисленный, проверим\n",
    "df['floors_total'] = df['floors_total'].astype('int') \n",
    "#df.info()"
   ]
  },
  {
   "cell_type": "markdown",
   "metadata": {},
   "source": [
    "**Изучим данные в столбце is_apartment.**\n",
    "\n",
    "По условиям там должен быть булевый тип данных, по факту int64. Изначально там 20924 пропуска, скорее всего из-за неправильного типа данных. Заменим его, заодно избавимся от пропусков.Большое количество пропусков связано видимо с тем, что само понятие апартаменты, как тип недвижимости, получило распространение относительно недавно.\n",
    "Учитывая, что метод astype('bool') заменит все пропуски на True, его нельзя использовать, так как более 20 тысяч квартир вдруг станут гостиницами."
   ]
  },
  {
   "cell_type": "code",
   "execution_count": 24,
   "metadata": {},
   "outputs": [
    {
     "data": {
      "text/plain": [
       "False    2710\n",
       "True       50\n",
       "Name: is_apartment, dtype: int64"
      ]
     },
     "execution_count": 24,
     "metadata": {},
     "output_type": "execute_result"
    }
   ],
   "source": [
    "df['is_apartment'].value_counts()"
   ]
  },
  {
   "cell_type": "code",
   "execution_count": 25,
   "metadata": {},
   "outputs": [],
   "source": [
    "df['is_apartment'] = df['is_apartment'].fillna(value= False)"
   ]
  },
  {
   "cell_type": "code",
   "execution_count": 26,
   "metadata": {},
   "outputs": [
    {
     "data": {
      "text/plain": [
       "0"
      ]
     },
     "execution_count": 26,
     "metadata": {},
     "output_type": "execute_result"
    }
   ],
   "source": [
    "df['is_apartment'].isna().sum()\n",
    "#df.info()"
   ]
  },
  {
   "cell_type": "markdown",
   "metadata": {},
   "source": [
    "**В столбце с расстоянием до центра cityCenters_nearest 7642 уникальных значений и 5519 пропусков. На данном этапе мы ничего с пропусками в этом столбце делать не будем.**"
   ]
  },
  {
   "cell_type": "markdown",
   "metadata": {},
   "source": [
    "**В столбцах с количеством парков и прудов в округе заметна взаимосвязь - одинаковое число уникальных значений и пропусков:**\n",
    "\n",
    "parks_around3000      4 / 5518\n",
    "ponds_around3000      4 / 5518\n",
    "Автоматическое заполнение не совсем корректно работает (странно, что в каждом парке есть пруд и пропуски там, где нет в округе парков и прудов). Нам эти данные в рамках нашего исследования не важны, оставим как есть.\n",
    "\n",
    "**Аналогично поступим со столбцами** \n",
    "\n",
    "parks_nearest          995  / 15620\n",
    "\n",
    "ponds_nearest          1096 / 14589\n",
    "\n",
    "**и airports_nearest 8275 / 5542 (автоматическое заполнение, здесь пропуски возможны из-за некорректной выгрузки или из-за определенных настроек параметров по поиску объектов - скорее всего для объектов в Ленинградской области парки, пруды и аэропорт поблизости никто и не искал).**"
   ]
  },
  {
   "cell_type": "markdown",
   "metadata": {},
   "source": [
    "**В столбце first_day_exposition заменим формат даты, уберем время.**"
   ]
  },
  {
   "cell_type": "code",
   "execution_count": 27,
   "metadata": {},
   "outputs": [
    {
     "data": {
      "text/plain": [
       "0   2019-03-07\n",
       "1   2018-12-04\n",
       "2   2015-08-20\n",
       "3   2015-07-24\n",
       "4   2018-06-19\n",
       "Name: first_day_exposition, dtype: datetime64[ns]"
      ]
     },
     "execution_count": 27,
     "metadata": {},
     "output_type": "execute_result"
    }
   ],
   "source": [
    "df['first_day_exposition'] = pd.to_datetime(df['first_day_exposition'], format = '%Y-%m-%d')\n",
    "#Проверим\n",
    "df['first_day_exposition'].head()"
   ]
  },
  {
   "cell_type": "markdown",
   "metadata": {},
   "source": [
    "**В столбце со сроками размещения объявления days_exposition,** по которому мы будем судить о скорости продажи недвижимости, изначально было 1141 уникальное значение и 3181 пропусков. Причины пропусков скорее всего кроются в сбоях при выгрузке данных. Так как на скорость продажи недвижимости влияет много факторов, то пропуски заменять на данном этапе нецелесообразно. В тоже время, тип данных некорректный, но заменить его на целочисленный (количество дней измеряется целыми числами) мы не можем из-за значений NaN. Поставим \"галочку\", при необходимости в срезах заменим данные , изменим тип данных на целочисленный. Или оставим в таком виде."
   ]
  },
  {
   "cell_type": "markdown",
   "metadata": {},
   "source": [
    "### Выявление дубликатов."
   ]
  },
  {
   "cell_type": "code",
   "execution_count": 28,
   "metadata": {},
   "outputs": [
    {
     "data": {
      "text/plain": [
       "0"
      ]
     },
     "execution_count": 28,
     "metadata": {},
     "output_type": "execute_result"
    }
   ],
   "source": [
    "#Проверим наличие и количество дубликатов в целом в таблице\n",
    "(df.duplicated().sum())"
   ]
  },
  {
   "cell_type": "markdown",
   "metadata": {},
   "source": [
    " Предобработку завершили, можно переходить к расчетам."
   ]
  },
  {
   "cell_type": "markdown",
   "metadata": {},
   "source": [
    "## Рассчёты и добавление результатов в таблицу"
   ]
  },
  {
   "cell_type": "markdown",
   "metadata": {},
   "source": [
    "### Цена квадратного метра"
   ]
  },
  {
   "cell_type": "code",
   "execution_count": 29,
   "metadata": {},
   "outputs": [],
   "source": [
    "#Создадим столбец с ценой за м2\n",
    "df['price_meter'] = df['last_price'] / df['total_area']\n",
    "#df.head()"
   ]
  },
  {
   "cell_type": "markdown",
   "metadata": {},
   "source": [
    "### День недели, месяц, год публикации объявления"
   ]
  },
  {
   "cell_type": "code",
   "execution_count": 30,
   "metadata": {},
   "outputs": [],
   "source": [
    "#Создадим столбец дня недели в числовом выражении\n",
    "df['weekday'] = df['first_day_exposition'].dt.weekday\n",
    "#В переменной сохраним замену чисел на название дня недели\n",
    "weekdays = {1: 'понедельник', 2: 'вторник', 3: 'среда', \n",
    "            4: 'четверг', 5: 'пятница', 6: 'суббота', 7: 'воскресенье'}\n",
    "#Заменим цифры на название дня недели\n",
    "df['weekday'] = df['weekday'].map(weekdays)\n",
    "#Создадим столбец месяца\n",
    "df['month'] = df['first_day_exposition'].dt.month\n",
    "#Создадим столбец года\n",
    "df['year'] = df['first_day_exposition'].dt.year\n",
    "\n",
    "#df.head()"
   ]
  },
  {
   "cell_type": "markdown",
   "metadata": {},
   "source": [
    "### Катогоризация этажей расположения квартир"
   ]
  },
  {
   "cell_type": "code",
   "execution_count": 31,
   "metadata": {},
   "outputs": [],
   "source": [
    "#Используем метод where()\n",
    "df['floor_category'] = np.where(df['floor'] == 1, 'первый', 'другой')\n",
    "df['floor_category'] = np.where(df['floor'] == df['floors_total'], 'последний', df['floor_category'])\n",
    "#df.head()\n"
   ]
  },
  {
   "cell_type": "markdown",
   "metadata": {},
   "source": [
    "### Соотношение площадей квартиры"
   ]
  },
  {
   "cell_type": "code",
   "execution_count": 34,
   "metadata": {},
   "outputs": [],
   "source": [
    "#Добавим столбец соотношения жилой площади к общей\n",
    "df['useful_area_ratio'] = df['living_area'] / df['total_area']\n",
    "#Добавим столбец отношения площади кухни к общей\n",
    "df['kitchen_area_ratio'] = df['kitchen_area'] / df['total_area']\n",
    "#df.head()"
   ]
  },
  {
   "cell_type": "markdown",
   "metadata": {},
   "source": [
    "## Исследовательский анализ данных"
   ]
  },
  {
   "cell_type": "markdown",
   "metadata": {},
   "source": [
    "### Изучение основных данных: площадь, цена, число комнат, высота потолков"
   ]
  },
  {
   "cell_type": "code",
   "execution_count": 35,
   "metadata": {
    "scrolled": true
   },
   "outputs": [
    {
     "data": {
      "text/html": [
       "<div>\n",
       "<style scoped>\n",
       "    .dataframe tbody tr th:only-of-type {\n",
       "        vertical-align: middle;\n",
       "    }\n",
       "\n",
       "    .dataframe tbody tr th {\n",
       "        vertical-align: top;\n",
       "    }\n",
       "\n",
       "    .dataframe thead th {\n",
       "        text-align: right;\n",
       "    }\n",
       "</style>\n",
       "<table border=\"1\" class=\"dataframe\">\n",
       "  <thead>\n",
       "    <tr style=\"text-align: right;\">\n",
       "      <th></th>\n",
       "      <th>total_area</th>\n",
       "      <th>last_price</th>\n",
       "      <th>rooms</th>\n",
       "      <th>ceiling_height</th>\n",
       "    </tr>\n",
       "  </thead>\n",
       "  <tbody>\n",
       "    <tr>\n",
       "      <td>count</td>\n",
       "      <td>23650.000000</td>\n",
       "      <td>2.365000e+04</td>\n",
       "      <td>23650.000000</td>\n",
       "      <td>23650.000000</td>\n",
       "    </tr>\n",
       "    <tr>\n",
       "      <td>mean</td>\n",
       "      <td>60.329069</td>\n",
       "      <td>6.541127e+06</td>\n",
       "      <td>2.070106</td>\n",
       "      <td>2.724311</td>\n",
       "    </tr>\n",
       "    <tr>\n",
       "      <td>std</td>\n",
       "      <td>35.661808</td>\n",
       "      <td>1.089640e+07</td>\n",
       "      <td>1.078620</td>\n",
       "      <td>0.989255</td>\n",
       "    </tr>\n",
       "    <tr>\n",
       "      <td>min</td>\n",
       "      <td>12.000000</td>\n",
       "      <td>1.219000e+04</td>\n",
       "      <td>0.000000</td>\n",
       "      <td>1.000000</td>\n",
       "    </tr>\n",
       "    <tr>\n",
       "      <td>25%</td>\n",
       "      <td>40.000000</td>\n",
       "      <td>3.400000e+06</td>\n",
       "      <td>1.000000</td>\n",
       "      <td>2.600000</td>\n",
       "    </tr>\n",
       "    <tr>\n",
       "      <td>50%</td>\n",
       "      <td>52.000000</td>\n",
       "      <td>4.650000e+06</td>\n",
       "      <td>2.000000</td>\n",
       "      <td>2.650000</td>\n",
       "    </tr>\n",
       "    <tr>\n",
       "      <td>75%</td>\n",
       "      <td>69.700000</td>\n",
       "      <td>6.799000e+06</td>\n",
       "      <td>3.000000</td>\n",
       "      <td>2.700000</td>\n",
       "    </tr>\n",
       "    <tr>\n",
       "      <td>max</td>\n",
       "      <td>900.000000</td>\n",
       "      <td>7.630000e+08</td>\n",
       "      <td>19.000000</td>\n",
       "      <td>100.000000</td>\n",
       "    </tr>\n",
       "  </tbody>\n",
       "</table>\n",
       "</div>"
      ],
      "text/plain": [
       "         total_area    last_price         rooms  ceiling_height\n",
       "count  23650.000000  2.365000e+04  23650.000000    23650.000000\n",
       "mean      60.329069  6.541127e+06      2.070106        2.724311\n",
       "std       35.661808  1.089640e+07      1.078620        0.989255\n",
       "min       12.000000  1.219000e+04      0.000000        1.000000\n",
       "25%       40.000000  3.400000e+06      1.000000        2.600000\n",
       "50%       52.000000  4.650000e+06      2.000000        2.650000\n",
       "75%       69.700000  6.799000e+06      3.000000        2.700000\n",
       "max      900.000000  7.630000e+08     19.000000      100.000000"
      ]
     },
     "execution_count": 35,
     "metadata": {},
     "output_type": "execute_result"
    }
   ],
   "source": [
    "# Вспомним основные данные по столбцам\n",
    "df[['total_area', 'last_price', 'rooms', 'ceiling_height']].describe()"
   ]
  },
  {
   "cell_type": "markdown",
   "metadata": {},
   "source": [
    "- Общая площадь total_area: большой разброс минимума и максимума, если 12 м2 общая площадь может быть в продаваемой комнате, то 900 м2 выглядят очень подозрительно, среднее и медианное значение в норме, а вот отклонение огромно.\n",
    "- Цена last_price: в целом ничего подозрительного, за исключением минимальной цены в 12190,00, отклонение незначительное.\n",
    "- Число комнат rooms: отсутствие числа комнат можно списать на студию, 19 комнат подозрительно, но, возможно это апартаменты (гостиничного типа), среднее и медиана в норме, отклонение незначительное.\n",
    "- Высота потолков ceiling_height: учитывая замену пропусков на медиану, подозрение вызавают только потолки высотой 100 м."
   ]
  },
  {
   "cell_type": "code",
   "execution_count": 36,
   "metadata": {},
   "outputs": [],
   "source": [
    "# Функция, получающая на вход название признака, и возвращающая границы \"усов\"\n",
    "def df_whiskers(column):\n",
    "    stat = df[column].describe()\n",
    "    \n",
    "    # межквартирльный размах\n",
    "    iqr = stat[6] - stat[4]\n",
    "    \n",
    "    # левый и правый \"ус\"    \n",
    "    left_whisker = round(stat[4] - 1.5 * iqr, 2)\n",
    "    right_whisker = round(stat[6] + 1.5 * iqr, 2)\n",
    "\n",
    "    # левый \"ус\" не должен быть меньше минимального значения\n",
    "    if left_whisker < stat[3]: left_whisker = stat[3] \n",
    "        \n",
    "    # правый \"ус\" не должен быть больше максимального значения\n",
    "    if right_whisker > stat[7]: right_whisker = stat[7]\n",
    "        \n",
    "    return [left_whisker, right_whisker]"
   ]
  },
  {
   "cell_type": "code",
   "execution_count": 37,
   "metadata": {},
   "outputs": [
    {
     "data": {
      "text/plain": [
       "[12.0, 114.25]"
      ]
     },
     "execution_count": 37,
     "metadata": {},
     "output_type": "execute_result"
    }
   ],
   "source": [
    "df_whiskers('total_area')"
   ]
  },
  {
   "cell_type": "code",
   "execution_count": 38,
   "metadata": {},
   "outputs": [
    {
     "data": {
      "image/png": "[encoded data removed]",
      "text/plain": [
       "<Figure size 432x288 with 1 Axes>"
      ]
     },
     "metadata": {
      "needs_background": "light"
     },
     "output_type": "display_data"
    }
   ],
   "source": [
    "#Определим выбросы и границы нормы по каждому параметру, сформируем диаграммы размаха\n",
    "sns.boxplot(df['total_area'], color='lightsteelblue')\n",
    "plt.title('Диаграмма размаха')\n",
    "plt.xlabel('Общая площадь, кв.м')\n",
    "plt.xlim(0, 130)\n",
    "plt.show()"
   ]
  },
  {
   "cell_type": "code",
   "execution_count": 39,
   "metadata": {},
   "outputs": [
    {
     "data": {
      "text/plain": [
       "[12190.0, 11897500.0]"
      ]
     },
     "execution_count": 39,
     "metadata": {},
     "output_type": "execute_result"
    }
   ],
   "source": [
    "df_whiskers('last_price')"
   ]
  },
  {
   "cell_type": "code",
   "execution_count": 40,
   "metadata": {},
   "outputs": [
    {
     "data": {
      "image/png": "[encoded data removed]",
      "text/plain": [
       "<Figure size 432x288 with 1 Axes>"
      ]
     },
     "metadata": {
      "needs_background": "light"
     },
     "output_type": "display_data"
    }
   ],
   "source": [
    "sns.boxplot(df['last_price'], color='red')\n",
    "plt.title('Диаграмма размаха')\n",
    "plt.xlabel('Цены, 10 млн рублей')\n",
    "_ = plt.xlim(0, 12500000)"
   ]
  },
  {
   "cell_type": "code",
   "execution_count": 41,
   "metadata": {},
   "outputs": [
    {
     "data": {
      "text/plain": [
       "[0.0, 6.0]"
      ]
     },
     "execution_count": 41,
     "metadata": {},
     "output_type": "execute_result"
    }
   ],
   "source": [
    "df_whiskers('rooms')"
   ]
  },
  {
   "cell_type": "code",
   "execution_count": 42,
   "metadata": {},
   "outputs": [
    {
     "data": {
      "image/png": "[encoded data removed]",
      "text/plain": [
       "<Figure size 432x288 with 1 Axes>"
      ]
     },
     "metadata": {
      "needs_background": "light"
     },
     "output_type": "display_data"
    }
   ],
   "source": [
    "sns.boxplot(df['rooms'], color='cyan')\n",
    "plt.title('Диаграмма размаха')\n",
    "plt.xlabel('Число комнат, шт.')\n",
    "_ = plt.xlim(0, 7)"
   ]
  },
  {
   "cell_type": "code",
   "execution_count": 43,
   "metadata": {},
   "outputs": [
    {
     "data": {
      "text/plain": [
       "[2.45, 2.85]"
      ]
     },
     "execution_count": 43,
     "metadata": {},
     "output_type": "execute_result"
    }
   ],
   "source": [
    "df_whiskers('ceiling_height')"
   ]
  },
  {
   "cell_type": "code",
   "execution_count": 44,
   "metadata": {},
   "outputs": [
    {
     "data": {
      "image/png": "[encoded data removed]",
      "text/plain": [
       "<Figure size 432x288 with 1 Axes>"
      ]
     },
     "metadata": {
      "needs_background": "light"
     },
     "output_type": "display_data"
    }
   ],
   "source": [
    "sns.boxplot(df['ceiling_height'], color='purple')\n",
    "plt.title('Диаграмма размаха')\n",
    "plt.xlabel('Высота потолков, м')\n",
    "_ = plt.xlim(1,3.1)"
   ]
  },
  {
   "cell_type": "markdown",
   "metadata": {},
   "source": [
    "Определили границы нормы:\n",
    "- Общая площадь total_area: 12 - 115 м\n",
    "- Цена last_price: 0 - 12 млн руб\n",
    "- Число комнат rooms: 0 - 6\n",
    "- Высота потолков ceiling_height: 2,45 - 2,85 м, однако имеются квартиры с более высокими потолками - 3 м и более, чтобы не потерять данные по таким квартирам, возьмем верхний порог 3,1 м (так как квартиры с более высокими потолками относятся к элитному жилью и жилью бизнес- класса)."
   ]
  },
  {
   "cell_type": "code",
   "execution_count": 45,
   "metadata": {},
   "outputs": [
    {
     "data": {
      "image/png": "[encoded data removed]",
      "text/plain": [
       "<Figure size 432x288 with 1 Axes>"
      ]
     },
     "metadata": {
      "needs_background": "light"
     },
     "output_type": "display_data"
    }
   ],
   "source": [
    "#Построим гистаграммы для каждого параметра, диапазон будем брать в пределах нормы\n",
    "\n",
    "sns.distplot(df['total_area'], kde=False, bins=45)\n",
    "plt.xlim(0, 115)\n",
    "plt.title('Гистограмма распределения общей площади')\n",
    "plt.xlabel('Общая площадь, кв.м')\n",
    "plt.ylabel('Частота')\n",
    "plt.show()"
   ]
  },
  {
   "cell_type": "code",
   "execution_count": 46,
   "metadata": {},
   "outputs": [
    {
     "data": {
      "image/png": "[encoded data removed]",
      "text/plain": [
       "<Figure size 432x288 with 1 Axes>"
      ]
     },
     "metadata": {
      "needs_background": "light"
     },
     "output_type": "display_data"
    }
   ],
   "source": [
    "sns.distplot(df['last_price'], kde=False, bins=450, color='red')\n",
    "plt.xlim(0, 12000000)\n",
    "plt.title('Гистограмма распределения цен на момент снятия объявления')\n",
    "plt.xlabel('Цены, 10 млн рублей')\n",
    "_ = plt.ylabel('Частота')"
   ]
  },
  {
   "cell_type": "code",
   "execution_count": 47,
   "metadata": {},
   "outputs": [
    {
     "data": {
      "image/png": "[encoded data removed]",
      "text/plain": [
       "<Figure size 432x288 with 1 Axes>"
      ]
     },
     "metadata": {
      "needs_background": "light"
     },
     "output_type": "display_data"
    }
   ],
   "source": [
    "sns.distplot(df['rooms'], kde=False, bins=20, color='cyan')\n",
    "plt.xlim(0, 6)\n",
    "plt.title('Гистограмма распределения количества комнат в квартирах')\n",
    "plt.xlabel('Число комнат, шт.')\n",
    "_ = plt.ylabel('Частота')"
   ]
  },
  {
   "cell_type": "code",
   "execution_count": 48,
   "metadata": {},
   "outputs": [
    {
     "data": {
      "image/png": "[encoded data removed]",
      "text/plain": [
       "<Figure size 432x288 with 1 Axes>"
      ]
     },
     "metadata": {
      "needs_background": "light"
     },
     "output_type": "display_data"
    }
   ],
   "source": [
    "sns.distplot(df['ceiling_height'], kde=False, bins=1000, color='purple')\n",
    "plt.xlim(2.45 , 3.1)\n",
    "plt.title('Гистограмма распределения высоты потолков в квартирах')\n",
    "plt.xlabel('Высота потолков, м')\n",
    "_ = plt.ylabel('Частота')"
   ]
  },
  {
   "cell_type": "markdown",
   "metadata": {},
   "source": [
    "#### Выводы:\n",
    "В диапазонах, определенных при помощи диаграмм размаха, гистограммы демонстрируют нормальное распределение значений.\n",
    "1. Гистограмма \"Общая площадь\": большая часть квартир имеет метраж от 30 до 80 кв.м., максимальные пики приходятся приблизительно на 35, 45 и 55 кв.м. Есть предложения квартир 80-100 кв.м., встречаются и единичные выбросы с площадью квартир от 500 и выше кв.м. Максимальная площадь - 900 кв.м., минимальная - 12.\n",
    "\n",
    "2. Гистограмма \"Цена\": в основном цены на квартиры варьируются в промежутке от 2,5 до 12 млн. Большая часть квартир продается за 2,5 - 6 млн. Максимальные пики приходятся на продажу за 3,5 и 4,5 млн. приблизительно. Встречаются выбросы с ценой более 12 млн., максимум - 76 300 000, минимум - 12 190. \n",
    "\n",
    "3. Гистограмма \"Число комнат\": самые популярные квартиры с 1 или 2 комнатами, относительно незначительно уступают им 3-х комнатные квартиры. Встречаются студии и 4-6 комнатные квартиры, единичные предложения с большим числом комнат. Максимальное число комнат в квартире - 19.\n",
    "\n",
    "4. Гистограмма \"высота потолков\": учитывая большое число пропусков, которые мы заменили на медиану, равную 2,65 м - этот вариант высоты потолков имеет наибольший пик, также пики приходятся на квартиры с высотой потолков 2,5, 2,6 и 2,7 м. Есть предложения квартир с высотой потолка в районе 3 - 3,5 м, но их относительно немного. Минимальный по высоте потолок - 1 м, а также максимальный - 100 м, явно не соответствуют действительности. Самые популярные квартиры имеют потолок высотой 2,6 - 2,7 м.\n",
    "\n",
    "###### Усредненная квартира, продаваемая в Санкт- Петербурге и  Ленинградской области имеет 2 комнаты, площадь 52 кв.м, высоту потолка 2,65 м и цену в 4,65 млн.\n"
   ]
  },
  {
   "cell_type": "markdown",
   "metadata": {},
   "source": [
    "### Изучение времени продажи квартир"
   ]
  },
  {
   "cell_type": "code",
   "execution_count": 49,
   "metadata": {},
   "outputs": [
    {
     "data": {
      "text/plain": [
       "count    20470.000000\n",
       "mean       180.753200\n",
       "std        219.777916\n",
       "min          1.000000\n",
       "25%         45.000000\n",
       "50%         95.000000\n",
       "75%        231.000000\n",
       "max       1580.000000\n",
       "Name: days_exposition, dtype: float64"
      ]
     },
     "execution_count": 49,
     "metadata": {},
     "output_type": "execute_result"
    }
   ],
   "source": [
    "# Посмотрим основные данные\n",
    "df['days_exposition'].describe()"
   ]
  },
  {
   "cell_type": "markdown",
   "metadata": {},
   "source": [
    "Судя по данным, самые популярные квартиры нашли покупателей за 1 день, самая долгая продажа длилась 4 года и четыре месяца, это подозрительно выглядит - либо слишком высокая цена, а достоинства квартиры так себе, либо люди, которые продлевали объявление, так развлекались, либо квартира настолько ужасна, что никто ее не хотел покупать. В среднем квартиры продаются по пол года, медиана равна 3 месяцам - достаточно комфортный срок для продажи недвижимости. Отклонение просто гигантское, возможно из-за квартиры, которую никто не хотел покупать (или не хотели продавать на самом деле)."
   ]
  },
  {
   "cell_type": "code",
   "execution_count": 50,
   "metadata": {},
   "outputs": [
    {
     "data": {
      "text/plain": [
       "[1.0, 510.0]"
      ]
     },
     "execution_count": 50,
     "metadata": {},
     "output_type": "execute_result"
    }
   ],
   "source": [
    "df_whiskers('days_exposition')"
   ]
  },
  {
   "cell_type": "code",
   "execution_count": 51,
   "metadata": {},
   "outputs": [
    {
     "data": {
      "image/png": "[encoded data removed]",
      "text/plain": [
       "<Figure size 432x288 with 1 Axes>"
      ]
     },
     "metadata": {
      "needs_background": "light"
     },
     "output_type": "display_data"
    }
   ],
   "source": [
    "#Определим выбросы и границы нормы, сформируем диаграмму размаха\n",
    "sns.boxplot(df['days_exposition'], color='thistle')\n",
    "plt.title('Диаграмма размаха')\n",
    "plt.xlabel('Время размещения объявления о продаже, дней')\n",
    "plt.xlim(0, 520)\n",
    "plt.show()"
   ]
  },
  {
   "cell_type": "code",
   "execution_count": 52,
   "metadata": {},
   "outputs": [
    {
     "data": {
      "image/png": "[encoded data removed]",
      "text/plain": [
       "<Figure size 432x288 with 1 Axes>"
      ]
     },
     "metadata": {
      "needs_background": "light"
     },
     "output_type": "display_data"
    }
   ],
   "source": [
    "#Построим гистаграмму\n",
    "sns.distplot(df['days_exposition'], kde=False, bins=45, color='thistle')\n",
    "plt.xlim(0, 510)\n",
    "plt.title('Гистограмма распределения времени размещения объявления о продаже')\n",
    "plt.xlabel('Время размещения объявления, дней')\n",
    "plt.ylabel('Частота')\n",
    "plt.show()"
   ]
  },
  {
   "cell_type": "markdown",
   "metadata": {},
   "source": [
    "#### Вывод:\n",
    "    Распределение продажи квартир по времени соответствует распределению Пуассона. При исследовании гистограммы меняли диапазон, чтобы выявить пики.\n",
    "    Основная масса квартир продается в течение 100 дней. Заметное количество квартир продается до 200 дней. Максимальные пики приходятся на продажу за: 7, 30, 45, 60 и 90 дней. Эти пики выглядят подозрительно симметрично - неделя, месяц, полтора месяца, два месяца, три месяца. Учитывая, что на самом деле в столбце указан срок размещения объявления, можно предположить, что в эти дни идет автоматическое удаление не продленных объявлений (что подтверждает интернет - https://yandex.ru/support/realty/owner/home/add-ads-housing.html). Факты автоматического удаления объявлений не дают нам точных данных о сроках продажи квартир.\n",
    "    Так как иных данных в нашем распоряжении нет, будем считать, что квартиры в рамках размещения объявления были проданы, а продавцы не сочли нужным объявление закрыть. \n",
    "    В пределах нормы продажа квартир занимает не  более 1 года и 4 месяцев (510 дней).\n",
    "    Аномально быстрой будем считать продажу квартиры в срок менее 30 дней, аномально высокий срок продажи - более 510 дней.    "
   ]
  },
  {
   "cell_type": "markdown",
   "metadata": {},
   "source": [
    "### Редкие и выбивающиеся значения"
   ]
  },
  {
   "cell_type": "markdown",
   "metadata": {},
   "source": [
    "В пункте 4.2 были определены диапазоны нормальных значений для основных параметров: площадь, цена, число комнат, высота потолков, время продажи (время размещения объявления). \n",
    "Для достоверного определения цены при сравнительном методе оценки рыночной стоимости необходимо наличие достаточно большого объема информации по совершающимся сделкам. Учитываться должны сделки по квартирам, параметры которых аналогичны или близко совпадают с оцениваемой квартирой.При сравнительном анализе должны в обязательном порядке отбрасываться пограничные значения — наибольшие и наименьшие цены сделок, так как за ними могут стоять особые условия и обязательства, то есть нерыночные механизмы, повлиявшие на конечную цену подобных квартир.(https://glavkniga.ru/situations/s505273)\n",
    "Для проведения адекватного анализа нам необходимо избавиться от аномальных значений (выходящих за пределы определенной нормы)."
   ]
  },
  {
   "cell_type": "code",
   "execution_count": 53,
   "metadata": {},
   "outputs": [
    {
     "data": {
      "text/plain": [
       "'Доля нормальных значений в данных составляет: 64.6%'"
      ]
     },
     "execution_count": 53,
     "metadata": {},
     "output_type": "execute_result"
    }
   ],
   "source": [
    "# Сделаем срез данных датафрейма, из которого исключим аномальные значения\n",
    "# Ориентируемся на диапазоны данных, установленные в пунктах 4.1 и 4.2\n",
    "good_df = df.query ('total_area < 120 and last_price < 12000000 and rooms < 6 and (ceiling_height > 2.45 or 3.1 < ceiling_height) and (days_exposition > 30 or 510 < days_exposition)')\n",
    "# Посчитаем долю значений в пределах нормы, которые мы будем использовать далее\n",
    "('Доля нормальных значений в данных составляет: {:.1%}'. format(len(good_df) / len(df)))"
   ]
  },
  {
   "cell_type": "markdown",
   "metadata": {},
   "source": [
    "### Факторы, влияющие на стоимость квартиры"
   ]
  },
  {
   "cell_type": "markdown",
   "metadata": {},
   "source": [
    "###### Зависимость цены квартиры от общей площади"
   ]
  },
  {
   "cell_type": "code",
   "execution_count": 54,
   "metadata": {},
   "outputs": [
    {
     "data": {
      "text/html": [
       "<div>\n",
       "<style scoped>\n",
       "    .dataframe tbody tr th:only-of-type {\n",
       "        vertical-align: middle;\n",
       "    }\n",
       "\n",
       "    .dataframe tbody tr th {\n",
       "        vertical-align: top;\n",
       "    }\n",
       "\n",
       "    .dataframe thead th {\n",
       "        text-align: right;\n",
       "    }\n",
       "</style>\n",
       "<table border=\"1\" class=\"dataframe\">\n",
       "  <thead>\n",
       "    <tr style=\"text-align: right;\">\n",
       "      <th></th>\n",
       "      <th>median</th>\n",
       "    </tr>\n",
       "    <tr>\n",
       "      <th>total_area</th>\n",
       "      <th></th>\n",
       "    </tr>\n",
       "  </thead>\n",
       "  <tbody>\n",
       "    <tr>\n",
       "      <td>104.10</td>\n",
       "      <td>11999000.0</td>\n",
       "    </tr>\n",
       "    <tr>\n",
       "      <td>83.82</td>\n",
       "      <td>11995000.0</td>\n",
       "    </tr>\n",
       "    <tr>\n",
       "      <td>112.10</td>\n",
       "      <td>11983878.0</td>\n",
       "    </tr>\n",
       "    <tr>\n",
       "      <td>96.38</td>\n",
       "      <td>11968000.0</td>\n",
       "    </tr>\n",
       "    <tr>\n",
       "      <td>97.10</td>\n",
       "      <td>11967575.0</td>\n",
       "    </tr>\n",
       "    <tr>\n",
       "      <td>94.15</td>\n",
       "      <td>11939000.0</td>\n",
       "    </tr>\n",
       "    <tr>\n",
       "      <td>108.50</td>\n",
       "      <td>11935000.0</td>\n",
       "    </tr>\n",
       "    <tr>\n",
       "      <td>60.84</td>\n",
       "      <td>11900000.0</td>\n",
       "    </tr>\n",
       "    <tr>\n",
       "      <td>106.50</td>\n",
       "      <td>11900000.0</td>\n",
       "    </tr>\n",
       "    <tr>\n",
       "      <td>118.20</td>\n",
       "      <td>11820000.0</td>\n",
       "    </tr>\n",
       "  </tbody>\n",
       "</table>\n",
       "</div>"
      ],
      "text/plain": [
       "                median\n",
       "total_area            \n",
       "104.10      11999000.0\n",
       "83.82       11995000.0\n",
       "112.10      11983878.0\n",
       "96.38       11968000.0\n",
       "97.10       11967575.0\n",
       "94.15       11939000.0\n",
       "108.50      11935000.0\n",
       "60.84       11900000.0\n",
       "106.50      11900000.0\n",
       "118.20      11820000.0"
      ]
     },
     "execution_count": 54,
     "metadata": {},
     "output_type": "execute_result"
    }
   ],
   "source": [
    "# Создадим сводную таблицу\n",
    "price__area = good_df.pivot_table(index = 'total_area', \n",
    "                                  values = 'last_price', \n",
    "                                  aggfunc = ['median'])\n",
    "price__area.columns = ['median']\n",
    "\n",
    "price__area.sort_values('median', ascending = False).head(10)"
   ]
  },
  {
   "cell_type": "code",
   "execution_count": 55,
   "metadata": {},
   "outputs": [
    {
     "data": {
      "text/plain": [
       "0.7086359253263123"
      ]
     },
     "execution_count": 55,
     "metadata": {},
     "output_type": "execute_result"
    },
    {
     "data": {
      "image/png": "[encoded data removed]",
      "text/plain": [
       "<Figure size 576x360 with 2 Axes>"
      ]
     },
     "metadata": {
      "needs_background": "light"
     },
     "output_type": "display_data"
    }
   ],
   "source": [
    "# Построим график зависимости\n",
    "good_df.plot(x='total_area', y='last_price', kind='hexbin', gridsize=20, figsize=(8, 5), sharex=False, grid=True, title= 'Зависимость стоимости квартиры от общей площади') \n",
    "# Рассчитаем коэффициент корреляции Пирсона\n",
    "good_df['total_area'].corr(good_df['last_price'])"
   ]
  },
  {
   "cell_type": "markdown",
   "metadata": {},
   "source": [
    "Очевидно, зависимость имеется. Частотность на графике сосредоточена в диапазоне квартир площадью 30-50 кв.м по цене 2,5 - 3 млн. С возрастанием общей площади до 60 кв.м. цена возрастает до 6 млн. Коэффициент корреляции 0,71 довольно высок, с увеличением общей площади квартиры растет цена квартиры.\n",
    "###### Общая площадь квартиры заметно влияет на ее цену."
   ]
  },
  {
   "cell_type": "markdown",
   "metadata": {},
   "source": [
    "###### Зависимость цены квартиры от количества комнат"
   ]
  },
  {
   "cell_type": "code",
   "execution_count": 56,
   "metadata": {},
   "outputs": [
    {
     "data": {
      "text/html": [
       "<div>\n",
       "<style scoped>\n",
       "    .dataframe tbody tr th:only-of-type {\n",
       "        vertical-align: middle;\n",
       "    }\n",
       "\n",
       "    .dataframe tbody tr th {\n",
       "        vertical-align: top;\n",
       "    }\n",
       "\n",
       "    .dataframe thead th {\n",
       "        text-align: right;\n",
       "    }\n",
       "</style>\n",
       "<table border=\"1\" class=\"dataframe\">\n",
       "  <thead>\n",
       "    <tr style=\"text-align: right;\">\n",
       "      <th></th>\n",
       "      <th>median</th>\n",
       "    </tr>\n",
       "    <tr>\n",
       "      <th>rooms</th>\n",
       "      <th></th>\n",
       "    </tr>\n",
       "  </thead>\n",
       "  <tbody>\n",
       "    <tr>\n",
       "      <td>5</td>\n",
       "      <td>8500000.0</td>\n",
       "    </tr>\n",
       "    <tr>\n",
       "      <td>4</td>\n",
       "      <td>6845000.0</td>\n",
       "    </tr>\n",
       "    <tr>\n",
       "      <td>3</td>\n",
       "      <td>5650000.0</td>\n",
       "    </tr>\n",
       "    <tr>\n",
       "      <td>2</td>\n",
       "      <td>4600000.0</td>\n",
       "    </tr>\n",
       "    <tr>\n",
       "      <td>1</td>\n",
       "      <td>3550000.0</td>\n",
       "    </tr>\n",
       "    <tr>\n",
       "      <td>0</td>\n",
       "      <td>2700000.0</td>\n",
       "    </tr>\n",
       "  </tbody>\n",
       "</table>\n",
       "</div>"
      ],
      "text/plain": [
       "          median\n",
       "rooms           \n",
       "5      8500000.0\n",
       "4      6845000.0\n",
       "3      5650000.0\n",
       "2      4600000.0\n",
       "1      3550000.0\n",
       "0      2700000.0"
      ]
     },
     "execution_count": 56,
     "metadata": {},
     "output_type": "execute_result"
    }
   ],
   "source": [
    "# Создадим сводную таблицу\n",
    "price__rooms = good_df.pivot_table(index = 'rooms', \n",
    "                                  values = 'last_price', \n",
    "                                  aggfunc = ['median'])\n",
    "price__rooms.columns = ['median']\n",
    "\n",
    "price__rooms.sort_values('median', ascending = False).head(10)"
   ]
  },
  {
   "cell_type": "code",
   "execution_count": 57,
   "metadata": {},
   "outputs": [
    {
     "data": {
      "text/plain": [
       "0.44403553848174265"
      ]
     },
     "execution_count": 57,
     "metadata": {},
     "output_type": "execute_result"
    },
    {
     "data": {
      "image/png": "[encoded data removed]",
      "text/plain": [
       "<Figure size 576x360 with 2 Axes>"
      ]
     },
     "metadata": {
      "needs_background": "light"
     },
     "output_type": "display_data"
    }
   ],
   "source": [
    "# Построим график зависимости\n",
    "good_df.plot(x='rooms', y='last_price', kind='hexbin', gridsize=20, figsize=(8, 5), sharex=False, grid=True, title= 'Зависимость стоимости квартиры от количества комнат') \n",
    "# Рассчитаем коэффициент корреляции Пирсона\n",
    "good_df['rooms'].corr(good_df['last_price'])"
   ]
  },
  {
   "cell_type": "code",
   "execution_count": 58,
   "metadata": {},
   "outputs": [
    {
     "data": {
      "text/plain": [
       "-0.22736460826166982"
      ]
     },
     "execution_count": 58,
     "metadata": {},
     "output_type": "execute_result"
    }
   ],
   "source": [
    "# Рассчитаем коэффициент корреляции Пирсона для стоимости 1 кв.м.\n",
    "good_df['rooms'].corr(good_df['price_meter'])"
   ]
  },
  {
   "cell_type": "markdown",
   "metadata": {},
   "source": [
    "Зависимость имеется. Частотность на графике сосредоточена в диапазонах: 1-комнатные за 2,5 - 4,5 млн., 2-комнатные за 3,5 - 6 млн., реже 3- комнатные за 4 - 6 млн. \n",
    "Коэффициент корреляции положителен, 0,44, указывает на небольшую зависимость.\n",
    "Стоимость одного кв.м. отрицательно коррелирует с количеством комнат: в малой степени зависимости, чем меньше комнат, тем выше цена за 1 кв.м.\n",
    "###### Количество комнат влияет на цену квартиру в небольшой степени."
   ]
  },
  {
   "cell_type": "markdown",
   "metadata": {},
   "source": [
    "###### Зависимость цены квартиры от удаленности от центра"
   ]
  },
  {
   "cell_type": "code",
   "execution_count": 59,
   "metadata": {},
   "outputs": [
    {
     "data": {
      "text/html": [
       "<div>\n",
       "<style scoped>\n",
       "    .dataframe tbody tr th:only-of-type {\n",
       "        vertical-align: middle;\n",
       "    }\n",
       "\n",
       "    .dataframe tbody tr th {\n",
       "        vertical-align: top;\n",
       "    }\n",
       "\n",
       "    .dataframe thead th {\n",
       "        text-align: right;\n",
       "    }\n",
       "</style>\n",
       "<table border=\"1\" class=\"dataframe\">\n",
       "  <thead>\n",
       "    <tr style=\"text-align: right;\">\n",
       "      <th></th>\n",
       "      <th>median</th>\n",
       "    </tr>\n",
       "    <tr>\n",
       "      <th>cityCenters_nearest</th>\n",
       "      <th></th>\n",
       "    </tr>\n",
       "  </thead>\n",
       "  <tbody>\n",
       "    <tr>\n",
       "      <td>65968.0</td>\n",
       "      <td>4200000.0</td>\n",
       "    </tr>\n",
       "    <tr>\n",
       "      <td>65105.0</td>\n",
       "      <td>3300000.0</td>\n",
       "    </tr>\n",
       "    <tr>\n",
       "      <td>64857.0</td>\n",
       "      <td>3650000.0</td>\n",
       "    </tr>\n",
       "    <tr>\n",
       "      <td>62454.0</td>\n",
       "      <td>3200000.0</td>\n",
       "    </tr>\n",
       "    <tr>\n",
       "      <td>61495.0</td>\n",
       "      <td>3200000.0</td>\n",
       "    </tr>\n",
       "    <tr>\n",
       "      <td>60223.0</td>\n",
       "      <td>1800000.0</td>\n",
       "    </tr>\n",
       "    <tr>\n",
       "      <td>59626.0</td>\n",
       "      <td>2300000.0</td>\n",
       "    </tr>\n",
       "    <tr>\n",
       "      <td>54926.0</td>\n",
       "      <td>8400000.0</td>\n",
       "    </tr>\n",
       "    <tr>\n",
       "      <td>54490.0</td>\n",
       "      <td>10965000.0</td>\n",
       "    </tr>\n",
       "    <tr>\n",
       "      <td>54214.0</td>\n",
       "      <td>2950000.0</td>\n",
       "    </tr>\n",
       "  </tbody>\n",
       "</table>\n",
       "</div>"
      ],
      "text/plain": [
       "                         median\n",
       "cityCenters_nearest            \n",
       "65968.0               4200000.0\n",
       "65105.0               3300000.0\n",
       "64857.0               3650000.0\n",
       "62454.0               3200000.0\n",
       "61495.0               3200000.0\n",
       "60223.0               1800000.0\n",
       "59626.0               2300000.0\n",
       "54926.0               8400000.0\n",
       "54490.0              10965000.0\n",
       "54214.0               2950000.0"
      ]
     },
     "execution_count": 59,
     "metadata": {},
     "output_type": "execute_result"
    }
   ],
   "source": [
    "# Создадим сводную таблицу\n",
    "price__cityCenters_nearest = good_df.pivot_table(index = 'cityCenters_nearest', \n",
    "                                  values = 'last_price', \n",
    "                                  aggfunc = ['median'])\n",
    "price__cityCenters_nearest.columns = ['median']\n",
    "\n",
    "price__cityCenters_nearest.sort_values('cityCenters_nearest', ascending = False).head(10)"
   ]
  },
  {
   "cell_type": "code",
   "execution_count": 60,
   "metadata": {},
   "outputs": [
    {
     "data": {
      "text/plain": [
       "-0.35846589494025827"
      ]
     },
     "execution_count": 60,
     "metadata": {},
     "output_type": "execute_result"
    },
    {
     "data": {
      "image/png": "[encoded data removed]",
      "text/plain": [
       "<Figure size 576x360 with 2 Axes>"
      ]
     },
     "metadata": {
      "needs_background": "light"
     },
     "output_type": "display_data"
    }
   ],
   "source": [
    "# Построим график зависимости\n",
    "good_df.plot(x='cityCenters_nearest', y='last_price', kind='hexbin', gridsize=20, figsize=(8, 5), sharex=False, grid=True, title= 'Зависимость стоимости квартиры от расстояния до центра') \n",
    "# Рассчитаем коэффициент корреляции Пирсона\n",
    "good_df['cityCenters_nearest'].corr(good_df['last_price'])"
   ]
  },
  {
   "cell_type": "code",
   "execution_count": 61,
   "metadata": {},
   "outputs": [
    {
     "data": {
      "text/plain": [
       "-0.4033941166356375"
      ]
     },
     "execution_count": 61,
     "metadata": {},
     "output_type": "execute_result"
    }
   ],
   "source": [
    "# Рассчитаем коэффициент корреляции Пирсона для стоимости 1 кв.м.\n",
    "good_df['cityCenters_nearest'].corr(good_df['price_meter'])"
   ]
  },
  {
   "cell_type": "markdown",
   "metadata": {},
   "source": [
    "Зависимость имеется, но незначительная. Частотность на графике сосредоточена в диапазоне 10-20 км от центра по цене от 3 до 7 млн. Квартиры ближе к центру стоят в основном от 6 млн. и выше.\n",
    "Коэффициент корреляции отрицательный, - 0,36, указывает на то, что в довольно невысокой степени квартиры, которые ближе к центру стоят дороже.\n",
    "Цена за 1 кв.м. также отрицательно, немного сильнее, коррелирует с расстоянием до центра, подтверждая, что чем меньше расстояние до центра, тем выше цена за 1 кв.м. и квартиры в целом.\n",
    "###### Чем меньше расстояние до центра, тем, в заметной, но в небольшой степени, дороже квартира."
   ]
  },
  {
   "cell_type": "markdown",
   "metadata": {},
   "source": [
    "###### Зависимость цены квартиры от этажа ее расположения"
   ]
  },
  {
   "cell_type": "code",
   "execution_count": 62,
   "metadata": {},
   "outputs": [
    {
     "data": {
      "text/html": [
       "<div>\n",
       "<style scoped>\n",
       "    .dataframe tbody tr th:only-of-type {\n",
       "        vertical-align: middle;\n",
       "    }\n",
       "\n",
       "    .dataframe tbody tr th {\n",
       "        vertical-align: top;\n",
       "    }\n",
       "\n",
       "    .dataframe thead th {\n",
       "        text-align: right;\n",
       "    }\n",
       "</style>\n",
       "<table border=\"1\" class=\"dataframe\">\n",
       "  <thead>\n",
       "    <tr style=\"text-align: right;\">\n",
       "      <th></th>\n",
       "      <th>count</th>\n",
       "      <th>median</th>\n",
       "    </tr>\n",
       "    <tr>\n",
       "      <th>floor_category</th>\n",
       "      <th></th>\n",
       "      <th></th>\n",
       "    </tr>\n",
       "  </thead>\n",
       "  <tbody>\n",
       "    <tr>\n",
       "      <td>другой</td>\n",
       "      <td>11128</td>\n",
       "      <td>4500000.0</td>\n",
       "    </tr>\n",
       "    <tr>\n",
       "      <td>последний</td>\n",
       "      <td>2114</td>\n",
       "      <td>4000000.0</td>\n",
       "    </tr>\n",
       "    <tr>\n",
       "      <td>первый</td>\n",
       "      <td>2038</td>\n",
       "      <td>3750000.0</td>\n",
       "    </tr>\n",
       "  </tbody>\n",
       "</table>\n",
       "</div>"
      ],
      "text/plain": [
       "                count     median\n",
       "floor_category                  \n",
       "другой          11128  4500000.0\n",
       "последний        2114  4000000.0\n",
       "первый           2038  3750000.0"
      ]
     },
     "execution_count": 62,
     "metadata": {},
     "output_type": "execute_result"
    }
   ],
   "source": [
    "# Создадим сводную таблицу\n",
    "price__floor = good_df.pivot_table(index = 'floor_category', \n",
    "                                  values = 'last_price', \n",
    "                                  aggfunc = ['count', 'median'])\n",
    "price__floor.columns = ['count', 'median']\n",
    "\n",
    "price__floor.sort_values('median', ascending = False).head(10)"
   ]
  },
  {
   "cell_type": "code",
   "execution_count": 63,
   "metadata": {},
   "outputs": [
    {
     "data": {
      "text/plain": [
       "0.13006674506623225"
      ]
     },
     "execution_count": 63,
     "metadata": {},
     "output_type": "execute_result"
    },
    {
     "data": {
      "image/png": "[encoded data removed]",
      "text/plain": [
       "<Figure size 720x216 with 1 Axes>"
      ]
     },
     "metadata": {
      "needs_background": "light"
     },
     "output_type": "display_data"
    }
   ],
   "source": [
    "# Построим график зависимости\n",
    "price__floor.plot(y='median', kind = 'bar', grid=True, figsize=(10,3), title= 'Зависимость стоимости квартиры от этажа расположения') \n",
    "# Рассчитаем коэффициент корреляции Пирсона\n",
    "good_df['floor'].corr(good_df['last_price'])"
   ]
  },
  {
   "cell_type": "code",
   "execution_count": 64,
   "metadata": {},
   "outputs": [
    {
     "data": {
      "text/plain": [
       "0.249735200468472"
      ]
     },
     "execution_count": 64,
     "metadata": {},
     "output_type": "execute_result"
    }
   ],
   "source": [
    "# Рассчитаем коэффициент корреляции Пирсона для стоимости 1 кв.м.\n",
    "good_df['floor'].corr(good_df['price_meter'])"
   ]
  },
  {
   "cell_type": "markdown",
   "metadata": {},
   "source": [
    "Имеется очень слабая зависимость цены квартиры от этажа, на котором она расположена. Таблица и график однозначно указывают, что первый и последний этажи стоят несколько дешевле других.\n",
    "Коэффициент корреляции слабо положительный, подтверждает слабую зависимость цены квартиры от этажа.\n",
    "Цена за 1 кв.м. также положительно слабо коррелирует с этажом, на котором расположена квартира.\n",
    "###### Этаж, на котором расположена квартира практически не влияет на ее цену."
   ]
  },
  {
   "cell_type": "markdown",
   "metadata": {},
   "source": [
    "###### Зависимость цены квартиры от даты  размещения объявления"
   ]
  },
  {
   "cell_type": "code",
   "execution_count": 65,
   "metadata": {},
   "outputs": [
    {
     "data": {
      "text/html": [
       "<div>\n",
       "<style scoped>\n",
       "    .dataframe tbody tr th:only-of-type {\n",
       "        vertical-align: middle;\n",
       "    }\n",
       "\n",
       "    .dataframe tbody tr th {\n",
       "        vertical-align: top;\n",
       "    }\n",
       "\n",
       "    .dataframe thead th {\n",
       "        text-align: right;\n",
       "    }\n",
       "</style>\n",
       "<table border=\"1\" class=\"dataframe\">\n",
       "  <thead>\n",
       "    <tr style=\"text-align: right;\">\n",
       "      <th></th>\n",
       "      <th>count</th>\n",
       "      <th>median</th>\n",
       "    </tr>\n",
       "    <tr>\n",
       "      <th>weekday</th>\n",
       "      <th></th>\n",
       "      <th></th>\n",
       "    </tr>\n",
       "  </thead>\n",
       "  <tbody>\n",
       "    <tr>\n",
       "      <td>среда</td>\n",
       "      <td>2800</td>\n",
       "      <td>4400000.0</td>\n",
       "    </tr>\n",
       "    <tr>\n",
       "      <td>понедельник</td>\n",
       "      <td>2645</td>\n",
       "      <td>4390000.0</td>\n",
       "    </tr>\n",
       "    <tr>\n",
       "      <td>четверг</td>\n",
       "      <td>2644</td>\n",
       "      <td>4300000.0</td>\n",
       "    </tr>\n",
       "    <tr>\n",
       "      <td>вторник</td>\n",
       "      <td>2517</td>\n",
       "      <td>4350000.0</td>\n",
       "    </tr>\n",
       "    <tr>\n",
       "      <td>пятница</td>\n",
       "      <td>1290</td>\n",
       "      <td>4300000.0</td>\n",
       "    </tr>\n",
       "    <tr>\n",
       "      <td>суббота</td>\n",
       "      <td>1094</td>\n",
       "      <td>4279000.0</td>\n",
       "    </tr>\n",
       "  </tbody>\n",
       "</table>\n",
       "</div>"
      ],
      "text/plain": [
       "             count     median\n",
       "weekday                      \n",
       "среда         2800  4400000.0\n",
       "понедельник   2645  4390000.0\n",
       "четверг       2644  4300000.0\n",
       "вторник       2517  4350000.0\n",
       "пятница       1290  4300000.0\n",
       "суббота       1094  4279000.0"
      ]
     },
     "execution_count": 65,
     "metadata": {},
     "output_type": "execute_result"
    }
   ],
   "source": [
    "# Создадим сводную таблицу\n",
    "price__weekday = good_df.pivot_table(index = 'weekday', \n",
    "                                  values = 'last_price', \n",
    "                                  aggfunc = ['count', 'median'])\n",
    "price__weekday.columns = ['count', 'median']\n",
    "\n",
    "price__weekday.sort_values('count', ascending = False)"
   ]
  },
  {
   "cell_type": "code",
   "execution_count": 66,
   "metadata": {},
   "outputs": [
    {
     "data": {
      "text/html": [
       "<div>\n",
       "<style scoped>\n",
       "    .dataframe tbody tr th:only-of-type {\n",
       "        vertical-align: middle;\n",
       "    }\n",
       "\n",
       "    .dataframe tbody tr th {\n",
       "        vertical-align: top;\n",
       "    }\n",
       "\n",
       "    .dataframe thead th {\n",
       "        text-align: right;\n",
       "    }\n",
       "</style>\n",
       "<table border=\"1\" class=\"dataframe\">\n",
       "  <thead>\n",
       "    <tr style=\"text-align: right;\">\n",
       "      <th></th>\n",
       "      <th>count</th>\n",
       "      <th>median</th>\n",
       "    </tr>\n",
       "    <tr>\n",
       "      <th>month</th>\n",
       "      <th></th>\n",
       "      <th></th>\n",
       "    </tr>\n",
       "  </thead>\n",
       "  <tbody>\n",
       "    <tr>\n",
       "      <td>2</td>\n",
       "      <td>1776</td>\n",
       "      <td>4350000.0</td>\n",
       "    </tr>\n",
       "    <tr>\n",
       "      <td>11</td>\n",
       "      <td>1434</td>\n",
       "      <td>4450000.0</td>\n",
       "    </tr>\n",
       "    <tr>\n",
       "      <td>3</td>\n",
       "      <td>1394</td>\n",
       "      <td>4300000.0</td>\n",
       "    </tr>\n",
       "    <tr>\n",
       "      <td>10</td>\n",
       "      <td>1392</td>\n",
       "      <td>4400000.0</td>\n",
       "    </tr>\n",
       "    <tr>\n",
       "      <td>6</td>\n",
       "      <td>1323</td>\n",
       "      <td>4200000.0</td>\n",
       "    </tr>\n",
       "    <tr>\n",
       "      <td>9</td>\n",
       "      <td>1323</td>\n",
       "      <td>4400000.0</td>\n",
       "    </tr>\n",
       "    <tr>\n",
       "      <td>7</td>\n",
       "      <td>1196</td>\n",
       "      <td>4350000.0</td>\n",
       "    </tr>\n",
       "    <tr>\n",
       "      <td>12</td>\n",
       "      <td>1193</td>\n",
       "      <td>4400000.0</td>\n",
       "    </tr>\n",
       "    <tr>\n",
       "      <td>8</td>\n",
       "      <td>1180</td>\n",
       "      <td>4350000.0</td>\n",
       "    </tr>\n",
       "    <tr>\n",
       "      <td>4</td>\n",
       "      <td>1143</td>\n",
       "      <td>4300000.0</td>\n",
       "    </tr>\n",
       "    <tr>\n",
       "      <td>5</td>\n",
       "      <td>971</td>\n",
       "      <td>4300000.0</td>\n",
       "    </tr>\n",
       "    <tr>\n",
       "      <td>1</td>\n",
       "      <td>955</td>\n",
       "      <td>4300000.0</td>\n",
       "    </tr>\n",
       "  </tbody>\n",
       "</table>\n",
       "</div>"
      ],
      "text/plain": [
       "       count     median\n",
       "month                  \n",
       "2       1776  4350000.0\n",
       "11      1434  4450000.0\n",
       "3       1394  4300000.0\n",
       "10      1392  4400000.0\n",
       "6       1323  4200000.0\n",
       "9       1323  4400000.0\n",
       "7       1196  4350000.0\n",
       "12      1193  4400000.0\n",
       "8       1180  4350000.0\n",
       "4       1143  4300000.0\n",
       "5        971  4300000.0\n",
       "1        955  4300000.0"
      ]
     },
     "execution_count": 66,
     "metadata": {},
     "output_type": "execute_result"
    }
   ],
   "source": [
    "# Создадим сводную таблицу\n",
    "price__month = good_df.pivot_table(index = 'month', \n",
    "                                  values = 'last_price', \n",
    "                                  aggfunc = ['count', 'median'])\n",
    "price__month.columns = ['count', 'median']\n",
    "\n",
    "price__month.sort_values('count', ascending = False)"
   ]
  },
  {
   "cell_type": "code",
   "execution_count": 67,
   "metadata": {},
   "outputs": [
    {
     "data": {
      "text/html": [
       "<div>\n",
       "<style scoped>\n",
       "    .dataframe tbody tr th:only-of-type {\n",
       "        vertical-align: middle;\n",
       "    }\n",
       "\n",
       "    .dataframe tbody tr th {\n",
       "        vertical-align: top;\n",
       "    }\n",
       "\n",
       "    .dataframe thead th {\n",
       "        text-align: right;\n",
       "    }\n",
       "</style>\n",
       "<table border=\"1\" class=\"dataframe\">\n",
       "  <thead>\n",
       "    <tr style=\"text-align: right;\">\n",
       "      <th></th>\n",
       "      <th>count</th>\n",
       "      <th>median</th>\n",
       "    </tr>\n",
       "    <tr>\n",
       "      <th>year</th>\n",
       "      <th></th>\n",
       "      <th></th>\n",
       "    </tr>\n",
       "  </thead>\n",
       "  <tbody>\n",
       "    <tr>\n",
       "      <td>2017</td>\n",
       "      <td>6075</td>\n",
       "      <td>4300000.0</td>\n",
       "    </tr>\n",
       "    <tr>\n",
       "      <td>2018</td>\n",
       "      <td>5422</td>\n",
       "      <td>4350000.0</td>\n",
       "    </tr>\n",
       "    <tr>\n",
       "      <td>2016</td>\n",
       "      <td>2345</td>\n",
       "      <td>4300000.0</td>\n",
       "    </tr>\n",
       "    <tr>\n",
       "      <td>2015</td>\n",
       "      <td>953</td>\n",
       "      <td>4850000.0</td>\n",
       "    </tr>\n",
       "    <tr>\n",
       "      <td>2019</td>\n",
       "      <td>405</td>\n",
       "      <td>4700000.0</td>\n",
       "    </tr>\n",
       "    <tr>\n",
       "      <td>2014</td>\n",
       "      <td>80</td>\n",
       "      <td>5375000.0</td>\n",
       "    </tr>\n",
       "  </tbody>\n",
       "</table>\n",
       "</div>"
      ],
      "text/plain": [
       "      count     median\n",
       "year                  \n",
       "2017   6075  4300000.0\n",
       "2018   5422  4350000.0\n",
       "2016   2345  4300000.0\n",
       "2015    953  4850000.0\n",
       "2019    405  4700000.0\n",
       "2014     80  5375000.0"
      ]
     },
     "execution_count": 67,
     "metadata": {},
     "output_type": "execute_result"
    }
   ],
   "source": [
    "# Создадим сводную таблицу\n",
    "price__year = good_df.pivot_table(index = 'year', \n",
    "                                  values = 'last_price', \n",
    "                                  aggfunc = ['count', 'median'])\n",
    "price__year.columns = ['count', 'median']\n",
    "\n",
    "price__year.sort_values('count', ascending = False).head(10)"
   ]
  },
  {
   "cell_type": "code",
   "execution_count": 68,
   "metadata": {},
   "outputs": [
    {
     "data": {
      "image/png": "[encoded data removed]",
      "text/plain": [
       "<Figure size 360x360 with 1 Axes>"
      ]
     },
     "metadata": {
      "needs_background": "light"
     },
     "output_type": "display_data"
    },
    {
     "data": {
      "image/png": "[encoded data removed]",
      "text/plain": [
       "<Figure size 360x360 with 1 Axes>"
      ]
     },
     "metadata": {
      "needs_background": "light"
     },
     "output_type": "display_data"
    },
    {
     "data": {
      "image/png": "[encoded data removed]",
      "text/plain": [
       "<Figure size 360x360 with 1 Axes>"
      ]
     },
     "metadata": {
      "needs_background": "light"
     },
     "output_type": "display_data"
    }
   ],
   "source": [
    "# Построим диаграммы размаха\n",
    "for column in ['weekday', 'month', 'year']:\n",
    "    sns.catplot(x=column, y=\"last_price\", kind=\"box\", data=good_df, palette='husl')"
   ]
  },
  {
   "cell_type": "markdown",
   "metadata": {},
   "source": [
    "День недели, в который размещено объявление о продаже, не оказывает влияния непосредственно на цену квартиры. Любопытно, что большинство продаж приходится на объявления, размещенные в будние дни. По объявлениям, размещенным в пятницу и субботу число продаж сокращается вдвое (воскресенье мы, очевидно, потеряли вместе с аномальными данными). Вероятно это связано с тем, что в нашем социуме принято заниматься делами предпочтительно в будние дни, а пятница и суббота - это святое время отдыха от всех забот (по возможности, конечно).  \n",
    "###### День недели, в который размещено объявление не влияет на стоимость квартиры, но влияет на число сделок, в будни квартиры продаются чаще (особенно по средам).\n",
    "Месяц, в который размещено объявление о продаже, также не оказывает заметного влияния непосредственно на цену квартиры. В разные месяца незначительно изменяется число продаж. Максимальные продажи приходятся на февраль, ноябрь и март. Почти в 2 раза реже, в сравнении с ноябрем, квартиры покупаются в январе и мае (что и понятно, сплошные праздники).\n",
    "###### Месяц, в который размещено объявление не влияет на стоимость квартиры, но слабо влияет на число сделок, в феврале и ноябре квартиры продаются чаще,  в январе и мае низкая активность купли-продажи квартир.\n",
    "Год, в который размещено объявление о продаже, влияет на цену квартиры. От 2014 к 2019 годам изменение цен на квартиры можно описать параболой. Максимальные цены приходятся на 2014 год, затем идет плавное снижение и плавный рост цен к  2019. Цены в 2019 году ниже, чем в 2014. Очевидно, это связано с ростом предложения на рынке, в целом число продаж меняется в обратной зависимости от цены. Наверняка еще очень многие факторы сыграли свою роль на изменение цен на квартиры в разные годы. Например, пандемия-2020 и меры, принимаемые правительством, привели к значительному росту цен на недвижимость (небывало низкий процент ипотечного кредита - большой спрос - большая цена).\n",
    "###### В разные годы цены на квартиры меняются, что связано с целым комплексом факторов."
   ]
  },
  {
   "cell_type": "markdown",
   "metadata": {},
   "source": [
    "###### Стоимость квартиры в разной степени зависит от общей площади, числа комнат и удаленности от центра. Этаж расположения квартиры и дата размещения объявления о ее продаже не оказывают выраженного влияния на цену квартиры."
   ]
  },
  {
   "cell_type": "code",
   "execution_count": 69,
   "metadata": {},
   "outputs": [
    {
     "data": {
      "image/png": "[encoded data removed]",
      "text/plain": [
       "<Figure size 432x288 with 2 Axes>"
      ]
     },
     "metadata": {
      "needs_background": "light"
     },
     "output_type": "display_data"
    }
   ],
   "source": [
    "df2 = pd.DataFrame(good_df,columns=['total_area','rooms','floor', 'cityCenters_nearest', 'last_price'])\n",
    "\n",
    "corrMatrix = df2.corr()\n",
    "sns.heatmap(corrMatrix, annot=True)\n",
    "plt.show()"
   ]
  },
  {
   "cell_type": "markdown",
   "metadata": {},
   "source": [
    "### Населенные пункты с наибольшим числом предложений о продаже квартир"
   ]
  },
  {
   "cell_type": "code",
   "execution_count": 70,
   "metadata": {},
   "outputs": [
    {
     "data": {
      "text/html": [
       "<div>\n",
       "<style scoped>\n",
       "    .dataframe tbody tr th:only-of-type {\n",
       "        vertical-align: middle;\n",
       "    }\n",
       "\n",
       "    .dataframe tbody tr th {\n",
       "        vertical-align: top;\n",
       "    }\n",
       "\n",
       "    .dataframe thead th {\n",
       "        text-align: right;\n",
       "    }\n",
       "</style>\n",
       "<table border=\"1\" class=\"dataframe\">\n",
       "  <thead>\n",
       "    <tr style=\"text-align: right;\">\n",
       "      <th></th>\n",
       "      <th>count</th>\n",
       "      <th>median</th>\n",
       "    </tr>\n",
       "    <tr>\n",
       "      <th>locality_name</th>\n",
       "      <th></th>\n",
       "      <th></th>\n",
       "    </tr>\n",
       "  </thead>\n",
       "  <tbody>\n",
       "    <tr>\n",
       "      <td>санкт-петербург</td>\n",
       "      <td>9600</td>\n",
       "      <td>100977.198697</td>\n",
       "    </tr>\n",
       "    <tr>\n",
       "      <td>поселок мурино</td>\n",
       "      <td>434</td>\n",
       "      <td>85697.390514</td>\n",
       "    </tr>\n",
       "    <tr>\n",
       "      <td>поселок шушары</td>\n",
       "      <td>333</td>\n",
       "      <td>75723.830735</td>\n",
       "    </tr>\n",
       "    <tr>\n",
       "      <td>всеволожск</td>\n",
       "      <td>299</td>\n",
       "      <td>66173.285199</td>\n",
       "    </tr>\n",
       "    <tr>\n",
       "      <td>деревня кудрово</td>\n",
       "      <td>247</td>\n",
       "      <td>91860.465116</td>\n",
       "    </tr>\n",
       "    <tr>\n",
       "      <td>поселок парголово</td>\n",
       "      <td>244</td>\n",
       "      <td>91337.283565</td>\n",
       "    </tr>\n",
       "    <tr>\n",
       "      <td>колпино</td>\n",
       "      <td>238</td>\n",
       "      <td>73356.086462</td>\n",
       "    </tr>\n",
       "    <tr>\n",
       "      <td>пушкин</td>\n",
       "      <td>235</td>\n",
       "      <td>97451.274363</td>\n",
       "    </tr>\n",
       "    <tr>\n",
       "      <td>гатчина</td>\n",
       "      <td>224</td>\n",
       "      <td>66666.666667</td>\n",
       "    </tr>\n",
       "    <tr>\n",
       "      <td>выборг</td>\n",
       "      <td>182</td>\n",
       "      <td>56742.424242</td>\n",
       "    </tr>\n",
       "  </tbody>\n",
       "</table>\n",
       "</div>"
      ],
      "text/plain": [
       "                   count         median\n",
       "locality_name                          \n",
       "санкт-петербург     9600  100977.198697\n",
       "поселок мурино       434   85697.390514\n",
       "поселок шушары       333   75723.830735\n",
       "всеволожск           299   66173.285199\n",
       "деревня кудрово      247   91860.465116\n",
       "поселок парголово    244   91337.283565\n",
       "колпино              238   73356.086462\n",
       "пушкин               235   97451.274363\n",
       "гатчина              224   66666.666667\n",
       "выборг               182   56742.424242"
      ]
     },
     "execution_count": 70,
     "metadata": {},
     "output_type": "execute_result"
    }
   ],
   "source": [
    "#Создадим сводную таблицу, получим топ-10 населеннных пунктов с наибольшим рынком недвижимости\n",
    "median_locality_name_price = good_df.pivot_table(index='locality_name', values= 'price_meter', aggfunc=['count', 'median'])\n",
    "median_locality_name_price.columns = ['count', 'median']\n",
    "median_locality_name_price.sort_values('count', ascending=False).head(10)"
   ]
  },
  {
   "cell_type": "markdown",
   "metadata": {},
   "source": [
    "###### Самая высокая цена за 1 кв.м. площади квартир - в г. Санкт- Петербурге (вполне ожидаемо), самая низкая (в топе-10 популярных мест жительства в Ленинградской области) - в Выборге."
   ]
  },
  {
   "cell_type": "markdown",
   "metadata": {},
   "source": [
    "### Определение границ центральной зоны Санкт-Петербурга"
   ]
  },
  {
   "cell_type": "code",
   "execution_count": 71,
   "metadata": {},
   "outputs": [
    {
     "name": "stderr",
     "output_type": "stream",
     "text": [
      "/opt/conda/lib/python3.7/site-packages/ipykernel_launcher.py:2: SettingWithCopyWarning: \n",
      "A value is trying to be set on a copy of a slice from a DataFrame.\n",
      "Try using .loc[row_indexer,col_indexer] = value instead\n",
      "\n",
      "See the caveats in the documentation: http://pandas.pydata.org/pandas-docs/stable/user_guide/indexing.html#returning-a-view-versus-a-copy\n",
      "  \n",
      "/opt/conda/lib/python3.7/site-packages/ipykernel_launcher.py:3: SettingWithCopyWarning: \n",
      "A value is trying to be set on a copy of a slice from a DataFrame.\n",
      "Try using .loc[row_indexer,col_indexer] = value instead\n",
      "\n",
      "See the caveats in the documentation: http://pandas.pydata.org/pandas-docs/stable/user_guide/indexing.html#returning-a-view-versus-a-copy\n",
      "  This is separate from the ipykernel package so we can avoid doing imports until\n"
     ]
    }
   ],
   "source": [
    "# Сохраним в новом столбце переведенное в км растояние до центра, округлим, изменим тип данных на целочисленный\n",
    "good_df['centers_km'] = good_df['cityCenters_nearest'] / 1000\n",
    "good_df['centers_km'] = good_df['centers_km'].round(0).astype('int', errors='ignore')\n",
    "#good_df.head()"
   ]
  },
  {
   "cell_type": "code",
   "execution_count": 72,
   "metadata": {},
   "outputs": [
    {
     "data": {
      "text/html": [
       "<div>\n",
       "<style scoped>\n",
       "    .dataframe tbody tr th:only-of-type {\n",
       "        vertical-align: middle;\n",
       "    }\n",
       "\n",
       "    .dataframe tbody tr th {\n",
       "        vertical-align: top;\n",
       "    }\n",
       "\n",
       "    .dataframe thead th {\n",
       "        text-align: right;\n",
       "    }\n",
       "</style>\n",
       "<table border=\"1\" class=\"dataframe\">\n",
       "  <thead>\n",
       "    <tr style=\"text-align: right;\">\n",
       "      <th></th>\n",
       "      <th>last_price</th>\n",
       "      <th>price_meter</th>\n",
       "    </tr>\n",
       "    <tr>\n",
       "      <th>centers_km</th>\n",
       "      <th></th>\n",
       "      <th></th>\n",
       "    </tr>\n",
       "  </thead>\n",
       "  <tbody>\n",
       "    <tr>\n",
       "      <td>0.0</td>\n",
       "      <td>7600000.0</td>\n",
       "      <td>109031.632653</td>\n",
       "    </tr>\n",
       "    <tr>\n",
       "      <td>1.0</td>\n",
       "      <td>8500000.0</td>\n",
       "      <td>113247.863248</td>\n",
       "    </tr>\n",
       "    <tr>\n",
       "      <td>2.0</td>\n",
       "      <td>7800000.0</td>\n",
       "      <td>108333.333333</td>\n",
       "    </tr>\n",
       "    <tr>\n",
       "      <td>3.0</td>\n",
       "      <td>7200000.0</td>\n",
       "      <td>102040.816327</td>\n",
       "    </tr>\n",
       "    <tr>\n",
       "      <td>4.0</td>\n",
       "      <td>7500000.0</td>\n",
       "      <td>109519.241019</td>\n",
       "    </tr>\n",
       "    <tr>\n",
       "      <td>5.0</td>\n",
       "      <td>7405000.0</td>\n",
       "      <td>115324.392226</td>\n",
       "    </tr>\n",
       "    <tr>\n",
       "      <td>6.0</td>\n",
       "      <td>6830000.0</td>\n",
       "      <td>116291.470588</td>\n",
       "    </tr>\n",
       "    <tr>\n",
       "      <td>7.0</td>\n",
       "      <td>6350000.0</td>\n",
       "      <td>112774.451098</td>\n",
       "    </tr>\n",
       "    <tr>\n",
       "      <td>8.0</td>\n",
       "      <td>6300000.0</td>\n",
       "      <td>116316.564162</td>\n",
       "    </tr>\n",
       "    <tr>\n",
       "      <td>9.0</td>\n",
       "      <td>4925000.0</td>\n",
       "      <td>101437.018702</td>\n",
       "    </tr>\n",
       "    <tr>\n",
       "      <td>10.0</td>\n",
       "      <td>4800000.0</td>\n",
       "      <td>104524.892668</td>\n",
       "    </tr>\n",
       "    <tr>\n",
       "      <td>11.0</td>\n",
       "      <td>4800000.0</td>\n",
       "      <td>101208.657588</td>\n",
       "    </tr>\n",
       "  </tbody>\n",
       "</table>\n",
       "</div>"
      ],
      "text/plain": [
       "            last_price    price_meter\n",
       "centers_km                           \n",
       "0.0          7600000.0  109031.632653\n",
       "1.0          8500000.0  113247.863248\n",
       "2.0          7800000.0  108333.333333\n",
       "3.0          7200000.0  102040.816327\n",
       "4.0          7500000.0  109519.241019\n",
       "5.0          7405000.0  115324.392226\n",
       "6.0          6830000.0  116291.470588\n",
       "7.0          6350000.0  112774.451098\n",
       "8.0          6300000.0  116316.564162\n",
       "9.0          4925000.0  101437.018702\n",
       "10.0         4800000.0  104524.892668\n",
       "11.0         4800000.0  101208.657588"
      ]
     },
     "execution_count": 72,
     "metadata": {},
     "output_type": "execute_result"
    }
   ],
   "source": [
    "# Отсортирует данные для г. Санкт- Петербурга, создадим сводную таблицу, посчитаем среднюю цену за 1 кв м\n",
    "good_df.loc[(good_df['locality_name'] == 'санкт-петербург') \n",
    "              & (good_df['centers_km'].notna()), \n",
    "              'centers_km'].apply(round)\n",
    "spb_center1 = good_df.query('locality_name == \"санкт-петербург\"').pivot_table(index='centers_km', values=['price_meter', 'last_price'], aggfunc='median')\n",
    "spb_center1.head(12)"
   ]
  },
  {
   "cell_type": "code",
   "execution_count": 73,
   "metadata": {},
   "outputs": [
    {
     "data": {
      "text/plain": [
       "<matplotlib.axes._subplots.AxesSubplot at 0x7f60794fbcd0>"
      ]
     },
     "execution_count": 73,
     "metadata": {},
     "output_type": "execute_result"
    },
    {
     "data": {
      "image/png": "[encoded data removed]",
      "text/plain": [
       "<Figure size 648x288 with 1 Axes>"
      ]
     },
     "metadata": {
      "needs_background": "light"
     },
     "output_type": "display_data"
    }
   ],
   "source": [
    "spb_center2 = good_df.query('locality_name == \"санкт-петербург\"').pivot_table(index='centers_km', values=['last_price'], aggfunc='median')\n",
    "spb_center2.plot(y = 'last_price', kind = 'bar', grid=True, figsize=(9,4), title= 'Зависимость стоимости квартиры от расстояния до центра')"
   ]
  },
  {
   "cell_type": "markdown",
   "metadata": {},
   "source": [
    "###### График зависимости стоимости квартиры от расстояния до центра показывает, что резкая граница падения цены приходится на 8 км от центра. Таким образом, центральная зона Санкт- Петербурга включает в себя окружность диаметром 8 км."
   ]
  },
  {
   "cell_type": "markdown",
   "metadata": {},
   "source": [
    "### Исследование рынка недвижимости центральной зоны Санкт-Петербурга"
   ]
  },
  {
   "cell_type": "code",
   "execution_count": 74,
   "metadata": {},
   "outputs": [],
   "source": [
    "# Сделаем срез данных центральной зоны СПб\n",
    "spb_center = good_df.query('locality_name == \"санкт-петербург\" and cityCenters_nearest <= 8000')"
   ]
  },
  {
   "cell_type": "code",
   "execution_count": 75,
   "metadata": {},
   "outputs": [
    {
     "data": {
      "text/plain": [
       "1738"
      ]
     },
     "execution_count": 75,
     "metadata": {},
     "output_type": "execute_result"
    }
   ],
   "source": [
    "# Проверим, сколько строк\n",
    "spb_center.shape[0]"
   ]
  },
  {
   "cell_type": "markdown",
   "metadata": {},
   "source": [
    "######  Изучение основных данных центральной зоны: площадь, цена, число комнат, высота потолков. Зависимость стоимости квартиры в центре от основных факторов."
   ]
  },
  {
   "cell_type": "markdown",
   "metadata": {},
   "source": [
    "###### В срезе данных центральной зоны сохранены значения в пределах выделенной ранее нормы, соответственно там нормальное распределение данных.\n",
    "\n",
    "######  Посмотрим основные данные по каждому параметру, построим графики зависимости цены квартиры в центре СПб от площади, числа комнат, высоты потолков, этажа, удаленности от центра, даты размещения объявления."
   ]
  },
  {
   "cell_type": "markdown",
   "metadata": {},
   "source": [
    "Начнем с цен на квартиры."
   ]
  },
  {
   "cell_type": "code",
   "execution_count": 76,
   "metadata": {},
   "outputs": [
    {
     "data": {
      "text/plain": [
       "count    1.738000e+03\n",
       "mean     7.361844e+06\n",
       "std      2.147711e+06\n",
       "min      1.800000e+06\n",
       "25%      5.730321e+06\n",
       "50%      7.200000e+06\n",
       "75%      8.923816e+06\n",
       "max      1.199900e+07\n",
       "Name: last_price, dtype: float64"
      ]
     },
     "execution_count": 76,
     "metadata": {},
     "output_type": "execute_result"
    }
   ],
   "source": [
    "# Посмотрим основные данные по столбцам: ЦЕНА\n",
    "spb_center['last_price'].describe()"
   ]
  },
  {
   "cell_type": "code",
   "execution_count": 77,
   "metadata": {},
   "outputs": [
    {
     "data": {
      "image/png": "[encoded data removed]",
      "text/plain": [
       "<Figure size 432x288 with 1 Axes>"
      ]
     },
     "metadata": {
      "needs_background": "light"
     },
     "output_type": "display_data"
    }
   ],
   "source": [
    "# Построим диаграмму размаха: ЦЕНА\n",
    "sns.boxplot(spb_center['last_price'], color='tab:red')\n",
    "plt.title('Диаграмма размаха')\n",
    "plt.xlabel('Цена, 10 млн рублей')\n",
    "plt.show()"
   ]
  },
  {
   "cell_type": "markdown",
   "metadata": {},
   "source": [
    "Диапазон распространенных цен в центре превышает аналогичные значения в целом по городу и области и варьируется в пределах 5,5 - 9 млн. Выше порог минимальной цены, максимум ограничен выборкой - 12 млн, наверняка имеющиеся более высокие цены отброшены как редкие и выбивающиеся."
   ]
  },
  {
   "cell_type": "code",
   "execution_count": 78,
   "metadata": {},
   "outputs": [
    {
     "data": {
      "text/html": [
       "<div>\n",
       "<style scoped>\n",
       "    .dataframe tbody tr th:only-of-type {\n",
       "        vertical-align: middle;\n",
       "    }\n",
       "\n",
       "    .dataframe tbody tr th {\n",
       "        vertical-align: top;\n",
       "    }\n",
       "\n",
       "    .dataframe thead th {\n",
       "        text-align: right;\n",
       "    }\n",
       "</style>\n",
       "<table border=\"1\" class=\"dataframe\">\n",
       "  <thead>\n",
       "    <tr style=\"text-align: right;\">\n",
       "      <th></th>\n",
       "      <th>total_area</th>\n",
       "    </tr>\n",
       "  </thead>\n",
       "  <tbody>\n",
       "    <tr>\n",
       "      <td>count</td>\n",
       "      <td>1738.000000</td>\n",
       "    </tr>\n",
       "    <tr>\n",
       "      <td>mean</td>\n",
       "      <td>65.506703</td>\n",
       "    </tr>\n",
       "    <tr>\n",
       "      <td>std</td>\n",
       "      <td>21.276616</td>\n",
       "    </tr>\n",
       "    <tr>\n",
       "      <td>min</td>\n",
       "      <td>12.000000</td>\n",
       "    </tr>\n",
       "    <tr>\n",
       "      <td>25%</td>\n",
       "      <td>48.000000</td>\n",
       "    </tr>\n",
       "    <tr>\n",
       "      <td>50%</td>\n",
       "      <td>64.000000</td>\n",
       "    </tr>\n",
       "    <tr>\n",
       "      <td>75%</td>\n",
       "      <td>80.500000</td>\n",
       "    </tr>\n",
       "    <tr>\n",
       "      <td>max</td>\n",
       "      <td>119.600000</td>\n",
       "    </tr>\n",
       "  </tbody>\n",
       "</table>\n",
       "</div>"
      ],
      "text/plain": [
       "        total_area\n",
       "count  1738.000000\n",
       "mean     65.506703\n",
       "std      21.276616\n",
       "min      12.000000\n",
       "25%      48.000000\n",
       "50%      64.000000\n",
       "75%      80.500000\n",
       "max     119.600000"
      ]
     },
     "execution_count": 78,
     "metadata": {},
     "output_type": "execute_result"
    }
   ],
   "source": [
    "# Посмотрим основные данные по столбцам: ОБЩАЯ ПЛОЩАДЬ\n",
    "(spb_center[['total_area']].describe())"
   ]
  },
  {
   "cell_type": "code",
   "execution_count": 79,
   "metadata": {},
   "outputs": [
    {
     "data": {
      "image/png": "[encoded data removed]",
      "text/plain": [
       "<Figure size 432x288 with 1 Axes>"
      ]
     },
     "metadata": {
      "needs_background": "light"
     },
     "output_type": "display_data"
    }
   ],
   "source": [
    "# Построим диаграмму размаха: ОБЩАЯ ПЛОЩАДЬ\n",
    "sns.boxplot(spb_center['total_area'], color='lightsteelblue')\n",
    "plt.title('Диаграмма размаха')\n",
    "plt.xlabel('Общая площадь, кв. м')\n",
    "plt.show()"
   ]
  },
  {
   "cell_type": "markdown",
   "metadata": {},
   "source": [
    "###### В центральной зоне СПб площадь продаваемого жилья варьируется от 12 до 119,6 кв.м (диапазон выбранных ранее нормальных значений), основной диапазон площади продаваемых квартир 50 - 80 кв.м., в среднем площадь квартир равна 64 кв.м. В сравнении с данными по городу и области заметно увеличение частоты продаж в сторону покупки квартир большей  площади."
   ]
  },
  {
   "cell_type": "code",
   "execution_count": 80,
   "metadata": {},
   "outputs": [
    {
     "data": {
      "text/plain": [
       "0.7010222836004534"
      ]
     },
     "execution_count": 80,
     "metadata": {},
     "output_type": "execute_result"
    },
    {
     "data": {
      "image/png": "[encoded data removed]",
      "text/plain": [
       "<Figure size 576x360 with 2 Axes>"
      ]
     },
     "metadata": {
      "needs_background": "light"
     },
     "output_type": "display_data"
    }
   ],
   "source": [
    "#Построим график зависимости ЦЕНЫ квартиры в центре СПб от ОБЩЕЙ ПЛОЩАДИ\n",
    "spb_center.plot(x='total_area', y='last_price', kind='hexbin', gridsize=20, figsize=(8, 5), sharex=False, grid=True, title= 'Зависимость стоимости квартиры в центре от общей площади') \n",
    "# Рассчитаем коэффициент корреляции Пирсона\n",
    "spb_center['total_area'].corr(good_df['last_price'])"
   ]
  },
  {
   "cell_type": "markdown",
   "metadata": {},
   "source": [
    "Частотность на графике сосредоточена в диапазоне квартир площадью 30-100 кв.м по цене 3,5 - 12 млн. Коэффициент корреляции 0,7 довольно высок, в центре СПб с увеличением общей площади квартиры растет цена квартиры.\n",
    "В сравнении с общими по городу и области данными заметно увеличение продаж в сторону квартир с большей площадью, выше и цена."
   ]
  },
  {
   "cell_type": "code",
   "execution_count": 81,
   "metadata": {},
   "outputs": [
    {
     "data": {
      "text/html": [
       "<div>\n",
       "<style scoped>\n",
       "    .dataframe tbody tr th:only-of-type {\n",
       "        vertical-align: middle;\n",
       "    }\n",
       "\n",
       "    .dataframe tbody tr th {\n",
       "        vertical-align: top;\n",
       "    }\n",
       "\n",
       "    .dataframe thead th {\n",
       "        text-align: right;\n",
       "    }\n",
       "</style>\n",
       "<table border=\"1\" class=\"dataframe\">\n",
       "  <thead>\n",
       "    <tr style=\"text-align: right;\">\n",
       "      <th></th>\n",
       "      <th>rooms</th>\n",
       "    </tr>\n",
       "  </thead>\n",
       "  <tbody>\n",
       "    <tr>\n",
       "      <td>count</td>\n",
       "      <td>1738.000000</td>\n",
       "    </tr>\n",
       "    <tr>\n",
       "      <td>mean</td>\n",
       "      <td>2.302647</td>\n",
       "    </tr>\n",
       "    <tr>\n",
       "      <td>std</td>\n",
       "      <td>0.984277</td>\n",
       "    </tr>\n",
       "    <tr>\n",
       "      <td>min</td>\n",
       "      <td>0.000000</td>\n",
       "    </tr>\n",
       "    <tr>\n",
       "      <td>25%</td>\n",
       "      <td>2.000000</td>\n",
       "    </tr>\n",
       "    <tr>\n",
       "      <td>50%</td>\n",
       "      <td>2.000000</td>\n",
       "    </tr>\n",
       "    <tr>\n",
       "      <td>75%</td>\n",
       "      <td>3.000000</td>\n",
       "    </tr>\n",
       "    <tr>\n",
       "      <td>max</td>\n",
       "      <td>5.000000</td>\n",
       "    </tr>\n",
       "  </tbody>\n",
       "</table>\n",
       "</div>"
      ],
      "text/plain": [
       "             rooms\n",
       "count  1738.000000\n",
       "mean      2.302647\n",
       "std       0.984277\n",
       "min       0.000000\n",
       "25%       2.000000\n",
       "50%       2.000000\n",
       "75%       3.000000\n",
       "max       5.000000"
      ]
     },
     "execution_count": 81,
     "metadata": {},
     "output_type": "execute_result"
    }
   ],
   "source": [
    "# Посмотрим основные данные по столбцам: КОЛИЧЕСТВО КОМНАТ\n",
    "(spb_center[['rooms']].describe())"
   ]
  },
  {
   "cell_type": "code",
   "execution_count": 82,
   "metadata": {},
   "outputs": [
    {
     "data": {
      "image/png": "[encoded data removed]",
      "text/plain": [
       "<Figure size 432x288 with 1 Axes>"
      ]
     },
     "metadata": {
      "needs_background": "light"
     },
     "output_type": "display_data"
    }
   ],
   "source": [
    "# Построим диаграмму размаха: КОЛИЧЕСТВО КОМНАТ\n",
    "sns.boxplot(spb_center['rooms'], color='tab:cyan')\n",
    "plt.title('Диаграмма размаха')\n",
    "plt.xlabel('Число комнат, шт.')\n",
    "plt.show()"
   ]
  },
  {
   "cell_type": "code",
   "execution_count": 83,
   "metadata": {},
   "outputs": [
    {
     "data": {
      "text/plain": [
       "0.44211728512727166"
      ]
     },
     "execution_count": 83,
     "metadata": {},
     "output_type": "execute_result"
    },
    {
     "data": {
      "image/png": "[encoded data removed]",
      "text/plain": [
       "<Figure size 576x360 with 2 Axes>"
      ]
     },
     "metadata": {
      "needs_background": "light"
     },
     "output_type": "display_data"
    }
   ],
   "source": [
    "#Построим график зависимости ЦЕНЫ квартиры в центре СПб от КОЛИЧЕСТВА КОМНАТ \n",
    "spb_center.plot(x='rooms', y='last_price', kind='hexbin', gridsize=20, figsize=(8, 5), sharex=False, grid=True, title= 'Зависимость стоимости квартиры в центре от количества комнат') \n",
    "# Рассчитаем коэффициент корреляции Пирсона\n",
    "spb_center['rooms'].corr(good_df['last_price'])"
   ]
  },
  {
   "cell_type": "code",
   "execution_count": 84,
   "metadata": {},
   "outputs": [
    {
     "data": {
      "text/plain": [
       "-0.5397001148317913"
      ]
     },
     "execution_count": 84,
     "metadata": {},
     "output_type": "execute_result"
    }
   ],
   "source": [
    "# Рассчитаем коэффициент корреляции Пирсона для стоимости 1 кв.м. в центре СПб\n",
    "spb_center['rooms'].corr(good_df['price_meter'])"
   ]
  },
  {
   "cell_type": "markdown",
   "metadata": {},
   "source": [
    "Частотность на графике сосредоточена в диапазонах: 1-комнатные за 3,5 - 8 млн., 2-комнатные за 4,5 - 10 млн., 3- комнатные за 5,5 - 12 млн., реже 4- комнатные 7 - 12 млн., еще реже 5- комнатные 7,5 - 12 млн. Наиболее популярны 2-3 комнатные квартиры (в целом по городу и области - 1-2 комнатные). Коэффициент корреляции положителен, 0,44, зависимость относительно невысока. \n",
    "Стоимость одного кв.м. отрицательно коррелирует с количеством комнат: в 2,5 раза сильнее, чем для квартир в целом по городу и области, в центре ярче проявляется зависимость -  меньше комнат, выше цена за 1 кв.м.\n",
    "\n",
    "В сравнении с общими по городу и области данными заметно увеличение продаж в сторону квартир с большим числом комнат, диапазон цен заметно выше, чем за аналогичные квартиры в целом по городу и области."
   ]
  },
  {
   "cell_type": "code",
   "execution_count": 85,
   "metadata": {},
   "outputs": [
    {
     "data": {
      "text/html": [
       "<div>\n",
       "<style scoped>\n",
       "    .dataframe tbody tr th:only-of-type {\n",
       "        vertical-align: middle;\n",
       "    }\n",
       "\n",
       "    .dataframe tbody tr th {\n",
       "        vertical-align: top;\n",
       "    }\n",
       "\n",
       "    .dataframe thead th {\n",
       "        text-align: right;\n",
       "    }\n",
       "</style>\n",
       "<table border=\"1\" class=\"dataframe\">\n",
       "  <thead>\n",
       "    <tr style=\"text-align: right;\">\n",
       "      <th></th>\n",
       "      <th>ceiling_height</th>\n",
       "    </tr>\n",
       "  </thead>\n",
       "  <tbody>\n",
       "    <tr>\n",
       "      <td>count</td>\n",
       "      <td>1738.000000</td>\n",
       "    </tr>\n",
       "    <tr>\n",
       "      <td>mean</td>\n",
       "      <td>2.872670</td>\n",
       "    </tr>\n",
       "    <tr>\n",
       "      <td>std</td>\n",
       "      <td>0.654628</td>\n",
       "    </tr>\n",
       "    <tr>\n",
       "      <td>min</td>\n",
       "      <td>2.460000</td>\n",
       "    </tr>\n",
       "    <tr>\n",
       "      <td>25%</td>\n",
       "      <td>2.650000</td>\n",
       "    </tr>\n",
       "    <tr>\n",
       "      <td>50%</td>\n",
       "      <td>2.700000</td>\n",
       "    </tr>\n",
       "    <tr>\n",
       "      <td>75%</td>\n",
       "      <td>3.000000</td>\n",
       "    </tr>\n",
       "    <tr>\n",
       "      <td>max</td>\n",
       "      <td>27.000000</td>\n",
       "    </tr>\n",
       "  </tbody>\n",
       "</table>\n",
       "</div>"
      ],
      "text/plain": [
       "       ceiling_height\n",
       "count     1738.000000\n",
       "mean         2.872670\n",
       "std          0.654628\n",
       "min          2.460000\n",
       "25%          2.650000\n",
       "50%          2.700000\n",
       "75%          3.000000\n",
       "max         27.000000"
      ]
     },
     "execution_count": 85,
     "metadata": {},
     "output_type": "execute_result"
    }
   ],
   "source": [
    "# Посмотрим основные данные по столбцам: ВЫСОТА ПОТОЛКА\n",
    "(spb_center[['ceiling_height']].describe())"
   ]
  },
  {
   "cell_type": "code",
   "execution_count": 86,
   "metadata": {},
   "outputs": [
    {
     "data": {
      "image/png": "[encoded data removed]",
      "text/plain": [
       "<Figure size 432x288 with 1 Axes>"
      ]
     },
     "metadata": {
      "needs_background": "light"
     },
     "output_type": "display_data"
    }
   ],
   "source": [
    "# Построим диаграмму размаха: ВЫСОТА ПОТОЛКА\n",
    "sns.boxplot(spb_center['ceiling_height'], color='tab:purple')\n",
    "plt.title('Диаграмма размаха')\n",
    "plt.xlabel('Высота потолков, м')\n",
    "_ = plt.xlim(2,4,5)"
   ]
  },
  {
   "cell_type": "markdown",
   "metadata": {},
   "source": [
    "В центре  продаваемых квартирах высота потолка значительно варьируется 2,5- 4,3 м. Самые продаваемые квартиры имеют потолок высотой 2,7 - 3,0 м. Реже - до 3,5 м, единично - 3,5 - 4,3 м. Очевидно, в центре СПб сосредоточены дома, которые строились совсем по другим стандартам, в сравнении со стандартами СССР."
   ]
  },
  {
   "cell_type": "code",
   "execution_count": 87,
   "metadata": {},
   "outputs": [
    {
     "data": {
      "text/plain": [
       "0.13006674506623225"
      ]
     },
     "execution_count": 87,
     "metadata": {},
     "output_type": "execute_result"
    },
    {
     "data": {
      "image/png": "[encoded data removed]",
      "text/plain": [
       "<Figure size 720x216 with 1 Axes>"
      ]
     },
     "metadata": {
      "needs_background": "light"
     },
     "output_type": "display_data"
    }
   ],
   "source": [
    "#Построим график зависимости ЦЕНЫ квартиры в центре СПб от ЭТАЖА\n",
    "\n",
    "spb_center.pivot_table(index = 'floor_category', \n",
    "                                  values = 'last_price', \n",
    "                                  aggfunc = ['count', 'median']).plot(y='median', kind='bar', figsize=(10, 3), grid=True, title= 'Зависимость стоимости квартиры в центре от этажа расположения') \n",
    "\n",
    "# Рассчитаем коэффициент корреляции Пирсона\n",
    "good_df['floor'].corr(good_df['last_price'])"
   ]
  },
  {
   "cell_type": "code",
   "execution_count": 88,
   "metadata": {},
   "outputs": [
    {
     "data": {
      "text/plain": [
       "0.2698881699141869"
      ]
     },
     "execution_count": 88,
     "metadata": {},
     "output_type": "execute_result"
    }
   ],
   "source": [
    "# Рассчитаем коэффициент корреляции Пирсона для стоимости 1 кв.м.\n",
    "spb_center['floor'].corr(good_df['price_meter'])"
   ]
  },
  {
   "cell_type": "markdown",
   "metadata": {},
   "source": [
    " В целом, этаж расположения квартиры в центре СПб также особо не влияет на ее стоимость. Корреляция выше, чем в городе и областе, но незначительна. Однако в центре предпочитают последний и другие этажи примерно на одном уровне (в городе и области другие этажи популярнее). Первый этаж также на последнем месте по стоимости квартир."
   ]
  },
  {
   "cell_type": "code",
   "execution_count": 89,
   "metadata": {},
   "outputs": [
    {
     "data": {
      "text/plain": [
       "-0.15754607392862022"
      ]
     },
     "execution_count": 89,
     "metadata": {},
     "output_type": "execute_result"
    },
    {
     "data": {
      "image/png": "[encoded data removed]",
      "text/plain": [
       "<Figure size 648x288 with 1 Axes>"
      ]
     },
     "metadata": {
      "needs_background": "light"
     },
     "output_type": "display_data"
    }
   ],
   "source": [
    "#Построим график зависимости ЦЕНЫ квартиры в центре СПб от УДАЛЕННОСТИ ОТ ЦЕНТРА\n",
    "spb_center.pivot_table(index='centers_km', values=['last_price'], aggfunc='median').plot(y = 'last_price', kind = 'bar', grid=True, figsize=(9,4), title= 'Зависимость стоимости квартиры в центре от расстояния до центра')\n",
    "# Рассчитаем коэффициент корреляции Пирсона\n",
    "spb_center['centers_km'].corr(good_df['last_price'])"
   ]
  },
  {
   "cell_type": "code",
   "execution_count": 90,
   "metadata": {},
   "outputs": [
    {
     "data": {
      "text/plain": [
       "0.05713309035221552"
      ]
     },
     "execution_count": 90,
     "metadata": {},
     "output_type": "execute_result"
    }
   ],
   "source": [
    "# Рассчитаем коэффициент корреляции Пирсона для стоимости 1 кв.м.\n",
    "spb_center['centers_km'].corr(good_df['price_meter'])"
   ]
  },
  {
   "cell_type": "markdown",
   "metadata": {},
   "source": [
    "В центре СПб стоимость квартиры в центральной зоне не зависит от конкретного расстоянием до условного центра в центре (как много центров). Незначительно ниже цена на квартиры, которые находятся на границе центральной зоны."
   ]
  },
  {
   "cell_type": "code",
   "execution_count": 91,
   "metadata": {},
   "outputs": [
    {
     "data": {
      "text/html": [
       "<div>\n",
       "<style scoped>\n",
       "    .dataframe tbody tr th:only-of-type {\n",
       "        vertical-align: middle;\n",
       "    }\n",
       "\n",
       "    .dataframe tbody tr th {\n",
       "        vertical-align: top;\n",
       "    }\n",
       "\n",
       "    .dataframe thead th {\n",
       "        text-align: right;\n",
       "    }\n",
       "</style>\n",
       "<table border=\"1\" class=\"dataframe\">\n",
       "  <thead>\n",
       "    <tr style=\"text-align: right;\">\n",
       "      <th></th>\n",
       "      <th>days_exposition</th>\n",
       "    </tr>\n",
       "  </thead>\n",
       "  <tbody>\n",
       "    <tr>\n",
       "      <td>count</td>\n",
       "      <td>1738.000000</td>\n",
       "    </tr>\n",
       "    <tr>\n",
       "      <td>mean</td>\n",
       "      <td>263.930380</td>\n",
       "    </tr>\n",
       "    <tr>\n",
       "      <td>std</td>\n",
       "      <td>261.606314</td>\n",
       "    </tr>\n",
       "    <tr>\n",
       "      <td>min</td>\n",
       "      <td>31.000000</td>\n",
       "    </tr>\n",
       "    <tr>\n",
       "      <td>25%</td>\n",
       "      <td>80.000000</td>\n",
       "    </tr>\n",
       "    <tr>\n",
       "      <td>50%</td>\n",
       "      <td>162.000000</td>\n",
       "    </tr>\n",
       "    <tr>\n",
       "      <td>75%</td>\n",
       "      <td>359.500000</td>\n",
       "    </tr>\n",
       "    <tr>\n",
       "      <td>max</td>\n",
       "      <td>1497.000000</td>\n",
       "    </tr>\n",
       "  </tbody>\n",
       "</table>\n",
       "</div>"
      ],
      "text/plain": [
       "       days_exposition\n",
       "count      1738.000000\n",
       "mean        263.930380\n",
       "std         261.606314\n",
       "min          31.000000\n",
       "25%          80.000000\n",
       "50%         162.000000\n",
       "75%         359.500000\n",
       "max        1497.000000"
      ]
     },
     "execution_count": 91,
     "metadata": {},
     "output_type": "execute_result"
    }
   ],
   "source": [
    "# Посмотрим основные данные по столбцам: ВРЕМЯ ПРОДАЖИ\n",
    "(spb_center[['days_exposition']].describe())"
   ]
  },
  {
   "cell_type": "code",
   "execution_count": 92,
   "metadata": {},
   "outputs": [
    {
     "data": {
      "image/png": "[encoded data removed]",
      "text/plain": [
       "<Figure size 432x288 with 1 Axes>"
      ]
     },
     "metadata": {
      "needs_background": "light"
     },
     "output_type": "display_data"
    }
   ],
   "source": [
    "# Построим диаграмму размаха: ВРЕМЯ ПРОДАЖИ\n",
    "sns.boxplot(spb_center['days_exposition'], color='thistle')\n",
    "plt.title('Диаграмма размаха')\n",
    "plt.xlabel('Срок размещения публикации, дней')\n",
    "plt.xlim(0, 450)\n",
    "plt.show()"
   ]
  },
  {
   "cell_type": "markdown",
   "metadata": {},
   "source": [
    "В центральной зоне СПб основная масса квартир продается в диапазоне от 80 до 360 дней.  Медианное время -  162 дня, минимальный срок продажи - 31 день, максимальный - 1497. В целом квартиры в центре продаются несколько дольше (в медиане на 2,5 месяца), чем по городу и области. Это объясняется ценой."
   ]
  },
  {
   "cell_type": "code",
   "execution_count": 93,
   "metadata": {},
   "outputs": [
    {
     "data": {
      "text/html": [
       "<div>\n",
       "<style scoped>\n",
       "    .dataframe tbody tr th:only-of-type {\n",
       "        vertical-align: middle;\n",
       "    }\n",
       "\n",
       "    .dataframe tbody tr th {\n",
       "        vertical-align: top;\n",
       "    }\n",
       "\n",
       "    .dataframe thead th {\n",
       "        text-align: right;\n",
       "    }\n",
       "</style>\n",
       "<table border=\"1\" class=\"dataframe\">\n",
       "  <thead>\n",
       "    <tr style=\"text-align: right;\">\n",
       "      <th></th>\n",
       "      <th>count</th>\n",
       "      <th>median</th>\n",
       "    </tr>\n",
       "    <tr>\n",
       "      <th>weekday</th>\n",
       "      <th></th>\n",
       "      <th></th>\n",
       "    </tr>\n",
       "  </thead>\n",
       "  <tbody>\n",
       "    <tr>\n",
       "      <td>среда</td>\n",
       "      <td>363</td>\n",
       "      <td>7200000.0</td>\n",
       "    </tr>\n",
       "    <tr>\n",
       "      <td>вторник</td>\n",
       "      <td>300</td>\n",
       "      <td>7050000.0</td>\n",
       "    </tr>\n",
       "    <tr>\n",
       "      <td>четверг</td>\n",
       "      <td>296</td>\n",
       "      <td>7325000.0</td>\n",
       "    </tr>\n",
       "    <tr>\n",
       "      <td>понедельник</td>\n",
       "      <td>287</td>\n",
       "      <td>7102793.0</td>\n",
       "    </tr>\n",
       "    <tr>\n",
       "      <td>пятница</td>\n",
       "      <td>150</td>\n",
       "      <td>7302500.0</td>\n",
       "    </tr>\n",
       "    <tr>\n",
       "      <td>суббота</td>\n",
       "      <td>91</td>\n",
       "      <td>7900000.0</td>\n",
       "    </tr>\n",
       "  </tbody>\n",
       "</table>\n",
       "</div>"
      ],
      "text/plain": [
       "             count     median\n",
       "weekday                      \n",
       "среда          363  7200000.0\n",
       "вторник        300  7050000.0\n",
       "четверг        296  7325000.0\n",
       "понедельник    287  7102793.0\n",
       "пятница        150  7302500.0\n",
       "суббота         91  7900000.0"
      ]
     },
     "execution_count": 93,
     "metadata": {},
     "output_type": "execute_result"
    }
   ],
   "source": [
    "# Создадим сводную таблицу\n",
    "price__weekday = spb_center.pivot_table(index = 'weekday', \n",
    "                                  values = 'last_price', \n",
    "                                  aggfunc = ['count', 'median'])\n",
    "price__weekday.columns = ['count', 'median']\n",
    "\n",
    "price__weekday.sort_values('count', ascending = False)"
   ]
  },
  {
   "cell_type": "code",
   "execution_count": 94,
   "metadata": {},
   "outputs": [
    {
     "data": {
      "text/html": [
       "<div>\n",
       "<style scoped>\n",
       "    .dataframe tbody tr th:only-of-type {\n",
       "        vertical-align: middle;\n",
       "    }\n",
       "\n",
       "    .dataframe tbody tr th {\n",
       "        vertical-align: top;\n",
       "    }\n",
       "\n",
       "    .dataframe thead th {\n",
       "        text-align: right;\n",
       "    }\n",
       "</style>\n",
       "<table border=\"1\" class=\"dataframe\">\n",
       "  <thead>\n",
       "    <tr style=\"text-align: right;\">\n",
       "      <th></th>\n",
       "      <th>count</th>\n",
       "      <th>median</th>\n",
       "    </tr>\n",
       "    <tr>\n",
       "      <th>month</th>\n",
       "      <th></th>\n",
       "      <th></th>\n",
       "    </tr>\n",
       "  </thead>\n",
       "  <tbody>\n",
       "    <tr>\n",
       "      <td>2</td>\n",
       "      <td>188</td>\n",
       "      <td>7175000.0</td>\n",
       "    </tr>\n",
       "    <tr>\n",
       "      <td>9</td>\n",
       "      <td>164</td>\n",
       "      <td>7600000.0</td>\n",
       "    </tr>\n",
       "    <tr>\n",
       "      <td>11</td>\n",
       "      <td>164</td>\n",
       "      <td>7100000.0</td>\n",
       "    </tr>\n",
       "    <tr>\n",
       "      <td>3</td>\n",
       "      <td>160</td>\n",
       "      <td>7500000.0</td>\n",
       "    </tr>\n",
       "    <tr>\n",
       "      <td>10</td>\n",
       "      <td>159</td>\n",
       "      <td>7300000.0</td>\n",
       "    </tr>\n",
       "    <tr>\n",
       "      <td>6</td>\n",
       "      <td>152</td>\n",
       "      <td>6989500.0</td>\n",
       "    </tr>\n",
       "    <tr>\n",
       "      <td>7</td>\n",
       "      <td>146</td>\n",
       "      <td>7528500.0</td>\n",
       "    </tr>\n",
       "    <tr>\n",
       "      <td>12</td>\n",
       "      <td>135</td>\n",
       "      <td>6990000.0</td>\n",
       "    </tr>\n",
       "    <tr>\n",
       "      <td>4</td>\n",
       "      <td>127</td>\n",
       "      <td>6900000.0</td>\n",
       "    </tr>\n",
       "    <tr>\n",
       "      <td>8</td>\n",
       "      <td>123</td>\n",
       "      <td>7000000.0</td>\n",
       "    </tr>\n",
       "    <tr>\n",
       "      <td>5</td>\n",
       "      <td>120</td>\n",
       "      <td>6994500.0</td>\n",
       "    </tr>\n",
       "    <tr>\n",
       "      <td>1</td>\n",
       "      <td>100</td>\n",
       "      <td>7425000.0</td>\n",
       "    </tr>\n",
       "  </tbody>\n",
       "</table>\n",
       "</div>"
      ],
      "text/plain": [
       "       count     median\n",
       "month                  \n",
       "2        188  7175000.0\n",
       "9        164  7600000.0\n",
       "11       164  7100000.0\n",
       "3        160  7500000.0\n",
       "10       159  7300000.0\n",
       "6        152  6989500.0\n",
       "7        146  7528500.0\n",
       "12       135  6990000.0\n",
       "4        127  6900000.0\n",
       "8        123  7000000.0\n",
       "5        120  6994500.0\n",
       "1        100  7425000.0"
      ]
     },
     "execution_count": 94,
     "metadata": {},
     "output_type": "execute_result"
    }
   ],
   "source": [
    "# Создадим сводную таблицу\n",
    "price__month = spb_center.pivot_table(index = 'month', \n",
    "                                  values = 'last_price', \n",
    "                                  aggfunc = ['count', 'median'])\n",
    "price__month.columns = ['count', 'median']\n",
    "\n",
    "price__month.sort_values('count', ascending = False)"
   ]
  },
  {
   "cell_type": "code",
   "execution_count": 95,
   "metadata": {},
   "outputs": [
    {
     "data": {
      "text/html": [
       "<div>\n",
       "<style scoped>\n",
       "    .dataframe tbody tr th:only-of-type {\n",
       "        vertical-align: middle;\n",
       "    }\n",
       "\n",
       "    .dataframe tbody tr th {\n",
       "        vertical-align: top;\n",
       "    }\n",
       "\n",
       "    .dataframe thead th {\n",
       "        text-align: right;\n",
       "    }\n",
       "</style>\n",
       "<table border=\"1\" class=\"dataframe\">\n",
       "  <thead>\n",
       "    <tr style=\"text-align: right;\">\n",
       "      <th></th>\n",
       "      <th>count</th>\n",
       "      <th>median</th>\n",
       "    </tr>\n",
       "    <tr>\n",
       "      <th>year</th>\n",
       "      <th></th>\n",
       "      <th></th>\n",
       "    </tr>\n",
       "  </thead>\n",
       "  <tbody>\n",
       "    <tr>\n",
       "      <td>2019</td>\n",
       "      <td>40</td>\n",
       "      <td>7495000.0</td>\n",
       "    </tr>\n",
       "    <tr>\n",
       "      <td>2018</td>\n",
       "      <td>519</td>\n",
       "      <td>7400000.0</td>\n",
       "    </tr>\n",
       "    <tr>\n",
       "      <td>2015</td>\n",
       "      <td>187</td>\n",
       "      <td>7283286.0</td>\n",
       "    </tr>\n",
       "    <tr>\n",
       "      <td>2017</td>\n",
       "      <td>681</td>\n",
       "      <td>7100000.0</td>\n",
       "    </tr>\n",
       "    <tr>\n",
       "      <td>2016</td>\n",
       "      <td>303</td>\n",
       "      <td>7050000.0</td>\n",
       "    </tr>\n",
       "    <tr>\n",
       "      <td>2014</td>\n",
       "      <td>8</td>\n",
       "      <td>5965000.0</td>\n",
       "    </tr>\n",
       "  </tbody>\n",
       "</table>\n",
       "</div>"
      ],
      "text/plain": [
       "      count     median\n",
       "year                  \n",
       "2019     40  7495000.0\n",
       "2018    519  7400000.0\n",
       "2015    187  7283286.0\n",
       "2017    681  7100000.0\n",
       "2016    303  7050000.0\n",
       "2014      8  5965000.0"
      ]
     },
     "execution_count": 95,
     "metadata": {},
     "output_type": "execute_result"
    }
   ],
   "source": [
    "# Создадим сводную таблицу\n",
    "price__year = spb_center.pivot_table(index = 'year', \n",
    "                                  values = 'last_price', \n",
    "                                  aggfunc = ['count', 'median'])\n",
    "price__year.columns = ['count', 'median']\n",
    "\n",
    "price__year.sort_values('median', ascending = False).head(10)"
   ]
  },
  {
   "cell_type": "code",
   "execution_count": 96,
   "metadata": {},
   "outputs": [
    {
     "data": {
      "image/png": "[encoded data removed]",
      "text/plain": [
       "<Figure size 360x360 with 1 Axes>"
      ]
     },
     "metadata": {
      "needs_background": "light"
     },
     "output_type": "display_data"
    },
    {
     "data": {
      "image/png": "[encoded data removed]",
      "text/plain": [
       "<Figure size 360x360 with 1 Axes>"
      ]
     },
     "metadata": {
      "needs_background": "light"
     },
     "output_type": "display_data"
    },
    {
     "data": {
      "image/png": "[encoded data removed]",
      "text/plain": [
       "<Figure size 360x360 with 1 Axes>"
      ]
     },
     "metadata": {
      "needs_background": "light"
     },
     "output_type": "display_data"
    }
   ],
   "source": [
    "for column in ['weekday', 'month', 'year']:\n",
    "    sns.catplot(x=column, y=\"last_price\", kind=\"box\", data=spb_center, palette='husl')"
   ]
  },
  {
   "cell_type": "markdown",
   "metadata": {},
   "source": [
    "Как и в целом по городу и области, день недели, в который размещено объявление не влияет на стоимость квартиры в центре, но влияет на число сделок, в будни квартиры продаются чаще (особенно по средам).\n",
    "\n",
    "Данные зависимости стоимости квартиры в центре от месяца продажи аналогичны таковым по городу и области: \n",
    "месяц, в который размещено объявление не влияет на стоимость квартиры в центре, но слабо влияет на число сделок, в феврале и ноябре квартиры продаются чаще, в январе и мае низкая активность купли-продажи квартир.\n",
    "\n",
    "Год, в который размещено объявление о продаже, незначительно влияет на цену квартиры в центре, зависимость отличается от данных по городу и области. От 2014 к 2019 году стоимость квартир в центре практически плавно росла, вне зависимости от числа сделок. Единственный пик аномалии - 2015 год, в который цены были выше, чем в 2016 и 2017 годах.\n",
    "\n",
    "Как и в целом по городу, стоимость квартиры в центре в разной степени зависит от общей площади, числа комнат и удаленности от центра. \n",
    "\n",
    "В центре квартиры в целом дороже, предпочтения покупателей склоняются к большей площади, большему числу комнат, более высоким потолкам. \n",
    "\n",
    "Этаж расположения квартиры и дата размещения объявления о ее продаже не оказывают выраженного влияния на цену квартиры. Однако цена на квартиры в центре в разные годы более стабильна. ¶\n",
    "\n",
    "###### Усредненная квартира, продаваемая в центре Санкт- Петербурга имеет 2 комнаты, площадь 64 кв.м, высоту потолка 2,7 м и цену в 7,2 млн.\n"
   ]
  },
  {
   "cell_type": "markdown",
   "metadata": {},
   "source": [
    "## Общий вывод"
   ]
  },
  {
   "cell_type": "markdown",
   "metadata": {},
   "source": [
    "Исходные данные для исследования содержали 23 699 строк (объявлений) и включали в себя 22 позиции (столбцы), за период с 2014 по 2019 год включительно. Качество представленных данных, часть из которых была внесена пользователями, часть заполнялась автоматически, низкое, в данных содержится большое количество пропусков по 14 позициям. \n",
    "В рамках подготовки к проведению исследования - сравнительного анализа для установления рыночной цены на объекты жилой недвижимости в Санкт- Петербурге и Ленинградской области, была проведена предобработка данных, которая включала в себя замену пропусков, в позициях, где это было корректно сделать (в реальных условиях по ряду пропусков необходимо проводить проверку, связываться с DE, DevOPS), изменен тип данных в отдельных столбцах, изменен порядок расположения столбцов. Удалены дубликаты.\n",
    "В подготовленных таким образом данных выявлено значительное количество редких и выбивающихся значений.\n",
    "В целях проведения корректного сравнительного анализа, для исследования взяты данные в пределах установленных норм.\n",
    "\n",
    "###### В целом сравнительный анализ проводился для 64,6 % данных.\n",
    "\n",
    "Результаты проведенного исследования актуальны по состоянию на январь 2020 года.\n",
    "\n",
    "Исследовались следующие параметры:\n",
    "- цена\n",
    "- общая площадь квартиры\n",
    "- этаж расположения\n",
    "- высота потолка\n",
    "- удаленность от центра\n",
    "- время размещения объявления (условный срок продажи)\n",
    "- дата размещения объявления\n",
    "\n",
    "Исследовались данные по двум категориям:\n",
    "- в целом по городу и области\n",
    "- в центральной зоне\n",
    "\n",
    "Определен ТОП- 10 мест с наибольшей стоимостью жилой недвижимости в рамках Ленинградской области.\n",
    "Центральной зоной Санкт - Петербурга определена окружность с радиусом 8 км.\n",
    "Установлена зависимость стоимости квартир от различных параметров.\n",
    "\n",
    "###### По основным параметрам установлены следующие диапазоны стандартных значений, включительно:\n",
    " - цена - в пределах до 12 млн\n",
    " - общая площадь - 12 - 115 кв.м\n",
    " - количество комнат - 0- 6 комнат \n",
    " - высота потолка - 2,45 - 2,85\n",
    " \n",
    "######  Результаты анализа данных.\n",
    " Основные параметры, влияющие на стоимость жилой недвижимости (в порядке убывания степени влияния):\n",
    " - общая площадь - с увеличением общей площади квартиры растет цена квартиры, корреляция 0,7\n",
    " - количество комнат - квартира с большим числом комнат дороже, корреляция 0,44 \n",
    " - расстояние до центра - чем меньше расстояние до центра, тем дороже квартира, отрицательная корреляция - 0,36  \n",
    "  \n",
    " Высота потолка не оказывает заметного влияния на цену квартиры. В целом по городу и области высота потолков варьируется, основной диапазон - 2,6-2,7 метра. В центральной зоне диапазон высоты потолков сдвинут в сторону увеличения, распространенные значения в диапазоне 2,7-3 метра.\n",
    " \n",
    "Этаж, на котором расположена квартира практически не влияет на ее цену. Самая низкая цена на квартиры, расположенные на первом этаже. Самая высокая - другие (кроме 1 и последнего). В центральной зоне последний этаж по стоимости близок к другим этажам.\n",
    "\n",
    "В городе и области основная масса квартир продается в течение 100 дней. Заметное количество квартир продается до 200 дней. В центральной зоне СПб основная масса квартир продается в диапазоне от 80 до 360 дней. Диапазон продажи квартир в пределах нормы - от 30 до 510 дней. Однако эти данные не  вполне корректны, так как выводы сделаны на основе не точного срока продажи квартиры, а на времени размещения объявления, которые в определенные временные промежутки автоматически удаляются, что не является подтверждением факта продажи квартиры. К сожалению обязать пользователей сообщать об успешной сделке и закрывать объявления (особенно если они бесплатные) невозможно.\n",
    "\n",
    "День недели, в который размещено объявление не влияет на стоимость квартиры, но влияет на число сделок, в будни квартиры продаются чаще (особенно по средам). Это верно и для области с городом и для центральной зоны.\n",
    " \n",
    "Месяц, в который размещено объявление, не влияет на стоимость квартиры, но слабо влияет на число сделок, в феврале и ноябре квартиры продаются чаще, в январе и мае низкая активность купли-продажи квартир, что характерно и для центральной зоны.\n",
    "\n",
    "Год, в который размещено объявление о продаже, влияет на цену квартиры. От 2014 к 2019 годам изменение цен на квартиры можно описать параболой. Максимальные цены приходятся на 2014 год, затем идет плавное снижение и плавный рост цен к 2019. Цены в 2019 году ниже, чем в 2014. Очевидно, это связано с ростом предложения на рынке, в целом число продаж меняется в обратной зависимости от цены. Наверняка еще очень многие факторы сыграли свою роль на изменение цен на квартиры в разные годы. В центральной зоне цены на квартиры в разные годы более стабильны, характерен плавный рост цены, вне зависимости от числа предложений.\n",
    "\n",
    "###### ТОП - 10 мест с высокой стоимостью жилой недвижимости в Санкт- Петербурге и Ленинградской области:\n",
    "Санкт - Петербург, Пушкин, Кудрово, Парголово, Мурино, Шушары, Колпино, Гатчина, Всеволожск, Выборг.\n",
    "\n",
    "###### Усредненная квартира, продаваемая в Санкт- Петербурге и  Ленинградской области имеет \n",
    "2 комнаты, площадь 52 кв.м, высоту потолка 2,65 м и цену в 4,65 млн. \n",
    "\n",
    "######  Усредненная квартира, продаваемая в центральной зоне имеет \n",
    "2 комнаты, площадь 64 кв.м, высоту потолка 2,7 м и цену в 7,2 млн. \n",
    "\n",
    "######  Данные по рыночной стоимости (расчет по медиане).\n",
    "\n",
    "######  В целом по городу и области, цена  в диапазоне, млн:\n",
    "\n",
    "1- комнатная квартира (в том числе студия) - 2,5-4,5\n",
    "2- комнатная квартира - 3,5-6\n",
    "3- комнатная квартира - 4,5-8\n",
    "4- комнатная квартира - 5,5-8,5\n",
    "\n",
    "######  В центральной зоне, цена  в диапазоне, млн:\n",
    "\n",
    "1- комнатная квартира (в том числе студия) - 3,5-8,5\n",
    "2- комнатная квартира - 4,5-12\n",
    "3- комнатная квартира - 5,5-12\n",
    "4- комнатная квартира - 6,5-12\n",
    "5- комнатная квартира - 7,5-12\n",
    "\n",
    "######  Рекомендации для заказчика.\n",
    "1. Для обеспечения корректности и уменьшения аномальных значений максимально автоматизировать систему сбора данных. Например, предусмотреть выбор стандартных значений пользователем  и отметку \"обязательно для заполнения\" для всех основных параметров: наименование населенного пункта расположения квартиры, (улица, номер дома - нужны для корректной работы автоматизированной системы заполнения расстояний), площадь (общая, жилая, кухни), высота потолка, число комнат, этаж, этажность дома.\n",
    "2. Продумать настройку параметров работы автоматической системы заполнения данных для максимально полного определения расстояний (обязательные столбцы с адресом - улица, номер дома, корпус, строение), предупреждения появления пропусков.\n",
    "3. Категоризировать тип недвижимости по ценовой категории, например, стандарт, элитная, бизнес- класс. В таком случае набор данных будет более систематизирован, уменьшится число аномальных значений стоимости. Будет полезно провести отдельное исследование по определению диапазона значений основных параметров и рыночной стоимости недвижимости в зависимости от типа ценовой категории.\n",
    "4. Продумать вопрос о возможности и необходимости введения инструмента сигнализации для фиксации объявлений, повторяющихся с определенной частотой, по продаже квартир в одном доме (отслеживание мошеннической деятельности).\n",
    "5. В целях обеспечения актуальности установленного диапазона нормальных значений по рыночной стоимости, запланировать регулярное проведение сравнительного анализа с разумной периодичностью - 1 раз в год, 1 раз  в пол года."
   ]
  }
 ],
 "metadata": {
  "kernelspec": {
   "display_name": "Python 3",
   "language": "python",
   "name": "python3"
  },
  "language_info": {
   "codemirror_mode": {
    "name": "ipython",
    "version": 3
   },
   "file_extension": ".py",
   "mimetype": "text/x-python",
   "name": "python",
   "nbconvert_exporter": "python",
   "pygments_lexer": "ipython3",
   "version": "3.8.8"
  },
  "toc": {
   "base_numbering": 1,
   "nav_menu": {},
   "number_sections": true,
   "sideBar": true,
   "skip_h1_title": true,
   "title_cell": "Содержание",
   "title_sidebar": "Contents",
   "toc_cell": true,
   "toc_position": {},
   "toc_section_display": true,
   "toc_window_display": false
  }
 },
 "nbformat": 4,
 "nbformat_minor": 2
}
