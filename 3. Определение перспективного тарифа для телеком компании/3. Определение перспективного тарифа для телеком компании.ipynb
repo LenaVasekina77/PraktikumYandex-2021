{
 "cells": [
  {
   "cell_type": "markdown",
   "metadata": {
    "toc": true
   },
   "source": [
    "<h1>Содержание<span class=\"tocSkip\"></span></h1>\n",
    "<div class=\"toc\"><ul class=\"toc-item\"><li><ul class=\"toc-item\"><li><span><a href=\"#Цель:-определение-более-перспективного-тарифа-для-телеком-компании\" data-toc-modified-id=\"Цель:-определение-более-перспективного-тарифа-для-телеком-компании-NaN.1\">Цель: определение более перспективного тарифа для телеком компании</a></span><ul class=\"toc-item\"><li><span><a href=\"#Задача:-исследование-данных-трафика-клиентов-компании-&quot;Мегалайн&quot;,-пользователей-двух-тарифов\" data-toc-modified-id=\"Задача:-исследование-данных-трафика-клиентов-компании-&quot;Мегалайн&quot;,-пользователей-двух-тарифов-NaN.1.1\">Задача: исследование данных трафика клиентов компании \"Мегалайн\", пользователей двух тарифов</a></span></li><li><span><a href=\"#Объект-исследования:-выборка-данных-500-пользователей-компании-&quot;Мегалайн&quot;-за-2018-год\" data-toc-modified-id=\"Объект-исследования:-выборка-данных-500-пользователей-компании-&quot;Мегалайн&quot;-за-2018-год-NaN.1.2\">Объект исследования: выборка данных 500 пользователей компании \"Мегалайн\" за 2018 год</a></span></li><li><span><a href=\"#Тариф-&quot;СМАРТ&quot;\" data-toc-modified-id=\"Тариф-&quot;СМАРТ&quot;-NaN.1.3\">Тариф \"СМАРТ\"</a></span></li><li><span><a href=\"#Тариф-&quot;УЛЬТРА&quot;\" data-toc-modified-id=\"Тариф-&quot;УЛЬТРА&quot;-NaN.1.4\">Тариф \"УЛЬТРА\"</a></span></li></ul></li></ul></li><li><span><a href=\"#1.-Изучение-данных-из-файлов\" data-toc-modified-id=\"1.-Изучение-данных-из-файлов-NaN\">1. Изучение данных из файлов</a></span><ul class=\"toc-item\"><li><span><a href=\"#1.1.-Импортирование-библиотек\" data-toc-modified-id=\"1.1.-Импортирование-библиотек-NaN.1\">1.1. Импортирование библиотек</a></span></li><li><span><a href=\"#1.2.-Предварительное-изучение-данных\" data-toc-modified-id=\"1.2.-Предварительное-изучение-данных-NaN.2\">1.2. Предварительное изучение данных</a></span><ul class=\"toc-item\"><li><ul class=\"toc-item\"><li><span><a href=\"#Данные-о-звонках\" data-toc-modified-id=\"Данные-о-звонках-NaN.2.0.1\">Данные о звонках</a></span></li><li><span><a href=\"#Данные-об-интернет--траффике\" data-toc-modified-id=\"Данные-об-интернет--траффике-NaN.2.0.2\">Данные об интернет- траффике</a></span></li><li><span><a href=\"#Данные-о-сообщениях-(далее---смс)\" data-toc-modified-id=\"Данные-о-сообщениях-(далее---смс)-NaN.2.0.3\">Данные о сообщениях (далее - смс)</a></span></li><li><span><a href=\"#Данные-о-тарифах\" data-toc-modified-id=\"Данные-о-тарифах-NaN.2.0.4\">Данные о тарифах</a></span></li><li><span><a href=\"#Данные-о-пользователях\" data-toc-modified-id=\"Данные-о-пользователях-NaN.2.0.5\">Данные о пользователях</a></span></li><li><span><a href=\"#Столбцы-содержат-следующую-информацию:\" data-toc-modified-id=\"Столбцы-содержат-следующую-информацию:-NaN.2.0.6\">Столбцы содержат следующую информацию:</a></span></li></ul></li></ul></li><li><span><a href=\"#1.3.-Вывод\" data-toc-modified-id=\"1.3.-Вывод-NaN.3\">1.3. Вывод</a></span><ul class=\"toc-item\"><li><span><a href=\"#Выявлены-следующие-явные-проблемы-в-данных:\" data-toc-modified-id=\"Выявлены-следующие-явные-проблемы-в-данных:-NaN.3.1\">Выявлены следующие явные проблемы в данных:</a></span></li><li><span><a href=\"#Задачи-в-рамках-предобработки-данных,-которые-нужно-выполнить,-исходя-из-полученной-на-текущем-этапе-информации:\" data-toc-modified-id=\"Задачи-в-рамках-предобработки-данных,-которые-нужно-выполнить,-исходя-из-полученной-на-текущем-этапе-информации:-NaN.3.2\">Задачи в рамках предобработки данных, которые нужно выполнить, исходя из полученной на текущем этапе информации:</a></span></li></ul></li></ul></li><li><span><a href=\"#2.-Предобработка-данных\" data-toc-modified-id=\"2.-Предобработка-данных-NaN\">2. Предобработка данных</a></span><ul class=\"toc-item\"><li><span><a href=\"#2.1-Замена-нулевых-значений,-типа-данных\" data-toc-modified-id=\"2.1-Замена-нулевых-значений,-типа-данных-NaN.1\">2.1 Замена нулевых значений, типа данных</a></span></li><li><span><a href=\"#2.2-Выявление-дубликатов\" data-toc-modified-id=\"2.2-Выявление-дубликатов-NaN.2\">2.2 Выявление дубликатов</a></span></li></ul></li><li><span><a href=\"#3.-Расчеты-и-добавление-результатов--втаблицу\" data-toc-modified-id=\"3.-Расчеты-и-добавление-результатов--втаблицу-NaN\">3. Расчеты и добавление результатов  втаблицу</a></span><ul class=\"toc-item\"><li><span><a href=\"#3.1-Подготовка-данных-для-объединения-таблиц\" data-toc-modified-id=\"3.1-Подготовка-данных-для-объединения-таблиц-NaN.1\">3.1 Подготовка данных для объединения таблиц</a></span></li><li><span><a href=\"#3.2-Расчет-количества-звонков-и-минут-разговора-пользователей-по-месяцам\" data-toc-modified-id=\"3.2-Расчет-количества-звонков-и-минут-разговора-пользователей-по-месяцам-NaN.2\">3.2 Расчет количества звонков и минут разговора пользователей по месяцам</a></span></li><li><span><a href=\"#3.3-Расчет-количества-отправленных-пользователями-сообщений--по-месяцам\" data-toc-modified-id=\"3.3-Расчет-количества-отправленных-пользователями-сообщений--по-месяцам-NaN.3\">3.3 Расчет количества отправленных пользователями сообщений  по месяцам</a></span></li><li><span><a href=\"#3.4-Расчет-интернет--траффика-пользователей-по-месяцам\" data-toc-modified-id=\"3.4-Расчет-интернет--траффика-пользователей-по-месяцам-NaN.4\">3.4 Расчет интернет- траффика пользователей по месяцам</a></span></li><li><span><a href=\"#3.5-Объединение-данных\" data-toc-modified-id=\"3.5-Объединение-данных-NaN.5\">3.5 Объединение данных</a></span></li><li><span><a href=\"#3.6-Расчет-помесячной-выручки-с-каждого-пользователя\" data-toc-modified-id=\"3.6-Расчет-помесячной-выручки-с-каждого-пользователя-NaN.6\">3.6 Расчет помесячной выручки с каждого пользователя</a></span></li></ul></li><li><span><a href=\"#4.-Анализ-данных\" data-toc-modified-id=\"4.-Анализ-данных-NaN\">4. Анализ данных</a></span><ul class=\"toc-item\"><li><span><a href=\"#4.1-Количество-пользователей-по-тарифам\" data-toc-modified-id=\"4.1-Количество-пользователей-по-тарифам-NaN.1\">4.1 Количество пользователей по тарифам</a></span></li><li><span><a href=\"#4.2-Расчет-использованых-пользователями-минут,-сообщений,-интернет--трафика-в-среднем-в-месяц\" data-toc-modified-id=\"4.2-Расчет-использованых-пользователями-минут,-сообщений,-интернет--трафика-в-среднем-в-месяц-NaN.2\">4.2 Расчет использованых пользователями минут, сообщений, интернет- трафика в среднем в месяц</a></span></li><li><span><a href=\"#4.3-Расчет-среднего,-дисперсии-и-стандартного-отклонения\" data-toc-modified-id=\"4.3-Расчет-среднего,-дисперсии-и-стандартного-отклонения-NaN.3\">4.3 Расчет среднего, дисперсии и стандартного отклонения</a></span></li><li><span><a href=\"#4.4-Диаграммы-размаха\" data-toc-modified-id=\"4.4-Диаграммы-размаха-NaN.4\">4.4 Диаграммы размаха</a></span></li><li><span><a href=\"#4.5-Плотностные-гистограммы\" data-toc-modified-id=\"4.5-Плотностные-гистограммы-NaN.5\">4.5 Плотностные гистограммы</a></span></li><li><span><a href=\"#4.6-Вывод\" data-toc-modified-id=\"4.6-Вывод-NaN.6\">4.6 Вывод</a></span></li></ul></li><li><span><a href=\"#5.-Проверка-гипотез\" data-toc-modified-id=\"5.-Проверка-гипотез-NaN\">5. Проверка гипотез</a></span><ul class=\"toc-item\"><li><span><a href=\"#5.1-Первая-гипотеза\" data-toc-modified-id=\"5.1-Первая-гипотеза-NaN.1\">5.1 Первая гипотеза</a></span></li><li><span><a href=\"#5.2-Вторая-гипотеза\" data-toc-modified-id=\"5.2-Вторая-гипотеза-NaN.2\">5.2 Вторая гипотеза</a></span></li></ul></li><li><span><a href=\"#6.-Общий-вывод\" data-toc-modified-id=\"6.-Общий-вывод-NaN\">6. Общий вывод</a></span></li></ul></div>"
   ]
  },
  {
   "cell_type": "markdown",
   "metadata": {},
   "source": [
    "# Определение перспективного тарифа для телеком компании"
   ]
  },
  {
   "cell_type": "markdown",
   "metadata": {},
   "source": [
    "### Цель: определение более перспективного тарифа для телеком компании "
   ]
  },
  {
   "cell_type": "markdown",
   "metadata": {},
   "source": [
    "#### Задача: исследование данных трафика клиентов компании \"Мегалайн\", пользователей двух тарифов"
   ]
  },
  {
   "cell_type": "markdown",
   "metadata": {},
   "source": [
    "#### Объект исследования: выборка данных 500 пользователей компании \"Мегалайн\" за 2018 год"
   ]
  },
  {
   "cell_type": "markdown",
   "metadata": {},
   "source": [
    "#### Тариф \"СМАРТ\""
   ]
  },
  {
   "cell_type": "markdown",
   "metadata": {},
   "source": [
    "1.\tЕжемесячная плата: 550 рублей\n",
    "2.\tВключено 500 минут разговора, 50 сообщений и 15 Гб интернет-трафика\n",
    "3.\tСтоимость услуг сверх тарифного пакета:\n",
    "\n",
    "• минута разговора: 3 рубля\n",
    "\n",
    "• сообщение: 3 рубля\n",
    "\n",
    "• 1 Гб интернет-трафика: 200 рублей"
   ]
  },
  {
   "cell_type": "markdown",
   "metadata": {},
   "source": [
    "#### Тариф \"УЛЬТРА\""
   ]
  },
  {
   "cell_type": "markdown",
   "metadata": {},
   "source": [
    "1.\tЕжемесячная плата: 1950 рублей\n",
    "2.\tВключено 3000 минут разговора, 1000 сообщений и 30 Гб интернет-трафика\n",
    "3.\tСтоимость услуг сверх тарифного пакета:\n",
    "\n",
    "•\tминута разговора: 1 рубль\n",
    "\n",
    "•\tсообщение: 1 рубль\n",
    "\n",
    "•\t1 Гб интернет-трафика: 150 рублей\n"
   ]
  },
  {
   "cell_type": "markdown",
   "metadata": {},
   "source": [
    "## 1. Изучение данных из файлов"
   ]
  },
  {
   "cell_type": "markdown",
   "metadata": {},
   "source": [
    "### 1.1. Импортирование библиотек"
   ]
  },
  {
   "cell_type": "code",
   "execution_count": 1,
   "metadata": {},
   "outputs": [],
   "source": [
    "import pandas as pd\n",
    "import seaborn as sns\n",
    "sns.set(color_codes=True)\n",
    "\n",
    "import matplotlib.pyplot as plt\n",
    "import numpy as np\n",
    "import scipy.stats as st\n",
    "from functools import reduce\n",
    "idx = pd.IndexSlice\n",
    "from scipy import stats as st\n",
    "%matplotlib inline"
   ]
  },
  {
   "cell_type": "code",
   "execution_count": 2,
   "metadata": {},
   "outputs": [],
   "source": [
    "calls = pd.read_csv('/datasets/calls.csv')\n",
    "internet = pd.read_csv('/datasets/internet.csv')\n",
    "messages = pd.read_csv('/datasets/messages.csv')\n",
    "tariffs = pd.read_csv('/datasets/tariffs.csv')\n",
    "users = pd.read_csv('/datasets/users.csv')\n",
    "\n",
    "pd.set_option('display.max_columns', 200)"
   ]
  },
  {
   "cell_type": "markdown",
   "metadata": {},
   "source": [
    "### 1.2. Предварительное изучение данных"
   ]
  },
  {
   "cell_type": "markdown",
   "metadata": {},
   "source": [
    "##### Данные о звонках"
   ]
  },
  {
   "cell_type": "code",
   "execution_count": 3,
   "metadata": {},
   "outputs": [
    {
     "data": {
      "text/html": [
       "<div>\n",
       "<style scoped>\n",
       "    .dataframe tbody tr th:only-of-type {\n",
       "        vertical-align: middle;\n",
       "    }\n",
       "\n",
       "    .dataframe tbody tr th {\n",
       "        vertical-align: top;\n",
       "    }\n",
       "\n",
       "    .dataframe thead th {\n",
       "        text-align: right;\n",
       "    }\n",
       "</style>\n",
       "<table border=\"1\" class=\"dataframe\">\n",
       "  <thead>\n",
       "    <tr style=\"text-align: right;\">\n",
       "      <th></th>\n",
       "      <th>id</th>\n",
       "      <th>call_date</th>\n",
       "      <th>duration</th>\n",
       "      <th>user_id</th>\n",
       "    </tr>\n",
       "  </thead>\n",
       "  <tbody>\n",
       "    <tr>\n",
       "      <td>0</td>\n",
       "      <td>1000_0</td>\n",
       "      <td>2018-07-25</td>\n",
       "      <td>0.00</td>\n",
       "      <td>1000</td>\n",
       "    </tr>\n",
       "    <tr>\n",
       "      <td>1</td>\n",
       "      <td>1000_1</td>\n",
       "      <td>2018-08-17</td>\n",
       "      <td>0.00</td>\n",
       "      <td>1000</td>\n",
       "    </tr>\n",
       "    <tr>\n",
       "      <td>2</td>\n",
       "      <td>1000_2</td>\n",
       "      <td>2018-06-11</td>\n",
       "      <td>2.85</td>\n",
       "      <td>1000</td>\n",
       "    </tr>\n",
       "    <tr>\n",
       "      <td>3</td>\n",
       "      <td>1000_3</td>\n",
       "      <td>2018-09-21</td>\n",
       "      <td>13.80</td>\n",
       "      <td>1000</td>\n",
       "    </tr>\n",
       "    <tr>\n",
       "      <td>4</td>\n",
       "      <td>1000_4</td>\n",
       "      <td>2018-12-15</td>\n",
       "      <td>5.18</td>\n",
       "      <td>1000</td>\n",
       "    </tr>\n",
       "    <tr>\n",
       "      <td>...</td>\n",
       "      <td>...</td>\n",
       "      <td>...</td>\n",
       "      <td>...</td>\n",
       "      <td>...</td>\n",
       "    </tr>\n",
       "    <tr>\n",
       "      <td>202602</td>\n",
       "      <td>1499_215</td>\n",
       "      <td>2018-12-26</td>\n",
       "      <td>0.76</td>\n",
       "      <td>1499</td>\n",
       "    </tr>\n",
       "    <tr>\n",
       "      <td>202603</td>\n",
       "      <td>1499_216</td>\n",
       "      <td>2018-10-18</td>\n",
       "      <td>18.83</td>\n",
       "      <td>1499</td>\n",
       "    </tr>\n",
       "    <tr>\n",
       "      <td>202604</td>\n",
       "      <td>1499_217</td>\n",
       "      <td>2018-11-10</td>\n",
       "      <td>10.81</td>\n",
       "      <td>1499</td>\n",
       "    </tr>\n",
       "    <tr>\n",
       "      <td>202605</td>\n",
       "      <td>1499_218</td>\n",
       "      <td>2018-10-06</td>\n",
       "      <td>4.27</td>\n",
       "      <td>1499</td>\n",
       "    </tr>\n",
       "    <tr>\n",
       "      <td>202606</td>\n",
       "      <td>1499_219</td>\n",
       "      <td>2018-12-14</td>\n",
       "      <td>19.62</td>\n",
       "      <td>1499</td>\n",
       "    </tr>\n",
       "  </tbody>\n",
       "</table>\n",
       "<p>202607 rows × 4 columns</p>\n",
       "</div>"
      ],
      "text/plain": [
       "              id   call_date  duration  user_id\n",
       "0         1000_0  2018-07-25      0.00     1000\n",
       "1         1000_1  2018-08-17      0.00     1000\n",
       "2         1000_2  2018-06-11      2.85     1000\n",
       "3         1000_3  2018-09-21     13.80     1000\n",
       "4         1000_4  2018-12-15      5.18     1000\n",
       "...          ...         ...       ...      ...\n",
       "202602  1499_215  2018-12-26      0.76     1499\n",
       "202603  1499_216  2018-10-18     18.83     1499\n",
       "202604  1499_217  2018-11-10     10.81     1499\n",
       "202605  1499_218  2018-10-06      4.27     1499\n",
       "202606  1499_219  2018-12-14     19.62     1499\n",
       "\n",
       "[202607 rows x 4 columns]"
      ]
     },
     "metadata": {},
     "output_type": "display_data"
    }
   ],
   "source": [
    "#Вызовем таблицу при помощи display, посмотрим первые и последние 5 строк\n",
    "display(calls)"
   ]
  },
  {
   "cell_type": "code",
   "execution_count": 4,
   "metadata": {},
   "outputs": [
    {
     "data": {
      "text/html": [
       "<div>\n",
       "<style scoped>\n",
       "    .dataframe tbody tr th:only-of-type {\n",
       "        vertical-align: middle;\n",
       "    }\n",
       "\n",
       "    .dataframe tbody tr th {\n",
       "        vertical-align: top;\n",
       "    }\n",
       "\n",
       "    .dataframe thead th {\n",
       "        text-align: right;\n",
       "    }\n",
       "</style>\n",
       "<table border=\"1\" class=\"dataframe\">\n",
       "  <thead>\n",
       "    <tr style=\"text-align: right;\">\n",
       "      <th></th>\n",
       "      <th>id</th>\n",
       "      <th>call_date</th>\n",
       "      <th>duration</th>\n",
       "      <th>user_id</th>\n",
       "    </tr>\n",
       "  </thead>\n",
       "  <tbody>\n",
       "    <tr>\n",
       "      <td>40510</td>\n",
       "      <td>1100_33</td>\n",
       "      <td>2018-09-23</td>\n",
       "      <td>0.00</td>\n",
       "      <td>1100</td>\n",
       "    </tr>\n",
       "    <tr>\n",
       "      <td>150407</td>\n",
       "      <td>1377_1254</td>\n",
       "      <td>2018-04-03</td>\n",
       "      <td>12.26</td>\n",
       "      <td>1377</td>\n",
       "    </tr>\n",
       "    <tr>\n",
       "      <td>48714</td>\n",
       "      <td>1121_371</td>\n",
       "      <td>2018-12-27</td>\n",
       "      <td>11.24</td>\n",
       "      <td>1121</td>\n",
       "    </tr>\n",
       "    <tr>\n",
       "      <td>103039</td>\n",
       "      <td>1264_178</td>\n",
       "      <td>2018-10-22</td>\n",
       "      <td>4.46</td>\n",
       "      <td>1264</td>\n",
       "    </tr>\n",
       "    <tr>\n",
       "      <td>52767</td>\n",
       "      <td>1133_32</td>\n",
       "      <td>2018-12-08</td>\n",
       "      <td>6.41</td>\n",
       "      <td>1133</td>\n",
       "    </tr>\n",
       "    <tr>\n",
       "      <td>131357</td>\n",
       "      <td>1337_146</td>\n",
       "      <td>2018-06-26</td>\n",
       "      <td>3.30</td>\n",
       "      <td>1337</td>\n",
       "    </tr>\n",
       "    <tr>\n",
       "      <td>67046</td>\n",
       "      <td>1171_71</td>\n",
       "      <td>2018-09-28</td>\n",
       "      <td>14.44</td>\n",
       "      <td>1171</td>\n",
       "    </tr>\n",
       "    <tr>\n",
       "      <td>69132</td>\n",
       "      <td>1174_172</td>\n",
       "      <td>2018-07-29</td>\n",
       "      <td>7.93</td>\n",
       "      <td>1174</td>\n",
       "    </tr>\n",
       "    <tr>\n",
       "      <td>17461</td>\n",
       "      <td>1048_251</td>\n",
       "      <td>2018-12-27</td>\n",
       "      <td>8.21</td>\n",
       "      <td>1048</td>\n",
       "    </tr>\n",
       "    <tr>\n",
       "      <td>83622</td>\n",
       "      <td>1208_474</td>\n",
       "      <td>2018-05-04</td>\n",
       "      <td>6.47</td>\n",
       "      <td>1208</td>\n",
       "    </tr>\n",
       "  </tbody>\n",
       "</table>\n",
       "</div>"
      ],
      "text/plain": [
       "               id   call_date  duration  user_id\n",
       "40510     1100_33  2018-09-23      0.00     1100\n",
       "150407  1377_1254  2018-04-03     12.26     1377\n",
       "48714    1121_371  2018-12-27     11.24     1121\n",
       "103039   1264_178  2018-10-22      4.46     1264\n",
       "52767     1133_32  2018-12-08      6.41     1133\n",
       "131357   1337_146  2018-06-26      3.30     1337\n",
       "67046     1171_71  2018-09-28     14.44     1171\n",
       "69132    1174_172  2018-07-29      7.93     1174\n",
       "17461    1048_251  2018-12-27      8.21     1048\n",
       "83622    1208_474  2018-05-04      6.47     1208"
      ]
     },
     "execution_count": 4,
     "metadata": {},
     "output_type": "execute_result"
    }
   ],
   "source": [
    "#Вызовем 10 строк таблицы случайным образом\n",
    "# Random sample of 200 rows\n",
    "calls.sample(n=200, random_state=0).head(10)"
   ]
  },
  {
   "cell_type": "code",
   "execution_count": 5,
   "metadata": {},
   "outputs": [
    {
     "data": {
      "text/plain": [
       "Index(['id', 'call_date', 'duration', 'user_id'], dtype='object')"
      ]
     },
     "execution_count": 5,
     "metadata": {},
     "output_type": "execute_result"
    }
   ],
   "source": [
    "#Проверим корректность наименования столбцов\n",
    "calls.columns"
   ]
  },
  {
   "cell_type": "code",
   "execution_count": 6,
   "metadata": {},
   "outputs": [
    {
     "data": {
      "text/plain": [
       "id           0\n",
       "call_date    0\n",
       "duration     0\n",
       "user_id      0\n",
       "dtype: int64"
      ]
     },
     "execution_count": 6,
     "metadata": {},
     "output_type": "execute_result"
    }
   ],
   "source": [
    "#Проверим наличие пропусков во всей таблице\n",
    "calls.isna().sum()"
   ]
  },
  {
   "cell_type": "code",
   "execution_count": 7,
   "metadata": {},
   "outputs": [
    {
     "data": {
      "text/html": [
       "<div>\n",
       "<style scoped>\n",
       "    .dataframe tbody tr th:only-of-type {\n",
       "        vertical-align: middle;\n",
       "    }\n",
       "\n",
       "    .dataframe tbody tr th {\n",
       "        vertical-align: top;\n",
       "    }\n",
       "\n",
       "    .dataframe thead th {\n",
       "        text-align: right;\n",
       "    }\n",
       "</style>\n",
       "<table border=\"1\" class=\"dataframe\">\n",
       "  <thead>\n",
       "    <tr style=\"text-align: right;\">\n",
       "      <th></th>\n",
       "      <th>duration</th>\n",
       "      <th>user_id</th>\n",
       "    </tr>\n",
       "  </thead>\n",
       "  <tbody>\n",
       "    <tr>\n",
       "      <td>count</td>\n",
       "      <td>202607.000000</td>\n",
       "      <td>202607.000000</td>\n",
       "    </tr>\n",
       "    <tr>\n",
       "      <td>mean</td>\n",
       "      <td>6.755887</td>\n",
       "      <td>1253.940619</td>\n",
       "    </tr>\n",
       "    <tr>\n",
       "      <td>std</td>\n",
       "      <td>5.843365</td>\n",
       "      <td>144.722751</td>\n",
       "    </tr>\n",
       "    <tr>\n",
       "      <td>min</td>\n",
       "      <td>0.000000</td>\n",
       "      <td>1000.000000</td>\n",
       "    </tr>\n",
       "    <tr>\n",
       "      <td>25%</td>\n",
       "      <td>1.300000</td>\n",
       "      <td>1126.000000</td>\n",
       "    </tr>\n",
       "    <tr>\n",
       "      <td>50%</td>\n",
       "      <td>6.000000</td>\n",
       "      <td>1260.000000</td>\n",
       "    </tr>\n",
       "    <tr>\n",
       "      <td>75%</td>\n",
       "      <td>10.700000</td>\n",
       "      <td>1379.000000</td>\n",
       "    </tr>\n",
       "    <tr>\n",
       "      <td>max</td>\n",
       "      <td>38.000000</td>\n",
       "      <td>1499.000000</td>\n",
       "    </tr>\n",
       "  </tbody>\n",
       "</table>\n",
       "</div>"
      ],
      "text/plain": [
       "            duration        user_id\n",
       "count  202607.000000  202607.000000\n",
       "mean        6.755887    1253.940619\n",
       "std         5.843365     144.722751\n",
       "min         0.000000    1000.000000\n",
       "25%         1.300000    1126.000000\n",
       "50%         6.000000    1260.000000\n",
       "75%        10.700000    1379.000000\n",
       "max        38.000000    1499.000000"
      ]
     },
     "execution_count": 7,
     "metadata": {},
     "output_type": "execute_result"
    }
   ],
   "source": [
    "#Применим describe()\n",
    "calls.describe()"
   ]
  },
  {
   "cell_type": "code",
   "execution_count": 8,
   "metadata": {},
   "outputs": [
    {
     "name": "stdout",
     "output_type": "stream",
     "text": [
      "<class 'pandas.core.frame.DataFrame'>\n",
      "RangeIndex: 202607 entries, 0 to 202606\n",
      "Data columns (total 4 columns):\n",
      "id           202607 non-null object\n",
      "call_date    202607 non-null object\n",
      "duration     202607 non-null float64\n",
      "user_id      202607 non-null int64\n",
      "dtypes: float64(1), int64(1), object(2)\n",
      "memory usage: 6.2+ MB\n"
     ]
    }
   ],
   "source": [
    "#Вызовем общую информацию о таблице \n",
    "calls.info()"
   ]
  },
  {
   "cell_type": "markdown",
   "metadata": {},
   "source": [
    "В таблице с данными о звонках 4 столбца, 202607 строк (202607 звонков). Наименования столбцов корректны. Пропуски отсутствуют, однако в столбце с длительностью звонка много нулевых значений. Максимальная длительность звонка - 38 мин, средняя (по медиане) - 6 мин. В столбце с датой звонка тип данных object, в столбце с длительностью звонка - float64."
   ]
  },
  {
   "cell_type": "markdown",
   "metadata": {},
   "source": [
    "##### Данные об интернет- траффике"
   ]
  },
  {
   "cell_type": "code",
   "execution_count": 9,
   "metadata": {},
   "outputs": [
    {
     "data": {
      "text/html": [
       "<div>\n",
       "<style scoped>\n",
       "    .dataframe tbody tr th:only-of-type {\n",
       "        vertical-align: middle;\n",
       "    }\n",
       "\n",
       "    .dataframe tbody tr th {\n",
       "        vertical-align: top;\n",
       "    }\n",
       "\n",
       "    .dataframe thead th {\n",
       "        text-align: right;\n",
       "    }\n",
       "</style>\n",
       "<table border=\"1\" class=\"dataframe\">\n",
       "  <thead>\n",
       "    <tr style=\"text-align: right;\">\n",
       "      <th></th>\n",
       "      <th>Unnamed: 0</th>\n",
       "      <th>id</th>\n",
       "      <th>mb_used</th>\n",
       "      <th>session_date</th>\n",
       "      <th>user_id</th>\n",
       "    </tr>\n",
       "  </thead>\n",
       "  <tbody>\n",
       "    <tr>\n",
       "      <td>0</td>\n",
       "      <td>0</td>\n",
       "      <td>1000_0</td>\n",
       "      <td>112.95</td>\n",
       "      <td>2018-11-25</td>\n",
       "      <td>1000</td>\n",
       "    </tr>\n",
       "    <tr>\n",
       "      <td>1</td>\n",
       "      <td>1</td>\n",
       "      <td>1000_1</td>\n",
       "      <td>1052.81</td>\n",
       "      <td>2018-09-07</td>\n",
       "      <td>1000</td>\n",
       "    </tr>\n",
       "    <tr>\n",
       "      <td>2</td>\n",
       "      <td>2</td>\n",
       "      <td>1000_2</td>\n",
       "      <td>1197.26</td>\n",
       "      <td>2018-06-25</td>\n",
       "      <td>1000</td>\n",
       "    </tr>\n",
       "    <tr>\n",
       "      <td>3</td>\n",
       "      <td>3</td>\n",
       "      <td>1000_3</td>\n",
       "      <td>550.27</td>\n",
       "      <td>2018-08-22</td>\n",
       "      <td>1000</td>\n",
       "    </tr>\n",
       "    <tr>\n",
       "      <td>4</td>\n",
       "      <td>4</td>\n",
       "      <td>1000_4</td>\n",
       "      <td>302.56</td>\n",
       "      <td>2018-09-24</td>\n",
       "      <td>1000</td>\n",
       "    </tr>\n",
       "    <tr>\n",
       "      <td>...</td>\n",
       "      <td>...</td>\n",
       "      <td>...</td>\n",
       "      <td>...</td>\n",
       "      <td>...</td>\n",
       "      <td>...</td>\n",
       "    </tr>\n",
       "    <tr>\n",
       "      <td>149391</td>\n",
       "      <td>149391</td>\n",
       "      <td>1499_152</td>\n",
       "      <td>318.90</td>\n",
       "      <td>2018-10-03</td>\n",
       "      <td>1499</td>\n",
       "    </tr>\n",
       "    <tr>\n",
       "      <td>149392</td>\n",
       "      <td>149392</td>\n",
       "      <td>1499_153</td>\n",
       "      <td>490.13</td>\n",
       "      <td>2018-12-14</td>\n",
       "      <td>1499</td>\n",
       "    </tr>\n",
       "    <tr>\n",
       "      <td>149393</td>\n",
       "      <td>149393</td>\n",
       "      <td>1499_154</td>\n",
       "      <td>0.00</td>\n",
       "      <td>2018-10-27</td>\n",
       "      <td>1499</td>\n",
       "    </tr>\n",
       "    <tr>\n",
       "      <td>149394</td>\n",
       "      <td>149394</td>\n",
       "      <td>1499_155</td>\n",
       "      <td>1246.32</td>\n",
       "      <td>2018-11-26</td>\n",
       "      <td>1499</td>\n",
       "    </tr>\n",
       "    <tr>\n",
       "      <td>149395</td>\n",
       "      <td>149395</td>\n",
       "      <td>1499_156</td>\n",
       "      <td>544.37</td>\n",
       "      <td>2018-10-26</td>\n",
       "      <td>1499</td>\n",
       "    </tr>\n",
       "  </tbody>\n",
       "</table>\n",
       "<p>149396 rows × 5 columns</p>\n",
       "</div>"
      ],
      "text/plain": [
       "        Unnamed: 0        id  mb_used session_date  user_id\n",
       "0                0    1000_0   112.95   2018-11-25     1000\n",
       "1                1    1000_1  1052.81   2018-09-07     1000\n",
       "2                2    1000_2  1197.26   2018-06-25     1000\n",
       "3                3    1000_3   550.27   2018-08-22     1000\n",
       "4                4    1000_4   302.56   2018-09-24     1000\n",
       "...            ...       ...      ...          ...      ...\n",
       "149391      149391  1499_152   318.90   2018-10-03     1499\n",
       "149392      149392  1499_153   490.13   2018-12-14     1499\n",
       "149393      149393  1499_154     0.00   2018-10-27     1499\n",
       "149394      149394  1499_155  1246.32   2018-11-26     1499\n",
       "149395      149395  1499_156   544.37   2018-10-26     1499\n",
       "\n",
       "[149396 rows x 5 columns]"
      ]
     },
     "metadata": {},
     "output_type": "display_data"
    }
   ],
   "source": [
    "#Вызовем таблицу при помощи display, посмотрим первые и последние 5 строк\n",
    "display(internet)"
   ]
  },
  {
   "cell_type": "code",
   "execution_count": 10,
   "metadata": {},
   "outputs": [
    {
     "data": {
      "text/html": [
       "<div>\n",
       "<style scoped>\n",
       "    .dataframe tbody tr th:only-of-type {\n",
       "        vertical-align: middle;\n",
       "    }\n",
       "\n",
       "    .dataframe tbody tr th {\n",
       "        vertical-align: top;\n",
       "    }\n",
       "\n",
       "    .dataframe thead th {\n",
       "        text-align: right;\n",
       "    }\n",
       "</style>\n",
       "<table border=\"1\" class=\"dataframe\">\n",
       "  <thead>\n",
       "    <tr style=\"text-align: right;\">\n",
       "      <th></th>\n",
       "      <th>Unnamed: 0</th>\n",
       "      <th>id</th>\n",
       "      <th>mb_used</th>\n",
       "      <th>session_date</th>\n",
       "      <th>user_id</th>\n",
       "    </tr>\n",
       "  </thead>\n",
       "  <tbody>\n",
       "    <tr>\n",
       "      <td>59831</td>\n",
       "      <td>59831</td>\n",
       "      <td>1203_79</td>\n",
       "      <td>550.23</td>\n",
       "      <td>2018-04-10</td>\n",
       "      <td>1203</td>\n",
       "    </tr>\n",
       "    <tr>\n",
       "      <td>10034</td>\n",
       "      <td>10034</td>\n",
       "      <td>1034_24</td>\n",
       "      <td>316.66</td>\n",
       "      <td>2018-10-27</td>\n",
       "      <td>1034</td>\n",
       "    </tr>\n",
       "    <tr>\n",
       "      <td>47394</td>\n",
       "      <td>47394</td>\n",
       "      <td>1163_26</td>\n",
       "      <td>603.96</td>\n",
       "      <td>2018-12-10</td>\n",
       "      <td>1163</td>\n",
       "    </tr>\n",
       "    <tr>\n",
       "      <td>105986</td>\n",
       "      <td>105986</td>\n",
       "      <td>1358_180</td>\n",
       "      <td>720.55</td>\n",
       "      <td>2018-09-26</td>\n",
       "      <td>1358</td>\n",
       "    </tr>\n",
       "    <tr>\n",
       "      <td>30604</td>\n",
       "      <td>30604</td>\n",
       "      <td>1107_87</td>\n",
       "      <td>465.99</td>\n",
       "      <td>2018-11-22</td>\n",
       "      <td>1107</td>\n",
       "    </tr>\n",
       "    <tr>\n",
       "      <td>55882</td>\n",
       "      <td>55882</td>\n",
       "      <td>1186_347</td>\n",
       "      <td>11.33</td>\n",
       "      <td>2018-05-06</td>\n",
       "      <td>1186</td>\n",
       "    </tr>\n",
       "    <tr>\n",
       "      <td>133718</td>\n",
       "      <td>133718</td>\n",
       "      <td>1448_75</td>\n",
       "      <td>0.00</td>\n",
       "      <td>2018-09-23</td>\n",
       "      <td>1448</td>\n",
       "    </tr>\n",
       "    <tr>\n",
       "      <td>122896</td>\n",
       "      <td>122896</td>\n",
       "      <td>1413_301</td>\n",
       "      <td>0.00</td>\n",
       "      <td>2018-09-05</td>\n",
       "      <td>1413</td>\n",
       "    </tr>\n",
       "    <tr>\n",
       "      <td>65750</td>\n",
       "      <td>65750</td>\n",
       "      <td>1224_396</td>\n",
       "      <td>0.00</td>\n",
       "      <td>2018-07-18</td>\n",
       "      <td>1224</td>\n",
       "    </tr>\n",
       "    <tr>\n",
       "      <td>117552</td>\n",
       "      <td>117552</td>\n",
       "      <td>1395_236</td>\n",
       "      <td>0.00</td>\n",
       "      <td>2018-11-09</td>\n",
       "      <td>1395</td>\n",
       "    </tr>\n",
       "  </tbody>\n",
       "</table>\n",
       "</div>"
      ],
      "text/plain": [
       "        Unnamed: 0        id  mb_used session_date  user_id\n",
       "59831        59831   1203_79   550.23   2018-04-10     1203\n",
       "10034        10034   1034_24   316.66   2018-10-27     1034\n",
       "47394        47394   1163_26   603.96   2018-12-10     1163\n",
       "105986      105986  1358_180   720.55   2018-09-26     1358\n",
       "30604        30604   1107_87   465.99   2018-11-22     1107\n",
       "55882        55882  1186_347    11.33   2018-05-06     1186\n",
       "133718      133718   1448_75     0.00   2018-09-23     1448\n",
       "122896      122896  1413_301     0.00   2018-09-05     1413\n",
       "65750        65750  1224_396     0.00   2018-07-18     1224\n",
       "117552      117552  1395_236     0.00   2018-11-09     1395"
      ]
     },
     "execution_count": 10,
     "metadata": {},
     "output_type": "execute_result"
    }
   ],
   "source": [
    "#Вызовем 10 строк таблицы случайным образом\n",
    "internet.sample(10)"
   ]
  },
  {
   "cell_type": "code",
   "execution_count": 11,
   "metadata": {},
   "outputs": [
    {
     "data": {
      "text/plain": [
       "Index(['Unnamed: 0', 'id', 'mb_used', 'session_date', 'user_id'], dtype='object')"
      ]
     },
     "execution_count": 11,
     "metadata": {},
     "output_type": "execute_result"
    }
   ],
   "source": [
    "#Проверим корректность наименования столбцов\n",
    "internet.columns"
   ]
  },
  {
   "cell_type": "code",
   "execution_count": 12,
   "metadata": {},
   "outputs": [
    {
     "data": {
      "text/plain": [
       "Unnamed: 0      0\n",
       "id              0\n",
       "mb_used         0\n",
       "session_date    0\n",
       "user_id         0\n",
       "dtype: int64"
      ]
     },
     "execution_count": 12,
     "metadata": {},
     "output_type": "execute_result"
    }
   ],
   "source": [
    "#Проверим наличие пропусков во всей таблице\n",
    "internet.isna().sum()"
   ]
  },
  {
   "cell_type": "code",
   "execution_count": 13,
   "metadata": {},
   "outputs": [
    {
     "data": {
      "text/html": [
       "<div>\n",
       "<style scoped>\n",
       "    .dataframe tbody tr th:only-of-type {\n",
       "        vertical-align: middle;\n",
       "    }\n",
       "\n",
       "    .dataframe tbody tr th {\n",
       "        vertical-align: top;\n",
       "    }\n",
       "\n",
       "    .dataframe thead th {\n",
       "        text-align: right;\n",
       "    }\n",
       "</style>\n",
       "<table border=\"1\" class=\"dataframe\">\n",
       "  <thead>\n",
       "    <tr style=\"text-align: right;\">\n",
       "      <th></th>\n",
       "      <th>Unnamed: 0</th>\n",
       "      <th>mb_used</th>\n",
       "      <th>user_id</th>\n",
       "    </tr>\n",
       "  </thead>\n",
       "  <tbody>\n",
       "    <tr>\n",
       "      <td>count</td>\n",
       "      <td>149396.000000</td>\n",
       "      <td>149396.000000</td>\n",
       "      <td>149396.000000</td>\n",
       "    </tr>\n",
       "    <tr>\n",
       "      <td>mean</td>\n",
       "      <td>74697.500000</td>\n",
       "      <td>370.192426</td>\n",
       "      <td>1252.099842</td>\n",
       "    </tr>\n",
       "    <tr>\n",
       "      <td>std</td>\n",
       "      <td>43127.054745</td>\n",
       "      <td>278.300951</td>\n",
       "      <td>144.050823</td>\n",
       "    </tr>\n",
       "    <tr>\n",
       "      <td>min</td>\n",
       "      <td>0.000000</td>\n",
       "      <td>0.000000</td>\n",
       "      <td>1000.000000</td>\n",
       "    </tr>\n",
       "    <tr>\n",
       "      <td>25%</td>\n",
       "      <td>37348.750000</td>\n",
       "      <td>138.187500</td>\n",
       "      <td>1130.000000</td>\n",
       "    </tr>\n",
       "    <tr>\n",
       "      <td>50%</td>\n",
       "      <td>74697.500000</td>\n",
       "      <td>348.015000</td>\n",
       "      <td>1251.000000</td>\n",
       "    </tr>\n",
       "    <tr>\n",
       "      <td>75%</td>\n",
       "      <td>112046.250000</td>\n",
       "      <td>559.552500</td>\n",
       "      <td>1380.000000</td>\n",
       "    </tr>\n",
       "    <tr>\n",
       "      <td>max</td>\n",
       "      <td>149395.000000</td>\n",
       "      <td>1724.830000</td>\n",
       "      <td>1499.000000</td>\n",
       "    </tr>\n",
       "  </tbody>\n",
       "</table>\n",
       "</div>"
      ],
      "text/plain": [
       "          Unnamed: 0        mb_used        user_id\n",
       "count  149396.000000  149396.000000  149396.000000\n",
       "mean    74697.500000     370.192426    1252.099842\n",
       "std     43127.054745     278.300951     144.050823\n",
       "min         0.000000       0.000000    1000.000000\n",
       "25%     37348.750000     138.187500    1130.000000\n",
       "50%     74697.500000     348.015000    1251.000000\n",
       "75%    112046.250000     559.552500    1380.000000\n",
       "max    149395.000000    1724.830000    1499.000000"
      ]
     },
     "execution_count": 13,
     "metadata": {},
     "output_type": "execute_result"
    }
   ],
   "source": [
    "#Применим describe()\n",
    "internet.describe()"
   ]
  },
  {
   "cell_type": "code",
   "execution_count": 14,
   "metadata": {},
   "outputs": [
    {
     "name": "stdout",
     "output_type": "stream",
     "text": [
      "<class 'pandas.core.frame.DataFrame'>\n",
      "RangeIndex: 149396 entries, 0 to 149395\n",
      "Data columns (total 5 columns):\n",
      "Unnamed: 0      149396 non-null int64\n",
      "id              149396 non-null object\n",
      "mb_used         149396 non-null float64\n",
      "session_date    149396 non-null object\n",
      "user_id         149396 non-null int64\n",
      "dtypes: float64(1), int64(2), object(2)\n",
      "memory usage: 5.7+ MB\n"
     ]
    }
   ],
   "source": [
    "#Вызовем общую информацию о таблице \n",
    "internet.info()"
   ]
  },
  {
   "cell_type": "markdown",
   "metadata": {},
   "source": [
    "В таблице с данными об интернет- траффике 4 столбца, 149396 строк (149396 интернет- сессий). Наименования столбцов корректны. Пропуски отсутствуют, однако в столбце с количеством использованных Мб имеются нулевые значения. Максимальный траффик за сессию - 1724,83 МБ, средний (по медиане) - 348,015 МБ. В столбце с датой использования интернета тип данных object, в столбце с траффиком - float64."
   ]
  },
  {
   "cell_type": "markdown",
   "metadata": {},
   "source": [
    "##### Данные о сообщениях (далее - смс)"
   ]
  },
  {
   "cell_type": "code",
   "execution_count": 15,
   "metadata": {},
   "outputs": [
    {
     "data": {
      "text/html": [
       "<div>\n",
       "<style scoped>\n",
       "    .dataframe tbody tr th:only-of-type {\n",
       "        vertical-align: middle;\n",
       "    }\n",
       "\n",
       "    .dataframe tbody tr th {\n",
       "        vertical-align: top;\n",
       "    }\n",
       "\n",
       "    .dataframe thead th {\n",
       "        text-align: right;\n",
       "    }\n",
       "</style>\n",
       "<table border=\"1\" class=\"dataframe\">\n",
       "  <thead>\n",
       "    <tr style=\"text-align: right;\">\n",
       "      <th></th>\n",
       "      <th>id</th>\n",
       "      <th>message_date</th>\n",
       "      <th>user_id</th>\n",
       "    </tr>\n",
       "  </thead>\n",
       "  <tbody>\n",
       "    <tr>\n",
       "      <td>0</td>\n",
       "      <td>1000_0</td>\n",
       "      <td>2018-06-27</td>\n",
       "      <td>1000</td>\n",
       "    </tr>\n",
       "    <tr>\n",
       "      <td>1</td>\n",
       "      <td>1000_1</td>\n",
       "      <td>2018-10-08</td>\n",
       "      <td>1000</td>\n",
       "    </tr>\n",
       "    <tr>\n",
       "      <td>2</td>\n",
       "      <td>1000_2</td>\n",
       "      <td>2018-08-04</td>\n",
       "      <td>1000</td>\n",
       "    </tr>\n",
       "    <tr>\n",
       "      <td>3</td>\n",
       "      <td>1000_3</td>\n",
       "      <td>2018-06-16</td>\n",
       "      <td>1000</td>\n",
       "    </tr>\n",
       "    <tr>\n",
       "      <td>4</td>\n",
       "      <td>1000_4</td>\n",
       "      <td>2018-12-05</td>\n",
       "      <td>1000</td>\n",
       "    </tr>\n",
       "    <tr>\n",
       "      <td>...</td>\n",
       "      <td>...</td>\n",
       "      <td>...</td>\n",
       "      <td>...</td>\n",
       "    </tr>\n",
       "    <tr>\n",
       "      <td>123031</td>\n",
       "      <td>1499_179</td>\n",
       "      <td>2018-12-12</td>\n",
       "      <td>1499</td>\n",
       "    </tr>\n",
       "    <tr>\n",
       "      <td>123032</td>\n",
       "      <td>1499_180</td>\n",
       "      <td>2018-09-28</td>\n",
       "      <td>1499</td>\n",
       "    </tr>\n",
       "    <tr>\n",
       "      <td>123033</td>\n",
       "      <td>1499_181</td>\n",
       "      <td>2018-09-27</td>\n",
       "      <td>1499</td>\n",
       "    </tr>\n",
       "    <tr>\n",
       "      <td>123034</td>\n",
       "      <td>1499_182</td>\n",
       "      <td>2018-11-15</td>\n",
       "      <td>1499</td>\n",
       "    </tr>\n",
       "    <tr>\n",
       "      <td>123035</td>\n",
       "      <td>1499_183</td>\n",
       "      <td>2018-11-16</td>\n",
       "      <td>1499</td>\n",
       "    </tr>\n",
       "  </tbody>\n",
       "</table>\n",
       "<p>123036 rows × 3 columns</p>\n",
       "</div>"
      ],
      "text/plain": [
       "              id message_date  user_id\n",
       "0         1000_0   2018-06-27     1000\n",
       "1         1000_1   2018-10-08     1000\n",
       "2         1000_2   2018-08-04     1000\n",
       "3         1000_3   2018-06-16     1000\n",
       "4         1000_4   2018-12-05     1000\n",
       "...          ...          ...      ...\n",
       "123031  1499_179   2018-12-12     1499\n",
       "123032  1499_180   2018-09-28     1499\n",
       "123033  1499_181   2018-09-27     1499\n",
       "123034  1499_182   2018-11-15     1499\n",
       "123035  1499_183   2018-11-16     1499\n",
       "\n",
       "[123036 rows x 3 columns]"
      ]
     },
     "metadata": {},
     "output_type": "display_data"
    }
   ],
   "source": [
    "#Вызовем таблицу при помощи display, посмотрим первые и последние 5 строк\n",
    "display(messages)"
   ]
  },
  {
   "cell_type": "code",
   "execution_count": 16,
   "metadata": {},
   "outputs": [
    {
     "data": {
      "text/plain": [
       "Index(['id', 'message_date', 'user_id'], dtype='object')"
      ]
     },
     "execution_count": 16,
     "metadata": {},
     "output_type": "execute_result"
    }
   ],
   "source": [
    "#Проверим корректность наименования столбцов\n",
    "messages.columns"
   ]
  },
  {
   "cell_type": "code",
   "execution_count": 17,
   "metadata": {},
   "outputs": [
    {
     "data": {
      "text/plain": [
       "id              0\n",
       "message_date    0\n",
       "user_id         0\n",
       "dtype: int64"
      ]
     },
     "execution_count": 17,
     "metadata": {},
     "output_type": "execute_result"
    }
   ],
   "source": [
    "#Проверим наличие пропусков во всей таблице\n",
    "messages.isna().sum()"
   ]
  },
  {
   "cell_type": "code",
   "execution_count": 18,
   "metadata": {},
   "outputs": [
    {
     "name": "stdout",
     "output_type": "stream",
     "text": [
      "<class 'pandas.core.frame.DataFrame'>\n",
      "RangeIndex: 123036 entries, 0 to 123035\n",
      "Data columns (total 3 columns):\n",
      "id              123036 non-null object\n",
      "message_date    123036 non-null object\n",
      "user_id         123036 non-null int64\n",
      "dtypes: int64(1), object(2)\n",
      "memory usage: 2.8+ MB\n"
     ]
    }
   ],
   "source": [
    "#Вызовем общую информацию о таблице \n",
    "messages.info()"
   ]
  },
  {
   "cell_type": "markdown",
   "metadata": {},
   "source": [
    "В таблице с данными о смс, отправленных пользователями, 2 столбца, 123036 строк (123036 смс). Наименования столбцов корректны. Пропуски отсутствуют. В столбце с датой отправки смс тип данных object."
   ]
  },
  {
   "cell_type": "markdown",
   "metadata": {},
   "source": [
    "##### Данные о тарифах"
   ]
  },
  {
   "cell_type": "code",
   "execution_count": 19,
   "metadata": {},
   "outputs": [
    {
     "data": {
      "text/html": [
       "<div>\n",
       "<style scoped>\n",
       "    .dataframe tbody tr th:only-of-type {\n",
       "        vertical-align: middle;\n",
       "    }\n",
       "\n",
       "    .dataframe tbody tr th {\n",
       "        vertical-align: top;\n",
       "    }\n",
       "\n",
       "    .dataframe thead th {\n",
       "        text-align: right;\n",
       "    }\n",
       "</style>\n",
       "<table border=\"1\" class=\"dataframe\">\n",
       "  <thead>\n",
       "    <tr style=\"text-align: right;\">\n",
       "      <th></th>\n",
       "      <th>messages_included</th>\n",
       "      <th>mb_per_month_included</th>\n",
       "      <th>minutes_included</th>\n",
       "      <th>rub_monthly_fee</th>\n",
       "      <th>rub_per_gb</th>\n",
       "      <th>rub_per_message</th>\n",
       "      <th>rub_per_minute</th>\n",
       "      <th>tariff_name</th>\n",
       "    </tr>\n",
       "  </thead>\n",
       "  <tbody>\n",
       "    <tr>\n",
       "      <td>0</td>\n",
       "      <td>50</td>\n",
       "      <td>15360</td>\n",
       "      <td>500</td>\n",
       "      <td>550</td>\n",
       "      <td>200</td>\n",
       "      <td>3</td>\n",
       "      <td>3</td>\n",
       "      <td>smart</td>\n",
       "    </tr>\n",
       "    <tr>\n",
       "      <td>1</td>\n",
       "      <td>1000</td>\n",
       "      <td>30720</td>\n",
       "      <td>3000</td>\n",
       "      <td>1950</td>\n",
       "      <td>150</td>\n",
       "      <td>1</td>\n",
       "      <td>1</td>\n",
       "      <td>ultra</td>\n",
       "    </tr>\n",
       "  </tbody>\n",
       "</table>\n",
       "</div>"
      ],
      "text/plain": [
       "   messages_included  mb_per_month_included  minutes_included  \\\n",
       "0                 50                  15360               500   \n",
       "1               1000                  30720              3000   \n",
       "\n",
       "   rub_monthly_fee  rub_per_gb  rub_per_message  rub_per_minute tariff_name  \n",
       "0              550         200                3               3       smart  \n",
       "1             1950         150                1               1       ultra  "
      ]
     },
     "metadata": {},
     "output_type": "display_data"
    }
   ],
   "source": [
    "#Вызовем таблицу при помощи display, посмотрим первые и последние 5 строк\n",
    "display(tariffs)"
   ]
  },
  {
   "cell_type": "code",
   "execution_count": 20,
   "metadata": {},
   "outputs": [
    {
     "data": {
      "text/plain": [
       "Index(['messages_included', 'mb_per_month_included', 'minutes_included',\n",
       "       'rub_monthly_fee', 'rub_per_gb', 'rub_per_message', 'rub_per_minute',\n",
       "       'tariff_name'],\n",
       "      dtype='object')"
      ]
     },
     "execution_count": 20,
     "metadata": {},
     "output_type": "execute_result"
    }
   ],
   "source": [
    "#Проверим корректность наименования столбцов\n",
    "tariffs.columns"
   ]
  },
  {
   "cell_type": "code",
   "execution_count": 21,
   "metadata": {},
   "outputs": [
    {
     "data": {
      "text/plain": [
       "messages_included        0\n",
       "mb_per_month_included    0\n",
       "minutes_included         0\n",
       "rub_monthly_fee          0\n",
       "rub_per_gb               0\n",
       "rub_per_message          0\n",
       "rub_per_minute           0\n",
       "tariff_name              0\n",
       "dtype: int64"
      ]
     },
     "execution_count": 21,
     "metadata": {},
     "output_type": "execute_result"
    }
   ],
   "source": [
    "#Проверим наличие пропусков во всей таблице\n",
    "tariffs.isna().sum()"
   ]
  },
  {
   "cell_type": "code",
   "execution_count": 22,
   "metadata": {},
   "outputs": [
    {
     "name": "stdout",
     "output_type": "stream",
     "text": [
      "<class 'pandas.core.frame.DataFrame'>\n",
      "RangeIndex: 2 entries, 0 to 1\n",
      "Data columns (total 8 columns):\n",
      "messages_included        2 non-null int64\n",
      "mb_per_month_included    2 non-null int64\n",
      "minutes_included         2 non-null int64\n",
      "rub_monthly_fee          2 non-null int64\n",
      "rub_per_gb               2 non-null int64\n",
      "rub_per_message          2 non-null int64\n",
      "rub_per_minute           2 non-null int64\n",
      "tariff_name              2 non-null object\n",
      "dtypes: int64(7), object(1)\n",
      "memory usage: 256.0+ bytes\n"
     ]
    }
   ],
   "source": [
    "#Вызовем общую информацию о таблице \n",
    "tariffs.info()"
   ]
  },
  {
   "cell_type": "markdown",
   "metadata": {},
   "source": [
    "В таблице с данными о тарифах, 7 столбцов, 2 строки (два тарифа). Наименования столбцов корректны. Пропуски отсутствуют. Типы данных корректны. "
   ]
  },
  {
   "cell_type": "markdown",
   "metadata": {},
   "source": [
    "##### Данные о пользователях"
   ]
  },
  {
   "cell_type": "code",
   "execution_count": 23,
   "metadata": {},
   "outputs": [
    {
     "data": {
      "text/html": [
       "<div>\n",
       "<style scoped>\n",
       "    .dataframe tbody tr th:only-of-type {\n",
       "        vertical-align: middle;\n",
       "    }\n",
       "\n",
       "    .dataframe tbody tr th {\n",
       "        vertical-align: top;\n",
       "    }\n",
       "\n",
       "    .dataframe thead th {\n",
       "        text-align: right;\n",
       "    }\n",
       "</style>\n",
       "<table border=\"1\" class=\"dataframe\">\n",
       "  <thead>\n",
       "    <tr style=\"text-align: right;\">\n",
       "      <th></th>\n",
       "      <th>user_id</th>\n",
       "      <th>age</th>\n",
       "      <th>churn_date</th>\n",
       "      <th>city</th>\n",
       "      <th>first_name</th>\n",
       "      <th>last_name</th>\n",
       "      <th>reg_date</th>\n",
       "      <th>tariff</th>\n",
       "    </tr>\n",
       "  </thead>\n",
       "  <tbody>\n",
       "    <tr>\n",
       "      <td>0</td>\n",
       "      <td>1000</td>\n",
       "      <td>52</td>\n",
       "      <td>NaN</td>\n",
       "      <td>Краснодар</td>\n",
       "      <td>Рафаил</td>\n",
       "      <td>Верещагин</td>\n",
       "      <td>2018-05-25</td>\n",
       "      <td>ultra</td>\n",
       "    </tr>\n",
       "    <tr>\n",
       "      <td>1</td>\n",
       "      <td>1001</td>\n",
       "      <td>41</td>\n",
       "      <td>NaN</td>\n",
       "      <td>Москва</td>\n",
       "      <td>Иван</td>\n",
       "      <td>Ежов</td>\n",
       "      <td>2018-11-01</td>\n",
       "      <td>smart</td>\n",
       "    </tr>\n",
       "    <tr>\n",
       "      <td>2</td>\n",
       "      <td>1002</td>\n",
       "      <td>59</td>\n",
       "      <td>NaN</td>\n",
       "      <td>Стерлитамак</td>\n",
       "      <td>Евгений</td>\n",
       "      <td>Абрамович</td>\n",
       "      <td>2018-06-17</td>\n",
       "      <td>smart</td>\n",
       "    </tr>\n",
       "    <tr>\n",
       "      <td>3</td>\n",
       "      <td>1003</td>\n",
       "      <td>23</td>\n",
       "      <td>NaN</td>\n",
       "      <td>Москва</td>\n",
       "      <td>Белла</td>\n",
       "      <td>Белякова</td>\n",
       "      <td>2018-08-17</td>\n",
       "      <td>ultra</td>\n",
       "    </tr>\n",
       "    <tr>\n",
       "      <td>4</td>\n",
       "      <td>1004</td>\n",
       "      <td>68</td>\n",
       "      <td>NaN</td>\n",
       "      <td>Новокузнецк</td>\n",
       "      <td>Татьяна</td>\n",
       "      <td>Авдеенко</td>\n",
       "      <td>2018-05-14</td>\n",
       "      <td>ultra</td>\n",
       "    </tr>\n",
       "    <tr>\n",
       "      <td>...</td>\n",
       "      <td>...</td>\n",
       "      <td>...</td>\n",
       "      <td>...</td>\n",
       "      <td>...</td>\n",
       "      <td>...</td>\n",
       "      <td>...</td>\n",
       "      <td>...</td>\n",
       "      <td>...</td>\n",
       "    </tr>\n",
       "    <tr>\n",
       "      <td>495</td>\n",
       "      <td>1495</td>\n",
       "      <td>65</td>\n",
       "      <td>NaN</td>\n",
       "      <td>Иркутск</td>\n",
       "      <td>Авксентий</td>\n",
       "      <td>Фокин</td>\n",
       "      <td>2018-08-28</td>\n",
       "      <td>ultra</td>\n",
       "    </tr>\n",
       "    <tr>\n",
       "      <td>496</td>\n",
       "      <td>1496</td>\n",
       "      <td>36</td>\n",
       "      <td>NaN</td>\n",
       "      <td>Вологда</td>\n",
       "      <td>Трифон</td>\n",
       "      <td>Блохин</td>\n",
       "      <td>2018-01-27</td>\n",
       "      <td>smart</td>\n",
       "    </tr>\n",
       "    <tr>\n",
       "      <td>497</td>\n",
       "      <td>1497</td>\n",
       "      <td>32</td>\n",
       "      <td>NaN</td>\n",
       "      <td>Челябинск</td>\n",
       "      <td>Каролина</td>\n",
       "      <td>Агеева</td>\n",
       "      <td>2018-10-09</td>\n",
       "      <td>smart</td>\n",
       "    </tr>\n",
       "    <tr>\n",
       "      <td>498</td>\n",
       "      <td>1498</td>\n",
       "      <td>68</td>\n",
       "      <td>2018-10-25</td>\n",
       "      <td>Владикавказ</td>\n",
       "      <td>Всеволод</td>\n",
       "      <td>Акимчин</td>\n",
       "      <td>2018-07-19</td>\n",
       "      <td>smart</td>\n",
       "    </tr>\n",
       "    <tr>\n",
       "      <td>499</td>\n",
       "      <td>1499</td>\n",
       "      <td>35</td>\n",
       "      <td>NaN</td>\n",
       "      <td>Пермь</td>\n",
       "      <td>Гектор</td>\n",
       "      <td>Корнилов</td>\n",
       "      <td>2018-09-27</td>\n",
       "      <td>smart</td>\n",
       "    </tr>\n",
       "  </tbody>\n",
       "</table>\n",
       "<p>500 rows × 8 columns</p>\n",
       "</div>"
      ],
      "text/plain": [
       "     user_id  age  churn_date         city first_name  last_name    reg_date  \\\n",
       "0       1000   52         NaN    Краснодар     Рафаил  Верещагин  2018-05-25   \n",
       "1       1001   41         NaN       Москва       Иван       Ежов  2018-11-01   \n",
       "2       1002   59         NaN  Стерлитамак    Евгений  Абрамович  2018-06-17   \n",
       "3       1003   23         NaN       Москва      Белла   Белякова  2018-08-17   \n",
       "4       1004   68         NaN  Новокузнецк    Татьяна   Авдеенко  2018-05-14   \n",
       "..       ...  ...         ...          ...        ...        ...         ...   \n",
       "495     1495   65         NaN      Иркутск  Авксентий      Фокин  2018-08-28   \n",
       "496     1496   36         NaN      Вологда     Трифон     Блохин  2018-01-27   \n",
       "497     1497   32         NaN    Челябинск   Каролина     Агеева  2018-10-09   \n",
       "498     1498   68  2018-10-25  Владикавказ   Всеволод    Акимчин  2018-07-19   \n",
       "499     1499   35         NaN        Пермь     Гектор   Корнилов  2018-09-27   \n",
       "\n",
       "    tariff  \n",
       "0    ultra  \n",
       "1    smart  \n",
       "2    smart  \n",
       "3    ultra  \n",
       "4    ultra  \n",
       "..     ...  \n",
       "495  ultra  \n",
       "496  smart  \n",
       "497  smart  \n",
       "498  smart  \n",
       "499  smart  \n",
       "\n",
       "[500 rows x 8 columns]"
      ]
     },
     "metadata": {},
     "output_type": "display_data"
    }
   ],
   "source": [
    "#Вызовем таблицу при помощи display, посмотрим первые и последние 5 строк\n",
    "display(users)"
   ]
  },
  {
   "cell_type": "code",
   "execution_count": 24,
   "metadata": {},
   "outputs": [
    {
     "data": {
      "text/html": [
       "<div>\n",
       "<style scoped>\n",
       "    .dataframe tbody tr th:only-of-type {\n",
       "        vertical-align: middle;\n",
       "    }\n",
       "\n",
       "    .dataframe tbody tr th {\n",
       "        vertical-align: top;\n",
       "    }\n",
       "\n",
       "    .dataframe thead th {\n",
       "        text-align: right;\n",
       "    }\n",
       "</style>\n",
       "<table border=\"1\" class=\"dataframe\">\n",
       "  <thead>\n",
       "    <tr style=\"text-align: right;\">\n",
       "      <th></th>\n",
       "      <th>user_id</th>\n",
       "      <th>age</th>\n",
       "      <th>churn_date</th>\n",
       "      <th>city</th>\n",
       "      <th>first_name</th>\n",
       "      <th>last_name</th>\n",
       "      <th>reg_date</th>\n",
       "      <th>tariff</th>\n",
       "    </tr>\n",
       "  </thead>\n",
       "  <tbody>\n",
       "    <tr>\n",
       "      <td>248</td>\n",
       "      <td>1248</td>\n",
       "      <td>51</td>\n",
       "      <td>NaN</td>\n",
       "      <td>Москва</td>\n",
       "      <td>Анатолий</td>\n",
       "      <td>Минаев</td>\n",
       "      <td>2018-05-28</td>\n",
       "      <td>smart</td>\n",
       "    </tr>\n",
       "    <tr>\n",
       "      <td>459</td>\n",
       "      <td>1459</td>\n",
       "      <td>31</td>\n",
       "      <td>NaN</td>\n",
       "      <td>Магнитогорск</td>\n",
       "      <td>Леон</td>\n",
       "      <td>Ёрохов</td>\n",
       "      <td>2018-10-10</td>\n",
       "      <td>smart</td>\n",
       "    </tr>\n",
       "    <tr>\n",
       "      <td>242</td>\n",
       "      <td>1242</td>\n",
       "      <td>39</td>\n",
       "      <td>2018-12-21</td>\n",
       "      <td>Хабаровск</td>\n",
       "      <td>Радим</td>\n",
       "      <td>Федосеев</td>\n",
       "      <td>2018-11-18</td>\n",
       "      <td>smart</td>\n",
       "    </tr>\n",
       "    <tr>\n",
       "      <td>5</td>\n",
       "      <td>1005</td>\n",
       "      <td>67</td>\n",
       "      <td>NaN</td>\n",
       "      <td>Набережные Челны</td>\n",
       "      <td>Афанасий</td>\n",
       "      <td>Горлов</td>\n",
       "      <td>2018-01-25</td>\n",
       "      <td>smart</td>\n",
       "    </tr>\n",
       "    <tr>\n",
       "      <td>46</td>\n",
       "      <td>1046</td>\n",
       "      <td>72</td>\n",
       "      <td>NaN</td>\n",
       "      <td>Тула</td>\n",
       "      <td>Екатерина</td>\n",
       "      <td>Александрова</td>\n",
       "      <td>2018-08-20</td>\n",
       "      <td>smart</td>\n",
       "    </tr>\n",
       "    <tr>\n",
       "      <td>495</td>\n",
       "      <td>1495</td>\n",
       "      <td>65</td>\n",
       "      <td>NaN</td>\n",
       "      <td>Иркутск</td>\n",
       "      <td>Авксентий</td>\n",
       "      <td>Фокин</td>\n",
       "      <td>2018-08-28</td>\n",
       "      <td>ultra</td>\n",
       "    </tr>\n",
       "    <tr>\n",
       "      <td>388</td>\n",
       "      <td>1388</td>\n",
       "      <td>24</td>\n",
       "      <td>NaN</td>\n",
       "      <td>Вологда</td>\n",
       "      <td>Рустам</td>\n",
       "      <td>Левин</td>\n",
       "      <td>2018-08-27</td>\n",
       "      <td>smart</td>\n",
       "    </tr>\n",
       "    <tr>\n",
       "      <td>202</td>\n",
       "      <td>1202</td>\n",
       "      <td>22</td>\n",
       "      <td>NaN</td>\n",
       "      <td>Владивосток</td>\n",
       "      <td>Адам</td>\n",
       "      <td>Адаменко</td>\n",
       "      <td>2018-09-20</td>\n",
       "      <td>smart</td>\n",
       "    </tr>\n",
       "    <tr>\n",
       "      <td>86</td>\n",
       "      <td>1086</td>\n",
       "      <td>73</td>\n",
       "      <td>NaN</td>\n",
       "      <td>Волгоград</td>\n",
       "      <td>Ириней</td>\n",
       "      <td>Аксёнов</td>\n",
       "      <td>2018-04-26</td>\n",
       "      <td>smart</td>\n",
       "    </tr>\n",
       "    <tr>\n",
       "      <td>132</td>\n",
       "      <td>1132</td>\n",
       "      <td>24</td>\n",
       "      <td>NaN</td>\n",
       "      <td>Москва</td>\n",
       "      <td>Маргарита</td>\n",
       "      <td>Алехина</td>\n",
       "      <td>2018-09-01</td>\n",
       "      <td>smart</td>\n",
       "    </tr>\n",
       "  </tbody>\n",
       "</table>\n",
       "</div>"
      ],
      "text/plain": [
       "     user_id  age  churn_date              city first_name     last_name  \\\n",
       "248     1248   51         NaN            Москва   Анатолий        Минаев   \n",
       "459     1459   31         NaN      Магнитогорск       Леон        Ёрохов   \n",
       "242     1242   39  2018-12-21         Хабаровск      Радим      Федосеев   \n",
       "5       1005   67         NaN  Набережные Челны   Афанасий        Горлов   \n",
       "46      1046   72         NaN              Тула  Екатерина  Александрова   \n",
       "495     1495   65         NaN           Иркутск  Авксентий         Фокин   \n",
       "388     1388   24         NaN           Вологда     Рустам         Левин   \n",
       "202     1202   22         NaN       Владивосток       Адам      Адаменко   \n",
       "86      1086   73         NaN         Волгоград     Ириней       Аксёнов   \n",
       "132     1132   24         NaN            Москва  Маргарита       Алехина   \n",
       "\n",
       "       reg_date tariff  \n",
       "248  2018-05-28  smart  \n",
       "459  2018-10-10  smart  \n",
       "242  2018-11-18  smart  \n",
       "5    2018-01-25  smart  \n",
       "46   2018-08-20  smart  \n",
       "495  2018-08-28  ultra  \n",
       "388  2018-08-27  smart  \n",
       "202  2018-09-20  smart  \n",
       "86   2018-04-26  smart  \n",
       "132  2018-09-01  smart  "
      ]
     },
     "execution_count": 24,
     "metadata": {},
     "output_type": "execute_result"
    }
   ],
   "source": [
    "#Вызовем 10 строк таблицы случайным образом\n",
    "users.sample(10)"
   ]
  },
  {
   "cell_type": "code",
   "execution_count": 25,
   "metadata": {},
   "outputs": [
    {
     "data": {
      "text/html": [
       "<div>\n",
       "<style scoped>\n",
       "    .dataframe tbody tr th:only-of-type {\n",
       "        vertical-align: middle;\n",
       "    }\n",
       "\n",
       "    .dataframe tbody tr th {\n",
       "        vertical-align: top;\n",
       "    }\n",
       "\n",
       "    .dataframe thead th {\n",
       "        text-align: right;\n",
       "    }\n",
       "</style>\n",
       "<table border=\"1\" class=\"dataframe\">\n",
       "  <thead>\n",
       "    <tr style=\"text-align: right;\">\n",
       "      <th></th>\n",
       "      <th>churn_date</th>\n",
       "    </tr>\n",
       "    <tr>\n",
       "      <th>tariff</th>\n",
       "      <th></th>\n",
       "    </tr>\n",
       "  </thead>\n",
       "  <tbody>\n",
       "    <tr>\n",
       "      <td>smart</td>\n",
       "      <td>23</td>\n",
       "    </tr>\n",
       "    <tr>\n",
       "      <td>ultra</td>\n",
       "      <td>15</td>\n",
       "    </tr>\n",
       "  </tbody>\n",
       "</table>\n",
       "</div>"
      ],
      "text/plain": [
       "        churn_date\n",
       "tariff            \n",
       "smart           23\n",
       "ultra           15"
      ]
     },
     "execution_count": 25,
     "metadata": {},
     "output_type": "execute_result"
    }
   ],
   "source": [
    "#Посмотрим, сколько пользователей отказались от своих тарифов на момент выгрузки данных\n",
    "users.pivot_table(index='tariff', values='churn_date', aggfunc='count')"
   ]
  },
  {
   "cell_type": "code",
   "execution_count": 26,
   "metadata": {},
   "outputs": [
    {
     "data": {
      "text/plain": [
       "Index(['user_id', 'age', 'churn_date', 'city', 'first_name', 'last_name',\n",
       "       'reg_date', 'tariff'],\n",
       "      dtype='object')"
      ]
     },
     "execution_count": 26,
     "metadata": {},
     "output_type": "execute_result"
    }
   ],
   "source": [
    "#Проверим корректность наименования столбцов\n",
    "users.columns"
   ]
  },
  {
   "cell_type": "code",
   "execution_count": 27,
   "metadata": {},
   "outputs": [
    {
     "data": {
      "text/plain": [
       "user_id         0\n",
       "age             0\n",
       "churn_date    462\n",
       "city            0\n",
       "first_name      0\n",
       "last_name       0\n",
       "reg_date        0\n",
       "tariff          0\n",
       "dtype: int64"
      ]
     },
     "execution_count": 27,
     "metadata": {},
     "output_type": "execute_result"
    }
   ],
   "source": [
    "#Проверим наличие пропусков во всей таблице\n",
    "users.isna().sum()"
   ]
  },
  {
   "cell_type": "code",
   "execution_count": 28,
   "metadata": {},
   "outputs": [
    {
     "data": {
      "text/html": [
       "<div>\n",
       "<style scoped>\n",
       "    .dataframe tbody tr th:only-of-type {\n",
       "        vertical-align: middle;\n",
       "    }\n",
       "\n",
       "    .dataframe tbody tr th {\n",
       "        vertical-align: top;\n",
       "    }\n",
       "\n",
       "    .dataframe thead th {\n",
       "        text-align: right;\n",
       "    }\n",
       "</style>\n",
       "<table border=\"1\" class=\"dataframe\">\n",
       "  <thead>\n",
       "    <tr style=\"text-align: right;\">\n",
       "      <th></th>\n",
       "      <th>user_id</th>\n",
       "      <th>age</th>\n",
       "    </tr>\n",
       "  </thead>\n",
       "  <tbody>\n",
       "    <tr>\n",
       "      <td>count</td>\n",
       "      <td>500.000000</td>\n",
       "      <td>500.00000</td>\n",
       "    </tr>\n",
       "    <tr>\n",
       "      <td>mean</td>\n",
       "      <td>1249.500000</td>\n",
       "      <td>46.58800</td>\n",
       "    </tr>\n",
       "    <tr>\n",
       "      <td>std</td>\n",
       "      <td>144.481833</td>\n",
       "      <td>16.66763</td>\n",
       "    </tr>\n",
       "    <tr>\n",
       "      <td>min</td>\n",
       "      <td>1000.000000</td>\n",
       "      <td>18.00000</td>\n",
       "    </tr>\n",
       "    <tr>\n",
       "      <td>25%</td>\n",
       "      <td>1124.750000</td>\n",
       "      <td>32.00000</td>\n",
       "    </tr>\n",
       "    <tr>\n",
       "      <td>50%</td>\n",
       "      <td>1249.500000</td>\n",
       "      <td>46.00000</td>\n",
       "    </tr>\n",
       "    <tr>\n",
       "      <td>75%</td>\n",
       "      <td>1374.250000</td>\n",
       "      <td>62.00000</td>\n",
       "    </tr>\n",
       "    <tr>\n",
       "      <td>max</td>\n",
       "      <td>1499.000000</td>\n",
       "      <td>75.00000</td>\n",
       "    </tr>\n",
       "  </tbody>\n",
       "</table>\n",
       "</div>"
      ],
      "text/plain": [
       "           user_id        age\n",
       "count   500.000000  500.00000\n",
       "mean   1249.500000   46.58800\n",
       "std     144.481833   16.66763\n",
       "min    1000.000000   18.00000\n",
       "25%    1124.750000   32.00000\n",
       "50%    1249.500000   46.00000\n",
       "75%    1374.250000   62.00000\n",
       "max    1499.000000   75.00000"
      ]
     },
     "execution_count": 28,
     "metadata": {},
     "output_type": "execute_result"
    }
   ],
   "source": [
    "#Применим describe()\n",
    "users.describe()"
   ]
  },
  {
   "cell_type": "code",
   "execution_count": 29,
   "metadata": {},
   "outputs": [
    {
     "name": "stdout",
     "output_type": "stream",
     "text": [
      "<class 'pandas.core.frame.DataFrame'>\n",
      "RangeIndex: 500 entries, 0 to 499\n",
      "Data columns (total 8 columns):\n",
      "user_id       500 non-null int64\n",
      "age           500 non-null int64\n",
      "churn_date    38 non-null object\n",
      "city          500 non-null object\n",
      "first_name    500 non-null object\n",
      "last_name     500 non-null object\n",
      "reg_date      500 non-null object\n",
      "tariff        500 non-null object\n",
      "dtypes: int64(2), object(6)\n",
      "memory usage: 31.4+ KB\n"
     ]
    }
   ],
   "source": [
    "#Вызовем общую информацию о таблице \n",
    "users.info()"
   ]
  },
  {
   "cell_type": "markdown",
   "metadata": {},
   "source": [
    "В таблице с данными о пользователях, 7 столбцов, 500 строк (500 пользователей). Наименования столбцов корректны. Пропуски отсутствуют. Возраст пользователей от 18 до 75 лет, в среднем (по медиане) - 46 лет. 38 пользователей прекратили пользоваться тарифом на момент выгрузки данных, NaN в столбце churn_date говорит о том, что на момент выгрузки данных тариф у пользователя действовал. В столбце churn_date значения NaN менять не нужно.  В столбце с датами тип данных object. "
   ]
  },
  {
   "cell_type": "markdown",
   "metadata": {},
   "source": [
    "##### Столбцы содержат следующую информацию:"
   ]
  },
  {
   "cell_type": "markdown",
   "metadata": {},
   "source": [
    "В таблице о звонках:\n",
    "- id           - идентификатор звонка  \n",
    "- call_date    - дата звонка\n",
    "- duration     - длительность звонка в минутах\n",
    "- user_id      - идентификатор пользователя, сделавшего звонок"
   ]
  },
  {
   "cell_type": "markdown",
   "metadata": {},
   "source": [
    "В таблице с данными интернет- траффика:\n",
    "- id              - уникальный номер интернет- сессии\n",
    "- mb_used         - объем потраченного за сессию интернет- траффика, в мегабайтах\n",
    "- session_date    - дата интрнет- сессии\n",
    "- user_id         - идентификатор пользователя"
   ]
  },
  {
   "cell_type": "markdown",
   "metadata": {},
   "source": [
    "В таблице с данными о сообщениях:\n",
    "- message_date    - дата сообщения \n",
    "- user_id         - идентификатор пользователя, отправившего сообщение"
   ]
  },
  {
   "cell_type": "markdown",
   "metadata": {},
   "source": [
    "В таблице с данными о тарифах:\n",
    "- mb_per_month_included    - объем интернет- траффика в месяц в рамках абоненской платы\n",
    "- minutes_included         - количество минут разговора в месяц в рамках абонентской платы\n",
    "- rub_monthly_fee          - ежемесячная абонентская плата, в рублях\n",
    "- rub_per_gb               - стоимость 1 Гб интернет- трафика сверх тарифного пакета\n",
    "- rub_per_message          - стоимость отправки 1 сообщения сверх тарифного пакета\n",
    "- rub_per_minute           - стоимость 1 минуты разговора сверх тарифного пакета\n",
    "- tariff_name              - название тарифа"
   ]
  },
  {
   "cell_type": "markdown",
   "metadata": {},
   "source": [
    "В таблице с данными о пользователях:\n",
    "- age           - возраст пользователя, в годах\n",
    "- churn_date    - дата прекращения пользования тарифом\n",
    "- city          - город проживания пользователя\n",
    "- first_name    - имя пользователя\n",
    "- last_name     - фамилия пользователя\n",
    "- reg_date      - дата подключения тарифа, день-месяц-год\n",
    "- tariff        - название тарифного плана"
   ]
  },
  {
   "cell_type": "markdown",
   "metadata": {},
   "source": [
    "### 1.3. Вывод"
   ]
  },
  {
   "cell_type": "markdown",
   "metadata": {},
   "source": [
    "#### Выявлены следующие явные проблемы в данных:\n",
    "- нулевые значения в столбце с длительностью звонка\n",
    "- нулевые значения в  столбце с количеством использованных Мб \n",
    "- некорректный тип данных в столбцах с датами \n",
    "- в столбцах с длительностью звонка, с траффиком тип данных  float64"
   ]
  },
  {
   "cell_type": "markdown",
   "metadata": {},
   "source": [
    "#### Задачи в рамках предобработки данных, которые нужно выполнить, исходя из полученной на текущем этапе информации:\n",
    "- заменить нулевые значения\t\n",
    "- заменить тип данных\n",
    "- проанализировать содержание данных в таблице о пользователях на предмет их корректности (приведем к нижнему регистру наименование города проживания, имя и фамилию пользователя, чтобы убедиться в отсутствии дубликатов)\n",
    "- проверить наличие дубликатов, удалить дубликаты при необходимости"
   ]
  },
  {
   "cell_type": "markdown",
   "metadata": {},
   "source": [
    "## 2. Предобработка данных"
   ]
  },
  {
   "cell_type": "markdown",
   "metadata": {},
   "source": [
    "### 2.1 Замена нулевых значений, типа данных"
   ]
  },
  {
   "cell_type": "markdown",
   "metadata": {},
   "source": [
    "В реальности по поводу нулевых значений в длительности звонков и интернет- сессий потребовалось бы обратиться к DE или заказчику, чтобы уточнить вероятную причину появления этих значений. Возможно, нули появились при неудачной попытке установить связь, и по факту они должны остаться нулями, так как в абонементский пакет они не входят. У нас отсутствует возможность уточнить данный момент, поэтому ориентируемся на условия тарифа и заменяем все нулевые значения на 1."
   ]
  },
  {
   "cell_type": "code",
   "execution_count": 30,
   "metadata": {},
   "outputs": [
    {
     "data": {
      "text/plain": [
       "39613"
      ]
     },
     "execution_count": 30,
     "metadata": {},
     "output_type": "execute_result"
    }
   ],
   "source": [
    "#Узнаем число звонков с нулевой длительностью\n",
    "calls.loc[calls['duration'] == 0, 'duration'].value_counts()[0]"
   ]
  },
  {
   "cell_type": "code",
   "execution_count": 31,
   "metadata": {},
   "outputs": [
    {
     "data": {
      "text/plain": [
       "19.551644316336553"
      ]
     },
     "execution_count": 31,
     "metadata": {},
     "output_type": "execute_result"
    }
   ],
   "source": [
    "#Узнаем процент нулевых значений\n",
    "calls.loc[calls['duration'] == 0, 'duration'].count()*100/len(calls['duration'])"
   ]
  },
  {
   "cell_type": "markdown",
   "metadata": {},
   "source": [
    "Сомнительно, что почти 20 % звонков 500 пользователей в течение года не приводили к соединению с абонементом. Все таки замена нулей на 1 минуту уместна."
   ]
  },
  {
   "cell_type": "code",
   "execution_count": 32,
   "metadata": {},
   "outputs": [],
   "source": [
    "#Заменим нулевые значения на 1 (по условиям тарифа, до минуты)\n",
    "calls['duration'] = calls['duration'].replace(0,1)\n",
    "#Проверим\n",
    "#calls['duration'].value_counts()"
   ]
  },
  {
   "cell_type": "code",
   "execution_count": 33,
   "metadata": {},
   "outputs": [],
   "source": [
    "#Округлим длительность звонков в большую сторону (тариф поминутный)\n",
    "calls['duration'] = calls['duration'].apply(np.ceil)"
   ]
  },
  {
   "cell_type": "code",
   "execution_count": 34,
   "metadata": {},
   "outputs": [],
   "source": [
    "#Заменим тип данных на целочисленный\n",
    "calls['duration'] = calls['duration'].astype('int')"
   ]
  },
  {
   "cell_type": "code",
   "execution_count": 35,
   "metadata": {},
   "outputs": [],
   "source": [
    "#Заменим тип данных в столбце с датой\n",
    "calls['call_date'] = pd.to_datetime(calls['call_date'], format=\"%Y-%m-%d\")\n",
    "#calls.info()"
   ]
  },
  {
   "cell_type": "code",
   "execution_count": 36,
   "metadata": {},
   "outputs": [
    {
     "data": {
      "text/plain": [
       "19598"
      ]
     },
     "execution_count": 36,
     "metadata": {},
     "output_type": "execute_result"
    }
   ],
   "source": [
    "#Узнаем число интернет- сессий с нулевой длительностью\n",
    "internet.loc[internet['mb_used'] == 0, 'mb_used'].value_counts()[0]"
   ]
  },
  {
   "cell_type": "code",
   "execution_count": 37,
   "metadata": {},
   "outputs": [
    {
     "data": {
      "text/plain": [
       "13.118155773916303"
      ]
     },
     "execution_count": 37,
     "metadata": {},
     "output_type": "execute_result"
    }
   ],
   "source": [
    "#Узнаем процент нулевых значений\n",
    "internet.loc[internet['mb_used'] == 0, 'mb_used'].count()*100/len(internet['mb_used'])"
   ]
  },
  {
   "cell_type": "markdown",
   "metadata": {},
   "source": [
    "Такой процент неудачных соединений с интернет вызывает сомнение в качестве предоставленных услуг. Заменяем на 1 МБ. Хотя я не вполне уверена, возможно там должно быть всего несколько КБ, жаль, нет возможности уточнить."
   ]
  },
  {
   "cell_type": "code",
   "execution_count": 38,
   "metadata": {},
   "outputs": [],
   "source": [
    "#Заменим нулевые значения на 1 (по условиям тарифа, до МБ)\n",
    "internet['mb_used'] = internet['mb_used'].replace(0,1)"
   ]
  },
  {
   "cell_type": "code",
   "execution_count": 39,
   "metadata": {},
   "outputs": [],
   "source": [
    "#Округлим длительность звонков в большую сторону\n",
    "internet['mb_used'] = internet['mb_used'].apply(np.ceil)"
   ]
  },
  {
   "cell_type": "code",
   "execution_count": 40,
   "metadata": {},
   "outputs": [],
   "source": [
    "#Заменим тип данных на целочисленный\n",
    "internet['mb_used'] = internet['mb_used'].astype('int')"
   ]
  },
  {
   "cell_type": "code",
   "execution_count": 41,
   "metadata": {},
   "outputs": [],
   "source": [
    "#Заменим тип данных в столбце с датой\n",
    "internet['session_date'] = pd.to_datetime(internet['session_date'], format=\"%Y-%m-%d\")\n",
    "#internet.info()"
   ]
  },
  {
   "cell_type": "code",
   "execution_count": 42,
   "metadata": {},
   "outputs": [],
   "source": [
    "#Заменим тип данных в столбце с датой\n",
    "messages['message_date'] = pd.to_datetime(messages['message_date'], format='%Y-%m-%d')\n",
    "#messages.info()"
   ]
  },
  {
   "cell_type": "code",
   "execution_count": 43,
   "metadata": {},
   "outputs": [],
   "source": [
    "#Заменим тип данных в столбцах с датой\n",
    "users['churn_date'] = pd.to_datetime(users['churn_date'], format='%Y-%m-%d')\n",
    "users['reg_date'] = pd.to_datetime(users['reg_date'], format='%Y-%m-%d')\n",
    "#users.info()"
   ]
  },
  {
   "cell_type": "markdown",
   "metadata": {},
   "source": [
    "Проверка заменой регистра написания названия города проживания, фамилии, имени пользователей ничего не дала. Данные в этих столбцах корректны, оставляем как есть."
   ]
  },
  {
   "cell_type": "markdown",
   "metadata": {},
   "source": [
    "### 2.2 Выявление дубликатов"
   ]
  },
  {
   "cell_type": "code",
   "execution_count": 44,
   "metadata": {},
   "outputs": [
    {
     "data": {
      "text/plain": [
       "0"
      ]
     },
     "execution_count": 44,
     "metadata": {},
     "output_type": "execute_result"
    }
   ],
   "source": [
    "calls.duplicated().sum()"
   ]
  },
  {
   "cell_type": "code",
   "execution_count": 45,
   "metadata": {},
   "outputs": [
    {
     "data": {
      "text/plain": [
       "0"
      ]
     },
     "execution_count": 45,
     "metadata": {},
     "output_type": "execute_result"
    }
   ],
   "source": [
    "internet.duplicated().sum()"
   ]
  },
  {
   "cell_type": "code",
   "execution_count": 46,
   "metadata": {},
   "outputs": [
    {
     "data": {
      "text/plain": [
       "0"
      ]
     },
     "execution_count": 46,
     "metadata": {},
     "output_type": "execute_result"
    }
   ],
   "source": [
    "messages.duplicated().sum()"
   ]
  },
  {
   "cell_type": "code",
   "execution_count": 47,
   "metadata": {},
   "outputs": [
    {
     "data": {
      "text/plain": [
       "0"
      ]
     },
     "execution_count": 47,
     "metadata": {},
     "output_type": "execute_result"
    }
   ],
   "source": [
    "users.duplicated().sum()"
   ]
  },
  {
   "cell_type": "markdown",
   "metadata": {},
   "source": [
    "Предобработку завершили, можно переходить к расчетам."
   ]
  },
  {
   "cell_type": "markdown",
   "metadata": {},
   "source": [
    "## 3. Расчеты и добавление результатов  втаблицу"
   ]
  },
  {
   "cell_type": "markdown",
   "metadata": {},
   "source": [
    "### 3.1 Подготовка данных для объединения таблиц"
   ]
  },
  {
   "cell_type": "code",
   "execution_count": 48,
   "metadata": {},
   "outputs": [],
   "source": [
    "# Добавим в таблицы с данными о звонках, интернет- сессиях и сообщениях столбцы с названием месяца\n",
    "calls['month'] = calls['call_date'].dt.month\n",
    "internet['month'] = internet['session_date'].dt.month\n",
    "messages['month'] = messages['message_date'].dt.month"
   ]
  },
  {
   "cell_type": "code",
   "execution_count": 49,
   "metadata": {},
   "outputs": [],
   "source": [
    "# Для удобства рассчетов при объединении таблиц создадим уникальный код из имени и населенного пункта пользователя\n",
    "users['unique_name'] = users['city'] + users['first_name'] + users['last_name']"
   ]
  },
  {
   "cell_type": "markdown",
   "metadata": {},
   "source": [
    "### 3.2 Расчет количества звонков и минут разговора пользователей по месяцам"
   ]
  },
  {
   "cell_type": "code",
   "execution_count": 50,
   "metadata": {},
   "outputs": [
    {
     "data": {
      "text/html": [
       "<div>\n",
       "<style scoped>\n",
       "    .dataframe tbody tr th:only-of-type {\n",
       "        vertical-align: middle;\n",
       "    }\n",
       "\n",
       "    .dataframe tbody tr th {\n",
       "        vertical-align: top;\n",
       "    }\n",
       "\n",
       "    .dataframe thead th {\n",
       "        text-align: right;\n",
       "    }\n",
       "</style>\n",
       "<table border=\"1\" class=\"dataframe\">\n",
       "  <thead>\n",
       "    <tr style=\"text-align: right;\">\n",
       "      <th></th>\n",
       "      <th></th>\n",
       "      <th>duration</th>\n",
       "      <th>calls</th>\n",
       "    </tr>\n",
       "    <tr>\n",
       "      <th>user_id</th>\n",
       "      <th>month</th>\n",
       "      <th></th>\n",
       "      <th></th>\n",
       "    </tr>\n",
       "  </thead>\n",
       "  <tbody>\n",
       "    <tr>\n",
       "      <td rowspan=\"5\" valign=\"top\">1000</td>\n",
       "      <td>5.0</td>\n",
       "      <td>164.0</td>\n",
       "      <td>22</td>\n",
       "    </tr>\n",
       "    <tr>\n",
       "      <td>6.0</td>\n",
       "      <td>187.0</td>\n",
       "      <td>43</td>\n",
       "    </tr>\n",
       "    <tr>\n",
       "      <td>7.0</td>\n",
       "      <td>346.0</td>\n",
       "      <td>47</td>\n",
       "    </tr>\n",
       "    <tr>\n",
       "      <td>8.0</td>\n",
       "      <td>418.0</td>\n",
       "      <td>52</td>\n",
       "    </tr>\n",
       "    <tr>\n",
       "      <td>9.0</td>\n",
       "      <td>478.0</td>\n",
       "      <td>58</td>\n",
       "    </tr>\n",
       "  </tbody>\n",
       "</table>\n",
       "</div>"
      ],
      "text/plain": [
       "               duration  calls\n",
       "user_id month                 \n",
       "1000    5.0       164.0     22\n",
       "        6.0       187.0     43\n",
       "        7.0       346.0     47\n",
       "        8.0       418.0     52\n",
       "        9.0       478.0     58"
      ]
     },
     "execution_count": 50,
     "metadata": {},
     "output_type": "execute_result"
    }
   ],
   "source": [
    "# Создадим сводную таблицу по звонкам пользователей\n",
    "calls_users = calls.merge(users, on='user_id', how='outer')\n",
    "calls_grouped = calls_users.pivot_table(values=['unique_name', 'duration'], \n",
    "                       index=['user_id', 'month'], \n",
    "                       aggfunc={'unique_name': 'count', 'duration': 'sum'})\n",
    "calls_grouped.columns = ['duration', 'calls']\n",
    "calls_grouped.head()"
   ]
  },
  {
   "cell_type": "markdown",
   "metadata": {},
   "source": [
    "### 3.3 Расчет количества отправленных пользователями сообщений  по месяцам"
   ]
  },
  {
   "cell_type": "code",
   "execution_count": 51,
   "metadata": {},
   "outputs": [
    {
     "data": {
      "text/html": [
       "<div>\n",
       "<style scoped>\n",
       "    .dataframe tbody tr th:only-of-type {\n",
       "        vertical-align: middle;\n",
       "    }\n",
       "\n",
       "    .dataframe tbody tr th {\n",
       "        vertical-align: top;\n",
       "    }\n",
       "\n",
       "    .dataframe thead th {\n",
       "        text-align: right;\n",
       "    }\n",
       "</style>\n",
       "<table border=\"1\" class=\"dataframe\">\n",
       "  <thead>\n",
       "    <tr style=\"text-align: right;\">\n",
       "      <th></th>\n",
       "      <th></th>\n",
       "      <th>messages</th>\n",
       "    </tr>\n",
       "    <tr>\n",
       "      <th>user_id</th>\n",
       "      <th>month</th>\n",
       "      <th></th>\n",
       "    </tr>\n",
       "  </thead>\n",
       "  <tbody>\n",
       "    <tr>\n",
       "      <td rowspan=\"5\" valign=\"top\">1000</td>\n",
       "      <td>5.0</td>\n",
       "      <td>22</td>\n",
       "    </tr>\n",
       "    <tr>\n",
       "      <td>6.0</td>\n",
       "      <td>60</td>\n",
       "    </tr>\n",
       "    <tr>\n",
       "      <td>7.0</td>\n",
       "      <td>75</td>\n",
       "    </tr>\n",
       "    <tr>\n",
       "      <td>8.0</td>\n",
       "      <td>81</td>\n",
       "    </tr>\n",
       "    <tr>\n",
       "      <td>9.0</td>\n",
       "      <td>57</td>\n",
       "    </tr>\n",
       "  </tbody>\n",
       "</table>\n",
       "</div>"
      ],
      "text/plain": [
       "               messages\n",
       "user_id month          \n",
       "1000    5.0          22\n",
       "        6.0          60\n",
       "        7.0          75\n",
       "        8.0          81\n",
       "        9.0          57"
      ]
     },
     "execution_count": 51,
     "metadata": {},
     "output_type": "execute_result"
    }
   ],
   "source": [
    "# Создадим сводную таблицу по сообщениям пользователей\n",
    "messages_users = messages.merge(users, on='user_id', how='outer')\n",
    "messages_grouped = messages_users.pivot_table(values='unique_name', \n",
    "                       index=['user_id', 'month'], \n",
    "                       aggfunc={'unique_name': 'count'})\n",
    "messages_grouped.columns = ['messages']\n",
    "messages_grouped.head()"
   ]
  },
  {
   "cell_type": "markdown",
   "metadata": {},
   "source": [
    "### 3.4 Расчет интернет- траффика пользователей по месяцам"
   ]
  },
  {
   "cell_type": "code",
   "execution_count": 52,
   "metadata": {},
   "outputs": [
    {
     "data": {
      "text/html": [
       "<div>\n",
       "<style scoped>\n",
       "    .dataframe tbody tr th:only-of-type {\n",
       "        vertical-align: middle;\n",
       "    }\n",
       "\n",
       "    .dataframe tbody tr th {\n",
       "        vertical-align: top;\n",
       "    }\n",
       "\n",
       "    .dataframe thead th {\n",
       "        text-align: right;\n",
       "    }\n",
       "</style>\n",
       "<table border=\"1\" class=\"dataframe\">\n",
       "  <thead>\n",
       "    <tr style=\"text-align: right;\">\n",
       "      <th></th>\n",
       "      <th></th>\n",
       "      <th>mb_used</th>\n",
       "    </tr>\n",
       "    <tr>\n",
       "      <th>user_id</th>\n",
       "      <th>month</th>\n",
       "      <th></th>\n",
       "    </tr>\n",
       "  </thead>\n",
       "  <tbody>\n",
       "    <tr>\n",
       "      <td rowspan=\"5\" valign=\"top\">1000</td>\n",
       "      <td>5.0</td>\n",
       "      <td>2257.0</td>\n",
       "    </tr>\n",
       "    <tr>\n",
       "      <td>6.0</td>\n",
       "      <td>23262.0</td>\n",
       "    </tr>\n",
       "    <tr>\n",
       "      <td>7.0</td>\n",
       "      <td>14017.0</td>\n",
       "    </tr>\n",
       "    <tr>\n",
       "      <td>8.0</td>\n",
       "      <td>14072.0</td>\n",
       "    </tr>\n",
       "    <tr>\n",
       "      <td>9.0</td>\n",
       "      <td>14583.0</td>\n",
       "    </tr>\n",
       "  </tbody>\n",
       "</table>\n",
       "</div>"
      ],
      "text/plain": [
       "               mb_used\n",
       "user_id month         \n",
       "1000    5.0     2257.0\n",
       "        6.0    23262.0\n",
       "        7.0    14017.0\n",
       "        8.0    14072.0\n",
       "        9.0    14583.0"
      ]
     },
     "execution_count": 52,
     "metadata": {},
     "output_type": "execute_result"
    }
   ],
   "source": [
    "# Создадим сводную таблицу по интернет-трафику пользователей\n",
    "internet_users = internet.merge(users, on='user_id', how='outer')\n",
    "internet_grouped = internet_users.pivot_table(values='mb_used', \n",
    "                       index=['user_id', 'month'], \n",
    "                       aggfunc={'mb_used': 'sum'})\n",
    "internet_grouped.columns = ['mb_used']\n",
    "internet_grouped.head()"
   ]
  },
  {
   "cell_type": "markdown",
   "metadata": {},
   "source": [
    "### 3.5 Объединение данных"
   ]
  },
  {
   "cell_type": "code",
   "execution_count": 53,
   "metadata": {},
   "outputs": [
    {
     "data": {
      "text/html": [
       "<div>\n",
       "<style scoped>\n",
       "    .dataframe tbody tr th:only-of-type {\n",
       "        vertical-align: middle;\n",
       "    }\n",
       "\n",
       "    .dataframe tbody tr th {\n",
       "        vertical-align: top;\n",
       "    }\n",
       "\n",
       "    .dataframe thead th {\n",
       "        text-align: right;\n",
       "    }\n",
       "</style>\n",
       "<table border=\"1\" class=\"dataframe\">\n",
       "  <thead>\n",
       "    <tr style=\"text-align: right;\">\n",
       "      <th></th>\n",
       "      <th></th>\n",
       "      <th>duration</th>\n",
       "      <th>calls</th>\n",
       "      <th>messages</th>\n",
       "      <th>mb_used</th>\n",
       "    </tr>\n",
       "    <tr>\n",
       "      <th>user_id</th>\n",
       "      <th>month</th>\n",
       "      <th></th>\n",
       "      <th></th>\n",
       "      <th></th>\n",
       "      <th></th>\n",
       "    </tr>\n",
       "  </thead>\n",
       "  <tbody>\n",
       "    <tr>\n",
       "      <td rowspan=\"8\" valign=\"top\">1000</td>\n",
       "      <td>5.0</td>\n",
       "      <td>164.0</td>\n",
       "      <td>22.0</td>\n",
       "      <td>22.0</td>\n",
       "      <td>2257.0</td>\n",
       "    </tr>\n",
       "    <tr>\n",
       "      <td>6.0</td>\n",
       "      <td>187.0</td>\n",
       "      <td>43.0</td>\n",
       "      <td>60.0</td>\n",
       "      <td>23262.0</td>\n",
       "    </tr>\n",
       "    <tr>\n",
       "      <td>7.0</td>\n",
       "      <td>346.0</td>\n",
       "      <td>47.0</td>\n",
       "      <td>75.0</td>\n",
       "      <td>14017.0</td>\n",
       "    </tr>\n",
       "    <tr>\n",
       "      <td>8.0</td>\n",
       "      <td>418.0</td>\n",
       "      <td>52.0</td>\n",
       "      <td>81.0</td>\n",
       "      <td>14072.0</td>\n",
       "    </tr>\n",
       "    <tr>\n",
       "      <td>9.0</td>\n",
       "      <td>478.0</td>\n",
       "      <td>58.0</td>\n",
       "      <td>57.0</td>\n",
       "      <td>14583.0</td>\n",
       "    </tr>\n",
       "    <tr>\n",
       "      <td>10.0</td>\n",
       "      <td>363.0</td>\n",
       "      <td>57.0</td>\n",
       "      <td>73.0</td>\n",
       "      <td>14717.0</td>\n",
       "    </tr>\n",
       "    <tr>\n",
       "      <td>11.0</td>\n",
       "      <td>344.0</td>\n",
       "      <td>43.0</td>\n",
       "      <td>58.0</td>\n",
       "      <td>14769.0</td>\n",
       "    </tr>\n",
       "    <tr>\n",
       "      <td>12.0</td>\n",
       "      <td>341.0</td>\n",
       "      <td>46.0</td>\n",
       "      <td>70.0</td>\n",
       "      <td>9829.0</td>\n",
       "    </tr>\n",
       "    <tr>\n",
       "      <td rowspan=\"2\" valign=\"top\">1001</td>\n",
       "      <td>11.0</td>\n",
       "      <td>444.0</td>\n",
       "      <td>59.0</td>\n",
       "      <td>NaN</td>\n",
       "      <td>18460.0</td>\n",
       "    </tr>\n",
       "    <tr>\n",
       "      <td>12.0</td>\n",
       "      <td>430.0</td>\n",
       "      <td>63.0</td>\n",
       "      <td>NaN</td>\n",
       "      <td>14059.0</td>\n",
       "    </tr>\n",
       "    <tr>\n",
       "      <td rowspan=\"5\" valign=\"top\">1002</td>\n",
       "      <td>6.0</td>\n",
       "      <td>118.0</td>\n",
       "      <td>15.0</td>\n",
       "      <td>4.0</td>\n",
       "      <td>10878.0</td>\n",
       "    </tr>\n",
       "    <tr>\n",
       "      <td>7.0</td>\n",
       "      <td>219.0</td>\n",
       "      <td>26.0</td>\n",
       "      <td>11.0</td>\n",
       "      <td>17615.0</td>\n",
       "    </tr>\n",
       "    <tr>\n",
       "      <td>8.0</td>\n",
       "      <td>294.0</td>\n",
       "      <td>42.0</td>\n",
       "      <td>13.0</td>\n",
       "      <td>20357.0</td>\n",
       "    </tr>\n",
       "    <tr>\n",
       "      <td>9.0</td>\n",
       "      <td>217.0</td>\n",
       "      <td>36.0</td>\n",
       "      <td>4.0</td>\n",
       "      <td>16724.0</td>\n",
       "    </tr>\n",
       "    <tr>\n",
       "      <td>10.0</td>\n",
       "      <td>221.0</td>\n",
       "      <td>33.0</td>\n",
       "      <td>10.0</td>\n",
       "      <td>13913.0</td>\n",
       "    </tr>\n",
       "  </tbody>\n",
       "</table>\n",
       "</div>"
      ],
      "text/plain": [
       "               duration  calls  messages  mb_used\n",
       "user_id month                                    \n",
       "1000    5.0       164.0   22.0      22.0   2257.0\n",
       "        6.0       187.0   43.0      60.0  23262.0\n",
       "        7.0       346.0   47.0      75.0  14017.0\n",
       "        8.0       418.0   52.0      81.0  14072.0\n",
       "        9.0       478.0   58.0      57.0  14583.0\n",
       "        10.0      363.0   57.0      73.0  14717.0\n",
       "        11.0      344.0   43.0      58.0  14769.0\n",
       "        12.0      341.0   46.0      70.0   9829.0\n",
       "1001    11.0      444.0   59.0       NaN  18460.0\n",
       "        12.0      430.0   63.0       NaN  14059.0\n",
       "1002    6.0       118.0   15.0       4.0  10878.0\n",
       "        7.0       219.0   26.0      11.0  17615.0\n",
       "        8.0       294.0   42.0      13.0  20357.0\n",
       "        9.0       217.0   36.0       4.0  16724.0\n",
       "        10.0      221.0   33.0      10.0  13913.0"
      ]
     },
     "execution_count": 53,
     "metadata": {},
     "output_type": "execute_result"
    }
   ],
   "source": [
    "# Объединим три сводные таблицы в одну\n",
    "df = [calls_grouped, messages_grouped, internet_grouped]\n",
    "grouped_df = reduce(lambda left,right: pd.merge(left,right,on=['user_id', 'month'], how='outer'), df)\n",
    "grouped_df.head(15)"
   ]
  },
  {
   "cell_type": "code",
   "execution_count": 54,
   "metadata": {},
   "outputs": [
    {
     "data": {
      "text/plain": [
       "duration     40\n",
       "calls        40\n",
       "messages    497\n",
       "mb_used      11\n",
       "dtype: int64"
      ]
     },
     "execution_count": 54,
     "metadata": {},
     "output_type": "execute_result"
    }
   ],
   "source": [
    "# Посмотрим точное количество пропущенных значений\n",
    "grouped_df.isna().sum()"
   ]
  },
  {
   "cell_type": "code",
   "execution_count": 55,
   "metadata": {},
   "outputs": [],
   "source": [
    "# Заменим пропущенные значения на нули\n",
    "grouped_df.loc[grouped_df['duration'].isna(), 'duration'] = 0\n",
    "grouped_df.loc[grouped_df['mb_used'].isna(), 'mb_used'] = 0\n",
    "grouped_df.loc[grouped_df['messages'].isna(), 'messages'] = 0\n",
    "grouped_df.loc[grouped_df['calls'].isna(), 'calls'] = 0"
   ]
  },
  {
   "cell_type": "markdown",
   "metadata": {},
   "source": [
    "### 3.6 Расчет помесячной выручки с каждого пользователя"
   ]
  },
  {
   "cell_type": "markdown",
   "metadata": {},
   "source": [
    "Вычтем бесплатный лимит из суммарного количества звонков, сообщений и интернет-трафика; остаток умножим на значение из тарифного плана; прибавим абонентскую плату, соответствующую тарифному плану."
   ]
  },
  {
   "cell_type": "code",
   "execution_count": 56,
   "metadata": {},
   "outputs": [],
   "source": [
    "# Добавим наименование используемого тарифа для каждого пользователя\n",
    "#for user in grouped_df.index:\n",
    "    #grouped_df.loc[user, 'tariff'] = users.loc[user[0]-1000, 'tariff']\n",
    "#grouped_df.head(15)"
   ]
  },
  {
   "cell_type": "code",
   "execution_count": 57,
   "metadata": {},
   "outputs": [],
   "source": [
    "#Переведем в сводной таблице индексы в столбцы\n",
    "grouped_df.reset_index(inplace=True)\n",
    "# Добавим наименование используемого тарифа для каждого пользователя\n",
    "tariff_users = dict(pd.Series(users['tariff'].values, index=users['user_id']))\n",
    "grouped_df['tariff'] = grouped_df['user_id'].map(tariff_users)\n",
    "#grouped_df.head(15)"
   ]
  },
  {
   "cell_type": "code",
   "execution_count": 58,
   "metadata": {},
   "outputs": [],
   "source": [
    "#Переведем в сводной таблице индексы в столбцы\n",
    "#grouped_df.reset_index(inplace=True)\n",
    "#grouped_df.merge(users[['user_id','tariff']], on='user_id', how='outer')\n",
    "#grouped_df.head(15)"
   ]
  },
  {
   "cell_type": "code",
   "execution_count": 59,
   "metadata": {},
   "outputs": [
    {
     "data": {
      "text/html": [
       "<div>\n",
       "<style scoped>\n",
       "    .dataframe tbody tr th:only-of-type {\n",
       "        vertical-align: middle;\n",
       "    }\n",
       "\n",
       "    .dataframe tbody tr th {\n",
       "        vertical-align: top;\n",
       "    }\n",
       "\n",
       "    .dataframe thead th {\n",
       "        text-align: right;\n",
       "    }\n",
       "</style>\n",
       "<table border=\"1\" class=\"dataframe\">\n",
       "  <thead>\n",
       "    <tr style=\"text-align: right;\">\n",
       "      <th></th>\n",
       "      <th>user_id</th>\n",
       "      <th>month</th>\n",
       "      <th>duration</th>\n",
       "      <th>calls</th>\n",
       "      <th>messages</th>\n",
       "      <th>mb_used</th>\n",
       "      <th>tariff</th>\n",
       "      <th>proceeds</th>\n",
       "    </tr>\n",
       "  </thead>\n",
       "  <tbody>\n",
       "    <tr>\n",
       "      <td>0</td>\n",
       "      <td>1000</td>\n",
       "      <td>5.0</td>\n",
       "      <td>164.0</td>\n",
       "      <td>22.0</td>\n",
       "      <td>22.0</td>\n",
       "      <td>2257.0</td>\n",
       "      <td>ultra</td>\n",
       "      <td>1950.0</td>\n",
       "    </tr>\n",
       "    <tr>\n",
       "      <td>1</td>\n",
       "      <td>1000</td>\n",
       "      <td>6.0</td>\n",
       "      <td>187.0</td>\n",
       "      <td>43.0</td>\n",
       "      <td>60.0</td>\n",
       "      <td>23262.0</td>\n",
       "      <td>ultra</td>\n",
       "      <td>1950.0</td>\n",
       "    </tr>\n",
       "    <tr>\n",
       "      <td>2</td>\n",
       "      <td>1000</td>\n",
       "      <td>7.0</td>\n",
       "      <td>346.0</td>\n",
       "      <td>47.0</td>\n",
       "      <td>75.0</td>\n",
       "      <td>14017.0</td>\n",
       "      <td>ultra</td>\n",
       "      <td>1950.0</td>\n",
       "    </tr>\n",
       "    <tr>\n",
       "      <td>3</td>\n",
       "      <td>1000</td>\n",
       "      <td>8.0</td>\n",
       "      <td>418.0</td>\n",
       "      <td>52.0</td>\n",
       "      <td>81.0</td>\n",
       "      <td>14072.0</td>\n",
       "      <td>ultra</td>\n",
       "      <td>1950.0</td>\n",
       "    </tr>\n",
       "    <tr>\n",
       "      <td>4</td>\n",
       "      <td>1000</td>\n",
       "      <td>9.0</td>\n",
       "      <td>478.0</td>\n",
       "      <td>58.0</td>\n",
       "      <td>57.0</td>\n",
       "      <td>14583.0</td>\n",
       "      <td>ultra</td>\n",
       "      <td>1950.0</td>\n",
       "    </tr>\n",
       "    <tr>\n",
       "      <td>5</td>\n",
       "      <td>1000</td>\n",
       "      <td>10.0</td>\n",
       "      <td>363.0</td>\n",
       "      <td>57.0</td>\n",
       "      <td>73.0</td>\n",
       "      <td>14717.0</td>\n",
       "      <td>ultra</td>\n",
       "      <td>1950.0</td>\n",
       "    </tr>\n",
       "    <tr>\n",
       "      <td>6</td>\n",
       "      <td>1000</td>\n",
       "      <td>11.0</td>\n",
       "      <td>344.0</td>\n",
       "      <td>43.0</td>\n",
       "      <td>58.0</td>\n",
       "      <td>14769.0</td>\n",
       "      <td>ultra</td>\n",
       "      <td>1950.0</td>\n",
       "    </tr>\n",
       "    <tr>\n",
       "      <td>7</td>\n",
       "      <td>1000</td>\n",
       "      <td>12.0</td>\n",
       "      <td>341.0</td>\n",
       "      <td>46.0</td>\n",
       "      <td>70.0</td>\n",
       "      <td>9829.0</td>\n",
       "      <td>ultra</td>\n",
       "      <td>1950.0</td>\n",
       "    </tr>\n",
       "    <tr>\n",
       "      <td>8</td>\n",
       "      <td>1001</td>\n",
       "      <td>11.0</td>\n",
       "      <td>444.0</td>\n",
       "      <td>59.0</td>\n",
       "      <td>0.0</td>\n",
       "      <td>18460.0</td>\n",
       "      <td>smart</td>\n",
       "      <td>1350.0</td>\n",
       "    </tr>\n",
       "    <tr>\n",
       "      <td>9</td>\n",
       "      <td>1001</td>\n",
       "      <td>12.0</td>\n",
       "      <td>430.0</td>\n",
       "      <td>63.0</td>\n",
       "      <td>0.0</td>\n",
       "      <td>14059.0</td>\n",
       "      <td>smart</td>\n",
       "      <td>550.0</td>\n",
       "    </tr>\n",
       "    <tr>\n",
       "      <td>10</td>\n",
       "      <td>1002</td>\n",
       "      <td>6.0</td>\n",
       "      <td>118.0</td>\n",
       "      <td>15.0</td>\n",
       "      <td>4.0</td>\n",
       "      <td>10878.0</td>\n",
       "      <td>smart</td>\n",
       "      <td>550.0</td>\n",
       "    </tr>\n",
       "    <tr>\n",
       "      <td>11</td>\n",
       "      <td>1002</td>\n",
       "      <td>7.0</td>\n",
       "      <td>219.0</td>\n",
       "      <td>26.0</td>\n",
       "      <td>11.0</td>\n",
       "      <td>17615.0</td>\n",
       "      <td>smart</td>\n",
       "      <td>1150.0</td>\n",
       "    </tr>\n",
       "    <tr>\n",
       "      <td>12</td>\n",
       "      <td>1002</td>\n",
       "      <td>8.0</td>\n",
       "      <td>294.0</td>\n",
       "      <td>42.0</td>\n",
       "      <td>13.0</td>\n",
       "      <td>20357.0</td>\n",
       "      <td>smart</td>\n",
       "      <td>1550.0</td>\n",
       "    </tr>\n",
       "    <tr>\n",
       "      <td>13</td>\n",
       "      <td>1002</td>\n",
       "      <td>9.0</td>\n",
       "      <td>217.0</td>\n",
       "      <td>36.0</td>\n",
       "      <td>4.0</td>\n",
       "      <td>16724.0</td>\n",
       "      <td>smart</td>\n",
       "      <td>950.0</td>\n",
       "    </tr>\n",
       "    <tr>\n",
       "      <td>14</td>\n",
       "      <td>1002</td>\n",
       "      <td>10.0</td>\n",
       "      <td>221.0</td>\n",
       "      <td>33.0</td>\n",
       "      <td>10.0</td>\n",
       "      <td>13913.0</td>\n",
       "      <td>smart</td>\n",
       "      <td>550.0</td>\n",
       "    </tr>\n",
       "  </tbody>\n",
       "</table>\n",
       "</div>"
      ],
      "text/plain": [
       "    user_id  month  duration  calls  messages  mb_used tariff  proceeds\n",
       "0      1000    5.0     164.0   22.0      22.0   2257.0  ultra    1950.0\n",
       "1      1000    6.0     187.0   43.0      60.0  23262.0  ultra    1950.0\n",
       "2      1000    7.0     346.0   47.0      75.0  14017.0  ultra    1950.0\n",
       "3      1000    8.0     418.0   52.0      81.0  14072.0  ultra    1950.0\n",
       "4      1000    9.0     478.0   58.0      57.0  14583.0  ultra    1950.0\n",
       "5      1000   10.0     363.0   57.0      73.0  14717.0  ultra    1950.0\n",
       "6      1000   11.0     344.0   43.0      58.0  14769.0  ultra    1950.0\n",
       "7      1000   12.0     341.0   46.0      70.0   9829.0  ultra    1950.0\n",
       "8      1001   11.0     444.0   59.0       0.0  18460.0  smart    1350.0\n",
       "9      1001   12.0     430.0   63.0       0.0  14059.0  smart     550.0\n",
       "10     1002    6.0     118.0   15.0       4.0  10878.0  smart     550.0\n",
       "11     1002    7.0     219.0   26.0      11.0  17615.0  smart    1150.0\n",
       "12     1002    8.0     294.0   42.0      13.0  20357.0  smart    1550.0\n",
       "13     1002    9.0     217.0   36.0       4.0  16724.0  smart     950.0\n",
       "14     1002   10.0     221.0   33.0      10.0  13913.0  smart     550.0"
      ]
     },
     "execution_count": 59,
     "metadata": {},
     "output_type": "execute_result"
    }
   ],
   "source": [
    "def det_proceeds(row):\n",
    "    messages = row[ 'messages']\n",
    "    mb_used = row[ 'mb_used']\n",
    "    tariff = row[ 'tariff']\n",
    "    duration = row[ 'duration']\n",
    "    calls = row[ 'calls']\n",
    "    \n",
    "    if tariff == 'smart':\n",
    "        above_duration = duration - 500\n",
    "        above_mb = mb_used - 15*1024\n",
    "        above_messages = messages - 50\n",
    "        \n",
    "        if above_duration < 0: above_duration = 0\n",
    "        if above_mb < 0: above_mb = 0\n",
    "        if above_messages < 0: above_messages = 0\n",
    "        \n",
    "        return (3* above_messages + 200 * np.ceil(above_mb/1024) + 3 * above_duration + 550) \n",
    "    else:\n",
    "        above_duration = duration - 3000\n",
    "        above_mb = mb_used - 30*1024\n",
    "        above_messages = messages - 1000\n",
    "        \n",
    "        if above_duration < 0: above_duration = 0\n",
    "        if above_mb < 0: above_mb = 0\n",
    "        if above_messages < 0: above_messages = 0\n",
    "        \n",
    "        return (1* above_messages + 150 * np.ceil(above_mb/1024) + 1 * above_duration + 1950) \n",
    "grouped_df['proceeds'] = grouped_df.apply(det_proceeds, axis=1)\n",
    "grouped_df.head(15)"
   ]
  },
  {
   "cell_type": "code",
   "execution_count": 60,
   "metadata": {},
   "outputs": [],
   "source": [
    "# Добавим наименование населенного пункта для каждого пользователя\n",
    "city_users = dict(pd.Series(users['city'].values, index=users['user_id']))\n",
    "grouped_df['city'] = grouped_df['user_id'].map(city_users)\n",
    "#grouped_df.head(15)"
   ]
  },
  {
   "cell_type": "code",
   "execution_count": 61,
   "metadata": {},
   "outputs": [
    {
     "data": {
      "text/html": [
       "<div>\n",
       "<style scoped>\n",
       "    .dataframe tbody tr th:only-of-type {\n",
       "        vertical-align: middle;\n",
       "    }\n",
       "\n",
       "    .dataframe tbody tr th {\n",
       "        vertical-align: top;\n",
       "    }\n",
       "\n",
       "    .dataframe thead th {\n",
       "        text-align: right;\n",
       "    }\n",
       "</style>\n",
       "<table border=\"1\" class=\"dataframe\">\n",
       "  <thead>\n",
       "    <tr style=\"text-align: right;\">\n",
       "      <th></th>\n",
       "      <th>proceeds</th>\n",
       "    </tr>\n",
       "    <tr>\n",
       "      <th>Регион</th>\n",
       "      <th></th>\n",
       "    </tr>\n",
       "  </thead>\n",
       "  <tbody>\n",
       "    <tr>\n",
       "      <td>Другой регион</td>\n",
       "      <td>1632.0</td>\n",
       "    </tr>\n",
       "    <tr>\n",
       "      <td>Москва</td>\n",
       "      <td>1776.0</td>\n",
       "    </tr>\n",
       "  </tbody>\n",
       "</table>\n",
       "</div>"
      ],
      "text/plain": [
       "               proceeds\n",
       "Регион                 \n",
       "Другой регион    1632.0\n",
       "Москва           1776.0"
      ]
     },
     "execution_count": 61,
     "metadata": {},
     "output_type": "execute_result"
    }
   ],
   "source": [
    "def region(city):\n",
    "    if city == 'Москва': return 'Москва'\n",
    "    else: return 'Другой регион'\n",
    "    \n",
    "grouped_df['Регион'] = grouped_df['city'].apply(region)\n",
    "grouped_df.pivot_table(index='Регион', values='proceeds', aggfunc='median')"
   ]
  },
  {
   "cell_type": "code",
   "execution_count": 62,
   "metadata": {},
   "outputs": [
    {
     "data": {
      "text/html": [
       "<div>\n",
       "<style scoped>\n",
       "    .dataframe tbody tr th:only-of-type {\n",
       "        vertical-align: middle;\n",
       "    }\n",
       "\n",
       "    .dataframe tbody tr th {\n",
       "        vertical-align: top;\n",
       "    }\n",
       "\n",
       "    .dataframe thead th {\n",
       "        text-align: right;\n",
       "    }\n",
       "</style>\n",
       "<table border=\"1\" class=\"dataframe\">\n",
       "  <thead>\n",
       "    <tr style=\"text-align: right;\">\n",
       "      <th></th>\n",
       "      <th>user_id</th>\n",
       "      <th>Месяц</th>\n",
       "      <th>Звонки, мин</th>\n",
       "      <th>Количество звонков, шт</th>\n",
       "      <th>СМС, шт</th>\n",
       "      <th>Интернет, МБ</th>\n",
       "      <th>Тариф</th>\n",
       "      <th>Выручка, руб</th>\n",
       "      <th>Город</th>\n",
       "      <th>Регион</th>\n",
       "    </tr>\n",
       "  </thead>\n",
       "  <tbody>\n",
       "    <tr>\n",
       "      <td>0</td>\n",
       "      <td>1000</td>\n",
       "      <td>5.0</td>\n",
       "      <td>164.0</td>\n",
       "      <td>22.0</td>\n",
       "      <td>22.0</td>\n",
       "      <td>2257.0</td>\n",
       "      <td>ultra</td>\n",
       "      <td>1950.0</td>\n",
       "      <td>Краснодар</td>\n",
       "      <td>Другой регион</td>\n",
       "    </tr>\n",
       "    <tr>\n",
       "      <td>1</td>\n",
       "      <td>1000</td>\n",
       "      <td>6.0</td>\n",
       "      <td>187.0</td>\n",
       "      <td>43.0</td>\n",
       "      <td>60.0</td>\n",
       "      <td>23262.0</td>\n",
       "      <td>ultra</td>\n",
       "      <td>1950.0</td>\n",
       "      <td>Краснодар</td>\n",
       "      <td>Другой регион</td>\n",
       "    </tr>\n",
       "    <tr>\n",
       "      <td>2</td>\n",
       "      <td>1000</td>\n",
       "      <td>7.0</td>\n",
       "      <td>346.0</td>\n",
       "      <td>47.0</td>\n",
       "      <td>75.0</td>\n",
       "      <td>14017.0</td>\n",
       "      <td>ultra</td>\n",
       "      <td>1950.0</td>\n",
       "      <td>Краснодар</td>\n",
       "      <td>Другой регион</td>\n",
       "    </tr>\n",
       "    <tr>\n",
       "      <td>3</td>\n",
       "      <td>1000</td>\n",
       "      <td>8.0</td>\n",
       "      <td>418.0</td>\n",
       "      <td>52.0</td>\n",
       "      <td>81.0</td>\n",
       "      <td>14072.0</td>\n",
       "      <td>ultra</td>\n",
       "      <td>1950.0</td>\n",
       "      <td>Краснодар</td>\n",
       "      <td>Другой регион</td>\n",
       "    </tr>\n",
       "    <tr>\n",
       "      <td>4</td>\n",
       "      <td>1000</td>\n",
       "      <td>9.0</td>\n",
       "      <td>478.0</td>\n",
       "      <td>58.0</td>\n",
       "      <td>57.0</td>\n",
       "      <td>14583.0</td>\n",
       "      <td>ultra</td>\n",
       "      <td>1950.0</td>\n",
       "      <td>Краснодар</td>\n",
       "      <td>Другой регион</td>\n",
       "    </tr>\n",
       "  </tbody>\n",
       "</table>\n",
       "</div>"
      ],
      "text/plain": [
       "   user_id  Месяц  Звонки, мин  Количество звонков, шт  СМС, шт  Интернет, МБ  \\\n",
       "0     1000    5.0        164.0                    22.0     22.0        2257.0   \n",
       "1     1000    6.0        187.0                    43.0     60.0       23262.0   \n",
       "2     1000    7.0        346.0                    47.0     75.0       14017.0   \n",
       "3     1000    8.0        418.0                    52.0     81.0       14072.0   \n",
       "4     1000    9.0        478.0                    58.0     57.0       14583.0   \n",
       "\n",
       "   Тариф  Выручка, руб      Город         Регион  \n",
       "0  ultra        1950.0  Краснодар  Другой регион  \n",
       "1  ultra        1950.0  Краснодар  Другой регион  \n",
       "2  ultra        1950.0  Краснодар  Другой регион  \n",
       "3  ultra        1950.0  Краснодар  Другой регион  \n",
       "4  ultra        1950.0  Краснодар  Другой регион  "
      ]
     },
     "execution_count": 62,
     "metadata": {},
     "output_type": "execute_result"
    }
   ],
   "source": [
    "# Переименуем столбцы\n",
    "grouped_df.columns = ['user_id','Месяц','Звонки, мин', 'Количество звонков, шт', 'СМС, шт', 'Интернет, МБ', 'Тариф', 'Выручка, руб', 'Город', 'Регион']\n",
    "grouped_df.head()"
   ]
  },
  {
   "cell_type": "code",
   "execution_count": 63,
   "metadata": {},
   "outputs": [
    {
     "name": "stdout",
     "output_type": "stream",
     "text": [
      "<class 'pandas.core.frame.DataFrame'>\n",
      "RangeIndex: 3214 entries, 0 to 3213\n",
      "Data columns (total 10 columns):\n",
      "user_id                   3214 non-null int64\n",
      "Месяц                     3214 non-null float64\n",
      "Звонки, мин               3214 non-null float64\n",
      "Количество звонков, шт    3214 non-null float64\n",
      "СМС, шт                   3214 non-null float64\n",
      "Интернет, МБ              3214 non-null float64\n",
      "Тариф                     3214 non-null object\n",
      "Выручка, руб              3214 non-null float64\n",
      "Город                     3214 non-null object\n",
      "Регион                    3214 non-null object\n",
      "dtypes: float64(6), int64(1), object(3)\n",
      "memory usage: 251.2+ KB\n"
     ]
    }
   ],
   "source": [
    "# Посмотрим информацию о таблице\n",
    "grouped_df.info()"
   ]
  },
  {
   "cell_type": "code",
   "execution_count": 64,
   "metadata": {},
   "outputs": [],
   "source": [
    "#Заменим тип данных на целочисленный\n",
    "grouped_df['Звонки, мин'] = grouped_df['Звонки, мин'].astype('int')\n",
    "grouped_df['Количество звонков, шт'] = grouped_df['Количество звонков, шт'].astype('int')\n",
    "grouped_df['СМС, шт'] = grouped_df['СМС, шт'].astype('int')\n",
    "grouped_df['Интернет, МБ'] = grouped_df['Интернет, МБ'].astype('int')\n",
    "grouped_df['Выручка, руб'] = grouped_df['Выручка, руб'].astype('int')\n",
    "#grouped_df.info()"
   ]
  },
  {
   "cell_type": "markdown",
   "metadata": {},
   "source": [
    "## 4. Анализ данных"
   ]
  },
  {
   "cell_type": "markdown",
   "metadata": {},
   "source": [
    "### 4.1 Количество пользователей по тарифам"
   ]
  },
  {
   "cell_type": "code",
   "execution_count": 65,
   "metadata": {},
   "outputs": [
    {
     "data": {
      "image/png": "[encoded data removed]",
      "text/plain": [
       "<Figure size 1440x360 with 1 Axes>"
      ]
     },
     "metadata": {},
     "output_type": "display_data"
    }
   ],
   "source": [
    "# Построим для наглядности круговую диаграмму с количеством пользователей каждого тарифа\n",
    "all_users = grouped_df['user_id'].nunique()\n",
    "\n",
    "def func_pct(pct):\n",
    "    value = float(pct/100.*all_users)\n",
    "    return \"{:.2f}%\\n({:.0f} чел.)\".format(pct, value)\n",
    "\n",
    "explode = (0.05, 0)  \n",
    "\n",
    "axes = grouped_df.groupby('Тариф')['user_id'].count().plot(kind='pie', subplots=True, fontsize=15,\n",
    "                                                                     use_index=False, shadow=True, explode=explode,\n",
    "                                                                     title = 'Количество пользователей по тарифам', pctdistance=0.45,\n",
    "                                                                     figsize=(20,5), autopct=lambda pct: func_pct(pct))\n",
    "\n",
    "plt.tight_layout(pad=0)\n",
    "\n",
    "for ax in axes:\n",
    "    ax.legend(['Смарт', 'Ультра'], bbox_to_anchor=(0.87,0.87), prop={'size':12})\n",
    "    ax.set_ylabel('')"
   ]
  },
  {
   "cell_type": "markdown",
   "metadata": {},
   "source": [
    "### 4.2 Расчет использованых пользователями минут, сообщений, интернет- трафика в среднем в месяц"
   ]
  },
  {
   "cell_type": "code",
   "execution_count": 66,
   "metadata": {},
   "outputs": [
    {
     "data": {
      "text/html": [
       "<div>\n",
       "<style scoped>\n",
       "    .dataframe tbody tr th:only-of-type {\n",
       "        vertical-align: middle;\n",
       "    }\n",
       "\n",
       "    .dataframe tbody tr th {\n",
       "        vertical-align: top;\n",
       "    }\n",
       "\n",
       "    .dataframe thead th {\n",
       "        text-align: right;\n",
       "    }\n",
       "</style>\n",
       "<table border=\"1\" class=\"dataframe\">\n",
       "  <thead>\n",
       "    <tr style=\"text-align: right;\">\n",
       "      <th></th>\n",
       "      <th>Выручка, руб</th>\n",
       "      <th>Звонки, мин</th>\n",
       "      <th>Интернет, МБ</th>\n",
       "      <th>Количество звонков, шт</th>\n",
       "      <th>СМС, шт</th>\n",
       "      <th>Тариф</th>\n",
       "    </tr>\n",
       "    <tr>\n",
       "      <th>user_id</th>\n",
       "      <th></th>\n",
       "      <th></th>\n",
       "      <th></th>\n",
       "      <th></th>\n",
       "      <th></th>\n",
       "      <th></th>\n",
       "    </tr>\n",
       "  </thead>\n",
       "  <tbody>\n",
       "    <tr>\n",
       "      <td>1000</td>\n",
       "      <td>1950.0</td>\n",
       "      <td>345.0</td>\n",
       "      <td>14327.5</td>\n",
       "      <td>46.5</td>\n",
       "      <td>65.0</td>\n",
       "      <td>ultra</td>\n",
       "    </tr>\n",
       "    <tr>\n",
       "      <td>1001</td>\n",
       "      <td>950.0</td>\n",
       "      <td>437.0</td>\n",
       "      <td>16259.5</td>\n",
       "      <td>61.0</td>\n",
       "      <td>0.0</td>\n",
       "      <td>smart</td>\n",
       "    </tr>\n",
       "    <tr>\n",
       "      <td>1002</td>\n",
       "      <td>1150.0</td>\n",
       "      <td>221.0</td>\n",
       "      <td>17615.0</td>\n",
       "      <td>33.0</td>\n",
       "      <td>11.0</td>\n",
       "      <td>smart</td>\n",
       "    </tr>\n",
       "    <tr>\n",
       "      <td>1003</td>\n",
       "      <td>1950.0</td>\n",
       "      <td>844.0</td>\n",
       "      <td>11369.0</td>\n",
       "      <td>108.0</td>\n",
       "      <td>83.0</td>\n",
       "      <td>ultra</td>\n",
       "    </tr>\n",
       "    <tr>\n",
       "      <td>1004</td>\n",
       "      <td>1950.0</td>\n",
       "      <td>136.5</td>\n",
       "      <td>17831.0</td>\n",
       "      <td>21.5</td>\n",
       "      <td>154.5</td>\n",
       "      <td>ultra</td>\n",
       "    </tr>\n",
       "    <tr>\n",
       "      <td>1005</td>\n",
       "      <td>884.5</td>\n",
       "      <td>609.5</td>\n",
       "      <td>7846.5</td>\n",
       "      <td>76.0</td>\n",
       "      <td>49.0</td>\n",
       "      <td>smart</td>\n",
       "    </tr>\n",
       "    <tr>\n",
       "      <td>1006</td>\n",
       "      <td>750.0</td>\n",
       "      <td>365.0</td>\n",
       "      <td>15554.0</td>\n",
       "      <td>49.0</td>\n",
       "      <td>0.0</td>\n",
       "      <td>smart</td>\n",
       "    </tr>\n",
       "    <tr>\n",
       "      <td>1007</td>\n",
       "      <td>1017.0</td>\n",
       "      <td>490.0</td>\n",
       "      <td>14451.0</td>\n",
       "      <td>69.0</td>\n",
       "      <td>26.0</td>\n",
       "      <td>smart</td>\n",
       "    </tr>\n",
       "    <tr>\n",
       "      <td>1008</td>\n",
       "      <td>568.0</td>\n",
       "      <td>350.0</td>\n",
       "      <td>13243.0</td>\n",
       "      <td>52.0</td>\n",
       "      <td>56.0</td>\n",
       "      <td>smart</td>\n",
       "    </tr>\n",
       "    <tr>\n",
       "      <td>1009</td>\n",
       "      <td>1150.0</td>\n",
       "      <td>228.0</td>\n",
       "      <td>17762.0</td>\n",
       "      <td>29.5</td>\n",
       "      <td>12.0</td>\n",
       "      <td>smart</td>\n",
       "    </tr>\n",
       "    <tr>\n",
       "      <td>1010</td>\n",
       "      <td>750.0</td>\n",
       "      <td>255.0</td>\n",
       "      <td>16197.0</td>\n",
       "      <td>32.0</td>\n",
       "      <td>0.0</td>\n",
       "      <td>smart</td>\n",
       "    </tr>\n",
       "    <tr>\n",
       "      <td>1011</td>\n",
       "      <td>1494.5</td>\n",
       "      <td>465.0</td>\n",
       "      <td>18582.5</td>\n",
       "      <td>65.0</td>\n",
       "      <td>12.5</td>\n",
       "      <td>smart</td>\n",
       "    </tr>\n",
       "    <tr>\n",
       "      <td>1012</td>\n",
       "      <td>2050.0</td>\n",
       "      <td>236.0</td>\n",
       "      <td>22222.5</td>\n",
       "      <td>36.5</td>\n",
       "      <td>14.5</td>\n",
       "      <td>smart</td>\n",
       "    </tr>\n",
       "    <tr>\n",
       "      <td>1013</td>\n",
       "      <td>1950.0</td>\n",
       "      <td>486.0</td>\n",
       "      <td>15275.5</td>\n",
       "      <td>71.0</td>\n",
       "      <td>21.0</td>\n",
       "      <td>ultra</td>\n",
       "    </tr>\n",
       "    <tr>\n",
       "      <td>1014</td>\n",
       "      <td>2554.5</td>\n",
       "      <td>245.0</td>\n",
       "      <td>25313.5</td>\n",
       "      <td>33.5</td>\n",
       "      <td>45.5</td>\n",
       "      <td>smart</td>\n",
       "    </tr>\n",
       "  </tbody>\n",
       "</table>\n",
       "</div>"
      ],
      "text/plain": [
       "         Выручка, руб  Звонки, мин  Интернет, МБ  Количество звонков, шт  \\\n",
       "user_id                                                                    \n",
       "1000           1950.0        345.0       14327.5                    46.5   \n",
       "1001            950.0        437.0       16259.5                    61.0   \n",
       "1002           1150.0        221.0       17615.0                    33.0   \n",
       "1003           1950.0        844.0       11369.0                   108.0   \n",
       "1004           1950.0        136.5       17831.0                    21.5   \n",
       "1005            884.5        609.5        7846.5                    76.0   \n",
       "1006            750.0        365.0       15554.0                    49.0   \n",
       "1007           1017.0        490.0       14451.0                    69.0   \n",
       "1008            568.0        350.0       13243.0                    52.0   \n",
       "1009           1150.0        228.0       17762.0                    29.5   \n",
       "1010            750.0        255.0       16197.0                    32.0   \n",
       "1011           1494.5        465.0       18582.5                    65.0   \n",
       "1012           2050.0        236.0       22222.5                    36.5   \n",
       "1013           1950.0        486.0       15275.5                    71.0   \n",
       "1014           2554.5        245.0       25313.5                    33.5   \n",
       "\n",
       "         СМС, шт  Тариф  \n",
       "user_id                  \n",
       "1000        65.0  ultra  \n",
       "1001         0.0  smart  \n",
       "1002        11.0  smart  \n",
       "1003        83.0  ultra  \n",
       "1004       154.5  ultra  \n",
       "1005        49.0  smart  \n",
       "1006         0.0  smart  \n",
       "1007        26.0  smart  \n",
       "1008        56.0  smart  \n",
       "1009        12.0  smart  \n",
       "1010         0.0  smart  \n",
       "1011        12.5  smart  \n",
       "1012        14.5  smart  \n",
       "1013        21.0  ultra  \n",
       "1014        45.5  smart  "
      ]
     },
     "execution_count": 66,
     "metadata": {},
     "output_type": "execute_result"
    }
   ],
   "source": [
    "# В отдельной таблице посчитаем медианное значение звонков, смс, МБ в месяц для каждого пользователя\n",
    "medians = grouped_df.pivot_table(index='user_id', values=['Звонки, мин', 'Количество звонков, шт', 'СМС, шт', 'Интернет, МБ', 'Выручка, руб'], aggfunc='median')\n",
    "# Добавим столбец с тарифом\n",
    "for user_id in users['user_id']:\n",
    "    medians.loc[user_id, 'Тариф'] = users.loc[user_id-1000, 'tariff']\n",
    "medians.head(15)"
   ]
  },
  {
   "cell_type": "markdown",
   "metadata": {},
   "source": [
    "### 4.3 Расчет среднего, дисперсии и стандартного отклонения"
   ]
  },
  {
   "cell_type": "code",
   "execution_count": 67,
   "metadata": {},
   "outputs": [
    {
     "data": {
      "text/html": [
       "<div>\n",
       "<style scoped>\n",
       "    .dataframe tbody tr th:only-of-type {\n",
       "        vertical-align: middle;\n",
       "    }\n",
       "\n",
       "    .dataframe tbody tr th {\n",
       "        vertical-align: top;\n",
       "    }\n",
       "\n",
       "    .dataframe thead tr th {\n",
       "        text-align: left;\n",
       "    }\n",
       "\n",
       "    .dataframe thead tr:last-of-type th {\n",
       "        text-align: right;\n",
       "    }\n",
       "</style>\n",
       "<table border=\"1\" class=\"dataframe\">\n",
       "  <thead>\n",
       "    <tr>\n",
       "      <th></th>\n",
       "      <th colspan=\"4\" halign=\"left\">Выручка, руб</th>\n",
       "      <th colspan=\"4\" halign=\"left\">Звонки, мин</th>\n",
       "      <th colspan=\"4\" halign=\"left\">Интернет, МБ</th>\n",
       "      <th colspan=\"4\" halign=\"left\">Количество звонков, шт</th>\n",
       "      <th colspan=\"4\" halign=\"left\">СМС, шт</th>\n",
       "    </tr>\n",
       "    <tr>\n",
       "      <th></th>\n",
       "      <th>mean</th>\n",
       "      <th>median</th>\n",
       "      <th>std</th>\n",
       "      <th>var</th>\n",
       "      <th>mean</th>\n",
       "      <th>median</th>\n",
       "      <th>std</th>\n",
       "      <th>var</th>\n",
       "      <th>mean</th>\n",
       "      <th>median</th>\n",
       "      <th>std</th>\n",
       "      <th>var</th>\n",
       "      <th>mean</th>\n",
       "      <th>median</th>\n",
       "      <th>std</th>\n",
       "      <th>var</th>\n",
       "      <th>mean</th>\n",
       "      <th>median</th>\n",
       "      <th>std</th>\n",
       "      <th>var</th>\n",
       "    </tr>\n",
       "    <tr>\n",
       "      <th>Тариф</th>\n",
       "      <th></th>\n",
       "      <th></th>\n",
       "      <th></th>\n",
       "      <th></th>\n",
       "      <th></th>\n",
       "      <th></th>\n",
       "      <th></th>\n",
       "      <th></th>\n",
       "      <th></th>\n",
       "      <th></th>\n",
       "      <th></th>\n",
       "      <th></th>\n",
       "      <th></th>\n",
       "      <th></th>\n",
       "      <th></th>\n",
       "      <th></th>\n",
       "      <th></th>\n",
       "      <th></th>\n",
       "      <th></th>\n",
       "      <th></th>\n",
       "    </tr>\n",
       "  </thead>\n",
       "  <tbody>\n",
       "    <tr>\n",
       "      <td>smart</td>\n",
       "      <td>1329.772857</td>\n",
       "      <td>1150.0</td>\n",
       "      <td>736.477569</td>\n",
       "      <td>542399.209720</td>\n",
       "      <td>449.885714</td>\n",
       "      <td>453.0</td>\n",
       "      <td>164.614327</td>\n",
       "      <td>27097.876586</td>\n",
       "      <td>16862.307143</td>\n",
       "      <td>16955.00</td>\n",
       "      <td>4181.498288</td>\n",
       "      <td>1.748493e+07</td>\n",
       "      <td>61.814286</td>\n",
       "      <td>61.0</td>\n",
       "      <td>22.519169</td>\n",
       "      <td>507.112976</td>\n",
       "      <td>33.770000</td>\n",
       "      <td>28.5</td>\n",
       "      <td>28.010653</td>\n",
       "      <td>784.596662</td>\n",
       "    </tr>\n",
       "    <tr>\n",
       "      <td>ultra</td>\n",
       "      <td>2061.993243</td>\n",
       "      <td>1950.0</td>\n",
       "      <td>300.318278</td>\n",
       "      <td>90191.067981</td>\n",
       "      <td>572.820946</td>\n",
       "      <td>550.5</td>\n",
       "      <td>311.491491</td>\n",
       "      <td>97026.949014</td>\n",
       "      <td>20324.445946</td>\n",
       "      <td>19751.75</td>\n",
       "      <td>8901.975727</td>\n",
       "      <td>7.924517e+07</td>\n",
       "      <td>77.912162</td>\n",
       "      <td>78.0</td>\n",
       "      <td>42.231413</td>\n",
       "      <td>1783.492232</td>\n",
       "      <td>56.983108</td>\n",
       "      <td>47.5</td>\n",
       "      <td>49.236809</td>\n",
       "      <td>2424.263318</td>\n",
       "    </tr>\n",
       "  </tbody>\n",
       "</table>\n",
       "</div>"
      ],
      "text/plain": [
       "      Выручка, руб                                    Звонки, мин         \\\n",
       "              mean  median         std            var        mean median   \n",
       "Тариф                                                                      \n",
       "smart  1329.772857  1150.0  736.477569  542399.209720  449.885714  453.0   \n",
       "ultra  2061.993243  1950.0  300.318278   90191.067981  572.820946  550.5   \n",
       "\n",
       "                                 Интернет, МБ                         \\\n",
       "              std           var          mean    median          std   \n",
       "Тариф                                                                  \n",
       "smart  164.614327  27097.876586  16862.307143  16955.00  4181.498288   \n",
       "ultra  311.491491  97026.949014  20324.445946  19751.75  8901.975727   \n",
       "\n",
       "                    Количество звонков, шт                                 \\\n",
       "                var                   mean median        std          var   \n",
       "Тариф                                                                       \n",
       "smart  1.748493e+07              61.814286   61.0  22.519169   507.112976   \n",
       "ultra  7.924517e+07              77.912162   78.0  42.231413  1783.492232   \n",
       "\n",
       "         СМС, шт                                 \n",
       "            mean median        std          var  \n",
       "Тариф                                            \n",
       "smart  33.770000   28.5  28.010653   784.596662  \n",
       "ultra  56.983108   47.5  49.236809  2424.263318  "
      ]
     },
     "execution_count": 67,
     "metadata": {},
     "output_type": "execute_result"
    }
   ],
   "source": [
    "# Используя методы описательной статистики, посчитаем среднее арифметическое, медиану, дисперсию, стандартное отклонение\n",
    "# по звонкам, интернет- трафику, сообщениям и выручке для каждого тарифа\n",
    "stat1 = medians.pivot_table(index=['Тариф'], values=['Звонки, мин', 'Количество звонков, шт', 'СМС, шт', 'Интернет, МБ', 'Выручка, руб'], \n",
    "                    aggfunc={'Звонки, мин': [np.mean, np.median, np.var, np.std], \n",
    "                             'Количество звонков, шт': [np.mean, np.median, np.var, np.std],\n",
    "                             'СМС, шт': [np.mean, np.median, np.var, np.std], \n",
    "                             'Интернет, МБ': [np.mean, np.median, np.var, np.std],\n",
    "                             'Выручка, руб': [np.mean, np.median, np.var, np.std] })\n",
    "stat1"
   ]
  },
  {
   "cell_type": "markdown",
   "metadata": {},
   "source": [
    "Полученные данные говорят о том, что набор имеющихся данных положительно скошен по обоим тарифам, по всем параметрам имеются редкие и выбивающиеся значения (выбросы). Это говорит о разнообразном использовании клиентами обоих тарифов возможностей сотовой связи в рамках абонентской платы и сверх нее. \n",
    "\n",
    "Краткое резюме для каждого параметра:\n",
    "\n",
    "- Выручка - для обоих тарифов данные скошены вправо, среднее арифметическое больше абонентской платы, т.е. в среднем в месяц пользователи обоих тарифов дают выручку больше ежемесячной платы. Однако для тарифа Ультра медианное значение равно абонентской плате, значит пользователи этого тарифа превышают свой пакет крайне редко. Стандартное отклонение для тарифа Ультра гораздо меньше, чем для Смарта, среднемесячная выручка пользователей распределена ближе к среднему арифметическому, чем у пользователей тарифа Смарт - пользователи Смарт чаще платят сверх абонентской платы.\n",
    "\n",
    "\n",
    "- Звонки - для тарифа Смарт данные скошены влево, среднее арифметическое и медиана не превышают пакета, но близки к нему - пользователи стараются уложиться в рамки пакета по звонкам и у большинства это получается. Стандартное отклонение равно 164,6 минутам - довольно много - среди пользователей Смарта есть те, кто разговаривает по тлефону долго. Для тарифа Ультра данные скошены вправо, среднее арифметичекое и медиана примерно в 5 раз ниже пакета минут в рамках тарифа - похоже только единицы из клиентов тарифа Ультра говорят по телефону более 3000 минут в месяц (а может быть и никто). Стандартное отклонение почти в 2 раза больше, чем у Смарта - клиенты Ультра не следят за количеством минут во время разговора, вот и данные разбросаны от среднего шире.\n",
    "\n",
    "\n",
    "- Интернет - для тарифа Смарт данные скошены влево, среднее арифметическое и медиана превышают лимит приблизительно на 1,5 Гб. Стандартное отклонение чуть более 4 Гб - довольно большой разброс, большинству пользователей не хватет 15 Гб интернета в рамках тарифного плана.Для тарифа Ультра данные скошены вправо, среднее арифметичекое и медиана составляют примерно 2/3 (около 19,5 Гб) пакета интернет- траффика в рамках тарифа - очевидно, что единицы используют интернет сверх тарифа. Стандартное отклонение более чем в 2 раза превышает таковое у Смарта - данные разбросаны широко, клиенты Ультра пользуются интернетом свободно.\n",
    "\n",
    "\n",
    "- Количество звонков - для обоих тарифов данные немного скошены вправо, среднее арифметическое практически приближено к медиане, стандартное отклонение для Смарта в три раза меньше медианы, для Ультра - в два. Клиенты Ультра звонят чаще, чем клиенты Смарт.\n",
    "\n",
    "\n",
    "- СМС - для обоих тарифов данные немного скошены вправо, среднее арифметическое и медиана не превышают лимиты тарифов - клиенты мало используют смс в сравнении с интернетом и телефонными звонками. Стандартные отклонения для обоих тарифов приближены к медианам - клиенты обоих тарифов с разнообразной частотой отправляют сообщения.\n"
   ]
  },
  {
   "cell_type": "markdown",
   "metadata": {},
   "source": [
    "### 4.4 Диаграммы размаха"
   ]
  },
  {
   "cell_type": "markdown",
   "metadata": {},
   "source": [
    "Уточним сделанные выше выводы наглядными изображениями, построим диаграммы размаха."
   ]
  },
  {
   "cell_type": "code",
   "execution_count": 68,
   "metadata": {},
   "outputs": [],
   "source": [
    "# Функция, получающая на вход название признака, и возвращающая границы \"усов\"\n",
    "def df_whiskers(column):\n",
    "    stat = medians[column].describe()\n",
    "    \n",
    "    # межквартирльный размах\n",
    "    iqr = stat[6] - stat[4]\n",
    "    \n",
    "    # левый и правый \"ус\"    \n",
    "    left_whisker = round(stat[4] - 1.5 * iqr, 2)\n",
    "    right_whisker = round(stat[6] + 1.5 * iqr, 2)\n",
    "\n",
    "    # левый \"ус\" не должен быть меньше минимального значения\n",
    "    if left_whisker < stat[3]: left_whisker = stat[3] \n",
    "        \n",
    "    # правый \"ус\" не должен быть больше максимального значения\n",
    "    if right_whisker > stat[7]: right_whisker = stat[7]\n",
    "        \n",
    "    return [left_whisker, right_whisker]\n"
   ]
  },
  {
   "cell_type": "code",
   "execution_count": 69,
   "metadata": {},
   "outputs": [
    {
     "data": {
      "text/plain": [
       "[550.0, 3450.0]"
      ]
     },
     "execution_count": 69,
     "metadata": {},
     "output_type": "execute_result"
    }
   ],
   "source": [
    "# Диапазон рассчитан по двум тарифам\n",
    "df_whiskers('Выручка, руб')"
   ]
  },
  {
   "cell_type": "code",
   "execution_count": 70,
   "metadata": {},
   "outputs": [
    {
     "data": {
      "image/png": "[encoded data removed]",
      "text/plain": [
       "<Figure size 360x360 with 1 Axes>"
      ]
     },
     "metadata": {
      "needs_background": "light"
     },
     "output_type": "display_data"
    }
   ],
   "source": [
    "for column in ['Выручка, руб']:\n",
    "    sns.catplot(x=\"Тариф\", y=column, kind=\"box\", data=medians)\n",
    "    plt.ylim([500,3700])\n",
    "    plt.title(\"Распределение выручки по двум тарифам\")"
   ]
  },
  {
   "cell_type": "markdown",
   "metadata": {},
   "source": [
    "Хорошо видно, что по тарифу Ультра, абсолютное большинство клиентов укладывается в абонентскую плату, в то время как клиенты Смарта в большинстве своем платят сверх абонентской платы. \"Усы\" для двух тарифов указывают на то, что многие не следят за своими расходами - в итоге платят в верхнем пределе нормы до 3600 рублей в месяц."
   ]
  },
  {
   "cell_type": "code",
   "execution_count": 71,
   "metadata": {},
   "outputs": [
    {
     "data": {
      "text/plain": [
       "[0.0, 1022.25]"
      ]
     },
     "execution_count": 71,
     "metadata": {},
     "output_type": "execute_result"
    }
   ],
   "source": [
    "# Диапазон рассчитан по двум тарифам\n",
    "df_whiskers('Звонки, мин')"
   ]
  },
  {
   "cell_type": "code",
   "execution_count": 72,
   "metadata": {},
   "outputs": [
    {
     "data": {
      "image/png": "[encoded data removed]",
      "text/plain": [
       "<Figure size 360x360 with 1 Axes>"
      ]
     },
     "metadata": {
      "needs_background": "light"
     },
     "output_type": "display_data"
    }
   ],
   "source": [
    "for column in ['Звонки, мин']:\n",
    "    sns.catplot(x=\"Тариф\", y=column, kind=\"box\", data=medians, palette='Paired')\n",
    "    plt.ylim([0,1300])\n",
    "    plt.title(\"Распределение длительности звонков по двум тарифам\")"
   ]
  },
  {
   "cell_type": "markdown",
   "metadata": {},
   "source": [
    "Клиенты Ультра разговаривают много и в пределах абоненского пакета, основная масса - 350-800 минут в месяц. Большинство пользователей смарта укладываются в 500 минут разговоров в месяц, но заметной части клиентов Смарт приходится платить сверх пакета, диапазон для Смарт составляет 350-550 минут в месяц, имеются выбросы в 900 минут в месяц. \"Усы\", рассчитанные по двум тарифам говорят, что 1000 минут в месяц - это предел нормы. "
   ]
  },
  {
   "cell_type": "code",
   "execution_count": 73,
   "metadata": {},
   "outputs": [
    {
     "data": {
      "text/plain": [
       "[4383.38, 30638.38]"
      ]
     },
     "execution_count": 73,
     "metadata": {},
     "output_type": "execute_result"
    }
   ],
   "source": [
    "# Диапазон рассчитан по двум тарифам\n",
    "df_whiskers('Интернет, МБ')"
   ]
  },
  {
   "cell_type": "code",
   "execution_count": 74,
   "metadata": {},
   "outputs": [
    {
     "data": {
      "image/png": "[encoded data removed]",
      "text/plain": [
       "<Figure size 360x360 with 1 Axes>"
      ]
     },
     "metadata": {
      "needs_background": "light"
     },
     "output_type": "display_data"
    }
   ],
   "source": [
    "for column in ['Интернет, МБ']:\n",
    "    sns.catplot(x=\"Тариф\", y=column, kind=\"box\", data=medians, palette='husl')\n",
    "    plt.ylim([0,41000])\n",
    "    plt.title(\"Распределение использованного интернет- траффика по двум тарифам\")"
   ]
  },
  {
   "cell_type": "markdown",
   "metadata": {},
   "source": [
    "Среди пользователей Ультра есть совершенно разные люди, некоторые из них даже не пользуются оплаченным ими интернет- трафиком. Однако таких занятых (или несовременных?) единицы, большинство используют интернет- траффик интенсивно, в диапазоне 15000-27500 МБ в месяц. Есть и интернет- зависимые - им не хватает 30 Гб в месяц. Пользователи Смарт все активные, но скромные - стараются уложиться в 15 Гб в месяц, но мало у кого это получается. Большинство держится в диапазоне 14000-19000 МБ в месяц, но некоторые не жалеют денег и тратят гораздо больше абонентского пакета. А вот \"усы\" говорят, что 30 Гб - верхний предел нормы."
   ]
  },
  {
   "cell_type": "code",
   "execution_count": 75,
   "metadata": {},
   "outputs": [
    {
     "data": {
      "text/plain": [
       "[0.0, 142.5]"
      ]
     },
     "execution_count": 75,
     "metadata": {},
     "output_type": "execute_result"
    }
   ],
   "source": [
    "# Диапазон рассчитан по двум тарифам\n",
    "df_whiskers('Количество звонков, шт')"
   ]
  },
  {
   "cell_type": "code",
   "execution_count": 76,
   "metadata": {},
   "outputs": [
    {
     "data": {
      "image/png": "[encoded data removed]",
      "text/plain": [
       "<Figure size 360x360 with 1 Axes>"
      ]
     },
     "metadata": {
      "needs_background": "light"
     },
     "output_type": "display_data"
    }
   ],
   "source": [
    "for column in ['Количество звонков, шт']:\n",
    "    sns.catplot(x=\"Тариф\", y=column, kind=\"box\", data=medians, palette='BrBG')\n",
    "    plt.ylim([0,200])\n",
    "    plt.title(\"Распределение количества звонков по двум тарифам\")"
   ]
  },
  {
   "cell_type": "markdown",
   "metadata": {},
   "source": [
    "В принципе очевидно, клиенты Ультра звонят чаще, чем клиенты Смарт. По обоим тарифам есть нулевые (вернее уже 1 минутные) вызовы. \"Усы\" указывают, что норма по двум тарифам - от 0 до 140 звонков в месяц. Нам в целом не важна эта информация, просто любопытно."
   ]
  },
  {
   "cell_type": "code",
   "execution_count": 77,
   "metadata": {},
   "outputs": [
    {
     "data": {
      "text/plain": [
       "[0.0, 132.0]"
      ]
     },
     "execution_count": 77,
     "metadata": {},
     "output_type": "execute_result"
    }
   ],
   "source": [
    "# Диапазон рассчитан по двум тарифам\n",
    "df_whiskers('СМС, шт')"
   ]
  },
  {
   "cell_type": "code",
   "execution_count": 78,
   "metadata": {},
   "outputs": [
    {
     "data": {
      "image/png": "[encoded data removed]",
      "text/plain": [
       "<Figure size 360x360 with 1 Axes>"
      ]
     },
     "metadata": {
      "needs_background": "light"
     },
     "output_type": "display_data"
    }
   ],
   "source": [
    "for column in ['СМС, шт']:\n",
    "    sns.catplot(x=\"Тариф\", y=column, kind=\"box\", data=medians, palette='Greens')\n",
    "    plt.ylim([0,200])\n",
    "    plt.title(\"Распределение количества сообщений по двум тарифам\")"
   ]
  },
  {
   "cell_type": "markdown",
   "metadata": {},
   "source": [
    "Для клиентов Ультра 1000 сообщений в месяц очевидно неактуально, диапазон большинства - 20-85 сообщений в месяц, единицы отправляют больше и никто - больше 200. Клиенты Смарт в основном придерживаются лимита, диапазон 10-50 смс в месяц, однако здесь есть и выбросы. \"Усы\" утверждают, что верхний предел нормы - 130 смс в месяц."
   ]
  },
  {
   "cell_type": "markdown",
   "metadata": {},
   "source": [
    "### 4.5 Плотностные гистограммы"
   ]
  },
  {
   "cell_type": "markdown",
   "metadata": {},
   "source": [
    "Для полного успокоения посмотрим на гистограммы."
   ]
  },
  {
   "cell_type": "code",
   "execution_count": 79,
   "metadata": {},
   "outputs": [
    {
     "data": {
      "text/plain": [
       "Text(0, 0.5, 'Частота')"
      ]
     },
     "execution_count": 79,
     "metadata": {},
     "output_type": "execute_result"
    },
    {
     "data": {
      "image/png": "[encoded data removed]",
      "text/plain": [
       "<Figure size 432x288 with 1 Axes>"
      ]
     },
     "metadata": {
      "needs_background": "light"
     },
     "output_type": "display_data"
    }
   ],
   "source": [
    "tariffs = ['ultra', 'smart']\n",
    "\n",
    "for tariff in tariffs:\n",
    "   \n",
    "    subset = medians[medians['Тариф'] == tariff]\n",
    "   \n",
    "    sns.distplot(subset['Выручка, руб'], bins = int(150/10), \n",
    "                 label = tariff, hist = True, kde = False, \n",
    "                 hist_kws = {'edgecolor': 'black'})\n",
    "    \n",
    "plt.legend(prop={'size': 16}, title = 'Тариф')\n",
    "plt.title('Выручка в месяц') \n",
    "plt.xlabel('Выручка в месяц, руб')\n",
    "plt.ylabel('Частота')"
   ]
  },
  {
   "cell_type": "markdown",
   "metadata": {},
   "source": [
    "Клиенты Смарта намного чаще клиентов Ультра дают выручку сверх абонентской платы."
   ]
  },
  {
   "cell_type": "code",
   "execution_count": 80,
   "metadata": {},
   "outputs": [
    {
     "data": {
      "text/plain": [
       "Text(0, 0.5, 'Частота')"
      ]
     },
     "execution_count": 80,
     "metadata": {},
     "output_type": "execute_result"
    },
    {
     "data": {
      "image/png": "[encoded data removed]",
      "text/plain": [
       "<Figure size 432x288 with 1 Axes>"
      ]
     },
     "metadata": {
      "needs_background": "light"
     },
     "output_type": "display_data"
    }
   ],
   "source": [
    "tariffs = ['ultra', 'smart']\n",
    "\n",
    "for tariff in tariffs:\n",
    "   \n",
    "    subset = medians[medians['Тариф'] == tariff]\n",
    "   \n",
    "    sns.distplot(subset['Звонки, мин'], bins = int(150/10), \n",
    "                 label = tariff, hist = True, kde = False,\n",
    "                 hist_kws = {'edgecolor': 'black'})\n",
    "    \n",
    "plt.legend(prop={'size': 16}, title = 'Тариф')\n",
    "plt.title('Длительность звонков в месяц') \n",
    "plt.xlabel('Длительность звонков, мин')\n",
    "plt.ylabel('Частота')"
   ]
  },
  {
   "cell_type": "markdown",
   "metadata": {},
   "source": [
    "Как и ожидалось, у клиентов Ультра диапазон длительности разговоров гораздо шире клиентов Смарта. Клиенты Ультра не выговаривают оплаченные минуты, а заметной части клиентов Смарта минут не хватает."
   ]
  },
  {
   "cell_type": "code",
   "execution_count": 81,
   "metadata": {},
   "outputs": [
    {
     "data": {
      "text/plain": [
       "Text(0, 0.5, 'Частота')"
      ]
     },
     "execution_count": 81,
     "metadata": {},
     "output_type": "execute_result"
    },
    {
     "data": {
      "image/png": "[encoded data removed]",
      "text/plain": [
       "<Figure size 432x288 with 1 Axes>"
      ]
     },
     "metadata": {
      "needs_background": "light"
     },
     "output_type": "display_data"
    }
   ],
   "source": [
    "tariffs = ['ultra', 'smart']\n",
    "\n",
    "for tariff in tariffs:\n",
    "   \n",
    "    subset = medians[medians['Тариф'] == tariff]\n",
    "   \n",
    "    sns.distplot(subset['Интернет, МБ'], bins = int(150/10), \n",
    "                 label = tariff, hist = True, kde = False,\n",
    "                 hist_kws = {'edgecolor': 'black'})\n",
    "    \n",
    "plt.legend(prop={'size': 16}, title = 'Тариф')\n",
    "plt.title('Использование интернет- траффика в месяц') \n",
    "plt.xlabel('Интернет- траффик, МБ')\n",
    "plt.ylabel('Частота')"
   ]
  },
  {
   "cell_type": "markdown",
   "metadata": {},
   "source": [
    "Клиентам Смарта в массе не хватает пакета в 15 Гб. Клиенты Ультра чувствуют себя гораздо комфортнее."
   ]
  },
  {
   "cell_type": "code",
   "execution_count": 82,
   "metadata": {},
   "outputs": [
    {
     "data": {
      "text/plain": [
       "Text(0, 0.5, 'Частота')"
      ]
     },
     "execution_count": 82,
     "metadata": {},
     "output_type": "execute_result"
    },
    {
     "data": {
      "image/png": "[encoded data removed]",
      "text/plain": [
       "<Figure size 432x288 with 1 Axes>"
      ]
     },
     "metadata": {
      "needs_background": "light"
     },
     "output_type": "display_data"
    }
   ],
   "source": [
    "tariffs = ['ultra', 'smart']\n",
    "\n",
    "for tariff in tariffs:\n",
    "   \n",
    "    subset = medians[medians['Тариф'] == tariff]\n",
    "   \n",
    "    sns.distplot(subset['Количество звонков, шт'], bins = int(150/10), \n",
    "                 label = tariff, hist = True, kde = False,\n",
    "                 hist_kws = {'edgecolor': 'black'})\n",
    "    \n",
    "plt.legend(prop={'size': 16}, title = 'Тариф')\n",
    "plt.title('Количество звонков в месяц') \n",
    "\n",
    "plt.ylabel('Частота')"
   ]
  },
  {
   "cell_type": "markdown",
   "metadata": {},
   "source": [
    "Клиенты Ультра звонят чаще и вообще не переживают за свой тариф."
   ]
  },
  {
   "cell_type": "code",
   "execution_count": 83,
   "metadata": {},
   "outputs": [
    {
     "data": {
      "text/plain": [
       "Text(0, 0.5, 'Частота')"
      ]
     },
     "execution_count": 83,
     "metadata": {},
     "output_type": "execute_result"
    },
    {
     "data": {
      "image/png": "[encoded data removed]",
      "text/plain": [
       "<Figure size 432x288 with 1 Axes>"
      ]
     },
     "metadata": {
      "needs_background": "light"
     },
     "output_type": "display_data"
    }
   ],
   "source": [
    "tariffs = ['ultra', 'smart']\n",
    "\n",
    "for tariff in tariffs:\n",
    "   \n",
    "    subset = medians[medians['Тариф'] == tariff]\n",
    "   \n",
    "    sns.distplot(subset['СМС, шт'], bins = int(150/10), \n",
    "                 label = tariff, hist = True, kde = False,\n",
    "                 hist_kws = {'edgecolor': 'black'})\n",
    "    \n",
    "plt.legend(prop={'size': 16}, title = 'Тариф')\n",
    "plt.title('Количество отправленных сообщений в месяц') \n",
    "plt.xlabel('Количество СМС, шт')\n",
    "plt.ylabel('Частота')"
   ]
  },
  {
   "cell_type": "markdown",
   "metadata": {},
   "source": [
    "Клиенты Ультра отправляют максимум до 195 смс в месяц из 1000 возможных. Довольно многим клиентам Смарта 50 смс в месяц не хватает, некоторые отправляют более 130."
   ]
  },
  {
   "cell_type": "markdown",
   "metadata": {},
   "source": [
    "### 4.6 Вывод"
   ]
  },
  {
   "cell_type": "markdown",
   "metadata": {},
   "source": [
    "Поведение клиентов  оператора \"Мегалайн\" весьма разнообразно.\n",
    " - Тариф \"Ультра\" - дорогой, с широким пакетом в рамках абонентской платы, менее популярный (153 клиента в выборке)\n",
    " \n",
    " *Клиенты чувствуют себя уверенно, диапазон использования абонентского пакета довольно широк. Весь абонентский пакет в полном объеме никто из клиентов не использует. Дополнительная выручка по тарифу имеет место за счет использования (в редких случаях) интернет- траффика сверх пакета. Минуты используются не более, чем на 50 %, смс - не более 20 %. Большая часть клиентов тарифа \"Ультра\" дают выручку в пределах абонентской платы (медиана равна ей).*\n",
    " \n",
    " \n",
    " - Тариф \"Смарт\" - дешевый, популярный (345 клиентов в выборке)\n",
    " \n",
    " *Клиенты тарифа \"Смарт\" стараются уложиться в абонентскую плату, но у большинства это не получается. По всем услугам тарифа имеются заметные выбросы: многим клиентам не хватает минут разговора, 50 смс- сообщений и, особенно, интернет- трафика. Именно активное использование интернет- трафика приводит к наибольшим дополнительным расходам сверх абонентской платы для большинства клиентов. Медианная выручка по данному тарифу почти в два раза превышает абонентскую плату (987 руб, если считать по всем строкам, 1102 руб - если считать по медианным значениям для id-user).*"
   ]
  },
  {
   "cell_type": "markdown",
   "metadata": {},
   "source": [
    "## 5. Проверка гипотез"
   ]
  },
  {
   "cell_type": "markdown",
   "metadata": {},
   "source": [
    "### 5.1 Первая гипотеза"
   ]
  },
  {
   "cell_type": "markdown",
   "metadata": {},
   "source": [
    "В нашем распоряжении имеются объединенные в один датасет независимые выборки двух генеральных совокупностей (данные за 2018 год по 345 клиентам Смарт и данные за 2018 год по 153 клиентам Ультра). Выборки репрезентативны, количество наблюдений достаточное для применения ЦПТ.\n",
    "\n",
    "-__Нулевая гипотеза__ - \n",
    "$H_{0}$ - ***Средняя выручка от клиентов тарифа \"Ультра\" равна средней выручке от клиентов тарифа \"Смарт\"***\n",
    "\n",
    "-__Альтернативная гипотеза__ - \n",
    "$H_{1}$ - ***Средняя выручка от клиентов тарифа \"Ультра\" не равна средней выручке от клиентов тарифа \"Смарт\"***\n",
    "\n",
    "**α = 0,01**"
   ]
  },
  {
   "cell_type": "code",
   "execution_count": 84,
   "metadata": {},
   "outputs": [
    {
     "name": "stdout",
     "output_type": "stream",
     "text": [
      "p-значение: 1.2496710269965528e-233\n",
      "Отвергаем нулевую гипотезу\n"
     ]
    }
   ],
   "source": [
    "# Сделаем срезы для разделения выборок данных по двум тарифам\n",
    "ultra = grouped_df.query('Тариф == \"ultra\"')['Выручка, руб']\n",
    "smart = grouped_df.query('Тариф == \"smart\"')['Выручка, руб']\n",
    "\n",
    "# Критический уровень статистической значимости\n",
    "alpha = 0.01 \n",
    "\n",
    "# Провери гипотезу о равенстве средней выручки для двух тарифов\n",
    "results = st.ttest_ind(ultra, smart, equal_var = False ) \n",
    "\n",
    "print('p-значение:', results.pvalue)\n",
    "\n",
    "if results.pvalue < alpha:\n",
    "    print(\"Отвергаем нулевую гипотезу\")\n",
    "else:\n",
    "    print(\"Не получилось отвергнуть нулевую гипотезу\")"
   ]
  },
  {
   "cell_type": "code",
   "execution_count": 85,
   "metadata": {},
   "outputs": [
    {
     "data": {
      "text/html": [
       "<div>\n",
       "<style scoped>\n",
       "    .dataframe tbody tr th:only-of-type {\n",
       "        vertical-align: middle;\n",
       "    }\n",
       "\n",
       "    .dataframe tbody tr th {\n",
       "        vertical-align: top;\n",
       "    }\n",
       "\n",
       "    .dataframe thead th {\n",
       "        text-align: right;\n",
       "    }\n",
       "</style>\n",
       "<table border=\"1\" class=\"dataframe\">\n",
       "  <thead>\n",
       "    <tr style=\"text-align: right;\">\n",
       "      <th></th>\n",
       "      <th>Выручка, руб</th>\n",
       "    </tr>\n",
       "    <tr>\n",
       "      <th>Тариф</th>\n",
       "      <th></th>\n",
       "    </tr>\n",
       "  </thead>\n",
       "  <tbody>\n",
       "    <tr>\n",
       "      <td>smart</td>\n",
       "      <td>1075</td>\n",
       "    </tr>\n",
       "    <tr>\n",
       "      <td>ultra</td>\n",
       "      <td>1950</td>\n",
       "    </tr>\n",
       "  </tbody>\n",
       "</table>\n",
       "</div>"
      ],
      "text/plain": [
       "       Выручка, руб\n",
       "Тариф              \n",
       "smart          1075\n",
       "ultra          1950"
      ]
     },
     "execution_count": 85,
     "metadata": {},
     "output_type": "execute_result"
    }
   ],
   "source": [
    "grouped_df.pivot_table(index='Тариф', values='Выручка, руб', aggfunc='median')"
   ]
  },
  {
   "cell_type": "markdown",
   "metadata": {},
   "source": [
    "**ВЫВОД**\n",
    "\n",
    "***Среднии выручки по тарифам \"Смарт\" и \"Ультра\" отличаются друг от друга.*** \n",
    "\n",
    "***Средняя выручка по тарифу \"Ультра\" почти в 2 раза превышает среднюю выручку по тарифу \"Смарт\".***"
   ]
  },
  {
   "cell_type": "markdown",
   "metadata": {},
   "source": [
    "### 5.2 Вторая гипотеза"
   ]
  },
  {
   "cell_type": "markdown",
   "metadata": {},
   "source": [
    "В нашем распоряжении имеются объединенные в один датасет независимые выборки двух генеральных совокупностей (данные за 2018 год по клиентам тарифов Смарт и Ультра, проживающим в Москве, а также данные по клиентам, проживающим в иных населенных пунктах (другой регион)). Выборки репрезентативны, количество наблюдений достаточное для применения ЦПТ.\n",
    "\n",
    "-__Нулевая гипотеза__ - \n",
    "$H_{0}$ - ***Средняя выручка клиентов из Москвы равна средней выручке клиентов из других регионов***\n",
    "\n",
    "-__Альтернативная гипотеза__ - \n",
    "$H_{1}$ - ***Средняя выручка клиентов из Москвы не равна средней выручке клиентов из других регионов***\n",
    "\n",
    "**α = 0,01**"
   ]
  },
  {
   "cell_type": "code",
   "execution_count": 86,
   "metadata": {},
   "outputs": [
    {
     "name": "stdout",
     "output_type": "stream",
     "text": [
      "p-значение: 0.560259602740345\n",
      "Не получилось отвергнуть нулевую гипотезу\n"
     ]
    }
   ],
   "source": [
    "# Сделаем срезы для разделения выборок по месту жительства\n",
    "moscow = grouped_df.query('Город == \"Москва\"')['Выручка, руб']\n",
    "regions = grouped_df.query('Город != \"Москва\"')['Выручка, руб']\n",
    "\n",
    "# Критический уровень статистической значимости\n",
    "alpha = 0.01 \n",
    "\n",
    "# Провери гипотезу о равенстве средней выручки для двух совокупностей по месту жительства клиентов\n",
    "results = st.ttest_ind(moscow, regions, equal_var = False) \n",
    "\n",
    "print('p-значение:', results.pvalue)\n",
    "\n",
    "if results.pvalue < alpha:\n",
    "    print(\"Отвергаем нулевую гипотезу\")\n",
    "else:\n",
    "    print(\"Не получилось отвергнуть нулевую гипотезу\")"
   ]
  },
  {
   "cell_type": "code",
   "execution_count": 87,
   "metadata": {},
   "outputs": [
    {
     "data": {
      "text/html": [
       "<div>\n",
       "<style scoped>\n",
       "    .dataframe tbody tr th:only-of-type {\n",
       "        vertical-align: middle;\n",
       "    }\n",
       "\n",
       "    .dataframe tbody tr th {\n",
       "        vertical-align: top;\n",
       "    }\n",
       "\n",
       "    .dataframe thead th {\n",
       "        text-align: right;\n",
       "    }\n",
       "</style>\n",
       "<table border=\"1\" class=\"dataframe\">\n",
       "  <thead>\n",
       "    <tr style=\"text-align: right;\">\n",
       "      <th></th>\n",
       "      <th>Выручка, руб</th>\n",
       "    </tr>\n",
       "    <tr>\n",
       "      <th>Регион</th>\n",
       "      <th></th>\n",
       "    </tr>\n",
       "  </thead>\n",
       "  <tbody>\n",
       "    <tr>\n",
       "      <td>Другой регион</td>\n",
       "      <td>1632</td>\n",
       "    </tr>\n",
       "    <tr>\n",
       "      <td>Москва</td>\n",
       "      <td>1776</td>\n",
       "    </tr>\n",
       "  </tbody>\n",
       "</table>\n",
       "</div>"
      ],
      "text/plain": [
       "               Выручка, руб\n",
       "Регион                     \n",
       "Другой регион          1632\n",
       "Москва                 1776"
      ]
     },
     "execution_count": 87,
     "metadata": {},
     "output_type": "execute_result"
    }
   ],
   "source": [
    "grouped_df.pivot_table(index='Регион', values='Выручка, руб', aggfunc='median')"
   ]
  },
  {
   "cell_type": "markdown",
   "metadata": {},
   "source": [
    "**ВЫВОД**\n",
    "\n",
    "***Вероятность того, что каждый житель Москвы в среднем приносит иную выручку, в сравнении с выручкой от каждого жителя других регионов, равна 50,3 %.***\n",
    "\n",
    "***Средняя выручка по клиентам из Москвы незначительно отличается от средней выручки по клиентам из других мест жительства.*** "
   ]
  },
  {
   "cell_type": "markdown",
   "metadata": {},
   "source": [
    "## 6. Общий вывод"
   ]
  },
  {
   "cell_type": "markdown",
   "metadata": {},
   "source": [
    "**Исходные данные**\n",
    "\n",
    "Для анализа были предоставлены 5 датасетов с данными о 500 клиентах двух тарифов (69,35 % - клиенты тарифа \"Смарт\"; 30,65 % - клиенты тарифа \"Ультра\"), информацией об использовании клиентами пакета услуг: длительности звонков, длительности интернет- сессий, количестве отправленных сообщений. Серьезных проблем в качестве данных не выявлено, основной момент, которому стоит уделить внимание - нулевые значения в данных о длительности звонков и интернет- сессий. Учитывая, что возможность связаться с DE, DevOPS, заказчиком для уточнения причин наличия нулевых значений отсутствовала, а количество нулевых значений довольно велико (для предположения о неудачных попытках установления связи) они были заменены на 1 в соответствии с условиями тарифов - на 1 минуту для длительности звонков, на 1 МБ - для интернет- сессий (так как единица измерения - МБ).\n",
    "\n",
    "***Анализ использования клиентами пакетов тарифов проводился по следующим основным параметрам:***\n",
    "\n",
    "- **Длительность звонков**\n",
    "- **Длительность интернет- сессий**\n",
    "- **Количество отправленных сообщений**\n",
    "- **Выручка оператора**\n",
    "\n",
    "***Осуществлялась проверка следующих двух нулевых гипотез***\n",
    "\n",
    "1. **Средняя выручка от клиентов тарифа \"Ультра\" равна средней выручке от клиентов тарифа \"Смарт\"**\n",
    "2. **Средняя выручка клиентов из Москвы равна средней выручке клиентов из других регионов**\n",
    "\n",
    "***Получены следующие результаты***\n",
    "\n",
    "- *Тариф \"Ультра\" - дорогой, с широким пакетом в рамках абонентской платы, менее популярный (153 клиента в выборке)*\n",
    "- *Тариф \"Смарт\" - в 3,5 раза дешевле, чем \"Ультра\", популярный (345 клиентов в выборке)*\n",
    "\n",
    "\n",
    "    Поведение клиентов  оператора \"Мегалайн\" весьма разнообразно. Клиентами обоих тарифов возможности сотовой связи в рамках абонентской платы и сверх нее используются в широких диапазонах. \n",
    "\n",
    "**Тариф \"Ультра\"**\n",
    "\n",
    "- **Длительность звонков** - клиенты разговаривают часто и много, весь абонентский пакет минут не использует никто из них, основной диапазон - 350-800 минут в месяц.\n",
    "- **Длительность интернет- сессий** - клиенты используют интернет в широких пределах - от 0 до более, чем 30 ГБ в месяц. Медианное значение - 19,5 ГБ, что составляет 2/3 от абонентского пакета.\n",
    "- **Количество отправленных сообщений** - смс- сообщения гораздо менее популярны, в сравнении со звонками и интернет- сессиями, клиенты отправляют сообщения в диапазоне 20-85 смс в месяц, единицы отправляют больше, максимум - около 200 сообщений в месяц.\n",
    "\n",
    "***Таким образом, клиенты тарифа \"Ультра\" чувствуют себя уверенно и свободно в пределах абонентского пакета своего тарифа, сверх лимита клиенты \"Ультра\" в редких случаях используют интернет- траффик.***\n",
    "\n",
    "\n",
    "**Тариф \"Смарт\"**\n",
    "\n",
    "- **Длительность звонков** - клиенты в большинстве укладываются в лимитированные 500 минут в месяц, но заметная часть клиентов использует минуты дополнительно, основной диапазон - 350-550 минут в месяц, имеются выбросы до 900 минут в месяц.\n",
    "- **Длительность интернет- сессий** - клиенты используют интернет активно, большинство клиентов превышает ежемесячный лимит. Медианное значение приблизительно на 1,5 ГБ выше установленного лимита, основной диапазон - 13,6 - 18,6 ГБ в месяц, имеются и выбросы до 30 ГБ в месяц.\n",
    "- **Количество отправленных сообщений** - смс- сообщения также менее популярны, в сравнении со звонками и интернет- сессиями, клиенты отправляют сообщения в основном в рамках пакета 10-50 смс в месяц, довольно заметная часть отправляют больше, максимум - около 130 сообщений в месяц.\n",
    "\n",
    "***Таким образом, заметная часть клиентов тарифа \"Смарт\"  не укладывается в пределы абонентского пакета своего тарифа по всем предоставляемым услугам.***\n",
    "\n",
    "**Установленные диапазоны нормы по выборке для двух тарифов**\n",
    "- **Длительность звонков**  - 0 - 1022 минуты\n",
    "- **Длительность интернет- сессий** - 4 383,38 МБ (4,2 ГБ) - 30 638,38 МБ (29,9 ГБ)\n",
    "- **Количество отправленных сообщений** - 0 - 132\n",
    "\n",
    "\n",
    "**Итоги проверки гипотез**\n",
    "1. ***Среднии выручки по тарифам \"Смарт\" и \"Ультра\" отличаются друг от друга.*** \n",
    "   ***Средняя выручка по тарифу \"Ультра\" почти в 2 раза превышает среднюю выручку по тарифу \"Смарт\".***\n",
    "   \n",
    "2. ***Вероятность того, что каждый житель Москвы в среднем приносит иную выручку, в сравнении с выручкой от каждого жителя других регионов, равна 50,3 %.***\n",
    "   ***Средняя выручка по клиентам из Москвы незначительно отличается от средней выручки по клиентам из других мест жительства. Клиент из Москвы в среднем приносит оператору на 188 рублей в месяц больше, чем клиент из других населенных пунктов РФ.***\n",
    "   \n",
    "**Выручка**\n",
    "\n",
    "В среднем в месяц пользователи обоих тарифов дают выручку больше ежемесячной платы. Однако для тарифа Ультра медианное значение равно абонентской плате, пользователи этого тарифа превышают свой пакет крайне редко.\n",
    "\n",
    "**Исходя из результатов анализа, на момент выгрузки данных, более доходным для оператора являлся тариф \"Смарт\" - за счет объемов (69,25 % клиентов), за счет значительного использования клиентами этого тарифа услуг сверх абонентского пакета. \n",
    "\n",
    "**Однако тариф \"Ультра\" приносит стабильный доход и довольно большой диапазон остатков неиспользованных абонентских пакетов.  \n",
    "\n",
    "**Кроме того, следует учесть психологию потребителя - не взирая на консерватизм, лень, занятость, привычку, неумение следить за своими расходами и т.д., рано или поздно наступит момент, когда клиенты задумаются о переплатах и условиях своего тарифа. Что подтверждается наличием в выборке данных клиентов, отказавшихся от тарифа на момент выгрузки. 23 клиента отказались от тарифа \"Смарт\", 15 - от тарифа \"Ультра\". \n",
    "\n",
    "**Тариф \"Ультра\" надежно занимает определенную нишу потребителей, он изначально предлагает клиентам широкий лимит услуг, клиенты выбирают его осознанно, готовы платить высокую абонентскую плату, услуг в рамках тарифа абсолютному большинству из них хватает, поэтому риски отказа от тарифа снижены и обусловлены независимыми внешнеми причинами. Что касается тарифа \"Смарт\", то здесь ситуация иная - больинство клиентов по той или иной услуге, а особенно по услуге доступа к сети интернет, не укладываются в рамки лимита абонентского пакета, следовательно здесь высокие риски отказов от тарифа, оттока клиентов. \n",
    "\n",
    "**В перспективе для оператора более стабилен тариф \"Ультра\".***\n",
    "\n",
    "\n",
    "***Рекомендации для заказчика***\n",
    "1. Во избежание рисков потери клиентов, рассмотреть вопрос о корректировке абонентского пакета для тарифа \"Смарт\", оптимизировать его, обратить особое внимание на интернет- траффик.\n",
    "2. Провести адресный анализ использования клиентами абонентского пакета, клиентам часто превышающим лимит предложить иные, более подходящие для них тарифы.\n",
    "3. Проверить работоспособность системы сбора данных об использовании клиентами услуг на предмет выяснения причины появления большого количества нулевых значений в длительности звонков и интернет- сессий."
   ]
  }
 ],
 "metadata": {
  "kernelspec": {
   "display_name": "Python 3",
   "language": "python",
   "name": "python3"
  },
  "language_info": {
   "codemirror_mode": {
    "name": "ipython",
    "version": 3
   },
   "file_extension": ".py",
   "mimetype": "text/x-python",
   "name": "python",
   "nbconvert_exporter": "python",
   "pygments_lexer": "ipython3",
   "version": "3.8.8"
  },
  "toc": {
   "base_numbering": "1.Изучение данных из файла",
   "nav_menu": {},
   "number_sections": false,
   "sideBar": true,
   "skip_h1_title": true,
   "title_cell": "Содержание",
   "title_sidebar": "Contents",
   "toc_cell": true,
   "toc_position": {
    "height": "calc(100% - 180px)",
    "left": "10px",
    "top": "150px",
    "width": "198.238px"
   },
   "toc_section_display": true,
   "toc_window_display": false
  }
 },
 "nbformat": 4,
 "nbformat_minor": 2
}
