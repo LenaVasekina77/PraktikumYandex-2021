{
 "cells": [
  {
   "cell_type": "markdown",
   "metadata": {
    "toc": true
   },
   "source": [
    "<h1>Тема: Принятие решений в бизнесе на основе данных A/B теста.<span class=\"tocSkip\"></span></h1>\n",
    "<div class=\"toc\"><ul class=\"toc-item\"><li><span><a href=\"#Цель:\" data-toc-modified-id=\"Цель:-1\">Цель:</a></span></li><li><span><a href=\"#Задачи:\" data-toc-modified-id=\"Задачи:-2\">Задачи:</a></span></li><li><span><a href=\"#Объект-исследования:\" data-toc-modified-id=\"Объект-исследования:-3\">Объект исследования:</a></span></li><li><span><a href=\"#1.-Изучение-данных-из-файлов\" data-toc-modified-id=\"1.-Изучение-данных-из-файлов-4\">1. Изучение данных из файлов</a></span><ul class=\"toc-item\"><li><span><a href=\"#1.1.-Импортирование-библиотек\" data-toc-modified-id=\"1.1.-Импортирование-библиотек-4.1\">1.1. Импортирование библиотек</a></span></li><li><span><a href=\"#1.2.-Предварительное-изучение-данных\" data-toc-modified-id=\"1.2.-Предварительное-изучение-данных-4.2\">1.2. Предварительное изучение данных</a></span></li><li><span><a href=\"#Данные-для-первой-части---информация-о-гипотезах\" data-toc-modified-id=\"Данные-для-первой-части---информация-о-гипотезах-4.3\">Данные для первой части - информация о гипотезах</a></span></li><li><span><a href=\"#Данные-для-второй-части---информация-о-заказах\" data-toc-modified-id=\"Данные-для-второй-части---информация-о-заказах-4.4\">Данные для второй части - информация о заказах</a></span></li><li><span><a href=\"#Данные-для-второй-части---информация-о-визитах\" data-toc-modified-id=\"Данные-для-второй-части---информация-о-визитах-4.5\">Данные для второй части - информация о визитах</a></span></li></ul></li><li><span><a href=\"#2.-Подготовка-данных\" data-toc-modified-id=\"2.-Подготовка-данных-5\">2. Подготовка данных</a></span><ul class=\"toc-item\"><li><span><a href=\"#2.1.-Замена-названий-столбцов\" data-toc-modified-id=\"2.1.-Замена-названий-столбцов-5.1\">2.1. Замена названий столбцов</a></span></li><li><span><a href=\"#2.2.-Замена-типов-данных\" data-toc-modified-id=\"2.2.-Замена-типов-данных-5.2\">2.2. Замена типов данных</a></span></li><li><span><a href=\"#2.3.-Очистка-датафрейма-orders\" data-toc-modified-id=\"2.3.-Очистка-датафрейма-orders-5.3\">2.3. Очистка датафрейма orders</a></span></li><li><span><a href=\"#2.4.-Проверка-корректности-распределения-на-А/В-группы\" data-toc-modified-id=\"2.4.-Проверка-корректности-распределения-на-А/В-группы-5.4\">2.4. Проверка корректности распределения на А/В группы</a></span></li></ul></li><li><span><a href=\"#3.-Анализ-данных-Часть-I.-Приоритизация-гипотез\" data-toc-modified-id=\"3.-Анализ-данных-Часть-I.-Приоритизация-гипотез-6\">3. Анализ данных Часть I. Приоритизация гипотез</a></span><ul class=\"toc-item\"><li><span><a href=\"#3.1.-Фреймворк-ICE\" data-toc-modified-id=\"3.1.-Фреймворк-ICE-6.1\">3.1. Фреймворк ICE</a></span></li><li><span><a href=\"#3.2.-Фреймворк-RICE\" data-toc-modified-id=\"3.2.-Фреймворк-RICE-6.2\">3.2. Фреймворк RICE</a></span></li><li><span><a href=\"#3.3.-Вывод.\" data-toc-modified-id=\"3.3.-Вывод.-6.3\">3.3. Вывод.</a></span></li></ul></li><li><span><a href=\"#4.-Часть-II.-Анализ-А/В-теста\" data-toc-modified-id=\"4.-Часть-II.-Анализ-А/В-теста-7\">4. Часть II. Анализ А/В теста</a></span><ul class=\"toc-item\"><li><span><a href=\"#4.1.-График-кумулятивной-выручки-по-группам\" data-toc-modified-id=\"4.1.-График-кумулятивной-выручки-по-группам-7.1\">4.1. График кумулятивной выручки по группам</a></span></li><li><span><a href=\"#4.2.-График-кумулятивного-среднего-чека-по-группам\" data-toc-modified-id=\"4.2.-График-кумулятивного-среднего-чека-по-группам-7.2\">4.2. График кумулятивного среднего чека по группам</a></span></li><li><span><a href=\"#4.3.-График-относительного-изменения-кумулятивного-среднего-чека-группы-B-к-группе-A\" data-toc-modified-id=\"4.3.-График-относительного-изменения-кумулятивного-среднего-чека-группы-B-к-группе-A-7.3\">4.3. График относительного изменения кумулятивного среднего чека группы B к группе A</a></span></li><li><span><a href=\"#4.4.-График-кумулятивной-конверсии-по-группам\" data-toc-modified-id=\"4.4.-График-кумулятивной-конверсии-по-группам-7.4\">4.4. График кумулятивной конверсии по группам</a></span></li><li><span><a href=\"#4.5.-График-относительного-изменения-кумулятивной-конверсии-группы-B-к-группе-A\" data-toc-modified-id=\"4.5.-График-относительного-изменения-кумулятивной-конверсии-группы-B-к-группе-A-7.5\">4.5. График относительного изменения кумулятивной конверсии группы B к группе A</a></span></li><li><span><a href=\"#4.6.-Точечный-график-количества-заказов-по-пользователям\" data-toc-modified-id=\"4.6.-Точечный-график-количества-заказов-по-пользователям-7.6\">4.6. Точечный график количества заказов по пользователям</a></span></li><li><span><a href=\"#4.7.-95-й-и-99-й-перцентили-количества-заказов-на-пользователя\" data-toc-modified-id=\"4.7.-95-й-и-99-й-перцентили-количества-заказов-на-пользователя-7.7\">4.7. 95-й и 99-й перцентили количества заказов на пользователя</a></span></li><li><span><a href=\"#4.8.-Точечный-график-стоимостей-заказов\" data-toc-modified-id=\"4.8.-Точечный-график-стоимостей-заказов-7.8\">4.8. Точечный график стоимостей заказов</a></span></li><li><span><a href=\"#4.9.-95-й-и-99-й-перцентили-стоимости-заказов\" data-toc-modified-id=\"4.9.-95-й-и-99-й-перцентили-стоимости-заказов-7.9\">4.9. 95-й и 99-й перцентили стоимости заказов</a></span></li><li><span><a href=\"#4.10.-Статистическая-значимость-различий-в-конверсии-между-группами-по-«сырым»-данным\" data-toc-modified-id=\"4.10.-Статистическая-значимость-различий-в-конверсии-между-группами-по-«сырым»-данным-7.10\">4.10. Статистическая значимость различий в конверсии между группами по «сырым» данным</a></span></li><li><span><a href=\"#4.11.-Статистическая-значимость-различий-в-среднем-чеке-заказа-между-группами-по-«сырым»-данным\" data-toc-modified-id=\"4.11.-Статистическая-значимость-различий-в-среднем-чеке-заказа-между-группами-по-«сырым»-данным-7.11\">4.11. Статистическая значимость различий в среднем чеке заказа между группами по «сырым» данным</a></span></li><li><span><a href=\"#4.12.-Статистическая-значимость-различий-в-конверсии-между-группами-по-«очищенным»-данным\" data-toc-modified-id=\"4.12.-Статистическая-значимость-различий-в-конверсии-между-группами-по-«очищенным»-данным-7.12\">4.12. Статистическая значимость различий в конверсии между группами по «очищенным» данным</a></span></li><li><span><a href=\"#4.13.-Статистическая-значимость-различий-в-среднем-чеке-заказа-между-группами-по-«очищенным»-данным\" data-toc-modified-id=\"4.13.-Статистическая-значимость-различий-в-среднем-чеке-заказа-между-группами-по-«очищенным»-данным-7.13\">4.13. Статистическая значимость различий в среднем чеке заказа между группами по «очищенным» данным</a></span></li><li><span><a href=\"#4.14.-Результаты-А/В-теста\" data-toc-modified-id=\"4.14.-Результаты-А/В-теста-7.14\">4.14. Результаты А/В теста</a></span></li></ul></li><li><span><a href=\"#5.-Общий-вывод\" data-toc-modified-id=\"5.-Общий-вывод-8\">5. Общий вывод</a></span></li></ul></div>"
   ]
  },
  {
   "cell_type": "markdown",
   "metadata": {},
   "source": [
    "## Цель:\n",
    "**Установить приоритетную гипотезу для увеличения выручки, выяснитьэффективность предлагаемых изменений по результатам А/В теста.** \n",
    "\n",
    "## Задачи:\n",
    "- **1. Провести приоритизацию гипотез.**\n",
    "- **2. Проанализировать результаты А/В теста.**\n",
    "- **3. Подвести итоги.**\n",
    "\n",
    "## Объект исследования: \n",
    "- **Данные о сути гипотез и оценке параметров фреймворков ICE и RICE.**\n",
    "- **Данные для двух групп А/В теста - о заказах, о посещениях.**\n",
    "\n",
    "**Заказчик** - отдел маркетинга крупного интернет- магазина."
   ]
  },
  {
   "cell_type": "markdown",
   "metadata": {},
   "source": [
    "## 1. Изучение данных из файлов"
   ]
  },
  {
   "cell_type": "markdown",
   "metadata": {},
   "source": [
    "### 1.1. Импортирование библиотек"
   ]
  },
  {
   "cell_type": "code",
   "execution_count": 1,
   "metadata": {},
   "outputs": [],
   "source": [
    "import pandas as pd\n",
    "pd.set_option('max_colwidth', 400)\n",
    "import numpy as np\n",
    "import matplotlib.pyplot as plt\n",
    "import seaborn as sns\n",
    "from scipy import stats\n",
    "import datetime as dt"
   ]
  },
  {
   "cell_type": "code",
   "execution_count": 2,
   "metadata": {},
   "outputs": [
    {
     "name": "stdout",
     "output_type": "stream",
     "text": [
      "<class 'pandas.core.frame.DataFrame'>\n",
      "RangeIndex: 100 entries, 0 to 99\n",
      "Data columns (total 5 columns):\n",
      "transactionId    100 non-null int64\n",
      "visitorId        100 non-null int64\n",
      "date             100 non-null object\n",
      "revenue          100 non-null int64\n",
      "group            100 non-null object\n",
      "dtypes: int64(3), object(2)\n",
      "memory usage: 4.0+ KB\n",
      "<class 'pandas.core.frame.DataFrame'>\n",
      "RangeIndex: 62 entries, 0 to 61\n",
      "Data columns (total 3 columns):\n",
      "date        62 non-null object\n",
      "group       62 non-null object\n",
      "visitors    62 non-null int64\n",
      "dtypes: int64(1), object(2)\n",
      "memory usage: 1.6+ KB\n",
      "<class 'pandas.core.frame.DataFrame'>\n",
      "RangeIndex: 1197 entries, 0 to 1196\n",
      "Data columns (total 5 columns):\n",
      "transactionid    1197 non-null int64\n",
      "visitorid        1197 non-null int64\n",
      "date             1197 non-null datetime64[ns]\n",
      "revenue          1197 non-null int32\n",
      "group            1197 non-null object\n",
      "dtypes: datetime64[ns](1), int32(1), int64(2), object(1)\n",
      "memory usage: 42.2+ KB\n",
      "<class 'pandas.core.frame.DataFrame'>\n",
      "RangeIndex: 62 entries, 0 to 61\n",
      "Data columns (total 3 columns):\n",
      "date        62 non-null datetime64[ns]\n",
      "group       62 non-null object\n",
      "visitors    62 non-null int16\n",
      "dtypes: datetime64[ns](1), int16(1), object(1)\n",
      "memory usage: 1.2+ KB\n"
     ]
    }
   ],
   "source": [
    "# Данные для первой части\n",
    "hypothesis = pd.read_csv('/datasets/hypothesis.csv')\n",
    "\n",
    "# Данные для второй части\n",
    "# Оценим данные, загрузим всего 100 строк:\n",
    "orders = pd.read_csv('/datasets/orders.csv', nrows = 100).info()\n",
    "visits = pd.read_csv('/datasets/visitors.csv', nrows = 100).info()\n",
    "\n",
    "# Оценив данные, создадим пайплайн для загрузки полного датасета:    \n",
    "orders = pd.read_csv('/datasets/orders.csv',\n",
    "    names=['transactionid','visitorid','date','revenue','group'], header=0,\n",
    "    parse_dates=['date'],    \n",
    "    dtype={'revenue' : 'int32'}, sep=',',\n",
    ") \n",
    "orders.info()\n",
    "\n",
    "visits = pd.read_csv('/datasets/visitors.csv',\n",
    "    parse_dates=['date'],    \n",
    "    dtype={'visitors' : 'int16'}, sep=',',\n",
    ") \n",
    "visits.info()\n"
   ]
  },
  {
   "cell_type": "code",
   "execution_count": 3,
   "metadata": {},
   "outputs": [
    {
     "data": {
      "text/html": [
       "<div>\n",
       "<style scoped>\n",
       "    .dataframe tbody tr th:only-of-type {\n",
       "        vertical-align: middle;\n",
       "    }\n",
       "\n",
       "    .dataframe tbody tr th {\n",
       "        vertical-align: top;\n",
       "    }\n",
       "\n",
       "    .dataframe thead th {\n",
       "        text-align: right;\n",
       "    }\n",
       "</style>\n",
       "<table border=\"1\" class=\"dataframe\">\n",
       "  <thead>\n",
       "    <tr style=\"text-align: right;\">\n",
       "      <th></th>\n",
       "      <th>transactionId</th>\n",
       "      <th>visitorId</th>\n",
       "      <th>date</th>\n",
       "      <th>revenue</th>\n",
       "      <th>group</th>\n",
       "    </tr>\n",
       "  </thead>\n",
       "  <tbody>\n",
       "    <tr>\n",
       "      <td>0</td>\n",
       "      <td>3667963787</td>\n",
       "      <td>3312258926</td>\n",
       "      <td>2019-08-15</td>\n",
       "      <td>1650</td>\n",
       "      <td>B</td>\n",
       "    </tr>\n",
       "    <tr>\n",
       "      <td>1</td>\n",
       "      <td>2804400009</td>\n",
       "      <td>3642806036</td>\n",
       "      <td>2019-08-15</td>\n",
       "      <td>730</td>\n",
       "      <td>B</td>\n",
       "    </tr>\n",
       "    <tr>\n",
       "      <td>2</td>\n",
       "      <td>2961555356</td>\n",
       "      <td>4069496402</td>\n",
       "      <td>2019-08-15</td>\n",
       "      <td>400</td>\n",
       "      <td>A</td>\n",
       "    </tr>\n",
       "    <tr>\n",
       "      <td>3</td>\n",
       "      <td>3797467345</td>\n",
       "      <td>1196621759</td>\n",
       "      <td>2019-08-15</td>\n",
       "      <td>9759</td>\n",
       "      <td>B</td>\n",
       "    </tr>\n",
       "    <tr>\n",
       "      <td>4</td>\n",
       "      <td>2282983706</td>\n",
       "      <td>2322279887</td>\n",
       "      <td>2019-08-15</td>\n",
       "      <td>2308</td>\n",
       "      <td>B</td>\n",
       "    </tr>\n",
       "  </tbody>\n",
       "</table>\n",
       "</div>"
      ],
      "text/plain": [
       "   transactionId   visitorId        date  revenue group\n",
       "0     3667963787  3312258926  2019-08-15     1650     B\n",
       "1     2804400009  3642806036  2019-08-15      730     B\n",
       "2     2961555356  4069496402  2019-08-15      400     A\n",
       "3     3797467345  1196621759  2019-08-15     9759     B\n",
       "4     2282983706  2322279887  2019-08-15     2308     B"
      ]
     },
     "metadata": {},
     "output_type": "display_data"
    },
    {
     "name": "stdout",
     "output_type": "stream",
     "text": [
      "<class 'pandas.core.frame.DataFrame'>\n",
      "RangeIndex: 100 entries, 0 to 99\n",
      "Data columns (total 5 columns):\n",
      "transactionId    100 non-null int64\n",
      "visitorId        100 non-null int64\n",
      "date             100 non-null object\n",
      "revenue          100 non-null int64\n",
      "group            100 non-null object\n",
      "dtypes: int64(3), object(2)\n",
      "memory usage: 4.0+ KB\n"
     ]
    },
    {
     "data": {
      "text/html": [
       "<div>\n",
       "<style scoped>\n",
       "    .dataframe tbody tr th:only-of-type {\n",
       "        vertical-align: middle;\n",
       "    }\n",
       "\n",
       "    .dataframe tbody tr th {\n",
       "        vertical-align: top;\n",
       "    }\n",
       "\n",
       "    .dataframe thead th {\n",
       "        text-align: right;\n",
       "    }\n",
       "</style>\n",
       "<table border=\"1\" class=\"dataframe\">\n",
       "  <thead>\n",
       "    <tr style=\"text-align: right;\">\n",
       "      <th></th>\n",
       "      <th>date</th>\n",
       "      <th>group</th>\n",
       "      <th>visitors</th>\n",
       "    </tr>\n",
       "  </thead>\n",
       "  <tbody>\n",
       "    <tr>\n",
       "      <td>0</td>\n",
       "      <td>2019-08-01</td>\n",
       "      <td>A</td>\n",
       "      <td>719</td>\n",
       "    </tr>\n",
       "    <tr>\n",
       "      <td>1</td>\n",
       "      <td>2019-08-02</td>\n",
       "      <td>A</td>\n",
       "      <td>619</td>\n",
       "    </tr>\n",
       "    <tr>\n",
       "      <td>2</td>\n",
       "      <td>2019-08-03</td>\n",
       "      <td>A</td>\n",
       "      <td>507</td>\n",
       "    </tr>\n",
       "    <tr>\n",
       "      <td>3</td>\n",
       "      <td>2019-08-04</td>\n",
       "      <td>A</td>\n",
       "      <td>717</td>\n",
       "    </tr>\n",
       "    <tr>\n",
       "      <td>4</td>\n",
       "      <td>2019-08-05</td>\n",
       "      <td>A</td>\n",
       "      <td>756</td>\n",
       "    </tr>\n",
       "  </tbody>\n",
       "</table>\n",
       "</div>"
      ],
      "text/plain": [
       "         date group  visitors\n",
       "0  2019-08-01     A       719\n",
       "1  2019-08-02     A       619\n",
       "2  2019-08-03     A       507\n",
       "3  2019-08-04     A       717\n",
       "4  2019-08-05     A       756"
      ]
     },
     "metadata": {},
     "output_type": "display_data"
    },
    {
     "name": "stdout",
     "output_type": "stream",
     "text": [
      "<class 'pandas.core.frame.DataFrame'>\n",
      "RangeIndex: 62 entries, 0 to 61\n",
      "Data columns (total 3 columns):\n",
      "date        62 non-null object\n",
      "group       62 non-null object\n",
      "visitors    62 non-null int64\n",
      "dtypes: int64(1), object(2)\n",
      "memory usage: 1.6+ KB\n"
     ]
    }
   ],
   "source": [
    "# Код ревьюера\n",
    "\n",
    "# Оценим данные, загрузим всего 100 строк:\n",
    "orders = pd.read_csv('/datasets/orders.csv', nrows = 100)\n",
    "display(orders.head())\n",
    "orders.info()\n",
    "\n",
    "visits = pd.read_csv('/datasets/visitors.csv', nrows = 100)\n",
    "display(visits.head())\n",
    "visits.info()"
   ]
  },
  {
   "cell_type": "code",
   "execution_count": 4,
   "metadata": {},
   "outputs": [],
   "source": [
    "# Оценив данные, создадим пайплайн для загрузки полного датасета:    \n",
    "orders = pd.read_csv('/datasets/orders.csv',\n",
    "    names=['transactionid','visitorid','date','revenue','group'], header=0,\n",
    "    parse_dates=['date'],    \n",
    "    dtype={'revenue' : 'int32'}, sep=',',\n",
    ") \n",
    "visits = pd.read_csv('/datasets/visitors.csv',\n",
    "    parse_dates=['date'],    \n",
    "    dtype={'visitors' : 'int16'}, sep=',',\n",
    ") "
   ]
  },
  {
   "cell_type": "markdown",
   "metadata": {},
   "source": [
    "### 1.2. Предварительное изучение данных"
   ]
  },
  {
   "cell_type": "markdown",
   "metadata": {},
   "source": [
    "### Данные для первой части - информация о гипотезах"
   ]
  },
  {
   "cell_type": "code",
   "execution_count": 5,
   "metadata": {},
   "outputs": [
    {
     "data": {
      "text/html": [
       "<div>\n",
       "<style scoped>\n",
       "    .dataframe tbody tr th:only-of-type {\n",
       "        vertical-align: middle;\n",
       "    }\n",
       "\n",
       "    .dataframe tbody tr th {\n",
       "        vertical-align: top;\n",
       "    }\n",
       "\n",
       "    .dataframe thead th {\n",
       "        text-align: right;\n",
       "    }\n",
       "</style>\n",
       "<table border=\"1\" class=\"dataframe\">\n",
       "  <thead>\n",
       "    <tr style=\"text-align: right;\">\n",
       "      <th></th>\n",
       "      <th>Hypothesis</th>\n",
       "      <th>Reach</th>\n",
       "      <th>Impact</th>\n",
       "      <th>Confidence</th>\n",
       "      <th>Efforts</th>\n",
       "    </tr>\n",
       "  </thead>\n",
       "  <tbody>\n",
       "    <tr>\n",
       "      <td>0</td>\n",
       "      <td>Добавить два новых канала привлечения трафика, что позволит привлекать на 30% больше пользователей</td>\n",
       "      <td>3</td>\n",
       "      <td>10</td>\n",
       "      <td>8</td>\n",
       "      <td>6</td>\n",
       "    </tr>\n",
       "    <tr>\n",
       "      <td>1</td>\n",
       "      <td>Запустить собственную службу доставки, что сократит срок доставки заказов</td>\n",
       "      <td>2</td>\n",
       "      <td>5</td>\n",
       "      <td>4</td>\n",
       "      <td>10</td>\n",
       "    </tr>\n",
       "    <tr>\n",
       "      <td>2</td>\n",
       "      <td>Добавить блоки рекомендаций товаров на сайт интернет магазина, чтобы повысить конверсию и средний чек заказа</td>\n",
       "      <td>8</td>\n",
       "      <td>3</td>\n",
       "      <td>7</td>\n",
       "      <td>3</td>\n",
       "    </tr>\n",
       "    <tr>\n",
       "      <td>3</td>\n",
       "      <td>Изменить структура категорий, что увеличит конверсию, т.к. пользователи быстрее найдут нужный товар</td>\n",
       "      <td>8</td>\n",
       "      <td>3</td>\n",
       "      <td>3</td>\n",
       "      <td>8</td>\n",
       "    </tr>\n",
       "    <tr>\n",
       "      <td>4</td>\n",
       "      <td>Изменить цвет фона главной страницы, чтобы увеличить вовлеченность пользователей</td>\n",
       "      <td>3</td>\n",
       "      <td>1</td>\n",
       "      <td>1</td>\n",
       "      <td>1</td>\n",
       "    </tr>\n",
       "    <tr>\n",
       "      <td>5</td>\n",
       "      <td>Добавить страницу отзывов клиентов о магазине, что позволит увеличить количество заказов</td>\n",
       "      <td>3</td>\n",
       "      <td>2</td>\n",
       "      <td>2</td>\n",
       "      <td>3</td>\n",
       "    </tr>\n",
       "    <tr>\n",
       "      <td>6</td>\n",
       "      <td>Показать на главной странице баннеры с актуальными акциями и распродажами, чтобы увеличить конверсию</td>\n",
       "      <td>5</td>\n",
       "      <td>3</td>\n",
       "      <td>8</td>\n",
       "      <td>3</td>\n",
       "    </tr>\n",
       "    <tr>\n",
       "      <td>7</td>\n",
       "      <td>Добавить форму подписки на все основные страницы, чтобы собрать базу клиентов для email-рассылок</td>\n",
       "      <td>10</td>\n",
       "      <td>7</td>\n",
       "      <td>8</td>\n",
       "      <td>5</td>\n",
       "    </tr>\n",
       "    <tr>\n",
       "      <td>8</td>\n",
       "      <td>Запустить акцию, дающую скидку на товар в день рождения</td>\n",
       "      <td>1</td>\n",
       "      <td>9</td>\n",
       "      <td>9</td>\n",
       "      <td>5</td>\n",
       "    </tr>\n",
       "  </tbody>\n",
       "</table>\n",
       "</div>"
      ],
      "text/plain": [
       "                                                                                                     Hypothesis  \\\n",
       "0            Добавить два новых канала привлечения трафика, что позволит привлекать на 30% больше пользователей   \n",
       "1                                     Запустить собственную службу доставки, что сократит срок доставки заказов   \n",
       "2  Добавить блоки рекомендаций товаров на сайт интернет магазина, чтобы повысить конверсию и средний чек заказа   \n",
       "3           Изменить структура категорий, что увеличит конверсию, т.к. пользователи быстрее найдут нужный товар   \n",
       "4                              Изменить цвет фона главной страницы, чтобы увеличить вовлеченность пользователей   \n",
       "5                      Добавить страницу отзывов клиентов о магазине, что позволит увеличить количество заказов   \n",
       "6          Показать на главной странице баннеры с актуальными акциями и распродажами, чтобы увеличить конверсию   \n",
       "7              Добавить форму подписки на все основные страницы, чтобы собрать базу клиентов для email-рассылок   \n",
       "8                                                       Запустить акцию, дающую скидку на товар в день рождения   \n",
       "\n",
       "   Reach  Impact  Confidence  Efforts  \n",
       "0      3      10           8        6  \n",
       "1      2       5           4       10  \n",
       "2      8       3           7        3  \n",
       "3      8       3           3        8  \n",
       "4      3       1           1        1  \n",
       "5      3       2           2        3  \n",
       "6      5       3           8        3  \n",
       "7     10       7           8        5  \n",
       "8      1       9           9        5  "
      ]
     },
     "execution_count": 5,
     "metadata": {},
     "output_type": "execute_result"
    }
   ],
   "source": [
    "# Посмотрим всю таблицу целиком, гипотез не может быть слишком много\n",
    "hypothesis"
   ]
  },
  {
   "cell_type": "code",
   "execution_count": 6,
   "metadata": {},
   "outputs": [
    {
     "name": "stdout",
     "output_type": "stream",
     "text": [
      "<class 'pandas.core.frame.DataFrame'>\n",
      "RangeIndex: 9 entries, 0 to 8\n",
      "Data columns (total 5 columns):\n",
      "Hypothesis    9 non-null object\n",
      "Reach         9 non-null int64\n",
      "Impact        9 non-null int64\n",
      "Confidence    9 non-null int64\n",
      "Efforts       9 non-null int64\n",
      "dtypes: int64(4), object(1)\n",
      "memory usage: 488.0+ bytes\n"
     ]
    }
   ],
   "source": [
    "# Вызовем общую информацию о таблице, заодно проверим корректность наименования столбцов, наличие пропусков во всей таблице\n",
    "hypothesis.info()"
   ]
  },
  {
   "cell_type": "markdown",
   "metadata": {},
   "source": [
    "**В таблице с информацией о гипотезах 5 столбцов, 9 строк. Типы данных у столбцов: object, int64. Замена типа данных не требуется. Наименования столбцов содержат буквы в верхнем регистре, требуется переименование столбцов. Пропуски данных и дубликаты отсутствуют.**\n",
    "\n",
    "**Столбцы содержат следующую информацию:**\n",
    "-\t**Hypothesis** — краткое описание гипотезы;\n",
    "-\t**Reach** — охват пользователей по 10-балльной шкале;\n",
    "-\t**Impact** — влияние на пользователей по 10-балльной шкале;\n",
    "-\t**Confidence** — уверенность в гипотезе по 10-балльной шкале;\n",
    "-\t**Efforts** — затраты ресурсов на проверку гипотезы по 10-балльной шкале. Чем больше значение Efforts, тем дороже проверка гипотезы."
   ]
  },
  {
   "cell_type": "markdown",
   "metadata": {},
   "source": [
    "### Данные для второй части - информация о заказах"
   ]
  },
  {
   "cell_type": "code",
   "execution_count": 7,
   "metadata": {},
   "outputs": [
    {
     "data": {
      "text/html": [
       "<div>\n",
       "<style scoped>\n",
       "    .dataframe tbody tr th:only-of-type {\n",
       "        vertical-align: middle;\n",
       "    }\n",
       "\n",
       "    .dataframe tbody tr th {\n",
       "        vertical-align: top;\n",
       "    }\n",
       "\n",
       "    .dataframe thead th {\n",
       "        text-align: right;\n",
       "    }\n",
       "</style>\n",
       "<table border=\"1\" class=\"dataframe\">\n",
       "  <thead>\n",
       "    <tr style=\"text-align: right;\">\n",
       "      <th></th>\n",
       "      <th>transactionid</th>\n",
       "      <th>visitorid</th>\n",
       "      <th>date</th>\n",
       "      <th>revenue</th>\n",
       "      <th>group</th>\n",
       "    </tr>\n",
       "  </thead>\n",
       "  <tbody>\n",
       "    <tr>\n",
       "      <td>700</td>\n",
       "      <td>2472751116</td>\n",
       "      <td>2328791559</td>\n",
       "      <td>2019-08-07</td>\n",
       "      <td>2070</td>\n",
       "      <td>B</td>\n",
       "    </tr>\n",
       "    <tr>\n",
       "      <td>621</td>\n",
       "      <td>380504587</td>\n",
       "      <td>1831140265</td>\n",
       "      <td>2019-08-29</td>\n",
       "      <td>26550</td>\n",
       "      <td>A</td>\n",
       "    </tr>\n",
       "    <tr>\n",
       "      <td>319</td>\n",
       "      <td>2414788465</td>\n",
       "      <td>2247745159</td>\n",
       "      <td>2019-08-19</td>\n",
       "      <td>1435</td>\n",
       "      <td>B</td>\n",
       "    </tr>\n",
       "    <tr>\n",
       "      <td>837</td>\n",
       "      <td>769008348</td>\n",
       "      <td>583433650</td>\n",
       "      <td>2019-08-08</td>\n",
       "      <td>5840</td>\n",
       "      <td>B</td>\n",
       "    </tr>\n",
       "    <tr>\n",
       "      <td>761</td>\n",
       "      <td>1109375840</td>\n",
       "      <td>2924874435</td>\n",
       "      <td>2019-08-07</td>\n",
       "      <td>990</td>\n",
       "      <td>A</td>\n",
       "    </tr>\n",
       "    <tr>\n",
       "      <td>592</td>\n",
       "      <td>1661608904</td>\n",
       "      <td>199874245</td>\n",
       "      <td>2019-08-20</td>\n",
       "      <td>240</td>\n",
       "      <td>A</td>\n",
       "    </tr>\n",
       "    <tr>\n",
       "      <td>1049</td>\n",
       "      <td>1514149551</td>\n",
       "      <td>2507107988</td>\n",
       "      <td>2019-08-11</td>\n",
       "      <td>3190</td>\n",
       "      <td>A</td>\n",
       "    </tr>\n",
       "    <tr>\n",
       "      <td>124</td>\n",
       "      <td>2923696601</td>\n",
       "      <td>749770631</td>\n",
       "      <td>2019-08-17</td>\n",
       "      <td>4480</td>\n",
       "      <td>A</td>\n",
       "    </tr>\n",
       "    <tr>\n",
       "      <td>251</td>\n",
       "      <td>2765625299</td>\n",
       "      <td>1967247027</td>\n",
       "      <td>2019-08-18</td>\n",
       "      <td>3190</td>\n",
       "      <td>B</td>\n",
       "    </tr>\n",
       "    <tr>\n",
       "      <td>531</td>\n",
       "      <td>4016435970</td>\n",
       "      <td>4017075195</td>\n",
       "      <td>2019-08-19</td>\n",
       "      <td>13390</td>\n",
       "      <td>A</td>\n",
       "    </tr>\n",
       "  </tbody>\n",
       "</table>\n",
       "</div>"
      ],
      "text/plain": [
       "      transactionid   visitorid       date  revenue group\n",
       "700      2472751116  2328791559 2019-08-07     2070     B\n",
       "621       380504587  1831140265 2019-08-29    26550     A\n",
       "319      2414788465  2247745159 2019-08-19     1435     B\n",
       "837       769008348   583433650 2019-08-08     5840     B\n",
       "761      1109375840  2924874435 2019-08-07      990     A\n",
       "592      1661608904   199874245 2019-08-20      240     A\n",
       "1049     1514149551  2507107988 2019-08-11     3190     A\n",
       "124      2923696601   749770631 2019-08-17     4480     A\n",
       "251      2765625299  1967247027 2019-08-18     3190     B\n",
       "531      4016435970  4017075195 2019-08-19    13390     A"
      ]
     },
     "execution_count": 7,
     "metadata": {},
     "output_type": "execute_result"
    }
   ],
   "source": [
    "#Вызовем 10 строк таблицы случайным образом\n",
    "orders.sample(n=10, random_state=0)"
   ]
  },
  {
   "cell_type": "code",
   "execution_count": 8,
   "metadata": {},
   "outputs": [
    {
     "data": {
      "text/plain": [
       "0"
      ]
     },
     "execution_count": 8,
     "metadata": {},
     "output_type": "execute_result"
    }
   ],
   "source": [
    "# Проверим наличие и количество дубликатов\n",
    "orders.duplicated().sum()"
   ]
  },
  {
   "cell_type": "code",
   "execution_count": 9,
   "metadata": {},
   "outputs": [
    {
     "name": "stdout",
     "output_type": "stream",
     "text": [
      "\n",
      "Начальная дата 2019-08-01 00:00:00, конечная дата 2019-08-31 00:00:00\n",
      "\n"
     ]
    }
   ],
   "source": [
    "# Посмотрим начальную и конечную даты\n",
    "print('\\nНачальная дата {}, конечная дата {}\\n'.format(orders['date'].min(), orders['date'].max()))"
   ]
  },
  {
   "cell_type": "code",
   "execution_count": 10,
   "metadata": {},
   "outputs": [
    {
     "data": {
      "text/html": [
       "<div>\n",
       "<style scoped>\n",
       "    .dataframe tbody tr th:only-of-type {\n",
       "        vertical-align: middle;\n",
       "    }\n",
       "\n",
       "    .dataframe tbody tr th {\n",
       "        vertical-align: top;\n",
       "    }\n",
       "\n",
       "    .dataframe thead th {\n",
       "        text-align: right;\n",
       "    }\n",
       "</style>\n",
       "<table border=\"1\" class=\"dataframe\">\n",
       "  <thead>\n",
       "    <tr style=\"text-align: right;\">\n",
       "      <th></th>\n",
       "      <th>visitorid</th>\n",
       "    </tr>\n",
       "    <tr>\n",
       "      <th>group</th>\n",
       "      <th></th>\n",
       "    </tr>\n",
       "  </thead>\n",
       "  <tbody>\n",
       "    <tr>\n",
       "      <td>A</td>\n",
       "      <td>503</td>\n",
       "    </tr>\n",
       "    <tr>\n",
       "      <td>B</td>\n",
       "      <td>586</td>\n",
       "    </tr>\n",
       "  </tbody>\n",
       "</table>\n",
       "</div>"
      ],
      "text/plain": [
       "       visitorid\n",
       "group           \n",
       "A            503\n",
       "B            586"
      ]
     },
     "execution_count": 10,
     "metadata": {},
     "output_type": "execute_result"
    }
   ],
   "source": [
    "# Посмотрим дополнительно на уникальные значения в столбце с пользователями, сделавшими заказ\n",
    "orders_0 = orders .groupby('group').agg({'visitorid': 'nunique'})\n",
    "orders_0"
   ]
  },
  {
   "cell_type": "code",
   "execution_count": 11,
   "metadata": {},
   "outputs": [
    {
     "data": {
      "text/plain": [
       "1031"
      ]
     },
     "execution_count": 11,
     "metadata": {},
     "output_type": "execute_result"
    }
   ],
   "source": [
    "# Проверим, совпадает ли общая цифра с уникальными ID пользователей\n",
    "orders['visitorid'].nunique()"
   ]
  },
  {
   "cell_type": "code",
   "execution_count": 12,
   "metadata": {},
   "outputs": [
    {
     "data": {
      "text/plain": [
       "B    640\n",
       "A    557\n",
       "Name: group, dtype: int64"
      ]
     },
     "execution_count": 12,
     "metadata": {},
     "output_type": "execute_result"
    }
   ],
   "source": [
    "# Посмотрим дополнительно на уникальные значения в столбце с категорией группы теста\n",
    "orders['group'].value_counts()"
   ]
  },
  {
   "cell_type": "markdown",
   "metadata": {},
   "source": [
    "**В таблице с информацией о заказах 5 столбцов, 1197 строк. Типы данных у столбцов: object, int64. Требуется замена типа данных в столбце с датой, замена типа данных в столбцах с числами к наименьшему возможному числовому dtype, можно заменить тип данных в столбце с группой. Наименования столбцов содержат буквы в верхнем регистре, требуется переименование столбцов. Пропуски данных и дубликаты отсутствуют.**\n",
    "\n",
    "**Столбцы содержат следующую информацию:**\n",
    "-\ttransactionId — идентификатор заказа;\n",
    "-\tvisitorId — идентификатор пользователя, совершившего заказ;\n",
    "-\tdate — дата, когда был совершён заказ;\n",
    "-\trevenue — выручка заказа;\n",
    "-\tgroup — группа A/B-теста, в которую попал заказ.\n",
    "\n",
    "**Таблица включает в себя заказы за период с 01.08.2019 по 31.08.2019, таким образом время проведения А/В теста - один месяц (август 2019 года).**\n",
    "\n",
    "**Сумма уникальных значений пользователей (которые совершили заказ) по группам больше общего числа уникальных значений ID пользователей. Это говорит о том, что некоторые пользователи, которые сделали заказ, попали в обе группы. Каждый посетитель, попавший в одну из групп теста, должен оставаться в ней до конца. Если пользователь видит разные вариации А/В теста в течение одного исследования, неизвестно, какая из них повлияла на него. Значит и результаты теста нельзя интерпретировать однозначно. Во избежание искажения результатов А/В теста, от данных по заказчикам в обеих группах необходимо избавится.**\n",
    "\n",
    "**Распределение заказов между А/В группами неравномерно, соотношение: 53,5 % заказов в группе В; 46,5 % заказов в группе А. После удаления некорректных данных это соотношение может измениться.**"
   ]
  },
  {
   "cell_type": "markdown",
   "metadata": {},
   "source": [
    "### Данные для второй части - информация о визитах"
   ]
  },
  {
   "cell_type": "code",
   "execution_count": 13,
   "metadata": {},
   "outputs": [
    {
     "data": {
      "text/html": [
       "<div>\n",
       "<style scoped>\n",
       "    .dataframe tbody tr th:only-of-type {\n",
       "        vertical-align: middle;\n",
       "    }\n",
       "\n",
       "    .dataframe tbody tr th {\n",
       "        vertical-align: top;\n",
       "    }\n",
       "\n",
       "    .dataframe thead th {\n",
       "        text-align: right;\n",
       "    }\n",
       "</style>\n",
       "<table border=\"1\" class=\"dataframe\">\n",
       "  <thead>\n",
       "    <tr style=\"text-align: right;\">\n",
       "      <th></th>\n",
       "      <th>date</th>\n",
       "      <th>group</th>\n",
       "      <th>visitors</th>\n",
       "    </tr>\n",
       "  </thead>\n",
       "  <tbody>\n",
       "    <tr>\n",
       "      <td>30</td>\n",
       "      <td>2019-08-31</td>\n",
       "      <td>A</td>\n",
       "      <td>699</td>\n",
       "    </tr>\n",
       "    <tr>\n",
       "      <td>32</td>\n",
       "      <td>2019-08-02</td>\n",
       "      <td>B</td>\n",
       "      <td>581</td>\n",
       "    </tr>\n",
       "    <tr>\n",
       "      <td>33</td>\n",
       "      <td>2019-08-03</td>\n",
       "      <td>B</td>\n",
       "      <td>509</td>\n",
       "    </tr>\n",
       "    <tr>\n",
       "      <td>48</td>\n",
       "      <td>2019-08-18</td>\n",
       "      <td>B</td>\n",
       "      <td>737</td>\n",
       "    </tr>\n",
       "    <tr>\n",
       "      <td>51</td>\n",
       "      <td>2019-08-21</td>\n",
       "      <td>B</td>\n",
       "      <td>656</td>\n",
       "    </tr>\n",
       "    <tr>\n",
       "      <td>35</td>\n",
       "      <td>2019-08-05</td>\n",
       "      <td>B</td>\n",
       "      <td>707</td>\n",
       "    </tr>\n",
       "    <tr>\n",
       "      <td>11</td>\n",
       "      <td>2019-08-12</td>\n",
       "      <td>A</td>\n",
       "      <td>595</td>\n",
       "    </tr>\n",
       "    <tr>\n",
       "      <td>45</td>\n",
       "      <td>2019-08-15</td>\n",
       "      <td>B</td>\n",
       "      <td>544</td>\n",
       "    </tr>\n",
       "    <tr>\n",
       "      <td>2</td>\n",
       "      <td>2019-08-03</td>\n",
       "      <td>A</td>\n",
       "      <td>507</td>\n",
       "    </tr>\n",
       "    <tr>\n",
       "      <td>43</td>\n",
       "      <td>2019-08-13</td>\n",
       "      <td>B</td>\n",
       "      <td>769</td>\n",
       "    </tr>\n",
       "  </tbody>\n",
       "</table>\n",
       "</div>"
      ],
      "text/plain": [
       "         date group  visitors\n",
       "30 2019-08-31     A       699\n",
       "32 2019-08-02     B       581\n",
       "33 2019-08-03     B       509\n",
       "48 2019-08-18     B       737\n",
       "51 2019-08-21     B       656\n",
       "35 2019-08-05     B       707\n",
       "11 2019-08-12     A       595\n",
       "45 2019-08-15     B       544\n",
       "2  2019-08-03     A       507\n",
       "43 2019-08-13     B       769"
      ]
     },
     "execution_count": 13,
     "metadata": {},
     "output_type": "execute_result"
    }
   ],
   "source": [
    "#Вызовем 10 строк таблицы случайным образом\n",
    "visits.sample(n=10, random_state=0)"
   ]
  },
  {
   "cell_type": "code",
   "execution_count": 14,
   "metadata": {},
   "outputs": [
    {
     "data": {
      "text/plain": [
       "0"
      ]
     },
     "execution_count": 14,
     "metadata": {},
     "output_type": "execute_result"
    }
   ],
   "source": [
    "#Проверим наличие и количество дубликатов\n",
    "visits.duplicated().sum()"
   ]
  },
  {
   "cell_type": "code",
   "execution_count": 15,
   "metadata": {},
   "outputs": [
    {
     "name": "stdout",
     "output_type": "stream",
     "text": [
      "\n",
      "Начальная дата 2019-08-01 00:00:00, конечная дата 2019-08-31 00:00:00\n",
      "\n"
     ]
    }
   ],
   "source": [
    "# Посмотрим начальную и конечную даты\n",
    "\n",
    "print('\\nНачальная дата {}, конечная дата {}\\n'.format(visits['date'].min(), visits['date'].max()))"
   ]
  },
  {
   "cell_type": "code",
   "execution_count": 16,
   "metadata": {},
   "outputs": [
    {
     "data": {
      "text/plain": [
       "B    31\n",
       "A    31\n",
       "Name: group, dtype: int64"
      ]
     },
     "execution_count": 16,
     "metadata": {},
     "output_type": "execute_result"
    }
   ],
   "source": [
    "# Посмотрим дополнительно на уникальные значения в столбце с категорией группы теста\n",
    "visits['group'].value_counts()"
   ]
  },
  {
   "cell_type": "code",
   "execution_count": 17,
   "metadata": {},
   "outputs": [
    {
     "data": {
      "text/plain": [
       "group\n",
       "A    18736\n",
       "B    18916\n",
       "Name: visitors, dtype: int16"
      ]
     },
     "execution_count": 17,
     "metadata": {},
     "output_type": "execute_result"
    }
   ],
   "source": [
    "# Посчитаем число пользователей по группам\n",
    "visits_0 = visits.groupby('group')['visitors'].sum()\n",
    "visits_0"
   ]
  },
  {
   "cell_type": "markdown",
   "metadata": {},
   "source": [
    "**В таблице с информацией о визитах 3 столбца, 62 строки. Типы данных у столбцов: object, int64. Требуется замена типа данных в столбце с датой, замена типа данных в столбцах с числами к наименьшему возможному числовому dtype, можно заменить тип данных в столбце с группой на  category *(но не будем, потому что из-за category во 2 части основного анализа не  работает код)*. Наименования столбцов корректны. Пропуски данных и дубликаты отсутствуют.**\n",
    "\n",
    "\n",
    "**Столбцы содержат следующую информацию:**\n",
    "-\tdate — дата;\n",
    "-\tgroup — группа A/B-теста;\n",
    "- visitors — количество пользователей в указанную дату в указанной группе A/B-теста\n",
    "\n",
    "**Таблица включает в себя заказы за период с 01.08.2019 по 31.08.2019, таким образом время проведения А/В теста - один месяц (август 2019 года), что совпадает с данными в таблице о заказах.**\n",
    "\n",
    "\n",
    "**Распределение по датам между А/В группами равномерно - в каждой группе одинаковое количество уникальных значений - по 31, вероятно, на каждый из 31 дня августа для каждой группы. Необходимо убедиться, что неравномерное распределение посещений между группами статистически не значимо.**"
   ]
  },
  {
   "cell_type": "markdown",
   "metadata": {},
   "source": [
    "## 2. Подготовка данных"
   ]
  },
  {
   "cell_type": "markdown",
   "metadata": {},
   "source": [
    "### 2.1. Замена названий столбцов"
   ]
  },
  {
   "cell_type": "markdown",
   "metadata": {},
   "source": [
    "**Замена названий столбцов в таблице с заказами осуществлена при загрузке полного датасета orders.**"
   ]
  },
  {
   "cell_type": "code",
   "execution_count": 18,
   "metadata": {},
   "outputs": [
    {
     "data": {
      "text/plain": [
       "Index(['hypothesis', 'reach', 'impact', 'confidence', 'efforts'], dtype='object')"
      ]
     },
     "execution_count": 18,
     "metadata": {},
     "output_type": "execute_result"
    }
   ],
   "source": [
    "# Приведем к нижнему регистру, заменим названия столбцов в таблице с информацией о гипотезах\n",
    "# Во избежание перетасовки порядка столбцов, используем метод rename()\n",
    "#hypothesis.rename(columns={'Hypothesis': 'hypothesis', 'Reach': 'reach', 'Impact': 'impact', 'Confidence': 'confidence', 'Efforts': 'efforts'}, inplace=True)\n",
    "hypothesis.columns = hypothesis.columns.str.lower()\n",
    "# Проверим\n",
    "hypothesis.columns"
   ]
  },
  {
   "cell_type": "markdown",
   "metadata": {},
   "source": [
    "### 2.2. Замена типов данных"
   ]
  },
  {
   "cell_type": "markdown",
   "metadata": {},
   "source": [
    "**Замена типа данных (в столбце с датой, в столбце с выручкой и количеством пользователей (на меньший числовой dtype - чтобы снизить объем, оптимизировать данные)) для таблиц с информацией о заказах и о пользователях осуществлена при загрузке  полного датасета таблиц orders и visits.**"
   ]
  },
  {
   "cell_type": "markdown",
   "metadata": {},
   "source": [
    "### 2.3. Очистка датафрейма orders "
   ]
  },
  {
   "cell_type": "code",
   "execution_count": 19,
   "metadata": {},
   "outputs": [
    {
     "name": "stdout",
     "output_type": "stream",
     "text": [
      "   transactionid_x   visitorid     date_x  revenue_x group_x  transactionid_y  \\\n",
      "0       2961555356  4069496402 2019-08-15        400       A       1473132782   \n",
      "1       2223239646   199603092 2019-08-15       3488       A        437656952   \n",
      "2         62794304   199603092 2019-08-22       6976       A        437656952   \n",
      "3       2971973105   199603092 2019-08-27       2790       A        437656952   \n",
      "4       1941707234   199603092 2019-08-12       6438       A        437656952   \n",
      "\n",
      "      date_y  revenue_y group_y  \n",
      "0 2019-08-12        640       B  \n",
      "1 2019-08-02       3488       B  \n",
      "2 2019-08-02       3488       B  \n",
      "3 2019-08-02       3488       B  \n",
      "4 2019-08-02       3488       B  \n",
      "<class 'pandas.core.frame.DataFrame'>\n",
      "Int64Index: 183 entries, 0 to 182\n",
      "Data columns (total 9 columns):\n",
      "transactionid_x    183 non-null int64\n",
      "visitorid          183 non-null int64\n",
      "date_x             183 non-null datetime64[ns]\n",
      "revenue_x          183 non-null int32\n",
      "group_x            183 non-null object\n",
      "transactionid_y    183 non-null int64\n",
      "date_y             183 non-null datetime64[ns]\n",
      "revenue_y          183 non-null int32\n",
      "group_y            183 non-null object\n",
      "dtypes: datetime64[ns](2), int32(2), int64(3), object(2)\n",
      "memory usage: 12.9+ KB\n"
     ]
    }
   ],
   "source": [
    "# Создадим таблицу, в которую поместим пользователей, попавших в обе группы\n",
    "orders_A = orders[orders['group']=='A']\n",
    "orders_B = orders[orders['group']=='B']\n",
    "orders_filtr = orders_A.merge(orders_B, on='visitorid')\n",
    " \n",
    "print(orders_filtr.head())\n",
    "\n",
    "orders_filtr.info()"
   ]
  },
  {
   "cell_type": "code",
   "execution_count": 20,
   "metadata": {},
   "outputs": [
    {
     "name": "stdout",
     "output_type": "stream",
     "text": [
      "<class 'pandas.core.frame.DataFrame'>\n",
      "Int64Index: 1016 entries, 0 to 1196\n",
      "Data columns (total 5 columns):\n",
      "transactionid    1016 non-null int64\n",
      "visitorid        1016 non-null int64\n",
      "date             1016 non-null datetime64[ns]\n",
      "revenue          1016 non-null int32\n",
      "group            1016 non-null object\n",
      "dtypes: datetime64[ns](1), int32(1), int64(2), object(1)\n",
      "memory usage: 43.7+ KB\n"
     ]
    }
   ],
   "source": [
    "# Переведем значения visitorid из обеих групп в list\n",
    "orders_filtr_list = orders_filtr['visitorid'].tolist()\n",
    "#orders_filtr_list\n",
    "\n",
    "# Удалим значения visitorid из обеих групп из датафрейма orders\n",
    "orders = orders[~orders['visitorid'].isin(orders_filtr_list)]\n",
    "orders.info()"
   ]
  },
  {
   "cell_type": "markdown",
   "metadata": {},
   "source": [
    "### 2.4. Проверка корректности распределения на А/В группы "
   ]
  },
  {
   "cell_type": "code",
   "execution_count": 21,
   "metadata": {},
   "outputs": [
    {
     "name": "stdout",
     "output_type": "stream",
     "text": [
      "Количество посетителей в группе А: 18736\n",
      "Количество посетителей в группе B: 18916\n",
      "Число заказов в группе А: 468\n",
      "Число заказов в группе B: 548\n",
      "P-value:0.36506882746952496\n",
      "Разница распределения посетителей между группами A и B статистически НЕзначима.\n",
      "\n",
      "Начальная конверсия (группа А): 0.025\n",
      "Полученная после изменений конверсия (группа В): 0.029\n",
      "Относительное различие конверсии между группами: 0.138\n",
      "\n",
      "Вводим начальную конверсию и полученное относительное различие конверсии в калькулятор\n",
      "Сайт калькулятора: https://www.evanmiller.org/ab-testing/sample-size.html\n",
      "Согласно калькулятору, необходимое количество выборки для корректного проведения тестирования - 32787.\n",
      "В исходном датафрейме представлены данные 37652 посещений.\n",
      "Размер выборки для проведения A/B тестирования корректен.\n"
     ]
    }
   ],
   "source": [
    "# Выведим на экран число пользователей каждой группы\n",
    "print('Количество посетителей в группе А: {}\\n'\n",
    "      'Количество посетителей в группе B: {}'.format(visits[visits['group']=='A']['visitors'].sum(), \n",
    "                                                 visits[visits['group']=='B']['visitors'].sum()))\n",
    "\n",
    "\n",
    "# Выведим на экран общее число заказов в каждой группе\n",
    "print('Число заказов в группе А: {}\\n'\n",
    "      'Число заказов в группе B: {}'.format(orders[orders['group']=='A']['group'].count(), \n",
    "                                                 orders[orders['group']=='B']['group'].count()))\n",
    "\n",
    "\n",
    "# Проверим статистическую значимость неравномерного распределения посетителей между группами\n",
    "results = stats.mannwhitneyu(visits[visits['group']=='A']['visitors'], visits[visits['group']=='B']['visitors'])\n",
    "alpha = 0.05\n",
    "print('P-value:{}'.format(results.pvalue))\n",
    "if results.pvalue < alpha:\n",
    "    print('Разница распределения посетителей между группами A и B статистически значима.\\n')\n",
    "else:\n",
    "    print('Разница распределения посетителей между группами A и B статистически НЕзначима.\\n')\n",
    "\n",
    "# Посчитаем конверсии, воспользуемся калькулятором, сравним фактическую выборку и рекомендуемую калькулятором   \n",
    "initial_conversion = len(orders[orders['group']=='A']) / visits[visits['group']=='A']['visitors'].sum() \n",
    "resulting_conversion = len(orders[orders['group']=='B']) / visits[visits['group']=='B']['visitors'].sum()\n",
    "\n",
    "\n",
    "print('Начальная конверсия (группа А): {:.3f}'.format(initial_conversion))\n",
    "print('Полученная после изменений конверсия (группа В): {:.3f}'.format(resulting_conversion))\n",
    "print('Относительное различие конверсии между группами: {:.3f}'.format(abs(1-(initial_conversion/resulting_conversion))))\n",
    "print('\\nВводим начальную конверсию и полученное относительное различие конверсии в калькулятор\\n'\n",
    "     'Сайт калькулятора: https://www.evanmiller.org/ab-testing/sample-size.html\\n'\n",
    "     'Согласно калькулятору, необходимое количество выборки для корректного проведения тестирования - 32787.\\n'\n",
    "     'В исходном датафрейме представлены данные {} посещений.\\n'\n",
    "     'Размер выборки для проведения A/B тестирования корректен.'.format(visits['visitors'].sum()))"
   ]
  },
  {
   "cell_type": "markdown",
   "metadata": {},
   "source": [
    "**Предобработка завершена, данные подготовлены для анализа.**"
   ]
  },
  {
   "cell_type": "markdown",
   "metadata": {},
   "source": [
    "## 3. Анализ данных Часть I. Приоритизация гипотез"
   ]
  },
  {
   "attachments": {
    "image-2.png": {
     "image/png": "[encoded data removed]"
    },
    "image.png": {
     "image/png": "[encoded data removed]"
    }
   },
   "cell_type": "markdown",
   "metadata": {},
   "source": [
    "**Для приоритизации гипотез будут использоваться фреймворки  ICE и  RICE.**\n",
    "\n",
    "**ICE** (от англ. impact, confidence, effort / ease «влияние, уверенность, усилия / простота») рассчитывается по формуле:\n",
    "![image.png](attachment:image.png)\n",
    "\n",
    "**RICE** (модификация ICE, R от англ. reach, «охват») рассчитывается по формуле:\n",
    "![image-2.png](attachment:image-2.png)\n",
    "\n",
    "\n",
    "**Расшифровка компонентов:**\n",
    "- **Reach** — скольких пользователей затронет изменение, которое вы хотите внести;\n",
    "- **Impact** — насколько сильно изменение повлияет на пользователей, их опыт и удовлетворение от продукта;\n",
    "- **Confidence** — насколько вы уверены, что это изменение повлияет на пользователей именно так;\n",
    "- **Efforts** — сколько стоит протестировать эту гипотезу.\n"
   ]
  },
  {
   "cell_type": "markdown",
   "metadata": {},
   "source": [
    "###  3.1. Фреймворк ICE"
   ]
  },
  {
   "cell_type": "code",
   "execution_count": 22,
   "metadata": {},
   "outputs": [
    {
     "data": {
      "text/html": [
       "<div>\n",
       "<style scoped>\n",
       "    .dataframe tbody tr th:only-of-type {\n",
       "        vertical-align: middle;\n",
       "    }\n",
       "\n",
       "    .dataframe tbody tr th {\n",
       "        vertical-align: top;\n",
       "    }\n",
       "\n",
       "    .dataframe thead th {\n",
       "        text-align: right;\n",
       "    }\n",
       "</style>\n",
       "<table border=\"1\" class=\"dataframe\">\n",
       "  <thead>\n",
       "    <tr style=\"text-align: right;\">\n",
       "      <th></th>\n",
       "      <th>hypothesis</th>\n",
       "      <th>reach</th>\n",
       "      <th>impact</th>\n",
       "      <th>confidence</th>\n",
       "      <th>efforts</th>\n",
       "      <th>ice</th>\n",
       "    </tr>\n",
       "  </thead>\n",
       "  <tbody>\n",
       "    <tr>\n",
       "      <td>8</td>\n",
       "      <td>Запустить акцию, дающую скидку на товар в день рождения</td>\n",
       "      <td>1</td>\n",
       "      <td>9</td>\n",
       "      <td>9</td>\n",
       "      <td>5</td>\n",
       "      <td>16.2</td>\n",
       "    </tr>\n",
       "    <tr>\n",
       "      <td>0</td>\n",
       "      <td>Добавить два новых канала привлечения трафика, что позволит привлекать на 30% больше пользователей</td>\n",
       "      <td>3</td>\n",
       "      <td>10</td>\n",
       "      <td>8</td>\n",
       "      <td>6</td>\n",
       "      <td>13.3</td>\n",
       "    </tr>\n",
       "    <tr>\n",
       "      <td>7</td>\n",
       "      <td>Добавить форму подписки на все основные страницы, чтобы собрать базу клиентов для email-рассылок</td>\n",
       "      <td>10</td>\n",
       "      <td>7</td>\n",
       "      <td>8</td>\n",
       "      <td>5</td>\n",
       "      <td>11.2</td>\n",
       "    </tr>\n",
       "    <tr>\n",
       "      <td>6</td>\n",
       "      <td>Показать на главной странице баннеры с актуальными акциями и распродажами, чтобы увеличить конверсию</td>\n",
       "      <td>5</td>\n",
       "      <td>3</td>\n",
       "      <td>8</td>\n",
       "      <td>3</td>\n",
       "      <td>8.0</td>\n",
       "    </tr>\n",
       "    <tr>\n",
       "      <td>2</td>\n",
       "      <td>Добавить блоки рекомендаций товаров на сайт интернет магазина, чтобы повысить конверсию и средний чек заказа</td>\n",
       "      <td>8</td>\n",
       "      <td>3</td>\n",
       "      <td>7</td>\n",
       "      <td>3</td>\n",
       "      <td>7.0</td>\n",
       "    </tr>\n",
       "    <tr>\n",
       "      <td>1</td>\n",
       "      <td>Запустить собственную службу доставки, что сократит срок доставки заказов</td>\n",
       "      <td>2</td>\n",
       "      <td>5</td>\n",
       "      <td>4</td>\n",
       "      <td>10</td>\n",
       "      <td>2.0</td>\n",
       "    </tr>\n",
       "    <tr>\n",
       "      <td>5</td>\n",
       "      <td>Добавить страницу отзывов клиентов о магазине, что позволит увеличить количество заказов</td>\n",
       "      <td>3</td>\n",
       "      <td>2</td>\n",
       "      <td>2</td>\n",
       "      <td>3</td>\n",
       "      <td>1.3</td>\n",
       "    </tr>\n",
       "    <tr>\n",
       "      <td>3</td>\n",
       "      <td>Изменить структура категорий, что увеличит конверсию, т.к. пользователи быстрее найдут нужный товар</td>\n",
       "      <td>8</td>\n",
       "      <td>3</td>\n",
       "      <td>3</td>\n",
       "      <td>8</td>\n",
       "      <td>1.1</td>\n",
       "    </tr>\n",
       "    <tr>\n",
       "      <td>4</td>\n",
       "      <td>Изменить цвет фона главной страницы, чтобы увеличить вовлеченность пользователей</td>\n",
       "      <td>3</td>\n",
       "      <td>1</td>\n",
       "      <td>1</td>\n",
       "      <td>1</td>\n",
       "      <td>1.0</td>\n",
       "    </tr>\n",
       "  </tbody>\n",
       "</table>\n",
       "</div>"
      ],
      "text/plain": [
       "                                                                                                     hypothesis  \\\n",
       "8                                                       Запустить акцию, дающую скидку на товар в день рождения   \n",
       "0            Добавить два новых канала привлечения трафика, что позволит привлекать на 30% больше пользователей   \n",
       "7              Добавить форму подписки на все основные страницы, чтобы собрать базу клиентов для email-рассылок   \n",
       "6          Показать на главной странице баннеры с актуальными акциями и распродажами, чтобы увеличить конверсию   \n",
       "2  Добавить блоки рекомендаций товаров на сайт интернет магазина, чтобы повысить конверсию и средний чек заказа   \n",
       "1                                     Запустить собственную службу доставки, что сократит срок доставки заказов   \n",
       "5                      Добавить страницу отзывов клиентов о магазине, что позволит увеличить количество заказов   \n",
       "3           Изменить структура категорий, что увеличит конверсию, т.к. пользователи быстрее найдут нужный товар   \n",
       "4                              Изменить цвет фона главной страницы, чтобы увеличить вовлеченность пользователей   \n",
       "\n",
       "   reach  impact  confidence  efforts   ice  \n",
       "8      1       9           9        5  16.2  \n",
       "0      3      10           8        6  13.3  \n",
       "7     10       7           8        5  11.2  \n",
       "6      5       3           8        3   8.0  \n",
       "2      8       3           7        3   7.0  \n",
       "1      2       5           4       10   2.0  \n",
       "5      3       2           2        3   1.3  \n",
       "3      8       3           3        8   1.1  \n",
       "4      3       1           1        1   1.0  "
      ]
     },
     "execution_count": 22,
     "metadata": {},
     "output_type": "execute_result"
    }
   ],
   "source": [
    "# Рассчитаем ICE для гипотез, добавим новый столбец ICE,отсортируем по убыванию ICE,\n",
    "# округлим ICE до 1 знака после заяпятой, выведим на экран ICE\n",
    "hypothesis['ice'] = hypothesis['impact'] * hypothesis['confidence']/hypothesis['efforts']\n",
    "hypothesis = hypothesis.sort_values(by='ice', ascending=False)\n",
    "\n",
    "hypothesis['ice']=hypothesis['ice'].round(1)\n",
    "\n",
    "hypothesis"
   ]
  },
  {
   "cell_type": "code",
   "execution_count": 23,
   "metadata": {},
   "outputs": [
    {
     "data": {
      "image/png": "[encoded data removed]",
      "text/plain": [
       "<Figure size 432x288 with 1 Axes>"
      ]
     },
     "metadata": {
      "needs_background": "light"
     },
     "output_type": "display_data"
    }
   ],
   "source": [
    "# Визуализируем полученные данные\n",
    "\n",
    "ax = hypothesis[['hypothesis', 'ice']].set_index('hypothesis').sort_values('ice', ascending=True).plot(edgecolor=\"k\", color=\"b\",kind='barh')\n",
    "ax.set_xlabel('Приоритет')\n",
    "ax.set_ylabel('Гипотеза')\n",
    "ax.set_title('Приоритизация гипотез по фреймворку ICE')\n",
    "plt.show()"
   ]
  },
  {
   "cell_type": "markdown",
   "metadata": {},
   "source": [
    "**Согласно результатам приоритезации гипотез по фреймворку ICE, наиболее перспективной является гипотеза \"Запустить акцию, дающую скидку на товар в день рождения\" (индекс 8),**\n",
    "\n",
    "**на 2 месте - \"Добавить два новых канала привлечения трафика,что позволит привлекать на 30 % больше пользователей\" (индекс 0),**\n",
    "\n",
    "**на 3 месте - \"Добавить форму подписки на все основные страницы, чтобы собрать базу клиентов для e-mail- рассылок\" (индекс 7).**\n",
    "\n",
    "**На 4 и 5 местах гипотезы под индексом 6 и 2 соответственно.**"
   ]
  },
  {
   "cell_type": "markdown",
   "metadata": {},
   "source": [
    "### 3.2. Фреймворк RICE"
   ]
  },
  {
   "cell_type": "code",
   "execution_count": 24,
   "metadata": {},
   "outputs": [
    {
     "data": {
      "text/html": [
       "<div>\n",
       "<style scoped>\n",
       "    .dataframe tbody tr th:only-of-type {\n",
       "        vertical-align: middle;\n",
       "    }\n",
       "\n",
       "    .dataframe tbody tr th {\n",
       "        vertical-align: top;\n",
       "    }\n",
       "\n",
       "    .dataframe thead th {\n",
       "        text-align: right;\n",
       "    }\n",
       "</style>\n",
       "<table border=\"1\" class=\"dataframe\">\n",
       "  <thead>\n",
       "    <tr style=\"text-align: right;\">\n",
       "      <th></th>\n",
       "      <th>hypothesis</th>\n",
       "      <th>reach</th>\n",
       "      <th>impact</th>\n",
       "      <th>confidence</th>\n",
       "      <th>efforts</th>\n",
       "      <th>ice</th>\n",
       "      <th>rice</th>\n",
       "    </tr>\n",
       "  </thead>\n",
       "  <tbody>\n",
       "    <tr>\n",
       "      <td>7</td>\n",
       "      <td>Добавить форму подписки на все основные страницы, чтобы собрать базу клиентов для email-рассылок</td>\n",
       "      <td>10</td>\n",
       "      <td>7</td>\n",
       "      <td>8</td>\n",
       "      <td>5</td>\n",
       "      <td>11.2</td>\n",
       "      <td>112.0</td>\n",
       "    </tr>\n",
       "    <tr>\n",
       "      <td>2</td>\n",
       "      <td>Добавить блоки рекомендаций товаров на сайт интернет магазина, чтобы повысить конверсию и средний чек заказа</td>\n",
       "      <td>8</td>\n",
       "      <td>3</td>\n",
       "      <td>7</td>\n",
       "      <td>3</td>\n",
       "      <td>7.0</td>\n",
       "      <td>56.0</td>\n",
       "    </tr>\n",
       "    <tr>\n",
       "      <td>0</td>\n",
       "      <td>Добавить два новых канала привлечения трафика, что позволит привлекать на 30% больше пользователей</td>\n",
       "      <td>3</td>\n",
       "      <td>10</td>\n",
       "      <td>8</td>\n",
       "      <td>6</td>\n",
       "      <td>13.3</td>\n",
       "      <td>40.0</td>\n",
       "    </tr>\n",
       "    <tr>\n",
       "      <td>6</td>\n",
       "      <td>Показать на главной странице баннеры с актуальными акциями и распродажами, чтобы увеличить конверсию</td>\n",
       "      <td>5</td>\n",
       "      <td>3</td>\n",
       "      <td>8</td>\n",
       "      <td>3</td>\n",
       "      <td>8.0</td>\n",
       "      <td>40.0</td>\n",
       "    </tr>\n",
       "    <tr>\n",
       "      <td>8</td>\n",
       "      <td>Запустить акцию, дающую скидку на товар в день рождения</td>\n",
       "      <td>1</td>\n",
       "      <td>9</td>\n",
       "      <td>9</td>\n",
       "      <td>5</td>\n",
       "      <td>16.2</td>\n",
       "      <td>16.2</td>\n",
       "    </tr>\n",
       "    <tr>\n",
       "      <td>3</td>\n",
       "      <td>Изменить структура категорий, что увеличит конверсию, т.к. пользователи быстрее найдут нужный товар</td>\n",
       "      <td>8</td>\n",
       "      <td>3</td>\n",
       "      <td>3</td>\n",
       "      <td>8</td>\n",
       "      <td>1.1</td>\n",
       "      <td>9.0</td>\n",
       "    </tr>\n",
       "    <tr>\n",
       "      <td>1</td>\n",
       "      <td>Запустить собственную службу доставки, что сократит срок доставки заказов</td>\n",
       "      <td>2</td>\n",
       "      <td>5</td>\n",
       "      <td>4</td>\n",
       "      <td>10</td>\n",
       "      <td>2.0</td>\n",
       "      <td>4.0</td>\n",
       "    </tr>\n",
       "    <tr>\n",
       "      <td>5</td>\n",
       "      <td>Добавить страницу отзывов клиентов о магазине, что позволит увеличить количество заказов</td>\n",
       "      <td>3</td>\n",
       "      <td>2</td>\n",
       "      <td>2</td>\n",
       "      <td>3</td>\n",
       "      <td>1.3</td>\n",
       "      <td>4.0</td>\n",
       "    </tr>\n",
       "    <tr>\n",
       "      <td>4</td>\n",
       "      <td>Изменить цвет фона главной страницы, чтобы увеличить вовлеченность пользователей</td>\n",
       "      <td>3</td>\n",
       "      <td>1</td>\n",
       "      <td>1</td>\n",
       "      <td>1</td>\n",
       "      <td>1.0</td>\n",
       "      <td>3.0</td>\n",
       "    </tr>\n",
       "  </tbody>\n",
       "</table>\n",
       "</div>"
      ],
      "text/plain": [
       "                                                                                                     hypothesis  \\\n",
       "7              Добавить форму подписки на все основные страницы, чтобы собрать базу клиентов для email-рассылок   \n",
       "2  Добавить блоки рекомендаций товаров на сайт интернет магазина, чтобы повысить конверсию и средний чек заказа   \n",
       "0            Добавить два новых канала привлечения трафика, что позволит привлекать на 30% больше пользователей   \n",
       "6          Показать на главной странице баннеры с актуальными акциями и распродажами, чтобы увеличить конверсию   \n",
       "8                                                       Запустить акцию, дающую скидку на товар в день рождения   \n",
       "3           Изменить структура категорий, что увеличит конверсию, т.к. пользователи быстрее найдут нужный товар   \n",
       "1                                     Запустить собственную службу доставки, что сократит срок доставки заказов   \n",
       "5                      Добавить страницу отзывов клиентов о магазине, что позволит увеличить количество заказов   \n",
       "4                              Изменить цвет фона главной страницы, чтобы увеличить вовлеченность пользователей   \n",
       "\n",
       "   reach  impact  confidence  efforts   ice   rice  \n",
       "7     10       7           8        5  11.2  112.0  \n",
       "2      8       3           7        3   7.0   56.0  \n",
       "0      3      10           8        6  13.3   40.0  \n",
       "6      5       3           8        3   8.0   40.0  \n",
       "8      1       9           9        5  16.2   16.2  \n",
       "3      8       3           3        8   1.1    9.0  \n",
       "1      2       5           4       10   2.0    4.0  \n",
       "5      3       2           2        3   1.3    4.0  \n",
       "4      3       1           1        1   1.0    3.0  "
      ]
     },
     "execution_count": 24,
     "metadata": {},
     "output_type": "execute_result"
    }
   ],
   "source": [
    "# Рассчитаем RICE для гипотез, добавим новый столбец RICE,отсортируем по убыванию RICE,\n",
    "# округлим RICE до 1 знака после заяпятой, выведим на экран\n",
    "hypothesis['rice'] = (hypothesis['reach'] * hypothesis['impact'] * hypothesis['confidence'])/hypothesis['efforts']\n",
    "hypothesis = hypothesis.sort_values(by='rice', ascending=False)\n",
    "\n",
    "hypothesis['rice']=hypothesis['rice'].round(1)\n",
    "\n",
    "hypothesis"
   ]
  },
  {
   "cell_type": "code",
   "execution_count": 25,
   "metadata": {},
   "outputs": [
    {
     "data": {
      "image/png": "[encoded data removed]",
      "text/plain": [
       "<Figure size 432x288 with 1 Axes>"
      ]
     },
     "metadata": {
      "needs_background": "light"
     },
     "output_type": "display_data"
    }
   ],
   "source": [
    "# Визуализируем полученные данные\n",
    "\n",
    "ax = hypothesis[['hypothesis', 'rice']].set_index('hypothesis').sort_values('rice', ascending=True).plot(edgecolor=\"k\", color=\"g\",kind='barh')\n",
    "ax.set_xlabel('Приоритет')\n",
    "ax.set_ylabel('Гипотеза')\n",
    "ax.set_title('Приоритизация гипотез по фреймворку RICE')\n",
    "plt.show()"
   ]
  },
  {
   "cell_type": "markdown",
   "metadata": {},
   "source": [
    "**Согласно результатам приоритезации гипотез по фреймворку RICE, наиболее перспективной является гипотеза \"Добавить форму подписки на все основные страницы, чтобы собрать базу клиентов для e-mail- рассылок\" (индекс 7),**\n",
    "\n",
    "**на 2 месте - \"Добавить блоки рекомендаций товаров на сайт интернет- магазина, чтобы повысить конверсию и средний чек заказа\" (индекс 2),**\n",
    "\n",
    "**на 3 месте две гипотезы с одинаковым RICE-\"Добавить два новых канала привлечения трафика,что позволит привлекать на 30 % больше пользователей\" (индекс 0) и \"Показать на главной странице баннеры с актуальными акциями и распродажами, чтобы увеличить конверсию\" (индекс 6).**\n",
    "\n",
    "**На 4 месте гипотеза под индексом 8.**"
   ]
  },
  {
   "cell_type": "markdown",
   "metadata": {},
   "source": [
    "### 3.3. Вывод."
   ]
  },
  {
   "cell_type": "markdown",
   "metadata": {},
   "source": [
    "**Приоритизация гипотез по фреймворку ICE не учитывает степень вовлеченности пользователей, поэтому результаты приоритизации по фреймворку RICE предпочтительнее, так как они учитывают, сколько пользователей затронут изменения, которые внесет гипотеза.**\n",
    "\n",
    "**Пятерка лучших гипотез совпадает в обеих фреймворках, однако места их приоритетности различаются.**\n",
    "\n",
    "**Гипотеза, занявшая по силе (ICE) 1 место, по фреймворку RICE опустилась на 5 строчку (4 место) - \"Запустить акцию, дающую скидку на товар в день рождения\" (индекс 8).**\n",
    "\n",
    "**Гипотеза, занявшая по силе (ICE) 2 место, по фреймворку RICE опустилась на 3  место - \"Добавить два новых канала привлечения трафика, что позволит привлекать на 30 % больше пользователей\" (индекс 0).**\n",
    "\n",
    "**Гипотеза, занявшая по силе (ICE) 3 место, по фреймворку RICE** ***поднялась на 1  место - \"Добавить форму подписки на все основные страницы, чтобы собрать базу клиентов для e-mail- рассылок\" (индекс 7).***\n",
    "\n",
    "**Гипотеза, занявшая по силе (ICE) 4 место, по фреймворку RICE поднялась на 3  место - \"Показать на главной странице баннеры с актуальными акциями и распродажами, чтобы увеличить конверсию\" (индекс 6).**\n",
    "\n",
    "**Наконец, гипотеза, занявшая по силе (ICE) 5 место, по фреймворку RICE** ***поднялась на 2  место - \"Добавить блоки рекомендаций товаров на сайт интернет- магазина, чтобы повысить конверсию и средний чек заказа\" (индекс 2).***\n",
    "\n",
    "\n",
    "***Таким образом, наиболее перспективными являются гипотезы, учитывающие степень вовлеченности пользователей во вносимые изменения (по фреймворку RICE):***\n",
    "\n",
    "- 1 место - \"Добавить форму подписки на все основные страницы, чтобы собрать базу клиентов для e-mail- рассылок\" (индекс 7, RICE=112)\n",
    "- 2 место - \"Добавить блоки рекомендаций товаров на сайт интернет- магазина, чтобы повысить конверсию и средний чек заказа\" (индекс 2, значение RICE в два раза ниже 1 места = 56)"
   ]
  },
  {
   "cell_type": "markdown",
   "metadata": {},
   "source": [
    "## 4. Часть II. Анализ А/В теста"
   ]
  },
  {
   "cell_type": "markdown",
   "metadata": {},
   "source": [
    "### 4.1. График кумулятивной выручки по группам"
   ]
  },
  {
   "cell_type": "code",
   "execution_count": 27,
   "metadata": {},
   "outputs": [
    {
     "data": {
      "text/html": [
       "<div>\n",
       "<style scoped>\n",
       "    .dataframe tbody tr th:only-of-type {\n",
       "        vertical-align: middle;\n",
       "    }\n",
       "\n",
       "    .dataframe tbody tr th {\n",
       "        vertical-align: top;\n",
       "    }\n",
       "\n",
       "    .dataframe thead th {\n",
       "        text-align: right;\n",
       "    }\n",
       "</style>\n",
       "<table border=\"1\" class=\"dataframe\">\n",
       "  <thead>\n",
       "    <tr style=\"text-align: right;\">\n",
       "      <th></th>\n",
       "      <th>date</th>\n",
       "      <th>group</th>\n",
       "      <th>orders</th>\n",
       "      <th>buyers</th>\n",
       "      <th>revenue</th>\n",
       "      <th>visitors</th>\n",
       "    </tr>\n",
       "  </thead>\n",
       "  <tbody>\n",
       "    <tr>\n",
       "      <td>0</td>\n",
       "      <td>2019-08-01</td>\n",
       "      <td>A</td>\n",
       "      <td>23</td>\n",
       "      <td>19</td>\n",
       "      <td>142779</td>\n",
       "      <td>719</td>\n",
       "    </tr>\n",
       "    <tr>\n",
       "      <td>1</td>\n",
       "      <td>2019-08-01</td>\n",
       "      <td>B</td>\n",
       "      <td>17</td>\n",
       "      <td>17</td>\n",
       "      <td>59758</td>\n",
       "      <td>713</td>\n",
       "    </tr>\n",
       "    <tr>\n",
       "      <td>2</td>\n",
       "      <td>2019-08-02</td>\n",
       "      <td>A</td>\n",
       "      <td>42</td>\n",
       "      <td>36</td>\n",
       "      <td>234381</td>\n",
       "      <td>1338</td>\n",
       "    </tr>\n",
       "    <tr>\n",
       "      <td>3</td>\n",
       "      <td>2019-08-02</td>\n",
       "      <td>B</td>\n",
       "      <td>40</td>\n",
       "      <td>39</td>\n",
       "      <td>221801</td>\n",
       "      <td>1294</td>\n",
       "    </tr>\n",
       "    <tr>\n",
       "      <td>4</td>\n",
       "      <td>2019-08-03</td>\n",
       "      <td>A</td>\n",
       "      <td>66</td>\n",
       "      <td>60</td>\n",
       "      <td>346854</td>\n",
       "      <td>1845</td>\n",
       "    </tr>\n",
       "  </tbody>\n",
       "</table>\n",
       "</div>"
      ],
      "text/plain": [
       "        date group  orders  buyers  revenue  visitors\n",
       "0 2019-08-01     A      23      19   142779       719\n",
       "1 2019-08-01     B      17      17    59758       713\n",
       "2 2019-08-02     A      42      36   234381      1338\n",
       "3 2019-08-02     B      40      39   221801      1294\n",
       "4 2019-08-03     A      66      60   346854      1845"
      ]
     },
     "execution_count": 27,
     "metadata": {},
     "output_type": "execute_result"
    }
   ],
   "source": [
    "# Подготовим данные, создим массив уникальных пар значений дат и групп теста\n",
    "datesGroups = orders[['date','group']].drop_duplicates().sort_values(by=['date', 'group'])\n",
    "\n",
    "# Получим агрегированные кумулятивные по дням данные о заказах\n",
    "ordersAggregated = datesGroups.apply(\n",
    "lambda x: orders[np.logical_and(orders['date'] <= x['date'], orders['group'] == x['group'])].agg({\n",
    "    'date' : 'max',\n",
    "    'group' : 'max',\n",
    "    'transactionid' : pd.Series.nunique,\n",
    "    'visitorid' : pd.Series.nunique,\n",
    "    'revenue' : 'sum'}), axis=1)\n",
    "\n",
    "# Получим агрегированные кумулятивные по дням данные о посетителях интернет-магазина \n",
    "visitorsAggregated = datesGroups.apply(\n",
    "lambda x: visits[np.logical_and(visits['date'] <= x['date'], visits['group'] == x['group'])].agg({\n",
    "    'date' : 'max', \n",
    "    'group' : 'max', \n",
    "    'visitors' : 'sum'}), axis=1)\n",
    "\n",
    "# Объединяем кумулятивные данные в одной таблице и присваиваем ее столбцам понятные названия\n",
    "cumulativeData = ordersAggregated.merge(visitorsAggregated, left_on=['date', 'group'], right_on=['date', 'group'])\n",
    "cumulativeData.columns = ['date', 'group', 'orders', 'buyers', 'revenue', 'visitors']\n",
    "cumulativeData.head(5) "
   ]
  },
  {
   "cell_type": "code",
   "execution_count": 28,
   "metadata": {},
   "outputs": [
    {
     "data": {
      "image/png": "[encoded data removed]",
      "text/plain": [
       "<Figure size 1080x504 with 1 Axes>"
      ]
     },
     "metadata": {
      "needs_background": "light"
     },
     "output_type": "display_data"
    }
   ],
   "source": [
    "# Датафрейм по группе А\n",
    "cumulativeRevenueA = cumulativeData[cumulativeData['group']=='A'][['date','revenue', 'orders', 'visitors']]\n",
    "\n",
    "# Датафрейм по группе B\n",
    "cumulativeRevenueB = cumulativeData[cumulativeData['group']=='B'][['date','revenue', 'orders', 'visitors']]\n",
    "\n",
    "# Построим график выручки по группам\n",
    "plt.figure(figsize=(15,7))\n",
    "plt.plot(cumulativeRevenueA['date'], cumulativeRevenueA['revenue'], color='b', label = 'A')\n",
    "plt.plot(cumulativeRevenueB['date'], cumulativeRevenueB['revenue'], color='r', label = 'B')\n",
    "plt.ylabel('Выручка')\n",
    "plt.xlabel('Дата')\n",
    "plt.title('Графики кумулятивной выручки по группам A/B')\n",
    "plt.legend()\n",
    "plt.grid()\n",
    "plt.show()"
   ]
  },
  {
   "cell_type": "markdown",
   "metadata": {},
   "source": [
    "**Выручка почти равномерно увеличивается в течение всего теста. Однако графики кумулятивной выручки обеих групп в некоторых точках заметно возрастают, а именно: группа А - 11.08.2019 (от 100000 до 200000), группа В - 18.08.2019 (от 220000 до 370000). Это может сигнализировать о всплесках числа заказов, либо о появлении очень дорогих заказов в выборке. В целом, выручка группы В выше выручки группы А.**\n"
   ]
  },
  {
   "cell_type": "markdown",
   "metadata": {},
   "source": [
    "### 4.2. График кумулятивного среднего чека по группам"
   ]
  },
  {
   "cell_type": "code",
   "execution_count": 29,
   "metadata": {},
   "outputs": [
    {
     "data": {
      "image/png": "[encoded data removed]",
      "text/plain": [
       "<Figure size 1080x504 with 1 Axes>"
      ]
     },
     "metadata": {
      "needs_background": "light"
     },
     "output_type": "display_data"
    }
   ],
   "source": [
    "# Построим график среднего чека по группам\n",
    "plt.figure(figsize=(15,7))\n",
    "plt.plot(cumulativeRevenueA['date'], cumulativeRevenueA['revenue']/cumulativeRevenueA['orders'], color='b', label = 'A')\n",
    "plt.plot(cumulativeRevenueB['date'], cumulativeRevenueB['revenue']/cumulativeRevenueB['orders'], color='r', label = 'B')\n",
    "plt.title('График кумулятивного среднего чека по группам A/B')\n",
    "plt.ylabel('Средний чек')\n",
    "plt.xlabel('Дата')\n",
    "plt.legend()\n",
    "plt.grid()\n",
    "plt.show()"
   ]
  },
  {
   "cell_type": "markdown",
   "metadata": {},
   "source": [
    "**Средний чек становится равномерным примерно в середине теста для группы A; для группы B наблюдается 18-19.08.2019 резкий всплеск на графике, а затем снижение и выравнивание ближе к концу теста. Возможно, в группу B попали крупные заказы, ведь далее средний чек в группе В падает.**"
   ]
  },
  {
   "cell_type": "markdown",
   "metadata": {},
   "source": [
    "### 4.3. График относительного изменения кумулятивного среднего чека группы B к группе A"
   ]
  },
  {
   "cell_type": "code",
   "execution_count": 30,
   "metadata": {},
   "outputs": [
    {
     "data": {
      "image/png": "[encoded data removed]",
      "text/plain": [
       "<Figure size 1080x504 with 1 Axes>"
      ]
     },
     "metadata": {
      "needs_background": "light"
     },
     "output_type": "display_data"
    }
   ],
   "source": [
    "# Соберем данные в одном датафрейме\n",
    "mergedCumulativeRevenue = cumulativeRevenueA.merge(cumulativeRevenueB, left_on='date', right_on='date', how='left', suffixes=['A', 'B'])\n",
    "\n",
    "# Поcтроим отношение средних чеков\n",
    "plt.figure(figsize=(15,7))\n",
    "plt.plot(mergedCumulativeRevenue['date'], ((mergedCumulativeRevenue['revenueB']/mergedCumulativeRevenue['ordersB'])/\n",
    "                                       (mergedCumulativeRevenue['revenueA']/mergedCumulativeRevenue['ordersA'])-1), color='g')\n",
    "plt.axhline(y=0, color='red', linestyle = '--')\n",
    "plt.title('График относительного изменения кумулятивного среднего чека группы B к группе A')\n",
    "plt.xlabel('Дата')\n",
    "plt.grid()\n",
    "plt.show()"
   ]
  },
  {
   "cell_type": "markdown",
   "metadata": {},
   "source": [
    "**На графике хорошо видны резкие колебания, это однозначно указывает на аномалии. Необходимо проверить данные на крупные заказы и выбросы.**"
   ]
  },
  {
   "cell_type": "markdown",
   "metadata": {},
   "source": [
    "### 4.4. График кумулятивной конверсии по группам"
   ]
  },
  {
   "cell_type": "code",
   "execution_count": 31,
   "metadata": {},
   "outputs": [
    {
     "data": {
      "image/png": "[encoded data removed]",
      "text/plain": [
       "<Figure size 1080x504 with 1 Axes>"
      ]
     },
     "metadata": {
      "needs_background": "light"
     },
     "output_type": "display_data"
    }
   ],
   "source": [
    "# Посчитаем кумулятивную конверсию\n",
    "cumulativeData['conversion'] = cumulativeData['orders']/cumulativeData['visitors']\n",
    "\n",
    "# Отделим данные по группе A\n",
    "cumulativeDataA = cumulativeData[cumulativeData['group']=='A']\n",
    "\n",
    "# Отделим данные по группе B\n",
    "cumulativeDataB = cumulativeData[cumulativeData['group']=='B']\n",
    "\n",
    "# Построим график\n",
    "plt.figure(figsize=(15,7))\n",
    "plt.plot(cumulativeDataA['date'], cumulativeDataA['conversion'], label='A', color='b')\n",
    "plt.plot(cumulativeDataB['date'], cumulativeDataB['conversion'], label='B', color='r')\n",
    "plt.title('График кумулятивной конверсии по группам A/B')\n",
    "plt.xlabel('Дата')\n",
    "plt.ylabel('Конверсия')\n",
    "plt.grid()\n",
    "plt.legend()\n",
    "plt.show()"
   ]
  },
  {
   "cell_type": "markdown",
   "metadata": {},
   "source": [
    "**График довольно симметричный. До 06-07.08.2019 наблюдаются резкие колебания конверсии в обеих группах, в эти дни конверсия группы В резко растет, а группы А - падает. Примерно 18.08.2019 конверсии выравниваются, при этом конверсия группы В выше конверсии группы А. В конце месяца заметно снижение конверсии в обеих группах.**"
   ]
  },
  {
   "cell_type": "markdown",
   "metadata": {},
   "source": [
    "### 4.5. График относительного изменения кумулятивной конверсии группы B к группе A"
   ]
  },
  {
   "cell_type": "code",
   "execution_count": 32,
   "metadata": {},
   "outputs": [
    {
     "data": {
      "image/png": "[encoded data removed]",
      "text/plain": [
       "<Figure size 1080x504 with 1 Axes>"
      ]
     },
     "metadata": {
      "needs_background": "light"
     },
     "output_type": "display_data"
    }
   ],
   "source": [
    "# Соберем данные в одном датафрейме\n",
    "mergedCumulativeConversions = cumulativeDataA[['date','conversion']].merge(cumulativeDataB[['date','conversion']], left_on='date', right_on='date', how='left', suffixes=['A', 'B'])\n",
    "\n",
    "# Построим график\n",
    "plt.figure(figsize=(15,7))\n",
    "plt.plot(mergedCumulativeConversions['date'], mergedCumulativeConversions['conversionB']/mergedCumulativeConversions['conversionA']-1, label=\"Относительный прирост конверсии группы B относительно группы A\", color='g')\n",
    "plt.title('График относительного изменения кумулятивной конверсии группы B к группе A')\n",
    "plt.axhline(y=0, color='red', linestyle='--')\n",
    "plt.axhline(y=0.1, color='grey', linestyle='--')\n",
    "plt.xlabel('Дата')\n",
    "plt.grid()\n",
    "line = (mergedCumulativeConversions.query('date > \"2019-08-17\"')['conversionB']/\n",
    "    mergedCumulativeConversions.query('date > \"2019-08-17\"')['conversionA']-1).mean()\n",
    "plt.axhline(y = line, color='orange', linestyle='--')\n",
    "plt.show()"
   ]
  },
  {
   "cell_type": "markdown",
   "metadata": {},
   "source": [
    "**В начале теста конверсия группы В значительно уступала конверсии группы А. 06-07.08.2019 начинается ее резкий рост далее она превышает конверсию группы А. Однако отношение конверсии В к конверсии А нельзя назвать установившемся, видны резкие колебания. Нужно проанализировать аномалии, возможно, они изменят картину.**"
   ]
  },
  {
   "cell_type": "code",
   "execution_count": 59,
   "metadata": {},
   "outputs": [
    {
     "data": {
      "image/png": "[encoded data removed]",
      "text/plain": [
       "<Figure size 1080x504 with 1 Axes>"
      ]
     },
     "metadata": {
      "needs_background": "light"
     },
     "output_type": "display_data"
    }
   ],
   "source": [
    "# Построим график\n",
    "plt.figure(figsize=(15,7))\n",
    "plt.plot(mergedCumulativeConversions['date'], mergedCumulativeConversions['conversionB']/mergedCumulativeConversions['conversionA']-1, label=\"Относительный прирост конверсии группы B относительно группы A\", color='g')\n",
    "plt.title('График относительного изменения кумулятивной конверсии группы B к группе A')\n",
    "plt.axhline(y=0, color='red', linestyle='--')\n",
    "plt.axhline(y=0.1, color='grey', linestyle='--')\n",
    "plt.xlabel('Дата')\n",
    "plt.grid()\n",
    "line = (mergedCumulativeConversions.query('date > \"2019-08-17\"')['conversionB']/\n",
    "    mergedCumulativeConversions.query('date > \"2019-08-17\"')['conversionA']-1).mean()\n",
    "plt.axhline(y = line, color='orange', linestyle='--', label = 'Пример подписи для линии')\n",
    "plt.text(\"2019-08-01\", (line + line/15), (\"прирост конверсии группы B = \" + str(round(line, 2))))\n",
    "plt.legend()\n",
    "plt.show()"
   ]
  },
  {
   "cell_type": "markdown",
   "metadata": {},
   "source": [
    "### 4.6. Точечный график количества заказов по пользователям"
   ]
  },
  {
   "cell_type": "code",
   "execution_count": 33,
   "metadata": {},
   "outputs": [
    {
     "data": {
      "image/png": "[encoded data removed]",
      "text/plain": [
       "<Figure size 720x360 with 1 Axes>"
      ]
     },
     "metadata": {
      "needs_background": "light"
     },
     "output_type": "display_data"
    }
   ],
   "source": [
    "# Сгруппируем данные по пользователям, посчитаем число заказов каждого\n",
    "ordersByUsers = orders.groupby('visitorid', as_index = False).agg({'transactionid':'nunique'}).sort_values(by='transactionid', ascending = False)\n",
    "ordersByUsers.columns = ['visitorid', 'orders']\n",
    "\n",
    "# Построим точечную диаграмму распределения количества заказов пользователей\n",
    "x_values = pd.Series(range(0, len(ordersByUsers)))\n",
    "plt.figure(figsize=(10,5))\n",
    "plt.scatter(x_values, ordersByUsers['orders'])\n",
    "plt.title('Распределение количества заказов на одного пользователя')\n",
    "plt.show()"
   ]
  },
  {
   "cell_type": "markdown",
   "metadata": {},
   "source": [
    "**Абсолютное большинство пользователей сделали только один заказ. Единичные выбросы - 2 и 3 заказа.**"
   ]
  },
  {
   "cell_type": "markdown",
   "metadata": {},
   "source": [
    "### 4.7. 95-й и 99-й перцентили количества заказов на пользователя"
   ]
  },
  {
   "cell_type": "code",
   "execution_count": 34,
   "metadata": {},
   "outputs": [
    {
     "name": "stdout",
     "output_type": "stream",
     "text": [
      "Перцентили:\n",
      "95: 1.0\n",
      "99: 2.0\n"
     ]
    }
   ],
   "source": [
    "# Посчитаем 95-й и 99-й перцентили числа заказов на пользователя\n",
    "percentiles = np.percentile(ordersByUsers['orders'], [95, 99])\n",
    "print('Перцентили:\\n95: {}\\n99: {}'.format(percentiles[0],percentiles[1]))"
   ]
  },
  {
   "cell_type": "markdown",
   "metadata": {},
   "source": [
    "**Не более 5 % пользователей сделали больше 1 заказа, не более 1 % пользователей сделали больше 2 заказов.**\n",
    "\n",
    "**Определим границу нормального количества заказов на пользователя - 1 заказ. Более 1 заказа - аномальные выбросы.**"
   ]
  },
  {
   "cell_type": "markdown",
   "metadata": {},
   "source": [
    "### 4.8. Точечный график стоимостей заказов"
   ]
  },
  {
   "cell_type": "code",
   "execution_count": 35,
   "metadata": {},
   "outputs": [
    {
     "data": {
      "text/plain": [
       "1294500"
      ]
     },
     "execution_count": 35,
     "metadata": {},
     "output_type": "execute_result"
    }
   ],
   "source": [
    "# Посмотрим на максимальный заказ\n",
    "orders['revenue'].max()"
   ]
  },
  {
   "cell_type": "code",
   "execution_count": 36,
   "metadata": {},
   "outputs": [
    {
     "data": {
      "text/plain": [
       "50"
      ]
     },
     "execution_count": 36,
     "metadata": {},
     "output_type": "execute_result"
    }
   ],
   "source": [
    "# Посмотрим на минимальный заказ\n",
    "orders['revenue'].min()"
   ]
  },
  {
   "cell_type": "code",
   "execution_count": 37,
   "metadata": {},
   "outputs": [
    {
     "data": {
      "text/plain": [
       "<Figure size 1080x504 with 0 Axes>"
      ]
     },
     "metadata": {},
     "output_type": "display_data"
    },
    {
     "data": {
      "image/png": "[encoded data removed]",
      "text/plain": [
       "<Figure size 720x360 with 1 Axes>"
      ]
     },
     "metadata": {
      "needs_background": "light"
     },
     "output_type": "display_data"
    }
   ],
   "source": [
    "# Построим точечную диаграмму распределения стоимости заказов от минимальной до максимальной суммы\n",
    "plt.figure(figsize=(15,7))\n",
    "x_values = pd.Series(range(0, len(orders)))\n",
    "plt.figure(figsize=(10,5))\n",
    "plt.scatter(x_values, orders['revenue'])\n",
    "plt.title('Распределение стоимости заказов')\n",
    "plt.axis([0, 1100, 50, 1400000])\n",
    "plt.axhline(y=30000, color='red', linestyle='--')\n",
    "plt.axhline(y=60000, color='black', linestyle='--')\n",
    "plt.show()"
   ]
  },
  {
   "cell_type": "markdown",
   "metadata": {},
   "source": [
    "**Имеется один заказ около 200 000 руб., и один аномально дорогой - 1 294 500 руб. Это явные выбросы. Построим еще один график, укажем меньшие границы стоимости заказов (до 150 000 руб.,так мы исключим только два аномальных заказа).**"
   ]
  },
  {
   "cell_type": "code",
   "execution_count": 38,
   "metadata": {},
   "outputs": [
    {
     "data": {
      "text/plain": [
       "<Figure size 1368x504 with 0 Axes>"
      ]
     },
     "metadata": {},
     "output_type": "display_data"
    },
    {
     "data": {
      "image/png": "[encoded data removed]",
      "text/plain": [
       "<Figure size 720x360 with 1 Axes>"
      ]
     },
     "metadata": {
      "needs_background": "light"
     },
     "output_type": "display_data"
    }
   ],
   "source": [
    "# Построим точечную диаграмму распределения стоимости заказов \n",
    "plt.figure(figsize=(19,7))\n",
    "x_values = pd.Series(range(0, len(orders)))\n",
    "plt.figure(figsize=(10,5))\n",
    "plt.scatter(x_values, orders['revenue'])\n",
    "plt.title('Распределение стоимости заказов')\n",
    "plt.axis([0, 1100, 50, 150000])\n",
    "plt.axhline(y=(np.percentile(orders['revenue'], [95])), color='red', linestyle='--', label='95-й % стоимости заказа')\n",
    "plt.axhline(y=(np.percentile(orders['revenue'], [99])), color='black', linestyle='--', label='99-й % стоимости заказа')\n",
    "plt.legend()\n",
    "\n",
    "plt.show()"
   ]
  },
  {
   "cell_type": "markdown",
   "metadata": {},
   "source": [
    "**Абсолютное большинство заказов не дороже 30 000. Имеется заметное число заказов до 60 000. Единичные выбросы - заказы стоимостью до 100 000, а также два аномально догорих заказа - около 200 000 и около 1 300 000 рублей.**"
   ]
  },
  {
   "cell_type": "markdown",
   "metadata": {},
   "source": [
    "### 4.9. 95-й и 99-й перцентили стоимости заказов"
   ]
  },
  {
   "cell_type": "code",
   "execution_count": 39,
   "metadata": {},
   "outputs": [
    {
     "name": "stdout",
     "output_type": "stream",
     "text": [
      "Перцентили:\n",
      "95: 26785\n",
      "99: 53904\n"
     ]
    }
   ],
   "source": [
    "# Посчитаем 95-й и 99-й перцентили стоимости заказов на пользователя\n",
    "percentiles = np.percentile(orders['revenue'], [95, 99])\n",
    "print('Перцентили:\\n95: {:.0f}\\n99: {:.0f}'.format(percentiles[0],percentiles[1]))"
   ]
  },
  {
   "cell_type": "markdown",
   "metadata": {},
   "source": [
    "**Не более 5 % заказов дороже 26 785. Не более 1 % заказов дороже 53 907.**\n",
    "\n",
    "**Определим границу нормальной стоимости заказов - не дороже 30 000. Заказы дороже 30 000 - аномальные выбросы.**"
   ]
  },
  {
   "cell_type": "markdown",
   "metadata": {},
   "source": [
    "### 4.10. Статистическая значимость различий в конверсии между группами по «сырым» данным"
   ]
  },
  {
   "cell_type": "markdown",
   "metadata": {},
   "source": [
    "**В нашем распоряжении имеются две независимые выборки двух генеральных совокупностей (данные за август 2019 года посетителей и покупателей интернет- магазина (включая данные о числе и стоимости заказов), по группам А и В). Выборки репрезентативны, количество наблюдений достаточное для применения ЦПТ (центральная предельная теорема).**"
   ]
  },
  {
   "cell_type": "markdown",
   "metadata": {},
   "source": [
    "**Учитывая, что при анализе графиков мы обнаружили сильные выбросы, во всех статистических исследованиях будем применять непараметрический тест - U -критерий Манна-Уитни.**"
   ]
  },
  {
   "cell_type": "markdown",
   "metadata": {},
   "source": [
    "**Сформулируем гипотезы и проведем тестирование.**\n",
    "- **Нулевая гипотеза**  \n",
    "\n",
    "$H_{0}$ - **Конверсии посетителей в покупатели по группам А и В равны.**\n",
    "\n",
    "- **Альтернативная гипотеза**  \n",
    "\n",
    "$H_{1}$  - **Конверсии посетителей в покупатели по группам А и В не равны.**\n",
    "\n",
    "\n",
    "α = 0,01 - критический уровень статистической значимости"
   ]
  },
  {
   "cell_type": "code",
   "execution_count": 80,
   "metadata": {},
   "outputs": [
    {
     "name": "stdout",
     "output_type": "stream",
     "text": [
      "Количество покупателей в группе A: 445\n",
      "Количество заказов в группе А: 468\n",
      "Количество посетителей в группе A: 18736\n",
      "\n",
      "Количество покупателей в группе B: 528\n",
      "Количество заказов в группе B: 548\n",
      "Количество посетителей в группе B: 18916\n",
      "\n",
      "Относительный прирост конверсии группы B по отношению к группе A: 0.160\n",
      "P-value: 0.011018084110014691\n",
      "Отвергаем нулевую гипотезу: разница в конверсии групп A и B, по \"сырым\" данным, статистически ЗНАЧИМА\n"
     ]
    }
   ],
   "source": [
    "# Сгруппируем данные по пользователям для каждой группы, посчитаем число заказов\n",
    "ordersByUsersA = orders[orders['group']=='A'].groupby('visitorid', as_index=False).agg({'transactionid':'nunique'})\n",
    "ordersByUsersA.columns = ['visitorid', 'orders']\n",
    "ordersByUsersB = orders[orders['group']=='B'].groupby('visitorid', as_index=False).agg({'transactionid':'nunique'})\n",
    "ordersByUsersB.columns = ['visitorid', 'orders']\n",
    "\n",
    "# Выведем на экран число посетителей, покупателей и заказов для каждой группы\n",
    "print('Количество покупателей в группе A: {}'.format(len(ordersByUsersA)))\n",
    "print('Количество заказов в группе А: {}'.format(ordersByUsersA['orders'].sum()))\n",
    "print('Количество посетителей в группе A: {}\\n'.format(visits[visits['group']=='A']['visitors'].sum()))\n",
    "print('Количество покупателей в группе B: {}'.format(len(ordersByUsersB)))\n",
    "print('Количество заказов в группе B: {}'.format(ordersByUsersB['orders'].sum()))\n",
    "print('Количество посетителей в группе B: {}'.format(visits[visits['group']=='B']['visitors'].sum()))\n",
    "\n",
    "# Составим списки количества заказов sampleA и sampleB со всеми пользователями (в том числе и не сделавшими заказ) по группам \n",
    "\n",
    "list_orders_1 =[]\n",
    "for i in range(0,(visits[visits['group']=='A']['visitors'].sum()-len(ordersByUsersA['orders']))):\n",
    "    list_orders_1.append(0)\n",
    "orders_by_non_purchased_users_A = pd.Series(data = list_orders_1, name = 'orders')\n",
    "\n",
    "list_orders_2 =[]\n",
    "for i in range(0,(visits[visits['group']=='B']['visitors'].sum()-len(ordersByUsersB['orders']))):\n",
    "    list_orders_2.append(0)\n",
    "orders_by_non_purchased_users_B = pd.Series(data = list_orders_2, name = 'orders')\n",
    "\n",
    "sampleA = pd.concat([ordersByUsersA['orders'], orders_by_non_purchased_users_A], axis=0)\n",
    "sampleB = pd.concat([ordersByUsersB['orders'], orders_by_non_purchased_users_B], axis=0)\n",
    "\n",
    "# Выведем на экран относительный прирост конверсии группы В\n",
    "print('\\nОтносительный прирост конверсии группы B по отношению к группе A: {:.3f}'.format(sampleB.mean()/sampleA.mean()-1))\n",
    "\n",
    "# Посчитаем статистическую значимость различий в конверсии между группами по «сырым» данным\n",
    "\n",
    "alpha = 0.05 # критический уровень статистической значимости\n",
    "\n",
    "results = stats.mannwhitneyu(sampleA, sampleB, alternative=\"two-sided\")\n",
    "print('P-value: {}'.format(results.pvalue))\n",
    "if results.pvalue < alpha:\n",
    "    print('Отвергаем нулевую гипотезу: разница в конверсии групп A и B, по \"сырым\" данным, статистически ЗНАЧИМА')\n",
    "else:\n",
    "    print('Не получилось отвергнуть нулевую гипотезу: разница в конверсии групп A и B, по \"сырым\" данным, статистически НЕзначима')"
   ]
  },
  {
   "cell_type": "markdown",
   "metadata": {},
   "source": [
    "**По \"сырым\" данным конверсия группы В превышает конверсию группы А на 16 %. В конверсии по группам имеются статистически значимые отличия. Предварительно группа В активнее группы А, необходимо проверить результат после очистки данных от выбросов.**"
   ]
  },
  {
   "cell_type": "markdown",
   "metadata": {},
   "source": [
    "### 4.11. Статистическая значимость различий в среднем чеке заказа между группами по «сырым» данным"
   ]
  },
  {
   "cell_type": "markdown",
   "metadata": {},
   "source": [
    "**Сформулируем гипотезы и проведем тестирование.**\n",
    "- **Нулевая гипотеза**  \n",
    "\n",
    "$H_{0}$ - **Среднии чеки заказов по группам А и В равны.**\n",
    "\n",
    "- **Альтернативная гипотеза**  \n",
    "\n",
    "$H_{1}$  - **Среднии чеки заказов по группам А и В отличаются.**\n",
    "\n",
    "α = 0,01 - критический уровень статистической значимости"
   ]
  },
  {
   "cell_type": "code",
   "execution_count": 41,
   "metadata": {},
   "outputs": [
    {
     "name": "stdout",
     "output_type": "stream",
     "text": [
      "Относительное изменение среднего чека группы B в сравнении с группой A: 0.287\n",
      "P-value: 0.8294908998149533\n",
      "Не получилось отвергнуть нулевую гипотезу: разница в средних чеках групп A и B, по \"сырым\" данным, статистически НЕзначима\n"
     ]
    }
   ],
   "source": [
    "# Выведем на экран относительное изменение среднего чека группы В по сравнению с группой А\n",
    "print('Относительное изменение среднего чека группы B в сравнении с группой A: {:.3f}'.format(\n",
    "orders[orders['group']=='B']['revenue'].mean()/orders[orders['group']=='A']['revenue'].mean()-1))\n",
    "\n",
    "# Посчитаем статистическую значимость различий в среднем чеке между группами по «сырым» данным\n",
    "\n",
    "alpha = 0.05 # критический уровень статистической значимости\n",
    "\n",
    "results = stats.mannwhitneyu(orders[orders['group']=='A']['revenue'], orders[orders['group']=='B']['revenue'], alternative=\"two-sided\")\n",
    "print('P-value: {}'.format(results.pvalue))\n",
    "if results.pvalue < alpha:\n",
    "    print('Отвергаем нулевую гипотезу: разница в средних чеках групп A и B, по \"сырым\" данным, статистически ЗНАЧИМА')\n",
    "else:\n",
    "    print('Не получилось отвергнуть нулевую гипотезу: разница в средних чеках групп A и B, по \"сырым\" данным, статистически НЕзначима')"
   ]
  },
  {
   "cell_type": "markdown",
   "metadata": {},
   "source": [
    "**По \"сырым\" данным средний чек группы В превышает средний чек группы А на 28,7 %. Однако нет оснований считать, что разница между средними чеками групп А и В заметна, статистически она незначима. Необходимо проверить результат после очистки данных от выбросов.**"
   ]
  },
  {
   "cell_type": "markdown",
   "metadata": {},
   "source": [
    "### 4.12. Статистическая значимость различий в конверсии между группами по «очищенным» данным"
   ]
  },
  {
   "cell_type": "code",
   "execution_count": 42,
   "metadata": {},
   "outputs": [],
   "source": [
    "# Сохраним в переменных нормальное количество заказов и стоимость заказа для формирования списка аномальных пользователей\n",
    "norm_orders = 1\n",
    "norm_revenue = 30000"
   ]
  },
  {
   "cell_type": "code",
   "execution_count": 43,
   "metadata": {},
   "outputs": [
    {
     "name": "stdout",
     "output_type": "stream",
     "text": [
      "Количество пользователей с аномальными заказами: 77\n"
     ]
    }
   ],
   "source": [
    "# Сохраним в датафрейме список аномальных пользователей\n",
    "usersWithManyOrders = pd.concat([ordersByUsersA[ordersByUsersA['orders']>norm_orders]['visitorid'], \n",
    "                                ordersByUsersB[ordersByUsersB['orders']>norm_orders]['visitorid']], axis = 0)\n",
    "\n",
    "usersWithExpensiveOrders = orders[orders['revenue']>norm_revenue]['visitorid']\n",
    "\n",
    "abnormalUsers = pd.concat([usersWithManyOrders, usersWithExpensiveOrders], axis = 0).drop_duplicates().sort_values()\n",
    "\n",
    "print('Количество пользователей с аномальными заказами: {}'.format(len(abnormalUsers)))"
   ]
  },
  {
   "cell_type": "markdown",
   "metadata": {},
   "source": [
    "**Повторим тест на очищенных данных. Сформулируем гипотезы и проведем тестирование.**\n",
    "- **Нулевая гипотеза**  \n",
    "\n",
    "$H_{0}$ - **Конверсии посетителей в покупатели по группам А и В равны.**\n",
    "\n",
    "- **Альтернативная гипотеза**  \n",
    "\n",
    "$H_{1}$  - **Конверсии посетителей в покупатели по группам А и В не равны.**\n",
    "\n",
    "α = 0,01 - критический уровень статистической значимости"
   ]
  },
  {
   "cell_type": "code",
   "execution_count": 44,
   "metadata": {},
   "outputs": [
    {
     "name": "stdout",
     "output_type": "stream",
     "text": [
      "\n",
      "Относительный прирост конверсии группы B по отношению к группе A после очистки данных: 0.180\n",
      "P-value: 0.01254885185221434\n",
      "Отвергаем нулевую гипотезу: разница в конверсии групп A и B, по очищенным данным, статистически ЗНАЧИМА\n"
     ]
    }
   ],
   "source": [
    "# Составим списки количества заказов sampleA и sampleB без аномальных пользователей\n",
    "\n",
    "sampleAFiltered = pd.concat([\n",
    "    ordersByUsersA[np.logical_not(ordersByUsersA['visitorid'].isin(abnormalUsers))]['orders'],\n",
    "    orders_by_non_purchased_users_A\n",
    "], axis = 0)\n",
    "\n",
    "sampleBFiltered = pd.concat([\n",
    "    ordersByUsersB[np.logical_not(ordersByUsersB['visitorid'].isin(abnormalUsers))]['orders'],\n",
    "    orders_by_non_purchased_users_B\n",
    "], axis = 0)\n",
    "\n",
    "# Выведем на экран относительный прирост конверсии группы В после очистки данных\n",
    "print('\\nОтносительный прирост конверсии группы B по отношению к группе A после очистки данных: {:.3f}'.format(sampleBFiltered.mean()/sampleAFiltered.mean()-1))\n",
    "\n",
    "# Посчитаем статистическую значимость различий в конверсии между группами по очищенным данным\n",
    "\n",
    "alpha = 0.05 # критический уровень статистической значимости\n",
    "\n",
    "results = stats.mannwhitneyu(sampleAFiltered, sampleBFiltered, alternative=\"two-sided\")\n",
    "print('P-value: {}'.format(results.pvalue))\n",
    "if results.pvalue < alpha:\n",
    "     print('Отвергаем нулевую гипотезу: разница в конверсии групп A и B, по очищенным данным, статистически ЗНАЧИМА')\n",
    "else:\n",
    "    print('Не получилось отвергнуть нуевую гипотезу: разница в конверсии групп A и B, по очищенным данным, статистически НЕзначима')"
   ]
  },
  {
   "cell_type": "markdown",
   "metadata": {},
   "source": [
    "**По очищенным данным конверсия группы В превышает конверсию группы А на 18 %. В конверсии по группам имеются статистически значимые отличия. Эти данные подтвердили, что группа В активнее группы А.**"
   ]
  },
  {
   "cell_type": "markdown",
   "metadata": {},
   "source": [
    "### 4.13. Статистическая значимость различий в среднем чеке заказа между группами по «очищенным» данным"
   ]
  },
  {
   "cell_type": "markdown",
   "metadata": {},
   "source": [
    "**Повторим тест на очищенных данных. Сформулируем гипотезы и проведем тестирование.**\n",
    "- **Нулевая гипотеза**  \n",
    "\n",
    "$H_{0}$ - **Среднии чеки заказов по группам А и В равны.**\n",
    "\n",
    "- **Альтернативная гипотеза**  \n",
    "\n",
    "$H_{1}$  - **Среднии чеки заказов по группам А и В не равны.**\n",
    "\n",
    "α = 0,01 - критический уровень статистической значимости"
   ]
  },
  {
   "cell_type": "code",
   "execution_count": 45,
   "metadata": {},
   "outputs": [
    {
     "name": "stdout",
     "output_type": "stream",
     "text": [
      "Относительное изменение среднего чека группы B в сравнении с группой A после очистки данных: -0.011\n",
      "P-value: 0.8289783257478778\n",
      "Не получилось отвергнуть нулевую гипотезу: разница в средних чеках групп A и B, по очищенным данным, статистически НЕзначима\n"
     ]
    }
   ],
   "source": [
    "# Выведем на экран относительное изменение среднего чека группы В по сравнению с группой А\n",
    "print('Относительное изменение среднего чека группы B в сравнении с группой A после очистки данных: {:.3f}'.format(\n",
    "orders[np.logical_and(orders['group']=='B', np.logical_not(orders['visitorid'].isin(abnormalUsers)))]['revenue'].mean()\\\n",
    "/orders[np.logical_and(orders['group']=='A', np.logical_not(orders['visitorid'].isin(abnormalUsers)))]['revenue'].mean()-1))\n",
    "       \n",
    "# Посчитаем статистическую значимость различий в среднем чеке между группами по очищенным данным   \n",
    "\n",
    "alpha = 0.05 # критический уровень статистической значимости\n",
    "\n",
    "results = stats.mannwhitneyu(orders[np.logical_and(orders['group']=='A', np.logical_not(orders['visitorid'].isin(abnormalUsers)))]['revenue'],\n",
    "                             orders[np.logical_and(orders['group']=='B', np.logical_not(orders['visitorid'].isin(abnormalUsers)))]['revenue'], alternative=\"two-sided\")\n",
    "print('P-value: {}'.format(results.pvalue))\n",
    "if results.pvalue < alpha:\n",
    "     print('Отвергаем нулевую гипотезу: разница в средних чеках групп A и B, по очищенным данным, статистически ЗНАЧИМА')\n",
    "else:\n",
    "    print('Не получилось отвергнуть нулевую гипотезу: разница в средних чеках групп A и B, по очищенным данным, статистически НЕзначима')"
   ]
  },
  {
   "cell_type": "code",
   "execution_count": 46,
   "metadata": {},
   "outputs": [
    {
     "data": {
      "text/plain": [
       "group\n",
       "A    2134924\n",
       "B    2515151\n",
       "Name: revenue, dtype: int32"
      ]
     },
     "execution_count": 46,
     "metadata": {},
     "output_type": "execute_result"
    }
   ],
   "source": [
    "# Посмотрим на общую выручку по группам, по очищенным данным\n",
    "revenue = orders[np.logical_not(orders['visitorid'].isin(abnormalUsers))]\n",
    "revenue = revenue.groupby('group')['revenue'].sum()\n",
    "revenue"
   ]
  },
  {
   "cell_type": "code",
   "execution_count": 47,
   "metadata": {},
   "outputs": [
    {
     "data": {
      "image/png": "[encoded data removed]",
      "text/plain": [
       "<Figure size 1080x360 with 1 Axes>"
      ]
     },
     "metadata": {},
     "output_type": "display_data"
    }
   ],
   "source": [
    "plt.style.use('seaborn-pastel')\n",
    "summary = revenue.values.sum()\n",
    "\n",
    "def func_pct(pct):\n",
    "    value = float(pct/100.*summary)\n",
    "    return \"{:.2f}%\\n({:.0f} руб.)\".format(pct, value)\n",
    "\n",
    "explode = (0.05, 0)  # сектор 'ultra' немного выдвинем\n",
    "\n",
    "ax_pie = revenue.plot(kind='pie', y='summary', fontsize=15, use_index=False, shadow=True, explode=explode,\n",
    "                        title = 'Суммарная выручка по группам А/В за август 2019', pctdistance=0.45, figsize=(15,5), \n",
    "                        autopct=lambda pct: func_pct(pct), colors=['#E24A33', '#8EBA42'], labels=None)\n",
    "\n",
    "plt.tight_layout(pad=0)\n",
    "\n",
    "legend = ax_pie.legend(['Группа А', 'Группа В'], bbox_to_anchor=(0.89,0.87), prop={'size':14})\n",
    "y_label = ax_pie.set_ylabel('')"
   ]
  },
  {
   "cell_type": "markdown",
   "metadata": {},
   "source": [
    "**По очищенным данным средний чек группы В меньше среднего чека группы А на 1,1 %. Разница между средними чеками групп А и В статистически незначима. Данные подтверждают, что значительное превышение кумулятивного среднего чека группы В, по сравнению с группой А, связано с аномально дорогими заказами в группе. Суммарная выручка по группе В заметно превышает суммарную выручку по группе А.**"
   ]
  },
  {
   "cell_type": "markdown",
   "metadata": {},
   "source": [
    "### 4.14. Результаты А/В теста "
   ]
  },
  {
   "cell_type": "markdown",
   "metadata": {},
   "source": [
    "**Полученные результаты позволяют признать проведение А/В теста успешным. Не смотря на то, что средний чек в группах статистически не отличается, конверсия посетителей в покупатели в группе В статистически выше таковой в группе А, суммарная выручка по группе В заметно превышает суммарную выручку по группе А. Тест можно остановить.**"
   ]
  },
  {
   "cell_type": "markdown",
   "metadata": {},
   "source": [
    "## 5. Общий вывод"
   ]
  },
  {
   "cell_type": "markdown",
   "metadata": {},
   "source": [
    "**Исходные данные**\n",
    "\n",
    "    Для проведения исследования \"Принятие решений в бизнесе на основе данных A/B теста\" были предоставлены 3 датафрейма:\n",
    "    •\tДанные о сути гипотез и оценке параметров фреймворков ICE и RICE.\n",
    "    •\tДанные для двух групп А/В теста о заказах.\n",
    "    •\tДанные для двух групп А/В теста о посещениях.\n",
    "\n",
    "    Серьезных проблем в качестве данных не выявлено. В рамках подготовки к проведению исследования - анализа представленных данных для установления приоритетной гипотезы в целях увеличения выручки, а также выяснения эффективности предлагаемых изменений по результатам А/В теста, была проведена предобработка данных, которая включала в себя переименование столбцов и замену типа данных в столбцах с датами и временем, а также замену типа данных в столбцах с числами к меньшему числовому dtype. \n",
    "    \n",
    "    В процессе изучения данных были установлены сроки проведения А/Втеста - с 01.08.2019 по 31.08.2019.\n",
    "    \n",
    "    Проведенный анализ корректности распределения посетителей по А/В группам и размера выборки А/В теста показал:\n",
    "- Разница распределения посетителей между группами A и B статистически НЕ значима.\n",
    "- Размер выборки для проведения A/B тестирования корректен.\n",
    "\n",
    "**Однако при исследовании данных было обнаружено, что в датафрейме с данными о заказах представлены данные покупателей, совершавших заказы и в группе А, и в группе В. Каждый посетитель, попавший в одну из групп теста, должен оставаться в ней до конца. Если пользователь видит разные вариации А/В теста в течение одного исследования, неизвестно, какая из них повлияла на него. В таком случае результаты теста нельзя интерпретировать однозначно. Во избежание искажения результатов А/В теста данные по заказчикам в обеих группах были удалены.**\n",
    "\n",
    "\n",
    "    На этапе подготовки к исследованию были поставлены следующие задачи:\n",
    "- \t1. Провести приоритизацию гипотез.\n",
    "-\t2. Проанализировать результаты А/В теста.\n",
    "-\t3. Подвести итоги.\n",
    "\n",
    "    Получены следующие результаты.\n",
    "    \n",
    "**Часть I. Приоритизация гипотез.** Проводилась по двум фреймворкам - ICE и RICE.\n",
    "\n",
    "***Приоритизация гипотез по фреймворку ICE не учитывает степень вовлеченности пользователей, поэтому результаты приоритизации по фреймворку RICE предпочтительнее, так как они учитывают, сколько пользователей затронут изменения, которые внесет гипотеза.\n",
    "Пятерка лучших гипотез совпадает в обеих фреймворках, однако места их приоритетности различаются.***\n",
    "\n",
    "**Наиболее перспективными являются гипотезы, учитывающие степень вовлеченности пользователей во вносимые изменения (по фреймворку RICE):**\n",
    "- 1 место - \"Добавить форму подписки на все основные страницы, чтобы собрать базу клиентов для e-mail- рассылок\" (индекс 7, RICE=112)\n",
    "- 2 место - \"Добавить блоки рекомендаций товаров на сайт интернет- магазина, чтобы повысить конверсию и средний чек заказа\" (индекс 2, значение RICE в два раза ниже 1 места = 56)\n",
    "\n",
    "\n",
    "**Наименее перспективными по фреймворку ICE являются гипотезы:**\n",
    "\n",
    "- 7 место - \"Добавить страницу отзывов клиентов о магазине, что позволит увеличить количество заказов\" (индекс 5, ICE=1,3)\n",
    "- 8 место - \"Изменить структуру категорий, что увеличит конверсию, т.к. пользователи быстрее найдут нужный товар\" (индекс 3, ICE=1,1)\n",
    "- 9 место - \"Изменить цвет фона главной страницы, чтобы увеличить вовлеченность пользователей\" (индекс 4, ICE=1)\n",
    "\n",
    "**Наименее перспективными по фреймворку RICE являются гипотезы:**\n",
    "\n",
    "- 6 место - \"Запустить собственную службу доставки, что сократит срок доставки заказов\" (индекс 1, RICE=4)\n",
    "- 6 место - \"Добавить страницу отзывов клиентов о магазине, что позволит увеличить количество заказов\" (индекс 5, RICE=4)\n",
    "- 7 место - \"Изменить цвет фона главной страницы, чтобы увеличить вовлеченность пользователей\" (индекс 4, RICE=3)\n",
    "\n",
    "\n",
    "**Часть II. Анализ А/В теста.** \n",
    "\n",
    "- График кумулятивной выручки по группам\n",
    "\n",
    "**Выручка почти равномерно увеличивается в течение всего теста. В целом, выручка группы В выше выручки группы А. Однако графики кумулятивной выручки обеих групп в нескольких точках резко растут, что указывает на наличие аномальных значений в выборке.**\n",
    "\n",
    "- График кумулятивного среднего чека по группам\n",
    "\n",
    "**Средний чек становится равномерным примерно в середине теста для группы A; для группы B 18-19.08.2019 наблюдается резкий всплеск на графике, а затем снижение и выравнивание ближе к концу теста. В группе B, скорее всего, имеются крупные заказы, ведь далее средний чек в группе В падает.**\n",
    "\n",
    "- График относительного изменения кумулятивного среднего чека группы B к группе A\n",
    "\n",
    "**График относительного изменения кумулятивного среднего чека демонстрирует резкие колебания, что указывает на аномалии.**\n",
    "\n",
    "- График кумулятивной конверсии по группам\n",
    "\n",
    "**До 06-07.08.2019 наблюдаются резкие колебания конверсии в обеих группах, в указанные даты конверсия группы В резко растет, а группы А - падает. Примерно 18.08.2019 конверсии выравниваются, при этом конверсия группы В выше конверсии группы А. В конце месяца заметно снижение конверсии в обеих группах.**\n",
    "\n",
    "- График относительного изменения кумулятивной конверсии группы B к группе A\n",
    "\n",
    "**В начале теста конверсия группы В значительно уступала конверсии группы А. 06-07.08.2019 начинается ее резкий рост, далее она превышает конверсию группы А. Однако отношение конверсии В к конверсии А нельзя назвать установившемся, видны резкие колебания, что снова указывает на аномалии в исходных данных.**\n",
    "\n",
    "- Точечный график количества заказов по пользователям\n",
    "\n",
    "**Абсолютное большинство пользователей сделали только один заказ. Единичные выбросы - 2 и 3 заказа.**\n",
    "\n",
    "- Точечный график стоимостей заказов\n",
    "\n",
    "**Абсолютное большинство заказов не дороже 30 000. Имеется заметное число заказов до 60 000. Единичные выбросы - заказы стоимостью до 100 000.**\n",
    "\n",
    "\n",
    "- 95-й и 99-й перцентили количества заказов на пользователя\n",
    "\n",
    "**Не более 5 % пользователей сделали больше 1 заказа, не более 1 % пользователей сделали больше 2 заказов.**\n",
    "**Граница нормального количества заказов на пользователя - 1 заказ. Более 1 заказа - аномальные выбросы.**\n",
    "\n",
    "- 95-й и 99-й перцентили стоимости заказов\n",
    "\n",
    "**Не более 5 % заказов дороже 26 785. Не более 1 % заказов дороже 53 907.**\n",
    "**Граница нормальной стоимости заказов - не дороже 30 000. Заказы дороже 30 000 - аномальные выбросы.**\n",
    "\n",
    "- Статистическая значимость различий в конверсии между группами по «сырым» данным\n",
    "\n",
    "**По \"сырым\" данным конверсия группы В превышает конверсию группы А на 16 %. В конверсии по группам имеются статистически значимые отличия. Предварительно группа В активнее группы А.**\n",
    "\n",
    "- Статистическая значимость различий в конверсии между группами по «очищенным» данным\n",
    "\n",
    "**По очищенным данным конверсия группы В превышает конверсию группы А на 18 %. В конверсии по группам имеются статистически значимые отличия.** ***Эти данные подтвердили, что группа В активнее группы А.***\n",
    "\n",
    "- Статистическая значимость различий в среднем чеке заказа между группами по «сырым» данным\n",
    "\n",
    "**По \"сырым\" данным средний чек группы В превышает средний чек группы А на 28,7 %. Однако нет оснований считать, что разница между средними чеками групп А и В заметна, статистически она незначима.**\n",
    "\n",
    "- Статистическая значимость различий в среднем чеке заказа между группами по «очищенным» данным\n",
    "\n",
    "**По очищенным данным средний чек группы В меньше среднего чека группы А на 1,1 %. Разница между средними чеками групп А и В статистически незначима.** ***Данные подтверждают, что значительное превышение кумулятивного среднего чека группы В, по сравнению с группой А, связано с аномально дорогими заказами в группе.***\n",
    "\n",
    "**За период проведения А/В теста суммарная выручка по группе В заметно превышает суммарную выручку по группе А:**\n",
    "- 54,09 % - 2 515 151 руб. - суммарная выручка в группе В\n",
    "- 45,91 % - 2 134 924 руб. - суммарная выручка в группе А\n",
    "\n",
    "**Полученные результаты позволяют признать проведение А/В теста успешным.** Средний чек в группах статистически не отличается, однако конверсия посетителей в покупатели в группе В статистически выше таковой в группе А. Тест можно остановить.\n",
    "\n",
    "***Рекомендации для руководства интернет- магазина:***\n",
    "\n",
    "- Рассмотреть вопрос об использовании результатов приоритезации гипотез.\n",
    "\n",
    "- По итогам А/В теста рассмотреть вопрос о внедрении протестированных изменений.\n",
    "\n",
    "- Организовать проверку корректности работы системы показа пользователям разных версий сайта, в целях обеспечения разделения пользователей по группам и недопущения искажения результатов А/В тестирования. В целях подтверждения корректности данных, корректности их отправки в системы аналитики при проведении А/В тестов, до основного теста проводить А/А тестирование."
   ]
  }
 ],
 "metadata": {
  "ExecuteTimeLog": [
   {
    "duration": 379,
    "start_time": "2021-06-17T17:24:55.808Z"
   },
   {
    "duration": 1588,
    "start_time": "2021-06-17T17:25:02.200Z"
   },
   {
    "duration": 87,
    "start_time": "2021-06-17T17:25:03.791Z"
   },
   {
    "duration": 19,
    "start_time": "2021-06-17T17:30:13.189Z"
   },
   {
    "duration": 10,
    "start_time": "2021-06-17T17:32:08.626Z"
   },
   {
    "duration": 65,
    "start_time": "2021-06-17T17:35:23.980Z"
   },
   {
    "duration": 68,
    "start_time": "2021-06-17T17:36:01.556Z"
   },
   {
    "duration": 5568,
    "start_time": "2021-06-17T17:45:17.567Z"
   },
   {
    "duration": 5606,
    "start_time": "2021-06-17T17:45:46.916Z"
   },
   {
    "duration": 7854,
    "start_time": "2021-06-17T17:46:09.411Z"
   },
   {
    "duration": 4745,
    "start_time": "2021-06-17T17:48:55.634Z"
   },
   {
    "duration": 72,
    "start_time": "2021-06-17T17:50:09.032Z"
   },
   {
    "duration": 72,
    "start_time": "2021-06-17T17:52:22.954Z"
   },
   {
    "duration": 87,
    "start_time": "2021-06-17T17:53:26.844Z"
   },
   {
    "duration": 86,
    "start_time": "2021-06-17T17:54:08.917Z"
   },
   {
    "duration": 8,
    "start_time": "2021-06-17T18:11:22.118Z"
   },
   {
    "duration": 9,
    "start_time": "2021-06-17T18:12:44.928Z"
   },
   {
    "duration": 7,
    "start_time": "2021-06-17T18:14:52.922Z"
   },
   {
    "duration": 15,
    "start_time": "2021-06-17T18:21:17.042Z"
   },
   {
    "duration": 13,
    "start_time": "2021-06-17T18:23:00.127Z"
   },
   {
    "duration": 86,
    "start_time": "2021-06-17T18:23:33.267Z"
   },
   {
    "duration": 11,
    "start_time": "2021-06-17T18:23:38.161Z"
   },
   {
    "duration": 9,
    "start_time": "2021-06-17T18:23:39.090Z"
   },
   {
    "duration": 12,
    "start_time": "2021-06-17T18:23:41.655Z"
   },
   {
    "duration": 85,
    "start_time": "2021-06-17T18:24:23.201Z"
   },
   {
    "duration": 102,
    "start_time": "2021-06-17T18:24:32.201Z"
   },
   {
    "duration": 11,
    "start_time": "2021-06-17T18:24:37.153Z"
   },
   {
    "duration": 9,
    "start_time": "2021-06-17T18:24:37.680Z"
   },
   {
    "duration": 12,
    "start_time": "2021-06-17T18:24:39.842Z"
   },
   {
    "duration": 9,
    "start_time": "2021-06-17T18:24:46.460Z"
   },
   {
    "duration": 15,
    "start_time": "2021-06-17T18:25:06.035Z"
   },
   {
    "duration": 13,
    "start_time": "2021-06-17T18:27:11.906Z"
   },
   {
    "duration": 86,
    "start_time": "2021-06-17T18:27:24.968Z"
   },
   {
    "duration": 12,
    "start_time": "2021-06-17T18:27:27.205Z"
   },
   {
    "duration": 8,
    "start_time": "2021-06-17T18:27:27.836Z"
   },
   {
    "duration": 14,
    "start_time": "2021-06-17T18:27:30.731Z"
   },
   {
    "duration": 10,
    "start_time": "2021-06-17T18:27:33.552Z"
   },
   {
    "duration": 19,
    "start_time": "2021-06-17T18:27:35.906Z"
   },
   {
    "duration": 7,
    "start_time": "2021-06-17T18:27:48.311Z"
   },
   {
    "duration": 6,
    "start_time": "2021-06-17T18:31:58.216Z"
   },
   {
    "duration": 21,
    "start_time": "2021-06-17T18:32:27.053Z"
   },
   {
    "duration": 9504,
    "start_time": "2021-06-17T18:35:33.815Z"
   },
   {
    "duration": 10,
    "start_time": "2021-06-17T18:35:54.864Z"
   },
   {
    "duration": 84,
    "start_time": "2021-06-17T18:36:28.005Z"
   },
   {
    "duration": 11,
    "start_time": "2021-06-17T18:36:37.471Z"
   },
   {
    "duration": 15,
    "start_time": "2021-06-17T18:37:16.342Z"
   },
   {
    "duration": 9,
    "start_time": "2021-06-17T18:37:22.378Z"
   },
   {
    "duration": 19,
    "start_time": "2021-06-17T18:37:22.933Z"
   },
   {
    "duration": 1443,
    "start_time": "2021-06-17T18:37:55.139Z"
   },
   {
    "duration": 87,
    "start_time": "2021-06-17T18:37:56.584Z"
   },
   {
    "duration": 14,
    "start_time": "2021-06-17T18:37:56.674Z"
   },
   {
    "duration": 9,
    "start_time": "2021-06-17T18:37:56.691Z"
   },
   {
    "duration": 20,
    "start_time": "2021-06-17T18:37:56.702Z"
   },
   {
    "duration": 20,
    "start_time": "2021-06-17T18:37:56.724Z"
   },
   {
    "duration": 19,
    "start_time": "2021-06-17T18:37:56.747Z"
   },
   {
    "duration": 17,
    "start_time": "2021-06-17T18:37:56.770Z"
   },
   {
    "duration": 14,
    "start_time": "2021-06-17T18:37:56.808Z"
   },
   {
    "duration": 11,
    "start_time": "2021-06-17T18:37:56.826Z"
   },
   {
    "duration": 9,
    "start_time": "2021-06-17T18:41:06.183Z"
   },
   {
    "duration": 8,
    "start_time": "2021-06-17T18:46:18.479Z"
   },
   {
    "duration": 8,
    "start_time": "2021-06-17T18:46:20.908Z"
   },
   {
    "duration": 7,
    "start_time": "2021-06-17T18:58:28.186Z"
   },
   {
    "duration": 7,
    "start_time": "2021-06-17T19:00:08.709Z"
   },
   {
    "duration": 17,
    "start_time": "2021-06-17T19:10:35.715Z"
   },
   {
    "duration": 19,
    "start_time": "2021-06-17T19:10:36.766Z"
   },
   {
    "duration": 84,
    "start_time": "2021-06-17T19:11:56.295Z"
   },
   {
    "duration": 11,
    "start_time": "2021-06-17T19:11:58.690Z"
   },
   {
    "duration": 8,
    "start_time": "2021-06-17T19:11:59.234Z"
   },
   {
    "duration": 15,
    "start_time": "2021-06-17T19:12:01.253Z"
   },
   {
    "duration": 8,
    "start_time": "2021-06-17T19:12:02.566Z"
   },
   {
    "duration": 18,
    "start_time": "2021-06-17T19:12:03.072Z"
   },
   {
    "duration": 8,
    "start_time": "2021-06-17T19:12:03.648Z"
   },
   {
    "duration": 13,
    "start_time": "2021-06-17T19:12:06.069Z"
   },
   {
    "duration": 6,
    "start_time": "2021-06-17T19:12:06.652Z"
   },
   {
    "duration": 9,
    "start_time": "2021-06-17T19:12:07.286Z"
   },
   {
    "duration": 8,
    "start_time": "2021-06-17T19:12:08.014Z"
   },
   {
    "duration": 7,
    "start_time": "2021-06-17T19:12:10.866Z"
   },
   {
    "duration": 17,
    "start_time": "2021-06-17T19:12:12.765Z"
   },
   {
    "duration": 84,
    "start_time": "2021-06-17T19:12:50.306Z"
   },
   {
    "duration": 11,
    "start_time": "2021-06-17T19:13:01.403Z"
   },
   {
    "duration": 9,
    "start_time": "2021-06-17T19:13:02.060Z"
   },
   {
    "duration": 15,
    "start_time": "2021-06-17T19:13:04.326Z"
   },
   {
    "duration": 9,
    "start_time": "2021-06-17T19:13:05.040Z"
   },
   {
    "duration": 18,
    "start_time": "2021-06-17T19:13:05.768Z"
   },
   {
    "duration": 9,
    "start_time": "2021-06-17T19:13:06.445Z"
   },
   {
    "duration": 15,
    "start_time": "2021-06-17T19:13:08.548Z"
   },
   {
    "duration": 7,
    "start_time": "2021-06-17T19:13:09.156Z"
   },
   {
    "duration": 8,
    "start_time": "2021-06-17T19:13:10.021Z"
   },
   {
    "duration": 10,
    "start_time": "2021-06-17T19:13:10.680Z"
   },
   {
    "duration": 8,
    "start_time": "2021-06-17T19:13:15.720Z"
   },
   {
    "duration": 16,
    "start_time": "2021-06-17T19:13:21.335Z"
   },
   {
    "duration": 1479,
    "start_time": "2021-06-17T19:14:43.100Z"
   },
   {
    "duration": 86,
    "start_time": "2021-06-17T19:14:44.582Z"
   },
   {
    "duration": 15,
    "start_time": "2021-06-17T19:14:44.671Z"
   },
   {
    "duration": 10,
    "start_time": "2021-06-17T19:14:44.689Z"
   },
   {
    "duration": 22,
    "start_time": "2021-06-17T19:14:44.702Z"
   },
   {
    "duration": 12,
    "start_time": "2021-06-17T19:14:44.726Z"
   },
   {
    "duration": 6,
    "start_time": "2021-06-17T19:14:44.740Z"
   },
   {
    "duration": 11,
    "start_time": "2021-06-17T19:14:44.749Z"
   },
   {
    "duration": 15,
    "start_time": "2021-06-17T19:14:44.762Z"
   },
   {
    "duration": 41,
    "start_time": "2021-06-17T19:14:44.779Z"
   },
   {
    "duration": 5,
    "start_time": "2021-06-17T19:14:44.823Z"
   },
   {
    "duration": 12,
    "start_time": "2021-06-17T19:14:44.830Z"
   },
   {
    "duration": 9,
    "start_time": "2021-06-17T19:14:44.845Z"
   },
   {
    "duration": 60,
    "start_time": "2021-06-17T19:14:44.856Z"
   },
   {
    "duration": 22,
    "start_time": "2021-06-17T19:14:44.918Z"
   },
   {
    "duration": 1420,
    "start_time": "2021-06-17T19:15:59.762Z"
   },
   {
    "duration": 87,
    "start_time": "2021-06-17T19:16:01.185Z"
   },
   {
    "duration": 17,
    "start_time": "2021-06-17T19:16:01.277Z"
   },
   {
    "duration": 33,
    "start_time": "2021-06-17T19:16:01.298Z"
   },
   {
    "duration": 30,
    "start_time": "2021-06-17T19:16:01.334Z"
   },
   {
    "duration": 45,
    "start_time": "2021-06-17T19:16:01.367Z"
   },
   {
    "duration": 1680,
    "start_time": "2021-06-17T19:16:01.415Z"
   },
   {
    "duration": 138,
    "start_time": "2021-06-17T19:16:02.960Z"
   },
   {
    "duration": 136,
    "start_time": "2021-06-17T19:16:02.963Z"
   },
   {
    "duration": 135,
    "start_time": "2021-06-17T19:16:02.966Z"
   },
   {
    "duration": 133,
    "start_time": "2021-06-17T19:16:02.969Z"
   },
   {
    "duration": 132,
    "start_time": "2021-06-17T19:16:02.972Z"
   },
   {
    "duration": 129,
    "start_time": "2021-06-17T19:16:02.976Z"
   },
   {
    "duration": 128,
    "start_time": "2021-06-17T19:16:02.978Z"
   },
   {
    "duration": 126,
    "start_time": "2021-06-17T19:16:02.982Z"
   },
   {
    "duration": 1509,
    "start_time": "2021-06-17T19:16:48.476Z"
   },
   {
    "duration": 87,
    "start_time": "2021-06-17T19:16:49.987Z"
   },
   {
    "duration": 18,
    "start_time": "2021-06-17T19:16:50.078Z"
   },
   {
    "duration": 16,
    "start_time": "2021-06-17T19:16:50.098Z"
   },
   {
    "duration": 17,
    "start_time": "2021-06-17T19:16:50.117Z"
   },
   {
    "duration": 7,
    "start_time": "2021-06-17T19:16:50.137Z"
   },
   {
    "duration": 19,
    "start_time": "2021-06-17T19:16:50.146Z"
   },
   {
    "duration": 42,
    "start_time": "2021-06-17T19:16:50.168Z"
   },
   {
    "duration": 14,
    "start_time": "2021-06-17T19:16:50.212Z"
   },
   {
    "duration": 9,
    "start_time": "2021-06-17T19:16:50.228Z"
   },
   {
    "duration": 7,
    "start_time": "2021-06-17T19:16:50.240Z"
   },
   {
    "duration": 10,
    "start_time": "2021-06-17T19:16:50.249Z"
   },
   {
    "duration": 49,
    "start_time": "2021-06-17T19:16:50.262Z"
   },
   {
    "duration": 17,
    "start_time": "2021-06-17T19:16:50.314Z"
   },
   {
    "duration": 23,
    "start_time": "2021-06-17T19:16:50.333Z"
   },
   {
    "duration": 8,
    "start_time": "2021-06-17T19:17:26.229Z"
   },
   {
    "duration": 1447,
    "start_time": "2021-06-17T19:23:23.531Z"
   },
   {
    "duration": 86,
    "start_time": "2021-06-17T19:23:24.981Z"
   },
   {
    "duration": 22,
    "start_time": "2021-06-17T19:23:25.071Z"
   },
   {
    "duration": 14,
    "start_time": "2021-06-17T19:23:25.096Z"
   },
   {
    "duration": 27,
    "start_time": "2021-06-17T19:23:25.113Z"
   },
   {
    "duration": 24,
    "start_time": "2021-06-17T19:23:25.143Z"
   },
   {
    "duration": 19,
    "start_time": "2021-06-17T19:23:25.171Z"
   },
   {
    "duration": 19,
    "start_time": "2021-06-17T19:23:25.195Z"
   },
   {
    "duration": 16,
    "start_time": "2021-06-17T19:23:25.217Z"
   },
   {
    "duration": 26,
    "start_time": "2021-06-17T19:23:25.236Z"
   },
   {
    "duration": 14,
    "start_time": "2021-06-17T19:23:25.265Z"
   },
   {
    "duration": 31,
    "start_time": "2021-06-17T19:23:25.281Z"
   },
   {
    "duration": 8,
    "start_time": "2021-06-17T19:23:25.315Z"
   },
   {
    "duration": 13,
    "start_time": "2021-06-17T19:23:25.326Z"
   },
   {
    "duration": 20,
    "start_time": "2021-06-17T19:23:25.341Z"
   },
   {
    "duration": 391,
    "start_time": "2021-06-18T13:16:07.276Z"
   },
   {
    "duration": 1611,
    "start_time": "2021-06-18T13:16:13.055Z"
   },
   {
    "duration": 97,
    "start_time": "2021-06-18T13:16:14.673Z"
   },
   {
    "duration": 16,
    "start_time": "2021-06-18T13:16:14.773Z"
   },
   {
    "duration": 8,
    "start_time": "2021-06-18T13:16:14.791Z"
   },
   {
    "duration": 19,
    "start_time": "2021-06-18T13:16:14.802Z"
   },
   {
    "duration": 44,
    "start_time": "2021-06-18T13:16:14.823Z"
   },
   {
    "duration": 22,
    "start_time": "2021-06-18T13:16:14.869Z"
   },
   {
    "duration": 9,
    "start_time": "2021-06-18T13:16:14.895Z"
   },
   {
    "duration": 15,
    "start_time": "2021-06-18T13:16:14.908Z"
   },
   {
    "duration": 40,
    "start_time": "2021-06-18T13:16:14.926Z"
   },
   {
    "duration": 10,
    "start_time": "2021-06-18T13:16:14.970Z"
   },
   {
    "duration": 10,
    "start_time": "2021-06-18T13:16:14.983Z"
   },
   {
    "duration": 9,
    "start_time": "2021-06-18T13:16:14.996Z"
   },
   {
    "duration": 55,
    "start_time": "2021-06-18T13:16:15.007Z"
   },
   {
    "duration": 38,
    "start_time": "2021-06-18T13:16:15.064Z"
   },
   {
    "duration": 811,
    "start_time": "2021-06-18T13:16:15.105Z"
   },
   {
    "duration": 309,
    "start_time": "2021-06-18T13:18:51.541Z"
   },
   {
    "duration": 20,
    "start_time": "2021-06-18T13:19:17.063Z"
   },
   {
    "duration": 350,
    "start_time": "2021-06-18T13:31:24.556Z"
   },
   {
    "duration": 665,
    "start_time": "2021-06-18T13:31:37.847Z"
   },
   {
    "duration": 458,
    "start_time": "2021-06-18T13:40:17.597Z"
   },
   {
    "duration": 128,
    "start_time": "2021-06-18T13:40:25.033Z"
   },
   {
    "duration": 21,
    "start_time": "2021-06-18T13:40:32.701Z"
   },
   {
    "duration": 454,
    "start_time": "2021-06-18T13:41:16.058Z"
   },
   {
    "duration": 14,
    "start_time": "2021-06-18T13:42:44.841Z"
   },
   {
    "duration": 19,
    "start_time": "2021-06-18T13:44:12.539Z"
   },
   {
    "duration": 17,
    "start_time": "2021-06-18T13:44:47.955Z"
   },
   {
    "duration": 1526,
    "start_time": "2021-06-18T13:45:04.613Z"
   },
   {
    "duration": 108,
    "start_time": "2021-06-18T13:45:06.142Z"
   },
   {
    "duration": 21,
    "start_time": "2021-06-18T13:45:06.254Z"
   },
   {
    "duration": 20,
    "start_time": "2021-06-18T13:45:06.278Z"
   },
   {
    "duration": 20,
    "start_time": "2021-06-18T13:45:06.300Z"
   },
   {
    "duration": 13,
    "start_time": "2021-06-18T13:45:06.323Z"
   },
   {
    "duration": 29,
    "start_time": "2021-06-18T13:45:06.363Z"
   },
   {
    "duration": 12,
    "start_time": "2021-06-18T13:45:06.397Z"
   },
   {
    "duration": 24,
    "start_time": "2021-06-18T13:45:06.412Z"
   },
   {
    "duration": 30,
    "start_time": "2021-06-18T13:45:06.438Z"
   },
   {
    "duration": 9,
    "start_time": "2021-06-18T13:45:06.471Z"
   },
   {
    "duration": 16,
    "start_time": "2021-06-18T13:45:06.482Z"
   },
   {
    "duration": 18,
    "start_time": "2021-06-18T13:45:06.501Z"
   },
   {
    "duration": 40,
    "start_time": "2021-06-18T13:45:06.522Z"
   },
   {
    "duration": 9,
    "start_time": "2021-06-18T13:45:06.565Z"
   },
   {
    "duration": 23,
    "start_time": "2021-06-18T13:45:06.576Z"
   },
   {
    "duration": 508,
    "start_time": "2021-06-18T13:45:06.601Z"
   },
   {
    "duration": 19,
    "start_time": "2021-06-18T13:45:07.112Z"
   },
   {
    "duration": 484,
    "start_time": "2021-06-18T13:45:07.133Z"
   },
   {
    "duration": 17,
    "start_time": "2021-06-18T13:48:22.052Z"
   },
   {
    "duration": 23,
    "start_time": "2021-06-18T13:52:19.203Z"
   },
   {
    "duration": 24,
    "start_time": "2021-06-18T13:52:54.055Z"
   },
   {
    "duration": 1518,
    "start_time": "2021-06-18T13:54:11.521Z"
   },
   {
    "duration": 95,
    "start_time": "2021-06-18T13:54:13.042Z"
   },
   {
    "duration": 15,
    "start_time": "2021-06-18T13:54:13.140Z"
   },
   {
    "duration": 15,
    "start_time": "2021-06-18T13:54:13.159Z"
   },
   {
    "duration": 19,
    "start_time": "2021-06-18T13:54:13.176Z"
   },
   {
    "duration": 9,
    "start_time": "2021-06-18T13:54:13.197Z"
   },
   {
    "duration": 19,
    "start_time": "2021-06-18T13:54:13.208Z"
   },
   {
    "duration": 37,
    "start_time": "2021-06-18T13:54:13.231Z"
   },
   {
    "duration": 19,
    "start_time": "2021-06-18T13:54:13.271Z"
   },
   {
    "duration": 12,
    "start_time": "2021-06-18T13:54:13.292Z"
   },
   {
    "duration": 16,
    "start_time": "2021-06-18T13:54:13.306Z"
   },
   {
    "duration": 40,
    "start_time": "2021-06-18T13:54:13.325Z"
   },
   {
    "duration": 10,
    "start_time": "2021-06-18T13:54:13.367Z"
   },
   {
    "duration": 13,
    "start_time": "2021-06-18T13:54:13.380Z"
   },
   {
    "duration": 24,
    "start_time": "2021-06-18T13:54:13.395Z"
   },
   {
    "duration": 33,
    "start_time": "2021-06-18T13:54:13.422Z"
   },
   {
    "duration": 487,
    "start_time": "2021-06-18T13:54:13.461Z"
   },
   {
    "duration": 30,
    "start_time": "2021-06-18T13:54:13.950Z"
   },
   {
    "duration": 466,
    "start_time": "2021-06-18T13:54:13.982Z"
   },
   {
    "duration": 26,
    "start_time": "2021-06-18T13:56:30.593Z"
   },
   {
    "duration": 1479,
    "start_time": "2021-06-18T13:56:44.156Z"
   },
   {
    "duration": 93,
    "start_time": "2021-06-18T13:56:45.639Z"
   },
   {
    "duration": 14,
    "start_time": "2021-06-18T13:56:45.735Z"
   },
   {
    "duration": 15,
    "start_time": "2021-06-18T13:56:45.752Z"
   },
   {
    "duration": 25,
    "start_time": "2021-06-18T13:56:45.771Z"
   },
   {
    "duration": 17,
    "start_time": "2021-06-18T13:56:45.799Z"
   },
   {
    "duration": 49,
    "start_time": "2021-06-18T13:56:45.823Z"
   },
   {
    "duration": 11,
    "start_time": "2021-06-18T13:56:45.876Z"
   },
   {
    "duration": 22,
    "start_time": "2021-06-18T13:56:45.890Z"
   },
   {
    "duration": 49,
    "start_time": "2021-06-18T13:56:45.915Z"
   },
   {
    "duration": 14,
    "start_time": "2021-06-18T13:56:45.966Z"
   },
   {
    "duration": 19,
    "start_time": "2021-06-18T13:56:45.983Z"
   },
   {
    "duration": 16,
    "start_time": "2021-06-18T13:56:46.004Z"
   },
   {
    "duration": 11,
    "start_time": "2021-06-18T13:56:46.023Z"
   },
   {
    "duration": 26,
    "start_time": "2021-06-18T13:56:46.036Z"
   },
   {
    "duration": 30,
    "start_time": "2021-06-18T13:56:46.064Z"
   },
   {
    "duration": 476,
    "start_time": "2021-06-18T13:56:46.096Z"
   },
   {
    "duration": 21,
    "start_time": "2021-06-18T13:56:46.574Z"
   },
   {
    "duration": 489,
    "start_time": "2021-06-18T13:56:46.598Z"
   },
   {
    "duration": 25,
    "start_time": "2021-06-18T13:57:50.138Z"
   },
   {
    "duration": 21,
    "start_time": "2021-06-18T13:58:21.351Z"
   },
   {
    "duration": 14,
    "start_time": "2021-06-18T13:58:55.492Z"
   },
   {
    "duration": 14,
    "start_time": "2021-06-18T13:59:03.242Z"
   },
   {
    "duration": 1773,
    "start_time": "2021-06-18T14:00:07.906Z"
   },
   {
    "duration": 93,
    "start_time": "2021-06-18T14:00:09.682Z"
   },
   {
    "duration": 21,
    "start_time": "2021-06-18T14:00:09.778Z"
   },
   {
    "duration": 14,
    "start_time": "2021-06-18T14:00:09.803Z"
   },
   {
    "duration": 56,
    "start_time": "2021-06-18T14:00:09.820Z"
   },
   {
    "duration": 11,
    "start_time": "2021-06-18T14:00:09.880Z"
   },
   {
    "duration": 50,
    "start_time": "2021-06-18T14:00:09.895Z"
   },
   {
    "duration": 19,
    "start_time": "2021-06-18T14:00:09.951Z"
   },
   {
    "duration": 32,
    "start_time": "2021-06-18T14:00:09.973Z"
   },
   {
    "duration": 16,
    "start_time": "2021-06-18T14:00:10.008Z"
   },
   {
    "duration": 19,
    "start_time": "2021-06-18T14:00:10.027Z"
   },
   {
    "duration": 30,
    "start_time": "2021-06-18T14:00:10.048Z"
   },
   {
    "duration": 20,
    "start_time": "2021-06-18T14:00:10.080Z"
   },
   {
    "duration": 21,
    "start_time": "2021-06-18T14:00:10.103Z"
   },
   {
    "duration": 21,
    "start_time": "2021-06-18T14:00:10.129Z"
   },
   {
    "duration": 18,
    "start_time": "2021-06-18T14:00:10.152Z"
   },
   {
    "duration": 28,
    "start_time": "2021-06-18T14:00:10.173Z"
   },
   {
    "duration": 513,
    "start_time": "2021-06-18T14:00:10.204Z"
   },
   {
    "duration": 23,
    "start_time": "2021-06-18T14:00:10.720Z"
   },
   {
    "duration": 488,
    "start_time": "2021-06-18T14:00:10.746Z"
   },
   {
    "duration": 20,
    "start_time": "2021-06-18T14:00:55.728Z"
   },
   {
    "duration": 22,
    "start_time": "2021-06-18T14:01:17.328Z"
   },
   {
    "duration": 19,
    "start_time": "2021-06-18T14:02:50.065Z"
   },
   {
    "duration": 23,
    "start_time": "2021-06-18T14:03:21.111Z"
   },
   {
    "duration": 18,
    "start_time": "2021-06-18T14:03:39.429Z"
   },
   {
    "duration": 21,
    "start_time": "2021-06-18T14:03:48.052Z"
   },
   {
    "duration": 22,
    "start_time": "2021-06-18T14:04:03.027Z"
   },
   {
    "duration": 18,
    "start_time": "2021-06-18T14:04:16.989Z"
   },
   {
    "duration": 19,
    "start_time": "2021-06-18T14:04:49.703Z"
   },
   {
    "duration": 21,
    "start_time": "2021-06-18T14:05:11.641Z"
   },
   {
    "duration": 1554,
    "start_time": "2021-06-18T14:16:36.970Z"
   },
   {
    "duration": 100,
    "start_time": "2021-06-18T14:16:38.527Z"
   },
   {
    "duration": 16,
    "start_time": "2021-06-18T14:16:38.632Z"
   },
   {
    "duration": 17,
    "start_time": "2021-06-18T14:16:38.651Z"
   },
   {
    "duration": 25,
    "start_time": "2021-06-18T14:16:38.670Z"
   },
   {
    "duration": 16,
    "start_time": "2021-06-18T14:16:38.698Z"
   },
   {
    "duration": 23,
    "start_time": "2021-06-18T14:16:38.716Z"
   },
   {
    "duration": 24,
    "start_time": "2021-06-18T14:16:38.741Z"
   },
   {
    "duration": 25,
    "start_time": "2021-06-18T14:16:38.771Z"
   },
   {
    "duration": 27,
    "start_time": "2021-06-18T14:16:38.799Z"
   },
   {
    "duration": 13,
    "start_time": "2021-06-18T14:16:38.829Z"
   },
   {
    "duration": 18,
    "start_time": "2021-06-18T14:16:38.846Z"
   },
   {
    "duration": 12,
    "start_time": "2021-06-18T14:16:38.866Z"
   },
   {
    "duration": 19,
    "start_time": "2021-06-18T14:16:38.881Z"
   },
   {
    "duration": 18,
    "start_time": "2021-06-18T14:16:38.903Z"
   },
   {
    "duration": 47,
    "start_time": "2021-06-18T14:16:38.923Z"
   },
   {
    "duration": 27,
    "start_time": "2021-06-18T14:16:38.973Z"
   },
   {
    "duration": 527,
    "start_time": "2021-06-18T14:16:39.002Z"
   },
   {
    "duration": 32,
    "start_time": "2021-06-18T14:16:39.531Z"
   },
   {
    "duration": 482,
    "start_time": "2021-06-18T14:16:39.566Z"
   },
   {
    "duration": 1532,
    "start_time": "2021-06-18T14:18:26.621Z"
   },
   {
    "duration": 95,
    "start_time": "2021-06-18T14:18:28.155Z"
   },
   {
    "duration": 15,
    "start_time": "2021-06-18T14:18:28.253Z"
   },
   {
    "duration": 20,
    "start_time": "2021-06-18T14:18:28.270Z"
   },
   {
    "duration": 28,
    "start_time": "2021-06-18T14:18:28.293Z"
   },
   {
    "duration": 31,
    "start_time": "2021-06-18T14:18:28.324Z"
   },
   {
    "duration": 37,
    "start_time": "2021-06-18T14:18:28.359Z"
   },
   {
    "duration": 23,
    "start_time": "2021-06-18T14:18:28.400Z"
   },
   {
    "duration": 24,
    "start_time": "2021-06-18T14:18:28.426Z"
   },
   {
    "duration": 13,
    "start_time": "2021-06-18T14:18:28.452Z"
   },
   {
    "duration": 12,
    "start_time": "2021-06-18T14:18:28.467Z"
   },
   {
    "duration": 14,
    "start_time": "2021-06-18T14:18:28.482Z"
   },
   {
    "duration": 10,
    "start_time": "2021-06-18T14:18:28.499Z"
   },
   {
    "duration": 50,
    "start_time": "2021-06-18T14:18:28.512Z"
   },
   {
    "duration": 25,
    "start_time": "2021-06-18T14:18:28.565Z"
   },
   {
    "duration": 492,
    "start_time": "2021-06-18T14:18:28.592Z"
   },
   {
    "duration": 22,
    "start_time": "2021-06-18T14:18:29.087Z"
   },
   {
    "duration": 476,
    "start_time": "2021-06-18T14:18:29.112Z"
   },
   {
    "duration": 4407,
    "start_time": "2021-06-18T14:27:22.415Z"
   },
   {
    "duration": 1272,
    "start_time": "2021-06-18T14:29:08.576Z"
   },
   {
    "duration": 1442,
    "start_time": "2021-06-18T14:29:45.922Z"
   },
   {
    "duration": 1855,
    "start_time": "2021-06-18T14:29:53.056Z"
   },
   {
    "duration": 105,
    "start_time": "2021-06-18T14:29:54.915Z"
   },
   {
    "duration": 15,
    "start_time": "2021-06-18T14:29:55.023Z"
   },
   {
    "duration": 20,
    "start_time": "2021-06-18T14:29:55.040Z"
   },
   {
    "duration": 22,
    "start_time": "2021-06-18T14:29:55.063Z"
   },
   {
    "duration": 19,
    "start_time": "2021-06-18T14:29:55.087Z"
   },
   {
    "duration": 19,
    "start_time": "2021-06-18T14:29:55.109Z"
   },
   {
    "duration": 34,
    "start_time": "2021-06-18T14:29:55.130Z"
   },
   {
    "duration": 17,
    "start_time": "2021-06-18T14:29:55.168Z"
   },
   {
    "duration": 8,
    "start_time": "2021-06-18T14:29:55.188Z"
   },
   {
    "duration": 10,
    "start_time": "2021-06-18T14:29:55.199Z"
   },
   {
    "duration": 15,
    "start_time": "2021-06-18T14:29:55.211Z"
   },
   {
    "duration": 8,
    "start_time": "2021-06-18T14:29:55.262Z"
   },
   {
    "duration": 18,
    "start_time": "2021-06-18T14:29:55.272Z"
   },
   {
    "duration": 1441,
    "start_time": "2021-06-18T14:29:55.292Z"
   },
   {
    "duration": 1240,
    "start_time": "2021-06-18T14:29:55.495Z"
   },
   {
    "duration": 1239,
    "start_time": "2021-06-18T14:29:55.498Z"
   },
   {
    "duration": 1237,
    "start_time": "2021-06-18T14:29:55.501Z"
   },
   {
    "duration": 17,
    "start_time": "2021-06-18T14:30:43.853Z"
   },
   {
    "duration": 465,
    "start_time": "2021-06-18T14:31:08.535Z"
   },
   {
    "duration": 17,
    "start_time": "2021-06-18T14:31:42.816Z"
   },
   {
    "duration": 302,
    "start_time": "2021-06-18T14:32:21.650Z"
   },
   {
    "duration": 19,
    "start_time": "2021-06-18T14:32:26.247Z"
   },
   {
    "duration": 450,
    "start_time": "2021-06-18T14:34:38.444Z"
   },
   {
    "duration": 1476,
    "start_time": "2021-06-18T14:59:47.655Z"
   },
   {
    "duration": 102,
    "start_time": "2021-06-18T14:59:49.134Z"
   },
   {
    "duration": 15,
    "start_time": "2021-06-18T14:59:49.240Z"
   },
   {
    "duration": 8,
    "start_time": "2021-06-18T14:59:49.258Z"
   },
   {
    "duration": 18,
    "start_time": "2021-06-18T14:59:49.270Z"
   },
   {
    "duration": 12,
    "start_time": "2021-06-18T14:59:49.291Z"
   },
   {
    "duration": 17,
    "start_time": "2021-06-18T14:59:49.306Z"
   },
   {
    "duration": 42,
    "start_time": "2021-06-18T14:59:49.328Z"
   },
   {
    "duration": 18,
    "start_time": "2021-06-18T14:59:49.372Z"
   },
   {
    "duration": 27,
    "start_time": "2021-06-18T14:59:49.392Z"
   },
   {
    "duration": 8,
    "start_time": "2021-06-18T14:59:49.422Z"
   },
   {
    "duration": 36,
    "start_time": "2021-06-18T14:59:49.432Z"
   },
   {
    "duration": 10,
    "start_time": "2021-06-18T14:59:49.470Z"
   },
   {
    "duration": 20,
    "start_time": "2021-06-18T14:59:49.483Z"
   },
   {
    "duration": 506,
    "start_time": "2021-06-18T14:59:49.505Z"
   },
   {
    "duration": 21,
    "start_time": "2021-06-18T14:59:50.014Z"
   },
   {
    "duration": 483,
    "start_time": "2021-06-18T14:59:50.038Z"
   },
   {
    "duration": 1577,
    "start_time": "2021-06-19T14:05:31.621Z"
   },
   {
    "duration": 95,
    "start_time": "2021-06-19T14:05:33.201Z"
   },
   {
    "duration": 16,
    "start_time": "2021-06-19T14:05:33.299Z"
   },
   {
    "duration": 8,
    "start_time": "2021-06-19T14:05:33.319Z"
   },
   {
    "duration": 19,
    "start_time": "2021-06-19T14:05:33.330Z"
   },
   {
    "duration": 14,
    "start_time": "2021-06-19T14:05:33.352Z"
   },
   {
    "duration": 51,
    "start_time": "2021-06-19T14:05:33.369Z"
   },
   {
    "duration": 18,
    "start_time": "2021-06-19T14:05:33.423Z"
   },
   {
    "duration": 13,
    "start_time": "2021-06-19T14:05:33.444Z"
   },
   {
    "duration": 30,
    "start_time": "2021-06-19T14:05:33.459Z"
   },
   {
    "duration": 20,
    "start_time": "2021-06-19T14:05:33.491Z"
   },
   {
    "duration": 8,
    "start_time": "2021-06-19T14:05:33.513Z"
   },
   {
    "duration": 16,
    "start_time": "2021-06-19T14:05:33.523Z"
   },
   {
    "duration": 9,
    "start_time": "2021-06-19T14:05:33.541Z"
   },
   {
    "duration": 30,
    "start_time": "2021-06-19T14:05:33.552Z"
   },
   {
    "duration": 514,
    "start_time": "2021-06-19T14:05:33.585Z"
   },
   {
    "duration": 21,
    "start_time": "2021-06-19T14:05:34.109Z"
   },
   {
    "duration": 471,
    "start_time": "2021-06-19T14:05:34.132Z"
   },
   {
    "duration": 6,
    "start_time": "2021-06-19T14:06:30.285Z"
   },
   {
    "duration": 7,
    "start_time": "2021-06-19T14:08:36.528Z"
   },
   {
    "duration": 11,
    "start_time": "2021-06-19T14:08:47.815Z"
   },
   {
    "duration": 7,
    "start_time": "2021-06-19T14:09:47.905Z"
   },
   {
    "duration": 3531,
    "start_time": "2021-06-19T14:41:02.027Z"
   },
   {
    "duration": 1091,
    "start_time": "2021-06-19T14:42:37.233Z"
   },
   {
    "duration": 5411,
    "start_time": "2021-06-19T14:42:47.240Z"
   },
   {
    "duration": 5076,
    "start_time": "2021-06-19T14:43:10.483Z"
   },
   {
    "duration": 623,
    "start_time": "2021-06-19T14:43:53.554Z"
   },
   {
    "duration": 3526,
    "start_time": "2021-06-19T14:44:15.885Z"
   },
   {
    "duration": 41,
    "start_time": "2021-06-19T14:54:13.620Z"
   },
   {
    "duration": 9,
    "start_time": "2021-06-19T15:16:54.213Z"
   },
   {
    "duration": 4,
    "start_time": "2021-06-19T15:17:16.037Z"
   },
   {
    "duration": 7,
    "start_time": "2021-06-19T15:20:11.021Z"
   },
   {
    "duration": 6,
    "start_time": "2021-06-19T15:20:27.186Z"
   },
   {
    "duration": 5,
    "start_time": "2021-06-19T15:21:50.442Z"
   },
   {
    "duration": 5,
    "start_time": "2021-06-19T15:21:58.006Z"
   },
   {
    "duration": 6,
    "start_time": "2021-06-19T15:22:11.814Z"
   },
   {
    "duration": 1486,
    "start_time": "2021-06-19T15:22:19.703Z"
   },
   {
    "duration": 89,
    "start_time": "2021-06-19T15:22:21.192Z"
   },
   {
    "duration": 17,
    "start_time": "2021-06-19T15:22:21.285Z"
   },
   {
    "duration": 9,
    "start_time": "2021-06-19T15:22:21.305Z"
   },
   {
    "duration": 20,
    "start_time": "2021-06-19T15:22:21.317Z"
   },
   {
    "duration": 14,
    "start_time": "2021-06-19T15:22:21.340Z"
   },
   {
    "duration": 19,
    "start_time": "2021-06-19T15:22:21.356Z"
   },
   {
    "duration": 39,
    "start_time": "2021-06-19T15:22:21.379Z"
   },
   {
    "duration": 6,
    "start_time": "2021-06-19T15:22:21.421Z"
   },
   {
    "duration": 11,
    "start_time": "2021-06-19T15:22:21.429Z"
   },
   {
    "duration": 14,
    "start_time": "2021-06-19T15:22:21.442Z"
   },
   {
    "duration": 50,
    "start_time": "2021-06-19T15:22:21.459Z"
   },
   {
    "duration": 8,
    "start_time": "2021-06-19T15:22:21.511Z"
   },
   {
    "duration": 15,
    "start_time": "2021-06-19T15:22:21.522Z"
   },
   {
    "duration": 18,
    "start_time": "2021-06-19T15:22:21.540Z"
   },
   {
    "duration": 8,
    "start_time": "2021-06-19T15:22:21.561Z"
   },
   {
    "duration": 69,
    "start_time": "2021-06-19T15:22:21.572Z"
   },
   {
    "duration": 3,
    "start_time": "2021-06-19T15:22:21.644Z"
   },
   {
    "duration": 27,
    "start_time": "2021-06-19T15:22:21.650Z"
   },
   {
    "duration": 524,
    "start_time": "2021-06-19T15:22:21.680Z"
   },
   {
    "duration": 21,
    "start_time": "2021-06-19T15:22:22.210Z"
   },
   {
    "duration": 465,
    "start_time": "2021-06-19T15:22:22.234Z"
   },
   {
    "duration": 9,
    "start_time": "2021-06-19T15:23:24.679Z"
   },
   {
    "duration": 12,
    "start_time": "2021-06-19T15:30:24.904Z"
   },
   {
    "duration": 5,
    "start_time": "2021-06-19T15:31:17.888Z"
   },
   {
    "duration": 1463,
    "start_time": "2021-06-19T15:31:48.429Z"
   },
   {
    "duration": 86,
    "start_time": "2021-06-19T15:31:49.894Z"
   },
   {
    "duration": 14,
    "start_time": "2021-06-19T15:31:49.983Z"
   },
   {
    "duration": 12,
    "start_time": "2021-06-19T15:31:50.000Z"
   },
   {
    "duration": 17,
    "start_time": "2021-06-19T15:31:50.015Z"
   },
   {
    "duration": 10,
    "start_time": "2021-06-19T15:31:50.034Z"
   },
   {
    "duration": 6,
    "start_time": "2021-06-19T15:31:50.046Z"
   },
   {
    "duration": 17,
    "start_time": "2021-06-19T15:31:50.055Z"
   },
   {
    "duration": 39,
    "start_time": "2021-06-19T15:31:50.075Z"
   },
   {
    "duration": 16,
    "start_time": "2021-06-19T15:31:50.116Z"
   },
   {
    "duration": 14,
    "start_time": "2021-06-19T15:31:50.134Z"
   },
   {
    "duration": 9,
    "start_time": "2021-06-19T15:31:50.150Z"
   },
   {
    "duration": 6,
    "start_time": "2021-06-19T15:31:50.162Z"
   },
   {
    "duration": 47,
    "start_time": "2021-06-19T15:31:50.170Z"
   },
   {
    "duration": 14,
    "start_time": "2021-06-19T15:31:50.220Z"
   },
   {
    "duration": 10,
    "start_time": "2021-06-19T15:31:50.236Z"
   },
   {
    "duration": 70,
    "start_time": "2021-06-19T15:31:50.248Z"
   },
   {
    "duration": 12,
    "start_time": "2021-06-19T15:31:50.321Z"
   },
   {
    "duration": 25,
    "start_time": "2021-06-19T15:31:50.335Z"
   },
   {
    "duration": 495,
    "start_time": "2021-06-19T15:31:50.363Z"
   },
   {
    "duration": 19,
    "start_time": "2021-06-19T15:31:50.861Z"
   },
   {
    "duration": 477,
    "start_time": "2021-06-19T15:31:50.884Z"
   },
   {
    "duration": 12,
    "start_time": "2021-06-19T15:35:15.065Z"
   },
   {
    "duration": 7,
    "start_time": "2021-06-19T15:35:21.091Z"
   },
   {
    "duration": 474,
    "start_time": "2021-06-19T15:49:21.098Z"
   },
   {
    "duration": 20,
    "start_time": "2021-06-19T15:50:09.314Z"
   },
   {
    "duration": 14,
    "start_time": "2021-06-19T15:50:33.841Z"
   },
   {
    "duration": 10,
    "start_time": "2021-06-19T15:51:21.953Z"
   },
   {
    "duration": 394,
    "start_time": "2021-06-19T15:57:06.568Z"
   },
   {
    "duration": 33,
    "start_time": "2021-06-19T15:57:23.040Z"
   },
   {
    "duration": 32,
    "start_time": "2021-06-19T16:00:29.225Z"
   },
   {
    "duration": 33,
    "start_time": "2021-06-19T16:06:08.188Z"
   },
   {
    "duration": 33,
    "start_time": "2021-06-19T16:07:20.993Z"
   },
   {
    "duration": 33,
    "start_time": "2021-06-19T16:08:16.049Z"
   },
   {
    "duration": 31,
    "start_time": "2021-06-19T16:11:28.430Z"
   },
   {
    "duration": 39,
    "start_time": "2021-06-19T16:12:17.307Z"
   },
   {
    "duration": 32,
    "start_time": "2021-06-19T16:12:40.393Z"
   },
   {
    "duration": 33,
    "start_time": "2021-06-19T16:12:52.568Z"
   },
   {
    "duration": 33,
    "start_time": "2021-06-19T16:13:26.287Z"
   },
   {
    "duration": 100,
    "start_time": "2021-06-19T16:35:24.645Z"
   },
   {
    "duration": 1151,
    "start_time": "2021-06-19T16:35:31.375Z"
   },
   {
    "duration": 1978,
    "start_time": "2021-06-19T16:35:59.129Z"
   },
   {
    "duration": 1304,
    "start_time": "2021-06-19T16:37:42.285Z"
   },
   {
    "duration": 1201,
    "start_time": "2021-06-19T16:38:20.279Z"
   },
   {
    "duration": 1616,
    "start_time": "2021-06-19T16:41:21.413Z"
   },
   {
    "duration": 1449,
    "start_time": "2021-06-19T16:43:56.200Z"
   },
   {
    "duration": 1429,
    "start_time": "2021-06-19T16:44:43.359Z"
   },
   {
    "duration": 89,
    "start_time": "2021-06-19T16:44:44.791Z"
   },
   {
    "duration": 15,
    "start_time": "2021-06-19T16:44:44.883Z"
   },
   {
    "duration": 8,
    "start_time": "2021-06-19T16:44:44.901Z"
   },
   {
    "duration": 16,
    "start_time": "2021-06-19T16:44:44.911Z"
   },
   {
    "duration": 8,
    "start_time": "2021-06-19T16:44:44.930Z"
   },
   {
    "duration": 5,
    "start_time": "2021-06-19T16:44:44.940Z"
   },
   {
    "duration": 13,
    "start_time": "2021-06-19T16:44:44.949Z"
   },
   {
    "duration": 47,
    "start_time": "2021-06-19T16:44:44.965Z"
   },
   {
    "duration": 22,
    "start_time": "2021-06-19T16:44:45.014Z"
   },
   {
    "duration": 17,
    "start_time": "2021-06-19T16:44:45.038Z"
   },
   {
    "duration": 8,
    "start_time": "2021-06-19T16:44:45.057Z"
   },
   {
    "duration": 8,
    "start_time": "2021-06-19T16:44:45.068Z"
   },
   {
    "duration": 37,
    "start_time": "2021-06-19T16:44:45.078Z"
   },
   {
    "duration": 10,
    "start_time": "2021-06-19T16:44:45.118Z"
   },
   {
    "duration": 8,
    "start_time": "2021-06-19T16:44:45.130Z"
   },
   {
    "duration": 77,
    "start_time": "2021-06-19T16:44:45.141Z"
   },
   {
    "duration": 12,
    "start_time": "2021-06-19T16:44:45.220Z"
   },
   {
    "duration": 32,
    "start_time": "2021-06-19T16:44:45.235Z"
   },
   {
    "duration": 49,
    "start_time": "2021-06-19T16:44:45.270Z"
   },
   {
    "duration": 482,
    "start_time": "2021-06-19T16:44:45.322Z"
   },
   {
    "duration": 21,
    "start_time": "2021-06-19T16:44:45.806Z"
   },
   {
    "duration": 468,
    "start_time": "2021-06-19T16:44:45.832Z"
   },
   {
    "duration": 1705,
    "start_time": "2021-06-19T16:44:46.303Z"
   },
   {
    "duration": 1590,
    "start_time": "2021-06-19T16:47:34.165Z"
   },
   {
    "duration": 85,
    "start_time": "2021-06-19T16:47:35.757Z"
   },
   {
    "duration": 14,
    "start_time": "2021-06-19T16:47:35.846Z"
   },
   {
    "duration": 10,
    "start_time": "2021-06-19T16:47:35.863Z"
   },
   {
    "duration": 23,
    "start_time": "2021-06-19T16:47:35.876Z"
   },
   {
    "duration": 9,
    "start_time": "2021-06-19T16:47:35.908Z"
   },
   {
    "duration": 9,
    "start_time": "2021-06-19T16:47:35.919Z"
   },
   {
    "duration": 15,
    "start_time": "2021-06-19T16:47:35.931Z"
   },
   {
    "duration": 5,
    "start_time": "2021-06-19T16:47:35.950Z"
   },
   {
    "duration": 21,
    "start_time": "2021-06-19T16:47:35.957Z"
   },
   {
    "duration": 14,
    "start_time": "2021-06-19T16:47:36.010Z"
   },
   {
    "duration": 9,
    "start_time": "2021-06-19T16:47:36.027Z"
   },
   {
    "duration": 15,
    "start_time": "2021-06-19T16:47:36.038Z"
   },
   {
    "duration": 15,
    "start_time": "2021-06-19T16:47:36.055Z"
   },
   {
    "duration": 42,
    "start_time": "2021-06-19T16:47:36.072Z"
   },
   {
    "duration": 16,
    "start_time": "2021-06-19T16:47:36.116Z"
   },
   {
    "duration": 45,
    "start_time": "2021-06-19T16:47:36.134Z"
   },
   {
    "duration": 34,
    "start_time": "2021-06-19T16:47:36.181Z"
   },
   {
    "duration": 46,
    "start_time": "2021-06-19T16:47:36.218Z"
   },
   {
    "duration": 21,
    "start_time": "2021-06-19T16:47:36.267Z"
   },
   {
    "duration": 507,
    "start_time": "2021-06-19T16:47:36.291Z"
   },
   {
    "duration": 25,
    "start_time": "2021-06-19T16:47:36.800Z"
   },
   {
    "duration": 580,
    "start_time": "2021-06-19T16:47:36.830Z"
   },
   {
    "duration": 1550,
    "start_time": "2021-06-19T16:47:37.413Z"
   },
   {
    "duration": 1593,
    "start_time": "2021-06-19T16:49:23.668Z"
   },
   {
    "duration": 1517,
    "start_time": "2021-06-19T16:55:36.174Z"
   },
   {
    "duration": 84,
    "start_time": "2021-06-19T16:55:37.694Z"
   },
   {
    "duration": 16,
    "start_time": "2021-06-19T16:55:37.782Z"
   },
   {
    "duration": 9,
    "start_time": "2021-06-19T16:55:37.801Z"
   },
   {
    "duration": 22,
    "start_time": "2021-06-19T16:55:37.812Z"
   },
   {
    "duration": 10,
    "start_time": "2021-06-19T16:55:37.836Z"
   },
   {
    "duration": 5,
    "start_time": "2021-06-19T16:55:37.849Z"
   },
   {
    "duration": 12,
    "start_time": "2021-06-19T16:55:37.858Z"
   },
   {
    "duration": 39,
    "start_time": "2021-06-19T16:55:37.873Z"
   },
   {
    "duration": 13,
    "start_time": "2021-06-19T16:55:37.915Z"
   },
   {
    "duration": 14,
    "start_time": "2021-06-19T16:55:37.930Z"
   },
   {
    "duration": 8,
    "start_time": "2021-06-19T16:55:37.947Z"
   },
   {
    "duration": 6,
    "start_time": "2021-06-19T16:55:37.957Z"
   },
   {
    "duration": 9,
    "start_time": "2021-06-19T16:55:38.010Z"
   },
   {
    "duration": 15,
    "start_time": "2021-06-19T16:55:38.022Z"
   },
   {
    "duration": 8,
    "start_time": "2021-06-19T16:55:38.039Z"
   },
   {
    "duration": 69,
    "start_time": "2021-06-19T16:55:38.050Z"
   },
   {
    "duration": 12,
    "start_time": "2021-06-19T16:55:38.122Z"
   },
   {
    "duration": 33,
    "start_time": "2021-06-19T16:55:38.136Z"
   },
   {
    "duration": 51,
    "start_time": "2021-06-19T16:55:38.171Z"
   },
   {
    "duration": 495,
    "start_time": "2021-06-19T16:55:38.225Z"
   },
   {
    "duration": 20,
    "start_time": "2021-06-19T16:55:38.723Z"
   },
   {
    "duration": 464,
    "start_time": "2021-06-19T16:55:38.748Z"
   },
   {
    "duration": 1680,
    "start_time": "2021-06-19T16:55:39.215Z"
   },
   {
    "duration": 1442,
    "start_time": "2021-06-19T16:55:49.506Z"
   },
   {
    "duration": 1626,
    "start_time": "2021-06-19T17:00:12.036Z"
   },
   {
    "duration": 14,
    "start_time": "2021-06-19T17:01:39.845Z"
   },
   {
    "duration": 1399,
    "start_time": "2021-06-19T17:02:03.446Z"
   },
   {
    "duration": 1474,
    "start_time": "2021-06-19T17:02:53.894Z"
   },
   {
    "duration": 1553,
    "start_time": "2021-06-19T17:03:33.611Z"
   },
   {
    "duration": 1579,
    "start_time": "2021-06-19T17:10:01.316Z"
   },
   {
    "duration": 90,
    "start_time": "2021-06-19T17:10:02.898Z"
   },
   {
    "duration": 488,
    "start_time": "2021-06-19T17:10:02.992Z"
   },
   {
    "duration": 91,
    "start_time": "2021-06-19T17:10:03.483Z"
   },
   {
    "duration": 78,
    "start_time": "2021-06-19T17:10:03.577Z"
   },
   {
    "duration": 112,
    "start_time": "2021-06-19T17:10:03.658Z"
   },
   {
    "duration": 53,
    "start_time": "2021-06-19T17:10:03.773Z"
   },
   {
    "duration": 26,
    "start_time": "2021-06-19T17:10:03.830Z"
   },
   {
    "duration": 36,
    "start_time": "2021-06-19T17:10:03.859Z"
   },
   {
    "duration": 26,
    "start_time": "2021-06-19T17:10:03.897Z"
   },
   {
    "duration": 21,
    "start_time": "2021-06-19T17:10:03.926Z"
   },
   {
    "duration": 21,
    "start_time": "2021-06-19T17:10:03.950Z"
   },
   {
    "duration": 28,
    "start_time": "2021-06-19T17:10:03.974Z"
   },
   {
    "duration": 34,
    "start_time": "2021-06-19T17:10:04.005Z"
   },
   {
    "duration": 34,
    "start_time": "2021-06-19T17:10:04.043Z"
   },
   {
    "duration": 27,
    "start_time": "2021-06-19T17:10:04.080Z"
   },
   {
    "duration": 71,
    "start_time": "2021-06-19T17:10:04.110Z"
   },
   {
    "duration": 13,
    "start_time": "2021-06-19T17:10:04.184Z"
   },
   {
    "duration": 48,
    "start_time": "2021-06-19T17:10:04.201Z"
   },
   {
    "duration": 25,
    "start_time": "2021-06-19T17:10:04.252Z"
   },
   {
    "duration": 477,
    "start_time": "2021-06-19T17:10:04.280Z"
   },
   {
    "duration": 22,
    "start_time": "2021-06-19T17:10:04.760Z"
   },
   {
    "duration": 467,
    "start_time": "2021-06-19T17:10:04.809Z"
   },
   {
    "duration": 1707,
    "start_time": "2021-06-19T17:10:05.278Z"
   },
   {
    "duration": 1829,
    "start_time": "2021-06-19T17:10:05.158Z"
   },
   {
    "duration": 1513,
    "start_time": "2021-06-19T17:21:31.532Z"
   },
   {
    "duration": 1158,
    "start_time": "2021-06-19T17:21:45.278Z"
   },
   {
    "duration": 1544,
    "start_time": "2021-06-19T17:31:38.308Z"
   },
   {
    "duration": 1526,
    "start_time": "2021-06-19T17:32:02.868Z"
   },
   {
    "duration": 87,
    "start_time": "2021-06-19T17:32:04.397Z"
   },
   {
    "duration": 16,
    "start_time": "2021-06-19T17:32:04.486Z"
   },
   {
    "duration": 12,
    "start_time": "2021-06-19T17:32:04.504Z"
   },
   {
    "duration": 18,
    "start_time": "2021-06-19T17:32:04.519Z"
   },
   {
    "duration": 9,
    "start_time": "2021-06-19T17:32:04.539Z"
   },
   {
    "duration": 4,
    "start_time": "2021-06-19T17:32:04.551Z"
   },
   {
    "duration": 19,
    "start_time": "2021-06-19T17:32:04.559Z"
   },
   {
    "duration": 32,
    "start_time": "2021-06-19T17:32:04.581Z"
   },
   {
    "duration": 19,
    "start_time": "2021-06-19T17:32:04.615Z"
   },
   {
    "duration": 15,
    "start_time": "2021-06-19T17:32:04.636Z"
   },
   {
    "duration": 7,
    "start_time": "2021-06-19T17:32:04.654Z"
   },
   {
    "duration": 45,
    "start_time": "2021-06-19T17:32:04.664Z"
   },
   {
    "duration": 9,
    "start_time": "2021-06-19T17:32:04.711Z"
   },
   {
    "duration": 19,
    "start_time": "2021-06-19T17:32:04.722Z"
   },
   {
    "duration": 19,
    "start_time": "2021-06-19T17:32:04.744Z"
   },
   {
    "duration": 66,
    "start_time": "2021-06-19T17:32:04.765Z"
   },
   {
    "duration": 12,
    "start_time": "2021-06-19T17:32:04.833Z"
   },
   {
    "duration": 31,
    "start_time": "2021-06-19T17:32:04.847Z"
   },
   {
    "duration": 48,
    "start_time": "2021-06-19T17:32:04.880Z"
   },
   {
    "duration": 501,
    "start_time": "2021-06-19T17:32:04.931Z"
   },
   {
    "duration": 20,
    "start_time": "2021-06-19T17:32:05.434Z"
   },
   {
    "duration": 565,
    "start_time": "2021-06-19T17:32:05.458Z"
   },
   {
    "duration": 1817,
    "start_time": "2021-06-19T17:32:06.025Z"
   },
   {
    "duration": 1541,
    "start_time": "2021-06-19T17:33:03.968Z"
   },
   {
    "duration": 95,
    "start_time": "2021-06-19T17:33:05.512Z"
   },
   {
    "duration": 22,
    "start_time": "2021-06-19T17:33:05.611Z"
   },
   {
    "duration": 14,
    "start_time": "2021-06-19T17:33:05.637Z"
   },
   {
    "duration": 27,
    "start_time": "2021-06-19T17:33:05.654Z"
   },
   {
    "duration": 42,
    "start_time": "2021-06-19T17:33:05.683Z"
   },
   {
    "duration": 16,
    "start_time": "2021-06-19T17:33:05.728Z"
   },
   {
    "duration": 18,
    "start_time": "2021-06-19T17:33:05.748Z"
   },
   {
    "duration": 18,
    "start_time": "2021-06-19T17:33:05.770Z"
   },
   {
    "duration": 19,
    "start_time": "2021-06-19T17:33:05.791Z"
   },
   {
    "duration": 16,
    "start_time": "2021-06-19T17:33:05.813Z"
   },
   {
    "duration": 11,
    "start_time": "2021-06-19T17:33:05.832Z"
   },
   {
    "duration": 17,
    "start_time": "2021-06-19T17:33:05.846Z"
   },
   {
    "duration": 23,
    "start_time": "2021-06-19T17:33:05.866Z"
   },
   {
    "duration": 26,
    "start_time": "2021-06-19T17:33:05.892Z"
   },
   {
    "duration": 17,
    "start_time": "2021-06-19T17:33:05.921Z"
   },
   {
    "duration": 69,
    "start_time": "2021-06-19T17:33:05.941Z"
   },
   {
    "duration": 14,
    "start_time": "2021-06-19T17:33:06.014Z"
   },
   {
    "duration": 33,
    "start_time": "2021-06-19T17:33:06.032Z"
   },
   {
    "duration": 58,
    "start_time": "2021-06-19T17:33:06.068Z"
   },
   {
    "duration": 516,
    "start_time": "2021-06-19T17:33:06.129Z"
   },
   {
    "duration": 21,
    "start_time": "2021-06-19T17:33:06.648Z"
   },
   {
    "duration": 492,
    "start_time": "2021-06-19T17:33:06.673Z"
   },
   {
    "duration": 1801,
    "start_time": "2021-06-19T17:33:07.168Z"
   },
   {
    "duration": 1994,
    "start_time": "2021-06-19T17:37:26.087Z"
   },
   {
    "duration": -121,
    "start_time": "2021-06-19T17:37:28.206Z"
   },
   {
    "duration": -130,
    "start_time": "2021-06-19T17:37:28.216Z"
   },
   {
    "duration": -139,
    "start_time": "2021-06-19T17:37:28.227Z"
   },
   {
    "duration": -146,
    "start_time": "2021-06-19T17:37:28.235Z"
   },
   {
    "duration": -148,
    "start_time": "2021-06-19T17:37:28.238Z"
   },
   {
    "duration": -150,
    "start_time": "2021-06-19T17:37:28.243Z"
   },
   {
    "duration": -152,
    "start_time": "2021-06-19T17:37:28.247Z"
   },
   {
    "duration": -154,
    "start_time": "2021-06-19T17:37:28.251Z"
   },
   {
    "duration": -156,
    "start_time": "2021-06-19T17:37:28.255Z"
   },
   {
    "duration": -158,
    "start_time": "2021-06-19T17:37:28.259Z"
   },
   {
    "duration": -161,
    "start_time": "2021-06-19T17:37:28.263Z"
   },
   {
    "duration": -163,
    "start_time": "2021-06-19T17:37:28.267Z"
   },
   {
    "duration": -164,
    "start_time": "2021-06-19T17:37:28.270Z"
   },
   {
    "duration": -168,
    "start_time": "2021-06-19T17:37:28.276Z"
   },
   {
    "duration": -170,
    "start_time": "2021-06-19T17:37:28.279Z"
   },
   {
    "duration": -172,
    "start_time": "2021-06-19T17:37:28.283Z"
   },
   {
    "duration": -174,
    "start_time": "2021-06-19T17:37:28.286Z"
   },
   {
    "duration": -176,
    "start_time": "2021-06-19T17:37:28.290Z"
   },
   {
    "duration": -178,
    "start_time": "2021-06-19T17:37:28.294Z"
   },
   {
    "duration": -189,
    "start_time": "2021-06-19T17:37:28.306Z"
   },
   {
    "duration": -192,
    "start_time": "2021-06-19T17:37:28.310Z"
   },
   {
    "duration": -198,
    "start_time": "2021-06-19T17:37:28.317Z"
   },
   {
    "duration": -200,
    "start_time": "2021-06-19T17:37:28.321Z"
   },
   {
    "duration": 1454,
    "start_time": "2021-06-19T17:37:55.357Z"
   },
   {
    "duration": 72,
    "start_time": "2021-06-19T17:37:56.814Z"
   },
   {
    "duration": 16,
    "start_time": "2021-06-19T17:37:56.889Z"
   },
   {
    "duration": 11,
    "start_time": "2021-06-19T17:37:56.908Z"
   },
   {
    "duration": 23,
    "start_time": "2021-06-19T17:37:56.922Z"
   },
   {
    "duration": 9,
    "start_time": "2021-06-19T17:37:56.949Z"
   },
   {
    "duration": 15,
    "start_time": "2021-06-19T17:37:56.961Z"
   },
   {
    "duration": 39,
    "start_time": "2021-06-19T17:37:56.979Z"
   },
   {
    "duration": 11,
    "start_time": "2021-06-19T17:37:57.021Z"
   },
   {
    "duration": 20,
    "start_time": "2021-06-19T17:37:57.035Z"
   },
   {
    "duration": 32,
    "start_time": "2021-06-19T17:37:57.058Z"
   },
   {
    "duration": 7,
    "start_time": "2021-06-19T17:37:57.093Z"
   },
   {
    "duration": 6,
    "start_time": "2021-06-19T17:37:57.110Z"
   },
   {
    "duration": 23,
    "start_time": "2021-06-19T17:37:57.119Z"
   },
   {
    "duration": 17,
    "start_time": "2021-06-19T17:37:57.145Z"
   },
   {
    "duration": 13,
    "start_time": "2021-06-19T17:37:57.165Z"
   },
   {
    "duration": 68,
    "start_time": "2021-06-19T17:37:57.181Z"
   },
   {
    "duration": 13,
    "start_time": "2021-06-19T17:37:57.253Z"
   },
   {
    "duration": 59,
    "start_time": "2021-06-19T17:37:57.270Z"
   },
   {
    "duration": 32,
    "start_time": "2021-06-19T17:37:57.332Z"
   },
   {
    "duration": 505,
    "start_time": "2021-06-19T17:37:57.367Z"
   },
   {
    "duration": 21,
    "start_time": "2021-06-19T17:37:57.875Z"
   },
   {
    "duration": 473,
    "start_time": "2021-06-19T17:37:57.910Z"
   },
   {
    "duration": 1651,
    "start_time": "2021-06-19T17:37:58.386Z"
   },
   {
    "duration": 1474,
    "start_time": "2021-06-19T17:53:58.124Z"
   },
   {
    "duration": 90,
    "start_time": "2021-06-19T17:53:59.601Z"
   },
   {
    "duration": 15,
    "start_time": "2021-06-19T17:53:59.694Z"
   },
   {
    "duration": 13,
    "start_time": "2021-06-19T17:53:59.712Z"
   },
   {
    "duration": 16,
    "start_time": "2021-06-19T17:53:59.727Z"
   },
   {
    "duration": 17,
    "start_time": "2021-06-19T17:53:59.745Z"
   },
   {
    "duration": 5,
    "start_time": "2021-06-19T17:53:59.765Z"
   },
   {
    "duration": 41,
    "start_time": "2021-06-19T17:53:59.774Z"
   },
   {
    "duration": 7,
    "start_time": "2021-06-19T17:53:59.818Z"
   },
   {
    "duration": 16,
    "start_time": "2021-06-19T17:53:59.827Z"
   },
   {
    "duration": 28,
    "start_time": "2021-06-19T17:53:59.845Z"
   },
   {
    "duration": 9,
    "start_time": "2021-06-19T17:53:59.875Z"
   },
   {
    "duration": 25,
    "start_time": "2021-06-19T17:53:59.887Z"
   },
   {
    "duration": 31,
    "start_time": "2021-06-19T17:53:59.915Z"
   },
   {
    "duration": 15,
    "start_time": "2021-06-19T17:53:59.949Z"
   },
   {
    "duration": 14,
    "start_time": "2021-06-19T17:53:59.967Z"
   },
   {
    "duration": 56,
    "start_time": "2021-06-19T17:53:59.983Z"
   },
   {
    "duration": 12,
    "start_time": "2021-06-19T17:54:00.041Z"
   },
   {
    "duration": 54,
    "start_time": "2021-06-19T17:54:00.056Z"
   },
   {
    "duration": 22,
    "start_time": "2021-06-19T17:54:00.112Z"
   },
   {
    "duration": 493,
    "start_time": "2021-06-19T17:54:00.136Z"
   },
   {
    "duration": 20,
    "start_time": "2021-06-19T17:54:00.631Z"
   },
   {
    "duration": 483,
    "start_time": "2021-06-19T17:54:00.655Z"
   },
   {
    "duration": 1700,
    "start_time": "2021-06-19T17:54:01.140Z"
   },
   {
    "duration": 1439,
    "start_time": "2021-06-19T17:54:38.853Z"
   },
   {
    "duration": 84,
    "start_time": "2021-06-19T17:54:40.295Z"
   },
   {
    "duration": 15,
    "start_time": "2021-06-19T17:54:40.382Z"
   },
   {
    "duration": 8,
    "start_time": "2021-06-19T17:54:40.401Z"
   },
   {
    "duration": 15,
    "start_time": "2021-06-19T17:54:40.412Z"
   },
   {
    "duration": 10,
    "start_time": "2021-06-19T17:54:40.429Z"
   },
   {
    "duration": 10,
    "start_time": "2021-06-19T17:54:40.441Z"
   },
   {
    "duration": 12,
    "start_time": "2021-06-19T17:54:40.454Z"
   },
   {
    "duration": 48,
    "start_time": "2021-06-19T17:54:40.469Z"
   },
   {
    "duration": 13,
    "start_time": "2021-06-19T17:54:40.520Z"
   },
   {
    "duration": 35,
    "start_time": "2021-06-19T17:54:40.535Z"
   },
   {
    "duration": 10,
    "start_time": "2021-06-19T17:54:40.573Z"
   },
   {
    "duration": 6,
    "start_time": "2021-06-19T17:54:40.586Z"
   },
   {
    "duration": 8,
    "start_time": "2021-06-19T17:54:40.610Z"
   },
   {
    "duration": 9,
    "start_time": "2021-06-19T17:54:40.621Z"
   },
   {
    "duration": 8,
    "start_time": "2021-06-19T17:54:40.633Z"
   },
   {
    "duration": 76,
    "start_time": "2021-06-19T17:54:40.643Z"
   },
   {
    "duration": 11,
    "start_time": "2021-06-19T17:54:40.722Z"
   },
   {
    "duration": 31,
    "start_time": "2021-06-19T17:54:40.735Z"
   },
   {
    "duration": 48,
    "start_time": "2021-06-19T17:54:40.768Z"
   },
   {
    "duration": 482,
    "start_time": "2021-06-19T17:54:40.818Z"
   },
   {
    "duration": 25,
    "start_time": "2021-06-19T17:54:41.302Z"
   },
   {
    "duration": 476,
    "start_time": "2021-06-19T17:54:41.333Z"
   },
   {
    "duration": 1952,
    "start_time": "2021-06-19T17:54:41.812Z"
   },
   {
    "duration": 1514,
    "start_time": "2021-06-19T17:55:17.770Z"
   },
   {
    "duration": 1867,
    "start_time": "2021-06-19T17:56:55.058Z"
   },
   {
    "duration": 1771,
    "start_time": "2021-06-19T17:59:23.322Z"
   },
   {
    "duration": 1577,
    "start_time": "2021-06-19T18:00:16.878Z"
   },
   {
    "duration": 82,
    "start_time": "2021-06-19T18:00:18.457Z"
   },
   {
    "duration": 15,
    "start_time": "2021-06-19T18:00:18.542Z"
   },
   {
    "duration": 12,
    "start_time": "2021-06-19T18:00:18.560Z"
   },
   {
    "duration": 18,
    "start_time": "2021-06-19T18:00:18.574Z"
   },
   {
    "duration": 19,
    "start_time": "2021-06-19T18:00:18.595Z"
   },
   {
    "duration": 6,
    "start_time": "2021-06-19T18:00:18.616Z"
   },
   {
    "duration": 12,
    "start_time": "2021-06-19T18:00:18.627Z"
   },
   {
    "duration": 5,
    "start_time": "2021-06-19T18:00:18.642Z"
   },
   {
    "duration": 21,
    "start_time": "2021-06-19T18:00:18.649Z"
   },
   {
    "duration": 48,
    "start_time": "2021-06-19T18:00:18.672Z"
   },
   {
    "duration": 10,
    "start_time": "2021-06-19T18:00:18.722Z"
   },
   {
    "duration": 12,
    "start_time": "2021-06-19T18:00:18.734Z"
   },
   {
    "duration": 10,
    "start_time": "2021-06-19T18:00:18.748Z"
   },
   {
    "duration": 11,
    "start_time": "2021-06-19T18:00:18.760Z"
   },
   {
    "duration": 39,
    "start_time": "2021-06-19T18:00:18.774Z"
   },
   {
    "duration": 37,
    "start_time": "2021-06-19T18:00:18.816Z"
   },
   {
    "duration": 11,
    "start_time": "2021-06-19T18:00:18.855Z"
   },
   {
    "duration": 60,
    "start_time": "2021-06-19T18:00:18.868Z"
   },
   {
    "duration": 39,
    "start_time": "2021-06-19T18:00:18.930Z"
   },
   {
    "duration": 496,
    "start_time": "2021-06-19T18:00:18.972Z"
   },
   {
    "duration": 21,
    "start_time": "2021-06-19T18:00:19.470Z"
   },
   {
    "duration": 463,
    "start_time": "2021-06-19T18:00:19.512Z"
   },
   {
    "duration": 5892,
    "start_time": "2021-06-19T18:00:19.978Z"
   },
   {
    "duration": 119,
    "start_time": "2021-06-19T18:06:41.300Z"
   },
   {
    "duration": 117,
    "start_time": "2021-06-19T18:06:58.353Z"
   },
   {
    "duration": 132,
    "start_time": "2021-06-19T18:07:32.494Z"
   },
   {
    "duration": 331,
    "start_time": "2021-06-19T18:21:53.132Z"
   },
   {
    "duration": 877,
    "start_time": "2021-06-19T18:23:48.230Z"
   },
   {
    "duration": 734,
    "start_time": "2021-06-19T18:24:00.089Z"
   },
   {
    "duration": 143,
    "start_time": "2021-06-19T18:24:13.432Z"
   },
   {
    "duration": 334,
    "start_time": "2021-06-19T18:24:37.864Z"
   },
   {
    "duration": 382,
    "start_time": "2021-06-19T18:26:22.274Z"
   },
   {
    "duration": 408,
    "start_time": "2021-06-19T18:27:03.464Z"
   },
   {
    "duration": 385,
    "start_time": "2021-06-19T18:28:03.839Z"
   },
   {
    "duration": 390,
    "start_time": "2021-06-19T18:28:51.715Z"
   },
   {
    "duration": 371,
    "start_time": "2021-06-19T18:29:49.587Z"
   },
   {
    "duration": 381,
    "start_time": "2021-06-19T18:30:30.354Z"
   },
   {
    "duration": 452,
    "start_time": "2021-06-19T18:31:11.005Z"
   },
   {
    "duration": 1540,
    "start_time": "2021-06-19T18:33:18.297Z"
   },
   {
    "duration": 1569,
    "start_time": "2021-06-19T18:34:19.604Z"
   },
   {
    "duration": 1558,
    "start_time": "2021-06-19T18:35:21.050Z"
   },
   {
    "duration": 1509,
    "start_time": "2021-06-19T18:36:21.131Z"
   },
   {
    "duration": 1579,
    "start_time": "2021-06-19T18:36:51.802Z"
   },
   {
    "duration": 2136,
    "start_time": "2021-06-19T18:38:00.675Z"
   },
   {
    "duration": 1430,
    "start_time": "2021-06-19T18:38:11.659Z"
   },
   {
    "duration": 82,
    "start_time": "2021-06-19T18:38:13.092Z"
   },
   {
    "duration": 17,
    "start_time": "2021-06-19T18:38:13.177Z"
   },
   {
    "duration": 9,
    "start_time": "2021-06-19T18:38:13.197Z"
   },
   {
    "duration": 19,
    "start_time": "2021-06-19T18:38:13.208Z"
   },
   {
    "duration": 12,
    "start_time": "2021-06-19T18:38:13.229Z"
   },
   {
    "duration": 6,
    "start_time": "2021-06-19T18:38:13.243Z"
   },
   {
    "duration": 12,
    "start_time": "2021-06-19T18:38:13.253Z"
   },
   {
    "duration": 43,
    "start_time": "2021-06-19T18:38:13.268Z"
   },
   {
    "duration": 8,
    "start_time": "2021-06-19T18:38:13.313Z"
   },
   {
    "duration": 13,
    "start_time": "2021-06-19T18:38:13.324Z"
   },
   {
    "duration": 8,
    "start_time": "2021-06-19T18:38:13.340Z"
   },
   {
    "duration": 8,
    "start_time": "2021-06-19T18:38:13.350Z"
   },
   {
    "duration": 52,
    "start_time": "2021-06-19T18:38:13.360Z"
   },
   {
    "duration": 14,
    "start_time": "2021-06-19T18:38:13.414Z"
   },
   {
    "duration": 22,
    "start_time": "2021-06-19T18:38:13.431Z"
   },
   {
    "duration": 53,
    "start_time": "2021-06-19T18:38:13.455Z"
   },
   {
    "duration": 11,
    "start_time": "2021-06-19T18:38:13.511Z"
   },
   {
    "duration": 31,
    "start_time": "2021-06-19T18:38:13.525Z"
   },
   {
    "duration": 52,
    "start_time": "2021-06-19T18:38:13.559Z"
   },
   {
    "duration": 480,
    "start_time": "2021-06-19T18:38:13.613Z"
   },
   {
    "duration": 30,
    "start_time": "2021-06-19T18:38:14.096Z"
   },
   {
    "duration": 479,
    "start_time": "2021-06-19T18:38:14.133Z"
   },
   {
    "duration": 1647,
    "start_time": "2021-06-19T18:38:14.615Z"
   },
   {
    "duration": -63,
    "start_time": "2021-06-19T18:38:16.327Z"
   },
   {
    "duration": 1911,
    "start_time": "2021-06-19T18:39:09.486Z"
   },
   {
    "duration": 1478,
    "start_time": "2021-06-19T18:39:19.855Z"
   },
   {
    "duration": 83,
    "start_time": "2021-06-19T18:39:21.335Z"
   },
   {
    "duration": 16,
    "start_time": "2021-06-19T18:39:21.421Z"
   },
   {
    "duration": 9,
    "start_time": "2021-06-19T18:39:21.441Z"
   },
   {
    "duration": 17,
    "start_time": "2021-06-19T18:39:21.452Z"
   },
   {
    "duration": 43,
    "start_time": "2021-06-19T18:39:21.472Z"
   },
   {
    "duration": 7,
    "start_time": "2021-06-19T18:39:21.517Z"
   },
   {
    "duration": 14,
    "start_time": "2021-06-19T18:39:21.530Z"
   },
   {
    "duration": 6,
    "start_time": "2021-06-19T18:39:21.549Z"
   },
   {
    "duration": 53,
    "start_time": "2021-06-19T18:39:21.558Z"
   },
   {
    "duration": 23,
    "start_time": "2021-06-19T18:39:21.614Z"
   },
   {
    "duration": 15,
    "start_time": "2021-06-19T18:39:21.640Z"
   },
   {
    "duration": 13,
    "start_time": "2021-06-19T18:39:21.658Z"
   },
   {
    "duration": 37,
    "start_time": "2021-06-19T18:39:21.674Z"
   },
   {
    "duration": 27,
    "start_time": "2021-06-19T18:39:21.713Z"
   },
   {
    "duration": 13,
    "start_time": "2021-06-19T18:39:21.742Z"
   },
   {
    "duration": 50,
    "start_time": "2021-06-19T18:39:21.758Z"
   },
   {
    "duration": 11,
    "start_time": "2021-06-19T18:39:21.810Z"
   },
   {
    "duration": 29,
    "start_time": "2021-06-19T18:39:21.823Z"
   },
   {
    "duration": 21,
    "start_time": "2021-06-19T18:39:21.854Z"
   },
   {
    "duration": 493,
    "start_time": "2021-06-19T18:39:21.910Z"
   },
   {
    "duration": 20,
    "start_time": "2021-06-19T18:39:22.409Z"
   },
   {
    "duration": 476,
    "start_time": "2021-06-19T18:39:22.433Z"
   },
   {
    "duration": 5674,
    "start_time": "2021-06-19T18:39:22.911Z"
   },
   {
    "duration": 490,
    "start_time": "2021-06-19T18:39:28.588Z"
   },
   {
    "duration": 1894,
    "start_time": "2021-06-19T18:40:02.359Z"
   },
   {
    "duration": 1632,
    "start_time": "2021-06-19T18:40:13.563Z"
   },
   {
    "duration": 1501,
    "start_time": "2021-06-19T18:40:23.498Z"
   },
   {
    "duration": 92,
    "start_time": "2021-06-19T18:40:25.002Z"
   },
   {
    "duration": 24,
    "start_time": "2021-06-19T18:40:25.098Z"
   },
   {
    "duration": 31,
    "start_time": "2021-06-19T18:40:25.124Z"
   },
   {
    "duration": 34,
    "start_time": "2021-06-19T18:40:25.158Z"
   },
   {
    "duration": 13,
    "start_time": "2021-06-19T18:40:25.195Z"
   },
   {
    "duration": 7,
    "start_time": "2021-06-19T18:40:25.210Z"
   },
   {
    "duration": 13,
    "start_time": "2021-06-19T18:40:25.221Z"
   },
   {
    "duration": 5,
    "start_time": "2021-06-19T18:40:25.238Z"
   },
   {
    "duration": 13,
    "start_time": "2021-06-19T18:40:25.246Z"
   },
   {
    "duration": 53,
    "start_time": "2021-06-19T18:40:25.262Z"
   },
   {
    "duration": 12,
    "start_time": "2021-06-19T18:40:25.318Z"
   },
   {
    "duration": 7,
    "start_time": "2021-06-19T18:40:25.332Z"
   },
   {
    "duration": 11,
    "start_time": "2021-06-19T18:40:25.342Z"
   },
   {
    "duration": 54,
    "start_time": "2021-06-19T18:40:25.355Z"
   },
   {
    "duration": 8,
    "start_time": "2021-06-19T18:40:25.412Z"
   },
   {
    "duration": 42,
    "start_time": "2021-06-19T18:40:25.423Z"
   },
   {
    "duration": 41,
    "start_time": "2021-06-19T18:40:25.468Z"
   },
   {
    "duration": 32,
    "start_time": "2021-06-19T18:40:25.513Z"
   },
   {
    "duration": 24,
    "start_time": "2021-06-19T18:40:25.548Z"
   },
   {
    "duration": 488,
    "start_time": "2021-06-19T18:40:25.609Z"
   },
   {
    "duration": 24,
    "start_time": "2021-06-19T18:40:26.099Z"
   },
   {
    "duration": 499,
    "start_time": "2021-06-19T18:40:26.127Z"
   },
   {
    "duration": 5874,
    "start_time": "2021-06-19T18:40:26.628Z"
   },
   {
    "duration": 464,
    "start_time": "2021-06-19T18:40:32.509Z"
   },
   {
    "duration": 1766,
    "start_time": "2021-06-19T18:48:13.997Z"
   },
   {
    "duration": 1589,
    "start_time": "2021-06-19T18:48:35.630Z"
   },
   {
    "duration": 1514,
    "start_time": "2021-06-19T18:48:42.774Z"
   },
   {
    "duration": 85,
    "start_time": "2021-06-19T18:48:44.290Z"
   },
   {
    "duration": 16,
    "start_time": "2021-06-19T18:48:44.382Z"
   },
   {
    "duration": 9,
    "start_time": "2021-06-19T18:48:44.400Z"
   },
   {
    "duration": 15,
    "start_time": "2021-06-19T18:48:44.412Z"
   },
   {
    "duration": 10,
    "start_time": "2021-06-19T18:48:44.430Z"
   },
   {
    "duration": 5,
    "start_time": "2021-06-19T18:48:44.444Z"
   },
   {
    "duration": 15,
    "start_time": "2021-06-19T18:48:44.452Z"
   },
   {
    "duration": 43,
    "start_time": "2021-06-19T18:48:44.469Z"
   },
   {
    "duration": 17,
    "start_time": "2021-06-19T18:48:44.514Z"
   },
   {
    "duration": 13,
    "start_time": "2021-06-19T18:48:44.533Z"
   },
   {
    "duration": 9,
    "start_time": "2021-06-19T18:48:44.549Z"
   },
   {
    "duration": 8,
    "start_time": "2021-06-19T18:48:44.560Z"
   },
   {
    "duration": 49,
    "start_time": "2021-06-19T18:48:44.570Z"
   },
   {
    "duration": 26,
    "start_time": "2021-06-19T18:48:44.621Z"
   },
   {
    "duration": 11,
    "start_time": "2021-06-19T18:48:44.649Z"
   },
   {
    "duration": 58,
    "start_time": "2021-06-19T18:48:44.663Z"
   },
   {
    "duration": 12,
    "start_time": "2021-06-19T18:48:44.723Z"
   },
   {
    "duration": 42,
    "start_time": "2021-06-19T18:48:44.737Z"
   },
   {
    "duration": 46,
    "start_time": "2021-06-19T18:48:44.782Z"
   },
   {
    "duration": 492,
    "start_time": "2021-06-19T18:48:44.830Z"
   },
   {
    "duration": 21,
    "start_time": "2021-06-19T18:48:45.328Z"
   },
   {
    "duration": 481,
    "start_time": "2021-06-19T18:48:45.351Z"
   },
   {
    "duration": 6176,
    "start_time": "2021-06-19T18:48:45.834Z"
   },
   {
    "duration": 484,
    "start_time": "2021-06-19T18:48:52.013Z"
   },
   {
    "duration": 462,
    "start_time": "2021-06-19T18:54:12.504Z"
   },
   {
    "duration": 1498,
    "start_time": "2021-06-19T18:56:02.898Z"
   },
   {
    "duration": 85,
    "start_time": "2021-06-19T18:56:04.399Z"
   },
   {
    "duration": 17,
    "start_time": "2021-06-19T18:56:04.489Z"
   },
   {
    "duration": 40,
    "start_time": "2021-06-19T18:56:04.510Z"
   },
   {
    "duration": 55,
    "start_time": "2021-06-19T18:56:04.554Z"
   },
   {
    "duration": 15,
    "start_time": "2021-06-19T18:56:04.612Z"
   },
   {
    "duration": 20,
    "start_time": "2021-06-19T18:56:04.630Z"
   },
   {
    "duration": 21,
    "start_time": "2021-06-19T18:56:04.654Z"
   },
   {
    "duration": 11,
    "start_time": "2021-06-19T18:56:04.678Z"
   },
   {
    "duration": 8,
    "start_time": "2021-06-19T18:56:04.708Z"
   },
   {
    "duration": 24,
    "start_time": "2021-06-19T18:56:04.719Z"
   },
   {
    "duration": 19,
    "start_time": "2021-06-19T18:56:04.746Z"
   },
   {
    "duration": 15,
    "start_time": "2021-06-19T18:56:04.768Z"
   },
   {
    "duration": 25,
    "start_time": "2021-06-19T18:56:04.786Z"
   },
   {
    "duration": 24,
    "start_time": "2021-06-19T18:56:04.813Z"
   },
   {
    "duration": 30,
    "start_time": "2021-06-19T18:56:04.840Z"
   },
   {
    "duration": 58,
    "start_time": "2021-06-19T18:56:04.872Z"
   },
   {
    "duration": 10,
    "start_time": "2021-06-19T18:56:04.932Z"
   },
   {
    "duration": 35,
    "start_time": "2021-06-19T18:56:04.945Z"
   },
   {
    "duration": 48,
    "start_time": "2021-06-19T18:56:04.982Z"
   },
   {
    "duration": 499,
    "start_time": "2021-06-19T18:56:05.033Z"
   },
   {
    "duration": 21,
    "start_time": "2021-06-19T18:56:05.534Z"
   },
   {
    "duration": 477,
    "start_time": "2021-06-19T18:56:05.560Z"
   },
   {
    "duration": 5937,
    "start_time": "2021-06-19T18:56:06.040Z"
   },
   {
    "duration": 105,
    "start_time": "2021-06-19T18:56:11.980Z"
   },
   {
    "duration": 807,
    "start_time": "2021-06-19T18:56:22.937Z"
   },
   {
    "duration": 629,
    "start_time": "2021-06-19T19:01:26.121Z"
   },
   {
    "duration": 648,
    "start_time": "2021-06-19T19:01:58.031Z"
   },
   {
    "duration": 519,
    "start_time": "2021-06-19T19:03:43.064Z"
   },
   {
    "duration": 599,
    "start_time": "2021-06-19T19:03:58.145Z"
   },
   {
    "duration": 86,
    "start_time": "2021-06-19T19:06:12.075Z"
   },
   {
    "duration": 12,
    "start_time": "2021-06-19T19:06:20.734Z"
   },
   {
    "duration": 9,
    "start_time": "2021-06-19T19:06:21.522Z"
   },
   {
    "duration": 15,
    "start_time": "2021-06-19T19:06:24.716Z"
   },
   {
    "duration": 9,
    "start_time": "2021-06-19T19:06:25.342Z"
   },
   {
    "duration": 5,
    "start_time": "2021-06-19T19:06:26.013Z"
   },
   {
    "duration": 9,
    "start_time": "2021-06-19T19:06:34.691Z"
   },
   {
    "duration": 9,
    "start_time": "2021-06-19T19:06:55.109Z"
   },
   {
    "duration": 12,
    "start_time": "2021-06-19T19:06:56.383Z"
   },
   {
    "duration": 6,
    "start_time": "2021-06-19T19:06:57.681Z"
   },
   {
    "duration": 9,
    "start_time": "2021-06-19T19:06:58.587Z"
   },
   {
    "duration": 5,
    "start_time": "2021-06-19T19:07:41.827Z"
   },
   {
    "duration": 12,
    "start_time": "2021-06-19T19:08:01.922Z"
   },
   {
    "duration": 1528,
    "start_time": "2021-06-19T19:08:28.102Z"
   },
   {
    "duration": 85,
    "start_time": "2021-06-19T19:08:29.633Z"
   },
   {
    "duration": 17,
    "start_time": "2021-06-19T19:08:29.722Z"
   },
   {
    "duration": 9,
    "start_time": "2021-06-19T19:08:29.742Z"
   },
   {
    "duration": 22,
    "start_time": "2021-06-19T19:08:29.754Z"
   },
   {
    "duration": 9,
    "start_time": "2021-06-19T19:08:29.809Z"
   },
   {
    "duration": 10,
    "start_time": "2021-06-19T19:08:29.820Z"
   },
   {
    "duration": 21,
    "start_time": "2021-06-19T19:08:29.833Z"
   },
   {
    "duration": 15,
    "start_time": "2021-06-19T19:08:29.857Z"
   },
   {
    "duration": 36,
    "start_time": "2021-06-19T19:08:29.874Z"
   },
   {
    "duration": 12,
    "start_time": "2021-06-19T19:08:29.913Z"
   },
   {
    "duration": 28,
    "start_time": "2021-06-19T19:08:29.928Z"
   },
   {
    "duration": 16,
    "start_time": "2021-06-19T19:08:29.959Z"
   },
   {
    "duration": 12,
    "start_time": "2021-06-19T19:08:29.977Z"
   },
   {
    "duration": 27,
    "start_time": "2021-06-19T19:08:29.992Z"
   },
   {
    "duration": 12,
    "start_time": "2021-06-19T19:08:30.021Z"
   },
   {
    "duration": 69,
    "start_time": "2021-06-19T19:08:30.036Z"
   },
   {
    "duration": 12,
    "start_time": "2021-06-19T19:08:30.108Z"
   },
   {
    "duration": 39,
    "start_time": "2021-06-19T19:08:30.122Z"
   },
   {
    "duration": 39,
    "start_time": "2021-06-19T19:08:30.163Z"
   },
   {
    "duration": 475,
    "start_time": "2021-06-19T19:08:30.204Z"
   },
   {
    "duration": 32,
    "start_time": "2021-06-19T19:08:30.681Z"
   },
   {
    "duration": 458,
    "start_time": "2021-06-19T19:08:30.717Z"
   },
   {
    "duration": 631,
    "start_time": "2021-06-19T19:08:31.178Z"
   },
   {
    "duration": 669,
    "start_time": "2021-06-19T19:08:31.811Z"
   },
   {
    "duration": 8,
    "start_time": "2021-06-19T19:11:25.341Z"
   },
   {
    "duration": 1427,
    "start_time": "2021-06-19T19:11:57.462Z"
   },
   {
    "duration": 85,
    "start_time": "2021-06-19T19:11:58.892Z"
   },
   {
    "duration": 15,
    "start_time": "2021-06-19T19:11:58.980Z"
   },
   {
    "duration": 8,
    "start_time": "2021-06-19T19:11:58.998Z"
   },
   {
    "duration": 18,
    "start_time": "2021-06-19T19:11:59.009Z"
   },
   {
    "duration": 9,
    "start_time": "2021-06-19T19:11:59.030Z"
   },
   {
    "duration": 7,
    "start_time": "2021-06-19T19:11:59.042Z"
   },
   {
    "duration": 15,
    "start_time": "2021-06-19T19:11:59.052Z"
   },
   {
    "duration": 6,
    "start_time": "2021-06-19T19:11:59.070Z"
   },
   {
    "duration": 37,
    "start_time": "2021-06-19T19:11:59.078Z"
   },
   {
    "duration": 15,
    "start_time": "2021-06-19T19:11:59.118Z"
   },
   {
    "duration": 8,
    "start_time": "2021-06-19T19:11:59.135Z"
   },
   {
    "duration": 7,
    "start_time": "2021-06-19T19:11:59.145Z"
   },
   {
    "duration": 57,
    "start_time": "2021-06-19T19:11:59.154Z"
   },
   {
    "duration": 11,
    "start_time": "2021-06-19T19:11:59.213Z"
   },
   {
    "duration": 16,
    "start_time": "2021-06-19T19:11:59.227Z"
   },
   {
    "duration": 74,
    "start_time": "2021-06-19T19:11:59.245Z"
   },
   {
    "duration": 12,
    "start_time": "2021-06-19T19:11:59.321Z"
   },
   {
    "duration": 32,
    "start_time": "2021-06-19T19:11:59.336Z"
   },
   {
    "duration": 50,
    "start_time": "2021-06-19T19:11:59.370Z"
   },
   {
    "duration": 515,
    "start_time": "2021-06-19T19:11:59.423Z"
   },
   {
    "duration": 28,
    "start_time": "2021-06-19T19:11:59.941Z"
   },
   {
    "duration": 487,
    "start_time": "2021-06-19T19:11:59.974Z"
   },
   {
    "duration": 633,
    "start_time": "2021-06-19T19:12:00.464Z"
   },
   {
    "duration": 619,
    "start_time": "2021-06-19T19:12:01.100Z"
   },
   {
    "duration": 607,
    "start_time": "2021-06-19T19:30:24.851Z"
   },
   {
    "duration": 553,
    "start_time": "2021-06-19T19:31:23.102Z"
   },
   {
    "duration": 480,
    "start_time": "2021-06-19T19:31:31.017Z"
   },
   {
    "duration": 423,
    "start_time": "2021-06-19T19:33:18.259Z"
   },
   {
    "duration": 483,
    "start_time": "2021-06-19T19:33:27.207Z"
   },
   {
    "duration": 404,
    "start_time": "2021-06-19T19:44:19.255Z"
   },
   {
    "duration": 516,
    "start_time": "2021-06-19T19:44:38.232Z"
   },
   {
    "duration": 570,
    "start_time": "2021-06-19T19:46:01.989Z"
   },
   {
    "duration": 361,
    "start_time": "2021-06-19T19:54:29.948Z"
   },
   {
    "duration": 466,
    "start_time": "2021-06-19T19:54:47.670Z"
   },
   {
    "duration": 448,
    "start_time": "2021-06-19T20:02:16.509Z"
   },
   {
    "duration": 595,
    "start_time": "2021-06-19T20:02:34.075Z"
   },
   {
    "duration": 445,
    "start_time": "2021-06-19T20:21:53.184Z"
   },
   {
    "duration": 6,
    "start_time": "2021-06-19T20:24:30.089Z"
   },
   {
    "duration": 7,
    "start_time": "2021-06-19T20:24:45.282Z"
   },
   {
    "duration": 6,
    "start_time": "2021-06-19T20:24:53.884Z"
   },
   {
    "duration": 6,
    "start_time": "2021-06-19T20:25:02.108Z"
   },
   {
    "duration": 6,
    "start_time": "2021-06-19T20:25:09.708Z"
   },
   {
    "duration": 501,
    "start_time": "2021-06-19T20:31:06.078Z"
   },
   {
    "duration": 558,
    "start_time": "2021-06-19T20:31:56.421Z"
   },
   {
    "duration": 474,
    "start_time": "2021-06-19T20:32:06.210Z"
   },
   {
    "duration": 613,
    "start_time": "2021-06-19T20:32:15.271Z"
   },
   {
    "duration": 7,
    "start_time": "2021-06-19T20:36:06.193Z"
   },
   {
    "duration": 454,
    "start_time": "2021-06-19T20:38:18.671Z"
   },
   {
    "duration": 6,
    "start_time": "2021-06-19T20:47:08.772Z"
   },
   {
    "duration": 465,
    "start_time": "2021-06-19T21:01:53.131Z"
   },
   {
    "duration": 464,
    "start_time": "2021-06-19T21:01:56.693Z"
   },
   {
    "duration": 558,
    "start_time": "2021-06-19T21:01:57.485Z"
   },
   {
    "duration": 461,
    "start_time": "2021-06-19T21:01:58.695Z"
   },
   {
    "duration": 522,
    "start_time": "2021-06-19T21:01:59.944Z"
   },
   {
    "duration": 481,
    "start_time": "2021-06-19T21:02:01.202Z"
   },
   {
    "duration": 6,
    "start_time": "2021-06-19T21:02:02.996Z"
   },
   {
    "duration": 479,
    "start_time": "2021-06-19T21:02:04.798Z"
   },
   {
    "duration": 7,
    "start_time": "2021-06-19T21:02:07.210Z"
   },
   {
    "duration": 635,
    "start_time": "2021-06-19T21:04:17.551Z"
   },
   {
    "duration": 121,
    "start_time": "2021-06-19T21:04:42.170Z"
   },
   {
    "duration": 57,
    "start_time": "2021-06-19T21:10:21.555Z"
   },
   {
    "duration": 58,
    "start_time": "2021-06-19T21:20:40.565Z"
   },
   {
    "duration": 57,
    "start_time": "2021-06-19T21:25:03.520Z"
   },
   {
    "duration": 54,
    "start_time": "2021-06-19T21:27:48.224Z"
   },
   {
    "duration": 57,
    "start_time": "2021-06-19T21:28:20.900Z"
   },
   {
    "duration": 16,
    "start_time": "2021-06-19T21:45:46.269Z"
   },
   {
    "duration": 312,
    "start_time": "2021-06-19T21:58:09.905Z"
   },
   {
    "duration": 3,
    "start_time": "2021-06-19T21:58:19.809Z"
   },
   {
    "duration": 14,
    "start_time": "2021-06-19T21:58:20.532Z"
   },
   {
    "duration": 17,
    "start_time": "2021-06-19T22:02:38.418Z"
   },
   {
    "duration": 17,
    "start_time": "2021-06-19T22:07:00.141Z"
   },
   {
    "duration": 22,
    "start_time": "2021-06-19T22:08:24.425Z"
   },
   {
    "duration": 1009,
    "start_time": "2021-06-20T07:39:17.226Z"
   },
   {
    "duration": 82,
    "start_time": "2021-06-20T07:39:18.237Z"
   },
   {
    "duration": 10,
    "start_time": "2021-06-20T07:39:18.321Z"
   },
   {
    "duration": 10,
    "start_time": "2021-06-20T07:39:18.333Z"
   },
   {
    "duration": 11,
    "start_time": "2021-06-20T07:39:18.345Z"
   },
   {
    "duration": 5,
    "start_time": "2021-06-20T07:39:18.357Z"
   },
   {
    "duration": 3,
    "start_time": "2021-06-20T07:39:18.364Z"
   },
   {
    "duration": 20,
    "start_time": "2021-06-20T07:39:18.370Z"
   },
   {
    "duration": 4,
    "start_time": "2021-06-20T07:39:18.391Z"
   },
   {
    "duration": 9,
    "start_time": "2021-06-20T07:39:18.397Z"
   },
   {
    "duration": 9,
    "start_time": "2021-06-20T07:39:18.407Z"
   },
   {
    "duration": 7,
    "start_time": "2021-06-20T07:39:18.418Z"
   },
   {
    "duration": 5,
    "start_time": "2021-06-20T07:39:18.427Z"
   },
   {
    "duration": 8,
    "start_time": "2021-06-20T07:39:18.433Z"
   },
   {
    "duration": 12,
    "start_time": "2021-06-20T07:39:18.442Z"
   },
   {
    "duration": 31,
    "start_time": "2021-06-20T07:39:18.455Z"
   },
   {
    "duration": 23,
    "start_time": "2021-06-20T07:39:18.487Z"
   },
   {
    "duration": 6,
    "start_time": "2021-06-20T07:39:18.512Z"
   },
   {
    "duration": 17,
    "start_time": "2021-06-20T07:39:18.520Z"
   },
   {
    "duration": 10,
    "start_time": "2021-06-20T07:39:18.539Z"
   },
   {
    "duration": 325,
    "start_time": "2021-06-20T07:39:18.550Z"
   },
   {
    "duration": 12,
    "start_time": "2021-06-20T07:39:18.884Z"
   },
   {
    "duration": 272,
    "start_time": "2021-06-20T07:39:18.899Z"
   },
   {
    "duration": 334,
    "start_time": "2021-06-20T07:39:19.184Z"
   },
   {
    "duration": 279,
    "start_time": "2021-06-20T07:39:19.520Z"
   },
   {
    "duration": 277,
    "start_time": "2021-06-20T07:39:19.800Z"
   },
   {
    "duration": 406,
    "start_time": "2021-06-20T07:39:20.079Z"
   },
   {
    "duration": 285,
    "start_time": "2021-06-20T07:39:20.486Z"
   },
   {
    "duration": 429,
    "start_time": "2021-06-20T07:39:20.772Z"
   },
   {
    "duration": 307,
    "start_time": "2021-06-20T07:39:21.202Z"
   },
   {
    "duration": 4,
    "start_time": "2021-06-20T07:39:21.511Z"
   },
   {
    "duration": 312,
    "start_time": "2021-06-20T07:39:21.517Z"
   },
   {
    "duration": 3,
    "start_time": "2021-06-20T07:39:21.831Z"
   },
   {
    "duration": 49,
    "start_time": "2021-06-20T07:39:21.836Z"
   },
   {
    "duration": 10,
    "start_time": "2021-06-20T07:39:21.886Z"
   },
   {
    "duration": 5,
    "start_time": "2021-06-20T07:39:21.897Z"
   },
   {
    "duration": 10,
    "start_time": "2021-06-20T07:39:21.903Z"
   },
   {
    "duration": 10,
    "start_time": "2021-06-20T07:39:21.914Z"
   },
   {
    "duration": 14,
    "start_time": "2021-06-20T07:39:21.926Z"
   },
   {
    "duration": 13,
    "start_time": "2021-06-20T08:04:13.169Z"
   },
   {
    "duration": 36,
    "start_time": "2021-06-20T08:15:04.933Z"
   },
   {
    "duration": 11,
    "start_time": "2021-06-20T08:15:14.753Z"
   },
   {
    "duration": 2,
    "start_time": "2021-06-20T08:15:20.389Z"
   },
   {
    "duration": 10,
    "start_time": "2021-06-20T08:15:21.160Z"
   },
   {
    "duration": 13,
    "start_time": "2021-06-20T08:15:22.821Z"
   },
   {
    "duration": 6,
    "start_time": "2021-06-20T08:46:37.802Z"
   },
   {
    "duration": 11,
    "start_time": "2021-06-20T08:48:00.157Z"
   },
   {
    "duration": 261,
    "start_time": "2021-06-20T08:48:56.827Z"
   },
   {
    "duration": 9,
    "start_time": "2021-06-20T08:49:05.654Z"
   },
   {
    "duration": 215,
    "start_time": "2021-06-20T08:50:59.421Z"
   },
   {
    "duration": 179,
    "start_time": "2021-06-20T08:53:53.789Z"
   },
   {
    "duration": 200,
    "start_time": "2021-06-20T08:54:07.935Z"
   },
   {
    "duration": 243,
    "start_time": "2021-06-20T08:54:20.744Z"
   },
   {
    "duration": 14,
    "start_time": "2021-06-20T09:46:00.368Z"
   },
   {
    "duration": 14,
    "start_time": "2021-06-20T09:46:19.307Z"
   },
   {
    "duration": 20,
    "start_time": "2021-06-20T09:49:02.822Z"
   },
   {
    "duration": 37,
    "start_time": "2021-06-20T09:49:35.723Z"
   },
   {
    "duration": 10,
    "start_time": "2021-06-20T09:49:58.124Z"
   },
   {
    "duration": 1059,
    "start_time": "2021-06-20T10:01:15.638Z"
   },
   {
    "duration": 106,
    "start_time": "2021-06-20T10:01:16.699Z"
   },
   {
    "duration": 10,
    "start_time": "2021-06-20T10:01:16.807Z"
   },
   {
    "duration": 10,
    "start_time": "2021-06-20T10:01:16.819Z"
   },
   {
    "duration": 12,
    "start_time": "2021-06-20T10:01:16.830Z"
   },
   {
    "duration": 10,
    "start_time": "2021-06-20T10:01:16.844Z"
   },
   {
    "duration": 4,
    "start_time": "2021-06-20T10:01:16.856Z"
   },
   {
    "duration": 27,
    "start_time": "2021-06-20T10:01:16.862Z"
   },
   {
    "duration": 4,
    "start_time": "2021-06-20T10:01:16.891Z"
   },
   {
    "duration": 10,
    "start_time": "2021-06-20T10:01:16.896Z"
   },
   {
    "duration": 11,
    "start_time": "2021-06-20T10:01:16.908Z"
   },
   {
    "duration": 7,
    "start_time": "2021-06-20T10:01:16.921Z"
   },
   {
    "duration": 5,
    "start_time": "2021-06-20T10:01:16.930Z"
   },
   {
    "duration": 7,
    "start_time": "2021-06-20T10:01:16.936Z"
   },
   {
    "duration": 44,
    "start_time": "2021-06-20T10:01:16.945Z"
   },
   {
    "duration": 7,
    "start_time": "2021-06-20T10:01:16.991Z"
   },
   {
    "duration": 23,
    "start_time": "2021-06-20T10:01:17.000Z"
   },
   {
    "duration": 7,
    "start_time": "2021-06-20T10:01:17.025Z"
   },
   {
    "duration": 59,
    "start_time": "2021-06-20T10:01:17.034Z"
   },
   {
    "duration": 16,
    "start_time": "2021-06-20T10:01:17.095Z"
   },
   {
    "duration": 330,
    "start_time": "2021-06-20T10:01:17.113Z"
   },
   {
    "duration": 14,
    "start_time": "2021-06-20T10:01:17.445Z"
   },
   {
    "duration": 301,
    "start_time": "2021-06-20T10:01:17.463Z"
   },
   {
    "duration": 354,
    "start_time": "2021-06-20T10:01:17.766Z"
   },
   {
    "duration": 304,
    "start_time": "2021-06-20T10:01:18.122Z"
   },
   {
    "duration": 302,
    "start_time": "2021-06-20T10:01:18.428Z"
   },
   {
    "duration": 368,
    "start_time": "2021-06-20T10:01:18.732Z"
   },
   {
    "duration": 299,
    "start_time": "2021-06-20T10:01:19.102Z"
   },
   {
    "duration": 479,
    "start_time": "2021-06-20T10:01:19.403Z"
   },
   {
    "duration": 356,
    "start_time": "2021-06-20T10:01:19.884Z"
   },
   {
    "duration": 5,
    "start_time": "2021-06-20T10:01:20.243Z"
   },
   {
    "duration": 389,
    "start_time": "2021-06-20T10:01:20.250Z"
   },
   {
    "duration": 5,
    "start_time": "2021-06-20T10:01:20.642Z"
   },
   {
    "duration": 54,
    "start_time": "2021-06-20T10:01:20.649Z"
   },
   {
    "duration": 12,
    "start_time": "2021-06-20T10:01:20.705Z"
   },
   {
    "duration": 5,
    "start_time": "2021-06-20T10:01:20.719Z"
   },
   {
    "duration": 10,
    "start_time": "2021-06-20T10:01:20.726Z"
   },
   {
    "duration": 12,
    "start_time": "2021-06-20T10:01:20.738Z"
   },
   {
    "duration": 45,
    "start_time": "2021-06-20T10:01:20.752Z"
   },
   {
    "duration": 9,
    "start_time": "2021-06-20T10:01:20.799Z"
   },
   {
    "duration": 250,
    "start_time": "2021-06-20T10:01:20.810Z"
   },
   {
    "duration": 1487,
    "start_time": "2021-06-20T10:24:04.626Z"
   },
   {
    "duration": 139,
    "start_time": "2021-06-20T10:24:06.116Z"
   },
   {
    "duration": 15,
    "start_time": "2021-06-20T10:24:06.258Z"
   },
   {
    "duration": 10,
    "start_time": "2021-06-20T10:24:06.276Z"
   },
   {
    "duration": 21,
    "start_time": "2021-06-20T10:24:06.288Z"
   },
   {
    "duration": 9,
    "start_time": "2021-06-20T10:24:06.312Z"
   },
   {
    "duration": 5,
    "start_time": "2021-06-20T10:24:06.324Z"
   },
   {
    "duration": 13,
    "start_time": "2021-06-20T10:24:06.334Z"
   },
   {
    "duration": 38,
    "start_time": "2021-06-20T10:24:06.350Z"
   },
   {
    "duration": 9,
    "start_time": "2021-06-20T10:24:06.391Z"
   },
   {
    "duration": 16,
    "start_time": "2021-06-20T10:24:06.403Z"
   },
   {
    "duration": 8,
    "start_time": "2021-06-20T10:24:06.421Z"
   },
   {
    "duration": 55,
    "start_time": "2021-06-20T10:24:06.431Z"
   },
   {
    "duration": 9,
    "start_time": "2021-06-20T10:24:06.488Z"
   },
   {
    "duration": 11,
    "start_time": "2021-06-20T10:24:06.500Z"
   },
   {
    "duration": 15,
    "start_time": "2021-06-20T10:24:06.513Z"
   },
   {
    "duration": 64,
    "start_time": "2021-06-20T10:24:06.531Z"
   },
   {
    "duration": 15,
    "start_time": "2021-06-20T10:24:06.598Z"
   },
   {
    "duration": 70,
    "start_time": "2021-06-20T10:24:06.616Z"
   },
   {
    "duration": 25,
    "start_time": "2021-06-20T10:24:06.689Z"
   },
   {
    "duration": 500,
    "start_time": "2021-06-20T10:24:06.716Z"
   },
   {
    "duration": 21,
    "start_time": "2021-06-20T10:24:07.218Z"
   },
   {
    "duration": 572,
    "start_time": "2021-06-20T10:24:07.244Z"
   },
   {
    "duration": 670,
    "start_time": "2021-06-20T10:24:07.820Z"
   },
   {
    "duration": 494,
    "start_time": "2021-06-20T10:24:08.493Z"
   },
   {
    "duration": 617,
    "start_time": "2021-06-20T10:24:08.989Z"
   },
   {
    "duration": 713,
    "start_time": "2021-06-20T10:24:09.609Z"
   },
   {
    "duration": 499,
    "start_time": "2021-06-20T10:24:10.325Z"
   },
   {
    "duration": 613,
    "start_time": "2021-06-20T10:24:10.828Z"
   },
   {
    "duration": 482,
    "start_time": "2021-06-20T10:24:11.444Z"
   },
   {
    "duration": 6,
    "start_time": "2021-06-20T10:24:11.928Z"
   },
   {
    "duration": 491,
    "start_time": "2021-06-20T10:24:11.936Z"
   },
   {
    "duration": 7,
    "start_time": "2021-06-20T10:24:12.431Z"
   },
   {
    "duration": 78,
    "start_time": "2021-06-20T10:24:12.441Z"
   },
   {
    "duration": 21,
    "start_time": "2021-06-20T10:24:12.522Z"
   },
   {
    "duration": 4,
    "start_time": "2021-06-20T10:24:12.546Z"
   },
   {
    "duration": 19,
    "start_time": "2021-06-20T10:24:12.585Z"
   },
   {
    "duration": 22,
    "start_time": "2021-06-20T10:24:12.607Z"
   },
   {
    "duration": 64,
    "start_time": "2021-06-20T10:24:12.632Z"
   },
   {
    "duration": 13,
    "start_time": "2021-06-20T10:24:12.699Z"
   },
   {
    "duration": 385,
    "start_time": "2021-06-20T10:24:12.715Z"
   },
   {
    "duration": 1421,
    "start_time": "2021-06-20T10:29:42.031Z"
   },
   {
    "duration": 107,
    "start_time": "2021-06-20T10:29:43.455Z"
   },
   {
    "duration": 20,
    "start_time": "2021-06-20T10:29:43.566Z"
   },
   {
    "duration": 10,
    "start_time": "2021-06-20T10:29:43.590Z"
   },
   {
    "duration": 21,
    "start_time": "2021-06-20T10:29:43.603Z"
   },
   {
    "duration": 9,
    "start_time": "2021-06-20T10:29:43.626Z"
   },
   {
    "duration": 5,
    "start_time": "2021-06-20T10:29:43.637Z"
   },
   {
    "duration": 52,
    "start_time": "2021-06-20T10:29:43.645Z"
   },
   {
    "duration": 6,
    "start_time": "2021-06-20T10:29:43.701Z"
   },
   {
    "duration": 9,
    "start_time": "2021-06-20T10:29:43.711Z"
   },
   {
    "duration": 13,
    "start_time": "2021-06-20T10:29:43.722Z"
   },
   {
    "duration": 52,
    "start_time": "2021-06-20T10:29:43.737Z"
   },
   {
    "duration": 8,
    "start_time": "2021-06-20T10:29:43.792Z"
   },
   {
    "duration": 12,
    "start_time": "2021-06-20T10:29:43.803Z"
   },
   {
    "duration": 11,
    "start_time": "2021-06-20T10:29:43.818Z"
   },
   {
    "duration": 58,
    "start_time": "2021-06-20T10:29:43.832Z"
   },
   {
    "duration": 41,
    "start_time": "2021-06-20T10:29:43.893Z"
   },
   {
    "duration": 16,
    "start_time": "2021-06-20T10:29:43.936Z"
   },
   {
    "duration": 57,
    "start_time": "2021-06-20T10:29:43.955Z"
   },
   {
    "duration": 19,
    "start_time": "2021-06-20T10:29:44.014Z"
   },
   {
    "duration": 493,
    "start_time": "2021-06-20T10:29:44.036Z"
   },
   {
    "duration": 19,
    "start_time": "2021-06-20T10:29:44.532Z"
   },
   {
    "duration": 521,
    "start_time": "2021-06-20T10:29:44.554Z"
   },
   {
    "duration": 636,
    "start_time": "2021-06-20T10:29:45.086Z"
   },
   {
    "duration": 496,
    "start_time": "2021-06-20T10:29:45.725Z"
   },
   {
    "duration": 493,
    "start_time": "2021-06-20T10:29:46.224Z"
   },
   {
    "duration": 568,
    "start_time": "2021-06-20T10:29:46.723Z"
   },
   {
    "duration": 661,
    "start_time": "2021-06-20T10:29:47.295Z"
   },
   {
    "duration": 762,
    "start_time": "2021-06-20T10:29:47.960Z"
   },
   {
    "duration": 569,
    "start_time": "2021-06-20T10:29:48.725Z"
   },
   {
    "duration": 8,
    "start_time": "2021-06-20T10:29:49.297Z"
   },
   {
    "duration": 605,
    "start_time": "2021-06-20T10:29:49.308Z"
   },
   {
    "duration": 7,
    "start_time": "2021-06-20T10:29:49.917Z"
   },
   {
    "duration": 83,
    "start_time": "2021-06-20T10:29:49.927Z"
   },
   {
    "duration": 16,
    "start_time": "2021-06-20T10:29:50.013Z"
   },
   {
    "duration": 22,
    "start_time": "2021-06-20T10:29:50.031Z"
   },
   {
    "duration": 33,
    "start_time": "2021-06-20T10:29:50.056Z"
   },
   {
    "duration": 21,
    "start_time": "2021-06-20T10:29:50.092Z"
   },
   {
    "duration": 24,
    "start_time": "2021-06-20T10:29:50.116Z"
   },
   {
    "duration": 49,
    "start_time": "2021-06-20T10:29:50.143Z"
   },
   {
    "duration": 324,
    "start_time": "2021-06-20T10:29:50.195Z"
   },
   {
    "duration": 1468,
    "start_time": "2021-06-20T10:41:27.522Z"
   },
   {
    "duration": 99,
    "start_time": "2021-06-20T10:41:28.992Z"
   },
   {
    "duration": 14,
    "start_time": "2021-06-20T10:41:29.094Z"
   },
   {
    "duration": 9,
    "start_time": "2021-06-20T10:41:29.111Z"
   },
   {
    "duration": 18,
    "start_time": "2021-06-20T10:41:29.122Z"
   },
   {
    "duration": 10,
    "start_time": "2021-06-20T10:41:29.142Z"
   },
   {
    "duration": 6,
    "start_time": "2021-06-20T10:41:29.189Z"
   },
   {
    "duration": 14,
    "start_time": "2021-06-20T10:41:29.197Z"
   },
   {
    "duration": 6,
    "start_time": "2021-06-20T10:41:29.216Z"
   },
   {
    "duration": 8,
    "start_time": "2021-06-20T10:41:29.225Z"
   },
   {
    "duration": 61,
    "start_time": "2021-06-20T10:41:29.235Z"
   },
   {
    "duration": 14,
    "start_time": "2021-06-20T10:41:29.299Z"
   },
   {
    "duration": 7,
    "start_time": "2021-06-20T10:41:29.316Z"
   },
   {
    "duration": 11,
    "start_time": "2021-06-20T10:41:29.326Z"
   },
   {
    "duration": 53,
    "start_time": "2021-06-20T10:41:29.340Z"
   },
   {
    "duration": 11,
    "start_time": "2021-06-20T10:41:29.397Z"
   },
   {
    "duration": 29,
    "start_time": "2021-06-20T10:41:29.410Z"
   },
   {
    "duration": 43,
    "start_time": "2021-06-20T10:41:29.442Z"
   },
   {
    "duration": 510,
    "start_time": "2021-06-20T10:41:29.488Z"
   },
   {
    "duration": -398,
    "start_time": "2021-06-20T10:41:30.399Z"
   },
   {
    "duration": -401,
    "start_time": "2021-06-20T10:41:30.403Z"
   },
   {
    "duration": -411,
    "start_time": "2021-06-20T10:41:30.414Z"
   },
   {
    "duration": -415,
    "start_time": "2021-06-20T10:41:30.420Z"
   },
   {
    "duration": -415,
    "start_time": "2021-06-20T10:41:30.422Z"
   },
   {
    "duration": -417,
    "start_time": "2021-06-20T10:41:30.425Z"
   },
   {
    "duration": -426,
    "start_time": "2021-06-20T10:41:30.435Z"
   },
   {
    "duration": -432,
    "start_time": "2021-06-20T10:41:30.443Z"
   },
   {
    "duration": -438,
    "start_time": "2021-06-20T10:41:30.450Z"
   },
   {
    "duration": -438,
    "start_time": "2021-06-20T10:41:30.451Z"
   },
   {
    "duration": -439,
    "start_time": "2021-06-20T10:41:30.453Z"
   },
   {
    "duration": -439,
    "start_time": "2021-06-20T10:41:30.455Z"
   },
   {
    "duration": -439,
    "start_time": "2021-06-20T10:41:30.456Z"
   },
   {
    "duration": -441,
    "start_time": "2021-06-20T10:41:30.460Z"
   },
   {
    "duration": -443,
    "start_time": "2021-06-20T10:41:30.463Z"
   },
   {
    "duration": -443,
    "start_time": "2021-06-20T10:41:30.465Z"
   },
   {
    "duration": -444,
    "start_time": "2021-06-20T10:41:30.467Z"
   },
   {
    "duration": -451,
    "start_time": "2021-06-20T10:41:30.475Z"
   },
   {
    "duration": -452,
    "start_time": "2021-06-20T10:41:30.478Z"
   },
   {
    "duration": -453,
    "start_time": "2021-06-20T10:41:30.480Z"
   },
   {
    "duration": -454,
    "start_time": "2021-06-20T10:41:30.482Z"
   },
   {
    "duration": -459,
    "start_time": "2021-06-20T10:41:30.488Z"
   },
   {
    "duration": 1443,
    "start_time": "2021-06-20T10:42:52.439Z"
   },
   {
    "duration": 100,
    "start_time": "2021-06-20T10:42:53.886Z"
   },
   {
    "duration": 17,
    "start_time": "2021-06-20T10:42:53.990Z"
   },
   {
    "duration": 14,
    "start_time": "2021-06-20T10:42:54.011Z"
   },
   {
    "duration": 17,
    "start_time": "2021-06-20T10:42:54.027Z"
   },
   {
    "duration": 40,
    "start_time": "2021-06-20T10:42:54.047Z"
   },
   {
    "duration": 6,
    "start_time": "2021-06-20T10:42:54.090Z"
   },
   {
    "duration": 14,
    "start_time": "2021-06-20T10:42:54.098Z"
   },
   {
    "duration": 6,
    "start_time": "2021-06-20T10:42:54.115Z"
   },
   {
    "duration": 8,
    "start_time": "2021-06-20T10:42:54.126Z"
   },
   {
    "duration": 14,
    "start_time": "2021-06-20T10:42:54.187Z"
   },
   {
    "duration": 9,
    "start_time": "2021-06-20T10:42:54.205Z"
   },
   {
    "duration": 8,
    "start_time": "2021-06-20T10:42:54.217Z"
   },
   {
    "duration": 60,
    "start_time": "2021-06-20T10:42:54.228Z"
   },
   {
    "duration": 11,
    "start_time": "2021-06-20T10:42:54.291Z"
   },
   {
    "duration": 11,
    "start_time": "2021-06-20T10:42:54.305Z"
   },
   {
    "duration": 70,
    "start_time": "2021-06-20T10:42:54.318Z"
   },
   {
    "duration": 15,
    "start_time": "2021-06-20T10:42:54.390Z"
   },
   {
    "duration": 447,
    "start_time": "2021-06-20T10:42:54.408Z"
   },
   {
    "duration": -638,
    "start_time": "2021-06-20T10:42:55.496Z"
   },
   {
    "duration": -638,
    "start_time": "2021-06-20T10:42:55.498Z"
   },
   {
    "duration": -639,
    "start_time": "2021-06-20T10:42:55.500Z"
   },
   {
    "duration": -642,
    "start_time": "2021-06-20T10:42:55.505Z"
   },
   {
    "duration": -642,
    "start_time": "2021-06-20T10:42:55.507Z"
   },
   {
    "duration": -643,
    "start_time": "2021-06-20T10:42:55.509Z"
   },
   {
    "duration": -642,
    "start_time": "2021-06-20T10:42:55.510Z"
   },
   {
    "duration": -643,
    "start_time": "2021-06-20T10:42:55.512Z"
   },
   {
    "duration": -643,
    "start_time": "2021-06-20T10:42:55.514Z"
   },
   {
    "duration": -643,
    "start_time": "2021-06-20T10:42:55.516Z"
   },
   {
    "duration": -643,
    "start_time": "2021-06-20T10:42:55.517Z"
   },
   {
    "duration": -643,
    "start_time": "2021-06-20T10:42:55.519Z"
   },
   {
    "duration": -664,
    "start_time": "2021-06-20T10:42:55.541Z"
   },
   {
    "duration": -675,
    "start_time": "2021-06-20T10:42:55.554Z"
   },
   {
    "duration": -685,
    "start_time": "2021-06-20T10:42:55.566Z"
   },
   {
    "duration": -686,
    "start_time": "2021-06-20T10:42:55.568Z"
   },
   {
    "duration": -686,
    "start_time": "2021-06-20T10:42:55.570Z"
   },
   {
    "duration": -686,
    "start_time": "2021-06-20T10:42:55.572Z"
   },
   {
    "duration": -686,
    "start_time": "2021-06-20T10:42:55.573Z"
   },
   {
    "duration": -686,
    "start_time": "2021-06-20T10:42:55.575Z"
   },
   {
    "duration": -687,
    "start_time": "2021-06-20T10:42:55.577Z"
   },
   {
    "duration": -687,
    "start_time": "2021-06-20T10:42:55.579Z"
   },
   {
    "duration": 44,
    "start_time": "2021-06-20T10:43:07.359Z"
   },
   {
    "duration": 1555,
    "start_time": "2021-06-20T10:43:13.938Z"
   },
   {
    "duration": 99,
    "start_time": "2021-06-20T10:43:15.496Z"
   },
   {
    "duration": 15,
    "start_time": "2021-06-20T10:43:15.599Z"
   },
   {
    "duration": 10,
    "start_time": "2021-06-20T10:43:15.617Z"
   },
   {
    "duration": 16,
    "start_time": "2021-06-20T10:43:15.630Z"
   },
   {
    "duration": 38,
    "start_time": "2021-06-20T10:43:15.649Z"
   },
   {
    "duration": 9,
    "start_time": "2021-06-20T10:43:15.690Z"
   },
   {
    "duration": 13,
    "start_time": "2021-06-20T10:43:15.701Z"
   },
   {
    "duration": 6,
    "start_time": "2021-06-20T10:43:15.718Z"
   },
   {
    "duration": 8,
    "start_time": "2021-06-20T10:43:15.727Z"
   },
   {
    "duration": 56,
    "start_time": "2021-06-20T10:43:15.738Z"
   },
   {
    "duration": 9,
    "start_time": "2021-06-20T10:43:15.797Z"
   },
   {
    "duration": 7,
    "start_time": "2021-06-20T10:43:15.809Z"
   },
   {
    "duration": 10,
    "start_time": "2021-06-20T10:43:15.818Z"
   },
   {
    "duration": 19,
    "start_time": "2021-06-20T10:43:15.830Z"
   },
   {
    "duration": 40,
    "start_time": "2021-06-20T10:43:15.851Z"
   },
   {
    "duration": 29,
    "start_time": "2021-06-20T10:43:15.894Z"
   },
   {
    "duration": 11,
    "start_time": "2021-06-20T10:43:15.925Z"
   },
   {
    "duration": 66,
    "start_time": "2021-06-20T10:43:15.939Z"
   },
   {
    "duration": 22,
    "start_time": "2021-06-20T10:43:16.008Z"
   },
   {
    "duration": 500,
    "start_time": "2021-06-20T10:43:16.033Z"
   },
   {
    "duration": 20,
    "start_time": "2021-06-20T10:43:16.535Z"
   },
   {
    "duration": 463,
    "start_time": "2021-06-20T10:43:16.557Z"
   },
   {
    "duration": 617,
    "start_time": "2021-06-20T10:43:17.022Z"
   },
   {
    "duration": 516,
    "start_time": "2021-06-20T10:43:17.642Z"
   },
   {
    "duration": 484,
    "start_time": "2021-06-20T10:43:18.161Z"
   },
   {
    "duration": 726,
    "start_time": "2021-06-20T10:43:18.650Z"
   },
   {
    "duration": 631,
    "start_time": "2021-06-20T10:43:19.387Z"
   },
   {
    "duration": 691,
    "start_time": "2021-06-20T10:43:20.021Z"
   },
   {
    "duration": 426,
    "start_time": "2021-06-20T10:43:20.714Z"
   },
   {
    "duration": 6,
    "start_time": "2021-06-20T10:43:21.142Z"
   },
   {
    "duration": 480,
    "start_time": "2021-06-20T10:43:21.151Z"
   },
   {
    "duration": 7,
    "start_time": "2021-06-20T10:43:21.634Z"
   },
   {
    "duration": 101,
    "start_time": "2021-06-20T10:43:21.644Z"
   },
   {
    "duration": 37,
    "start_time": "2021-06-20T10:43:21.748Z"
   },
   {
    "duration": 4,
    "start_time": "2021-06-20T10:43:21.789Z"
   },
   {
    "duration": 15,
    "start_time": "2021-06-20T10:43:21.797Z"
   },
   {
    "duration": 15,
    "start_time": "2021-06-20T10:43:21.815Z"
   },
   {
    "duration": 59,
    "start_time": "2021-06-20T10:43:21.833Z"
   },
   {
    "duration": 11,
    "start_time": "2021-06-20T10:43:21.895Z"
   },
   {
    "duration": 333,
    "start_time": "2021-06-20T10:43:21.908Z"
   },
   {
    "duration": 533,
    "start_time": "2021-06-20T10:46:31.507Z"
   },
   {
    "duration": 377,
    "start_time": "2021-06-20T10:46:41.425Z"
   },
   {
    "duration": 90,
    "start_time": "2021-06-20T10:46:44.009Z"
   },
   {
    "duration": 60,
    "start_time": "2021-06-20T10:47:41.235Z"
   },
   {
    "duration": 537,
    "start_time": "2021-06-20T11:10:19.000Z"
   },
   {
    "duration": 562,
    "start_time": "2021-06-20T11:10:26.380Z"
   },
   {
    "duration": 465,
    "start_time": "2021-06-20T11:11:18.058Z"
   },
   {
    "duration": 594,
    "start_time": "2021-06-20T11:11:20.880Z"
   },
   {
    "duration": 1546,
    "start_time": "2021-06-20T11:32:30.357Z"
   },
   {
    "duration": 102,
    "start_time": "2021-06-20T11:32:31.907Z"
   },
   {
    "duration": 39,
    "start_time": "2021-06-20T11:32:32.012Z"
   },
   {
    "duration": 40,
    "start_time": "2021-06-20T11:32:32.054Z"
   },
   {
    "duration": 12,
    "start_time": "2021-06-20T11:32:32.097Z"
   },
   {
    "duration": 12,
    "start_time": "2021-06-20T11:32:32.112Z"
   },
   {
    "duration": 19,
    "start_time": "2021-06-20T11:32:32.126Z"
   },
   {
    "duration": 44,
    "start_time": "2021-06-20T11:32:32.147Z"
   },
   {
    "duration": 5,
    "start_time": "2021-06-20T11:32:32.195Z"
   },
   {
    "duration": 17,
    "start_time": "2021-06-20T11:32:32.204Z"
   },
   {
    "duration": 8,
    "start_time": "2021-06-20T11:32:32.224Z"
   },
   {
    "duration": 14,
    "start_time": "2021-06-20T11:32:32.235Z"
   },
   {
    "duration": 49,
    "start_time": "2021-06-20T11:32:32.252Z"
   },
   {
    "duration": 19,
    "start_time": "2021-06-20T11:32:32.304Z"
   },
   {
    "duration": 12,
    "start_time": "2021-06-20T11:32:32.326Z"
   },
   {
    "duration": 14,
    "start_time": "2021-06-20T11:32:32.340Z"
   },
   {
    "duration": 34,
    "start_time": "2021-06-20T11:32:32.356Z"
   },
   {
    "duration": 15,
    "start_time": "2021-06-20T11:32:32.392Z"
   },
   {
    "duration": 33,
    "start_time": "2021-06-20T11:32:32.409Z"
   },
   {
    "duration": 44,
    "start_time": "2021-06-20T11:32:32.444Z"
   },
   {
    "duration": 28,
    "start_time": "2021-06-20T11:32:32.490Z"
   },
   {
    "duration": 25,
    "start_time": "2021-06-20T11:32:32.521Z"
   },
   {
    "duration": 515,
    "start_time": "2021-06-20T11:32:32.550Z"
   },
   {
    "duration": 28,
    "start_time": "2021-06-20T11:32:33.068Z"
   },
   {
    "duration": 452,
    "start_time": "2021-06-20T11:32:33.098Z"
   },
   {
    "duration": 612,
    "start_time": "2021-06-20T11:32:33.552Z"
   },
   {
    "duration": 487,
    "start_time": "2021-06-20T11:32:34.170Z"
   },
   {
    "duration": 470,
    "start_time": "2021-06-20T11:32:34.660Z"
   },
   {
    "duration": 573,
    "start_time": "2021-06-20T11:32:35.133Z"
   },
   {
    "duration": 498,
    "start_time": "2021-06-20T11:32:35.708Z"
   },
   {
    "duration": 769,
    "start_time": "2021-06-20T11:32:36.209Z"
   },
   {
    "duration": 593,
    "start_time": "2021-06-20T11:32:36.981Z"
   },
   {
    "duration": 11,
    "start_time": "2021-06-20T11:32:37.577Z"
   },
   {
    "duration": 491,
    "start_time": "2021-06-20T11:32:37.591Z"
   },
   {
    "duration": 6,
    "start_time": "2021-06-20T11:32:38.086Z"
   },
   {
    "duration": 56,
    "start_time": "2021-06-20T11:32:38.095Z"
   },
   {
    "duration": 46,
    "start_time": "2021-06-20T11:32:38.153Z"
   },
   {
    "duration": 4,
    "start_time": "2021-06-20T11:32:38.202Z"
   },
   {
    "duration": 16,
    "start_time": "2021-06-20T11:32:38.209Z"
   },
   {
    "duration": 64,
    "start_time": "2021-06-20T11:32:38.228Z"
   },
   {
    "duration": 25,
    "start_time": "2021-06-20T11:32:38.295Z"
   },
   {
    "duration": 13,
    "start_time": "2021-06-20T11:32:38.323Z"
   },
   {
    "duration": 390,
    "start_time": "2021-06-20T11:32:38.339Z"
   },
   {
    "duration": 474,
    "start_time": "2021-06-20T13:35:53.404Z"
   },
   {
    "duration": 315,
    "start_time": "2021-06-20T13:36:07.509Z"
   },
   {
    "duration": 1579,
    "start_time": "2021-06-20T13:36:17.021Z"
   },
   {
    "duration": 102,
    "start_time": "2021-06-20T13:36:18.602Z"
   },
   {
    "duration": 38,
    "start_time": "2021-06-20T13:36:18.707Z"
   },
   {
    "duration": 14,
    "start_time": "2021-06-20T13:36:18.748Z"
   },
   {
    "duration": 468,
    "start_time": "2021-06-20T13:36:18.765Z"
   },
   {
    "duration": 436,
    "start_time": "2021-06-20T13:36:18.802Z"
   },
   {
    "duration": 423,
    "start_time": "2021-06-20T13:36:18.817Z"
   },
   {
    "duration": 416,
    "start_time": "2021-06-20T13:36:18.825Z"
   },
   {
    "duration": 410,
    "start_time": "2021-06-20T13:36:18.833Z"
   },
   {
    "duration": 404,
    "start_time": "2021-06-20T13:36:18.841Z"
   },
   {
    "duration": 399,
    "start_time": "2021-06-20T13:36:18.848Z"
   },
   {
    "duration": 383,
    "start_time": "2021-06-20T13:36:18.866Z"
   },
   {
    "duration": 376,
    "start_time": "2021-06-20T13:36:18.874Z"
   },
   {
    "duration": 369,
    "start_time": "2021-06-20T13:36:18.883Z"
   },
   {
    "duration": 362,
    "start_time": "2021-06-20T13:36:18.891Z"
   },
   {
    "duration": 355,
    "start_time": "2021-06-20T13:36:18.899Z"
   },
   {
    "duration": 351,
    "start_time": "2021-06-20T13:36:18.905Z"
   },
   {
    "duration": 336,
    "start_time": "2021-06-20T13:36:18.921Z"
   },
   {
    "duration": 330,
    "start_time": "2021-06-20T13:36:18.929Z"
   },
   {
    "duration": 323,
    "start_time": "2021-06-20T13:36:18.937Z"
   },
   {
    "duration": 320,
    "start_time": "2021-06-20T13:36:18.942Z"
   },
   {
    "duration": 277,
    "start_time": "2021-06-20T13:36:18.986Z"
   },
   {
    "duration": 271,
    "start_time": "2021-06-20T13:36:18.993Z"
   },
   {
    "duration": 265,
    "start_time": "2021-06-20T13:36:19.001Z"
   },
   {
    "duration": 259,
    "start_time": "2021-06-20T13:36:19.008Z"
   },
   {
    "duration": 254,
    "start_time": "2021-06-20T13:36:19.015Z"
   },
   {
    "duration": 237,
    "start_time": "2021-06-20T13:36:19.034Z"
   },
   {
    "duration": 231,
    "start_time": "2021-06-20T13:36:19.042Z"
   },
   {
    "duration": 278,
    "start_time": "2021-06-20T13:36:19.048Z"
   },
   {
    "duration": 116,
    "start_time": "2021-06-20T13:36:19.212Z"
   },
   {
    "duration": 65,
    "start_time": "2021-06-20T13:36:19.264Z"
   },
   {
    "duration": 59,
    "start_time": "2021-06-20T13:36:19.271Z"
   },
   {
    "duration": 53,
    "start_time": "2021-06-20T13:36:19.278Z"
   },
   {
    "duration": 47,
    "start_time": "2021-06-20T13:36:19.286Z"
   },
   {
    "duration": 42,
    "start_time": "2021-06-20T13:36:19.292Z"
   },
   {
    "duration": 37,
    "start_time": "2021-06-20T13:36:19.299Z"
   },
   {
    "duration": 32,
    "start_time": "2021-06-20T13:36:19.305Z"
   },
   {
    "duration": -12,
    "start_time": "2021-06-20T13:36:19.350Z"
   },
   {
    "duration": -31,
    "start_time": "2021-06-20T13:36:19.370Z"
   },
   {
    "duration": -58,
    "start_time": "2021-06-20T13:36:19.399Z"
   },
   {
    "duration": -78,
    "start_time": "2021-06-20T13:36:19.420Z"
   },
   {
    "duration": -106,
    "start_time": "2021-06-20T13:36:19.449Z"
   },
   {
    "duration": -124,
    "start_time": "2021-06-20T13:36:19.468Z"
   },
   {
    "duration": 365,
    "start_time": "2021-06-20T13:36:59.777Z"
   },
   {
    "duration": 12,
    "start_time": "2021-06-20T13:38:00.027Z"
   },
   {
    "duration": 5,
    "start_time": "2021-06-20T13:45:52.526Z"
   },
   {
    "duration": 374,
    "start_time": "2021-06-20T13:46:20.087Z"
   },
   {
    "duration": 5,
    "start_time": "2021-06-20T13:46:39.045Z"
   },
   {
    "duration": 3,
    "start_time": "2021-06-20T13:46:49.358Z"
   },
   {
    "duration": 4,
    "start_time": "2021-06-20T13:47:15.782Z"
   },
   {
    "duration": 5,
    "start_time": "2021-06-20T13:47:31.638Z"
   },
   {
    "duration": 352,
    "start_time": "2021-06-20T13:48:53.071Z"
   },
   {
    "duration": 394,
    "start_time": "2021-06-20T13:49:00.642Z"
   },
   {
    "duration": 3,
    "start_time": "2021-06-20T13:49:29.307Z"
   },
   {
    "duration": 3,
    "start_time": "2021-06-20T13:49:33.368Z"
   },
   {
    "duration": 1518,
    "start_time": "2021-06-20T13:49:38.677Z"
   },
   {
    "duration": 94,
    "start_time": "2021-06-20T13:49:40.197Z"
   },
   {
    "duration": 37,
    "start_time": "2021-06-20T13:49:40.294Z"
   },
   {
    "duration": 14,
    "start_time": "2021-06-20T13:49:40.334Z"
   },
   {
    "duration": 11,
    "start_time": "2021-06-20T13:49:40.351Z"
   },
   {
    "duration": 12,
    "start_time": "2021-06-20T13:49:40.364Z"
   },
   {
    "duration": 48,
    "start_time": "2021-06-20T13:49:40.379Z"
   },
   {
    "duration": 10,
    "start_time": "2021-06-20T13:49:40.431Z"
   },
   {
    "duration": 5,
    "start_time": "2021-06-20T13:49:40.445Z"
   },
   {
    "duration": 12,
    "start_time": "2021-06-20T13:49:40.452Z"
   },
   {
    "duration": 5,
    "start_time": "2021-06-20T13:49:40.467Z"
   },
   {
    "duration": 53,
    "start_time": "2021-06-20T13:49:40.475Z"
   },
   {
    "duration": 15,
    "start_time": "2021-06-20T13:49:40.531Z"
   },
   {
    "duration": 7,
    "start_time": "2021-06-20T13:49:40.549Z"
   },
   {
    "duration": 5,
    "start_time": "2021-06-20T13:49:40.559Z"
   },
   {
    "duration": 10,
    "start_time": "2021-06-20T13:49:40.566Z"
   },
   {
    "duration": 53,
    "start_time": "2021-06-20T13:49:40.579Z"
   },
   {
    "duration": 8,
    "start_time": "2021-06-20T13:49:40.635Z"
   },
   {
    "duration": 31,
    "start_time": "2021-06-20T13:49:40.646Z"
   },
   {
    "duration": 47,
    "start_time": "2021-06-20T13:49:40.679Z"
   },
   {
    "duration": 33,
    "start_time": "2021-06-20T13:49:40.729Z"
   },
   {
    "duration": 23,
    "start_time": "2021-06-20T13:49:40.764Z"
   },
   {
    "duration": 490,
    "start_time": "2021-06-20T13:49:40.824Z"
   },
   {
    "duration": 23,
    "start_time": "2021-06-20T13:49:41.317Z"
   },
   {
    "duration": 473,
    "start_time": "2021-06-20T13:49:41.343Z"
   },
   {
    "duration": 636,
    "start_time": "2021-06-20T13:49:41.818Z"
   },
   {
    "duration": 560,
    "start_time": "2021-06-20T13:49:42.457Z"
   },
   {
    "duration": 548,
    "start_time": "2021-06-20T13:49:43.020Z"
   },
   {
    "duration": 586,
    "start_time": "2021-06-20T13:49:43.570Z"
   },
   {
    "duration": 502,
    "start_time": "2021-06-20T13:49:44.158Z"
   },
   {
    "duration": 613,
    "start_time": "2021-06-20T13:49:44.663Z"
   },
   {
    "duration": 482,
    "start_time": "2021-06-20T13:49:45.278Z"
   },
   {
    "duration": 6,
    "start_time": "2021-06-20T13:49:45.762Z"
   },
   {
    "duration": 497,
    "start_time": "2021-06-20T13:49:45.771Z"
   },
   {
    "duration": 6,
    "start_time": "2021-06-20T13:49:46.270Z"
   },
   {
    "duration": 81,
    "start_time": "2021-06-20T13:49:46.279Z"
   },
   {
    "duration": 16,
    "start_time": "2021-06-20T13:49:46.363Z"
   },
   {
    "duration": 6,
    "start_time": "2021-06-20T13:49:46.382Z"
   },
   {
    "duration": 43,
    "start_time": "2021-06-20T13:49:46.391Z"
   },
   {
    "duration": 16,
    "start_time": "2021-06-20T13:49:46.436Z"
   },
   {
    "duration": 25,
    "start_time": "2021-06-20T13:49:46.456Z"
   },
   {
    "duration": 51,
    "start_time": "2021-06-20T13:49:46.484Z"
   },
   {
    "duration": 334,
    "start_time": "2021-06-20T13:49:46.538Z"
   },
   {
    "duration": 5,
    "start_time": "2021-06-20T13:52:15.918Z"
   },
   {
    "duration": 85,
    "start_time": "2021-06-20T13:52:19.148Z"
   },
   {
    "duration": 71,
    "start_time": "2021-06-20T13:52:21.692Z"
   },
   {
    "duration": 51,
    "start_time": "2021-06-20T13:52:24.702Z"
   },
   {
    "duration": 12,
    "start_time": "2021-06-20T13:52:27.952Z"
   },
   {
    "duration": 5,
    "start_time": "2021-06-20T13:53:27.368Z"
   },
   {
    "duration": 86,
    "start_time": "2021-06-20T13:53:29.877Z"
   },
   {
    "duration": 72,
    "start_time": "2021-06-20T13:53:31.151Z"
   },
   {
    "duration": 50,
    "start_time": "2021-06-20T13:53:32.646Z"
   },
   {
    "duration": 11,
    "start_time": "2021-06-20T13:53:35.811Z"
   },
   {
    "duration": 11,
    "start_time": "2021-06-20T13:56:53.029Z"
   },
   {
    "duration": 6,
    "start_time": "2021-06-20T14:02:29.094Z"
   },
   {
    "duration": 29,
    "start_time": "2021-06-20T14:04:10.953Z"
   },
   {
    "duration": 12,
    "start_time": "2021-06-20T14:04:30.108Z"
   },
   {
    "duration": 497,
    "start_time": "2021-06-20T14:18:12.931Z"
   },
   {
    "duration": 503,
    "start_time": "2021-06-20T14:19:38.263Z"
   },
   {
    "duration": 525,
    "start_time": "2021-06-20T14:21:26.284Z"
   },
   {
    "duration": 508,
    "start_time": "2021-06-20T14:22:00.585Z"
   },
   {
    "duration": 158,
    "start_time": "2021-06-20T14:22:15.303Z"
   },
   {
    "duration": 520,
    "start_time": "2021-06-20T14:22:22.082Z"
   },
   {
    "duration": 490,
    "start_time": "2021-06-20T14:23:08.318Z"
   },
   {
    "duration": 655,
    "start_time": "2021-06-20T14:23:22.806Z"
   },
   {
    "duration": 571,
    "start_time": "2021-06-20T14:24:11.225Z"
   },
   {
    "duration": 563,
    "start_time": "2021-06-20T14:24:20.124Z"
   },
   {
    "duration": 576,
    "start_time": "2021-06-20T14:24:38.114Z"
   },
   {
    "duration": 495,
    "start_time": "2021-06-20T14:25:06.415Z"
   },
   {
    "duration": 491,
    "start_time": "2021-06-20T14:30:03.176Z"
   },
   {
    "duration": 400,
    "start_time": "2021-06-20T14:30:13.429Z"
   },
   {
    "duration": 143,
    "start_time": "2021-06-20T14:34:08.701Z"
   },
   {
    "duration": 515,
    "start_time": "2021-06-20T14:34:46.558Z"
   },
   {
    "duration": 142,
    "start_time": "2021-06-20T14:35:04.202Z"
   },
   {
    "duration": 11,
    "start_time": "2021-06-20T14:37:52.776Z"
   },
   {
    "duration": 170,
    "start_time": "2021-06-20T14:38:55.006Z"
   },
   {
    "duration": 126,
    "start_time": "2021-06-20T14:39:22.969Z"
   },
   {
    "duration": 115,
    "start_time": "2021-06-20T14:40:10.261Z"
   },
   {
    "duration": 108,
    "start_time": "2021-06-20T14:41:35.321Z"
   },
   {
    "duration": 118,
    "start_time": "2021-06-20T14:41:47.683Z"
   },
   {
    "duration": 516,
    "start_time": "2021-06-20T14:42:37.371Z"
   },
   {
    "duration": 107,
    "start_time": "2021-06-20T14:42:39.095Z"
   },
   {
    "duration": 602,
    "start_time": "2021-06-20T14:43:27.301Z"
   },
   {
    "duration": 588,
    "start_time": "2021-06-20T14:43:59.066Z"
   },
   {
    "duration": 574,
    "start_time": "2021-06-20T14:44:10.905Z"
   },
   {
    "duration": 652,
    "start_time": "2021-06-20T14:44:46.739Z"
   },
   {
    "duration": 426,
    "start_time": "2021-06-20T14:48:08.361Z"
   },
   {
    "duration": 389,
    "start_time": "2021-06-20T14:57:48.227Z"
   },
   {
    "duration": 1465,
    "start_time": "2021-06-20T14:58:27.549Z"
   },
   {
    "duration": 803,
    "start_time": "2021-06-20T14:59:08.032Z"
   },
   {
    "duration": 513,
    "start_time": "2021-06-20T15:02:41.440Z"
   },
   {
    "duration": 619,
    "start_time": "2021-06-20T15:13:13.018Z"
   },
   {
    "duration": 378,
    "start_time": "2021-06-20T15:14:53.051Z"
   },
   {
    "duration": 461,
    "start_time": "2021-06-20T15:15:06.508Z"
   },
   {
    "duration": 7,
    "start_time": "2021-06-20T15:18:29.980Z"
   },
   {
    "duration": 6,
    "start_time": "2021-06-20T15:19:01.075Z"
   },
   {
    "duration": 6,
    "start_time": "2021-06-20T15:19:01.568Z"
   },
   {
    "duration": 461,
    "start_time": "2021-06-20T15:19:31.113Z"
   },
   {
    "duration": 481,
    "start_time": "2021-06-20T15:19:41.316Z"
   },
   {
    "duration": 449,
    "start_time": "2021-06-20T15:20:23.135Z"
   },
   {
    "duration": 473,
    "start_time": "2021-06-20T15:23:17.084Z"
   },
   {
    "duration": 475,
    "start_time": "2021-06-20T15:24:19.401Z"
   },
   {
    "duration": 429,
    "start_time": "2021-06-20T15:25:11.865Z"
   },
   {
    "duration": 466,
    "start_time": "2021-06-20T15:25:25.091Z"
   },
   {
    "duration": 9165,
    "start_time": "2021-06-20T15:26:59.515Z"
   },
   {
    "duration": 477,
    "start_time": "2021-06-20T15:28:38.814Z"
   },
   {
    "duration": 492,
    "start_time": "2021-06-20T15:32:11.410Z"
   },
   {
    "duration": 698,
    "start_time": "2021-06-20T15:32:33.307Z"
   },
   {
    "duration": 501,
    "start_time": "2021-06-20T15:32:52.324Z"
   },
   {
    "duration": 476,
    "start_time": "2021-06-20T15:33:26.702Z"
   },
   {
    "duration": 471,
    "start_time": "2021-06-20T15:33:37.728Z"
   },
   {
    "duration": 427,
    "start_time": "2021-06-20T15:34:24.660Z"
   },
   {
    "duration": 1217,
    "start_time": "2021-06-20T15:34:49.038Z"
   },
   {
    "duration": 655,
    "start_time": "2021-06-20T15:35:03.008Z"
   },
   {
    "duration": 468,
    "start_time": "2021-06-20T15:35:15.721Z"
   },
   {
    "duration": 517,
    "start_time": "2021-06-20T15:38:02.708Z"
   },
   {
    "duration": 109,
    "start_time": "2021-06-20T15:38:45.991Z"
   },
   {
    "duration": 599,
    "start_time": "2021-06-20T15:38:59.129Z"
   },
   {
    "duration": 128,
    "start_time": "2021-06-20T15:39:42.233Z"
   },
   {
    "duration": 668,
    "start_time": "2021-06-20T15:43:36.861Z"
   },
   {
    "duration": 826,
    "start_time": "2021-06-20T15:45:51.561Z"
   },
   {
    "duration": 457,
    "start_time": "2021-06-20T15:51:16.927Z"
   },
   {
    "duration": 647,
    "start_time": "2021-06-20T15:52:44.741Z"
   },
   {
    "duration": 462,
    "start_time": "2021-06-20T15:53:05.921Z"
   },
   {
    "duration": 401,
    "start_time": "2021-06-20T15:56:04.316Z"
   },
   {
    "duration": 469,
    "start_time": "2021-06-20T15:56:31.821Z"
   },
   {
    "duration": 445,
    "start_time": "2021-06-20T15:57:21.452Z"
   },
   {
    "duration": 510,
    "start_time": "2021-06-20T15:59:24.250Z"
   },
   {
    "duration": 640,
    "start_time": "2021-06-20T15:59:51.114Z"
   },
   {
    "duration": 1225,
    "start_time": "2021-06-20T16:00:01.495Z"
   },
   {
    "duration": 452,
    "start_time": "2021-06-20T16:00:18.156Z"
   },
   {
    "duration": 1251,
    "start_time": "2021-06-20T16:00:46.502Z"
   },
   {
    "duration": 522,
    "start_time": "2021-06-20T16:00:57.064Z"
   },
   {
    "duration": 498,
    "start_time": "2021-06-20T16:01:22.807Z"
   },
   {
    "duration": 475,
    "start_time": "2021-06-20T16:01:37.711Z"
   },
   {
    "duration": 485,
    "start_time": "2021-06-20T16:01:51.126Z"
   },
   {
    "duration": 461,
    "start_time": "2021-06-20T16:02:11.257Z"
   },
   {
    "duration": 470,
    "start_time": "2021-06-20T16:02:23.740Z"
   },
   {
    "duration": 491,
    "start_time": "2021-06-20T16:02:40.186Z"
   },
   {
    "duration": 487,
    "start_time": "2021-06-20T16:03:16.392Z"
   },
   {
    "duration": 554,
    "start_time": "2021-06-20T16:03:38.243Z"
   },
   {
    "duration": 436,
    "start_time": "2021-06-20T16:03:50.956Z"
   },
   {
    "duration": 498,
    "start_time": "2021-06-20T16:10:02.205Z"
   },
   {
    "duration": 469,
    "start_time": "2021-06-20T16:19:59.961Z"
   },
   {
    "duration": 477,
    "start_time": "2021-06-20T16:20:41.549Z"
   },
   {
    "duration": 504,
    "start_time": "2021-06-20T16:21:18.912Z"
   },
   {
    "duration": 477,
    "start_time": "2021-06-20T16:21:34.960Z"
   },
   {
    "duration": 504,
    "start_time": "2021-06-20T16:21:56.521Z"
   },
   {
    "duration": 16,
    "start_time": "2021-06-20T16:29:18.232Z"
   },
   {
    "duration": 57,
    "start_time": "2021-06-20T16:30:15.431Z"
   },
   {
    "duration": 17,
    "start_time": "2021-06-20T16:31:10.555Z"
   },
   {
    "duration": 21,
    "start_time": "2021-06-20T16:31:28.687Z"
   },
   {
    "duration": 24,
    "start_time": "2021-06-20T16:58:36.893Z"
   },
   {
    "duration": 31,
    "start_time": "2021-06-20T16:58:53.175Z"
   },
   {
    "duration": 343,
    "start_time": "2021-06-20T17:04:40.493Z"
   },
   {
    "duration": 383,
    "start_time": "2021-06-20T17:05:32.906Z"
   },
   {
    "duration": 58,
    "start_time": "2021-06-20T17:09:51.737Z"
   },
   {
    "duration": 59,
    "start_time": "2021-06-20T17:19:19.260Z"
   },
   {
    "duration": 57,
    "start_time": "2021-06-20T17:24:56.027Z"
   },
   {
    "duration": 17,
    "start_time": "2021-06-20T17:26:28.856Z"
   },
   {
    "duration": 17,
    "start_time": "2021-06-20T17:26:58.309Z"
   },
   {
    "duration": 112,
    "start_time": "2021-06-20T17:32:58.816Z"
   },
   {
    "duration": 118,
    "start_time": "2021-06-20T17:33:10.771Z"
   },
   {
    "duration": 22,
    "start_time": "2021-06-20T17:35:18.794Z"
   },
   {
    "duration": 17,
    "start_time": "2021-06-20T17:37:38.867Z"
   },
   {
    "duration": 21,
    "start_time": "2021-06-20T17:38:07.434Z"
   },
   {
    "duration": 19,
    "start_time": "2021-06-20T17:50:47.686Z"
   },
   {
    "duration": 20,
    "start_time": "2021-06-20T17:51:16.927Z"
   },
   {
    "duration": 1567,
    "start_time": "2021-06-20T18:25:58.313Z"
   },
   {
    "duration": 89,
    "start_time": "2021-06-20T18:25:59.883Z"
   },
   {
    "duration": 38,
    "start_time": "2021-06-20T18:25:59.975Z"
   },
   {
    "duration": 15,
    "start_time": "2021-06-20T18:26:00.024Z"
   },
   {
    "duration": 10,
    "start_time": "2021-06-20T18:26:00.042Z"
   },
   {
    "duration": 17,
    "start_time": "2021-06-20T18:26:00.054Z"
   },
   {
    "duration": 24,
    "start_time": "2021-06-20T18:26:00.073Z"
   },
   {
    "duration": 30,
    "start_time": "2021-06-20T18:26:00.100Z"
   },
   {
    "duration": 8,
    "start_time": "2021-06-20T18:26:00.133Z"
   },
   {
    "duration": 25,
    "start_time": "2021-06-20T18:26:00.144Z"
   },
   {
    "duration": 9,
    "start_time": "2021-06-20T18:26:00.172Z"
   },
   {
    "duration": 13,
    "start_time": "2021-06-20T18:26:00.183Z"
   },
   {
    "duration": 42,
    "start_time": "2021-06-20T18:26:00.198Z"
   },
   {
    "duration": 20,
    "start_time": "2021-06-20T18:26:00.242Z"
   },
   {
    "duration": 18,
    "start_time": "2021-06-20T18:26:00.264Z"
   },
   {
    "duration": 26,
    "start_time": "2021-06-20T18:26:00.284Z"
   },
   {
    "duration": 24,
    "start_time": "2021-06-20T18:26:00.312Z"
   },
   {
    "duration": 30,
    "start_time": "2021-06-20T18:26:00.338Z"
   },
   {
    "duration": 54,
    "start_time": "2021-06-20T18:26:00.370Z"
   },
   {
    "duration": 12,
    "start_time": "2021-06-20T18:26:00.426Z"
   },
   {
    "duration": 54,
    "start_time": "2021-06-20T18:26:00.440Z"
   },
   {
    "duration": 37,
    "start_time": "2021-06-20T18:26:00.497Z"
   },
   {
    "duration": 504,
    "start_time": "2021-06-20T18:26:00.539Z"
   },
   {
    "duration": 19,
    "start_time": "2021-06-20T18:26:01.046Z"
   },
   {
    "duration": 477,
    "start_time": "2021-06-20T18:26:01.067Z"
   },
   {
    "duration": 654,
    "start_time": "2021-06-20T18:26:01.547Z"
   },
   {
    "duration": 515,
    "start_time": "2021-06-20T18:26:02.203Z"
   },
   {
    "duration": 507,
    "start_time": "2021-06-20T18:26:02.721Z"
   },
   {
    "duration": 578,
    "start_time": "2021-06-20T18:26:03.231Z"
   },
   {
    "duration": 614,
    "start_time": "2021-06-20T18:26:03.811Z"
   },
   {
    "duration": 685,
    "start_time": "2021-06-20T18:26:04.427Z"
   },
   {
    "duration": 492,
    "start_time": "2021-06-20T18:26:05.114Z"
   },
   {
    "duration": 18,
    "start_time": "2021-06-20T18:26:05.608Z"
   },
   {
    "duration": 10,
    "start_time": "2021-06-20T18:26:05.628Z"
   },
   {
    "duration": 18,
    "start_time": "2021-06-20T18:26:05.640Z"
   },
   {
    "duration": 487,
    "start_time": "2021-06-20T18:26:05.661Z"
   },
   {
    "duration": 497,
    "start_time": "2021-06-20T18:26:06.150Z"
   },
   {
    "duration": 6,
    "start_time": "2021-06-20T18:26:06.649Z"
   },
   {
    "duration": 76,
    "start_time": "2021-06-20T18:26:06.657Z"
   },
   {
    "duration": 16,
    "start_time": "2021-06-20T18:26:06.735Z"
   },
   {
    "duration": 18,
    "start_time": "2021-06-20T18:26:06.753Z"
   },
   {
    "duration": 17,
    "start_time": "2021-06-20T18:26:06.773Z"
   },
   {
    "duration": 37,
    "start_time": "2021-06-20T18:26:06.793Z"
   },
   {
    "duration": 31,
    "start_time": "2021-06-20T18:26:06.833Z"
   },
   {
    "duration": 28,
    "start_time": "2021-06-20T18:26:06.867Z"
   },
   {
    "duration": 356,
    "start_time": "2021-06-20T18:26:06.897Z"
   },
   {
    "duration": 378,
    "start_time": "2021-06-20T18:46:21.467Z"
   },
   {
    "duration": 1538,
    "start_time": "2021-06-20T18:46:27.352Z"
   },
   {
    "duration": 88,
    "start_time": "2021-06-20T18:46:28.892Z"
   },
   {
    "duration": 38,
    "start_time": "2021-06-20T18:46:28.983Z"
   },
   {
    "duration": 15,
    "start_time": "2021-06-20T18:46:29.024Z"
   },
   {
    "duration": 11,
    "start_time": "2021-06-20T18:46:29.042Z"
   },
   {
    "duration": 9,
    "start_time": "2021-06-20T18:46:29.056Z"
   },
   {
    "duration": 50,
    "start_time": "2021-06-20T18:46:29.068Z"
   },
   {
    "duration": 8,
    "start_time": "2021-06-20T18:46:29.122Z"
   },
   {
    "duration": 5,
    "start_time": "2021-06-20T18:46:29.133Z"
   },
   {
    "duration": 12,
    "start_time": "2021-06-20T18:46:29.141Z"
   },
   {
    "duration": 5,
    "start_time": "2021-06-20T18:46:29.155Z"
   },
   {
    "duration": 53,
    "start_time": "2021-06-20T18:46:29.162Z"
   },
   {
    "duration": 12,
    "start_time": "2021-06-20T18:46:29.218Z"
   },
   {
    "duration": 8,
    "start_time": "2021-06-20T18:46:29.233Z"
   },
   {
    "duration": 12,
    "start_time": "2021-06-20T18:46:29.243Z"
   },
   {
    "duration": 8,
    "start_time": "2021-06-20T18:46:29.257Z"
   },
   {
    "duration": 46,
    "start_time": "2021-06-20T18:46:29.268Z"
   },
   {
    "duration": 8,
    "start_time": "2021-06-20T18:46:29.316Z"
   },
   {
    "duration": 27,
    "start_time": "2021-06-20T18:46:29.327Z"
   },
   {
    "duration": 11,
    "start_time": "2021-06-20T18:46:29.356Z"
   },
   {
    "duration": 66,
    "start_time": "2021-06-20T18:46:29.369Z"
   },
   {
    "duration": 28,
    "start_time": "2021-06-20T18:46:29.437Z"
   },
   {
    "duration": 504,
    "start_time": "2021-06-20T18:46:29.470Z"
   },
   {
    "duration": 33,
    "start_time": "2021-06-20T18:46:29.977Z"
   },
   {
    "duration": 480,
    "start_time": "2021-06-20T18:46:30.013Z"
   },
   {
    "duration": 8317,
    "start_time": "2021-06-20T18:46:30.495Z"
   },
   {
    "duration": -2165,
    "start_time": "2021-06-20T18:46:40.980Z"
   },
   {
    "duration": -2181,
    "start_time": "2021-06-20T18:46:40.997Z"
   },
   {
    "duration": -2197,
    "start_time": "2021-06-20T18:46:41.014Z"
   },
   {
    "duration": -2215,
    "start_time": "2021-06-20T18:46:41.034Z"
   },
   {
    "duration": -2225,
    "start_time": "2021-06-20T18:46:41.045Z"
   },
   {
    "duration": -2226,
    "start_time": "2021-06-20T18:46:41.048Z"
   },
   {
    "duration": -2252,
    "start_time": "2021-06-20T18:46:41.076Z"
   },
   {
    "duration": -2283,
    "start_time": "2021-06-20T18:46:41.108Z"
   },
   {
    "duration": -2286,
    "start_time": "2021-06-20T18:46:41.113Z"
   },
   {
    "duration": -2297,
    "start_time": "2021-06-20T18:46:41.125Z"
   },
   {
    "duration": -2314,
    "start_time": "2021-06-20T18:46:41.143Z"
   },
   {
    "duration": -2317,
    "start_time": "2021-06-20T18:46:41.147Z"
   },
   {
    "duration": -2330,
    "start_time": "2021-06-20T18:46:41.162Z"
   },
   {
    "duration": -2343,
    "start_time": "2021-06-20T18:46:41.176Z"
   },
   {
    "duration": -2347,
    "start_time": "2021-06-20T18:46:41.181Z"
   },
   {
    "duration": -2367,
    "start_time": "2021-06-20T18:46:41.202Z"
   },
   {
    "duration": -2404,
    "start_time": "2021-06-20T18:46:41.241Z"
   },
   {
    "duration": -2406,
    "start_time": "2021-06-20T18:46:41.244Z"
   },
   {
    "duration": -2408,
    "start_time": "2021-06-20T18:46:41.247Z"
   },
   {
    "duration": -2434,
    "start_time": "2021-06-20T18:46:41.274Z"
   },
   {
    "duration": -2435,
    "start_time": "2021-06-20T18:46:41.277Z"
   },
   {
    "duration": 15,
    "start_time": "2021-06-20T18:46:50.448Z"
   },
   {
    "duration": 8557,
    "start_time": "2021-06-20T18:46:55.746Z"
   },
   {
    "duration": 872,
    "start_time": "2021-06-20T18:47:05.296Z"
   },
   {
    "duration": 1502,
    "start_time": "2021-06-20T18:48:19.093Z"
   },
   {
    "duration": 84,
    "start_time": "2021-06-20T18:48:20.598Z"
   },
   {
    "duration": 42,
    "start_time": "2021-06-20T18:48:20.686Z"
   },
   {
    "duration": 18,
    "start_time": "2021-06-20T18:48:20.732Z"
   },
   {
    "duration": 11,
    "start_time": "2021-06-20T18:48:20.753Z"
   },
   {
    "duration": 41,
    "start_time": "2021-06-20T18:48:20.767Z"
   },
   {
    "duration": 15,
    "start_time": "2021-06-20T18:48:20.811Z"
   },
   {
    "duration": 9,
    "start_time": "2021-06-20T18:48:20.830Z"
   },
   {
    "duration": 5,
    "start_time": "2021-06-20T18:48:20.843Z"
   },
   {
    "duration": 12,
    "start_time": "2021-06-20T18:48:20.850Z"
   },
   {
    "duration": 48,
    "start_time": "2021-06-20T18:48:20.864Z"
   },
   {
    "duration": 10,
    "start_time": "2021-06-20T18:48:20.914Z"
   },
   {
    "duration": 14,
    "start_time": "2021-06-20T18:48:20.926Z"
   },
   {
    "duration": 10,
    "start_time": "2021-06-20T18:48:20.943Z"
   },
   {
    "duration": 10,
    "start_time": "2021-06-20T18:48:20.956Z"
   },
   {
    "duration": 46,
    "start_time": "2021-06-20T18:48:20.969Z"
   },
   {
    "duration": 13,
    "start_time": "2021-06-20T18:48:21.017Z"
   },
   {
    "duration": 7,
    "start_time": "2021-06-20T18:48:21.032Z"
   },
   {
    "duration": 26,
    "start_time": "2021-06-20T18:48:21.042Z"
   },
   {
    "duration": 12,
    "start_time": "2021-06-20T18:48:21.109Z"
   },
   {
    "duration": 31,
    "start_time": "2021-06-20T18:48:21.124Z"
   },
   {
    "duration": 56,
    "start_time": "2021-06-20T18:48:21.157Z"
   },
   {
    "duration": 498,
    "start_time": "2021-06-20T18:48:21.218Z"
   },
   {
    "duration": 21,
    "start_time": "2021-06-20T18:48:21.720Z"
   },
   {
    "duration": 478,
    "start_time": "2021-06-20T18:48:21.744Z"
   },
   {
    "duration": 864,
    "start_time": "2021-06-20T18:48:22.226Z"
   },
   {
    "duration": 643,
    "start_time": "2021-06-20T18:48:23.094Z"
   },
   {
    "duration": 516,
    "start_time": "2021-06-20T18:48:23.740Z"
   },
   {
    "duration": 498,
    "start_time": "2021-06-20T18:48:24.259Z"
   },
   {
    "duration": 593,
    "start_time": "2021-06-20T18:48:24.759Z"
   },
   {
    "duration": 570,
    "start_time": "2021-06-20T18:48:25.355Z"
   },
   {
    "duration": 560,
    "start_time": "2021-06-20T18:48:25.928Z"
   },
   {
    "duration": 493,
    "start_time": "2021-06-20T18:48:26.491Z"
   },
   {
    "duration": 6,
    "start_time": "2021-06-20T18:48:26.987Z"
   },
   {
    "duration": 30,
    "start_time": "2021-06-20T18:48:26.995Z"
   },
   {
    "duration": 11,
    "start_time": "2021-06-20T18:48:27.028Z"
   },
   {
    "duration": 495,
    "start_time": "2021-06-20T18:48:27.041Z"
   },
   {
    "duration": 498,
    "start_time": "2021-06-20T18:48:27.538Z"
   },
   {
    "duration": 6,
    "start_time": "2021-06-20T18:48:28.038Z"
   },
   {
    "duration": 80,
    "start_time": "2021-06-20T18:48:28.046Z"
   },
   {
    "duration": 16,
    "start_time": "2021-06-20T18:48:28.128Z"
   },
   {
    "duration": 7,
    "start_time": "2021-06-20T18:48:28.146Z"
   },
   {
    "duration": 18,
    "start_time": "2021-06-20T18:48:28.155Z"
   },
   {
    "duration": 44,
    "start_time": "2021-06-20T18:48:28.175Z"
   },
   {
    "duration": 25,
    "start_time": "2021-06-20T18:48:28.222Z"
   },
   {
    "duration": 14,
    "start_time": "2021-06-20T18:48:28.250Z"
   },
   {
    "duration": 338,
    "start_time": "2021-06-20T18:48:28.308Z"
   },
   {
    "duration": 934,
    "start_time": "2021-06-20T18:52:42.239Z"
   },
   {
    "duration": 590,
    "start_time": "2021-06-20T18:52:45.561Z"
   },
   {
    "duration": 651,
    "start_time": "2021-06-20T18:53:16.598Z"
   },
   {
    "duration": 608,
    "start_time": "2021-06-20T18:53:20.246Z"
   },
   {
    "duration": 608,
    "start_time": "2021-06-20T18:53:39.061Z"
   },
   {
    "duration": 705,
    "start_time": "2021-06-20T18:53:43.989Z"
   },
   {
    "duration": 111,
    "start_time": "2021-06-20T18:54:39.003Z"
   },
   {
    "duration": 786,
    "start_time": "2021-06-20T18:54:41.841Z"
   },
   {
    "duration": 589,
    "start_time": "2021-06-20T18:54:49.528Z"
   },
   {
    "duration": 610,
    "start_time": "2021-06-20T18:54:54.184Z"
   },
   {
    "duration": 125,
    "start_time": "2021-06-20T18:55:06.960Z"
   },
   {
    "duration": 638,
    "start_time": "2021-06-20T18:55:13.471Z"
   },
   {
    "duration": 17,
    "start_time": "2021-06-20T18:56:45.277Z"
   },
   {
    "duration": 1240,
    "start_time": "2021-06-20T18:57:15.999Z"
   },
   {
    "duration": 701,
    "start_time": "2021-06-20T18:57:34.974Z"
   },
   {
    "duration": 664,
    "start_time": "2021-06-20T18:57:50.172Z"
   },
   {
    "duration": 23,
    "start_time": "2021-06-20T18:58:50.913Z"
   },
   {
    "duration": 616,
    "start_time": "2021-06-20T18:59:39.863Z"
   },
   {
    "duration": 461,
    "start_time": "2021-06-20T19:01:34.084Z"
   },
   {
    "duration": 130,
    "start_time": "2021-06-20T19:02:04.503Z"
   },
   {
    "duration": 108,
    "start_time": "2021-06-20T19:02:37.059Z"
   },
   {
    "duration": 635,
    "start_time": "2021-06-20T19:02:41.389Z"
   },
   {
    "duration": 442,
    "start_time": "2021-06-20T19:02:45.955Z"
   },
   {
    "duration": 520,
    "start_time": "2021-06-20T19:03:09.138Z"
   },
   {
    "duration": 545,
    "start_time": "2021-06-20T19:03:15.347Z"
   },
   {
    "duration": 431,
    "start_time": "2021-06-20T19:03:19.537Z"
   },
   {
    "duration": 463,
    "start_time": "2021-06-20T19:03:26.170Z"
   },
   {
    "duration": 437,
    "start_time": "2021-06-20T19:03:35.520Z"
   },
   {
    "duration": 431,
    "start_time": "2021-06-20T19:03:45.319Z"
   },
   {
    "duration": 438,
    "start_time": "2021-06-20T19:03:56.135Z"
   },
   {
    "duration": 738,
    "start_time": "2021-06-20T19:03:59.951Z"
   },
   {
    "duration": 605,
    "start_time": "2021-06-20T19:04:04.478Z"
   },
   {
    "duration": 58,
    "start_time": "2021-06-20T19:12:17.105Z"
   }
  ],
  "kernelspec": {
   "display_name": "Python 3",
   "language": "python",
   "name": "python3"
  },
  "language_info": {
   "codemirror_mode": {
    "name": "ipython",
    "version": 3
   },
   "file_extension": ".py",
   "mimetype": "text/x-python",
   "name": "python",
   "nbconvert_exporter": "python",
   "pygments_lexer": "ipython3",
   "version": "3.8.8"
  },
  "toc": {
   "base_numbering": 1,
   "nav_menu": {
    "height": "208px",
    "width": "188px"
   },
   "number_sections": false,
   "sideBar": true,
   "skip_h1_title": true,
   "title_cell": "Тема: Принятие решений в бизнесе на основе данных A/B теста.",
   "title_sidebar": "Contents",
   "toc_cell": true,
   "toc_position": {
    "height": "calc(100% - 180px)",
    "left": "10px",
    "top": "150px",
    "width": "484.757px"
   },
   "toc_section_display": true,
   "toc_window_display": false
  }
 },
 "nbformat": 4,
 "nbformat_minor": 2
}
