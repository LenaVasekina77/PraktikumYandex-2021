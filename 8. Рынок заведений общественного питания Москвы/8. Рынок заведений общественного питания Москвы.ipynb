{
 "cells": [
  {
   "cell_type": "markdown",
   "metadata": {},
   "source": [
    "# ТЕМА: Рынок заведений общественного питания Москвы"
   ]
  },
  {
   "cell_type": "markdown",
   "metadata": {},
   "source": [
    "## Цель:\n",
    "**Исследовать рынок общественного питания Москвы, для определения перспективных параметров открытия кафе.**\n",
    "\n",
    "## Задачи:\n",
    "- **1. Установить количественное соотношение типов объектов общественного питания Москвы (далее - ООП).**\n",
    "- **2. Установить количественное соотношение сетевых и несетевых ООП.**\n",
    "- **3. Установить характерный для сетевого распространения тип ООП.**\n",
    "- **4. Установить характерные для сетевого распространения число и вместимость (число посадочных мест) ООП.**\n",
    "- **5. Установить среднюю вместимость для каждого типа ООП.**\n",
    "- **6. Установить Топ-10 улиц по плотности расположения ООП.**\n",
    "- **7. Установить число улиц с одним ООП, определить в каких районах Москвы.**\n",
    "- **8. Установить вместимость ООП на улицах с большим количеством ООП.**\n",
    "- **9. Определить оптимальные для открытия нового заведения: тип ООП, вместимость, район расположения. Определить перспективы развития сети.**\n",
    "- **10. Подготовить презентацию для партнеров и инвесторов.**\n",
    "\n",
    "**ПАРАМЕТРЫ:**\n",
    "- тип ООП\n",
    "- количество посадочных мест\n",
    "- район расположения\n",
    "- возможности развития сети\n",
    "\n",
    "## Объект исследования: \n",
    "- **Открытые данные о заведениях ООП в Москве.**\n",
    "\n",
    "*Дополнительная информация:*  рассматривается вопрос об открытии нестандартного роботизированного кафе, требуются инвестиции."
   ]
  },
  {
   "cell_type": "markdown",
   "metadata": {},
   "source": [
    "## 1. Изучение данных из файлов"
   ]
  },
  {
   "cell_type": "markdown",
   "metadata": {},
   "source": [
    "### 1.1. Импортирование библиотек"
   ]
  },
  {
   "cell_type": "code",
   "execution_count": 1,
   "metadata": {},
   "outputs": [],
   "source": [
    "import pandas as pd\n",
    "pd.set_option('max_colwidth', 400)\n",
    "import numpy as np\n",
    "import matplotlib.pyplot as plt\n",
    "import seaborn as sns\n",
    "from scipy import stats\n",
    "from io import BytesIO\n",
    "import requests\n",
    "import plotly.express as px\n",
    "from plotly import graph_objects as go"
   ]
  },
  {
   "cell_type": "markdown",
   "metadata": {},
   "source": [
    "### 1.2. Загрузка данных"
   ]
  },
  {
   "cell_type": "code",
   "execution_count": 2,
   "metadata": {},
   "outputs": [],
   "source": [
    "# Прочитаем данные\n",
    "df = pd.read_csv('/datasets/rest_data.csv')"
   ]
  },
  {
   "cell_type": "markdown",
   "metadata": {},
   "source": [
    "### 1.3. Предварительное изучение данных"
   ]
  },
  {
   "cell_type": "code",
   "execution_count": 3,
   "metadata": {},
   "outputs": [
    {
     "data": {
      "text/html": [
       "<div>\n",
       "<style scoped>\n",
       "    .dataframe tbody tr th:only-of-type {\n",
       "        vertical-align: middle;\n",
       "    }\n",
       "\n",
       "    .dataframe tbody tr th {\n",
       "        vertical-align: top;\n",
       "    }\n",
       "\n",
       "    .dataframe thead th {\n",
       "        text-align: right;\n",
       "    }\n",
       "</style>\n",
       "<table border=\"1\" class=\"dataframe\">\n",
       "  <thead>\n",
       "    <tr style=\"text-align: right;\">\n",
       "      <th></th>\n",
       "      <th>id</th>\n",
       "      <th>object_name</th>\n",
       "      <th>chain</th>\n",
       "      <th>object_type</th>\n",
       "      <th>address</th>\n",
       "      <th>number</th>\n",
       "    </tr>\n",
       "  </thead>\n",
       "  <tbody>\n",
       "    <tr>\n",
       "      <td>0</td>\n",
       "      <td>151635</td>\n",
       "      <td>СМЕТАНА</td>\n",
       "      <td>нет</td>\n",
       "      <td>кафе</td>\n",
       "      <td>город Москва, улица Егора Абакумова, дом 9</td>\n",
       "      <td>48</td>\n",
       "    </tr>\n",
       "    <tr>\n",
       "      <td>1</td>\n",
       "      <td>77874</td>\n",
       "      <td>Родник</td>\n",
       "      <td>нет</td>\n",
       "      <td>кафе</td>\n",
       "      <td>город Москва, улица Талалихина, дом 2/1, корпус 1</td>\n",
       "      <td>35</td>\n",
       "    </tr>\n",
       "    <tr>\n",
       "      <td>2</td>\n",
       "      <td>24309</td>\n",
       "      <td>Кафе «Академия»</td>\n",
       "      <td>нет</td>\n",
       "      <td>кафе</td>\n",
       "      <td>город Москва, Абельмановская улица, дом 6</td>\n",
       "      <td>95</td>\n",
       "    </tr>\n",
       "    <tr>\n",
       "      <td>3</td>\n",
       "      <td>21894</td>\n",
       "      <td>ПИЦЦЕТОРИЯ</td>\n",
       "      <td>да</td>\n",
       "      <td>кафе</td>\n",
       "      <td>город Москва, Абрамцевская улица, дом 1</td>\n",
       "      <td>40</td>\n",
       "    </tr>\n",
       "    <tr>\n",
       "      <td>4</td>\n",
       "      <td>119365</td>\n",
       "      <td>Кафе «Вишневая метель»</td>\n",
       "      <td>нет</td>\n",
       "      <td>кафе</td>\n",
       "      <td>город Москва, Абрамцевская улица, дом 9, корпус 1</td>\n",
       "      <td>50</td>\n",
       "    </tr>\n",
       "    <tr>\n",
       "      <td>...</td>\n",
       "      <td>...</td>\n",
       "      <td>...</td>\n",
       "      <td>...</td>\n",
       "      <td>...</td>\n",
       "      <td>...</td>\n",
       "      <td>...</td>\n",
       "    </tr>\n",
       "    <tr>\n",
       "      <td>15361</td>\n",
       "      <td>208537</td>\n",
       "      <td>Шоколадница</td>\n",
       "      <td>да</td>\n",
       "      <td>кафе</td>\n",
       "      <td>город Москва, 3-й Крутицкий переулок, дом 18</td>\n",
       "      <td>50</td>\n",
       "    </tr>\n",
       "    <tr>\n",
       "      <td>15362</td>\n",
       "      <td>209264</td>\n",
       "      <td>Шоколадница</td>\n",
       "      <td>да</td>\n",
       "      <td>кафе</td>\n",
       "      <td>город Москва, улица Земляной Вал, дом 33</td>\n",
       "      <td>10</td>\n",
       "    </tr>\n",
       "    <tr>\n",
       "      <td>15363</td>\n",
       "      <td>209186</td>\n",
       "      <td>Шоколадница</td>\n",
       "      <td>да</td>\n",
       "      <td>кафе</td>\n",
       "      <td>город Москва, улица Земляной Вал, дом 33</td>\n",
       "      <td>20</td>\n",
       "    </tr>\n",
       "    <tr>\n",
       "      <td>15364</td>\n",
       "      <td>221900</td>\n",
       "      <td>Шоколадница</td>\n",
       "      <td>да</td>\n",
       "      <td>кафе</td>\n",
       "      <td>город Москва, поселение Московский, Киевское шоссе, 22-й километр, домовладение 4, строение 1</td>\n",
       "      <td>36</td>\n",
       "    </tr>\n",
       "    <tr>\n",
       "      <td>15365</td>\n",
       "      <td>222535</td>\n",
       "      <td>Шоколадница</td>\n",
       "      <td>да</td>\n",
       "      <td>кафе</td>\n",
       "      <td>город Москва, Ходынский бульвар, дом 4</td>\n",
       "      <td>10</td>\n",
       "    </tr>\n",
       "  </tbody>\n",
       "</table>\n",
       "<p>15366 rows × 6 columns</p>\n",
       "</div>"
      ],
      "text/plain": [
       "           id             object_name chain object_type  \\\n",
       "0      151635                 СМЕТАНА   нет        кафе   \n",
       "1       77874                  Родник   нет        кафе   \n",
       "2       24309         Кафе «Академия»   нет        кафе   \n",
       "3       21894              ПИЦЦЕТОРИЯ    да        кафе   \n",
       "4      119365  Кафе «Вишневая метель»   нет        кафе   \n",
       "...       ...                     ...   ...         ...   \n",
       "15361  208537             Шоколадница    да        кафе   \n",
       "15362  209264             Шоколадница    да        кафе   \n",
       "15363  209186             Шоколадница    да        кафе   \n",
       "15364  221900             Шоколадница    да        кафе   \n",
       "15365  222535             Шоколадница    да        кафе   \n",
       "\n",
       "                                                                                             address  \\\n",
       "0                                                         город Москва, улица Егора Абакумова, дом 9   \n",
       "1                                                  город Москва, улица Талалихина, дом 2/1, корпус 1   \n",
       "2                                                          город Москва, Абельмановская улица, дом 6   \n",
       "3                                                            город Москва, Абрамцевская улица, дом 1   \n",
       "4                                                  город Москва, Абрамцевская улица, дом 9, корпус 1   \n",
       "...                                                                                              ...   \n",
       "15361                                                   город Москва, 3-й Крутицкий переулок, дом 18   \n",
       "15362                                                       город Москва, улица Земляной Вал, дом 33   \n",
       "15363                                                       город Москва, улица Земляной Вал, дом 33   \n",
       "15364  город Москва, поселение Московский, Киевское шоссе, 22-й километр, домовладение 4, строение 1   \n",
       "15365                                                         город Москва, Ходынский бульвар, дом 4   \n",
       "\n",
       "       number  \n",
       "0          48  \n",
       "1          35  \n",
       "2          95  \n",
       "3          40  \n",
       "4          50  \n",
       "...       ...  \n",
       "15361      50  \n",
       "15362      10  \n",
       "15363      20  \n",
       "15364      36  \n",
       "15365      10  \n",
       "\n",
       "[15366 rows x 6 columns]"
      ]
     },
     "metadata": {},
     "output_type": "display_data"
    }
   ],
   "source": [
    "#Вызовем таблицу при помощи display, посмотрим первые и последние 5 строк\n",
    "display(df)"
   ]
  },
  {
   "cell_type": "code",
   "execution_count": 4,
   "metadata": {},
   "outputs": [
    {
     "data": {
      "text/html": [
       "<div>\n",
       "<style scoped>\n",
       "    .dataframe tbody tr th:only-of-type {\n",
       "        vertical-align: middle;\n",
       "    }\n",
       "\n",
       "    .dataframe tbody tr th {\n",
       "        vertical-align: top;\n",
       "    }\n",
       "\n",
       "    .dataframe thead th {\n",
       "        text-align: right;\n",
       "    }\n",
       "</style>\n",
       "<table border=\"1\" class=\"dataframe\">\n",
       "  <thead>\n",
       "    <tr style=\"text-align: right;\">\n",
       "      <th></th>\n",
       "      <th>id</th>\n",
       "      <th>object_name</th>\n",
       "      <th>chain</th>\n",
       "      <th>object_type</th>\n",
       "      <th>address</th>\n",
       "      <th>number</th>\n",
       "    </tr>\n",
       "  </thead>\n",
       "  <tbody>\n",
       "    <tr>\n",
       "      <td>13144</td>\n",
       "      <td>196055</td>\n",
       "      <td>Ресторан «Big»</td>\n",
       "      <td>нет</td>\n",
       "      <td>ресторан</td>\n",
       "      <td>город Москва, проектируемый проезд № 4062, дом 6, строение 8</td>\n",
       "      <td>320</td>\n",
       "    </tr>\n",
       "    <tr>\n",
       "      <td>7890</td>\n",
       "      <td>20557</td>\n",
       "      <td>Караоке-клуб</td>\n",
       "      <td>нет</td>\n",
       "      <td>кафе</td>\n",
       "      <td>город Москва, улица Земляной Вал, дом 58</td>\n",
       "      <td>60</td>\n",
       "    </tr>\n",
       "    <tr>\n",
       "      <td>15028</td>\n",
       "      <td>215653</td>\n",
       "      <td>Сказка Бутово</td>\n",
       "      <td>нет</td>\n",
       "      <td>ресторан</td>\n",
       "      <td>город Москва, Изюмская улица, дом 52А</td>\n",
       "      <td>50</td>\n",
       "    </tr>\n",
       "    <tr>\n",
       "      <td>10402</td>\n",
       "      <td>184143</td>\n",
       "      <td>Кафе Black Code</td>\n",
       "      <td>нет</td>\n",
       "      <td>кафе</td>\n",
       "      <td>город Москва, Садовническая улица, дом 42, строение 1</td>\n",
       "      <td>15</td>\n",
       "    </tr>\n",
       "    <tr>\n",
       "      <td>9792</td>\n",
       "      <td>170035</td>\n",
       "      <td>Дабл Би блэк</td>\n",
       "      <td>да</td>\n",
       "      <td>кафе</td>\n",
       "      <td>город Москва, Якиманская набережная, дом 2</td>\n",
       "      <td>40</td>\n",
       "    </tr>\n",
       "    <tr>\n",
       "      <td>4750</td>\n",
       "      <td>150834</td>\n",
       "      <td>ГБОУ Школа №1468</td>\n",
       "      <td>нет</td>\n",
       "      <td>столовая</td>\n",
       "      <td>город Москва, Волгоградский проспект, дом 11, корпус 2</td>\n",
       "      <td>0</td>\n",
       "    </tr>\n",
       "    <tr>\n",
       "      <td>6878</td>\n",
       "      <td>20751</td>\n",
       "      <td>Кенди чоп</td>\n",
       "      <td>нет</td>\n",
       "      <td>предприятие быстрого обслуживания</td>\n",
       "      <td>город Москва, Планерная улица, дом 7</td>\n",
       "      <td>10</td>\n",
       "    </tr>\n",
       "    <tr>\n",
       "      <td>4269</td>\n",
       "      <td>68315</td>\n",
       "      <td>Кофе Хаус</td>\n",
       "      <td>да</td>\n",
       "      <td>кафе</td>\n",
       "      <td>город Москва, проспект Мира, дом 42</td>\n",
       "      <td>60</td>\n",
       "    </tr>\n",
       "    <tr>\n",
       "      <td>14462</td>\n",
       "      <td>216767</td>\n",
       "      <td>КАФЕ</td>\n",
       "      <td>нет</td>\n",
       "      <td>кафе</td>\n",
       "      <td>город Москва, 80-й километр Московской Кольцевой Автодороги, дом 4, строение 1</td>\n",
       "      <td>20</td>\n",
       "    </tr>\n",
       "    <tr>\n",
       "      <td>8548</td>\n",
       "      <td>77748</td>\n",
       "      <td>Глория</td>\n",
       "      <td>нет</td>\n",
       "      <td>ресторан</td>\n",
       "      <td>город Москва, поселение Московский, посёлок Ульяновского Лесопарка, владение 6</td>\n",
       "      <td>48</td>\n",
       "    </tr>\n",
       "  </tbody>\n",
       "</table>\n",
       "</div>"
      ],
      "text/plain": [
       "           id       object_name chain                        object_type  \\\n",
       "13144  196055    Ресторан «Big»   нет                           ресторан   \n",
       "7890    20557      Караоке-клуб   нет                               кафе   \n",
       "15028  215653     Сказка Бутово   нет                           ресторан   \n",
       "10402  184143   Кафе Black Code   нет                               кафе   \n",
       "9792   170035      Дабл Би блэк    да                               кафе   \n",
       "4750   150834  ГБОУ Школа №1468   нет                           столовая   \n",
       "6878    20751         Кенди чоп   нет  предприятие быстрого обслуживания   \n",
       "4269    68315         Кофе Хаус    да                               кафе   \n",
       "14462  216767              КАФЕ   нет                               кафе   \n",
       "8548    77748            Глория   нет                           ресторан   \n",
       "\n",
       "                                                                              address  \\\n",
       "13144                    город Москва, проектируемый проезд № 4062, дом 6, строение 8   \n",
       "7890                                         город Москва, улица Земляной Вал, дом 58   \n",
       "15028                                           город Москва, Изюмская улица, дом 52А   \n",
       "10402                           город Москва, Садовническая улица, дом 42, строение 1   \n",
       "9792                                       город Москва, Якиманская набережная, дом 2   \n",
       "4750                           город Москва, Волгоградский проспект, дом 11, корпус 2   \n",
       "6878                                             город Москва, Планерная улица, дом 7   \n",
       "4269                                              город Москва, проспект Мира, дом 42   \n",
       "14462  город Москва, 80-й километр Московской Кольцевой Автодороги, дом 4, строение 1   \n",
       "8548   город Москва, поселение Московский, посёлок Ульяновского Лесопарка, владение 6   \n",
       "\n",
       "       number  \n",
       "13144     320  \n",
       "7890       60  \n",
       "15028      50  \n",
       "10402      15  \n",
       "9792       40  \n",
       "4750        0  \n",
       "6878       10  \n",
       "4269       60  \n",
       "14462      20  \n",
       "8548       48  "
      ]
     },
     "execution_count": 4,
     "metadata": {},
     "output_type": "execute_result"
    }
   ],
   "source": [
    "#Вызовем 10 строк таблицы случайным образом\n",
    "df.sample(n=10, random_state=0)"
   ]
  },
  {
   "cell_type": "code",
   "execution_count": 5,
   "metadata": {},
   "outputs": [
    {
     "data": {
      "text/plain": [
       "0"
      ]
     },
     "execution_count": 5,
     "metadata": {},
     "output_type": "execute_result"
    }
   ],
   "source": [
    "# Проверим наличие и количество дубликатов\n",
    "df.duplicated().sum()"
   ]
  },
  {
   "cell_type": "code",
   "execution_count": 6,
   "metadata": {},
   "outputs": [
    {
     "data": {
      "text/plain": [
       "207"
      ]
     },
     "execution_count": 6,
     "metadata": {},
     "output_type": "execute_result"
    }
   ],
   "source": [
    "# Проверим наличие и количество дубликатов по наименованию ООП и адресу его расположения\n",
    "df.duplicated(subset=['object_name','address'], keep='last').sum()"
   ]
  },
  {
   "cell_type": "code",
   "execution_count": 7,
   "metadata": {},
   "outputs": [
    {
     "name": "stdout",
     "output_type": "stream",
     "text": [
      "<class 'pandas.core.frame.DataFrame'>\n",
      "RangeIndex: 15366 entries, 0 to 15365\n",
      "Data columns (total 6 columns):\n",
      "id             15366 non-null int64\n",
      "object_name    15366 non-null object\n",
      "chain          15366 non-null object\n",
      "object_type    15366 non-null object\n",
      "address        15366 non-null object\n",
      "number         15366 non-null int64\n",
      "dtypes: int64(2), object(4)\n",
      "memory usage: 720.4+ KB\n"
     ]
    }
   ],
   "source": [
    "# Вызовем общую информацию о таблице\n",
    "df.info()"
   ]
  },
  {
   "cell_type": "markdown",
   "metadata": {},
   "source": [
    "**В таблице 15 366 строк и 6 столбцов. Типы данных у столбцов: int64, object. Наименования столбцов корректны. Пропусков нет. Дубликатов по всем столбцам нет (предварительно), однако имеется 207 дубликатов по двум столбцам: наименование ООП и адрес его расположения.**\n",
    "\n",
    "**Столбцы содержат следующую информацию:**\n",
    "-\t**id** — идентификатор объекта;\n",
    "-\t**object_name** — название объекта общественного питания;\n",
    "-\t**chain** — сетевой ресторан;\n",
    "-\t**object_type** — тип объекта общественного питания;\n",
    "-\t**address** — адрес;\n",
    "-\t**number** — количество посадочных мест\n"
   ]
  },
  {
   "cell_type": "code",
   "execution_count": 8,
   "metadata": {},
   "outputs": [
    {
     "data": {
      "text/plain": [
       "15366"
      ]
     },
     "execution_count": 8,
     "metadata": {},
     "output_type": "execute_result"
    }
   ],
   "source": [
    "# Посмотрим дополнительно на число уникальных значений в столбце с id\n",
    "df['id'].nunique()"
   ]
  },
  {
   "cell_type": "code",
   "execution_count": 9,
   "metadata": {},
   "outputs": [
    {
     "data": {
      "text/plain": [
       "10393"
      ]
     },
     "execution_count": 9,
     "metadata": {},
     "output_type": "execute_result"
    }
   ],
   "source": [
    "# Посмотрим дополнительно на число уникальных значений в столбце с названием ООП\n",
    "df['object_name'].nunique()"
   ]
  },
  {
   "cell_type": "code",
   "execution_count": 10,
   "metadata": {},
   "outputs": [
    {
     "data": {
      "text/plain": [
       "нет    12398\n",
       "да      2968\n",
       "Name: chain, dtype: int64"
      ]
     },
     "execution_count": 10,
     "metadata": {},
     "output_type": "execute_result"
    }
   ],
   "source": [
    "# Посмотрим дополнительно на уникальные значения в столбце сетевой/несетевой \n",
    "df['chain'].value_counts()"
   ]
  },
  {
   "cell_type": "code",
   "execution_count": 11,
   "metadata": {},
   "outputs": [
    {
     "data": {
      "text/plain": [
       "кафе                                 6099\n",
       "столовая                             2587\n",
       "ресторан                             2285\n",
       "предприятие быстрого обслуживания    1923\n",
       "бар                                   856\n",
       "буфет                                 585\n",
       "кафетерий                             398\n",
       "закусочная                            360\n",
       "магазин (отдел кулинарии)             273\n",
       "Name: object_type, dtype: int64"
      ]
     },
     "execution_count": 11,
     "metadata": {},
     "output_type": "execute_result"
    }
   ],
   "source": [
    "# Посмотрим дополнительно на уникальные значения в столбце с типом ООП \n",
    "df['object_type'].value_counts()"
   ]
  },
  {
   "cell_type": "code",
   "execution_count": 12,
   "metadata": {},
   "outputs": [
    {
     "data": {
      "text/plain": [
       "9108"
      ]
     },
     "execution_count": 12,
     "metadata": {},
     "output_type": "execute_result"
    }
   ],
   "source": [
    "# Посмотрим дополнительно на число уникальных значений в столбце с адресом\n",
    "df['address'].nunique()"
   ]
  },
  {
   "cell_type": "code",
   "execution_count": 13,
   "metadata": {},
   "outputs": [
    {
     "data": {
      "text/plain": [
       "0"
      ]
     },
     "execution_count": 13,
     "metadata": {},
     "output_type": "execute_result"
    }
   ],
   "source": [
    "# Подробнее посмотрим на вместимость\n",
    "df['number'].min()"
   ]
  },
  {
   "cell_type": "code",
   "execution_count": 14,
   "metadata": {},
   "outputs": [
    {
     "data": {
      "text/plain": [
       "id             1621\n",
       "object_name    1621\n",
       "chain          1621\n",
       "object_type    1621\n",
       "address        1621\n",
       "number         1621\n",
       "dtype: int64"
      ]
     },
     "execution_count": 14,
     "metadata": {},
     "output_type": "execute_result"
    }
   ],
   "source": [
    "# Посмотрим, сколько ООП не имеет посадочных мест\n",
    "n = df[df['number'] == 0].count()\n",
    "n"
   ]
  },
  {
   "cell_type": "code",
   "execution_count": 15,
   "metadata": {},
   "outputs": [
    {
     "data": {
      "text/plain": [
       "1700"
      ]
     },
     "execution_count": 15,
     "metadata": {},
     "output_type": "execute_result"
    }
   ],
   "source": [
    "df['number'].max()"
   ]
  },
  {
   "cell_type": "markdown",
   "metadata": {},
   "source": [
    "**Число уникальных ID ООП равно числу строк, казалось бы, ООП не повторяются. Однако, дубликаты по наименованию ООП и адресу его местоположения говорят об обратном, возможно, одно и тоже ООП было зарегистрировано неоднократно - отсюда разные ID. Уникальных значений названий ООП меньше, чем общее число строк - какие-то сетевые ООП называются одинаково, какие-то входят в дубли по наименованию и адресу.**\n",
    "\n",
    "**Названия ООП записаны кириллицей и латиницей, регистр разный, на первый взгляд названия выглядят корректно.**\n",
    "\n",
    "**В столбце сетевой/несетевой ООП значения \"да\" и \"нет\" - корректны.**\n",
    "\n",
    "**В столбце с типом ООП 9 уникальных типов, их названия в нижнем регистре - данные корректны.**\n",
    "\n",
    "**В столбце с адресом 9108 уникальных значений, адреса на первый взгляд выглядят корректно, записаны кириллицей, регистр разный.**\n",
    "\n",
    "**Число посадочных мест в ООП - от 0 до 1700, ООП без посадочных мест (скорее всего - кулинарии в магазинах) - 1621 ед.**"
   ]
  },
  {
   "cell_type": "markdown",
   "metadata": {},
   "source": [
    "## 2. Подготовка данных"
   ]
  },
  {
   "cell_type": "markdown",
   "metadata": {},
   "source": [
    "**В целом, данные выглядят корректными. Однако необходимо удалить дубликаты по двум столбцам: наименование ООП и его адрес.**"
   ]
  },
  {
   "cell_type": "code",
   "execution_count": 16,
   "metadata": {},
   "outputs": [],
   "source": [
    "df.drop_duplicates(subset=['object_name','address'], keep='last', inplace=True)"
   ]
  },
  {
   "cell_type": "code",
   "execution_count": 17,
   "metadata": {},
   "outputs": [
    {
     "name": "stdout",
     "output_type": "stream",
     "text": [
      "<class 'pandas.core.frame.DataFrame'>\n",
      "Int64Index: 15159 entries, 0 to 15365\n",
      "Data columns (total 6 columns):\n",
      "id             15159 non-null int64\n",
      "object_name    15159 non-null object\n",
      "chain          15159 non-null object\n",
      "object_type    15159 non-null object\n",
      "address        15159 non-null object\n",
      "number         15159 non-null int64\n",
      "dtypes: int64(2), object(4)\n",
      "memory usage: 829.0+ KB\n"
     ]
    }
   ],
   "source": [
    "# Проверим\n",
    "df.info()"
   ]
  },
  {
   "cell_type": "code",
   "execution_count": 18,
   "metadata": {},
   "outputs": [
    {
     "data": {
      "text/plain": [
       "10393"
      ]
     },
     "execution_count": 18,
     "metadata": {},
     "output_type": "execute_result"
    }
   ],
   "source": [
    "# Повторно посмотрим дополнительно на число уникальных значений в столбце с названием ООП\n",
    "df['object_name'].nunique()"
   ]
  },
  {
   "cell_type": "code",
   "execution_count": 19,
   "metadata": {},
   "outputs": [
    {
     "data": {
      "text/plain": [
       "Столовая                                      266\n",
       "Шаурма                                        224\n",
       "Кафе                                          201\n",
       "KFC                                           152\n",
       "Шоколадница                                   140\n",
       "                                             ... \n",
       "Диссидент                                       1\n",
       "Кафе «Кулинарная лавка братьев Караваевых»      1\n",
       "Грузинские Каникулы                             1\n",
       "Баракат                                         1\n",
       "кафе «Ля Ферм»                                  1\n",
       "Name: object_name, Length: 10393, dtype: int64"
      ]
     },
     "execution_count": 19,
     "metadata": {},
     "output_type": "execute_result"
    }
   ],
   "source": [
    "df['object_name'].value_counts()"
   ]
  },
  {
   "cell_type": "code",
   "execution_count": 20,
   "metadata": {},
   "outputs": [
    {
     "data": {
      "text/plain": [
       "9108"
      ]
     },
     "execution_count": 20,
     "metadata": {},
     "output_type": "execute_result"
    }
   ],
   "source": [
    "# Повторно посмотрим дополнительно на число уникальных значений в столбце с адресом\n",
    "df['address'].nunique()"
   ]
  },
  {
   "cell_type": "markdown",
   "metadata": {},
   "source": [
    "**Удалили 207 дублей по наименованию ООП и его адресу, число уникальных значений по обеим столбцам не изменились.**\n",
    "\n",
    "**Чтобы полностью убедиться в отсутствии дубликатов, приведем названия ООП и адреса к единому стилю - к нижнему регистру, уберем кавычки, запятые и пробелы.**"
   ]
  },
  {
   "cell_type": "code",
   "execution_count": 21,
   "metadata": {},
   "outputs": [],
   "source": [
    "#symbols = [',', '«', '»', '(', ')', '\"', '  ']\n",
    "#for s in symbols:\n",
    " #   df['object_name'] = df['object_name'].str.replace(s, ' ')\n",
    "  #  df['address'] = df['address'].str.replace(s, ' ')\n",
    "#df['address'] = df['address'].str.replace('ё','е')\n",
    "#df.duplicated().sum()"
   ]
  },
  {
   "cell_type": "markdown",
   "metadata": {},
   "source": [
    "**Дубликаты больше не обнаружены, поэтому закомментируем код, вернем данные к исходному виду, чтобы было удобнее с ними работать.**"
   ]
  },
  {
   "cell_type": "code",
   "execution_count": 22,
   "metadata": {},
   "outputs": [
    {
     "data": {
      "text/plain": [
       "кафе          6007\n",
       "столовая      2574\n",
       "ресторан      2266\n",
       "фаст-фуд      1884\n",
       "бар            852\n",
       "буфет          568\n",
       "кафетерий      391\n",
       "закусочная     346\n",
       "кулинария      271\n",
       "Name: object_type, dtype: int64"
      ]
     },
     "execution_count": 22,
     "metadata": {},
     "output_type": "execute_result"
    }
   ],
   "source": [
    "# В типах ООП есть слишком длинные названия\n",
    "# для удобства отображения информации на графиках заменим их на аналогии\n",
    "df['object_type'] = df['object_type'].str.replace('предприятие быстрого обслуживания', 'фаст-фуд')\n",
    "df['object_type'] = df['object_type'].str.replace('магазин \\(отдел кулинарии\\)', 'кулинария')\n",
    "df['object_type'].value_counts()"
   ]
  },
  {
   "cell_type": "code",
   "execution_count": 23,
   "metadata": {},
   "outputs": [],
   "source": [
    "# В типах распространения ООП (сетевой/несетевой) указаны да и нет\n",
    "# для удобства отображения информации на графиках заменим их на точную информацию\n",
    "df['chain'] = df['chain'].map({'нет':'несетевой','да':'сетевой'})"
   ]
  },
  {
   "cell_type": "markdown",
   "metadata": {},
   "source": [
    "**Таким образом, мы удалили дубли по наименованию и адресу, заменили названия двух типов ООП на более короткие, заменили обозначение типов распространения ООП на конкретные (сетевой/несетевой).**\n",
    "\n",
    "**Данные корректны и удобны для использования, в дополнительной предобработке не нуждаются. Приступаем к анализу данных.**"
   ]
  },
  {
   "cell_type": "markdown",
   "metadata": {},
   "source": [
    "## 3. Анализ данных"
   ]
  },
  {
   "cell_type": "markdown",
   "metadata": {},
   "source": [
    "### 3.1. Колличественное соотношение типов ООП "
   ]
  },
  {
   "cell_type": "code",
   "execution_count": 24,
   "metadata": {},
   "outputs": [
    {
     "data": {
      "text/html": [
       "<div>\n",
       "<style scoped>\n",
       "    .dataframe tbody tr th:only-of-type {\n",
       "        vertical-align: middle;\n",
       "    }\n",
       "\n",
       "    .dataframe tbody tr th {\n",
       "        vertical-align: top;\n",
       "    }\n",
       "\n",
       "    .dataframe thead th {\n",
       "        text-align: right;\n",
       "    }\n",
       "</style>\n",
       "<table border=\"1\" class=\"dataframe\">\n",
       "  <thead>\n",
       "    <tr style=\"text-align: right;\">\n",
       "      <th></th>\n",
       "      <th>object_type</th>\n",
       "      <th>object_name</th>\n",
       "      <th>percent_object_types</th>\n",
       "    </tr>\n",
       "  </thead>\n",
       "  <tbody>\n",
       "    <tr>\n",
       "      <td>3</td>\n",
       "      <td>кафе</td>\n",
       "      <td>6007</td>\n",
       "      <td>39.6%</td>\n",
       "    </tr>\n",
       "    <tr>\n",
       "      <td>7</td>\n",
       "      <td>столовая</td>\n",
       "      <td>2574</td>\n",
       "      <td>17.0%</td>\n",
       "    </tr>\n",
       "    <tr>\n",
       "      <td>6</td>\n",
       "      <td>ресторан</td>\n",
       "      <td>2266</td>\n",
       "      <td>14.9%</td>\n",
       "    </tr>\n",
       "    <tr>\n",
       "      <td>8</td>\n",
       "      <td>фаст-фуд</td>\n",
       "      <td>1884</td>\n",
       "      <td>12.4%</td>\n",
       "    </tr>\n",
       "    <tr>\n",
       "      <td>0</td>\n",
       "      <td>бар</td>\n",
       "      <td>852</td>\n",
       "      <td>5.6%</td>\n",
       "    </tr>\n",
       "    <tr>\n",
       "      <td>1</td>\n",
       "      <td>буфет</td>\n",
       "      <td>568</td>\n",
       "      <td>3.7%</td>\n",
       "    </tr>\n",
       "    <tr>\n",
       "      <td>4</td>\n",
       "      <td>кафетерий</td>\n",
       "      <td>391</td>\n",
       "      <td>2.6%</td>\n",
       "    </tr>\n",
       "    <tr>\n",
       "      <td>2</td>\n",
       "      <td>закусочная</td>\n",
       "      <td>346</td>\n",
       "      <td>2.3%</td>\n",
       "    </tr>\n",
       "    <tr>\n",
       "      <td>5</td>\n",
       "      <td>кулинария</td>\n",
       "      <td>271</td>\n",
       "      <td>1.8%</td>\n",
       "    </tr>\n",
       "  </tbody>\n",
       "</table>\n",
       "</div>"
      ],
      "text/plain": [
       "  object_type  object_name percent_object_types\n",
       "3        кафе         6007                39.6%\n",
       "7    столовая         2574                17.0%\n",
       "6    ресторан         2266                14.9%\n",
       "8    фаст-фуд         1884                12.4%\n",
       "0         бар          852                 5.6%\n",
       "1       буфет          568                 3.7%\n",
       "4   кафетерий          391                 2.6%\n",
       "2  закусочная          346                 2.3%\n",
       "5   кулинария          271                 1.8%"
      ]
     },
     "execution_count": 24,
     "metadata": {},
     "output_type": "execute_result"
    }
   ],
   "source": [
    "# Для установления количества каждого типа ООП\n",
    "# сформируем таблицу с группировкой по типу ООП\n",
    "object_types = df.groupby('object_type', as_index=False).agg({'object_name':'count'}).sort_values(by='object_name', ascending=False)\n",
    "# добавим столбец с процентным соотношением типа ООП к общему количеству ООП\n",
    "object_types['percent_object_types'] = (object_types['object_name']/object_types['object_name'].sum()*100).round(1).astype('str') + '%'\n",
    "object_types"
   ]
  },
  {
   "cell_type": "markdown",
   "metadata": {},
   "source": [
    "**Самый популярный тип ООП - кафе (39,6 % ООП), на втором месте - столовая (17 %), на третьем - ресторан (14,9 %). Наименее распространенные ООП - отдел кулинарии в магазине (1,8 %), закусочная (2,3 %) и кафетерий (2,6 %).**"
   ]
  },
  {
   "cell_type": "code",
   "execution_count": 25,
   "metadata": {},
   "outputs": [
    {
     "data": {
      "image/png": "[encoded data removed]",
      "text/plain": [
       "<Figure size 1152x648 with 1 Axes>"
      ]
     },
     "metadata": {
      "needs_background": "light"
     },
     "output_type": "display_data"
    }
   ],
   "source": [
    "# Визуализируем полученные данные, применим Barplot() \n",
    "# у нас категориальные данные, а интерактивный график нельзя в полной мере использовать в презентации pdf\n",
    "plt.figure(figsize = (16, 9))\n",
    "ax = sns.barplot(x=\"object_type\", y=\"object_name\", edgecolor=\"k\", data=object_types.sort_values(by='object_name', ascending = False))\n",
    "plt.title('Распределение типов ООП по количеству в Москве')\n",
    "ax.set_xlabel('Тип ООП')\n",
    "ax.set_ylabel('Количество ООП')\n",
    "plt.xticks(rotation=45)\n",
    "\n",
    "# укажем процентные значения над столбцами \n",
    "total = float(sum(object_types['object_name']))\n",
    "for p in ax.patches:\n",
    "    height = p.get_height()\n",
    "    ax.text(p.get_x()+p.get_width()/2.,\n",
    "            height + 20,\n",
    "            '{:1.1f}%'.format(height/total*100),\n",
    "            ha=\"center\")\n",
    "plt.show()"
   ]
  },
  {
   "cell_type": "markdown",
   "metadata": {},
   "source": [
    "### 3.2. Количественное соотношение сетевых и несетевых ООП"
   ]
  },
  {
   "cell_type": "code",
   "execution_count": 26,
   "metadata": {},
   "outputs": [
    {
     "data": {
      "text/html": [
       "<div>\n",
       "<style scoped>\n",
       "    .dataframe tbody tr th:only-of-type {\n",
       "        vertical-align: middle;\n",
       "    }\n",
       "\n",
       "    .dataframe tbody tr th {\n",
       "        vertical-align: top;\n",
       "    }\n",
       "\n",
       "    .dataframe thead th {\n",
       "        text-align: right;\n",
       "    }\n",
       "</style>\n",
       "<table border=\"1\" class=\"dataframe\">\n",
       "  <thead>\n",
       "    <tr style=\"text-align: right;\">\n",
       "      <th></th>\n",
       "      <th>chain</th>\n",
       "      <th>object_name</th>\n",
       "      <th>percent_object_chain</th>\n",
       "    </tr>\n",
       "  </thead>\n",
       "  <tbody>\n",
       "    <tr>\n",
       "      <td>0</td>\n",
       "      <td>несетевой</td>\n",
       "      <td>12218</td>\n",
       "      <td>80.6%</td>\n",
       "    </tr>\n",
       "    <tr>\n",
       "      <td>1</td>\n",
       "      <td>сетевой</td>\n",
       "      <td>2941</td>\n",
       "      <td>19.4%</td>\n",
       "    </tr>\n",
       "  </tbody>\n",
       "</table>\n",
       "</div>"
      ],
      "text/plain": [
       "       chain  object_name percent_object_chain\n",
       "0  несетевой        12218                80.6%\n",
       "1    сетевой         2941                19.4%"
      ]
     },
     "execution_count": 26,
     "metadata": {},
     "output_type": "execute_result"
    }
   ],
   "source": [
    "# Для установления количества ООП по распространенности (сетевое/несетевое)\n",
    "# сформируем таблицу с группировкой по типу распространения ООП\n",
    "object_chain = df.groupby('chain', as_index=False).agg({'object_name':'count'}).sort_values(by='object_name', ascending=False)\n",
    "# добавим столбец с процентным соотношением типа распространения ООП к общему количеству ООП\n",
    "object_chain['percent_object_chain'] = (object_chain['object_name']/object_chain['object_name'].sum()*100).round(1).astype('str') + '%'\n",
    "object_chain"
   ]
  },
  {
   "cell_type": "markdown",
   "metadata": {},
   "source": [
    "**80,6 % ООП Москвы - несетевые, и только 19,4 % имеют сетевое распространение.**"
   ]
  },
  {
   "cell_type": "code",
   "execution_count": 27,
   "metadata": {},
   "outputs": [
    {
     "data": {
      "image/png": "[encoded data removed]",
      "text/plain": [
       "<Figure size 1080x360 with 1 Axes>"
      ]
     },
     "metadata": {},
     "output_type": "display_data"
    }
   ],
   "source": [
    "# Визуализируем полученные данные, построим круговую диаграмму \n",
    "\n",
    "explode = (0.05, 0)  # сектор 'ultra' немного выдвинем\n",
    "\n",
    "ax_pie = object_chain.plot(kind='pie', y='object_name', fontsize=15, use_index=False, shadow=True, explode=explode,\n",
    "                        title = 'Соотношение сетевых и несетевых ООП по количеству в Москве', pctdistance=0.45, figsize=(15,5), \n",
    "                        autopct='%1.1f%%', colors=['#92C6FF', '#97F0AA'], labels=None)\n",
    "\n",
    "plt.tight_layout(pad=0)\n",
    "\n",
    "legend = ax_pie.legend(['Несетевой ООП', 'Сетевой ООП'], bbox_to_anchor=(0.89,0.87), prop={'size':14})\n",
    "y_label = ax_pie.set_ylabel('')"
   ]
  },
  {
   "cell_type": "markdown",
   "metadata": {},
   "source": [
    "### 3.3. Тип ООП, характерный для сетевого распространения"
   ]
  },
  {
   "cell_type": "code",
   "execution_count": 28,
   "metadata": {},
   "outputs": [
    {
     "data": {
      "text/html": [
       "<div>\n",
       "<style scoped>\n",
       "    .dataframe tbody tr th:only-of-type {\n",
       "        vertical-align: middle;\n",
       "    }\n",
       "\n",
       "    .dataframe tbody tr th {\n",
       "        vertical-align: top;\n",
       "    }\n",
       "\n",
       "    .dataframe thead th {\n",
       "        text-align: right;\n",
       "    }\n",
       "</style>\n",
       "<table border=\"1\" class=\"dataframe\">\n",
       "  <thead>\n",
       "    <tr style=\"text-align: right;\">\n",
       "      <th></th>\n",
       "      <th>object_type</th>\n",
       "      <th>chain_objects</th>\n",
       "      <th>all_objects</th>\n",
       "      <th>percent%</th>\n",
       "      <th>percent_of_type</th>\n",
       "      <th>percent_of_type%</th>\n",
       "    </tr>\n",
       "  </thead>\n",
       "  <tbody>\n",
       "    <tr>\n",
       "      <td>0</td>\n",
       "      <td>кафе</td>\n",
       "      <td>1387</td>\n",
       "      <td>6007</td>\n",
       "      <td>47.2%</td>\n",
       "      <td>23.09</td>\n",
       "      <td>23.09%</td>\n",
       "    </tr>\n",
       "    <tr>\n",
       "      <td>1</td>\n",
       "      <td>фаст-фуд</td>\n",
       "      <td>779</td>\n",
       "      <td>1884</td>\n",
       "      <td>26.5%</td>\n",
       "      <td>41.35</td>\n",
       "      <td>41.35%</td>\n",
       "    </tr>\n",
       "    <tr>\n",
       "      <td>2</td>\n",
       "      <td>ресторан</td>\n",
       "      <td>539</td>\n",
       "      <td>2266</td>\n",
       "      <td>18.3%</td>\n",
       "      <td>23.79</td>\n",
       "      <td>23.79%</td>\n",
       "    </tr>\n",
       "    <tr>\n",
       "      <td>3</td>\n",
       "      <td>кулинария</td>\n",
       "      <td>78</td>\n",
       "      <td>271</td>\n",
       "      <td>2.7%</td>\n",
       "      <td>28.78</td>\n",
       "      <td>28.78%</td>\n",
       "    </tr>\n",
       "    <tr>\n",
       "      <td>4</td>\n",
       "      <td>закусочная</td>\n",
       "      <td>56</td>\n",
       "      <td>346</td>\n",
       "      <td>1.9%</td>\n",
       "      <td>16.18</td>\n",
       "      <td>16.18%</td>\n",
       "    </tr>\n",
       "    <tr>\n",
       "      <td>5</td>\n",
       "      <td>кафетерий</td>\n",
       "      <td>51</td>\n",
       "      <td>391</td>\n",
       "      <td>1.7%</td>\n",
       "      <td>13.04</td>\n",
       "      <td>13.04%</td>\n",
       "    </tr>\n",
       "    <tr>\n",
       "      <td>6</td>\n",
       "      <td>бар</td>\n",
       "      <td>37</td>\n",
       "      <td>852</td>\n",
       "      <td>1.3%</td>\n",
       "      <td>4.34</td>\n",
       "      <td>4.34%</td>\n",
       "    </tr>\n",
       "    <tr>\n",
       "      <td>7</td>\n",
       "      <td>буфет</td>\n",
       "      <td>11</td>\n",
       "      <td>568</td>\n",
       "      <td>0.4%</td>\n",
       "      <td>1.94</td>\n",
       "      <td>1.94%</td>\n",
       "    </tr>\n",
       "    <tr>\n",
       "      <td>8</td>\n",
       "      <td>столовая</td>\n",
       "      <td>3</td>\n",
       "      <td>2574</td>\n",
       "      <td>0.1%</td>\n",
       "      <td>0.12</td>\n",
       "      <td>0.12%</td>\n",
       "    </tr>\n",
       "  </tbody>\n",
       "</table>\n",
       "</div>"
      ],
      "text/plain": [
       "  object_type  chain_objects  all_objects percent%  percent_of_type  \\\n",
       "0        кафе           1387         6007    47.2%            23.09   \n",
       "1    фаст-фуд            779         1884    26.5%            41.35   \n",
       "2    ресторан            539         2266    18.3%            23.79   \n",
       "3   кулинария             78          271     2.7%            28.78   \n",
       "4  закусочная             56          346     1.9%            16.18   \n",
       "5   кафетерий             51          391     1.7%            13.04   \n",
       "6         бар             37          852     1.3%             4.34   \n",
       "7       буфет             11          568     0.4%             1.94   \n",
       "8    столовая              3         2574     0.1%             0.12   \n",
       "\n",
       "  percent_of_type%  \n",
       "0           23.09%  \n",
       "1           41.35%  \n",
       "2           23.79%  \n",
       "3           28.78%  \n",
       "4           16.18%  \n",
       "5           13.04%  \n",
       "6            4.34%  \n",
       "7            1.94%  \n",
       "8            0.12%  "
      ]
     },
     "execution_count": 28,
     "metadata": {},
     "output_type": "execute_result"
    }
   ],
   "source": [
    "# Подготовим данные: для установления количества каждого типа сетевого ООП\n",
    "# сформируем таблицу с группировкой по типу ООП с фильтром \"сетевой\" \n",
    "chain_object_types = df[df['chain']=='сетевой'].groupby('object_type', as_index=False).agg({'object_name':'count'}).sort_values(by='object_name', ascending=False)\n",
    "\n",
    "# объединим с полученным ранее датафреймом, чтобы получить столбец с общим количеством ООП каждого типа\n",
    "chain_object_types = chain_object_types.merge(object_types[['object_type', 'object_name']], \n",
    "                                              left_on='object_type', right_on='object_type')\n",
    "chain_object_types.columns=['object_type', 'chain_objects', 'all_objects']\n",
    "\n",
    "# добавим столбец с процентным соотношением типа сетевого ООП к общему количеству сетевых ООП\n",
    "chain_object_types['percent%'] = (chain_object_types['chain_objects'] / chain_object_types['chain_objects'].sum()*100).round(1).astype('str')+'%'\n",
    "\n",
    "# добавим столбец с процентным соотношением типа сетевого ООП к общему количеству ООП этого типа\n",
    "chain_object_types['percent_of_type'] = (chain_object_types['chain_objects'] / chain_object_types['all_objects']*100).round(2)\n",
    "chain_object_types['percent_of_type%'] = chain_object_types['percent_of_type'].astype('str')+'%'\n",
    "chain_object_types"
   ]
  },
  {
   "cell_type": "markdown",
   "metadata": {},
   "source": [
    "**В ТОП-3 самых популярных типов сетевых ООП входят:**\n",
    "- **Кафе**                                         - 47,2 % от общего количества сетевых ООП\n",
    "- **Фаст- фуд** (предприятие быстрого обслуживания) - 26,5 %\n",
    "- **Ресторан**                                     - 18,3 %\n",
    "\n",
    "**Совокупная доля остальных типов сетевых ООП от общего количества сетевых ООП составляет 8 %**"
   ]
  },
  {
   "cell_type": "code",
   "execution_count": 29,
   "metadata": {},
   "outputs": [
    {
     "data": {
      "image/png": "[encoded data removed]",
      "text/plain": [
       "<Figure size 1152x648 with 1 Axes>"
      ]
     },
     "metadata": {
      "needs_background": "light"
     },
     "output_type": "display_data"
    }
   ],
   "source": [
    "# Визуализируем полученные данные, применим Barplot() \n",
    "plt.figure(figsize = (16, 9))\n",
    "ax = sns.barplot(x=\"object_type\", y=\"chain_objects\", edgecolor=\"k\", data=chain_object_types.sort_values(by='chain_objects', ascending = False))\n",
    "plt.title('Распределение типов сетевых ООП по количеству в Москве')\n",
    "ax.set_xlabel('Тип сетевого ООП')\n",
    "ax.set_ylabel('Количество')\n",
    "plt.xticks(rotation=45)\n",
    "\n",
    "# укажем процентные значения над столбцами \n",
    "total = float(sum(chain_object_types['chain_objects']))\n",
    "for p in ax.patches:\n",
    "    height = p.get_height()\n",
    "    ax.text(p.get_x()+p.get_width()/2.,\n",
    "            height + 20,\n",
    "            '{:1.1f}%'.format(height/total*100),\n",
    "            ha=\"center\")\n",
    "plt.show()"
   ]
  },
  {
   "cell_type": "code",
   "execution_count": 30,
   "metadata": {},
   "outputs": [
    {
     "data": {
      "image/png": "[encoded data removed]",
      "text/plain": [
       "<Figure size 1152x648 with 1 Axes>"
      ]
     },
     "metadata": {
      "needs_background": "light"
     },
     "output_type": "display_data"
    }
   ],
   "source": [
    "# Визуализируем полученные данные, посмотрим на долю сетевых ООП от общего количества ООП в Москве по типам\n",
    "plt.figure(figsize = (16, 9))\n",
    "ax = sns.barplot(x=\"object_type\", y=\"percent_of_type\", edgecolor=\"k\", data=chain_object_types.sort_values(by='percent_of_type', ascending = False))\n",
    "plt.title('Доля сетевых ООП от общего количества ООП в Москве по типам')\n",
    "ax.set_xlabel('Тип сетевого ООП')\n",
    "ax.set_ylabel('Количество')\n",
    "plt.xticks(rotation=45)\n",
    "\n",
    "# укажем процентные значения над столбцами \n",
    "\n",
    "for p in ax.patches:\n",
    "    height = p.get_height()\n",
    "    ax.text(p.get_x()+p.get_width()/2.,\n",
    "            height + 0.5,\n",
    "            '{:1.1f}%'.format(height),\n",
    "            ha=\"center\")\n",
    "plt.show()"
   ]
  },
  {
   "cell_type": "markdown",
   "metadata": {},
   "source": [
    "**Сетевое распространение в Москве характерно для следующих типов ООП:**\n",
    "- **Фаст- фуд** (предприятие быстрого обслуживания) - 41,4 % от общего количества ООП \"Фаст-фуд\" в Москве\n",
    "- **Кулинария**                                    - 28,8 % от общего количества отделов кулинарии в магазинах в Москве\n",
    "- **Ресторан**                                     - 23,8 % от общего количества ресторанов в Москве\n",
    "- **Кафе**                                         - 23,1 % от общего количества кафе в Москве\n",
    "- **Закусочная**                                   - 16,2 % от общего количества закусочных в Москве\n",
    "\n",
    "**Сетевое распространение в Москве практически не характерно для столовых (0,1 % всех столовых), буфетов (1,9 %) и баров (4,3 %).**"
   ]
  },
  {
   "cell_type": "markdown",
   "metadata": {},
   "source": [
    "### 3.4. Число и вместимость ООП, характерных для сетевого распространения"
   ]
  },
  {
   "cell_type": "code",
   "execution_count": 31,
   "metadata": {},
   "outputs": [
    {
     "name": "stdout",
     "output_type": "stream",
     "text": [
      "                            objects  median_number\n",
      "object_name                                       \n",
      "Темпл Бар                         1          356.0\n",
      "БАКИНСКИЙ БУЛЬВАР                 1          350.0\n",
      "Чешская пивная «Козловица»        1          306.0\n",
      "Ян Примус                         1          300.0\n",
      "Кафе МУ-МУ                        1          300.0\n",
      "...                             ...            ...\n",
      "МагБургер                         1            0.0\n",
      "МИЛТИ                             7            0.0\n",
      "Ливан-Хаус                        1            0.0\n",
      "Кофейня «Кофе Хаус»               1            0.0\n",
      "Кофе с собой                     41            0.0\n",
      "\n",
      "[724 rows x 2 columns]\n",
      "                                            objects  median_number\n",
      "object_name                                                       \n",
      "KFC                                             152           46.5\n",
      "Шоколадница                                     139           50.0\n",
      "Бургер Кинг                                     121           42.0\n",
      "Макдоналдс                                      118           75.5\n",
      "Домино'с Пицца                                   86           16.0\n",
      "...                                             ...            ...\n",
      "Кафе «МЕЛЕНКА»                                    1           60.0\n",
      "Кафе «МАКДОНАЛДС»                                 1           40.0\n",
      "Кафе «Кулинарное бюро»                            1           18.0\n",
      "Кафе «Кулинарная лавка братьев Караваевых»        1           10.0\n",
      "ресторан «Якитория»                               1          124.0\n",
      "\n",
      "[724 rows x 2 columns]\n"
     ]
    }
   ],
   "source": [
    "# Подготовим данные: сформируем таблицу с группировкой по наименованию сетевого ООП\n",
    "chain_objects = df[df['chain']=='сетевой'].groupby('object_name').agg({'object_name':'count', 'number':'median'})\n",
    "chain_objects.columns = ['objects', 'median_number']\n",
    "print(chain_objects.sort_values(by='median_number', ascending = False))\n",
    "print(chain_objects.sort_values(by='objects', ascending = False))"
   ]
  },
  {
   "cell_type": "markdown",
   "metadata": {},
   "source": [
    "**В таблице представлены данные 724 сетей. Очевидно наличие сетей с одним заведением (возможно именно в Москве сеть представлена одним заведением, другие заведения сети находятся в других городах) и сетей без посадочных мест (кулинарии в сетевых магазинах и закусочные). Учитывая, что подробный анализ наименований ООП и типа распространения \"сетевой\" не проводился, можно предположить, что в ряд сетевых заведений попали при группировке не все их ООП из-за некорректных наименований. Однако имеющиеся в нашем распоряжении открытые данные могут дать нам общее представление для ответа на поставленные вопросы проекта. Учитывая, что по исходным данным можно охарактеризовать только общие тенденции развития рынка общественного питания Москвы, а также ограниченные временные ресурсы, проводить дополнительную обработку данных не рационально.**"
   ]
  },
  {
   "cell_type": "code",
   "execution_count": 32,
   "metadata": {},
   "outputs": [
    {
     "data": {
      "image/png": "[encoded data removed]",
      "text/plain": [
       "<Figure size 720x720 with 3 Axes>"
      ]
     },
     "metadata": {
      "needs_background": "light"
     },
     "output_type": "display_data"
    }
   ],
   "source": [
    "# Визуализируем полученные данные\n",
    "\n",
    "ax = sns.jointplot(x='median_number', y='objects', data=chain_objects, kind='reg', height=10)\n",
    "plt.xlabel('Медианное количество посадочных мест')\n",
    "plt.ylabel('Количество объектов в сети')\n",
    "plt.title('Распределение количества сетевых заведений и медианного количества посадочных мест в них', loc = 'right',\n",
    "                pad = 120 , fontsize=15)\n",
    "plt.axhline(np.percentile(chain_objects['objects'], 90), linestyle='--', color='red')\n",
    "plt.axvline(np.percentile(chain_objects['median_number'], 90), linestyle='--', color='red')\n",
    "plt.text(150,10, '90% заведений ниже этой линии')\n",
    "plt.text(135,100, '90% заведений левее этой линии')\n",
    "plt.axhline(np.percentile(chain_objects['objects'], 50), linestyle='--', color='red')\n",
    "plt.axvline(np.percentile(chain_objects['median_number'], 50), linestyle='--', color='red')\n",
    "plt.text(50,3, '50% заведений ниже этой линии')\n",
    "plt.text(50,70, '50% заведений левее этой линии')\n",
    "plt.show()"
   ]
  },
  {
   "cell_type": "code",
   "execution_count": 33,
   "metadata": {},
   "outputs": [
    {
     "name": "stdout",
     "output_type": "stream",
     "text": [
      "От 90 до 95% сетей имеют не больше 154 посадочных мест и 12 заведений в среднем\n"
     ]
    }
   ],
   "source": [
    "print('От 90 до 95% сетей имеют не больше {} посадочных мест и {} заведений в среднем'.format(int(np.percentile(chain_objects['median_number'], 95)) , int(np.percentile(chain_objects['objects'], 95))))"
   ]
  },
  {
   "cell_type": "markdown",
   "metadata": {},
   "source": [
    "**Регрессия на графике проходит ниже 95% сетевых ООП, начинается от 90% по количеству ООП (6) и спускается до 0, имеется заметное число выбросов - сетей с количеством ООП примерно до 150.  Медианное количество мест по линии регрессии растет от 0 до 350.**\n",
    "\n",
    "**Около 50% сетевых ООП имеет только одно заведение с вместимостью по медиане до 45.**\n",
    "\n",
    "**Чем больше медианное число посадочных мест, тем меньше количество сетевых ООП с таким числом мест.**\n",
    "\n",
    "**Ниже выведено среднее число ООП в сети и медианное число посадочных мест в них, на отметках 50 и 90 % - малое число заведений в сети и довольно большое число посадочных мест в них.**"
   ]
  },
  {
   "cell_type": "code",
   "execution_count": 34,
   "metadata": {},
   "outputs": [
    {
     "name": "stdout",
     "output_type": "stream",
     "text": [
      "От 50 до 90% сетей имеют не больше 130 посадочных мест и 6 заведений в среднем\n"
     ]
    }
   ],
   "source": [
    "print('От 50 до 90% сетей имеют не больше {} посадочных мест и {} заведений в среднем'.format(int(np.percentile(chain_objects['median_number'], 90)) , int(np.percentile(chain_objects['objects'], 90))))"
   ]
  },
  {
   "cell_type": "code",
   "execution_count": 35,
   "metadata": {},
   "outputs": [
    {
     "name": "stdout",
     "output_type": "stream",
     "text": [
      "До 50% сетей имеют не больше 45 посадочных мест и 1 заведение в среднем\n"
     ]
    }
   ],
   "source": [
    "print('До 50% сетей имеют не больше {} посадочных мест и {} заведение в среднем'.format(int(np.percentile(chain_objects['median_number'], 50)) , int(np.percentile(chain_objects['objects'], 50))))"
   ]
  },
  {
   "cell_type": "markdown",
   "metadata": {},
   "source": [
    "### 3.5. Средняя вместимость для каждого типа ООП"
   ]
  },
  {
   "cell_type": "code",
   "execution_count": 36,
   "metadata": {},
   "outputs": [
    {
     "data": {
      "text/html": [
       "<div>\n",
       "<style scoped>\n",
       "    .dataframe tbody tr th:only-of-type {\n",
       "        vertical-align: middle;\n",
       "    }\n",
       "\n",
       "    .dataframe tbody tr th {\n",
       "        vertical-align: top;\n",
       "    }\n",
       "\n",
       "    .dataframe thead th {\n",
       "        text-align: right;\n",
       "    }\n",
       "</style>\n",
       "<table border=\"1\" class=\"dataframe\">\n",
       "  <thead>\n",
       "    <tr style=\"text-align: right;\">\n",
       "      <th></th>\n",
       "      <th>object_type</th>\n",
       "      <th>objects</th>\n",
       "      <th>median_number</th>\n",
       "    </tr>\n",
       "  </thead>\n",
       "  <tbody>\n",
       "    <tr>\n",
       "      <td>7</td>\n",
       "      <td>столовая</td>\n",
       "      <td>2574</td>\n",
       "      <td>103</td>\n",
       "    </tr>\n",
       "    <tr>\n",
       "      <td>6</td>\n",
       "      <td>ресторан</td>\n",
       "      <td>2266</td>\n",
       "      <td>80</td>\n",
       "    </tr>\n",
       "    <tr>\n",
       "      <td>0</td>\n",
       "      <td>бар</td>\n",
       "      <td>852</td>\n",
       "      <td>35</td>\n",
       "    </tr>\n",
       "    <tr>\n",
       "      <td>1</td>\n",
       "      <td>буфет</td>\n",
       "      <td>568</td>\n",
       "      <td>32</td>\n",
       "    </tr>\n",
       "    <tr>\n",
       "      <td>3</td>\n",
       "      <td>кафе</td>\n",
       "      <td>6007</td>\n",
       "      <td>31</td>\n",
       "    </tr>\n",
       "    <tr>\n",
       "      <td>4</td>\n",
       "      <td>кафетерий</td>\n",
       "      <td>391</td>\n",
       "      <td>6</td>\n",
       "    </tr>\n",
       "    <tr>\n",
       "      <td>8</td>\n",
       "      <td>фаст-фуд</td>\n",
       "      <td>1884</td>\n",
       "      <td>6</td>\n",
       "    </tr>\n",
       "    <tr>\n",
       "      <td>2</td>\n",
       "      <td>закусочная</td>\n",
       "      <td>346</td>\n",
       "      <td>0</td>\n",
       "    </tr>\n",
       "    <tr>\n",
       "      <td>5</td>\n",
       "      <td>кулинария</td>\n",
       "      <td>271</td>\n",
       "      <td>0</td>\n",
       "    </tr>\n",
       "  </tbody>\n",
       "</table>\n",
       "</div>"
      ],
      "text/plain": [
       "  object_type  objects  median_number\n",
       "7    столовая     2574            103\n",
       "6    ресторан     2266             80\n",
       "0         бар      852             35\n",
       "1       буфет      568             32\n",
       "3        кафе     6007             31\n",
       "4   кафетерий      391              6\n",
       "8    фаст-фуд     1884              6\n",
       "2  закусочная      346              0\n",
       "5   кулинария      271              0"
      ]
     },
     "execution_count": 36,
     "metadata": {},
     "output_type": "execute_result"
    }
   ],
   "source": [
    "# Подготовим данные: для установления средней вместимости каждого типа сетевого ООП\n",
    "# сформируем таблицу с группировкой по типу ООП\n",
    "object_types_1 = df.groupby('object_type', as_index=False).agg({'object_name':'count', 'number':'median'}).sort_values(by='number', ascending=False)\n",
    "object_types_1.columns = ['object_type', 'objects', 'median_number']\n",
    "object_types_1                                                                                                                           "
   ]
  },
  {
   "cell_type": "code",
   "execution_count": 37,
   "metadata": {},
   "outputs": [
    {
     "data": {
      "text/html": [
       "<div>\n",
       "<style scoped>\n",
       "    .dataframe tbody tr th:only-of-type {\n",
       "        vertical-align: middle;\n",
       "    }\n",
       "\n",
       "    .dataframe tbody tr th {\n",
       "        vertical-align: top;\n",
       "    }\n",
       "\n",
       "    .dataframe thead th {\n",
       "        text-align: right;\n",
       "    }\n",
       "</style>\n",
       "<table border=\"1\" class=\"dataframe\">\n",
       "  <thead>\n",
       "    <tr style=\"text-align: right;\">\n",
       "      <th></th>\n",
       "      <th>count</th>\n",
       "      <th>mean</th>\n",
       "      <th>std</th>\n",
       "      <th>min</th>\n",
       "      <th>25%</th>\n",
       "      <th>50%</th>\n",
       "      <th>75%</th>\n",
       "      <th>max</th>\n",
       "    </tr>\n",
       "    <tr>\n",
       "      <th>object_type</th>\n",
       "      <th></th>\n",
       "      <th></th>\n",
       "      <th></th>\n",
       "      <th></th>\n",
       "      <th></th>\n",
       "      <th></th>\n",
       "      <th></th>\n",
       "      <th></th>\n",
       "    </tr>\n",
       "  </thead>\n",
       "  <tbody>\n",
       "    <tr>\n",
       "      <td>столовая</td>\n",
       "      <td>2574.0</td>\n",
       "      <td>130.365190</td>\n",
       "      <td>95.273160</td>\n",
       "      <td>0.0</td>\n",
       "      <td>52.0</td>\n",
       "      <td>103.0</td>\n",
       "      <td>200.0</td>\n",
       "      <td>1400.0</td>\n",
       "    </tr>\n",
       "    <tr>\n",
       "      <td>ресторан</td>\n",
       "      <td>2266.0</td>\n",
       "      <td>97.206090</td>\n",
       "      <td>95.003722</td>\n",
       "      <td>0.0</td>\n",
       "      <td>47.0</td>\n",
       "      <td>80.0</td>\n",
       "      <td>115.0</td>\n",
       "      <td>1500.0</td>\n",
       "    </tr>\n",
       "    <tr>\n",
       "      <td>буфет</td>\n",
       "      <td>568.0</td>\n",
       "      <td>51.540493</td>\n",
       "      <td>56.462175</td>\n",
       "      <td>0.0</td>\n",
       "      <td>14.0</td>\n",
       "      <td>32.0</td>\n",
       "      <td>80.0</td>\n",
       "      <td>320.0</td>\n",
       "    </tr>\n",
       "    <tr>\n",
       "      <td>бар</td>\n",
       "      <td>852.0</td>\n",
       "      <td>43.600939</td>\n",
       "      <td>67.215163</td>\n",
       "      <td>0.0</td>\n",
       "      <td>20.0</td>\n",
       "      <td>35.0</td>\n",
       "      <td>50.0</td>\n",
       "      <td>1700.0</td>\n",
       "    </tr>\n",
       "    <tr>\n",
       "      <td>кафе</td>\n",
       "      <td>6007.0</td>\n",
       "      <td>39.834193</td>\n",
       "      <td>37.752813</td>\n",
       "      <td>0.0</td>\n",
       "      <td>15.0</td>\n",
       "      <td>31.0</td>\n",
       "      <td>50.0</td>\n",
       "      <td>533.0</td>\n",
       "    </tr>\n",
       "    <tr>\n",
       "      <td>фаст-фуд</td>\n",
       "      <td>1884.0</td>\n",
       "      <td>20.771762</td>\n",
       "      <td>38.597710</td>\n",
       "      <td>0.0</td>\n",
       "      <td>0.0</td>\n",
       "      <td>6.0</td>\n",
       "      <td>25.0</td>\n",
       "      <td>580.0</td>\n",
       "    </tr>\n",
       "    <tr>\n",
       "      <td>кафетерий</td>\n",
       "      <td>391.0</td>\n",
       "      <td>9.168798</td>\n",
       "      <td>14.679207</td>\n",
       "      <td>0.0</td>\n",
       "      <td>0.0</td>\n",
       "      <td>6.0</td>\n",
       "      <td>12.0</td>\n",
       "      <td>200.0</td>\n",
       "    </tr>\n",
       "    <tr>\n",
       "      <td>закусочная</td>\n",
       "      <td>346.0</td>\n",
       "      <td>7.037572</td>\n",
       "      <td>12.302057</td>\n",
       "      <td>0.0</td>\n",
       "      <td>0.0</td>\n",
       "      <td>0.0</td>\n",
       "      <td>10.0</td>\n",
       "      <td>91.0</td>\n",
       "    </tr>\n",
       "    <tr>\n",
       "      <td>кулинария</td>\n",
       "      <td>271.0</td>\n",
       "      <td>5.616236</td>\n",
       "      <td>9.902878</td>\n",
       "      <td>0.0</td>\n",
       "      <td>0.0</td>\n",
       "      <td>0.0</td>\n",
       "      <td>8.0</td>\n",
       "      <td>50.0</td>\n",
       "    </tr>\n",
       "  </tbody>\n",
       "</table>\n",
       "</div>"
      ],
      "text/plain": [
       "              count        mean        std  min   25%    50%    75%     max\n",
       "object_type                                                                \n",
       "столовая     2574.0  130.365190  95.273160  0.0  52.0  103.0  200.0  1400.0\n",
       "ресторан     2266.0   97.206090  95.003722  0.0  47.0   80.0  115.0  1500.0\n",
       "буфет         568.0   51.540493  56.462175  0.0  14.0   32.0   80.0   320.0\n",
       "бар           852.0   43.600939  67.215163  0.0  20.0   35.0   50.0  1700.0\n",
       "кафе         6007.0   39.834193  37.752813  0.0  15.0   31.0   50.0   533.0\n",
       "фаст-фуд     1884.0   20.771762  38.597710  0.0   0.0    6.0   25.0   580.0\n",
       "кафетерий     391.0    9.168798  14.679207  0.0   0.0    6.0   12.0   200.0\n",
       "закусочная    346.0    7.037572  12.302057  0.0   0.0    0.0   10.0    91.0\n",
       "кулинария     271.0    5.616236   9.902878  0.0   0.0    0.0    8.0    50.0"
      ]
     },
     "execution_count": 37,
     "metadata": {},
     "output_type": "execute_result"
    }
   ],
   "source": [
    "df.groupby('object_type')['number'].describe().sort_values(by='mean', ascending=False)"
   ]
  },
  {
   "cell_type": "markdown",
   "metadata": {},
   "source": [
    "**Распределение медианной вместимости разных типов ООП (ТОП-5 по вместимости):**\n",
    "- **Столовая** - 103 посадочных места\n",
    "- **Ресторан** - 80 посадочных мест\n",
    "- **Бар**      - 35 посадочных мест\n",
    "- **Буфет**    - 32 посадочных места\n",
    "- **Кафе**     - 31 посадочное место\n",
    "\n",
    "**Средняя вместимость отличается по значениям от медианной, однако порядок ТОП-5 по вместимости практически такой же, за исключением взаимной смены позиций у типов бар/буфет.**"
   ]
  },
  {
   "cell_type": "code",
   "execution_count": 38,
   "metadata": {},
   "outputs": [
    {
     "data": {
      "image/png": "[encoded data removed]",
      "text/plain": [
       "<Figure size 1152x648 with 1 Axes>"
      ]
     },
     "metadata": {
      "needs_background": "light"
     },
     "output_type": "display_data"
    }
   ],
   "source": [
    "# Визуализируем полученные данные, посмотрим на распределение вместимости по типам ООП\n",
    "plt.figure(figsize = (16, 9))\n",
    "ax = sns.barplot(x=\"object_type\", y=\"median_number\", edgecolor=\"k\", data=object_types_1.sort_values(by='median_number', ascending = False))\n",
    "plt.title('Медианная вместимость по типам ООП')\n",
    "ax.set_xlabel('Тип ООП')\n",
    "ax.set_ylabel('Вместимость')\n",
    "plt.xticks(rotation=45)\n",
    "\n",
    "# укажем значения над столбцами \n",
    "\n",
    "for p in ax.patches:\n",
    "    height = p.get_height()\n",
    "    ax.text(p.get_x()+p.get_width()/2.,\n",
    "            height + 0.5,\n",
    "            '{:1.0f}'.format(height),\n",
    "            ha=\"center\")\n",
    "plt.show()"
   ]
  },
  {
   "cell_type": "markdown",
   "metadata": {},
   "source": [
    "### 3.6. Топ-10 улиц по количеству расположеных ООП"
   ]
  },
  {
   "cell_type": "code",
   "execution_count": 39,
   "metadata": {},
   "outputs": [
    {
     "name": "stdout",
     "output_type": "stream",
     "text": [
      "15159\n",
      "377\n"
     ]
    },
    {
     "data": {
      "text/html": [
       "<div>\n",
       "<style scoped>\n",
       "    .dataframe tbody tr th:only-of-type {\n",
       "        vertical-align: middle;\n",
       "    }\n",
       "\n",
       "    .dataframe tbody tr th {\n",
       "        vertical-align: top;\n",
       "    }\n",
       "\n",
       "    .dataframe thead th {\n",
       "        text-align: right;\n",
       "    }\n",
       "</style>\n",
       "<table border=\"1\" class=\"dataframe\">\n",
       "  <thead>\n",
       "    <tr style=\"text-align: right;\">\n",
       "      <th></th>\n",
       "      <th>id</th>\n",
       "      <th>object_name</th>\n",
       "      <th>chain</th>\n",
       "      <th>object_type</th>\n",
       "      <th>address</th>\n",
       "      <th>number</th>\n",
       "      <th>street</th>\n",
       "    </tr>\n",
       "  </thead>\n",
       "  <tbody>\n",
       "    <tr>\n",
       "      <td>12797</td>\n",
       "      <td>198136</td>\n",
       "      <td>Кафе белла Италия</td>\n",
       "      <td>несетевой</td>\n",
       "      <td>кафе</td>\n",
       "      <td>город Москва, 87-й километр Московской Кольцевой Автодороги, дом 8</td>\n",
       "      <td>10</td>\n",
       "      <td>None</td>\n",
       "    </tr>\n",
       "    <tr>\n",
       "      <td>8533</td>\n",
       "      <td>79930</td>\n",
       "      <td>Мастер отель Внуково</td>\n",
       "      <td>несетевой</td>\n",
       "      <td>кафе</td>\n",
       "      <td>город Москва, поселение Внуковское, деревня Внуково, дом 155</td>\n",
       "      <td>20</td>\n",
       "      <td>None</td>\n",
       "    </tr>\n",
       "    <tr>\n",
       "      <td>14795</td>\n",
       "      <td>221526</td>\n",
       "      <td>PivBar</td>\n",
       "      <td>несетевой</td>\n",
       "      <td>бар</td>\n",
       "      <td>город Москва, город Московский, 1-й микрорайон, владение 5Д, строение 1</td>\n",
       "      <td>10</td>\n",
       "      <td>None</td>\n",
       "    </tr>\n",
       "    <tr>\n",
       "      <td>10071</td>\n",
       "      <td>171729</td>\n",
       "      <td>Larionov Grill &amp; Bar</td>\n",
       "      <td>несетевой</td>\n",
       "      <td>ресторан</td>\n",
       "      <td>город Москва, город Московский, 3-й микрорайон, дом 21</td>\n",
       "      <td>120</td>\n",
       "      <td>None</td>\n",
       "    </tr>\n",
       "    <tr>\n",
       "      <td>11605</td>\n",
       "      <td>187190</td>\n",
       "      <td>Ресторан «Леман»</td>\n",
       "      <td>несетевой</td>\n",
       "      <td>ресторан</td>\n",
       "      <td>город Москва, микрорайон Северное Чертаново, дом 4</td>\n",
       "      <td>45</td>\n",
       "      <td>None</td>\n",
       "    </tr>\n",
       "    <tr>\n",
       "      <td>11783</td>\n",
       "      <td>186427</td>\n",
       "      <td>Шаурма № 1</td>\n",
       "      <td>несетевой</td>\n",
       "      <td>кулинария</td>\n",
       "      <td>город Москва, город Московский, 1-й микрорайон, владение 5Д, строение 1</td>\n",
       "      <td>0</td>\n",
       "      <td>None</td>\n",
       "    </tr>\n",
       "    <tr>\n",
       "      <td>12501</td>\n",
       "      <td>200334</td>\n",
       "      <td>BBQ AM Барбекю</td>\n",
       "      <td>несетевой</td>\n",
       "      <td>фаст-фуд</td>\n",
       "      <td>город Москва, поселение Московский, деревня Говорово, дом 1Б/Н</td>\n",
       "      <td>20</td>\n",
       "      <td>None</td>\n",
       "    </tr>\n",
       "    <tr>\n",
       "      <td>11739</td>\n",
       "      <td>188583</td>\n",
       "      <td>Ош Кафе</td>\n",
       "      <td>несетевой</td>\n",
       "      <td>кафе</td>\n",
       "      <td>город Москва, поселение Московский, деревня Саларьево, владение 3, строение 1</td>\n",
       "      <td>10</td>\n",
       "      <td>None</td>\n",
       "    </tr>\n",
       "    <tr>\n",
       "      <td>5554</td>\n",
       "      <td>23249</td>\n",
       "      <td>Метро К&amp;К</td>\n",
       "      <td>сетевой</td>\n",
       "      <td>кафе</td>\n",
       "      <td>город Москва, 104-й километр Московской Кольцевой Автодороги, дом 6</td>\n",
       "      <td>80</td>\n",
       "      <td>None</td>\n",
       "    </tr>\n",
       "    <tr>\n",
       "      <td>2424</td>\n",
       "      <td>84460</td>\n",
       "      <td>Столова «ГБОУ Школа №852»</td>\n",
       "      <td>несетевой</td>\n",
       "      <td>столовая</td>\n",
       "      <td>город Москва, город Зеленоград, корпус 1128</td>\n",
       "      <td>160</td>\n",
       "      <td>None</td>\n",
       "    </tr>\n",
       "  </tbody>\n",
       "</table>\n",
       "</div>"
      ],
      "text/plain": [
       "           id                object_name      chain object_type  \\\n",
       "12797  198136          Кафе белла Италия  несетевой        кафе   \n",
       "8533    79930       Мастер отель Внуково  несетевой        кафе   \n",
       "14795  221526                     PivBar  несетевой         бар   \n",
       "10071  171729       Larionov Grill & Bar  несетевой    ресторан   \n",
       "11605  187190           Ресторан «Леман»  несетевой    ресторан   \n",
       "11783  186427                 Шаурма № 1  несетевой   кулинария   \n",
       "12501  200334             BBQ AM Барбекю  несетевой    фаст-фуд   \n",
       "11739  188583                    Ош Кафе  несетевой        кафе   \n",
       "5554    23249                  Метро К&К    сетевой        кафе   \n",
       "2424    84460  Столова «ГБОУ Школа №852»  несетевой    столовая   \n",
       "\n",
       "                                                                             address  \\\n",
       "12797             город Москва, 87-й километр Московской Кольцевой Автодороги, дом 8   \n",
       "8533                    город Москва, поселение Внуковское, деревня Внуково, дом 155   \n",
       "14795        город Москва, город Московский, 1-й микрорайон, владение 5Д, строение 1   \n",
       "10071                         город Москва, город Московский, 3-й микрорайон, дом 21   \n",
       "11605                             город Москва, микрорайон Северное Чертаново, дом 4   \n",
       "11783        город Москва, город Московский, 1-й микрорайон, владение 5Д, строение 1   \n",
       "12501                 город Москва, поселение Московский, деревня Говорово, дом 1Б/Н   \n",
       "11739  город Москва, поселение Московский, деревня Саларьево, владение 3, строение 1   \n",
       "5554             город Москва, 104-й километр Московской Кольцевой Автодороги, дом 6   \n",
       "2424                                     город Москва, город Зеленоград, корпус 1128   \n",
       "\n",
       "       number street  \n",
       "12797      10   None  \n",
       "8533       20   None  \n",
       "14795      10   None  \n",
       "10071     120   None  \n",
       "11605      45   None  \n",
       "11783       0   None  \n",
       "12501      20   None  \n",
       "11739      10   None  \n",
       "5554       80   None  \n",
       "2424      160   None  "
      ]
     },
     "metadata": {},
     "output_type": "display_data"
    }
   ],
   "source": [
    "# Выделим в отдельный столбец улицу из адреса\n",
    "street_types = ['улица', 'бульвар', 'проспект', 'переулок', 'шоссе', \n",
    "'проезд', 'набережная', 'площадь', 'аллея', 'линия', 'квартал', 'мост', 'тупик', 'просека']\n",
    "def street_find(address):\n",
    "    for address_part in address.split(', '):\n",
    "        for street_type in street_types:\n",
    "            if address_part.lower().find(street_type)!= -1:\n",
    "                return address_part\n",
    "\n",
    "df['street'] = df['address'].apply(street_find)\n",
    "\n",
    "# Посчитаем число строк полученных улиц (всего в df 15159)\n",
    "print(len(df['street']))\n",
    "\n",
    "# Проверим наличие пропусков\n",
    "print(df['street'].isna().sum())\n",
    "\n",
    "# Посмотрим на пропуски\n",
    "display(df[df['street'].isna()].sample(n=10, random_state=0))"
   ]
  },
  {
   "cell_type": "code",
   "execution_count": 40,
   "metadata": {},
   "outputs": [
    {
     "name": "stdout",
     "output_type": "stream",
     "text": [
      "0\n"
     ]
    }
   ],
   "source": [
    "# Как видно в таблице выше, не удалось выделить улицу из адресов пригородных поселений Москвы, г. Зеленограда\n",
    "# учитывая, что нас интересует непосредственно Москва, удалим 377 строк, далее будем использовать только улицы Москвы\n",
    "df_streets = df[~(df['street'].isnull())]\n",
    "print(df_streets['street'].isna().sum())"
   ]
  },
  {
   "cell_type": "code",
   "execution_count": 41,
   "metadata": {},
   "outputs": [
    {
     "name": "stdout",
     "output_type": "stream",
     "text": [
      "Топ-10 улиц с наибольшим количеством ООП:\n",
      "                       street  objects\n",
      "1426           проспект Мира      197\n",
      "1014       Профсоюзная улица      180\n",
      "686   Ленинградский проспект      171\n",
      "997   Пресненская набережная      165\n",
      "399         Варшавское шоссе      164\n",
      "689       Ленинский проспект      148\n",
      "1422    проспект Вернадского      127\n",
      "676     Кутузовский проспект      112\n",
      "599          Каширское шоссе      110\n",
      "606     Кировоградская улица      106\n"
     ]
    }
   ],
   "source": [
    "# В отдельную таблицу выделим улицы с числом ООП, расположенных на них\n",
    "top_streets = df_streets.groupby('street', as_index=False).agg({'object_name':'count'})\n",
    "top_streets.columns = ['street', 'objects']\n",
    "top_streets = top_streets.sort_values(by='objects', ascending = False)\n",
    "top10_streets = top_streets.head(10)\n",
    "print('Топ-10 улиц с наибольшим количеством ООП:\\n', top10_streets)"
   ]
  },
  {
   "cell_type": "code",
   "execution_count": 42,
   "metadata": {},
   "outputs": [
    {
     "data": {
      "image/png": "[encoded data removed]",
      "text/plain": [
       "<Figure size 1152x648 with 1 Axes>"
      ]
     },
     "metadata": {
      "needs_background": "light"
     },
     "output_type": "display_data"
    }
   ],
   "source": [
    "# Визуализируем полученные данные\n",
    "plt.figure(figsize = (16, 9))\n",
    "ax = sns.barplot(x=\"objects\", y=\"street\", edgecolor=\"k\",  palette=\"Set3\", data=top10_streets) \n",
    "plt.title('ТОП-10 улиц Москвы по количеству расположенных на них ООП')\n",
    "ax.set_xlabel('Количество ООП')\n",
    "ax.set_ylabel('Улица Москвы')\n",
    "plt.xticks(rotation=45)\n",
    "\n",
    "# укажем значения над столбцами \n",
    "\n",
    "for p in ax.patches:\n",
    "                _x = p.get_x() + p.get_width() + float(1)\n",
    "                _y = p.get_y() + p.get_height()\n",
    "                value = int(p.get_width())\n",
    "                ax.text(_x, _y, value, ha=\"left\")\n",
    "plt.show()"
   ]
  },
  {
   "cell_type": "code",
   "execution_count": 43,
   "metadata": {},
   "outputs": [
    {
     "data": {
      "text/html": [
       "<div>\n",
       "<style scoped>\n",
       "    .dataframe tbody tr th:only-of-type {\n",
       "        vertical-align: middle;\n",
       "    }\n",
       "\n",
       "    .dataframe tbody tr th {\n",
       "        vertical-align: top;\n",
       "    }\n",
       "\n",
       "    .dataframe thead th {\n",
       "        text-align: right;\n",
       "    }\n",
       "</style>\n",
       "<table border=\"1\" class=\"dataframe\">\n",
       "  <thead>\n",
       "    <tr style=\"text-align: right;\">\n",
       "      <th></th>\n",
       "      <th>street</th>\n",
       "      <th>areaid</th>\n",
       "      <th>okrug</th>\n",
       "      <th>area</th>\n",
       "    </tr>\n",
       "  </thead>\n",
       "  <tbody>\n",
       "    <tr>\n",
       "      <td>0</td>\n",
       "      <td>Выставочный переулок</td>\n",
       "      <td>17</td>\n",
       "      <td>ЦАО</td>\n",
       "      <td>Пресненский район</td>\n",
       "    </tr>\n",
       "    <tr>\n",
       "      <td>1</td>\n",
       "      <td>улица Гашека</td>\n",
       "      <td>17</td>\n",
       "      <td>ЦАО</td>\n",
       "      <td>Пресненский район</td>\n",
       "    </tr>\n",
       "    <tr>\n",
       "      <td>2</td>\n",
       "      <td>Большая Никитская улица</td>\n",
       "      <td>17</td>\n",
       "      <td>ЦАО</td>\n",
       "      <td>Пресненский район</td>\n",
       "    </tr>\n",
       "    <tr>\n",
       "      <td>3</td>\n",
       "      <td>Глубокий переулок</td>\n",
       "      <td>17</td>\n",
       "      <td>ЦАО</td>\n",
       "      <td>Пресненский район</td>\n",
       "    </tr>\n",
       "    <tr>\n",
       "      <td>4</td>\n",
       "      <td>Большой Гнездниковский переулок</td>\n",
       "      <td>17</td>\n",
       "      <td>ЦАО</td>\n",
       "      <td>Пресненский район</td>\n",
       "    </tr>\n",
       "  </tbody>\n",
       "</table>\n",
       "</div>"
      ],
      "text/plain": [
       "                            street  areaid okrug               area\n",
       "0             Выставочный переулок      17   ЦАО  Пресненский район\n",
       "1                     улица Гашека      17   ЦАО  Пресненский район\n",
       "2          Большая Никитская улица      17   ЦАО  Пресненский район\n",
       "3                Глубокий переулок      17   ЦАО  Пресненский район\n",
       "4  Большой Гнездниковский переулок      17   ЦАО  Пресненский район"
      ]
     },
     "execution_count": 43,
     "metadata": {},
     "output_type": "execute_result"
    }
   ],
   "source": [
    "# С сайта https://hubofdata.ru/dataset/mosgaz-contacts скачаем датасет с данными об улицах и районах Москвы,\n",
    "# загрузим и прочитаем его\n",
    "\n",
    "#https://docs.google.com/spreadsheets/d/1pj9aDTcEgmST14KnYjhdrZNkAN2IWbp3T6hkhO5Muqo/edit?usp=sharing\n",
    "\n",
    "spreadsheet_id = '1pj9aDTcEgmST14KnYjhdrZNkAN2IWbp3T6hkhO5Muqo'\n",
    "file_name = 'https://docs.google.com/spreadsheets/d/{}/export?format=csv'.format(spreadsheet_id)\n",
    "r = requests.get(file_name)\n",
    "df_1 = pd.read_csv(BytesIO(r.content))\n",
    "\n",
    "# Переименуем столбцы для удобства\n",
    "df_1.columns = ['street', 'areaid', 'okrug', 'area']\n",
    "df_1.head()"
   ]
  },
  {
   "cell_type": "code",
   "execution_count": 44,
   "metadata": {},
   "outputs": [
    {
     "data": {
      "text/html": [
       "<div>\n",
       "<style scoped>\n",
       "    .dataframe tbody tr th:only-of-type {\n",
       "        vertical-align: middle;\n",
       "    }\n",
       "\n",
       "    .dataframe tbody tr th {\n",
       "        vertical-align: top;\n",
       "    }\n",
       "\n",
       "    .dataframe thead th {\n",
       "        text-align: right;\n",
       "    }\n",
       "</style>\n",
       "<table border=\"1\" class=\"dataframe\">\n",
       "  <thead>\n",
       "    <tr style=\"text-align: right;\">\n",
       "      <th></th>\n",
       "      <th>Улица Москвы</th>\n",
       "      <th>Количество ООП</th>\n",
       "      <th>Округ Москвы</th>\n",
       "      <th>Район Москвы</th>\n",
       "    </tr>\n",
       "  </thead>\n",
       "  <tbody>\n",
       "    <tr>\n",
       "      <td>0</td>\n",
       "      <td>проспект Мира</td>\n",
       "      <td>197</td>\n",
       "      <td>СВАО</td>\n",
       "      <td>Алексеевский район</td>\n",
       "    </tr>\n",
       "    <tr>\n",
       "      <td>1</td>\n",
       "      <td>проспект Мира</td>\n",
       "      <td>197</td>\n",
       "      <td>СВАО</td>\n",
       "      <td>Ярославский Район</td>\n",
       "    </tr>\n",
       "    <tr>\n",
       "      <td>2</td>\n",
       "      <td>проспект Мира</td>\n",
       "      <td>197</td>\n",
       "      <td>СВАО</td>\n",
       "      <td>Район Марьина роща</td>\n",
       "    </tr>\n",
       "    <tr>\n",
       "      <td>3</td>\n",
       "      <td>проспект Мира</td>\n",
       "      <td>197</td>\n",
       "      <td>СВАО</td>\n",
       "      <td>Останкинский район</td>\n",
       "    </tr>\n",
       "    <tr>\n",
       "      <td>4</td>\n",
       "      <td>проспект Мира</td>\n",
       "      <td>197</td>\n",
       "      <td>СВАО</td>\n",
       "      <td>Район Ростокино</td>\n",
       "    </tr>\n",
       "    <tr>\n",
       "      <td>5</td>\n",
       "      <td>проспект Мира</td>\n",
       "      <td>197</td>\n",
       "      <td>СВАО</td>\n",
       "      <td>Район Свиблово</td>\n",
       "    </tr>\n",
       "    <tr>\n",
       "      <td>6</td>\n",
       "      <td>проспект Мира</td>\n",
       "      <td>197</td>\n",
       "      <td>ЦАО</td>\n",
       "      <td>Мещанский район</td>\n",
       "    </tr>\n",
       "    <tr>\n",
       "      <td>7</td>\n",
       "      <td>Профсоюзная улица</td>\n",
       "      <td>180</td>\n",
       "      <td>ЮЗАО</td>\n",
       "      <td>Академический район</td>\n",
       "    </tr>\n",
       "    <tr>\n",
       "      <td>8</td>\n",
       "      <td>Профсоюзная улица</td>\n",
       "      <td>180</td>\n",
       "      <td>ЮЗАО</td>\n",
       "      <td>Район Черемушки</td>\n",
       "    </tr>\n",
       "    <tr>\n",
       "      <td>9</td>\n",
       "      <td>Профсоюзная улица</td>\n",
       "      <td>180</td>\n",
       "      <td>ЮЗАО</td>\n",
       "      <td>Район Ясенево</td>\n",
       "    </tr>\n",
       "    <tr>\n",
       "      <td>10</td>\n",
       "      <td>Профсоюзная улица</td>\n",
       "      <td>180</td>\n",
       "      <td>ЮЗАО</td>\n",
       "      <td>Район Коньково</td>\n",
       "    </tr>\n",
       "    <tr>\n",
       "      <td>11</td>\n",
       "      <td>Профсоюзная улица</td>\n",
       "      <td>180</td>\n",
       "      <td>ЮЗАО</td>\n",
       "      <td>Обручевский район</td>\n",
       "    </tr>\n",
       "    <tr>\n",
       "      <td>12</td>\n",
       "      <td>Профсоюзная улица</td>\n",
       "      <td>180</td>\n",
       "      <td>ЮЗАО</td>\n",
       "      <td>Район Теплый Стан</td>\n",
       "    </tr>\n",
       "    <tr>\n",
       "      <td>13</td>\n",
       "      <td>Ленинградский проспект</td>\n",
       "      <td>171</td>\n",
       "      <td>САО</td>\n",
       "      <td>Район Аэропорт</td>\n",
       "    </tr>\n",
       "    <tr>\n",
       "      <td>14</td>\n",
       "      <td>Ленинградский проспект</td>\n",
       "      <td>171</td>\n",
       "      <td>САО</td>\n",
       "      <td>Район Беговой</td>\n",
       "    </tr>\n",
       "    <tr>\n",
       "      <td>15</td>\n",
       "      <td>Ленинградский проспект</td>\n",
       "      <td>171</td>\n",
       "      <td>САО</td>\n",
       "      <td>Хорошевский район</td>\n",
       "    </tr>\n",
       "    <tr>\n",
       "      <td>16</td>\n",
       "      <td>Ленинградский проспект</td>\n",
       "      <td>171</td>\n",
       "      <td>САО</td>\n",
       "      <td>Район Сокол</td>\n",
       "    </tr>\n",
       "    <tr>\n",
       "      <td>17</td>\n",
       "      <td>Пресненская набережная</td>\n",
       "      <td>165</td>\n",
       "      <td>ЦАО</td>\n",
       "      <td>Пресненский район</td>\n",
       "    </tr>\n",
       "    <tr>\n",
       "      <td>18</td>\n",
       "      <td>Варшавское шоссе</td>\n",
       "      <td>164</td>\n",
       "      <td>ЮАО</td>\n",
       "      <td>Район Чертаново Центральное</td>\n",
       "    </tr>\n",
       "    <tr>\n",
       "      <td>19</td>\n",
       "      <td>Варшавское шоссе</td>\n",
       "      <td>164</td>\n",
       "      <td>ЮАО</td>\n",
       "      <td>Район Чертаново Северное</td>\n",
       "    </tr>\n",
       "    <tr>\n",
       "      <td>20</td>\n",
       "      <td>Варшавское шоссе</td>\n",
       "      <td>164</td>\n",
       "      <td>ЮАО</td>\n",
       "      <td>Район Чертаново Южное</td>\n",
       "    </tr>\n",
       "    <tr>\n",
       "      <td>21</td>\n",
       "      <td>Варшавское шоссе</td>\n",
       "      <td>164</td>\n",
       "      <td>ЮАО</td>\n",
       "      <td>Донской район</td>\n",
       "    </tr>\n",
       "    <tr>\n",
       "      <td>22</td>\n",
       "      <td>Варшавское шоссе</td>\n",
       "      <td>164</td>\n",
       "      <td>ЮАО</td>\n",
       "      <td>Район Нагатино-Садовники</td>\n",
       "    </tr>\n",
       "    <tr>\n",
       "      <td>23</td>\n",
       "      <td>Варшавское шоссе</td>\n",
       "      <td>164</td>\n",
       "      <td>ЮАО</td>\n",
       "      <td>Нагорный район</td>\n",
       "    </tr>\n",
       "    <tr>\n",
       "      <td>24</td>\n",
       "      <td>Варшавское шоссе</td>\n",
       "      <td>164</td>\n",
       "      <td>ЮЗАО</td>\n",
       "      <td>Район Северное Бутово</td>\n",
       "    </tr>\n",
       "    <tr>\n",
       "      <td>25</td>\n",
       "      <td>Варшавское шоссе</td>\n",
       "      <td>164</td>\n",
       "      <td>ЮЗАО</td>\n",
       "      <td>Район Южное Бутово</td>\n",
       "    </tr>\n",
       "    <tr>\n",
       "      <td>26</td>\n",
       "      <td>Ленинский проспект</td>\n",
       "      <td>148</td>\n",
       "      <td>ЗАО</td>\n",
       "      <td>Район Проспект Вернадского</td>\n",
       "    </tr>\n",
       "    <tr>\n",
       "      <td>27</td>\n",
       "      <td>Ленинский проспект</td>\n",
       "      <td>148</td>\n",
       "      <td>ЗАО</td>\n",
       "      <td>Район Тропарево-Никулино</td>\n",
       "    </tr>\n",
       "    <tr>\n",
       "      <td>28</td>\n",
       "      <td>Ленинский проспект</td>\n",
       "      <td>148</td>\n",
       "      <td>ЮАО</td>\n",
       "      <td>Донской район</td>\n",
       "    </tr>\n",
       "    <tr>\n",
       "      <td>29</td>\n",
       "      <td>Ленинский проспект</td>\n",
       "      <td>148</td>\n",
       "      <td>ЮЗАО</td>\n",
       "      <td>Район Гагаринский</td>\n",
       "    </tr>\n",
       "    <tr>\n",
       "      <td>30</td>\n",
       "      <td>Ленинский проспект</td>\n",
       "      <td>148</td>\n",
       "      <td>ЮЗАО</td>\n",
       "      <td>Ломоносовский район</td>\n",
       "    </tr>\n",
       "    <tr>\n",
       "      <td>31</td>\n",
       "      <td>Ленинский проспект</td>\n",
       "      <td>148</td>\n",
       "      <td>ЮЗАО</td>\n",
       "      <td>Обручевский район</td>\n",
       "    </tr>\n",
       "    <tr>\n",
       "      <td>32</td>\n",
       "      <td>Ленинский проспект</td>\n",
       "      <td>148</td>\n",
       "      <td>ЮЗАО</td>\n",
       "      <td>Район Теплый Стан</td>\n",
       "    </tr>\n",
       "    <tr>\n",
       "      <td>33</td>\n",
       "      <td>Ленинский проспект</td>\n",
       "      <td>148</td>\n",
       "      <td>ЦАО</td>\n",
       "      <td>Район Якиманка</td>\n",
       "    </tr>\n",
       "    <tr>\n",
       "      <td>34</td>\n",
       "      <td>проспект Вернадского</td>\n",
       "      <td>127</td>\n",
       "      <td>ЗАО</td>\n",
       "      <td>Район Проспект Вернадского</td>\n",
       "    </tr>\n",
       "    <tr>\n",
       "      <td>35</td>\n",
       "      <td>проспект Вернадского</td>\n",
       "      <td>127</td>\n",
       "      <td>ЗАО</td>\n",
       "      <td>Район Раменки</td>\n",
       "    </tr>\n",
       "    <tr>\n",
       "      <td>36</td>\n",
       "      <td>проспект Вернадского</td>\n",
       "      <td>127</td>\n",
       "      <td>ЗАО</td>\n",
       "      <td>Район Тропарево-Никулино</td>\n",
       "    </tr>\n",
       "    <tr>\n",
       "      <td>37</td>\n",
       "      <td>проспект Вернадского</td>\n",
       "      <td>127</td>\n",
       "      <td>ЮЗАО</td>\n",
       "      <td>Район Гагаринский</td>\n",
       "    </tr>\n",
       "    <tr>\n",
       "      <td>38</td>\n",
       "      <td>проспект Вернадского</td>\n",
       "      <td>127</td>\n",
       "      <td>ЮЗАО</td>\n",
       "      <td>Ломоносовский район</td>\n",
       "    </tr>\n",
       "    <tr>\n",
       "      <td>39</td>\n",
       "      <td>Кутузовский проспект</td>\n",
       "      <td>112</td>\n",
       "      <td>ЗАО</td>\n",
       "      <td>Район Дорогомилово</td>\n",
       "    </tr>\n",
       "    <tr>\n",
       "      <td>40</td>\n",
       "      <td>Кутузовский проспект</td>\n",
       "      <td>112</td>\n",
       "      <td>ЗАО</td>\n",
       "      <td>Район Фили-Давыдково</td>\n",
       "    </tr>\n",
       "    <tr>\n",
       "      <td>41</td>\n",
       "      <td>Каширское шоссе</td>\n",
       "      <td>110</td>\n",
       "      <td>ЮАО</td>\n",
       "      <td>Район Москворечье-Сабурово</td>\n",
       "    </tr>\n",
       "    <tr>\n",
       "      <td>42</td>\n",
       "      <td>Каширское шоссе</td>\n",
       "      <td>110</td>\n",
       "      <td>ЮАО</td>\n",
       "      <td>Район Нагатино-Садовники</td>\n",
       "    </tr>\n",
       "    <tr>\n",
       "      <td>43</td>\n",
       "      <td>Каширское шоссе</td>\n",
       "      <td>110</td>\n",
       "      <td>ЮАО</td>\n",
       "      <td>Район Орехово-Борисово Южное</td>\n",
       "    </tr>\n",
       "    <tr>\n",
       "      <td>44</td>\n",
       "      <td>Каширское шоссе</td>\n",
       "      <td>110</td>\n",
       "      <td>ЮАО</td>\n",
       "      <td>Район Орехово-Борисово Северное</td>\n",
       "    </tr>\n",
       "    <tr>\n",
       "      <td>45</td>\n",
       "      <td>Кировоградская улица</td>\n",
       "      <td>106</td>\n",
       "      <td>ЮАО</td>\n",
       "      <td>Район Чертаново Центральное</td>\n",
       "    </tr>\n",
       "    <tr>\n",
       "      <td>46</td>\n",
       "      <td>Кировоградская улица</td>\n",
       "      <td>106</td>\n",
       "      <td>ЮАО</td>\n",
       "      <td>Район Чертаново Северное</td>\n",
       "    </tr>\n",
       "    <tr>\n",
       "      <td>47</td>\n",
       "      <td>Кировоградская улица</td>\n",
       "      <td>106</td>\n",
       "      <td>ЮАО</td>\n",
       "      <td>Район Чертаново Южное</td>\n",
       "    </tr>\n",
       "  </tbody>\n",
       "</table>\n",
       "</div>"
      ],
      "text/plain": [
       "              Улица Москвы  Количество ООП Округ Москвы  \\\n",
       "0            проспект Мира             197         СВАО   \n",
       "1            проспект Мира             197         СВАО   \n",
       "2            проспект Мира             197         СВАО   \n",
       "3            проспект Мира             197         СВАО   \n",
       "4            проспект Мира             197         СВАО   \n",
       "5            проспект Мира             197         СВАО   \n",
       "6            проспект Мира             197          ЦАО   \n",
       "7        Профсоюзная улица             180         ЮЗАО   \n",
       "8        Профсоюзная улица             180         ЮЗАО   \n",
       "9        Профсоюзная улица             180         ЮЗАО   \n",
       "10       Профсоюзная улица             180         ЮЗАО   \n",
       "11       Профсоюзная улица             180         ЮЗАО   \n",
       "12       Профсоюзная улица             180         ЮЗАО   \n",
       "13  Ленинградский проспект             171          САО   \n",
       "14  Ленинградский проспект             171          САО   \n",
       "15  Ленинградский проспект             171          САО   \n",
       "16  Ленинградский проспект             171          САО   \n",
       "17  Пресненская набережная             165          ЦАО   \n",
       "18        Варшавское шоссе             164          ЮАО   \n",
       "19        Варшавское шоссе             164          ЮАО   \n",
       "20        Варшавское шоссе             164          ЮАО   \n",
       "21        Варшавское шоссе             164          ЮАО   \n",
       "22        Варшавское шоссе             164          ЮАО   \n",
       "23        Варшавское шоссе             164          ЮАО   \n",
       "24        Варшавское шоссе             164         ЮЗАО   \n",
       "25        Варшавское шоссе             164         ЮЗАО   \n",
       "26      Ленинский проспект             148          ЗАО   \n",
       "27      Ленинский проспект             148          ЗАО   \n",
       "28      Ленинский проспект             148          ЮАО   \n",
       "29      Ленинский проспект             148         ЮЗАО   \n",
       "30      Ленинский проспект             148         ЮЗАО   \n",
       "31      Ленинский проспект             148         ЮЗАО   \n",
       "32      Ленинский проспект             148         ЮЗАО   \n",
       "33      Ленинский проспект             148          ЦАО   \n",
       "34    проспект Вернадского             127          ЗАО   \n",
       "35    проспект Вернадского             127          ЗАО   \n",
       "36    проспект Вернадского             127          ЗАО   \n",
       "37    проспект Вернадского             127         ЮЗАО   \n",
       "38    проспект Вернадского             127         ЮЗАО   \n",
       "39    Кутузовский проспект             112          ЗАО   \n",
       "40    Кутузовский проспект             112          ЗАО   \n",
       "41         Каширское шоссе             110          ЮАО   \n",
       "42         Каширское шоссе             110          ЮАО   \n",
       "43         Каширское шоссе             110          ЮАО   \n",
       "44         Каширское шоссе             110          ЮАО   \n",
       "45    Кировоградская улица             106          ЮАО   \n",
       "46    Кировоградская улица             106          ЮАО   \n",
       "47    Кировоградская улица             106          ЮАО   \n",
       "\n",
       "                       Район Москвы  \n",
       "0                Алексеевский район  \n",
       "1                 Ярославский Район  \n",
       "2                Район Марьина роща  \n",
       "3                Останкинский район  \n",
       "4                   Район Ростокино  \n",
       "5                    Район Свиблово  \n",
       "6                   Мещанский район  \n",
       "7               Академический район  \n",
       "8                   Район Черемушки  \n",
       "9                     Район Ясенево  \n",
       "10                   Район Коньково  \n",
       "11                Обручевский район  \n",
       "12                Район Теплый Стан  \n",
       "13                   Район Аэропорт  \n",
       "14                    Район Беговой  \n",
       "15                Хорошевский район  \n",
       "16                      Район Сокол  \n",
       "17                Пресненский район  \n",
       "18      Район Чертаново Центральное  \n",
       "19         Район Чертаново Северное  \n",
       "20            Район Чертаново Южное  \n",
       "21                    Донской район  \n",
       "22         Район Нагатино-Садовники  \n",
       "23                   Нагорный район  \n",
       "24            Район Северное Бутово  \n",
       "25               Район Южное Бутово  \n",
       "26       Район Проспект Вернадского  \n",
       "27         Район Тропарево-Никулино  \n",
       "28                    Донской район  \n",
       "29                Район Гагаринский  \n",
       "30              Ломоносовский район  \n",
       "31                Обручевский район  \n",
       "32                Район Теплый Стан  \n",
       "33                   Район Якиманка  \n",
       "34       Район Проспект Вернадского  \n",
       "35                    Район Раменки  \n",
       "36         Район Тропарево-Никулино  \n",
       "37                Район Гагаринский  \n",
       "38              Ломоносовский район  \n",
       "39               Район Дорогомилово  \n",
       "40             Район Фили-Давыдково  \n",
       "41       Район Москворечье-Сабурово  \n",
       "42         Район Нагатино-Садовники  \n",
       "43     Район Орехово-Борисово Южное  \n",
       "44  Район Орехово-Борисово Северное  \n",
       "45      Район Чертаново Центральное  \n",
       "46         Район Чертаново Северное  \n",
       "47            Район Чертаново Южное  "
      ]
     },
     "metadata": {},
     "output_type": "display_data"
    }
   ],
   "source": [
    "# Объединим таблицы, посмотрим, в каких районах находится ТОП-10 улиц по количеству ООП\n",
    "top10_streets_merge = top10_streets.merge(df_1[['street', 'okrug', 'area']], on='street')\n",
    "top10_streets_merge.columns = ['Улица Москвы', 'Количество ООП', 'Округ Москвы', 'Район Москвы']\n",
    "display(top10_streets_merge)"
   ]
  },
  {
   "cell_type": "code",
   "execution_count": 45,
   "metadata": {},
   "outputs": [
    {
     "data": {
      "text/plain": [
       "ЮАО     14\n",
       "ЮЗАО    14\n",
       "ЗАО      7\n",
       "СВАО     6\n",
       "САО      4\n",
       "ЦАО      3\n",
       "Name: Округ Москвы, dtype: int64"
      ]
     },
     "execution_count": 45,
     "metadata": {},
     "output_type": "execute_result"
    }
   ],
   "source": [
    "top10_streets_merge['Округ Москвы'].value_counts()"
   ]
  },
  {
   "cell_type": "code",
   "execution_count": 46,
   "metadata": {},
   "outputs": [
    {
     "data": {
      "text/html": [
       "<div>\n",
       "<style scoped>\n",
       "    .dataframe tbody tr th:only-of-type {\n",
       "        vertical-align: middle;\n",
       "    }\n",
       "\n",
       "    .dataframe tbody tr th {\n",
       "        vertical-align: top;\n",
       "    }\n",
       "\n",
       "    .dataframe thead th {\n",
       "        text-align: right;\n",
       "    }\n",
       "</style>\n",
       "<table border=\"1\" class=\"dataframe\">\n",
       "  <thead>\n",
       "    <tr style=\"text-align: right;\">\n",
       "      <th></th>\n",
       "      <th>Количество ООП</th>\n",
       "      <th>Округ Москвы</th>\n",
       "      <th>Район Москвы</th>\n",
       "    </tr>\n",
       "    <tr>\n",
       "      <th>Улица Москвы</th>\n",
       "      <th></th>\n",
       "      <th></th>\n",
       "      <th></th>\n",
       "    </tr>\n",
       "  </thead>\n",
       "  <tbody>\n",
       "    <tr>\n",
       "      <td>проспект Мира</td>\n",
       "      <td>197</td>\n",
       "      <td>СВАО</td>\n",
       "      <td>Алексеевский район</td>\n",
       "    </tr>\n",
       "    <tr>\n",
       "      <td>Профсоюзная улица</td>\n",
       "      <td>180</td>\n",
       "      <td>ЮЗАО</td>\n",
       "      <td>Академический район</td>\n",
       "    </tr>\n",
       "    <tr>\n",
       "      <td>Ленинградский проспект</td>\n",
       "      <td>171</td>\n",
       "      <td>САО</td>\n",
       "      <td>Район Аэропорт</td>\n",
       "    </tr>\n",
       "    <tr>\n",
       "      <td>Пресненская набережная</td>\n",
       "      <td>165</td>\n",
       "      <td>ЦАО</td>\n",
       "      <td>Пресненский район</td>\n",
       "    </tr>\n",
       "    <tr>\n",
       "      <td>Варшавское шоссе</td>\n",
       "      <td>164</td>\n",
       "      <td>ЮАО</td>\n",
       "      <td>Район Чертаново Центральное</td>\n",
       "    </tr>\n",
       "    <tr>\n",
       "      <td>Ленинский проспект</td>\n",
       "      <td>148</td>\n",
       "      <td>ЗАО</td>\n",
       "      <td>Район Проспект Вернадского</td>\n",
       "    </tr>\n",
       "    <tr>\n",
       "      <td>проспект Вернадского</td>\n",
       "      <td>127</td>\n",
       "      <td>ЗАО</td>\n",
       "      <td>Район Проспект Вернадского</td>\n",
       "    </tr>\n",
       "    <tr>\n",
       "      <td>Кутузовский проспект</td>\n",
       "      <td>112</td>\n",
       "      <td>ЗАО</td>\n",
       "      <td>Район Дорогомилово</td>\n",
       "    </tr>\n",
       "    <tr>\n",
       "      <td>Каширское шоссе</td>\n",
       "      <td>110</td>\n",
       "      <td>ЮАО</td>\n",
       "      <td>Район Москворечье-Сабурово</td>\n",
       "    </tr>\n",
       "    <tr>\n",
       "      <td>Кировоградская улица</td>\n",
       "      <td>106</td>\n",
       "      <td>ЮАО</td>\n",
       "      <td>Район Чертаново Центральное</td>\n",
       "    </tr>\n",
       "  </tbody>\n",
       "</table>\n",
       "</div>"
      ],
      "text/plain": [
       "                        Количество ООП Округ Москвы  \\\n",
       "Улица Москвы                                          \n",
       "проспект Мира                      197         СВАО   \n",
       "Профсоюзная улица                  180         ЮЗАО   \n",
       "Ленинградский проспект             171          САО   \n",
       "Пресненская набережная             165          ЦАО   \n",
       "Варшавское шоссе                   164          ЮАО   \n",
       "Ленинский проспект                 148          ЗАО   \n",
       "проспект Вернадского               127          ЗАО   \n",
       "Кутузовский проспект               112          ЗАО   \n",
       "Каширское шоссе                    110          ЮАО   \n",
       "Кировоградская улица               106          ЮАО   \n",
       "\n",
       "                                       Район Москвы  \n",
       "Улица Москвы                                         \n",
       "проспект Мира                    Алексеевский район  \n",
       "Профсоюзная улица               Академический район  \n",
       "Ленинградский проспект               Район Аэропорт  \n",
       "Пресненская набережная            Пресненский район  \n",
       "Варшавское шоссе        Район Чертаново Центральное  \n",
       "Ленинский проспект       Район Проспект Вернадского  \n",
       "проспект Вернадского     Район Проспект Вернадского  \n",
       "Кутузовский проспект             Район Дорогомилово  \n",
       "Каширское шоссе          Район Москворечье-Сабурово  \n",
       "Кировоградская улица    Район Чертаново Центральное  "
      ]
     },
     "execution_count": 46,
     "metadata": {},
     "output_type": "execute_result"
    }
   ],
   "source": [
    "# Практически все улицы проходят через несколько районов\n",
    "# Для удобства просмотра в презентации оставим только первый район для каждой улицы\n",
    "top10_streets_merge_pivot = top10_streets_merge.pivot_table(index = 'Улица Москвы', values = ['Количество ООП', 'Округ Москвы', 'Район Москвы'], aggfunc = 'first')\n",
    "\n",
    "top10_streets_merge_pivot.sort_values(by='Количество ООП', ascending = False)"
   ]
  },
  {
   "cell_type": "markdown",
   "metadata": {},
   "source": [
    "**Большое количество ООП в Москве располагается, вероятно, на самых длинных и крупных улицах (проспектах), проходящих через несколько районов, а также на улицах с бизнес- центрами, зонами отдыха и туристическими маршрутами. Большинство ТОП-10 улиц находится в ЮАО, ЮЗАО и ЗАО.**"
   ]
  },
  {
   "cell_type": "markdown",
   "metadata": {},
   "source": [
    "### 3.7. Улицы и районы Москвы с одним ООП"
   ]
  },
  {
   "cell_type": "code",
   "execution_count": 47,
   "metadata": {},
   "outputs": [
    {
     "name": "stdout",
     "output_type": "stream",
     "text": [
      "<class 'pandas.core.frame.DataFrame'>\n",
      "Int64Index: 552 entries, 264 to 952\n",
      "Data columns (total 2 columns):\n",
      "street     552 non-null object\n",
      "objects    552 non-null int64\n",
      "dtypes: int64(1), object(1)\n",
      "memory usage: 12.9+ KB\n",
      "None\n"
     ]
    }
   ],
   "source": [
    "# В отдельную таблицу выделим улицы с одним ООП, расположенных на них\n",
    "top_streets_1 = top_streets.query('objects == 1')\n",
    "\n",
    "print(top_streets_1.info())"
   ]
  },
  {
   "cell_type": "code",
   "execution_count": 48,
   "metadata": {},
   "outputs": [
    {
     "name": "stdout",
     "output_type": "stream",
     "text": [
      "Всего в Москве 552 улицы с 1 ООП, что составляет 29.0% от общего количества улиц Москвы с ООП.\n"
     ]
    }
   ],
   "source": [
    "# Выведем число улиц с одним ООП, расположенных на них\n",
    "print('Всего в Москве {} улицы с 1 ООП, что составляет {:.1%} от общего количества улиц Москвы с ООП.'\\\n",
    "      .format(len(top_streets_1), (len(top_streets_1)/len(top_streets))))"
   ]
  },
  {
   "cell_type": "code",
   "execution_count": 49,
   "metadata": {},
   "outputs": [
    {
     "data": {
      "text/html": [
       "<div>\n",
       "<style scoped>\n",
       "    .dataframe tbody tr th:only-of-type {\n",
       "        vertical-align: middle;\n",
       "    }\n",
       "\n",
       "    .dataframe tbody tr th {\n",
       "        vertical-align: top;\n",
       "    }\n",
       "\n",
       "    .dataframe thead th {\n",
       "        text-align: right;\n",
       "    }\n",
       "</style>\n",
       "<table border=\"1\" class=\"dataframe\">\n",
       "  <thead>\n",
       "    <tr style=\"text-align: right;\">\n",
       "      <th></th>\n",
       "      <th>Количество ООП</th>\n",
       "      <th>Округ Москвы</th>\n",
       "      <th>Район Москвы</th>\n",
       "    </tr>\n",
       "    <tr>\n",
       "      <th>Улица Москвы</th>\n",
       "      <th></th>\n",
       "      <th></th>\n",
       "      <th></th>\n",
       "    </tr>\n",
       "  </thead>\n",
       "  <tbody>\n",
       "    <tr>\n",
       "      <td>Кооперативная улица</td>\n",
       "      <td>1</td>\n",
       "      <td>ЦАО</td>\n",
       "      <td>Район Хамовники</td>\n",
       "    </tr>\n",
       "    <tr>\n",
       "      <td>улица Академика Комарова</td>\n",
       "      <td>1</td>\n",
       "      <td>СВАО</td>\n",
       "      <td>Район Марфино</td>\n",
       "    </tr>\n",
       "    <tr>\n",
       "      <td>Спартаковский переулок</td>\n",
       "      <td>1</td>\n",
       "      <td>ЦАО</td>\n",
       "      <td>Басманный район</td>\n",
       "    </tr>\n",
       "    <tr>\n",
       "      <td>Лонгиновская улица</td>\n",
       "      <td>1</td>\n",
       "      <td>ЮВАО</td>\n",
       "      <td>Район Лефортово</td>\n",
       "    </tr>\n",
       "    <tr>\n",
       "      <td>Гольяновская улица</td>\n",
       "      <td>1</td>\n",
       "      <td>ЦАО</td>\n",
       "      <td>Басманный район</td>\n",
       "    </tr>\n",
       "    <tr>\n",
       "      <td>1-й Монетчиковский переулок</td>\n",
       "      <td>1</td>\n",
       "      <td>ЦАО</td>\n",
       "      <td>Район Замоскворечье</td>\n",
       "    </tr>\n",
       "    <tr>\n",
       "      <td>Газгольдерная улица</td>\n",
       "      <td>1</td>\n",
       "      <td>ЮВАО</td>\n",
       "      <td>Нижегородский район</td>\n",
       "    </tr>\n",
       "    <tr>\n",
       "      <td>улица Павла Андреева</td>\n",
       "      <td>1</td>\n",
       "      <td>ЦАО</td>\n",
       "      <td>Район Замоскворечье</td>\n",
       "    </tr>\n",
       "    <tr>\n",
       "      <td>Успенский переулок</td>\n",
       "      <td>1</td>\n",
       "      <td>ЦАО</td>\n",
       "      <td>Тверской район</td>\n",
       "    </tr>\n",
       "    <tr>\n",
       "      <td>6-я Кожуховская улица</td>\n",
       "      <td>1</td>\n",
       "      <td>ЮВАО</td>\n",
       "      <td>Южнопортовый Район</td>\n",
       "    </tr>\n",
       "  </tbody>\n",
       "</table>\n",
       "</div>"
      ],
      "text/plain": [
       "                             Количество ООП Округ Москвы         Район Москвы\n",
       "Улица Москвы                                                                 \n",
       "Кооперативная улица                       1          ЦАО      Район Хамовники\n",
       "улица Академика Комарова                  1         СВАО        Район Марфино\n",
       "Спартаковский переулок                    1          ЦАО      Басманный район\n",
       "Лонгиновская улица                        1         ЮВАО      Район Лефортово\n",
       "Гольяновская улица                        1          ЦАО      Басманный район\n",
       "1-й Монетчиковский переулок               1          ЦАО  Район Замоскворечье\n",
       "Газгольдерная улица                       1         ЮВАО  Нижегородский район\n",
       "улица Павла Андреева                      1          ЦАО  Район Замоскворечье\n",
       "Успенский переулок                        1          ЦАО       Тверской район\n",
       "6-я Кожуховская улица                     1         ЮВАО   Южнопортовый Район"
      ]
     },
     "metadata": {},
     "output_type": "display_data"
    }
   ],
   "source": [
    "# Объединим таблицы, посмотрим, в каких районах находятся улицы с 1 ООП\n",
    "top_streets_1_merge = top_streets_1.merge(df_1[['street', 'okrug', 'area']], on='street')\n",
    "top_streets_1_merge.columns = ['Улица Москвы', 'Количество ООП', 'Округ Москвы', 'Район Москвы']\n",
    "# Для удобства просмотра в презентации оставим только первый район для каждой улицы\n",
    "top_streets_1_merge = top_streets_1_merge.pivot_table(index = 'Улица Москвы', values = ['Количество ООП', 'Округ Москвы', 'Район Москвы'], aggfunc = 'first')\n",
    "\n",
    "display(top_streets_1_merge.sample(n=10, random_state=0))"
   ]
  },
  {
   "cell_type": "code",
   "execution_count": 50,
   "metadata": {},
   "outputs": [
    {
     "data": {
      "text/plain": [
       "ЦАО           172\n",
       "СВАО           64\n",
       "ВАО            59\n",
       "ЮВАО           50\n",
       "САО            50\n",
       "ЗАО            45\n",
       "СЗАО           25\n",
       "ЮЗАО           24\n",
       "ЮАО            24\n",
       "Зеленоград      4\n",
       "Name: Округ Москвы, dtype: int64"
      ]
     },
     "execution_count": 50,
     "metadata": {},
     "output_type": "execute_result"
    }
   ],
   "source": [
    "top_streets_1_merge['Округ Москвы'].value_counts()"
   ]
  },
  {
   "cell_type": "markdown",
   "metadata": {},
   "source": [
    "**Вероятно, единственный ООП на улицу находится в Москве либо на маленьких улочках и переулках, либо на улицах спальных районов и окраины Москвы. Большинство улиц с единственным ООП располагается в ЦАО.**"
   ]
  },
  {
   "cell_type": "markdown",
   "metadata": {},
   "source": [
    "### 3.8. Вместимость ООП на улицах с большим количеством ООП"
   ]
  },
  {
   "cell_type": "code",
   "execution_count": 51,
   "metadata": {},
   "outputs": [
    {
     "data": {
      "image/png": "[encoded data removed]",
      "text/plain": [
       "<Figure size 1080x648 with 1 Axes>"
      ]
     },
     "metadata": {
      "needs_background": "light"
     },
     "output_type": "display_data"
    }
   ],
   "source": [
    "# Переведем ТОП-10 в строку, сделаем срез данных из датафрейма с улицами\n",
    "top10_streets_list = top10_streets['street'].to_list()\n",
    "top10_streets_data = df_streets.query('street in @top10_streets_list')\n",
    "\n",
    "# Посчитаем медианную вместимость\n",
    "top10_streets_data['number'].median()\n",
    "\n",
    "# Визуализируем данные, построим \"ящики с усами\"\n",
    "plt.figure(figsize=(15,9))\n",
    "plt.xlim(0,700)\n",
    "sns.boxplot(x='number', y='street', data=top10_streets_data.sort_values(by='number', ascending = False))\n",
    "plt.title('Распределение количества посадочных мест в ООП, для топ-10 улиц Москвы по количеству ООП')\n",
    "plt.ylabel('Улица Москвы')\n",
    "plt.xlabel('Вместимость ООП')\n",
    "plt.show()"
   ]
  },
  {
   "cell_type": "markdown",
   "metadata": {},
   "source": [
    "**Диаграммы размаха показывают, что в пределах нормы для большинства ООП на ТОП-10 улицах Москвы характерно от 0 до 150 посадочных мест. На всех ТОП-10 улицах имеются ООП с количеством посадочных мест до 300 и более (на Каширском шоссе максимально вместительный ООП - около 700 посадочных мест),**"
   ]
  },
  {
   "cell_type": "code",
   "execution_count": 52,
   "metadata": {},
   "outputs": [
    {
     "data": {
      "text/html": [
       "<div>\n",
       "<style scoped>\n",
       "    .dataframe tbody tr th:only-of-type {\n",
       "        vertical-align: middle;\n",
       "    }\n",
       "\n",
       "    .dataframe tbody tr th {\n",
       "        vertical-align: top;\n",
       "    }\n",
       "\n",
       "    .dataframe thead th {\n",
       "        text-align: right;\n",
       "    }\n",
       "</style>\n",
       "<table border=\"1\" class=\"dataframe\">\n",
       "  <thead>\n",
       "    <tr style=\"text-align: right;\">\n",
       "      <th></th>\n",
       "      <th>street</th>\n",
       "      <th>objects</th>\n",
       "      <th>median_number</th>\n",
       "    </tr>\n",
       "  </thead>\n",
       "  <tbody>\n",
       "    <tr>\n",
       "      <td>1426</td>\n",
       "      <td>проспект Мира</td>\n",
       "      <td>197</td>\n",
       "      <td>45.0</td>\n",
       "    </tr>\n",
       "    <tr>\n",
       "      <td>1014</td>\n",
       "      <td>Профсоюзная улица</td>\n",
       "      <td>180</td>\n",
       "      <td>24.5</td>\n",
       "    </tr>\n",
       "    <tr>\n",
       "      <td>686</td>\n",
       "      <td>Ленинградский проспект</td>\n",
       "      <td>171</td>\n",
       "      <td>40.0</td>\n",
       "    </tr>\n",
       "    <tr>\n",
       "      <td>997</td>\n",
       "      <td>Пресненская набережная</td>\n",
       "      <td>165</td>\n",
       "      <td>30.0</td>\n",
       "    </tr>\n",
       "    <tr>\n",
       "      <td>399</td>\n",
       "      <td>Варшавское шоссе</td>\n",
       "      <td>164</td>\n",
       "      <td>30.0</td>\n",
       "    </tr>\n",
       "    <tr>\n",
       "      <td>689</td>\n",
       "      <td>Ленинский проспект</td>\n",
       "      <td>148</td>\n",
       "      <td>45.0</td>\n",
       "    </tr>\n",
       "    <tr>\n",
       "      <td>1422</td>\n",
       "      <td>проспект Вернадского</td>\n",
       "      <td>127</td>\n",
       "      <td>40.0</td>\n",
       "    </tr>\n",
       "    <tr>\n",
       "      <td>676</td>\n",
       "      <td>Кутузовский проспект</td>\n",
       "      <td>112</td>\n",
       "      <td>40.0</td>\n",
       "    </tr>\n",
       "    <tr>\n",
       "      <td>599</td>\n",
       "      <td>Каширское шоссе</td>\n",
       "      <td>110</td>\n",
       "      <td>25.0</td>\n",
       "    </tr>\n",
       "    <tr>\n",
       "      <td>606</td>\n",
       "      <td>Кировоградская улица</td>\n",
       "      <td>106</td>\n",
       "      <td>30.0</td>\n",
       "    </tr>\n",
       "  </tbody>\n",
       "</table>\n",
       "</div>"
      ],
      "text/plain": [
       "                      street  objects  median_number\n",
       "1426           проспект Мира      197           45.0\n",
       "1014       Профсоюзная улица      180           24.5\n",
       "686   Ленинградский проспект      171           40.0\n",
       "997   Пресненская набережная      165           30.0\n",
       "399         Варшавское шоссе      164           30.0\n",
       "689       Ленинский проспект      148           45.0\n",
       "1422    проспект Вернадского      127           40.0\n",
       "676     Кутузовский проспект      112           40.0\n",
       "599          Каширское шоссе      110           25.0\n",
       "606     Кировоградская улица      106           30.0"
      ]
     },
     "execution_count": 52,
     "metadata": {},
     "output_type": "execute_result"
    }
   ],
   "source": [
    "# Сгруппируем таблицу с ТОП-10 улиц по количеству ООП, с медианным значением вместимости\n",
    "top_streets_number = df_streets.groupby('street', as_index=False).agg({'object_name':'count', 'number':'median'}).sort_values(by='object_name', ascending=False)\n",
    "top_streets_number.columns = ['street', 'objects', 'median_number']\n",
    "top10_top_streets_number = top_streets_number.head(10)\n",
    "top10_top_streets_number"
   ]
  },
  {
   "cell_type": "code",
   "execution_count": 53,
   "metadata": {},
   "outputs": [
    {
     "data": {
      "image/png": "[encoded data removed]",
      "text/plain": [
       "<Figure size 1152x648 with 1 Axes>"
      ]
     },
     "metadata": {
      "needs_background": "light"
     },
     "output_type": "display_data"
    }
   ],
   "source": [
    "# Визуализируем полученные данные\n",
    "plt.figure(figsize = (16, 9))\n",
    "ax = sns.barplot(x=\"median_number\", y=\"street\", edgecolor=\"k\",  palette=\"Set3\", data=top10_top_streets_number) \n",
    "plt.title('Медианная вместимость ООП на ТОП-10 улиц Москвы по количеству расположенных на них ООП')\n",
    "ax.set_xlabel('Вместимость ООП')\n",
    "ax.set_ylabel('Улица Москвы')\n",
    "plt.xticks(rotation=45)\n",
    "\n",
    "# укажем значения над столбцами \n",
    "\n",
    "for p in ax.patches:\n",
    "                _x = p.get_x() + p.get_width() + float(1)\n",
    "                _y = p.get_y() + p.get_height()\n",
    "                value = int(p.get_width())\n",
    "                ax.text(_x, _y, value, ha=\"left\")\n",
    "plt.show()"
   ]
  },
  {
   "cell_type": "markdown",
   "metadata": {},
   "source": [
    "**Медианная вместимость ООП на ТОП-10 улиц Москвы колеблется от 24 до 45 посадочных мест.**"
   ]
  },
  {
   "cell_type": "code",
   "execution_count": 54,
   "metadata": {},
   "outputs": [
    {
     "name": "stdout",
     "output_type": "stream",
     "text": [
      "Медианное количество посадочных мест в ООП на ТОП-10 улиц Москвы по количеству ООП: 38.5\n",
      "Медианное количество посадочных мест в ООП на остальных улицах Москвы: 40.0\n"
     ]
    }
   ],
   "source": [
    "print('Медианное количество посадочных мест в ООП на ТОП-10 улиц Москвы по количеству ООП: {}'.format(top10_streets_data['number'].median()))\n",
    "print('Медианное количество посадочных мест в ООП на остальных улицах Москвы: {}'\\\n",
    ".format(df.query('street not in @top10_streets_list')['number'].median()))"
   ]
  },
  {
   "cell_type": "markdown",
   "metadata": {},
   "source": [
    "### 4. Общий вывод"
   ]
  },
  {
   "cell_type": "markdown",
   "metadata": {},
   "source": [
    "**По итогам анализа открытых данных об объектах общественного питания Москвы (далее - ООП), получены следующие результаты, характеризующие общее состояние рынка общественного питания.**\n",
    "\n",
    "**Популярные (наиболее распространенные) типы ООП:**\n",
    "- кафе (39,6 % ООП), \n",
    "- на втором месте - столовая (17 %), \n",
    "- на третьем - ресторан (14,9 %). \n",
    "\n",
    "**Наименее распространенные типы ООП:**\n",
    "- отдел кулинарии в магазине (1,8 %), \n",
    "- закусочная (2,3 %), \n",
    "- кафетерий (2,6 %).\n",
    "\n",
    "***80,6 % ООП Москвы - несетевые, и только 19,4 % имеют сетевое распространение.***\n",
    "\n",
    "**В ТОП-3 самых популярных типов сетевых ООП входят:**\n",
    "- Кафе - 47,2 % от общего количества сетевых ООП,\n",
    "- Фаст- фуд (предприятие быстрого обслуживания) - 26,5 %,\n",
    "- Ресторан - 18,3 %,\n",
    "*Совокупная доля остальных типов сетевых ООП от общего количества сетевых ООП составляет 8 %.*\n",
    "\n",
    "\n",
    "**Сетевое распространение в Москве характерно для следующих типов ООП:**\n",
    "- Фаст- фуд (предприятие быстрого обслуживания) - 41,4 % от общего количества ООП \"Фаст-фуд\" в Москве,\n",
    "- Кулинария - 28,8 % от общего количества отделов кулинарии в магазинах в Москве,\n",
    "- Ресторан - 23,8 % от общего количества ресторанов в Москве,\n",
    "- Кафе - 23,1 % от общего количества кафе в Москве,\n",
    "- Закусочная - 16,2 % от общего количества закусочных в Москве.\n",
    "*Сетевое распространение в Москве практически не характерно для столовых (0,1 % всех столовых), буфетов (1,9 %) и баров (4,3 %).*\n",
    "\n",
    "**Для сетевых ООП характерно малое число заведений в сети и довольно большое число посадочных мест в них.**\n",
    "\n",
    "- До 50% сетей имеют не больше 45 посадочных мест и 1 заведение в среднем.\n",
    "- От 50 до 90% сетей имеют не больше 130 посадочных мест и 6 заведений в среднем.\n",
    "- От 90 до 95% сетей имеют не больше 154 посадочных мест и 12 заведений в среднем.\n",
    "\n",
    "**Распределение медианной вместимости разных типов ООП (ТОП-5 по вместимости):**\n",
    "- Столовая - 103 посадочных места,\n",
    "- Ресторан - 80 посадочных мест,\n",
    "- Бар - 35 посадочных мест,\n",
    "- Буфет - 32 посадочных места,\n",
    "- Кафе - 31 посадочное место.\n",
    "\n",
    "**Топ-10 улиц с наибольшим количеством ООП:**\n",
    "                       \n",
    "- проспект Мира          - 197\n",
    "- Профсоюзная улица      - 180\n",
    "- Ленинградский проспект - 171\n",
    "- Пресненская набережная - 165\n",
    "- Варшавское шоссе       - 164\n",
    "- Ленинский проспект     - 148\n",
    "- проспект Вернадского   - 127\n",
    "- Кутузовский проспект   - 112\n",
    "- Каширское шоссе        - 110\n",
    "- Кировоградская улица   - 106\n",
    "*Наибольшее количество ООП в Москве располагается на длинных и крупных улицах (проспектах), проходящих через несколько районов, а также на улицах с бизнес- центрами, зонами отдыха и туристическими маршрутами.* \n",
    "***Большинство ТОП-10 улиц находится в ЮАО, ЮЗАО и ЗАО.***\n",
    "\n",
    "**Для большинства ООП на ТОП-10 улицах Москвы характерно от 0 до 150 посадочных мест.** ***На всех ТОП-10 улицах имеются ООП с количеством посадочных мест до 300 и более (на Каширском шоссе максимально вместительный ООП - около 700 посадочных мест).***\n",
    "\n",
    "- Медианное количество посадочных мест в ООП на ТОП-10 улиц Москвы по количеству ООП: 38.5\n",
    "- Медианное количество посадочных мест в ООП на остальных улицах Москвы: 40.0\n",
    "\n",
    "\n",
    "**Всего в Москве 552 улицы с одним ООП, что составляет 29.0% от общего количества улиц Москвы с ООП.**\n",
    "\n",
    "**Вероятно, один ООП находится в Москве либо на маленьких улочках и переулках, либо на улицах спальных районов и окраины Москвы.**\n",
    "\n",
    "***Большинство улиц с единственным ООП располагается в ЦАО.***\n",
    "\n",
    "**РЕКОМЕНДАЦИИ:**\n",
    "- Тип ООП **кафе** - самый распространенный (почти 40 % от общего количества ООП), с одной стороны - высокая конкуренция, с другой стороны - спрос рождает предложение, кафе - оптимальный тип для открытия небольшого ООП.\n",
    "- Оптимальное **число посадочных мест** в кафе - **от 30 до 40.**\n",
    "- Оптимальное место для расположения - самые \"проходимые\" улицы - с расположенными на них , или поблизости, бизнес и торговыми центрами, зонами отдыха, престижными учреждениями высшего профессионального образования, туристическими маршрутами. Выбор конкретного района довольно обширен, **предпочтительнее выбрать улицу в самых популярных округах - ЮАО, ЮЗАО и ЗАО.**\n",
    "- При условии привлечения в качестве посетителей в первую очередь молодого поколения (как наиболее лояльного к тенденции всеобщей информатизации, что важно для робототизированного кафе), эффективной реализации бизнес- проекта по основным метрикам (санитарные нормы, меню, соотношение цена/качество) существуют реальные перспективы для сетевого развития. Нынешняя ситуация на рынке общественного питания демонстрирует тенденцию сетевого развития именно для кафе (47 % от общего количества сетевых ООП), в тоже время - только 23 % всех кафе Москвы относятся к сетевым."
   ]
  },
  {
   "cell_type": "markdown",
   "metadata": {},
   "source": [
    "### 5. Презентация"
   ]
  },
  {
   "cell_type": "markdown",
   "metadata": {},
   "source": [
    "**Презентация:** https://yadi.sk/i/rVaJmDrDFtVKGw"
   ]
  }
 ],
 "metadata": {
  "ExecuteTimeLog": [
   {
    "duration": 1918,
    "start_time": "2021-06-22T19:42:22.307Z"
   },
   {
    "duration": 38,
    "start_time": "2021-06-22T19:44:09.089Z"
   },
   {
    "duration": 102,
    "start_time": "2021-06-22T19:54:08.224Z"
   },
   {
    "duration": 471,
    "start_time": "2021-06-23T13:38:06.363Z"
   },
   {
    "duration": 2009,
    "start_time": "2021-06-23T13:38:09.765Z"
   },
   {
    "duration": 18,
    "start_time": "2021-06-23T13:38:11.777Z"
   },
   {
    "duration": 23,
    "start_time": "2021-06-23T13:39:21.149Z"
   },
   {
    "duration": 15,
    "start_time": "2021-06-23T13:42:34.839Z"
   },
   {
    "duration": 12,
    "start_time": "2021-06-23T13:45:40.816Z"
   },
   {
    "duration": 6,
    "start_time": "2021-06-23T13:46:10.584Z"
   },
   {
    "duration": 76,
    "start_time": "2021-06-23T13:46:11.417Z"
   },
   {
    "duration": 23,
    "start_time": "2021-06-23T13:46:12.437Z"
   },
   {
    "duration": 22,
    "start_time": "2021-06-23T13:46:23.559Z"
   },
   {
    "duration": 13,
    "start_time": "2021-06-23T13:46:42.568Z"
   },
   {
    "duration": 25,
    "start_time": "2021-06-23T13:48:58.933Z"
   },
   {
    "duration": 9,
    "start_time": "2021-06-23T13:57:17.866Z"
   },
   {
    "duration": 9,
    "start_time": "2021-06-23T13:58:49.958Z"
   },
   {
    "duration": 421,
    "start_time": "2021-06-23T13:59:33.500Z"
   },
   {
    "duration": 9,
    "start_time": "2021-06-23T13:59:53.583Z"
   },
   {
    "duration": 7,
    "start_time": "2021-06-23T14:00:20.059Z"
   },
   {
    "duration": 8,
    "start_time": "2021-06-23T14:00:24.282Z"
   },
   {
    "duration": 9,
    "start_time": "2021-06-23T14:00:57.348Z"
   },
   {
    "duration": 17,
    "start_time": "2021-06-23T14:02:06.398Z"
   },
   {
    "duration": 11,
    "start_time": "2021-06-23T14:02:41.525Z"
   },
   {
    "duration": 7,
    "start_time": "2021-06-23T14:18:07.931Z"
   },
   {
    "duration": 6,
    "start_time": "2021-06-23T14:18:27.215Z"
   },
   {
    "duration": 10,
    "start_time": "2021-06-23T14:21:32.554Z"
   },
   {
    "duration": 4,
    "start_time": "2021-06-23T14:28:50.043Z"
   },
   {
    "duration": 55,
    "start_time": "2021-06-23T14:28:51.061Z"
   },
   {
    "duration": 20,
    "start_time": "2021-06-23T14:28:52.247Z"
   },
   {
    "duration": 16,
    "start_time": "2021-06-23T14:28:53.867Z"
   },
   {
    "duration": 26,
    "start_time": "2021-06-23T14:28:54.837Z"
   },
   {
    "duration": 13,
    "start_time": "2021-06-23T14:28:55.757Z"
   },
   {
    "duration": 8,
    "start_time": "2021-06-23T14:28:57.287Z"
   },
   {
    "duration": 10,
    "start_time": "2021-06-23T14:28:58.035Z"
   },
   {
    "duration": 10,
    "start_time": "2021-06-23T14:28:58.721Z"
   },
   {
    "duration": 9,
    "start_time": "2021-06-23T14:29:00.133Z"
   },
   {
    "duration": 12,
    "start_time": "2021-06-23T14:29:00.781Z"
   },
   {
    "duration": 6,
    "start_time": "2021-06-23T14:29:02.046Z"
   },
   {
    "duration": 12,
    "start_time": "2021-06-23T14:29:02.801Z"
   },
   {
    "duration": 7,
    "start_time": "2021-06-23T14:29:03.568Z"
   },
   {
    "duration": 185,
    "start_time": "2021-06-23T14:29:24.304Z"
   },
   {
    "duration": 1923,
    "start_time": "2021-06-23T14:30:58.359Z"
   },
   {
    "duration": 57,
    "start_time": "2021-06-23T14:31:00.284Z"
   },
   {
    "duration": 23,
    "start_time": "2021-06-23T14:31:00.344Z"
   },
   {
    "duration": 36,
    "start_time": "2021-06-23T14:31:00.370Z"
   },
   {
    "duration": 45,
    "start_time": "2021-06-23T14:31:00.408Z"
   },
   {
    "duration": 12,
    "start_time": "2021-06-23T14:31:00.455Z"
   },
   {
    "duration": 17,
    "start_time": "2021-06-23T14:31:00.470Z"
   },
   {
    "duration": 25,
    "start_time": "2021-06-23T14:31:00.491Z"
   },
   {
    "duration": 30,
    "start_time": "2021-06-23T14:31:00.518Z"
   },
   {
    "duration": 19,
    "start_time": "2021-06-23T14:31:00.550Z"
   },
   {
    "duration": 21,
    "start_time": "2021-06-23T14:31:00.572Z"
   },
   {
    "duration": 10,
    "start_time": "2021-06-23T14:31:00.595Z"
   },
   {
    "duration": 20,
    "start_time": "2021-06-23T14:31:00.607Z"
   },
   {
    "duration": 20,
    "start_time": "2021-06-23T14:31:00.629Z"
   },
   {
    "duration": 14,
    "start_time": "2021-06-23T14:31:00.651Z"
   },
   {
    "duration": 1181,
    "start_time": "2021-06-23T14:44:01.412Z"
   },
   {
    "duration": 21,
    "start_time": "2021-06-23T15:09:00.233Z"
   },
   {
    "duration": 32,
    "start_time": "2021-06-23T15:09:45.824Z"
   },
   {
    "duration": 21,
    "start_time": "2021-06-23T15:09:58.046Z"
   },
   {
    "duration": 520,
    "start_time": "2021-06-23T15:21:57.011Z"
   },
   {
    "duration": 540,
    "start_time": "2021-06-23T15:22:38.132Z"
   },
   {
    "duration": 188,
    "start_time": "2021-06-23T15:24:54.919Z"
   },
   {
    "duration": 40,
    "start_time": "2021-06-23T15:27:57.750Z"
   },
   {
    "duration": 35,
    "start_time": "2021-06-23T15:28:20.089Z"
   },
   {
    "duration": 1914,
    "start_time": "2021-06-23T15:29:05.096Z"
   },
   {
    "duration": 55,
    "start_time": "2021-06-23T15:29:07.012Z"
   },
   {
    "duration": 23,
    "start_time": "2021-06-23T15:29:07.070Z"
   },
   {
    "duration": 16,
    "start_time": "2021-06-23T15:29:07.095Z"
   },
   {
    "duration": 53,
    "start_time": "2021-06-23T15:29:07.113Z"
   },
   {
    "duration": 14,
    "start_time": "2021-06-23T15:29:07.169Z"
   },
   {
    "duration": 25,
    "start_time": "2021-06-23T15:29:07.185Z"
   },
   {
    "duration": 18,
    "start_time": "2021-06-23T15:29:07.216Z"
   },
   {
    "duration": 30,
    "start_time": "2021-06-23T15:29:07.238Z"
   },
   {
    "duration": 14,
    "start_time": "2021-06-23T15:29:07.271Z"
   },
   {
    "duration": 19,
    "start_time": "2021-06-23T15:29:07.289Z"
   },
   {
    "duration": 7,
    "start_time": "2021-06-23T15:29:07.311Z"
   },
   {
    "duration": 50,
    "start_time": "2021-06-23T15:29:07.321Z"
   },
   {
    "duration": 6,
    "start_time": "2021-06-23T15:29:07.374Z"
   },
   {
    "duration": 16,
    "start_time": "2021-06-23T15:29:07.383Z"
   },
   {
    "duration": 43,
    "start_time": "2021-06-23T15:29:07.402Z"
   },
   {
    "duration": 35,
    "start_time": "2021-06-23T15:29:07.448Z"
   },
   {
    "duration": 563,
    "start_time": "2021-06-23T15:29:07.485Z"
   },
   {
    "duration": 50,
    "start_time": "2021-06-23T15:36:12.031Z"
   },
   {
    "duration": 1615,
    "start_time": "2021-06-23T15:37:28.766Z"
   },
   {
    "duration": 33,
    "start_time": "2021-06-23T15:37:51.608Z"
   },
   {
    "duration": 622,
    "start_time": "2021-06-23T15:38:25.937Z"
   },
   {
    "duration": 397,
    "start_time": "2021-06-23T15:38:41.534Z"
   },
   {
    "duration": 24,
    "start_time": "2021-06-23T15:38:50.127Z"
   },
   {
    "duration": 12,
    "start_time": "2021-06-23T15:39:03.001Z"
   },
   {
    "duration": 3981,
    "start_time": "2021-06-23T15:46:44.785Z"
   },
   {
    "duration": 3959,
    "start_time": "2021-06-23T15:47:42.447Z"
   },
   {
    "duration": 3855,
    "start_time": "2021-06-23T15:48:33.183Z"
   },
   {
    "duration": 23,
    "start_time": "2021-06-23T15:51:18.513Z"
   },
   {
    "duration": 18,
    "start_time": "2021-06-23T16:10:12.977Z"
   },
   {
    "duration": 18,
    "start_time": "2021-06-23T16:13:00.146Z"
   },
   {
    "duration": 16,
    "start_time": "2021-06-23T16:14:33.371Z"
   },
   {
    "duration": 26,
    "start_time": "2021-06-23T16:17:34.157Z"
   },
   {
    "duration": 17,
    "start_time": "2021-06-23T16:18:06.859Z"
   },
   {
    "duration": 31,
    "start_time": "2021-06-23T16:22:10.993Z"
   },
   {
    "duration": 13,
    "start_time": "2021-06-23T16:22:16.790Z"
   },
   {
    "duration": 12,
    "start_time": "2021-06-23T16:22:20.109Z"
   },
   {
    "duration": 11,
    "start_time": "2021-06-23T16:22:42.125Z"
   },
   {
    "duration": 18,
    "start_time": "2021-06-23T16:24:01.536Z"
   },
   {
    "duration": 13,
    "start_time": "2021-06-23T16:24:03.630Z"
   },
   {
    "duration": 1977,
    "start_time": "2021-06-23T16:24:35.794Z"
   },
   {
    "duration": 58,
    "start_time": "2021-06-23T16:24:37.774Z"
   },
   {
    "duration": 25,
    "start_time": "2021-06-23T16:24:37.835Z"
   },
   {
    "duration": 17,
    "start_time": "2021-06-23T16:24:37.862Z"
   },
   {
    "duration": 29,
    "start_time": "2021-06-23T16:24:37.881Z"
   },
   {
    "duration": 16,
    "start_time": "2021-06-23T16:24:37.913Z"
   },
   {
    "duration": 40,
    "start_time": "2021-06-23T16:24:37.932Z"
   },
   {
    "duration": 8,
    "start_time": "2021-06-23T16:24:37.976Z"
   },
   {
    "duration": 9,
    "start_time": "2021-06-23T16:24:37.987Z"
   },
   {
    "duration": 13,
    "start_time": "2021-06-23T16:24:37.999Z"
   },
   {
    "duration": 54,
    "start_time": "2021-06-23T16:24:38.015Z"
   },
   {
    "duration": 15,
    "start_time": "2021-06-23T16:24:38.072Z"
   },
   {
    "duration": 7,
    "start_time": "2021-06-23T16:24:38.090Z"
   },
   {
    "duration": 18,
    "start_time": "2021-06-23T16:24:38.100Z"
   },
   {
    "duration": 44,
    "start_time": "2021-06-23T16:24:38.121Z"
   },
   {
    "duration": 25,
    "start_time": "2021-06-23T16:24:38.169Z"
   },
   {
    "duration": 3,
    "start_time": "2021-06-23T16:24:38.197Z"
   },
   {
    "duration": 67,
    "start_time": "2021-06-23T16:24:38.203Z"
   },
   {
    "duration": 23,
    "start_time": "2021-06-23T16:24:38.272Z"
   },
   {
    "duration": 546,
    "start_time": "2021-06-23T16:24:38.297Z"
   },
   {
    "duration": 19,
    "start_time": "2021-06-23T16:25:57.875Z"
   },
   {
    "duration": 13,
    "start_time": "2021-06-23T16:25:58.627Z"
   },
   {
    "duration": 7,
    "start_time": "2021-06-23T16:26:00.430Z"
   },
   {
    "duration": 9,
    "start_time": "2021-06-23T16:26:01.769Z"
   },
   {
    "duration": 10,
    "start_time": "2021-06-23T16:26:03.204Z"
   },
   {
    "duration": 10,
    "start_time": "2021-06-23T16:26:35.609Z"
   },
   {
    "duration": 15,
    "start_time": "2021-06-23T16:27:25.338Z"
   },
   {
    "duration": 7,
    "start_time": "2021-06-23T16:27:30.747Z"
   },
   {
    "duration": 14,
    "start_time": "2021-06-23T16:27:35.174Z"
   },
   {
    "duration": 8,
    "start_time": "2021-06-23T16:27:43.051Z"
   },
   {
    "duration": 1863,
    "start_time": "2021-06-23T16:27:59.117Z"
   },
   {
    "duration": 57,
    "start_time": "2021-06-23T16:28:00.983Z"
   },
   {
    "duration": 23,
    "start_time": "2021-06-23T16:28:01.043Z"
   },
   {
    "duration": 16,
    "start_time": "2021-06-23T16:28:01.068Z"
   },
   {
    "duration": 35,
    "start_time": "2021-06-23T16:28:01.087Z"
   },
   {
    "duration": 42,
    "start_time": "2021-06-23T16:28:01.125Z"
   },
   {
    "duration": 13,
    "start_time": "2021-06-23T16:28:01.170Z"
   },
   {
    "duration": 32,
    "start_time": "2021-06-23T16:28:01.188Z"
   },
   {
    "duration": 11,
    "start_time": "2021-06-23T16:28:01.223Z"
   },
   {
    "duration": 26,
    "start_time": "2021-06-23T16:28:01.236Z"
   },
   {
    "duration": 10,
    "start_time": "2021-06-23T16:28:01.264Z"
   },
   {
    "duration": 23,
    "start_time": "2021-06-23T16:28:01.276Z"
   },
   {
    "duration": 31,
    "start_time": "2021-06-23T16:28:01.301Z"
   },
   {
    "duration": 21,
    "start_time": "2021-06-23T16:28:01.334Z"
   },
   {
    "duration": 11,
    "start_time": "2021-06-23T16:28:01.358Z"
   },
   {
    "duration": 25,
    "start_time": "2021-06-23T16:28:01.372Z"
   },
   {
    "duration": 4,
    "start_time": "2021-06-23T16:28:01.399Z"
   },
   {
    "duration": 44,
    "start_time": "2021-06-23T16:28:01.405Z"
   },
   {
    "duration": 33,
    "start_time": "2021-06-23T16:28:01.452Z"
   },
   {
    "duration": 534,
    "start_time": "2021-06-23T16:28:01.487Z"
   },
   {
    "duration": 18,
    "start_time": "2021-06-23T16:34:36.294Z"
   },
   {
    "duration": 13,
    "start_time": "2021-06-23T16:35:23.955Z"
   },
   {
    "duration": 15,
    "start_time": "2021-06-23T16:36:05.544Z"
   },
   {
    "duration": 10,
    "start_time": "2021-06-23T16:36:28.435Z"
   },
   {
    "duration": 11,
    "start_time": "2021-06-23T16:36:29.114Z"
   },
   {
    "duration": 21,
    "start_time": "2021-06-23T16:39:08.520Z"
   },
   {
    "duration": 1107,
    "start_time": "2021-06-23T16:39:30.226Z"
   },
   {
    "duration": 127,
    "start_time": "2021-06-23T16:41:00.538Z"
   },
   {
    "duration": 563,
    "start_time": "2021-06-23T16:41:16.868Z"
   },
   {
    "duration": 926,
    "start_time": "2021-06-23T16:44:31.801Z"
   },
   {
    "duration": 850,
    "start_time": "2021-06-23T16:44:38.107Z"
   },
   {
    "duration": 1121,
    "start_time": "2021-06-23T16:46:32.256Z"
   },
   {
    "duration": 564,
    "start_time": "2021-06-23T16:47:02.683Z"
   },
   {
    "duration": 648,
    "start_time": "2021-06-23T16:47:10.060Z"
   },
   {
    "duration": 548,
    "start_time": "2021-06-23T16:47:17.404Z"
   },
   {
    "duration": 557,
    "start_time": "2021-06-23T16:47:24.452Z"
   },
   {
    "duration": 554,
    "start_time": "2021-06-23T16:47:31.155Z"
   },
   {
    "duration": 535,
    "start_time": "2021-06-23T16:47:47.335Z"
   },
   {
    "duration": 543,
    "start_time": "2021-06-23T16:48:36.996Z"
   },
   {
    "duration": 7,
    "start_time": "2021-06-23T16:54:41.692Z"
   },
   {
    "duration": 21,
    "start_time": "2021-06-23T16:58:37.016Z"
   },
   {
    "duration": 542,
    "start_time": "2021-06-23T16:58:40.387Z"
   },
   {
    "duration": 20,
    "start_time": "2021-06-23T17:00:00.948Z"
   },
   {
    "duration": 20,
    "start_time": "2021-06-23T17:01:01.998Z"
   },
   {
    "duration": 21,
    "start_time": "2021-06-23T17:01:39.818Z"
   },
   {
    "duration": 20,
    "start_time": "2021-06-23T17:01:59.058Z"
   },
   {
    "duration": 19,
    "start_time": "2021-06-23T17:02:19.056Z"
   },
   {
    "duration": 360,
    "start_time": "2021-06-23T17:19:25.323Z"
   },
   {
    "duration": 574,
    "start_time": "2021-06-23T17:21:12.693Z"
   },
   {
    "duration": 370,
    "start_time": "2021-06-23T17:21:47.106Z"
   },
   {
    "duration": 25,
    "start_time": "2021-06-23T17:25:31.456Z"
   },
   {
    "duration": 1933,
    "start_time": "2021-06-23T17:25:33.908Z"
   },
   {
    "duration": 26,
    "start_time": "2021-06-23T17:35:38.274Z"
   },
   {
    "duration": 53,
    "start_time": "2021-06-23T17:40:45.352Z"
   },
   {
    "duration": 35,
    "start_time": "2021-06-23T17:41:42.122Z"
   },
   {
    "duration": 9349,
    "start_time": "2021-06-23T18:02:25.430Z"
   },
   {
    "duration": 570,
    "start_time": "2021-06-23T18:03:21.307Z"
   },
   {
    "duration": 564,
    "start_time": "2021-06-23T18:18:23.034Z"
   },
   {
    "duration": 55,
    "start_time": "2021-06-23T18:24:00.260Z"
   },
   {
    "duration": 38,
    "start_time": "2021-06-23T18:24:22.989Z"
   },
   {
    "duration": 58,
    "start_time": "2021-06-23T18:25:07.075Z"
   },
   {
    "duration": 621,
    "start_time": "2021-06-23T18:27:24.272Z"
   },
   {
    "duration": 599,
    "start_time": "2021-06-23T18:27:42.223Z"
   },
   {
    "duration": 559,
    "start_time": "2021-06-23T18:27:50.203Z"
   },
   {
    "duration": 560,
    "start_time": "2021-06-23T18:27:55.996Z"
   },
   {
    "duration": 895,
    "start_time": "2021-06-23T18:28:07.515Z"
   },
   {
    "duration": 571,
    "start_time": "2021-06-23T18:28:14.570Z"
   },
   {
    "duration": 577,
    "start_time": "2021-06-23T18:32:21.740Z"
   },
   {
    "duration": 562,
    "start_time": "2021-06-23T18:32:47.382Z"
   },
   {
    "duration": 776,
    "start_time": "2021-06-23T18:33:03.633Z"
   },
   {
    "duration": 1741,
    "start_time": "2021-06-26T07:36:31.838Z"
   },
   {
    "duration": 53,
    "start_time": "2021-06-26T07:36:33.582Z"
   },
   {
    "duration": 25,
    "start_time": "2021-06-26T07:36:33.638Z"
   },
   {
    "duration": 29,
    "start_time": "2021-06-26T07:36:33.665Z"
   },
   {
    "duration": 25,
    "start_time": "2021-06-26T07:36:33.697Z"
   },
   {
    "duration": 14,
    "start_time": "2021-06-26T07:36:33.725Z"
   },
   {
    "duration": 49,
    "start_time": "2021-06-26T07:36:33.741Z"
   },
   {
    "duration": 7,
    "start_time": "2021-06-26T07:36:33.793Z"
   },
   {
    "duration": 8,
    "start_time": "2021-06-26T07:36:33.803Z"
   },
   {
    "duration": 9,
    "start_time": "2021-06-26T07:36:33.814Z"
   },
   {
    "duration": 12,
    "start_time": "2021-06-26T07:36:33.825Z"
   },
   {
    "duration": 13,
    "start_time": "2021-06-26T07:36:33.884Z"
   },
   {
    "duration": 6,
    "start_time": "2021-06-26T07:36:33.900Z"
   },
   {
    "duration": 11,
    "start_time": "2021-06-26T07:36:33.909Z"
   },
   {
    "duration": 11,
    "start_time": "2021-06-26T07:36:33.922Z"
   },
   {
    "duration": 57,
    "start_time": "2021-06-26T07:36:33.935Z"
   },
   {
    "duration": 10,
    "start_time": "2021-06-26T07:36:33.995Z"
   },
   {
    "duration": 8,
    "start_time": "2021-06-26T07:36:34.008Z"
   },
   {
    "duration": 9,
    "start_time": "2021-06-26T07:36:34.019Z"
   },
   {
    "duration": 4,
    "start_time": "2021-06-26T07:36:34.031Z"
   },
   {
    "duration": 36,
    "start_time": "2021-06-26T07:36:34.083Z"
   },
   {
    "duration": 7,
    "start_time": "2021-06-26T07:36:34.122Z"
   },
   {
    "duration": 57,
    "start_time": "2021-06-26T07:36:34.135Z"
   },
   {
    "duration": 531,
    "start_time": "2021-06-26T07:36:34.195Z"
   },
   {
    "duration": 19,
    "start_time": "2021-06-26T07:36:34.729Z"
   },
   {
    "duration": 371,
    "start_time": "2021-06-26T07:36:34.751Z"
   },
   {
    "duration": 35,
    "start_time": "2021-06-26T07:36:35.125Z"
   },
   {
    "duration": 544,
    "start_time": "2021-06-26T07:36:35.162Z"
   },
   {
    "duration": 552,
    "start_time": "2021-06-26T07:36:35.709Z"
   },
   {
    "duration": 431,
    "start_time": "2021-06-26T07:36:36.264Z"
   },
   {
    "duration": 14,
    "start_time": "2021-06-26T07:36:58.918Z"
   },
   {
    "duration": 13,
    "start_time": "2021-06-26T07:38:50.477Z"
   },
   {
    "duration": 1844,
    "start_time": "2021-06-26T07:39:13.782Z"
   },
   {
    "duration": 55,
    "start_time": "2021-06-26T07:39:15.629Z"
   },
   {
    "duration": 23,
    "start_time": "2021-06-26T07:39:15.686Z"
   },
   {
    "duration": 16,
    "start_time": "2021-06-26T07:39:15.712Z"
   },
   {
    "duration": 26,
    "start_time": "2021-06-26T07:39:15.731Z"
   },
   {
    "duration": 17,
    "start_time": "2021-06-26T07:39:15.784Z"
   },
   {
    "duration": 11,
    "start_time": "2021-06-26T07:39:15.804Z"
   },
   {
    "duration": 6,
    "start_time": "2021-06-26T07:39:15.818Z"
   },
   {
    "duration": 13,
    "start_time": "2021-06-26T07:39:15.827Z"
   },
   {
    "duration": 45,
    "start_time": "2021-06-26T07:39:15.843Z"
   },
   {
    "duration": 9,
    "start_time": "2021-06-26T07:39:15.891Z"
   },
   {
    "duration": 18,
    "start_time": "2021-06-26T07:39:15.903Z"
   },
   {
    "duration": 6,
    "start_time": "2021-06-26T07:39:15.923Z"
   },
   {
    "duration": 57,
    "start_time": "2021-06-26T07:39:15.931Z"
   },
   {
    "duration": 5,
    "start_time": "2021-06-26T07:39:15.991Z"
   },
   {
    "duration": 22,
    "start_time": "2021-06-26T07:39:15.998Z"
   },
   {
    "duration": 10,
    "start_time": "2021-06-26T07:39:16.022Z"
   },
   {
    "duration": 10,
    "start_time": "2021-06-26T07:39:16.036Z"
   },
   {
    "duration": 43,
    "start_time": "2021-06-26T07:39:16.049Z"
   },
   {
    "duration": 3,
    "start_time": "2021-06-26T07:39:16.094Z"
   },
   {
    "duration": 37,
    "start_time": "2021-06-26T07:39:16.099Z"
   },
   {
    "duration": 6,
    "start_time": "2021-06-26T07:39:16.139Z"
   },
   {
    "duration": 54,
    "start_time": "2021-06-26T07:39:16.148Z"
   },
   {
    "duration": 532,
    "start_time": "2021-06-26T07:39:16.204Z"
   },
   {
    "duration": 19,
    "start_time": "2021-06-26T07:39:16.739Z"
   },
   {
    "duration": 364,
    "start_time": "2021-06-26T07:39:16.760Z"
   },
   {
    "duration": 36,
    "start_time": "2021-06-26T07:39:17.126Z"
   },
   {
    "duration": 560,
    "start_time": "2021-06-26T07:39:17.164Z"
   },
   {
    "duration": 540,
    "start_time": "2021-06-26T07:39:17.727Z"
   },
   {
    "duration": 22,
    "start_time": "2021-06-26T07:39:18.269Z"
   },
   {
    "duration": 17,
    "start_time": "2021-06-26T07:41:15.759Z"
   },
   {
    "duration": 17,
    "start_time": "2021-06-26T07:43:08.111Z"
   },
   {
    "duration": 21,
    "start_time": "2021-06-26T07:43:14.463Z"
   },
   {
    "duration": 30,
    "start_time": "2021-06-26T07:43:56.602Z"
   },
   {
    "duration": 1151,
    "start_time": "2021-06-26T07:45:55.089Z"
   },
   {
    "duration": 1605,
    "start_time": "2021-06-26T07:46:17.080Z"
   },
   {
    "duration": 1490,
    "start_time": "2021-06-26T07:47:05.624Z"
   },
   {
    "duration": 1553,
    "start_time": "2021-06-26T07:48:33.373Z"
   },
   {
    "duration": 1763,
    "start_time": "2021-06-26T07:49:54.848Z"
   },
   {
    "duration": 1779,
    "start_time": "2021-06-26T07:50:26.704Z"
   },
   {
    "duration": 1668,
    "start_time": "2021-06-26T07:50:51.889Z"
   },
   {
    "duration": 1699,
    "start_time": "2021-06-26T07:51:00.079Z"
   },
   {
    "duration": 1874,
    "start_time": "2021-06-26T07:51:42.141Z"
   },
   {
    "duration": 1826,
    "start_time": "2021-06-26T07:56:22.631Z"
   },
   {
    "duration": 1667,
    "start_time": "2021-06-26T08:02:16.496Z"
   },
   {
    "duration": 1736,
    "start_time": "2021-06-26T08:02:34.660Z"
   },
   {
    "duration": 1799,
    "start_time": "2021-06-26T08:02:50.195Z"
   },
   {
    "duration": 2021,
    "start_time": "2021-06-26T08:03:00.886Z"
   },
   {
    "duration": 2167,
    "start_time": "2021-06-26T08:03:31.152Z"
   },
   {
    "duration": 1833,
    "start_time": "2021-06-26T08:05:22.864Z"
   },
   {
    "duration": 2077,
    "start_time": "2021-06-26T08:05:54.465Z"
   },
   {
    "duration": 1901,
    "start_time": "2021-06-26T08:09:16.998Z"
   },
   {
    "duration": 1774,
    "start_time": "2021-06-26T08:09:34.112Z"
   },
   {
    "duration": 1715,
    "start_time": "2021-06-26T08:09:48.661Z"
   },
   {
    "duration": 1923,
    "start_time": "2021-06-26T08:09:58.999Z"
   },
   {
    "duration": 1848,
    "start_time": "2021-06-26T08:10:10.225Z"
   },
   {
    "duration": 1791,
    "start_time": "2021-06-26T08:10:26.784Z"
   },
   {
    "duration": 1685,
    "start_time": "2021-06-26T08:10:56.483Z"
   },
   {
    "duration": 1889,
    "start_time": "2021-06-26T08:11:07.262Z"
   },
   {
    "duration": 1699,
    "start_time": "2021-06-26T08:11:34.984Z"
   },
   {
    "duration": 7,
    "start_time": "2021-06-26T08:15:23.965Z"
   },
   {
    "duration": 7,
    "start_time": "2021-06-26T08:16:15.891Z"
   },
   {
    "duration": 1732,
    "start_time": "2021-06-26T08:22:17.737Z"
   },
   {
    "duration": 1797,
    "start_time": "2021-06-26T08:22:52.832Z"
   },
   {
    "duration": 1957,
    "start_time": "2021-06-26T08:25:23.157Z"
   },
   {
    "duration": 1914,
    "start_time": "2021-06-26T08:25:34.065Z"
   },
   {
    "duration": 1683,
    "start_time": "2021-06-26T08:25:47.708Z"
   },
   {
    "duration": 1734,
    "start_time": "2021-06-26T08:26:01.539Z"
   },
   {
    "duration": 1895,
    "start_time": "2021-06-26T08:26:12.381Z"
   },
   {
    "duration": 2256,
    "start_time": "2021-06-26T08:26:37.766Z"
   },
   {
    "duration": 23,
    "start_time": "2021-06-26T08:30:38.846Z"
   },
   {
    "duration": 22,
    "start_time": "2021-06-26T08:36:03.612Z"
   },
   {
    "duration": 1111,
    "start_time": "2021-06-26T09:00:13.254Z"
   },
   {
    "duration": 1233,
    "start_time": "2021-06-26T09:00:45.564Z"
   },
   {
    "duration": 1089,
    "start_time": "2021-06-26T09:01:15.582Z"
   },
   {
    "duration": 20,
    "start_time": "2021-06-26T09:01:33.054Z"
   },
   {
    "duration": 22,
    "start_time": "2021-06-26T09:02:15.671Z"
   },
   {
    "duration": 55,
    "start_time": "2021-06-26T09:05:59.443Z"
   },
   {
    "duration": 50,
    "start_time": "2021-06-26T09:06:14.995Z"
   },
   {
    "duration": 46,
    "start_time": "2021-06-26T09:06:54.136Z"
   },
   {
    "duration": 503,
    "start_time": "2021-06-26T09:22:19.114Z"
   },
   {
    "duration": 549,
    "start_time": "2021-06-26T09:22:45.826Z"
   },
   {
    "duration": 51,
    "start_time": "2021-06-26T09:24:09.011Z"
   },
   {
    "duration": 303,
    "start_time": "2021-06-26T09:27:04.621Z"
   },
   {
    "duration": 20,
    "start_time": "2021-06-26T09:27:10.318Z"
   },
   {
    "duration": 1694,
    "start_time": "2021-06-26T09:29:06.101Z"
   },
   {
    "duration": 1842,
    "start_time": "2021-06-26T09:29:19.281Z"
   },
   {
    "duration": 1747,
    "start_time": "2021-06-26T09:30:08.057Z"
   },
   {
    "duration": 1753,
    "start_time": "2021-06-26T09:30:26.020Z"
   },
   {
    "duration": 1873,
    "start_time": "2021-06-26T09:30:43.014Z"
   },
   {
    "duration": 1818,
    "start_time": "2021-06-26T09:30:56.593Z"
   },
   {
    "duration": 1746,
    "start_time": "2021-06-26T09:31:11.548Z"
   },
   {
    "duration": 1722,
    "start_time": "2021-06-26T09:31:24.341Z"
   },
   {
    "duration": 1683,
    "start_time": "2021-06-26T09:31:53.200Z"
   },
   {
    "duration": 1861,
    "start_time": "2021-06-26T09:32:34.273Z"
   },
   {
    "duration": 1855,
    "start_time": "2021-06-26T09:35:24.602Z"
   },
   {
    "duration": 1536,
    "start_time": "2021-06-26T09:36:23.821Z"
   },
   {
    "duration": 1595,
    "start_time": "2021-06-26T09:36:32.709Z"
   },
   {
    "duration": 1844,
    "start_time": "2021-06-26T09:36:39.659Z"
   },
   {
    "duration": 2042,
    "start_time": "2021-06-26T09:38:18.580Z"
   },
   {
    "duration": 621,
    "start_time": "2021-06-26T09:38:53.138Z"
   },
   {
    "duration": 1786,
    "start_time": "2021-06-26T09:39:10.740Z"
   },
   {
    "duration": 1713,
    "start_time": "2021-06-26T09:43:59.434Z"
   },
   {
    "duration": 1968,
    "start_time": "2021-06-26T09:44:12.259Z"
   },
   {
    "duration": 2407,
    "start_time": "2021-06-26T09:48:02.612Z"
   },
   {
    "duration": 1834,
    "start_time": "2021-06-26T09:48:18.068Z"
   },
   {
    "duration": 1912,
    "start_time": "2021-06-26T09:48:38.105Z"
   },
   {
    "duration": 2010,
    "start_time": "2021-06-26T09:48:55.162Z"
   },
   {
    "duration": 1861,
    "start_time": "2021-06-26T09:54:21.616Z"
   },
   {
    "duration": 1911,
    "start_time": "2021-06-26T09:55:13.838Z"
   },
   {
    "duration": 1834,
    "start_time": "2021-06-26T09:55:33.917Z"
   },
   {
    "duration": 2072,
    "start_time": "2021-06-26T09:55:52.229Z"
   },
   {
    "duration": 1937,
    "start_time": "2021-06-26T09:56:57.240Z"
   },
   {
    "duration": 6,
    "start_time": "2021-06-26T09:59:48.110Z"
   },
   {
    "duration": 6,
    "start_time": "2021-06-26T09:59:55.142Z"
   },
   {
    "duration": 6,
    "start_time": "2021-06-26T10:00:13.672Z"
   },
   {
    "duration": 6,
    "start_time": "2021-06-26T10:03:13.113Z"
   },
   {
    "duration": 7,
    "start_time": "2021-06-26T10:03:13.633Z"
   },
   {
    "duration": 7,
    "start_time": "2021-06-26T10:12:43.855Z"
   },
   {
    "duration": 7,
    "start_time": "2021-06-26T10:13:04.935Z"
   },
   {
    "duration": 7,
    "start_time": "2021-06-26T10:13:16.705Z"
   },
   {
    "duration": 7,
    "start_time": "2021-06-26T10:13:32.016Z"
   },
   {
    "duration": 7,
    "start_time": "2021-06-26T10:47:17.252Z"
   },
   {
    "duration": 7,
    "start_time": "2021-06-26T10:47:17.951Z"
   },
   {
    "duration": 20,
    "start_time": "2021-06-26T10:47:19.183Z"
   },
   {
    "duration": 47,
    "start_time": "2021-06-26T10:47:19.928Z"
   },
   {
    "duration": 2077,
    "start_time": "2021-06-28T11:26:38.953Z"
   },
   {
    "duration": 59,
    "start_time": "2021-06-28T11:26:41.033Z"
   },
   {
    "duration": 27,
    "start_time": "2021-06-28T11:26:41.095Z"
   },
   {
    "duration": 44,
    "start_time": "2021-06-28T11:26:41.126Z"
   },
   {
    "duration": 33,
    "start_time": "2021-06-28T11:26:41.173Z"
   },
   {
    "duration": 53,
    "start_time": "2021-06-28T11:26:41.209Z"
   },
   {
    "duration": 12,
    "start_time": "2021-06-28T11:26:41.264Z"
   },
   {
    "duration": 6,
    "start_time": "2021-06-28T11:26:41.280Z"
   },
   {
    "duration": 9,
    "start_time": "2021-06-28T11:26:41.289Z"
   },
   {
    "duration": 9,
    "start_time": "2021-06-28T11:26:41.300Z"
   },
   {
    "duration": 51,
    "start_time": "2021-06-28T11:26:41.312Z"
   },
   {
    "duration": 11,
    "start_time": "2021-06-28T11:26:41.366Z"
   },
   {
    "duration": 7,
    "start_time": "2021-06-28T11:26:41.379Z"
   },
   {
    "duration": 11,
    "start_time": "2021-06-28T11:26:41.388Z"
   },
   {
    "duration": 8,
    "start_time": "2021-06-28T11:26:41.401Z"
   },
   {
    "duration": 64,
    "start_time": "2021-06-28T11:26:41.411Z"
   },
   {
    "duration": 13,
    "start_time": "2021-06-28T11:26:41.477Z"
   },
   {
    "duration": 12,
    "start_time": "2021-06-28T11:26:41.492Z"
   },
   {
    "duration": 15,
    "start_time": "2021-06-28T11:26:41.506Z"
   },
   {
    "duration": 43,
    "start_time": "2021-06-28T11:26:41.523Z"
   },
   {
    "duration": 3,
    "start_time": "2021-06-28T11:26:41.568Z"
   },
   {
    "duration": 47,
    "start_time": "2021-06-28T11:26:41.574Z"
   },
   {
    "duration": 8,
    "start_time": "2021-06-28T11:26:41.625Z"
   },
   {
    "duration": 48,
    "start_time": "2021-06-28T11:26:41.636Z"
   },
   {
    "duration": 586,
    "start_time": "2021-06-28T11:26:41.686Z"
   },
   {
    "duration": 21,
    "start_time": "2021-06-28T11:26:42.274Z"
   },
   {
    "duration": 394,
    "start_time": "2021-06-28T11:26:42.298Z"
   },
   {
    "duration": 36,
    "start_time": "2021-06-28T11:26:42.695Z"
   },
   {
    "duration": 585,
    "start_time": "2021-06-28T11:26:42.734Z"
   },
   {
    "duration": 592,
    "start_time": "2021-06-28T11:26:43.321Z"
   },
   {
    "duration": 23,
    "start_time": "2021-06-28T11:26:43.916Z"
   },
   {
    "duration": 1966,
    "start_time": "2021-06-28T11:26:43.942Z"
   },
   {
    "duration": 8,
    "start_time": "2021-06-28T11:26:45.911Z"
   },
   {
    "duration": 6,
    "start_time": "2021-06-28T11:26:45.921Z"
   },
   {
    "duration": 33,
    "start_time": "2021-06-28T11:26:45.929Z"
   },
   {
    "duration": 24,
    "start_time": "2021-06-28T11:26:45.966Z"
   },
   {
    "duration": 189,
    "start_time": "2021-06-28T11:26:45.994Z"
   },
   {
    "duration": 570,
    "start_time": "2021-06-28T11:26:46.186Z"
   },
   {
    "duration": 2643,
    "start_time": "2021-06-28T11:27:01.870Z"
   },
   {
    "duration": 2423,
    "start_time": "2021-06-28T11:27:49.698Z"
   },
   {
    "duration": 137,
    "start_time": "2021-06-28T11:44:18.233Z"
   },
   {
    "duration": 117,
    "start_time": "2021-06-28T11:44:45.765Z"
   },
   {
    "duration": 115,
    "start_time": "2021-06-28T11:46:26.980Z"
   },
   {
    "duration": 99,
    "start_time": "2021-06-28T11:52:01.177Z"
   },
   {
    "duration": 110,
    "start_time": "2021-06-28T11:59:24.759Z"
   },
   {
    "duration": 131,
    "start_time": "2021-06-28T11:59:42.265Z"
   },
   {
    "duration": 1948,
    "start_time": "2021-06-28T12:01:07.810Z"
   },
   {
    "duration": 56,
    "start_time": "2021-06-28T12:01:09.761Z"
   },
   {
    "duration": 24,
    "start_time": "2021-06-28T12:01:09.820Z"
   },
   {
    "duration": 26,
    "start_time": "2021-06-28T12:01:09.847Z"
   },
   {
    "duration": 26,
    "start_time": "2021-06-28T12:01:09.875Z"
   },
   {
    "duration": 18,
    "start_time": "2021-06-28T12:01:09.903Z"
   },
   {
    "duration": 44,
    "start_time": "2021-06-28T12:01:09.923Z"
   },
   {
    "duration": 6,
    "start_time": "2021-06-28T12:01:09.972Z"
   },
   {
    "duration": 14,
    "start_time": "2021-06-28T12:01:09.981Z"
   },
   {
    "duration": 10,
    "start_time": "2021-06-28T12:01:09.998Z"
   },
   {
    "duration": 51,
    "start_time": "2021-06-28T12:01:10.011Z"
   },
   {
    "duration": 10,
    "start_time": "2021-06-28T12:01:10.065Z"
   },
   {
    "duration": 10,
    "start_time": "2021-06-28T12:01:10.078Z"
   },
   {
    "duration": 17,
    "start_time": "2021-06-28T12:01:10.091Z"
   },
   {
    "duration": 57,
    "start_time": "2021-06-28T12:01:10.111Z"
   },
   {
    "duration": 25,
    "start_time": "2021-06-28T12:01:10.171Z"
   },
   {
    "duration": 16,
    "start_time": "2021-06-28T12:01:10.199Z"
   },
   {
    "duration": 11,
    "start_time": "2021-06-28T12:01:10.219Z"
   },
   {
    "duration": 22,
    "start_time": "2021-06-28T12:01:10.263Z"
   },
   {
    "duration": 11,
    "start_time": "2021-06-28T12:01:10.287Z"
   },
   {
    "duration": 10,
    "start_time": "2021-06-28T12:01:10.301Z"
   },
   {
    "duration": 60,
    "start_time": "2021-06-28T12:01:10.313Z"
   },
   {
    "duration": 10,
    "start_time": "2021-06-28T12:01:10.380Z"
   },
   {
    "duration": 38,
    "start_time": "2021-06-28T12:01:10.394Z"
   },
   {
    "duration": 814,
    "start_time": "2021-06-28T12:01:10.435Z"
   },
   {
    "duration": 37,
    "start_time": "2021-06-28T12:01:11.252Z"
   },
   {
    "duration": 440,
    "start_time": "2021-06-28T12:01:11.291Z"
   },
   {
    "duration": 64,
    "start_time": "2021-06-28T12:01:11.734Z"
   },
   {
    "duration": 804,
    "start_time": "2021-06-28T12:01:11.801Z"
   },
   {
    "duration": 925,
    "start_time": "2021-06-28T12:01:12.608Z"
   },
   {
    "duration": 46,
    "start_time": "2021-06-28T12:01:13.536Z"
   },
   {
    "duration": 2137,
    "start_time": "2021-06-28T12:01:13.585Z"
   },
   {
    "duration": 6,
    "start_time": "2021-06-28T12:01:15.724Z"
   },
   {
    "duration": 8,
    "start_time": "2021-06-28T12:01:15.732Z"
   },
   {
    "duration": 6,
    "start_time": "2021-06-28T12:01:15.763Z"
   },
   {
    "duration": 21,
    "start_time": "2021-06-28T12:01:15.771Z"
   },
   {
    "duration": 169,
    "start_time": "2021-06-28T12:01:15.795Z"
   },
   {
    "duration": 762,
    "start_time": "2021-06-28T12:01:15.966Z"
   },
   {
    "duration": 203,
    "start_time": "2021-06-28T12:01:16.731Z"
   },
   {
    "duration": 1046,
    "start_time": "2021-06-28T12:03:40.790Z"
   },
   {
    "duration": 1035,
    "start_time": "2021-06-28T12:03:57.833Z"
   },
   {
    "duration": 49,
    "start_time": "2021-06-28T12:06:39.404Z"
   },
   {
    "duration": 53,
    "start_time": "2021-06-28T12:16:58.001Z"
   },
   {
    "duration": 144,
    "start_time": "2021-06-28T12:23:08.208Z"
   },
   {
    "duration": 204,
    "start_time": "2021-06-28T12:23:34.027Z"
   },
   {
    "duration": 162,
    "start_time": "2021-06-28T12:25:38.806Z"
   },
   {
    "duration": 158,
    "start_time": "2021-06-28T12:26:06.963Z"
   },
   {
    "duration": 149,
    "start_time": "2021-06-28T12:27:32.897Z"
   },
   {
    "duration": 154,
    "start_time": "2021-06-28T12:29:35.984Z"
   },
   {
    "duration": 242,
    "start_time": "2021-06-28T12:35:07.739Z"
   },
   {
    "duration": 9671,
    "start_time": "2021-06-28T12:37:26.674Z"
   },
   {
    "duration": 158,
    "start_time": "2021-06-28T12:37:50.850Z"
   },
   {
    "duration": 150,
    "start_time": "2021-06-28T12:38:02.777Z"
   },
   {
    "duration": 160,
    "start_time": "2021-06-28T12:38:16.918Z"
   },
   {
    "duration": 153,
    "start_time": "2021-06-28T12:38:32.031Z"
   },
   {
    "duration": 165,
    "start_time": "2021-06-28T12:38:56.405Z"
   },
   {
    "duration": 160,
    "start_time": "2021-06-28T12:41:15.094Z"
   },
   {
    "duration": 155,
    "start_time": "2021-06-28T12:41:42.648Z"
   },
   {
    "duration": 168,
    "start_time": "2021-06-28T12:42:56.696Z"
   },
   {
    "duration": 1687,
    "start_time": "2021-06-28T13:02:07.632Z"
   },
   {
    "duration": 1553,
    "start_time": "2021-06-28T13:03:28.468Z"
   },
   {
    "duration": 162,
    "start_time": "2021-06-28T13:05:12.101Z"
   },
   {
    "duration": 11,
    "start_time": "2021-06-28T13:11:20.024Z"
   },
   {
    "duration": 20,
    "start_time": "2021-06-28T13:15:32.521Z"
   },
   {
    "duration": 612,
    "start_time": "2021-06-28T13:20:19.698Z"
   },
   {
    "duration": 592,
    "start_time": "2021-06-28T13:20:37.987Z"
   },
   {
    "duration": 340,
    "start_time": "2021-06-28T13:24:30.944Z"
   },
   {
    "duration": 695,
    "start_time": "2021-06-28T13:26:29.549Z"
   },
   {
    "duration": 950,
    "start_time": "2021-06-28T13:28:37.392Z"
   },
   {
    "duration": 611,
    "start_time": "2021-06-28T13:29:18.108Z"
   },
   {
    "duration": 623,
    "start_time": "2021-06-28T13:29:41.855Z"
   },
   {
    "duration": 812,
    "start_time": "2021-06-28T13:35:26.822Z"
   },
   {
    "duration": 28,
    "start_time": "2021-06-28T13:36:41.266Z"
   },
   {
    "duration": 358,
    "start_time": "2021-06-28T14:00:29.679Z"
   },
   {
    "duration": 27,
    "start_time": "2021-06-28T14:00:39.121Z"
   },
   {
    "duration": 40,
    "start_time": "2021-06-28T14:00:40.273Z"
   },
   {
    "duration": 19,
    "start_time": "2021-06-28T14:00:57.503Z"
   },
   {
    "duration": 23,
    "start_time": "2021-06-28T14:02:02.510Z"
   },
   {
    "duration": 158,
    "start_time": "2021-06-28T14:03:13.402Z"
   },
   {
    "duration": 23,
    "start_time": "2021-06-28T14:03:21.453Z"
   },
   {
    "duration": 383,
    "start_time": "2021-06-28T14:06:14.359Z"
   },
   {
    "duration": 23,
    "start_time": "2021-06-28T14:06:28.717Z"
   },
   {
    "duration": 1458,
    "start_time": "2021-06-28T14:07:14.662Z"
   },
   {
    "duration": 1394,
    "start_time": "2021-06-28T14:07:48.730Z"
   },
   {
    "duration": 31,
    "start_time": "2021-06-28T14:09:11.107Z"
   },
   {
    "duration": 1508,
    "start_time": "2021-06-28T14:11:07.298Z"
   },
   {
    "duration": 1390,
    "start_time": "2021-06-28T14:11:31.080Z"
   },
   {
    "duration": 26,
    "start_time": "2021-06-28T14:11:38.670Z"
   },
   {
    "duration": 25,
    "start_time": "2021-06-28T14:12:52.448Z"
   },
   {
    "duration": 1316,
    "start_time": "2021-06-28T14:13:55.193Z"
   },
   {
    "duration": 28,
    "start_time": "2021-06-28T14:14:36.655Z"
   },
   {
    "duration": 24,
    "start_time": "2021-06-28T14:15:59.329Z"
   },
   {
    "duration": 112,
    "start_time": "2021-06-28T14:19:32.554Z"
   },
   {
    "duration": 367,
    "start_time": "2021-06-28T14:19:46.258Z"
   },
   {
    "duration": 10,
    "start_time": "2021-06-28T14:21:06.838Z"
   },
   {
    "duration": 12,
    "start_time": "2021-06-28T14:21:15.455Z"
   },
   {
    "duration": 15,
    "start_time": "2021-06-28T14:24:42.837Z"
   },
   {
    "duration": 17,
    "start_time": "2021-06-28T14:24:56.681Z"
   },
   {
    "duration": 6,
    "start_time": "2021-06-28T14:25:00.111Z"
   },
   {
    "duration": 323,
    "start_time": "2021-06-28T14:25:14.139Z"
   },
   {
    "duration": 5,
    "start_time": "2021-06-28T14:25:26.263Z"
   },
   {
    "duration": 350,
    "start_time": "2021-06-28T14:25:34.117Z"
   },
   {
    "duration": 4,
    "start_time": "2021-06-28T14:25:38.452Z"
   },
   {
    "duration": 4,
    "start_time": "2021-06-28T14:25:56.519Z"
   },
   {
    "duration": 5,
    "start_time": "2021-06-28T14:30:35.471Z"
   },
   {
    "duration": 31,
    "start_time": "2021-06-28T14:34:19.709Z"
   },
   {
    "duration": 25,
    "start_time": "2021-06-28T15:18:53.406Z"
   },
   {
    "duration": 37,
    "start_time": "2021-06-28T15:19:25.508Z"
   },
   {
    "duration": 976,
    "start_time": "2021-06-28T15:22:06.608Z"
   },
   {
    "duration": 659,
    "start_time": "2021-06-28T15:23:27.739Z"
   },
   {
    "duration": 684,
    "start_time": "2021-06-28T15:23:45.061Z"
   },
   {
    "duration": 693,
    "start_time": "2021-06-28T15:28:38.691Z"
   },
   {
    "duration": 696,
    "start_time": "2021-06-28T15:31:24.266Z"
   },
   {
    "duration": 692,
    "start_time": "2021-06-28T15:46:14.408Z"
   },
   {
    "duration": 24,
    "start_time": "2021-06-28T15:46:36.704Z"
   },
   {
    "duration": 370,
    "start_time": "2021-06-28T15:46:38.145Z"
   },
   {
    "duration": 707,
    "start_time": "2021-06-28T15:47:35.436Z"
   },
   {
    "duration": 19,
    "start_time": "2021-06-28T15:52:44.378Z"
   },
   {
    "duration": 19,
    "start_time": "2021-06-28T15:54:00.764Z"
   },
   {
    "duration": 31,
    "start_time": "2021-06-28T16:49:59.605Z"
   },
   {
    "duration": 847,
    "start_time": "2021-06-28T16:50:55.137Z"
   },
   {
    "duration": 8,
    "start_time": "2021-06-28T16:51:35.233Z"
   },
   {
    "duration": 9,
    "start_time": "2021-06-28T17:24:28.162Z"
   },
   {
    "duration": 1962,
    "start_time": "2021-06-28T19:20:31.324Z"
   },
   {
    "duration": 55,
    "start_time": "2021-06-28T19:20:33.289Z"
   },
   {
    "duration": 22,
    "start_time": "2021-06-28T19:20:33.348Z"
   },
   {
    "duration": 16,
    "start_time": "2021-06-28T19:20:33.373Z"
   },
   {
    "duration": 31,
    "start_time": "2021-06-28T19:20:33.392Z"
   },
   {
    "duration": 45,
    "start_time": "2021-06-28T19:20:33.426Z"
   },
   {
    "duration": 12,
    "start_time": "2021-06-28T19:20:33.473Z"
   },
   {
    "duration": 11,
    "start_time": "2021-06-28T19:20:33.489Z"
   },
   {
    "duration": 9,
    "start_time": "2021-06-28T19:20:33.503Z"
   },
   {
    "duration": 10,
    "start_time": "2021-06-28T19:20:33.515Z"
   },
   {
    "duration": 9,
    "start_time": "2021-06-28T19:20:33.563Z"
   },
   {
    "duration": 13,
    "start_time": "2021-06-28T19:20:33.576Z"
   },
   {
    "duration": 7,
    "start_time": "2021-06-28T19:20:33.592Z"
   },
   {
    "duration": 66,
    "start_time": "2021-06-28T19:20:33.602Z"
   },
   {
    "duration": 8,
    "start_time": "2021-06-28T19:20:33.671Z"
   },
   {
    "duration": 21,
    "start_time": "2021-06-28T19:20:33.682Z"
   },
   {
    "duration": 15,
    "start_time": "2021-06-28T19:20:33.705Z"
   },
   {
    "duration": 46,
    "start_time": "2021-06-28T19:20:33.722Z"
   },
   {
    "duration": 16,
    "start_time": "2021-06-28T19:20:33.770Z"
   },
   {
    "duration": 10,
    "start_time": "2021-06-28T19:20:33.788Z"
   },
   {
    "duration": 3,
    "start_time": "2021-06-28T19:20:33.800Z"
   },
   {
    "duration": 84,
    "start_time": "2021-06-28T19:20:33.805Z"
   },
   {
    "duration": 9,
    "start_time": "2021-06-28T19:20:33.895Z"
   },
   {
    "duration": 28,
    "start_time": "2021-06-28T19:20:33.907Z"
   },
   {
    "duration": 598,
    "start_time": "2021-06-28T19:20:33.938Z"
   },
   {
    "duration": 35,
    "start_time": "2021-06-28T19:20:34.539Z"
   },
   {
    "duration": 340,
    "start_time": "2021-06-28T19:20:34.576Z"
   },
   {
    "duration": 48,
    "start_time": "2021-06-28T19:20:34.919Z"
   },
   {
    "duration": 579,
    "start_time": "2021-06-28T19:20:34.970Z"
   },
   {
    "duration": 594,
    "start_time": "2021-06-28T19:20:35.552Z"
   },
   {
    "duration": 27,
    "start_time": "2021-06-28T19:20:36.148Z"
   },
   {
    "duration": 2042,
    "start_time": "2021-06-28T19:20:36.178Z"
   },
   {
    "duration": 6,
    "start_time": "2021-06-28T19:20:38.223Z"
   },
   {
    "duration": 10,
    "start_time": "2021-06-28T19:20:38.231Z"
   },
   {
    "duration": 22,
    "start_time": "2021-06-28T19:20:38.244Z"
   },
   {
    "duration": 23,
    "start_time": "2021-06-28T19:20:38.268Z"
   },
   {
    "duration": 167,
    "start_time": "2021-06-28T19:20:38.293Z"
   },
   {
    "duration": 749,
    "start_time": "2021-06-28T19:20:38.463Z"
   },
   {
    "duration": 288,
    "start_time": "2021-06-28T19:20:39.216Z"
   },
   {
    "duration": 14,
    "start_time": "2021-06-28T19:20:39.508Z"
   },
   {
    "duration": 54,
    "start_time": "2021-06-28T19:20:39.525Z"
   },
   {
    "duration": 990,
    "start_time": "2021-06-28T19:20:39.582Z"
   },
   {
    "duration": 1113,
    "start_time": "2021-06-28T19:20:40.575Z"
   },
   {
    "duration": 25,
    "start_time": "2021-06-28T19:20:41.690Z"
   },
   {
    "duration": 8,
    "start_time": "2021-06-28T19:20:41.718Z"
   },
   {
    "duration": 53,
    "start_time": "2021-06-28T19:20:41.728Z"
   },
   {
    "duration": 20,
    "start_time": "2021-06-28T19:20:41.784Z"
   },
   {
    "duration": 7,
    "start_time": "2021-06-28T19:20:41.806Z"
   },
   {
    "duration": 62,
    "start_time": "2021-06-28T19:20:41.815Z"
   },
   {
    "duration": 8,
    "start_time": "2021-06-28T19:20:41.879Z"
   },
   {
    "duration": 777,
    "start_time": "2021-06-28T19:20:41.889Z"
   },
   {
    "duration": 26,
    "start_time": "2021-06-28T19:20:42.669Z"
   },
   {
    "duration": 628,
    "start_time": "2021-06-28T19:20:42.698Z"
   },
   {
    "duration": 13,
    "start_time": "2021-06-28T19:20:43.329Z"
   },
   {
    "duration": 69,
    "start_time": "2021-06-29T17:39:22.657Z"
   }
  ],
  "kernelspec": {
   "display_name": "Python 3",
   "language": "python",
   "name": "python3"
  },
  "language_info": {
   "codemirror_mode": {
    "name": "ipython",
    "version": 3
   },
   "file_extension": ".py",
   "mimetype": "text/x-python",
   "name": "python",
   "nbconvert_exporter": "python",
   "pygments_lexer": "ipython3",
   "version": "3.8.8"
  },
  "toc": {
   "base_numbering": 1,
   "nav_menu": {},
   "number_sections": false,
   "sideBar": true,
   "skip_h1_title": true,
   "title_cell": "ТЕМА: Рынок заведений общественного питания Москвы",
   "title_sidebar": "Содержание",
   "toc_cell": false,
   "toc_position": {
    "height": "calc(100% - 180px)",
    "left": "10px",
    "top": "150px",
    "width": "285.99px"
   },
   "toc_section_display": true,
   "toc_window_display": false
  }
 },
 "nbformat": 4,
 "nbformat_minor": 2
}
